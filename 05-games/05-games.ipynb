{
 "cells": [
  {
   "cell_type": "markdown",
   "id": "8c9719a4",
   "metadata": {},
   "source": [
    "# Иследование игр\n",
    "\n",
    "В нашем распоряжении исторические данные о продажах компьютерных игр по всему миру, оценки пользователей и экспертов, жанры, платформы. Данные покрывают период до 2016 года. Необходимо спланировать маркетинговую кампанию на 2017 год на основе данных за прошлые периоды с возможностью переиспользования в следующих периодах. \n",
    "\n",
    "**Цель исследования**\n",
    "\n",
    "Для планирования маркетинговой кампании нужно выявить закономерности, определяющие успешность игры.\n",
    "\n",
    "**Ход исследования**\n",
    "\n",
    "О качестве данных ничего не известно. Проверим данные на ошибки, аномалии, наличие дублей, пропусков и оценим их влияние на исследование. Затем на этапе предобработки исправим самые критичные ошибки данных, если это возможно.\n",
    "\n",
    "Таким образом, исследование пройдёт в три этапа:\n",
    "\n",
    "- Обзор данных.\n",
    "- Предобработка данных.\n",
    "- Исследовательский анализ данных, выявлений зависимостей и корреляций.\n",
    "- Формулирование и проверка гипотез"
   ]
  },
  {
   "cell_type": "markdown",
   "id": "1d1ba576",
   "metadata": {},
   "source": [
    "# Изучение общей информации"
   ]
  },
  {
   "cell_type": "code",
   "execution_count": 1,
   "id": "4879310d",
   "metadata": {},
   "outputs": [],
   "source": [
    "# импорт необходимых библиотек\n",
    "import pandas as pd\n",
    "import matplotlib.pyplot as plt\n",
    "import os\n",
    "import numpy as np\n",
    "from textwrap import dedent\n",
    "from IPython import get_ipython\n",
    "from scipy import stats as st\n",
    "import seaborn as sns"
   ]
  },
  {
   "cell_type": "code",
   "execution_count": 2,
   "id": "ebb4320f",
   "metadata": {},
   "outputs": [
    {
     "data": {
      "text/html": [
       "<div>\n",
       "<style scoped>\n",
       "    .dataframe tbody tr th:only-of-type {\n",
       "        vertical-align: middle;\n",
       "    }\n",
       "\n",
       "    .dataframe tbody tr th {\n",
       "        vertical-align: top;\n",
       "    }\n",
       "\n",
       "    .dataframe thead th {\n",
       "        text-align: right;\n",
       "    }\n",
       "</style>\n",
       "<table border=\"1\" class=\"dataframe\">\n",
       "  <thead>\n",
       "    <tr style=\"text-align: right;\">\n",
       "      <th></th>\n",
       "      <th>Name</th>\n",
       "      <th>Platform</th>\n",
       "      <th>Year_of_Release</th>\n",
       "      <th>Genre</th>\n",
       "      <th>NA_sales</th>\n",
       "      <th>EU_sales</th>\n",
       "      <th>JP_sales</th>\n",
       "      <th>Other_sales</th>\n",
       "      <th>Critic_Score</th>\n",
       "      <th>User_Score</th>\n",
       "      <th>Rating</th>\n",
       "    </tr>\n",
       "  </thead>\n",
       "  <tbody>\n",
       "    <tr>\n",
       "      <th>0</th>\n",
       "      <td>Wii Sports</td>\n",
       "      <td>Wii</td>\n",
       "      <td>2006.0</td>\n",
       "      <td>Sports</td>\n",
       "      <td>41.36</td>\n",
       "      <td>28.96</td>\n",
       "      <td>3.77</td>\n",
       "      <td>8.45</td>\n",
       "      <td>76.0</td>\n",
       "      <td>8</td>\n",
       "      <td>E</td>\n",
       "    </tr>\n",
       "    <tr>\n",
       "      <th>1</th>\n",
       "      <td>Super Mario Bros.</td>\n",
       "      <td>NES</td>\n",
       "      <td>1985.0</td>\n",
       "      <td>Platform</td>\n",
       "      <td>29.08</td>\n",
       "      <td>3.58</td>\n",
       "      <td>6.81</td>\n",
       "      <td>0.77</td>\n",
       "      <td>NaN</td>\n",
       "      <td>NaN</td>\n",
       "      <td>NaN</td>\n",
       "    </tr>\n",
       "    <tr>\n",
       "      <th>2</th>\n",
       "      <td>Mario Kart Wii</td>\n",
       "      <td>Wii</td>\n",
       "      <td>2008.0</td>\n",
       "      <td>Racing</td>\n",
       "      <td>15.68</td>\n",
       "      <td>12.76</td>\n",
       "      <td>3.79</td>\n",
       "      <td>3.29</td>\n",
       "      <td>82.0</td>\n",
       "      <td>8.3</td>\n",
       "      <td>E</td>\n",
       "    </tr>\n",
       "    <tr>\n",
       "      <th>3</th>\n",
       "      <td>Wii Sports Resort</td>\n",
       "      <td>Wii</td>\n",
       "      <td>2009.0</td>\n",
       "      <td>Sports</td>\n",
       "      <td>15.61</td>\n",
       "      <td>10.93</td>\n",
       "      <td>3.28</td>\n",
       "      <td>2.95</td>\n",
       "      <td>80.0</td>\n",
       "      <td>8</td>\n",
       "      <td>E</td>\n",
       "    </tr>\n",
       "    <tr>\n",
       "      <th>4</th>\n",
       "      <td>Pokemon Red/Pokemon Blue</td>\n",
       "      <td>GB</td>\n",
       "      <td>1996.0</td>\n",
       "      <td>Role-Playing</td>\n",
       "      <td>11.27</td>\n",
       "      <td>8.89</td>\n",
       "      <td>10.22</td>\n",
       "      <td>1.00</td>\n",
       "      <td>NaN</td>\n",
       "      <td>NaN</td>\n",
       "      <td>NaN</td>\n",
       "    </tr>\n",
       "    <tr>\n",
       "      <th>...</th>\n",
       "      <td>...</td>\n",
       "      <td>...</td>\n",
       "      <td>...</td>\n",
       "      <td>...</td>\n",
       "      <td>...</td>\n",
       "      <td>...</td>\n",
       "      <td>...</td>\n",
       "      <td>...</td>\n",
       "      <td>...</td>\n",
       "      <td>...</td>\n",
       "      <td>...</td>\n",
       "    </tr>\n",
       "    <tr>\n",
       "      <th>16710</th>\n",
       "      <td>Samurai Warriors: Sanada Maru</td>\n",
       "      <td>PS3</td>\n",
       "      <td>2016.0</td>\n",
       "      <td>Action</td>\n",
       "      <td>0.00</td>\n",
       "      <td>0.00</td>\n",
       "      <td>0.01</td>\n",
       "      <td>0.00</td>\n",
       "      <td>NaN</td>\n",
       "      <td>NaN</td>\n",
       "      <td>NaN</td>\n",
       "    </tr>\n",
       "    <tr>\n",
       "      <th>16711</th>\n",
       "      <td>LMA Manager 2007</td>\n",
       "      <td>X360</td>\n",
       "      <td>2006.0</td>\n",
       "      <td>Sports</td>\n",
       "      <td>0.00</td>\n",
       "      <td>0.01</td>\n",
       "      <td>0.00</td>\n",
       "      <td>0.00</td>\n",
       "      <td>NaN</td>\n",
       "      <td>NaN</td>\n",
       "      <td>NaN</td>\n",
       "    </tr>\n",
       "    <tr>\n",
       "      <th>16712</th>\n",
       "      <td>Haitaka no Psychedelica</td>\n",
       "      <td>PSV</td>\n",
       "      <td>2016.0</td>\n",
       "      <td>Adventure</td>\n",
       "      <td>0.00</td>\n",
       "      <td>0.00</td>\n",
       "      <td>0.01</td>\n",
       "      <td>0.00</td>\n",
       "      <td>NaN</td>\n",
       "      <td>NaN</td>\n",
       "      <td>NaN</td>\n",
       "    </tr>\n",
       "    <tr>\n",
       "      <th>16713</th>\n",
       "      <td>Spirits &amp; Spells</td>\n",
       "      <td>GBA</td>\n",
       "      <td>2003.0</td>\n",
       "      <td>Platform</td>\n",
       "      <td>0.01</td>\n",
       "      <td>0.00</td>\n",
       "      <td>0.00</td>\n",
       "      <td>0.00</td>\n",
       "      <td>NaN</td>\n",
       "      <td>NaN</td>\n",
       "      <td>NaN</td>\n",
       "    </tr>\n",
       "    <tr>\n",
       "      <th>16714</th>\n",
       "      <td>Winning Post 8 2016</td>\n",
       "      <td>PSV</td>\n",
       "      <td>2016.0</td>\n",
       "      <td>Simulation</td>\n",
       "      <td>0.00</td>\n",
       "      <td>0.00</td>\n",
       "      <td>0.01</td>\n",
       "      <td>0.00</td>\n",
       "      <td>NaN</td>\n",
       "      <td>NaN</td>\n",
       "      <td>NaN</td>\n",
       "    </tr>\n",
       "  </tbody>\n",
       "</table>\n",
       "<p>16715 rows × 11 columns</p>\n",
       "</div>"
      ],
      "text/plain": [
       "                                Name Platform  Year_of_Release         Genre  \\\n",
       "0                         Wii Sports      Wii           2006.0        Sports   \n",
       "1                  Super Mario Bros.      NES           1985.0      Platform   \n",
       "2                     Mario Kart Wii      Wii           2008.0        Racing   \n",
       "3                  Wii Sports Resort      Wii           2009.0        Sports   \n",
       "4           Pokemon Red/Pokemon Blue       GB           1996.0  Role-Playing   \n",
       "...                              ...      ...              ...           ...   \n",
       "16710  Samurai Warriors: Sanada Maru      PS3           2016.0        Action   \n",
       "16711               LMA Manager 2007     X360           2006.0        Sports   \n",
       "16712        Haitaka no Psychedelica      PSV           2016.0     Adventure   \n",
       "16713               Spirits & Spells      GBA           2003.0      Platform   \n",
       "16714            Winning Post 8 2016      PSV           2016.0    Simulation   \n",
       "\n",
       "       NA_sales  EU_sales  JP_sales  Other_sales  Critic_Score User_Score  \\\n",
       "0         41.36     28.96      3.77         8.45          76.0          8   \n",
       "1         29.08      3.58      6.81         0.77           NaN        NaN   \n",
       "2         15.68     12.76      3.79         3.29          82.0        8.3   \n",
       "3         15.61     10.93      3.28         2.95          80.0          8   \n",
       "4         11.27      8.89     10.22         1.00           NaN        NaN   \n",
       "...         ...       ...       ...          ...           ...        ...   \n",
       "16710      0.00      0.00      0.01         0.00           NaN        NaN   \n",
       "16711      0.00      0.01      0.00         0.00           NaN        NaN   \n",
       "16712      0.00      0.00      0.01         0.00           NaN        NaN   \n",
       "16713      0.01      0.00      0.00         0.00           NaN        NaN   \n",
       "16714      0.00      0.00      0.01         0.00           NaN        NaN   \n",
       "\n",
       "      Rating  \n",
       "0          E  \n",
       "1        NaN  \n",
       "2          E  \n",
       "3          E  \n",
       "4        NaN  \n",
       "...      ...  \n",
       "16710    NaN  \n",
       "16711    NaN  \n",
       "16712    NaN  \n",
       "16713    NaN  \n",
       "16714    NaN  \n",
       "\n",
       "[16715 rows x 11 columns]"
      ]
     },
     "execution_count": 2,
     "metadata": {},
     "output_type": "execute_result"
    }
   ],
   "source": [
    "if os.path.exists('/datasets/games.csv'):\n",
    "    data = pd.read_csv('/datasets/games.csv')\n",
    "else:\n",
    "    data = pd.read_csv('games.csv')\n",
    "\n",
    "data"
   ]
  },
  {
   "cell_type": "markdown",
   "id": "c42773c9",
   "metadata": {},
   "source": [
    "Выведем общую информацию по таблице."
   ]
  },
  {
   "cell_type": "code",
   "execution_count": 3,
   "id": "f4d932f4",
   "metadata": {},
   "outputs": [
    {
     "name": "stdout",
     "output_type": "stream",
     "text": [
      "<class 'pandas.core.frame.DataFrame'>\n",
      "RangeIndex: 16715 entries, 0 to 16714\n",
      "Data columns (total 11 columns):\n",
      " #   Column           Non-Null Count  Dtype  \n",
      "---  ------           --------------  -----  \n",
      " 0   Name             16713 non-null  object \n",
      " 1   Platform         16715 non-null  object \n",
      " 2   Year_of_Release  16446 non-null  float64\n",
      " 3   Genre            16713 non-null  object \n",
      " 4   NA_sales         16715 non-null  float64\n",
      " 5   EU_sales         16715 non-null  float64\n",
      " 6   JP_sales         16715 non-null  float64\n",
      " 7   Other_sales      16715 non-null  float64\n",
      " 8   Critic_Score     8137 non-null   float64\n",
      " 9   User_Score       10014 non-null  object \n",
      " 10  Rating           9949 non-null   object \n",
      "dtypes: float64(6), object(5)\n",
      "memory usage: 1.4+ MB\n"
     ]
    }
   ],
   "source": [
    "data.info()"
   ]
  },
  {
   "cell_type": "markdown",
   "id": "cdde0e2d",
   "metadata": {},
   "source": [
    "Построим гистограммы по каждому столбцу."
   ]
  },
  {
   "cell_type": "code",
   "execution_count": 4,
   "id": "a4b70e05",
   "metadata": {},
   "outputs": [
    {
     "data": {
      "image/png": "[encoded data removed]",
      "text/plain": [
       "<Figure size 1080x1440 with 6 Axes>"
      ]
     },
     "metadata": {
      "needs_background": "light"
     },
     "output_type": "display_data"
    }
   ],
   "source": [
    "data.hist(figsize=(15, 20));"
   ]
  },
  {
   "cell_type": "markdown",
   "id": "11c81c68",
   "metadata": {},
   "source": [
    "<div>\n",
    "В датасете данные представлены с 1980 по 2016 год. В колонках с оценками пользователей, критиков и рейтингом ESRB есть много пропущенных значений. Также есть немного пропусков в столбцах с именем игры и годом выпуска.\n",
    "<div>Оценка критиков - по 100-бальной шкале. </div>\n",
    "<div>Оценка пользователей содержит строки, хотя по первым и последним строкам можно предположить, что оценка 10-бальная, возможно есть некорректные значения. </div>\n",
    "<div>Судя по гистограммам, больше всего продаж в регионе Северная Америка, затем идет Европа, Япония и остальной мир.</div>"
   ]
  },
  {
   "cell_type": "markdown",
   "id": "91b73702",
   "metadata": {},
   "source": [
    "# Предобработка данных"
   ]
  },
  {
   "cell_type": "markdown",
   "id": "1abbaf2c",
   "metadata": {},
   "source": [
    "## Обработка пропусков, обработка дублей и изменение типов данных"
   ]
  },
  {
   "cell_type": "markdown",
   "id": "e41579e9",
   "metadata": {},
   "source": [
    "Переименуем колонки."
   ]
  },
  {
   "cell_type": "code",
   "execution_count": 5,
   "id": "1c49b2d4",
   "metadata": {},
   "outputs": [],
   "source": [
    "data = data.rename(columns={'Name': 'name', 'Platform': 'platform', \\\n",
    "                            'Year_of_Release': 'year_of_release', \\\n",
    "                            'Genre': 'genre', 'NA_sales': 'na_sales', \\\n",
    "                            'EU_sales': 'eu_sales', 'JP_sales': 'jp_sales', \\\n",
    "                            'Other_sales': 'other_sales', 'Critic_Score': 'critic_score', \\\n",
    "                            'User_Score': 'user_score', 'Rating': 'rating'}) "
   ]
  },
  {
   "cell_type": "markdown",
   "id": "22545c49",
   "metadata": {},
   "source": [
    "Проверим данные на дубли."
   ]
  },
  {
   "cell_type": "code",
   "execution_count": 6,
   "id": "1e1ee217",
   "metadata": {},
   "outputs": [
    {
     "data": {
      "text/plain": [
       "0"
      ]
     },
     "execution_count": 6,
     "metadata": {},
     "output_type": "execute_result"
    }
   ],
   "source": [
    "data.duplicated().sum()"
   ]
  },
  {
   "cell_type": "markdown",
   "id": "8ec598ee",
   "metadata": {},
   "source": [
    "Явных дублей нет. Проверим, нет ли неявных дублей в колонках с жанрами и платформами."
   ]
  },
  {
   "cell_type": "code",
   "execution_count": 7,
   "id": "09f72823",
   "metadata": {},
   "outputs": [
    {
     "data": {
      "text/plain": [
       "array(['Sports', 'Platform', 'Racing', 'Role-Playing', 'Puzzle', 'Misc',\n",
       "       'Shooter', 'Simulation', 'Action', 'Fighting', 'Adventure',\n",
       "       'Strategy', nan], dtype=object)"
      ]
     },
     "execution_count": 7,
     "metadata": {},
     "output_type": "execute_result"
    }
   ],
   "source": [
    "data['genre'].unique()"
   ]
  },
  {
   "cell_type": "code",
   "execution_count": 8,
   "id": "a3278d60",
   "metadata": {},
   "outputs": [
    {
     "data": {
      "text/plain": [
       "array(['Wii', 'NES', 'GB', 'DS', 'X360', 'PS3', 'PS2', 'SNES', 'GBA',\n",
       "       'PS4', '3DS', 'N64', 'PS', 'XB', 'PC', '2600', 'PSP', 'XOne',\n",
       "       'WiiU', 'GC', 'GEN', 'DC', 'PSV', 'SAT', 'SCD', 'WS', 'NG', 'TG16',\n",
       "       '3DO', 'GG', 'PCFX'], dtype=object)"
      ]
     },
     "execution_count": 8,
     "metadata": {},
     "output_type": "execute_result"
    }
   ],
   "source": [
    "data['platform'].unique()"
   ]
  },
  {
   "cell_type": "code",
   "execution_count": 9,
   "id": "359aafff",
   "metadata": {},
   "outputs": [
    {
     "data": {
      "text/plain": [
       "array(['E', nan, 'M', 'T', 'E10+', 'K-A', 'AO', 'EC', 'RP'], dtype=object)"
      ]
     },
     "execution_count": 9,
     "metadata": {},
     "output_type": "execute_result"
    }
   ],
   "source": [
    "data['rating'].unique()"
   ]
  },
  {
   "cell_type": "markdown",
   "id": "b0495117",
   "metadata": {},
   "source": [
    "Неявных дублей также нет."
   ]
  },
  {
   "cell_type": "markdown",
   "id": "f5b82dad",
   "metadata": {},
   "source": [
    "Выведем количество пропущенных значений для каждого столбца."
   ]
  },
  {
   "cell_type": "code",
   "execution_count": 10,
   "id": "e565ad01",
   "metadata": {},
   "outputs": [
    {
     "data": {
      "text/html": [
       "<style  type=\"text/css\" >\n",
       "#T_140af_row0_col0,#T_140af_row1_col0,#T_140af_row3_col0,#T_140af_row4_col0,#T_140af_row5_col0,#T_140af_row6_col0,#T_140af_row7_col0{\n",
       "            background-color:  #3b4cc0;\n",
       "            color:  #f1f1f1;\n",
       "        }#T_140af_row2_col0{\n",
       "            background-color:  #465ecf;\n",
       "            color:  #f1f1f1;\n",
       "        }#T_140af_row8_col0{\n",
       "            background-color:  #b40426;\n",
       "            color:  #f1f1f1;\n",
       "        }#T_140af_row9_col0,#T_140af_row10_col0{\n",
       "            background-color:  #f08b6e;\n",
       "            color:  #000000;\n",
       "        }</style><table id=\"T_140af_\" ><thead>    <tr>        <th class=\"blank level0\" ></th>        <th class=\"col_heading level0 col0\" >0</th>    </tr></thead><tbody>\n",
       "                <tr>\n",
       "                        <th id=\"T_140af_level0_row0\" class=\"row_heading level0 row0\" >name</th>\n",
       "                        <td id=\"T_140af_row0_col0\" class=\"data row0 col0\" >0.000000</td>\n",
       "            </tr>\n",
       "            <tr>\n",
       "                        <th id=\"T_140af_level0_row1\" class=\"row_heading level0 row1\" >platform</th>\n",
       "                        <td id=\"T_140af_row1_col0\" class=\"data row1 col0\" >0.000000</td>\n",
       "            </tr>\n",
       "            <tr>\n",
       "                        <th id=\"T_140af_level0_row2\" class=\"row_heading level0 row2\" >year_of_release</th>\n",
       "                        <td id=\"T_140af_row2_col0\" class=\"data row2 col0\" >2.000000</td>\n",
       "            </tr>\n",
       "            <tr>\n",
       "                        <th id=\"T_140af_level0_row3\" class=\"row_heading level0 row3\" >genre</th>\n",
       "                        <td id=\"T_140af_row3_col0\" class=\"data row3 col0\" >0.000000</td>\n",
       "            </tr>\n",
       "            <tr>\n",
       "                        <th id=\"T_140af_level0_row4\" class=\"row_heading level0 row4\" >na_sales</th>\n",
       "                        <td id=\"T_140af_row4_col0\" class=\"data row4 col0\" >0.000000</td>\n",
       "            </tr>\n",
       "            <tr>\n",
       "                        <th id=\"T_140af_level0_row5\" class=\"row_heading level0 row5\" >eu_sales</th>\n",
       "                        <td id=\"T_140af_row5_col0\" class=\"data row5 col0\" >0.000000</td>\n",
       "            </tr>\n",
       "            <tr>\n",
       "                        <th id=\"T_140af_level0_row6\" class=\"row_heading level0 row6\" >jp_sales</th>\n",
       "                        <td id=\"T_140af_row6_col0\" class=\"data row6 col0\" >0.000000</td>\n",
       "            </tr>\n",
       "            <tr>\n",
       "                        <th id=\"T_140af_level0_row7\" class=\"row_heading level0 row7\" >other_sales</th>\n",
       "                        <td id=\"T_140af_row7_col0\" class=\"data row7 col0\" >0.000000</td>\n",
       "            </tr>\n",
       "            <tr>\n",
       "                        <th id=\"T_140af_level0_row8\" class=\"row_heading level0 row8\" >critic_score</th>\n",
       "                        <td id=\"T_140af_row8_col0\" class=\"data row8 col0\" >51.000000</td>\n",
       "            </tr>\n",
       "            <tr>\n",
       "                        <th id=\"T_140af_level0_row9\" class=\"row_heading level0 row9\" >user_score</th>\n",
       "                        <td id=\"T_140af_row9_col0\" class=\"data row9 col0\" >40.000000</td>\n",
       "            </tr>\n",
       "            <tr>\n",
       "                        <th id=\"T_140af_level0_row10\" class=\"row_heading level0 row10\" >rating</th>\n",
       "                        <td id=\"T_140af_row10_col0\" class=\"data row10 col0\" >40.000000</td>\n",
       "            </tr>\n",
       "    </tbody></table>"
      ],
      "text/plain": [
       "<pandas.io.formats.style.Styler at 0x7fae939f2490>"
      ]
     },
     "execution_count": 10,
     "metadata": {},
     "output_type": "execute_result"
    }
   ],
   "source": [
    "pd.DataFrame(round(data.isna().mean()*100,)).style.background_gradient('coolwarm')"
   ]
  },
  {
   "cell_type": "markdown",
   "id": "69d9140e",
   "metadata": {},
   "source": [
    "Присутствуют пропуски в значимых для дальнейшего исследованиях столбцах: название игры, год выпуска."
   ]
  },
  {
   "cell_type": "code",
   "execution_count": 11,
   "id": "b01728a4",
   "metadata": {},
   "outputs": [
    {
     "name": "stdout",
     "output_type": "stream",
     "text": [
      "1.6093329344899843\n"
     ]
    }
   ],
   "source": [
    "print(100 - data['year_of_release'].count() / data['year_of_release'].shape[0] * 100)"
   ]
  },
  {
   "cell_type": "markdown",
   "id": "eb003798",
   "metadata": {},
   "source": [
    "Количество пропусков очень незначительное, поэтому удалим эти строки."
   ]
  },
  {
   "cell_type": "code",
   "execution_count": 12,
   "id": "b8c08ef3",
   "metadata": {},
   "outputs": [],
   "source": [
    "data = data.dropna(subset=['year_of_release', 'name']).reset_index()"
   ]
  },
  {
   "cell_type": "markdown",
   "id": "5d358d4e",
   "metadata": {},
   "source": [
    "<div> Много пропусков в столбцах с оценками критиков и пользователей, а также в столбце с рейтингом. Удалить строки с пропусками нельзя, поскольку строки с незаполненными оценками представляют существенную долю данных.</div>\n",
    "<div>Пропуски в этих столбцах могли возникнуть из-за особенностей сбора информации по оценкам и рейтингу. Рейтинг ESRB - это рейтинг игр, действующий в Канаде и США, для других регионов существуют свои рейтинговые организации. Поэтому если игра не продавалась в этом регионе, она может и не иметь рейтинга ESRB. </div>\n",
    "<div>По каким-то играм вполне может не быть оценки пользователей. Поскольку главным критерием успешности игры являются продажи, то пока не будем заполнять эти столбцы.</div>\n",
    "<div>К тому же в столбце с оценкой пользователей тип данных не соответствует числовому, возможно из-за того, что в нем присутствуют строки.</div>"
   ]
  },
  {
   "cell_type": "code",
   "execution_count": 13,
   "id": "017fdfb7",
   "metadata": {},
   "outputs": [
    {
     "data": {
      "text/plain": [
       "array(['8', nan, '8.3', '8.5', '6.6', '8.4', '8.6', '7.7', '6.3', '7.4',\n",
       "       '8.2', '9', '7.9', '8.1', '8.7', '7.1', '3.4', '5.3', '4.8', '3.2',\n",
       "       '8.9', '6.4', '7.8', '7.5', '2.6', '7.2', '9.2', '7', '7.3', '4.3',\n",
       "       '7.6', '5.7', '5', '9.1', '6.5', 'tbd', '8.8', '6.9', '9.4', '6.8',\n",
       "       '6.1', '6.7', '5.4', '4', '4.9', '4.5', '9.3', '6.2', '4.2', '6',\n",
       "       '3.7', '4.1', '5.8', '5.6', '5.5', '4.4', '4.6', '5.9', '3.9',\n",
       "       '3.1', '2.9', '5.2', '3.3', '4.7', '5.1', '3.5', '2.5', '1.9', '3',\n",
       "       '2.7', '2.2', '2', '9.5', '2.1', '3.6', '2.8', '1.8', '3.8', '0',\n",
       "       '1.6', '9.6', '2.4', '1.7', '1.1', '0.3', '1.5', '0.7', '1.2',\n",
       "       '2.3', '0.5', '1.3', '0.2', '0.6', '1.4', '0.9', '1', '9.7'],\n",
       "      dtype=object)"
      ]
     },
     "execution_count": 13,
     "metadata": {},
     "output_type": "execute_result"
    }
   ],
   "source": [
    "data['user_score'].unique()"
   ]
  },
  {
   "cell_type": "markdown",
   "id": "489d238d",
   "metadata": {},
   "source": [
    "Действительно в некоторых строках присутствует значение tbd, что означает оценка нуждается в уточнении ('to be determined'). Заменим такие значение на Nan. Также приведем тип столбца к вещественному."
   ]
  },
  {
   "cell_type": "code",
   "execution_count": 14,
   "id": "99ac2e2b",
   "metadata": {},
   "outputs": [],
   "source": [
    "data.loc[data['user_score'] == 'tbd', 'user_score'] = np.nan\n",
    "\n",
    "data['user_score'] = data['user_score'].astype('float')"
   ]
  },
  {
   "cell_type": "markdown",
   "id": "e0335f00",
   "metadata": {},
   "source": [
    "Колонка с годом релиза, напротив, не должна быть заполнена вещественными числами."
   ]
  },
  {
   "cell_type": "code",
   "execution_count": 15,
   "id": "4d595a26",
   "metadata": {},
   "outputs": [],
   "source": [
    "data['year_of_release'] = data['year_of_release'].astype('int')"
   ]
  },
  {
   "cell_type": "markdown",
   "id": "0dba93ef",
   "metadata": {},
   "source": [
    "Заменим пустые значения в рейтинге на аббревиатуру 'tbd'."
   ]
  },
  {
   "cell_type": "code",
   "execution_count": 16,
   "id": "2e52fb41",
   "metadata": {},
   "outputs": [],
   "source": [
    "data['rating'] = data['rating'].fillna('tbd')"
   ]
  },
  {
   "cell_type": "markdown",
   "id": "6fd5b904",
   "metadata": {},
   "source": [
    "Выведем статистическое описание данных для столбцов для поиска аномальных значений."
   ]
  },
  {
   "cell_type": "code",
   "execution_count": 17,
   "id": "d4246709",
   "metadata": {},
   "outputs": [
    {
     "data": {
      "text/html": [
       "<div>\n",
       "<style scoped>\n",
       "    .dataframe tbody tr th:only-of-type {\n",
       "        vertical-align: middle;\n",
       "    }\n",
       "\n",
       "    .dataframe tbody tr th {\n",
       "        vertical-align: top;\n",
       "    }\n",
       "\n",
       "    .dataframe thead th {\n",
       "        text-align: right;\n",
       "    }\n",
       "</style>\n",
       "<table border=\"1\" class=\"dataframe\">\n",
       "  <thead>\n",
       "    <tr style=\"text-align: right;\">\n",
       "      <th></th>\n",
       "      <th>count</th>\n",
       "      <th>mean</th>\n",
       "      <th>std</th>\n",
       "      <th>min</th>\n",
       "      <th>25%</th>\n",
       "      <th>50%</th>\n",
       "      <th>75%</th>\n",
       "      <th>max</th>\n",
       "    </tr>\n",
       "  </thead>\n",
       "  <tbody>\n",
       "    <tr>\n",
       "      <th>index</th>\n",
       "      <td>16444.0</td>\n",
       "      <td>8350.361226</td>\n",
       "      <td>4826.183870</td>\n",
       "      <td>0.0</td>\n",
       "      <td>4166.75</td>\n",
       "      <td>8354.50</td>\n",
       "      <td>12528.25</td>\n",
       "      <td>16714.00</td>\n",
       "    </tr>\n",
       "    <tr>\n",
       "      <th>year_of_release</th>\n",
       "      <td>16444.0</td>\n",
       "      <td>2006.486256</td>\n",
       "      <td>5.875525</td>\n",
       "      <td>1980.0</td>\n",
       "      <td>2003.00</td>\n",
       "      <td>2007.00</td>\n",
       "      <td>2010.00</td>\n",
       "      <td>2016.00</td>\n",
       "    </tr>\n",
       "    <tr>\n",
       "      <th>na_sales</th>\n",
       "      <td>16444.0</td>\n",
       "      <td>0.264012</td>\n",
       "      <td>0.818378</td>\n",
       "      <td>0.0</td>\n",
       "      <td>0.00</td>\n",
       "      <td>0.08</td>\n",
       "      <td>0.24</td>\n",
       "      <td>41.36</td>\n",
       "    </tr>\n",
       "    <tr>\n",
       "      <th>eu_sales</th>\n",
       "      <td>16444.0</td>\n",
       "      <td>0.145930</td>\n",
       "      <td>0.506716</td>\n",
       "      <td>0.0</td>\n",
       "      <td>0.00</td>\n",
       "      <td>0.02</td>\n",
       "      <td>0.11</td>\n",
       "      <td>28.96</td>\n",
       "    </tr>\n",
       "    <tr>\n",
       "      <th>jp_sales</th>\n",
       "      <td>16444.0</td>\n",
       "      <td>0.078487</td>\n",
       "      <td>0.311100</td>\n",
       "      <td>0.0</td>\n",
       "      <td>0.00</td>\n",
       "      <td>0.00</td>\n",
       "      <td>0.04</td>\n",
       "      <td>10.22</td>\n",
       "    </tr>\n",
       "    <tr>\n",
       "      <th>other_sales</th>\n",
       "      <td>16444.0</td>\n",
       "      <td>0.047594</td>\n",
       "      <td>0.188005</td>\n",
       "      <td>0.0</td>\n",
       "      <td>0.00</td>\n",
       "      <td>0.01</td>\n",
       "      <td>0.03</td>\n",
       "      <td>10.57</td>\n",
       "    </tr>\n",
       "    <tr>\n",
       "      <th>critic_score</th>\n",
       "      <td>7983.0</td>\n",
       "      <td>68.994363</td>\n",
       "      <td>13.920060</td>\n",
       "      <td>13.0</td>\n",
       "      <td>60.00</td>\n",
       "      <td>71.00</td>\n",
       "      <td>79.00</td>\n",
       "      <td>98.00</td>\n",
       "    </tr>\n",
       "    <tr>\n",
       "      <th>user_score</th>\n",
       "      <td>7463.0</td>\n",
       "      <td>7.126330</td>\n",
       "      <td>1.499447</td>\n",
       "      <td>0.0</td>\n",
       "      <td>6.40</td>\n",
       "      <td>7.50</td>\n",
       "      <td>8.20</td>\n",
       "      <td>9.70</td>\n",
       "    </tr>\n",
       "  </tbody>\n",
       "</table>\n",
       "</div>"
      ],
      "text/plain": [
       "                   count         mean          std     min      25%      50%  \\\n",
       "index            16444.0  8350.361226  4826.183870     0.0  4166.75  8354.50   \n",
       "year_of_release  16444.0  2006.486256     5.875525  1980.0  2003.00  2007.00   \n",
       "na_sales         16444.0     0.264012     0.818378     0.0     0.00     0.08   \n",
       "eu_sales         16444.0     0.145930     0.506716     0.0     0.00     0.02   \n",
       "jp_sales         16444.0     0.078487     0.311100     0.0     0.00     0.00   \n",
       "other_sales      16444.0     0.047594     0.188005     0.0     0.00     0.01   \n",
       "critic_score      7983.0    68.994363    13.920060    13.0    60.00    71.00   \n",
       "user_score        7463.0     7.126330     1.499447     0.0     6.40     7.50   \n",
       "\n",
       "                      75%       max  \n",
       "index            12528.25  16714.00  \n",
       "year_of_release   2010.00   2016.00  \n",
       "na_sales             0.24     41.36  \n",
       "eu_sales             0.11     28.96  \n",
       "jp_sales             0.04     10.22  \n",
       "other_sales          0.03     10.57  \n",
       "critic_score        79.00     98.00  \n",
       "user_score           8.20      9.70  "
      ]
     },
     "execution_count": 17,
     "metadata": {},
     "output_type": "execute_result"
    }
   ],
   "source": [
    "data.describe().T"
   ]
  },
  {
   "cell_type": "markdown",
   "id": "e8d5eaba",
   "metadata": {},
   "source": [
    "Значения находятся в адекватных пределах."
   ]
  },
  {
   "cell_type": "markdown",
   "id": "d77a351e",
   "metadata": {},
   "source": [
    "**Выводы**\n",
    "<div>\n",
    "В датасете данные представлены с 1980 по 2016 год. В колонках с оценками пользователей, критиков и рейтингом ESRB есть много пропущенных значений (40-50%), причиной тому может быть:</div>\n",
    "<div>1) ошибка сбора данных</div>\n",
    "<div>2) отсутствие оценки критиков и пользователей для непопулярной игры</div>\n",
    "<div>3) применительно к рейтингу - игра не проходила оценку организацией ESRB.</div>\n",
    "<div>Пользовательская оценка 10-ти бальнная. Оценка критиков - по 100-бальной шкале. </div>\n",
    "<div>Судя по гистограммам, больше всего продаж в регионе Северная Америка, затем идет Европа, Япония и остальной мир.</div>"
   ]
  },
  {
   "cell_type": "markdown",
   "id": "4c2ef7ba",
   "metadata": {},
   "source": [
    "# Анализ данных и составление портрета пользователя"
   ]
  },
  {
   "cell_type": "markdown",
   "id": "5400ec7b",
   "metadata": {},
   "source": [
    "Добавим новый столбец по общим продажам"
   ]
  },
  {
   "cell_type": "code",
   "execution_count": 18,
   "id": "c55c208a",
   "metadata": {},
   "outputs": [],
   "source": [
    "data['total_sales'] = data['na_sales'] + data['eu_sales'] + data['jp_sales'] + data['other_sales']"
   ]
  },
  {
   "cell_type": "markdown",
   "id": "c19b1218",
   "metadata": {},
   "source": [
    "## Анализ продаж игр по периодам, платформам и жанрам"
   ]
  },
  {
   "cell_type": "markdown",
   "id": "fa7858e3",
   "metadata": {},
   "source": [
    "Посмотрим, сколько игр выпускалось в разные годы."
   ]
  },
  {
   "cell_type": "code",
   "execution_count": 19,
   "id": "7641459a",
   "metadata": {},
   "outputs": [
    {
     "data": {
      "image/png": "[encoded data removed]",
      "text/plain": [
       "<Figure size 432x288 with 1 Axes>"
      ]
     },
     "metadata": {
      "needs_background": "light"
     },
     "output_type": "display_data"
    }
   ],
   "source": [
    "pt = pd.pivot_table(data, index='year_of_release',\n",
    "                   values='name',\n",
    "                   aggfunc='count')\n",
    "pt.plot(title='Динамика роста выпущенных игр по годам');"
   ]
  },
  {
   "cell_type": "markdown",
   "id": "39b36c46",
   "metadata": {},
   "source": [
    "Видно, что количество игр начало рост в 1990-е и индустрия переживала бурный рост в 2000-е. Затем количество игр начало снижаться, в 2012 количество игр упало в 2 раза по срвнению с 2011. В 2015 наметился рост. При этом видно, что в 2016 г. наблюдается спад по сравнению с 2015, что может говорить о том, что данные за 2016 неполные. Сами консоли и игры к ним принято дарить на праздники. Учитывая, что данные получены в декабре 2016, они могут не отражать традиционный подъем продаж к рождеству и новому году. \n",
    "В анализе лучше учитывать данные за три года: 2014 г., 2015 г. и 2016 г., т.к. в 2016 могли наметиться новые тренды."
   ]
  },
  {
   "cell_type": "code",
   "execution_count": 20,
   "id": "b0f2c83d",
   "metadata": {},
   "outputs": [
    {
     "data": {
      "text/html": [
       "<div>\n",
       "<style scoped>\n",
       "    .dataframe tbody tr th:only-of-type {\n",
       "        vertical-align: middle;\n",
       "    }\n",
       "\n",
       "    .dataframe tbody tr th {\n",
       "        vertical-align: top;\n",
       "    }\n",
       "\n",
       "    .dataframe thead th {\n",
       "        text-align: right;\n",
       "    }\n",
       "</style>\n",
       "<table border=\"1\" class=\"dataframe\">\n",
       "  <thead>\n",
       "    <tr style=\"text-align: right;\">\n",
       "      <th></th>\n",
       "      <th>platform</th>\n",
       "      <th>total_sales</th>\n",
       "    </tr>\n",
       "  </thead>\n",
       "  <tbody>\n",
       "    <tr>\n",
       "      <th>16</th>\n",
       "      <td>PS2</td>\n",
       "      <td>1233.56</td>\n",
       "    </tr>\n",
       "    <tr>\n",
       "      <th>28</th>\n",
       "      <td>X360</td>\n",
       "      <td>961.24</td>\n",
       "    </tr>\n",
       "    <tr>\n",
       "      <th>17</th>\n",
       "      <td>PS3</td>\n",
       "      <td>931.34</td>\n",
       "    </tr>\n",
       "    <tr>\n",
       "      <th>26</th>\n",
       "      <td>Wii</td>\n",
       "      <td>891.18</td>\n",
       "    </tr>\n",
       "    <tr>\n",
       "      <th>4</th>\n",
       "      <td>DS</td>\n",
       "      <td>802.78</td>\n",
       "    </tr>\n",
       "    <tr>\n",
       "      <th>15</th>\n",
       "      <td>PS</td>\n",
       "      <td>727.58</td>\n",
       "    </tr>\n",
       "    <tr>\n",
       "      <th>18</th>\n",
       "      <td>PS4</td>\n",
       "      <td>314.14</td>\n",
       "    </tr>\n",
       "    <tr>\n",
       "      <th>6</th>\n",
       "      <td>GBA</td>\n",
       "      <td>312.88</td>\n",
       "    </tr>\n",
       "    <tr>\n",
       "      <th>19</th>\n",
       "      <td>PSP</td>\n",
       "      <td>289.53</td>\n",
       "    </tr>\n",
       "    <tr>\n",
       "      <th>2</th>\n",
       "      <td>3DS</td>\n",
       "      <td>257.81</td>\n",
       "    </tr>\n",
       "  </tbody>\n",
       "</table>\n",
       "</div>"
      ],
      "text/plain": [
       "   platform  total_sales\n",
       "16      PS2      1233.56\n",
       "28     X360       961.24\n",
       "17      PS3       931.34\n",
       "26      Wii       891.18\n",
       "4        DS       802.78\n",
       "15       PS       727.58\n",
       "18      PS4       314.14\n",
       "6       GBA       312.88\n",
       "19      PSP       289.53\n",
       "2       3DS       257.81"
      ]
     },
     "execution_count": 20,
     "metadata": {},
     "output_type": "execute_result"
    }
   ],
   "source": [
    "pt = pd.pivot_table(data, index=['platform'],\n",
    "                   values='total_sales',\n",
    "                   aggfunc='sum').reset_index()\n",
    "pt = pt.sort_values(by='total_sales', ascending=False)\n",
    "pt.head(10)"
   ]
  },
  {
   "cell_type": "markdown",
   "id": "d97bbad7",
   "metadata": {},
   "source": [
    "Лидеры по продажам: PS2, X360, PS3, Wii и DS. Построим по ним распределение продаж по годам."
   ]
  },
  {
   "cell_type": "code",
   "execution_count": 21,
   "id": "1e65fb72",
   "metadata": {},
   "outputs": [
    {
     "data": {
      "text/html": [
       "<div>\n",
       "<style scoped>\n",
       "    .dataframe tbody tr th:only-of-type {\n",
       "        vertical-align: middle;\n",
       "    }\n",
       "\n",
       "    .dataframe tbody tr th {\n",
       "        vertical-align: top;\n",
       "    }\n",
       "\n",
       "    .dataframe thead th {\n",
       "        text-align: right;\n",
       "    }\n",
       "</style>\n",
       "<table border=\"1\" class=\"dataframe\">\n",
       "  <thead>\n",
       "    <tr style=\"text-align: right;\">\n",
       "      <th>platform</th>\n",
       "      <th>3DS</th>\n",
       "      <th>DS</th>\n",
       "      <th>GBA</th>\n",
       "      <th>PS</th>\n",
       "      <th>PS2</th>\n",
       "      <th>PS3</th>\n",
       "      <th>PS4</th>\n",
       "      <th>PSP</th>\n",
       "      <th>Wii</th>\n",
       "      <th>X360</th>\n",
       "    </tr>\n",
       "    <tr>\n",
       "      <th>year_of_release</th>\n",
       "      <th></th>\n",
       "      <th></th>\n",
       "      <th></th>\n",
       "      <th></th>\n",
       "      <th></th>\n",
       "      <th></th>\n",
       "      <th></th>\n",
       "      <th></th>\n",
       "      <th></th>\n",
       "      <th></th>\n",
       "    </tr>\n",
       "  </thead>\n",
       "  <tbody>\n",
       "    <tr>\n",
       "      <th>1985</th>\n",
       "      <td>NaN</td>\n",
       "      <td>0.02</td>\n",
       "      <td>NaN</td>\n",
       "      <td>NaN</td>\n",
       "      <td>NaN</td>\n",
       "      <td>NaN</td>\n",
       "      <td>NaN</td>\n",
       "      <td>NaN</td>\n",
       "      <td>NaN</td>\n",
       "      <td>NaN</td>\n",
       "    </tr>\n",
       "    <tr>\n",
       "      <th>1994</th>\n",
       "      <td>NaN</td>\n",
       "      <td>NaN</td>\n",
       "      <td>NaN</td>\n",
       "      <td>6.03</td>\n",
       "      <td>NaN</td>\n",
       "      <td>NaN</td>\n",
       "      <td>NaN</td>\n",
       "      <td>NaN</td>\n",
       "      <td>NaN</td>\n",
       "      <td>NaN</td>\n",
       "    </tr>\n",
       "    <tr>\n",
       "      <th>1995</th>\n",
       "      <td>NaN</td>\n",
       "      <td>NaN</td>\n",
       "      <td>NaN</td>\n",
       "      <td>35.96</td>\n",
       "      <td>NaN</td>\n",
       "      <td>NaN</td>\n",
       "      <td>NaN</td>\n",
       "      <td>NaN</td>\n",
       "      <td>NaN</td>\n",
       "      <td>NaN</td>\n",
       "    </tr>\n",
       "    <tr>\n",
       "      <th>1996</th>\n",
       "      <td>NaN</td>\n",
       "      <td>NaN</td>\n",
       "      <td>NaN</td>\n",
       "      <td>94.70</td>\n",
       "      <td>NaN</td>\n",
       "      <td>NaN</td>\n",
       "      <td>NaN</td>\n",
       "      <td>NaN</td>\n",
       "      <td>NaN</td>\n",
       "      <td>NaN</td>\n",
       "    </tr>\n",
       "    <tr>\n",
       "      <th>1997</th>\n",
       "      <td>NaN</td>\n",
       "      <td>NaN</td>\n",
       "      <td>NaN</td>\n",
       "      <td>136.17</td>\n",
       "      <td>NaN</td>\n",
       "      <td>NaN</td>\n",
       "      <td>NaN</td>\n",
       "      <td>NaN</td>\n",
       "      <td>NaN</td>\n",
       "      <td>NaN</td>\n",
       "    </tr>\n",
       "    <tr>\n",
       "      <th>1998</th>\n",
       "      <td>NaN</td>\n",
       "      <td>NaN</td>\n",
       "      <td>NaN</td>\n",
       "      <td>169.49</td>\n",
       "      <td>NaN</td>\n",
       "      <td>NaN</td>\n",
       "      <td>NaN</td>\n",
       "      <td>NaN</td>\n",
       "      <td>NaN</td>\n",
       "      <td>NaN</td>\n",
       "    </tr>\n",
       "    <tr>\n",
       "      <th>1999</th>\n",
       "      <td>NaN</td>\n",
       "      <td>NaN</td>\n",
       "      <td>NaN</td>\n",
       "      <td>144.53</td>\n",
       "      <td>NaN</td>\n",
       "      <td>NaN</td>\n",
       "      <td>NaN</td>\n",
       "      <td>NaN</td>\n",
       "      <td>NaN</td>\n",
       "      <td>NaN</td>\n",
       "    </tr>\n",
       "    <tr>\n",
       "      <th>2000</th>\n",
       "      <td>NaN</td>\n",
       "      <td>NaN</td>\n",
       "      <td>0.07</td>\n",
       "      <td>96.37</td>\n",
       "      <td>39.17</td>\n",
       "      <td>NaN</td>\n",
       "      <td>NaN</td>\n",
       "      <td>NaN</td>\n",
       "      <td>NaN</td>\n",
       "      <td>NaN</td>\n",
       "    </tr>\n",
       "    <tr>\n",
       "      <th>2001</th>\n",
       "      <td>NaN</td>\n",
       "      <td>NaN</td>\n",
       "      <td>61.53</td>\n",
       "      <td>35.59</td>\n",
       "      <td>166.43</td>\n",
       "      <td>NaN</td>\n",
       "      <td>NaN</td>\n",
       "      <td>NaN</td>\n",
       "      <td>NaN</td>\n",
       "      <td>NaN</td>\n",
       "    </tr>\n",
       "    <tr>\n",
       "      <th>2002</th>\n",
       "      <td>NaN</td>\n",
       "      <td>NaN</td>\n",
       "      <td>74.16</td>\n",
       "      <td>6.67</td>\n",
       "      <td>205.38</td>\n",
       "      <td>NaN</td>\n",
       "      <td>NaN</td>\n",
       "      <td>NaN</td>\n",
       "      <td>NaN</td>\n",
       "      <td>NaN</td>\n",
       "    </tr>\n",
       "    <tr>\n",
       "      <th>2003</th>\n",
       "      <td>NaN</td>\n",
       "      <td>NaN</td>\n",
       "      <td>56.67</td>\n",
       "      <td>2.07</td>\n",
       "      <td>184.31</td>\n",
       "      <td>NaN</td>\n",
       "      <td>NaN</td>\n",
       "      <td>NaN</td>\n",
       "      <td>NaN</td>\n",
       "      <td>NaN</td>\n",
       "    </tr>\n",
       "    <tr>\n",
       "      <th>2004</th>\n",
       "      <td>NaN</td>\n",
       "      <td>17.27</td>\n",
       "      <td>77.91</td>\n",
       "      <td>NaN</td>\n",
       "      <td>211.81</td>\n",
       "      <td>NaN</td>\n",
       "      <td>NaN</td>\n",
       "      <td>7.06</td>\n",
       "      <td>NaN</td>\n",
       "      <td>NaN</td>\n",
       "    </tr>\n",
       "    <tr>\n",
       "      <th>2005</th>\n",
       "      <td>NaN</td>\n",
       "      <td>130.14</td>\n",
       "      <td>33.86</td>\n",
       "      <td>NaN</td>\n",
       "      <td>160.66</td>\n",
       "      <td>NaN</td>\n",
       "      <td>NaN</td>\n",
       "      <td>43.84</td>\n",
       "      <td>NaN</td>\n",
       "      <td>8.25</td>\n",
       "    </tr>\n",
       "    <tr>\n",
       "      <th>2006</th>\n",
       "      <td>NaN</td>\n",
       "      <td>119.81</td>\n",
       "      <td>5.28</td>\n",
       "      <td>NaN</td>\n",
       "      <td>103.42</td>\n",
       "      <td>20.96</td>\n",
       "      <td>NaN</td>\n",
       "      <td>55.32</td>\n",
       "      <td>137.15</td>\n",
       "      <td>51.62</td>\n",
       "    </tr>\n",
       "    <tr>\n",
       "      <th>2007</th>\n",
       "      <td>NaN</td>\n",
       "      <td>146.94</td>\n",
       "      <td>3.40</td>\n",
       "      <td>NaN</td>\n",
       "      <td>75.99</td>\n",
       "      <td>73.19</td>\n",
       "      <td>NaN</td>\n",
       "      <td>46.93</td>\n",
       "      <td>152.77</td>\n",
       "      <td>95.41</td>\n",
       "    </tr>\n",
       "    <tr>\n",
       "      <th>2008</th>\n",
       "      <td>NaN</td>\n",
       "      <td>145.31</td>\n",
       "      <td>NaN</td>\n",
       "      <td>NaN</td>\n",
       "      <td>53.90</td>\n",
       "      <td>118.52</td>\n",
       "      <td>NaN</td>\n",
       "      <td>34.55</td>\n",
       "      <td>171.32</td>\n",
       "      <td>135.26</td>\n",
       "    </tr>\n",
       "    <tr>\n",
       "      <th>2009</th>\n",
       "      <td>NaN</td>\n",
       "      <td>119.54</td>\n",
       "      <td>NaN</td>\n",
       "      <td>NaN</td>\n",
       "      <td>26.40</td>\n",
       "      <td>130.93</td>\n",
       "      <td>NaN</td>\n",
       "      <td>37.78</td>\n",
       "      <td>206.97</td>\n",
       "      <td>120.29</td>\n",
       "    </tr>\n",
       "    <tr>\n",
       "      <th>2010</th>\n",
       "      <td>NaN</td>\n",
       "      <td>85.02</td>\n",
       "      <td>NaN</td>\n",
       "      <td>NaN</td>\n",
       "      <td>5.64</td>\n",
       "      <td>142.17</td>\n",
       "      <td>NaN</td>\n",
       "      <td>35.04</td>\n",
       "      <td>127.95</td>\n",
       "      <td>170.03</td>\n",
       "    </tr>\n",
       "    <tr>\n",
       "      <th>2011</th>\n",
       "      <td>63.20</td>\n",
       "      <td>26.18</td>\n",
       "      <td>NaN</td>\n",
       "      <td>NaN</td>\n",
       "      <td>0.45</td>\n",
       "      <td>156.78</td>\n",
       "      <td>NaN</td>\n",
       "      <td>17.82</td>\n",
       "      <td>59.65</td>\n",
       "      <td>143.84</td>\n",
       "    </tr>\n",
       "    <tr>\n",
       "      <th>2012</th>\n",
       "      <td>51.36</td>\n",
       "      <td>11.01</td>\n",
       "      <td>NaN</td>\n",
       "      <td>NaN</td>\n",
       "      <td>NaN</td>\n",
       "      <td>107.36</td>\n",
       "      <td>NaN</td>\n",
       "      <td>7.69</td>\n",
       "      <td>21.71</td>\n",
       "      <td>99.74</td>\n",
       "    </tr>\n",
       "    <tr>\n",
       "      <th>2013</th>\n",
       "      <td>56.57</td>\n",
       "      <td>1.54</td>\n",
       "      <td>NaN</td>\n",
       "      <td>NaN</td>\n",
       "      <td>NaN</td>\n",
       "      <td>113.25</td>\n",
       "      <td>25.99</td>\n",
       "      <td>3.14</td>\n",
       "      <td>8.59</td>\n",
       "      <td>88.58</td>\n",
       "    </tr>\n",
       "    <tr>\n",
       "      <th>2014</th>\n",
       "      <td>43.76</td>\n",
       "      <td>NaN</td>\n",
       "      <td>NaN</td>\n",
       "      <td>NaN</td>\n",
       "      <td>NaN</td>\n",
       "      <td>47.76</td>\n",
       "      <td>100.00</td>\n",
       "      <td>0.24</td>\n",
       "      <td>3.75</td>\n",
       "      <td>34.74</td>\n",
       "    </tr>\n",
       "    <tr>\n",
       "      <th>2015</th>\n",
       "      <td>27.78</td>\n",
       "      <td>NaN</td>\n",
       "      <td>NaN</td>\n",
       "      <td>NaN</td>\n",
       "      <td>NaN</td>\n",
       "      <td>16.82</td>\n",
       "      <td>118.90</td>\n",
       "      <td>0.12</td>\n",
       "      <td>1.14</td>\n",
       "      <td>11.96</td>\n",
       "    </tr>\n",
       "    <tr>\n",
       "      <th>2016</th>\n",
       "      <td>15.14</td>\n",
       "      <td>NaN</td>\n",
       "      <td>NaN</td>\n",
       "      <td>NaN</td>\n",
       "      <td>NaN</td>\n",
       "      <td>3.60</td>\n",
       "      <td>69.25</td>\n",
       "      <td>NaN</td>\n",
       "      <td>0.18</td>\n",
       "      <td>1.52</td>\n",
       "    </tr>\n",
       "  </tbody>\n",
       "</table>\n",
       "</div>"
      ],
      "text/plain": [
       "platform           3DS      DS    GBA      PS     PS2     PS3     PS4    PSP  \\\n",
       "year_of_release                                                                \n",
       "1985               NaN    0.02    NaN     NaN     NaN     NaN     NaN    NaN   \n",
       "1994               NaN     NaN    NaN    6.03     NaN     NaN     NaN    NaN   \n",
       "1995               NaN     NaN    NaN   35.96     NaN     NaN     NaN    NaN   \n",
       "1996               NaN     NaN    NaN   94.70     NaN     NaN     NaN    NaN   \n",
       "1997               NaN     NaN    NaN  136.17     NaN     NaN     NaN    NaN   \n",
       "1998               NaN     NaN    NaN  169.49     NaN     NaN     NaN    NaN   \n",
       "1999               NaN     NaN    NaN  144.53     NaN     NaN     NaN    NaN   \n",
       "2000               NaN     NaN   0.07   96.37   39.17     NaN     NaN    NaN   \n",
       "2001               NaN     NaN  61.53   35.59  166.43     NaN     NaN    NaN   \n",
       "2002               NaN     NaN  74.16    6.67  205.38     NaN     NaN    NaN   \n",
       "2003               NaN     NaN  56.67    2.07  184.31     NaN     NaN    NaN   \n",
       "2004               NaN   17.27  77.91     NaN  211.81     NaN     NaN   7.06   \n",
       "2005               NaN  130.14  33.86     NaN  160.66     NaN     NaN  43.84   \n",
       "2006               NaN  119.81   5.28     NaN  103.42   20.96     NaN  55.32   \n",
       "2007               NaN  146.94   3.40     NaN   75.99   73.19     NaN  46.93   \n",
       "2008               NaN  145.31    NaN     NaN   53.90  118.52     NaN  34.55   \n",
       "2009               NaN  119.54    NaN     NaN   26.40  130.93     NaN  37.78   \n",
       "2010               NaN   85.02    NaN     NaN    5.64  142.17     NaN  35.04   \n",
       "2011             63.20   26.18    NaN     NaN    0.45  156.78     NaN  17.82   \n",
       "2012             51.36   11.01    NaN     NaN     NaN  107.36     NaN   7.69   \n",
       "2013             56.57    1.54    NaN     NaN     NaN  113.25   25.99   3.14   \n",
       "2014             43.76     NaN    NaN     NaN     NaN   47.76  100.00   0.24   \n",
       "2015             27.78     NaN    NaN     NaN     NaN   16.82  118.90   0.12   \n",
       "2016             15.14     NaN    NaN     NaN     NaN    3.60   69.25    NaN   \n",
       "\n",
       "platform            Wii    X360  \n",
       "year_of_release                  \n",
       "1985                NaN     NaN  \n",
       "1994                NaN     NaN  \n",
       "1995                NaN     NaN  \n",
       "1996                NaN     NaN  \n",
       "1997                NaN     NaN  \n",
       "1998                NaN     NaN  \n",
       "1999                NaN     NaN  \n",
       "2000                NaN     NaN  \n",
       "2001                NaN     NaN  \n",
       "2002                NaN     NaN  \n",
       "2003                NaN     NaN  \n",
       "2004                NaN     NaN  \n",
       "2005                NaN    8.25  \n",
       "2006             137.15   51.62  \n",
       "2007             152.77   95.41  \n",
       "2008             171.32  135.26  \n",
       "2009             206.97  120.29  \n",
       "2010             127.95  170.03  \n",
       "2011              59.65  143.84  \n",
       "2012              21.71   99.74  \n",
       "2013               8.59   88.58  \n",
       "2014               3.75   34.74  \n",
       "2015               1.14   11.96  \n",
       "2016               0.18    1.52  "
      ]
     },
     "execution_count": 21,
     "metadata": {},
     "output_type": "execute_result"
    }
   ],
   "source": [
    "list_topsales = pt.head(10)['platform'].tolist()\n",
    "data_topsales = data.query('platform in @list_topsales')\n",
    "pt_topsales_years = pd.pivot_table(data_topsales, index=['year_of_release'],\n",
    "                   columns='platform',\n",
    "                   values='total_sales',\n",
    "                   aggfunc='sum')\n",
    "pt_topsales_years"
   ]
  },
  {
   "cell_type": "code",
   "execution_count": 22,
   "id": "d5d5c7b1",
   "metadata": {},
   "outputs": [
    {
     "data": {
      "text/plain": [
       "<AxesSubplot:xlabel='year_of_release'>"
      ]
     },
     "execution_count": 22,
     "metadata": {},
     "output_type": "execute_result"
    },
    {
     "data": {
      "image/png": "[encoded data removed]",
      "text/plain": [
       "<Figure size 1152x720 with 1 Axes>"
      ]
     },
     "metadata": {
      "needs_background": "light"
     },
     "output_type": "display_data"
    }
   ],
   "source": [
    "pt_topsales_years.plot(alpha=0.7, linewidth=5, figsize=(16, 10))"
   ]
  },
  {
   "cell_type": "markdown",
   "id": "31991cd1",
   "metadata": {},
   "source": [
    "Средний срок жизни платформы около 10 лет: как правило, это год выпуска (неполный) и 5-6 лет активных продаж до спада, чаще всего до выпуска новых консолей."
   ]
  },
  {
   "cell_type": "markdown",
   "id": "7df477e4",
   "metadata": {},
   "source": [
    "Для исследования возьмем 2014-2016 год. Есть основания полагать, что данные за 2016 не являются полными, но при этом с 2015 уже наметилась тенденция к увеличению количества выпускаемых игр. Данные за 2014 нужны для определения тенденции к снижению или росту продаж на платформе. "
   ]
  },
  {
   "cell_type": "code",
   "execution_count": 23,
   "id": "9104874a",
   "metadata": {},
   "outputs": [
    {
     "data": {
      "image/png": "[encoded data removed]",
      "text/plain": [
       "<Figure size 432x288 with 1 Axes>"
      ]
     },
     "metadata": {
      "needs_background": "light"
     },
     "output_type": "display_data"
    }
   ],
   "source": [
    "data_prev = data.query('year_of_release in [2014, 2015, 2016]')\n",
    "data_prev.plot(x='total_sales', y='platform', kind='scatter', title='Диаграмма рассеяния платформа - количество продаж');"
   ]
  },
  {
   "cell_type": "markdown",
   "id": "31e7aa5f",
   "metadata": {},
   "source": [
    "Судя по диаграмме рассеяния большинство продаж за эти годы приходилось на PS4, 3DS, XOne и WiiU. Посмотрим на динамику продаж. "
   ]
  },
  {
   "cell_type": "code",
   "execution_count": 24,
   "id": "a0d442de",
   "metadata": {},
   "outputs": [
    {
     "data": {
      "image/png": "[encoded data removed]",
      "text/plain": [
       "<Figure size 432x288 with 1 Axes>"
      ]
     },
     "metadata": {
      "needs_background": "light"
     },
     "output_type": "display_data"
    }
   ],
   "source": [
    "pt_prev = pd.pivot_table(data_prev, index=['platform'],\n",
    "                   columns='year_of_release',\n",
    "                   values='total_sales',\n",
    "                   aggfunc='sum')\n",
    "pt_prev.columns = ['2014', '2015', '2016']\n",
    "\n",
    "pt_prev = pt_prev.sort_values(by='2016', ascending=False)\n",
    "pt_prev.plot(kind='bar', title = 'Динамика продаж по годам');"
   ]
  },
  {
   "cell_type": "markdown",
   "id": "e406dd8d",
   "metadata": {},
   "source": [
    "Из графика видно, что продажи PS4 и XOne в 2015 росли, а вот продажи 3DS и WiiU упали в 2015 г. относительно 2014. Да и в целом, все платформы, кроме двух лидирующих, показали спад относительно 2014. По неполным данным 2016 все платформы отстают от показателей 2015.\n",
    "Таким образом, PS4 и XOne выглядят наиболее привлекательными, но также нельзя скидывать со счетов консоли Nintendo: 3DS и WiiU, - в японском сегменте рынка."
   ]
  },
  {
   "cell_type": "markdown",
   "id": "f66cc75a",
   "metadata": {},
   "source": [
    "Построим ящик с усами для выбранных платформ, это поможет увидеть аномалии в данных и убедиться в их корректности.\n",
    "\n",
    "* Ящик с усами для продаж игр по платформе \"PS4\""
   ]
  },
  {
   "cell_type": "code",
   "execution_count": 25,
   "id": "d520096c",
   "metadata": {},
   "outputs": [
    {
     "data": {
      "image/png": "[encoded data removed]",
      "text/plain": [
       "<Figure size 432x288 with 1 Axes>"
      ]
     },
     "metadata": {
      "needs_background": "light"
     },
     "output_type": "display_data"
    }
   ],
   "source": [
    "data_prev.query('platform == \"PS4\"').boxplot(column='total_sales');"
   ]
  },
  {
   "cell_type": "markdown",
   "id": "194cc3f1",
   "metadata": {},
   "source": [
    "На графике много выбросов, ключевая информация по распределению не видна. Построим график без выбросов."
   ]
  },
  {
   "cell_type": "code",
   "execution_count": 26,
   "id": "01623cf4",
   "metadata": {
    "scrolled": false
   },
   "outputs": [
    {
     "data": {
      "image/png": "[encoded data removed]",
      "text/plain": [
       "<Figure size 432x288 with 1 Axes>"
      ]
     },
     "metadata": {
      "needs_background": "light"
     },
     "output_type": "display_data"
    }
   ],
   "source": [
    "data_prev.query('platform == \"PS4\"').boxplot(column='total_sales', showfliers=False);"
   ]
  },
  {
   "cell_type": "code",
   "execution_count": 27,
   "id": "17cd577a",
   "metadata": {},
   "outputs": [
    {
     "data": {
      "text/plain": [
       "count    376.000000\n",
       "mean       0.766356\n",
       "std        1.614969\n",
       "min        0.010000\n",
       "25%        0.057500\n",
       "50%        0.185000\n",
       "75%        0.690000\n",
       "max       14.630000\n",
       "Name: total_sales, dtype: float64"
      ]
     },
     "execution_count": 27,
     "metadata": {},
     "output_type": "execute_result"
    }
   ],
   "source": [
    "data_prev.query('platform == \"PS4\"')['total_sales'].describe()"
   ]
  },
  {
   "cell_type": "markdown",
   "id": "533b7a36",
   "metadata": {},
   "source": [
    "Медиана равна 290 тыс. копий, судя по графику продажи не должны превышать 2,2-2,3 млн.копий. Отсортируем игры по количеству проданных копий."
   ]
  },
  {
   "cell_type": "code",
   "execution_count": 28,
   "id": "9980375c",
   "metadata": {},
   "outputs": [
    {
     "data": {
      "text/html": [
       "<div>\n",
       "<style scoped>\n",
       "    .dataframe tbody tr th:only-of-type {\n",
       "        vertical-align: middle;\n",
       "    }\n",
       "\n",
       "    .dataframe tbody tr th {\n",
       "        vertical-align: top;\n",
       "    }\n",
       "\n",
       "    .dataframe thead th {\n",
       "        text-align: right;\n",
       "    }\n",
       "</style>\n",
       "<table border=\"1\" class=\"dataframe\">\n",
       "  <thead>\n",
       "    <tr style=\"text-align: right;\">\n",
       "      <th></th>\n",
       "      <th></th>\n",
       "      <th>total_sales</th>\n",
       "    </tr>\n",
       "    <tr>\n",
       "      <th>name</th>\n",
       "      <th>platform</th>\n",
       "      <th></th>\n",
       "    </tr>\n",
       "  </thead>\n",
       "  <tbody>\n",
       "    <tr>\n",
       "      <th>Call of Duty: Black Ops 3</th>\n",
       "      <th>PS4</th>\n",
       "      <td>14.63</td>\n",
       "    </tr>\n",
       "    <tr>\n",
       "      <th>Grand Theft Auto V</th>\n",
       "      <th>PS4</th>\n",
       "      <td>12.62</td>\n",
       "    </tr>\n",
       "    <tr>\n",
       "      <th>FIFA 16</th>\n",
       "      <th>PS4</th>\n",
       "      <td>8.58</td>\n",
       "    </tr>\n",
       "    <tr>\n",
       "      <th>Star Wars Battlefront (2015)</th>\n",
       "      <th>PS4</th>\n",
       "      <td>7.98</td>\n",
       "    </tr>\n",
       "    <tr>\n",
       "      <th>Call of Duty: Advanced Warfare</th>\n",
       "      <th>PS4</th>\n",
       "      <td>7.66</td>\n",
       "    </tr>\n",
       "    <tr>\n",
       "      <th>...</th>\n",
       "      <th>...</th>\n",
       "      <td>...</td>\n",
       "    </tr>\n",
       "    <tr>\n",
       "      <th>Rocksmith 2014 Edition Remastered</th>\n",
       "      <th>PS4</th>\n",
       "      <td>0.01</td>\n",
       "    </tr>\n",
       "    <tr>\n",
       "      <th>Root Letter</th>\n",
       "      <th>PS4</th>\n",
       "      <td>0.01</td>\n",
       "    </tr>\n",
       "    <tr>\n",
       "      <th>Crows: Burning Edge</th>\n",
       "      <th>PS4</th>\n",
       "      <td>0.01</td>\n",
       "    </tr>\n",
       "    <tr>\n",
       "      <th>God Eater Off Shot: Tachibana Sakuya-hen Twin Pack &amp; Animation Vol.7</th>\n",
       "      <th>PS4</th>\n",
       "      <td>0.01</td>\n",
       "    </tr>\n",
       "    <tr>\n",
       "      <th>R.B.I. Baseball 2016</th>\n",
       "      <th>PS4</th>\n",
       "      <td>0.01</td>\n",
       "    </tr>\n",
       "  </tbody>\n",
       "</table>\n",
       "<p>376 rows × 1 columns</p>\n",
       "</div>"
      ],
      "text/plain": [
       "                                                             total_sales\n",
       "name                                               platform             \n",
       "Call of Duty: Black Ops 3                          PS4             14.63\n",
       "Grand Theft Auto V                                 PS4             12.62\n",
       "FIFA 16                                            PS4              8.58\n",
       "Star Wars Battlefront (2015)                       PS4              7.98\n",
       "Call of Duty: Advanced Warfare                     PS4              7.66\n",
       "...                                                                  ...\n",
       "Rocksmith 2014 Edition Remastered                  PS4              0.01\n",
       "Root Letter                                        PS4              0.01\n",
       "Crows: Burning Edge                                PS4              0.01\n",
       "God Eater Off Shot: Tachibana Sakuya-hen Twin P... PS4              0.01\n",
       "R.B.I. Baseball 2016                               PS4              0.01\n",
       "\n",
       "[376 rows x 1 columns]"
      ]
     },
     "execution_count": 28,
     "metadata": {},
     "output_type": "execute_result"
    }
   ],
   "source": [
    "pd.pivot_table(data_prev.query('platform == \"PS4\"'), index=['name', 'platform'],\n",
    "                   values='total_sales',\n",
    "                   aggfunc='sum').sort_values(by='total_sales', ascending=False)"
   ]
  },
  {
   "cell_type": "markdown",
   "id": "c43d1a10",
   "metadata": {},
   "source": [
    "**Вывод**\n",
    "  - Обнаруженные аномалии: по графику очевидно, что распределение данных имеет аномалии. Минимальное значение продаж 10 тыс копий, максимальное 14 млн копий, медиана 290 тыс.\n",
    "  - Причины, по которым они могли возникнуть: на эту консоль выпускалось очень много разных игр, какие-то были не популярны, а другие наоборот были очень успешными. Таблица игр, отсортированная по убыванию продаж, это доказывает."
   ]
  },
  {
   "cell_type": "markdown",
   "id": "b7e30e2b",
   "metadata": {},
   "source": [
    "* Ящик с усами для продаж игр по платформе \"XOne\""
   ]
  },
  {
   "cell_type": "code",
   "execution_count": 29,
   "id": "4e384494",
   "metadata": {},
   "outputs": [
    {
     "data": {
      "image/png": "[encoded data removed]",
      "text/plain": [
       "<Figure size 432x288 with 1 Axes>"
      ]
     },
     "metadata": {
      "needs_background": "light"
     },
     "output_type": "display_data"
    }
   ],
   "source": [
    "data_prev.query('platform == \"XOne\"').boxplot(column='total_sales');"
   ]
  },
  {
   "cell_type": "markdown",
   "id": "ed840365",
   "metadata": {},
   "source": [
    "На XOne похожая картина. Построим график без выбросов и выведем статистику."
   ]
  },
  {
   "cell_type": "code",
   "execution_count": 30,
   "id": "f99fe162",
   "metadata": {},
   "outputs": [
    {
     "data": {
      "image/png": "[encoded data removed]",
      "text/plain": [
       "<Figure size 432x288 with 1 Axes>"
      ]
     },
     "metadata": {
      "needs_background": "light"
     },
     "output_type": "display_data"
    }
   ],
   "source": [
    "data_prev.query('platform == \"XOne\"').boxplot(column='total_sales', showfliers=False);"
   ]
  },
  {
   "cell_type": "code",
   "execution_count": 34,
   "id": "71572ef2",
   "metadata": {},
   "outputs": [
    {
     "data": {
      "text/plain": [
       "(0.0, 0.8)"
      ]
     },
     "execution_count": 34,
     "metadata": {},
     "output_type": "execute_result"
    },
    {
     "data": {
      "image/png": "[encoded data removed]",
      "text/plain": [
       "<Figure size 720x432 with 1 Axes>"
      ]
     },
     "metadata": {
      "needs_background": "light"
     },
     "output_type": "display_data"
    }
   ],
   "source": [
    "fig, ax1 = plt.subplots(figsize=(10, 6))\n",
    "ax1.boxplot(data_prev.query('platform == \"XOne\"')['total_sales'], notch=0, sym='+', vert=1, whis=1.5)\n",
    "ax1.set_ylim(0, 0.8)\n",
    "#.boxplot(column='total_sales', ylim=(0, 0.8));"
   ]
  },
  {
   "cell_type": "code",
   "execution_count": null,
   "id": "65ee288e",
   "metadata": {},
   "outputs": [],
   "source": [
    "data_prev.query('platform == \"XOne\"')['total_sales'].describe()"
   ]
  },
  {
   "cell_type": "markdown",
   "id": "306ddd49",
   "metadata": {},
   "source": [
    "Проверим также 3DS и WiiU."
   ]
  },
  {
   "cell_type": "markdown",
   "id": "8e9aa80f",
   "metadata": {},
   "source": [
    "* Ящик с усами для продаж игр по платформе \"3DS\""
   ]
  },
  {
   "cell_type": "code",
   "execution_count": null,
   "id": "3d15f0c2",
   "metadata": {},
   "outputs": [],
   "source": [
    "data_prev.query('platform == \"3DS\"').boxplot(column='total_sales');"
   ]
  },
  {
   "cell_type": "markdown",
   "id": "06ea38d3",
   "metadata": {},
   "source": [
    "И на 3DS тоже. Построим график без выбросов и выведем статистику."
   ]
  },
  {
   "cell_type": "code",
   "execution_count": null,
   "id": "b50e06ce",
   "metadata": {},
   "outputs": [],
   "source": [
    "data_prev.query('platform == \"3DS\"').boxplot(column='total_sales', showfliers=False);"
   ]
  },
  {
   "cell_type": "code",
   "execution_count": null,
   "id": "64798dd9",
   "metadata": {},
   "outputs": [],
   "source": [
    "data_prev.query('platform == \"3DS\"')['total_sales'].describe()"
   ]
  },
  {
   "cell_type": "markdown",
   "id": "1f890b57",
   "metadata": {},
   "source": [
    "* Ящик с усами для продаж игр по платформе \"WiiU\""
   ]
  },
  {
   "cell_type": "code",
   "execution_count": null,
   "id": "9aae8607",
   "metadata": {},
   "outputs": [],
   "source": [
    "data_prev.query('platform == \"WiiU\"').boxplot(column='total_sales');"
   ]
  },
  {
   "cell_type": "code",
   "execution_count": null,
   "id": "9f810cac",
   "metadata": {},
   "outputs": [],
   "source": [
    "data_prev.query('platform == \"WiiU\"').boxplot(column='total_sales', showfliers=False);"
   ]
  },
  {
   "cell_type": "code",
   "execution_count": null,
   "id": "8acf38a0",
   "metadata": {},
   "outputs": [],
   "source": [
    "data_prev.query('platform == \"WiiU\"')['total_sales'].describe()"
   ]
  },
  {
   "cell_type": "markdown",
   "id": "87295b97",
   "metadata": {},
   "source": [
    "По WiiU аномальных значений меньше. Чем менее популярна платформа в выбранный период времени, тем меньше разброс значений."
   ]
  },
  {
   "cell_type": "markdown",
   "id": "6b3587ce",
   "metadata": {},
   "source": [
    "<div><b>Вывод</b></div>\n",
    "<div>Видно, что с 1993 по 2009 годы количество игр год от года росло. В 2000-е технологии активно развивались и с ними вместе развивалась индустрия игр. Рынок наполнялся новыми студиями, количество привлекаемых денежных средств в индустрию тоже увеличивалось. Качество игр росло, а следом и бюджет на разработку, как и трудоемкость создания. Со временем покупатели стали охотнее покупать крупнобюджетные игры, поскольку цена на них не сильно отличалась от цены среднебюджетной игры, а качество графики было намного выше. Это изменило тренд на создание дорогих качественных игр, цикл производства которых более длителен, чем разработка среднебюджетной игры (так называемая гонка бюджетов). К тому же студии-разработчики среднебюджетных игр стали неконкурентноспособными - они не могли выдать сопоставимое качество в среднем бюджете. Это привело к спаду общего количества продаваемых игр. Далее рост производительности железа замедлился. В последние годы из-за проблем с полупроводниками не все пользователи игр могут обновить свое оборудование (купить продвинутую видеокарту или новую консоль), т.к. это стало дороже. Также снизилось количество новых франшиз в сегменте крупнобюджетных игр: удачную франшизу развивают до тех пор пока она приносит прибыль. Пользователи стали уставать от крупных франшиз, некоторые франшизы потеряли свою первоначальную атмосферу. Это привело к тому, что стал возрождаться тренд на среднебюджетные игры, к тому же качество ПО для разработки улучшилось, что позволило за средние бюджеты создавать игры на хорошем уровне качества.</div>\n",
    "При этом видно, что в 2016 г. наблюдается спад по сравнению с 2015, что может говорить о том, что данные за 2016 неполные.\n",
    "<div>В рассматриваемый период 2014-2015 гг. лидерами продаж являются PS4, XOne и японская Wiiu, 3DS.</div>"
   ]
  },
  {
   "cell_type": "markdown",
   "id": "f4a91ba2",
   "metadata": {},
   "source": [
    "## Выявление факторов, влияющих на продажи"
   ]
  },
  {
   "cell_type": "markdown",
   "id": "a431ebfd",
   "metadata": {},
   "source": [
    "### Оценки пользователей и критиков"
   ]
  },
  {
   "cell_type": "markdown",
   "id": "c08fd9b8",
   "metadata": {},
   "source": [
    "Посмотрим на примере PS4, зависит ли количество продаж от оценки пользователей."
   ]
  },
  {
   "cell_type": "code",
   "execution_count": null,
   "id": "a33440ed",
   "metadata": {},
   "outputs": [],
   "source": [
    "data_ps4 = data_prev.query('platform == \"PS4\"')\n",
    "data_ps4.plot(x='total_sales', y='user_score', kind='scatter', title='Диаграмма рассеяния для PS4 оценка пользователей - продажи');\n",
    "print(data_ps4['total_sales'].corr(data['user_score']))"
   ]
  },
  {
   "cell_type": "markdown",
   "id": "0944be68",
   "metadata": {},
   "source": [
    "Корреляции между оценками пользователей и продажами нет. У игр, проданных более чем 4 миллионами копий, чаще оценка выше 5. При этом есть много игр, оцененных высоко, но продажи их намного меньше 4 млн."
   ]
  },
  {
   "cell_type": "code",
   "execution_count": null,
   "id": "ec965f05",
   "metadata": {},
   "outputs": [],
   "source": [
    "data_ps4.plot(x='total_sales', y='critic_score', kind='scatter', title='Диаграмма рассеяния оценка критиков - продажи');\n",
    "print(data_ps4['total_sales'].corr(data['critic_score']))"
   ]
  },
  {
   "cell_type": "markdown",
   "id": "3a871ef2",
   "metadata": {},
   "source": [
    "Корреляция между оценкой критиков и продажами есть, но слабая. Низких оценок в принципе мало и продажи по таким играм маленькие."
   ]
  },
  {
   "cell_type": "markdown",
   "id": "5a0dcb0e",
   "metadata": {},
   "source": [
    "Проверим, сколько незаполненных строк по оценкам в датафрейме и посмотрим первую десятку игр по продажам."
   ]
  },
  {
   "cell_type": "code",
   "execution_count": null,
   "id": "63024aa3",
   "metadata": {},
   "outputs": [],
   "source": [
    "pd.DataFrame(round(data_ps4.isna().mean()*100,)).style.background_gradient('coolwarm')"
   ]
  },
  {
   "cell_type": "code",
   "execution_count": null,
   "id": "16c5846e",
   "metadata": {},
   "outputs": [],
   "source": [
    "data_ps4.sort_values(by='total_sales', ascending=False).head(10)"
   ]
  },
  {
   "cell_type": "markdown",
   "id": "91085639",
   "metadata": {},
   "source": [
    "**Вывод:** игры, выпущенные под платформу PS4, в большей своей части имеют хорошие оценки как пользователей, так и критиков. Наблюдается слабая корреляция между оценками критиков и продажами. Также следует помнить, что далеко не для всех игр оценки есть. Например, для PS4 для 33-35% строк оценки не проставлены. Есть незаполненные значения даже для весьма успешных игр: Call of Duty: Black Ops 3, Star Wars Battlefront (2015)."
   ]
  },
  {
   "cell_type": "markdown",
   "id": "0fc06329",
   "metadata": {},
   "source": [
    "Проверим, что выводы корректны и для других платформ. Сделаем это на примере XOne и в целом по всем продажам за выбранный период."
   ]
  },
  {
   "cell_type": "code",
   "execution_count": null,
   "id": "c363f1f4",
   "metadata": {},
   "outputs": [],
   "source": [
    "data_xone = data_prev.query('platform == \"XOne\"')\n",
    "data_xone.plot(x='total_sales', y='user_score', kind='scatter', title='Диаграмма рассеяния XOne оценка пользователей - продажи');\n",
    "print(data_xone['total_sales'].corr(data['user_score']))"
   ]
  },
  {
   "cell_type": "markdown",
   "id": "186a171c",
   "metadata": {},
   "source": [
    "Корреляции между оценками пользователей и продажами также нет."
   ]
  },
  {
   "cell_type": "code",
   "execution_count": null,
   "id": "9aaa0123",
   "metadata": {},
   "outputs": [],
   "source": [
    "data_xone.plot(x='total_sales', y='critic_score', kind='scatter', title='Диаграмма рассеяния XOne оценка критиков - продажи');\n",
    "print(data_xone['total_sales'].corr(data['critic_score']))"
   ]
  },
  {
   "cell_type": "markdown",
   "id": "fffca75f",
   "metadata": {},
   "source": [
    "Слабая корреляция между оценками критиков и продажами наблюдается."
   ]
  },
  {
   "cell_type": "code",
   "execution_count": null,
   "id": "6f35da5e",
   "metadata": {},
   "outputs": [],
   "source": [
    "data_prev.plot(x='total_sales', y='user_score', kind='scatter', title='Диаграмма рассеяния оценка пользователей - продажи');\n",
    "print(data_prev['total_sales'].corr(data['user_score']))"
   ]
  },
  {
   "cell_type": "markdown",
   "id": "e9f8708f",
   "metadata": {},
   "source": [
    "По всем платформам суммарно такая же картина."
   ]
  },
  {
   "cell_type": "code",
   "execution_count": null,
   "id": "a6925e6a",
   "metadata": {},
   "outputs": [],
   "source": [
    "data_prev.plot(x='total_sales', y='critic_score', kind='scatter', title='Диаграмма рассеяния оценка критиков - продажи');\n",
    "print(data_prev['total_sales'].corr(data['critic_score']))"
   ]
  },
  {
   "cell_type": "markdown",
   "id": "d170ce6e",
   "metadata": {},
   "source": [
    "Корреляция также слабая, даже слабее чем для лидеров продаж."
   ]
  },
  {
   "cell_type": "markdown",
   "id": "ddd97340",
   "metadata": {},
   "source": [
    "**Вывод:** оценка пользователей не связана с количеством продаж. Частично это может быть связано с возрождением тренда на среднебюдежтные игры - это не крупные франшизы, массовость их ниже, продажи как следствие тоже, но в своем жанре/сегменте пользователи могут оценивать их весьма высоко. Оценка критиков в данном случае более показательна, хотя и только на нее тоже полагаться нельзя. В последнее время общая оценка игры уходит в прошлое, т.к. оценивается множество показателей: графика, сюжет, динамика, соответствие жанру, геймплей etc."
   ]
  },
  {
   "cell_type": "markdown",
   "id": "28862629",
   "metadata": {},
   "source": [
    "### Жанры"
   ]
  },
  {
   "cell_type": "markdown",
   "id": "efeb74fb",
   "metadata": {},
   "source": [
    "Проанализируем, есть ли популярные и непопулярные жанры."
   ]
  },
  {
   "cell_type": "code",
   "execution_count": null,
   "id": "7ce897a2",
   "metadata": {},
   "outputs": [],
   "source": [
    "pt_genre = pd.pivot_table(data_prev, index=['genre'],\n",
    "                          values=['total_sales'],\n",
    "                          aggfunc=['sum', 'median']).sort_values(by=('median', 'total_sales'), ascending=False)\n",
    "pt_genre"
   ]
  },
  {
   "cell_type": "markdown",
   "id": "00529afd",
   "metadata": {},
   "source": [
    "**Вывод:** самый высокий показатель медианных продаж у шутеров и спортивных игр, причем разница медиан по шутерам и спортивным играм весьма существенная. Самый низкий показатель медианной продажи у пазлов и Adventure. "
   ]
  },
  {
   "cell_type": "markdown",
   "id": "35d99430",
   "metadata": {},
   "source": [
    "## Анализ продаж по регионам"
   ]
  },
  {
   "cell_type": "markdown",
   "id": "4cc21c8b",
   "metadata": {},
   "source": [
    "### Анализ платформ по регионам"
   ]
  },
  {
   "cell_type": "markdown",
   "id": "ca77699d",
   "metadata": {},
   "source": [
    "Проведем анализ по регионам. Сперва проанализируем топ-5 популярных платформ по каждому региону."
   ]
  },
  {
   "cell_type": "code",
   "execution_count": null,
   "id": "f95e4fba",
   "metadata": {},
   "outputs": [],
   "source": [
    "pt_regions = pd.pivot_table(data_prev, index=['platform'],\n",
    "                          values=['na_sales', 'eu_sales', 'jp_sales', 'other_sales'],\n",
    "                          aggfunc=['sum']).reset_index()\n",
    "pt_regions.columns=['platform', 'eu_sales', 'jp_sales', 'na_sales', 'other_sales']"
   ]
  },
  {
   "cell_type": "code",
   "execution_count": null,
   "id": "410f3a4d",
   "metadata": {},
   "outputs": [],
   "source": [
    "pt_regions.sort_values(by='eu_sales', ascending=False).plot(x='platform', y='eu_sales', kind='bar',\n",
    "                                                           title = 'График продаж по платформам в Европе');"
   ]
  },
  {
   "cell_type": "markdown",
   "id": "a6f4a7d3",
   "metadata": {},
   "source": [
    "В Европе с большим отрывом лидируют продажи игр на платформе PS4.Следом идет XOne и предыдущее поколение лидеров: PS3, X360. Замыкает топ-5 игры на компьютер - PC."
   ]
  },
  {
   "cell_type": "code",
   "execution_count": null,
   "id": "cd5331a1",
   "metadata": {},
   "outputs": [],
   "source": [
    "pt_regions.sort_values(by='jp_sales', ascending=False).plot(x='platform', y='jp_sales', kind='bar',\n",
    "                                                           title = 'График продаж по платформам в Японии');"
   ]
  },
  {
   "cell_type": "markdown",
   "id": "bb3b80c5",
   "metadata": {},
   "source": [
    "В Японии с большим отрывом лидируют продажи игр на платформе 3DS. 3DS - это платформа бренда Nintendo, одной из первых игровых компаний. Японский рынок игр отличается от Европейского и рынка Канада и США: и платформами, и самими играми. В топ-5 также входит WiiU - другая консоль от Nintendo. На 2-4 месте с почти одинаковыми показателями располагаются консоли от Sony: PSV (портативная PS), PS3, PS4. Sony исторически японская компания, поэтому имеет определенную долю рынка, но все же в значительно степени ее продукты ориентированы на западного пользователя, поэтому платформы от Nintendo лидируют."
   ]
  },
  {
   "cell_type": "code",
   "execution_count": null,
   "id": "1e7742c5",
   "metadata": {},
   "outputs": [],
   "source": [
    "pt_regions.sort_values(by='na_sales', ascending=False).plot(x='platform', y='na_sales', kind='bar',\n",
    "                                                           title = 'График продаж по платформам в США и Канаде');"
   ]
  },
  {
   "cell_type": "markdown",
   "id": "b1439a0b",
   "metadata": {},
   "source": [
    "В США и Канаде лидирует с небольшим отрывом PS4, за ней идет XOne. Далее с большим отрывом идет старое поколение консолей:\n",
    "X360 и PS3, а за ними на 5-ом месте 3DS. Продажи игр на WiiU незначительно ниже 3DS."
   ]
  },
  {
   "cell_type": "code",
   "execution_count": null,
   "id": "3377599c",
   "metadata": {},
   "outputs": [],
   "source": [
    "pt_regions.sort_values(by='other_sales', ascending=False).plot(x='platform', y='other_sales', kind='bar',\n",
    "                                                           title = 'График продаж по платформам в остальных странах мира');"
   ]
  },
  {
   "cell_type": "markdown",
   "id": "8a6fecce",
   "metadata": {},
   "source": [
    "В остальных странах также как и в Европе и Северной Америке с большим отрывом лидирует PS4. Далее идут XOne, PS3, X360 и 3DS. Что интересно новая консоль XOne незначительно опережает PS3. Платформы Sony более популярны, чем Microsoft."
   ]
  },
  {
   "cell_type": "markdown",
   "id": "ea5c8dd5",
   "metadata": {},
   "source": [
    "<b>Вывод</b>\n",
    "<div>Практически во всех регионах лидирует PS4: в Европе и остальном мире с большим отрывом, в Северной Америка отрыв от XOne не такой значительный. На японском рынке ситуация совсем другая, т.к. превалируют платформа от Nintendo - эту локальную особенность надо учитывать. Платформы от Microsoft тут непопулярны совсем. Далее в топе для Японии идут платформы от sony и опять же платформа от Nintendo - WiiU.</div>\n",
    "<div>Для регионов Европа, Северная Америка и остальной мир видно, что сохраняются продажи игр на старые поколения консолей PS3 и X360 и почти всегда в первую пятерку входят 3DS или WiiU. Для Европы также стоит отметить продажи игр на PC.</div>"
   ]
  },
  {
   "cell_type": "markdown",
   "id": "61a41e02",
   "metadata": {},
   "source": [
    "### Анализ топ-5 по жанров по регионам"
   ]
  },
  {
   "cell_type": "code",
   "execution_count": null,
   "id": "5b3ddc88",
   "metadata": {},
   "outputs": [],
   "source": [
    "pt_regions_genre = pd.pivot_table(data_prev, index=['genre'],\n",
    "                          values=['na_sales', 'eu_sales', 'jp_sales', 'other_sales'],\n",
    "                          aggfunc=['sum']).reset_index()\n",
    "pt_regions_genre.columns=['genre', 'eu_sales', 'jp_sales', 'na_sales', 'other_sales']"
   ]
  },
  {
   "cell_type": "code",
   "execution_count": null,
   "id": "d30f7ffb",
   "metadata": {},
   "outputs": [],
   "source": [
    "pt_regions_genre.sort_values(by='eu_sales', ascending=False).plot(x='genre', y='eu_sales', kind='bar',\n",
    "                                                           title = 'График продаж по жанрам в Европе');"
   ]
  },
  {
   "cell_type": "markdown",
   "id": "042143bc",
   "metadata": {},
   "source": [
    "В Европе преобладают следующие жанры:\n",
    "- Action,\n",
    "- Shooter,\n",
    "- Sports,\n",
    "- Role-Playing,\n",
    "- Racing."
   ]
  },
  {
   "cell_type": "code",
   "execution_count": null,
   "id": "260e8ada",
   "metadata": {},
   "outputs": [],
   "source": [
    "pt_regions_genre.sort_values(by='na_sales', ascending=False).plot(x='genre', y='na_sales', kind='bar',\n",
    "                                                           title = 'График продаж по жанрам в Канаде и США');"
   ]
  },
  {
   "cell_type": "markdown",
   "id": "3791a869",
   "metadata": {},
   "source": [
    "В Северной Америке преобладают следующие жанры:\n",
    "- Action,\n",
    "- Shooter,\n",
    "- Sports,\n",
    "- Role-Playing,\n",
    "- Misc.\n",
    "<div> Причем action и шутеры примерно на одном уровне. </div>"
   ]
  },
  {
   "cell_type": "code",
   "execution_count": null,
   "id": "f643bf91",
   "metadata": {},
   "outputs": [],
   "source": [
    "pt_regions_genre.sort_values(by='jp_sales', ascending=False).plot(x='genre', y='jp_sales', kind='bar',\n",
    "                                                           title = 'График продаж по жанрам в Японии');"
   ]
  },
  {
   "cell_type": "markdown",
   "id": "f10a9227",
   "metadata": {},
   "source": [
    "В Японии преобладают следующие жанры:\n",
    "- Role-Playing,\n",
    "- Action,\n",
    "- с заметным отрывом идут файтинги, аркады (misc) и шутеры."
   ]
  },
  {
   "cell_type": "code",
   "execution_count": null,
   "id": "fbd9164a",
   "metadata": {},
   "outputs": [],
   "source": [
    "pt_regions_genre.sort_values(by='other_sales', ascending=False).plot(x='genre', y='other_sales', kind='bar',\n",
    "                                                           title = 'График продаж по жанрам в других странах');"
   ]
  },
  {
   "cell_type": "markdown",
   "id": "52514c8b",
   "metadata": {},
   "source": [
    "В остальном мире топ-5 жанров такой же как в Северной Америке."
   ]
  },
  {
   "cell_type": "markdown",
   "id": "cba84b42",
   "metadata": {},
   "source": [
    "<b>Вывод</b>\n",
    "<div>Япония и в этом рейтинге показала свои особенности. Если для рынка Европы, Северной Америки и остального мира характерны в топах жанры action, шутеры, спортивные игры, а уже на четверотом месте ролевые игры и аркады, то в Японии очень популряны именно ролевки, с ними почти наравне идут action игры.</div>\n",
    "<div>В целом, наиболее популярны игры в жанре action - они занимают первое место во всех регионах, кроме Японии, но и в Японии у них почетное второе место.</div>"
   ]
  },
  {
   "cell_type": "markdown",
   "id": "c7aaf880",
   "metadata": {},
   "source": [
    "### Рейтинг ESRB"
   ]
  },
  {
   "cell_type": "markdown",
   "id": "449ca7e6",
   "metadata": {},
   "source": [
    "Рейтинг игр ESRB основан на их содержании аналогично рейтинговым системам кинофильмов. Рейтинг игры напечатан на упаковке, содержится в её рекламе и указан на сайте игры. \n",
    "Значения рейтинга:\n",
    "<div><b>«EC» («Early childhood») — «Для детей младшего возраста»:</b> Игра подходит для детей от 3 лет и не содержит материалов, которые родители могли бы счесть неподходящими. Продукты, получившие данный рейтинг, изначально разрабатываются для детей и обычно представляют собой развивающие игры. Некоторые усложнённые развивающие игры могут иметь рейтинг «Everyone».</div>\n",
    "<div><b>«E» («Everyone») — «Для всех»:</b> Содержание вполне подходит для возрастной категории от 6 лет. Такие игры могут понравиться и взрослым. Игры с этим рейтингом могут содержать минимальное насилие, в основном «мультяшного» характера.</div>\n",
    "<div><b>«E10+» («Everyone 10 and older») — «Для всех от 10 лет и старше»:</b> Проекты с данным рейтингом могут содержать или немного больше мультипликационного или мягкого насилия, или несколько откровенные сцены, или минимальное количество крови.</div>\n",
    "<div><b>«T» («Teen») — «Подросткам»:</b> Игра подходит для лиц от 13 лет. Проекты из данной категории могут содержать насилие, непристойные сцены, грубый юмор, в меру откровенное сексуальное содержимое, кровь или нечастое использование ненормативной лексики.</div>\n",
    "<div><b>«M» («Mature») — «Для взрослых»:</b> Материалы игры не подходят для подростков младше 17 лет. Проекты с данным рейтингом могут содержать достаточно жестокое насилие, большое количество крови с расчленением, непристойные сексуальные сцены или грубую ненормативную лексику, нежелательную для младшей аудитории.</div>\n",
    "<div><b>«AO» («Adults Only 18+») — «Только для взрослых»:</b> Содержание игры только для взрослых старше 18 лет. Продукты из данной категории могут содержать длительные сцены жестокого насилия и/или очень откровенное сексуальное содержимое, а также сцены с обнажением. Большинство таких игр предназначено для персональных компьютеров под управлением Microsoft Windows и Apple Macintosh. Рейтинг «Только для взрослых» является предметом многочисленных дискуссий, так как накладывает серьёзные ограничения на продажи игры.</div>\n",
    "<div><b>«RP» («Rating Pending») — «Рейтинг ожидается»:</b> Продукт был отправлен в ESRB и ожидает присвоения рейтинга.</div>\n",
    "<div><b>«RP 17+» («Rating Pending») — «Рейтинг ожидается - примерно 17+»:</b> Продукт отправлен ESRB на оценку, но примерное содержание близко к рейтингу «M».</div> "
   ]
  },
  {
   "cell_type": "code",
   "execution_count": null,
   "id": "117731bc",
   "metadata": {},
   "outputs": [],
   "source": [
    "pt_regions_esrb = pd.pivot_table(data_prev, index=['rating'],\n",
    "                          values=['na_sales', 'eu_sales', 'jp_sales', 'other_sales'],\n",
    "                          aggfunc=['sum']).reset_index()\n",
    "pt_regions_esrb.columns=['rating', 'eu_sales', 'jp_sales', 'na_sales', 'other_sales']"
   ]
  },
  {
   "cell_type": "code",
   "execution_count": null,
   "id": "c779afe0",
   "metadata": {},
   "outputs": [],
   "source": [
    "fig, ax = plt.subplots()\n",
    "ax.set_title('График продаж в зависимости от рейтинга в Северной Америке')\n",
    "ax.pie(pt_regions_esrb['na_sales'], labels=pt_regions_esrb['rating'],autopct='%1.1f%%');"
   ]
  },
  {
   "cell_type": "markdown",
   "id": "6ca2a63b",
   "metadata": {},
   "source": [
    "Большую долю продаж составляют игры с рейтингом \"для взрослых\" - 34%. Почти в два раза меньше игр с рейтингом \"для всех\" и по 14% и 12% на игры для подростков и \"для всех от 10 лет и старше\". У пятой части игр рейтинга нет."
   ]
  },
  {
   "cell_type": "code",
   "execution_count": null,
   "id": "d35179c0",
   "metadata": {},
   "outputs": [],
   "source": [
    "fig, ax = plt.subplots()\n",
    "ax.set_title('График продаж в зависимости от рейтинга в Европы')\n",
    "ax.pie(pt_regions_esrb['eu_sales'], labels=pt_regions_esrb['rating'],autopct='%1.1f%%');"
   ]
  },
  {
   "cell_type": "markdown",
   "id": "148bef0a",
   "metadata": {},
   "source": [
    "Похожая ситуация и в Европе: доля примерно такие же. Доля игр \"для взрослых\" и \"для всех\" чуть выше, чем в Северной Америке, доля игр для подростков и \"для всех от 10 лет и старше\" чуть меньше чем в NA. Также у пятой части игр нет рейтинга."
   ]
  },
  {
   "cell_type": "code",
   "execution_count": null,
   "id": "6ea21bcf",
   "metadata": {
    "scrolled": true
   },
   "outputs": [],
   "source": [
    "fig, ax = plt.subplots()\n",
    "ax.set_title('График продаж в зависимости от рейтинга в Японии')\n",
    "ax.pie(pt_regions_esrb['jp_sales'], labels=pt_regions_esrb['rating'],autopct='%1.1f%%');"
   ]
  },
  {
   "cell_type": "markdown",
   "id": "5838e447",
   "metadata": {},
   "source": [
    "В Японии распределение более половины игр (около 60%) не имеет рейтинга. 16% рынка - это игры для подростков, доля игр для взрослых и для всех 9% и 10% оответственно, доля игр \"для всех от 10 лет и старше\" меньше в два раза - около 5%."
   ]
  },
  {
   "cell_type": "code",
   "execution_count": null,
   "id": "447b924b",
   "metadata": {},
   "outputs": [],
   "source": [
    "fig, ax = plt.subplots()\n",
    "ax.set_title('График продаж в зависимости от рейтинга в других странах')\n",
    "ax.pie(pt_regions_esrb['other_sales'], labels=pt_regions_esrb['rating'],autopct='%1.1f%%');"
   ]
  },
  {
   "cell_type": "markdown",
   "id": "c50e0a42",
   "metadata": {},
   "source": [
    "Распределение по рейтингам для остального мира похоже на распределение долей в Европе."
   ]
  },
  {
   "cell_type": "markdown",
   "id": "7fe5d3c3",
   "metadata": {},
   "source": [
    "<b>Вывод</b>\n",
    "<div>\n",
    "    Анализ долей по рейтингам показал, что в Европе, Северной Америке и остальном мире распределение примерно одинаковое. Примерно пятая часть игр идет без рейтинга, большая часть продаж приходится на игры для взрослых - 35% , 12-14% приходится на игры для подростков. Игры с рейтингом E занимают примерно пятую часть рынка, игры с рейтингом E10 также занимают от 10 до 12%.\n",
    "    В Японии около 60% проданных игр без рейтинга ESRB. Доля игр для подростков выше, чем доля игр для взрослых - 16% и 9% соответственно. На рейтинги E и E10 приходится соответственно 10% и 5%. </div>\n",
    "    \n",
    "<div>Следует учитывать, что для японского рынка выпускается много локальных игр, которые в принципе не интересны пользователям остального мира. К тому же есть отдельные рейтинговые агенства Европы и Японии.</div>"
   ]
  },
  {
   "cell_type": "markdown",
   "id": "d46121b8",
   "metadata": {},
   "source": [
    "# Проверка гипотез"
   ]
  },
  {
   "cell_type": "markdown",
   "id": "159970b1",
   "metadata": {},
   "source": [
    "Проверка гипотезы: средние пользовательские рейтинги платформ Xbox One и PC одинаковые;\n",
    "\n",
    "```\n",
    "H_0: Пользовательский рейтинг (user_score) платформы \"Xbox One\" = пользовательский рейтинг (user_score) платформы \"PC\"`\n",
    "H_a: Пользовательский рейтинг (user_score) платформы \"Xbox One\" ≠ пользовательский рейтинг (user_score) платформы \"PC\"`\n",
    "alpha = 0.05\n",
    "```"
   ]
  },
  {
   "cell_type": "code",
   "execution_count": null,
   "id": "276768fb",
   "metadata": {},
   "outputs": [],
   "source": [
    "user_score_xone = data[data['platform'] =='XOne']['user_score']\n",
    "user_score_pc = data[data['platform'] =='PC']['user_score']\n",
    "results = st.ttest_ind(user_score_xone.dropna(),\n",
    "                       user_score_pc.dropna(),\n",
    "                       equal_var=False) # выборки не равны по размеру\n",
    "\n",
    "alpha = 0.05 # значение уровня значимости\n",
    "\n",
    "# вывод значения p-value на экран\n",
    "print(results.pvalue)\n",
    "\n",
    "# условный оператор с выводом строки с ответом\n",
    "if results.pvalue < alpha:\n",
    "    print(\"Отвергаем нулевую гипотезу\")\n",
    "else:\n",
    "    print(\"Не получилось отвергнуть нулевую гипотезу\")"
   ]
  },
  {
   "cell_type": "markdown",
   "id": "b63ce6e9",
   "metadata": {},
   "source": [
    "**Вывод:** вероятность того, что пользовательские рейтинги платформ Xbox One и PC одинаковые слишком мала."
   ]
  },
  {
   "cell_type": "markdown",
   "id": "3fb6a15d",
   "metadata": {},
   "source": [
    "Проверка гипотезы: средние пользовательские рейтинги жанров Action (англ. «действие», экшен-игры) и Sports (англ. «спортивные соревнования») разные.\n",
    "\n",
    "```\n",
    "H_0: Пользовательский рейтинг (user_score) жанра \"Action\" = пользовательский рейтинг (user_score) жанра \"Sports\"`\n",
    "H_a: Пользовательский рейтинг (user_score) жанра \"Action\" ≠ пользовательский рейтинг (user_score) жанра \"Sports\"`\n",
    "alpha = 0.05\n",
    "```"
   ]
  },
  {
   "cell_type": "code",
   "execution_count": null,
   "id": "d0ed3131",
   "metadata": {},
   "outputs": [],
   "source": [
    "user_score_action = data[data['genre'] =='Action']['user_score']\n",
    "user_score_sports = data[data['genre'] =='Sports']['user_score']\n",
    "results = st.ttest_ind(user_score_action.dropna(),\n",
    "                       user_score_sports.dropna(),\n",
    "                       equal_var=False) # выборки не равны по размеру\n",
    "\n",
    "alpha = 0.05 # значение уровня значимости\n",
    "\n",
    "# вывод значения p-value на экран\n",
    "print(results.pvalue)\n",
    "\n",
    "# условный оператор с выводом строки с ответом\n",
    "if results.pvalue < alpha:\n",
    "    print(\"Отвергаем нулевую гипотезу\")\n",
    "else:\n",
    "    print(\"Не получилось отвергнуть нулевую гипотезу\")"
   ]
  },
  {
   "cell_type": "markdown",
   "id": "12a585ce",
   "metadata": {},
   "source": [
    "**Вывод:** есть вероятность 7% того, что пользовательские рейтинги жанров Action и Sports равны."
   ]
  },
  {
   "cell_type": "markdown",
   "id": "44fd9948",
   "metadata": {},
   "source": [
    "# Общий вывод"
   ]
  },
  {
   "cell_type": "markdown",
   "id": "bf9b7d36",
   "metadata": {},
   "source": [
    "\n",
    "Были проанализированы исторические данные о продажах компьютерных игр по всему миру.\n",
    "    \n",
    "Данные покрывают период с 1980 до 2016 года. По каждой игре доступны данные о продажах в разрезе регионов, информация о жанре, платформе, а также пользовательская оценка, оценка критиков и рейтинг ESRB. Данные по оценкам и рейтингу заполнены примерно у 50% датасета. Дублей нет.\n",
    "\n",
    "Больше всего продаж в регионе Северная Америка, затем идет Европа, Япония и остальной мир.\n",
    "\n",
    "Для планирования маркетинговой кампании на 2017г. был взят период 2014-2016 гг, т.к. есть основания полагать, что данные за 2016г. неполные и не включают информацию о рождественнских и новогодних продажах. Использовалось три года для оценки динамики роста или падения в разрезе различных факторов.\n",
    "    \n",
    "В рассматриваемый период лидерами продаж по платформам являются PS4, XOne и японские Wiiu, 3DS. Следует учитывать региональные особенности: в Северной Америке платформы Sony и Microsoft близки по распространенности (надо учитывать, что на этот регион приходится больше всего продаж игр в принципе). На японском рынке ситуация совсем другая, т.к. превалирует платформа от Nintendo, но также распространены и платформы от Sony. В Европе и остальном мире PS4 безусловный лидер.\n",
    "\n",
    "По оценке пользователей прогнозировать продажи не корректно: корреляции между пользовательскими оценками и продажами нет. Среднебюджетные игры могут быть оценены высоко, но при этом не быть массовым продуктом.\n",
    "\n",
    "Оценка критиков более информативна, хотя и только на нее тоже полагаться нельзя. В последнее время общая оценка игры уходит в прошлое, т.к. оценивается множество показателей: графика, сюжет, динамика, соответствие жанру, геймплей etc.\n",
    "\n",
    "Самые высокие медианные продажи у шутеров и спортивных игр, в абсолютном выражении самыми прибыльными жанрами являются Action и Shooter, а вот стратегии, пазлы и приключенческие игры являются очень нишевым продуктом. При этом следует учитывать региональные предпочтения: в Японии покупатели отдают предпочтение играм в жанре Role-Playing. Также в топ-5 продаж по жанрам входят игры в жанрах Sports и Misc.\n",
    "\n",
    "Анализ игр по рейтингу ESRB показал, что ~20% продаваемых игр рейтига не имеют, в Японии долля таких игр больше 60%. По играм, имеющим рейтинг, во всех регионах кроме Японии большая часть продаж приходится на игры для взрослых ~35%, 12-14% приходится на игры для подростков. В Японии наоборот 16% приходится на игры для подростков и всего 9% на игры для взрослых."
   ]
  }
 ],
 "metadata": {
  "ExecuteTimeLog": [
   {
    "duration": 51,
    "start_time": "2022-08-28T13:54:51.546Z"
   },
   {
    "duration": 1270,
    "start_time": "2022-08-28T13:54:59.163Z"
   },
   {
    "duration": 119,
    "start_time": "2022-08-28T13:55:00.437Z"
   },
   {
    "duration": 14,
    "start_time": "2022-08-28T13:55:00.558Z"
   },
   {
    "duration": 7,
    "start_time": "2022-08-28T13:55:00.574Z"
   },
   {
    "duration": 757,
    "start_time": "2022-08-28T13:55:00.582Z"
   },
   {
    "duration": 59,
    "start_time": "2022-08-28T13:55:01.341Z"
   },
   {
    "duration": 4,
    "start_time": "2022-08-28T13:55:01.401Z"
   },
   {
    "duration": 19,
    "start_time": "2022-08-28T13:55:01.406Z"
   },
   {
    "duration": 5,
    "start_time": "2022-08-28T13:55:01.438Z"
   },
   {
    "duration": 31,
    "start_time": "2022-08-28T13:55:01.446Z"
   },
   {
    "duration": 8,
    "start_time": "2022-08-28T13:55:01.479Z"
   },
   {
    "duration": 26,
    "start_time": "2022-08-28T13:55:01.488Z"
   },
   {
    "duration": 11,
    "start_time": "2022-08-28T13:55:01.516Z"
   },
   {
    "duration": 33,
    "start_time": "2022-08-28T13:55:01.529Z"
   },
   {
    "duration": 38,
    "start_time": "2022-08-28T13:55:01.564Z"
   },
   {
    "duration": 94,
    "start_time": "2022-08-28T13:55:01.604Z"
   },
   {
    "duration": 6,
    "start_time": "2022-08-28T13:55:01.700Z"
   },
   {
    "duration": 190,
    "start_time": "2022-08-28T13:55:01.708Z"
   },
   {
    "duration": 17,
    "start_time": "2022-08-28T13:55:01.900Z"
   },
   {
    "duration": 44,
    "start_time": "2022-08-28T13:55:01.919Z"
   },
   {
    "duration": 173,
    "start_time": "2022-08-28T13:55:01.965Z"
   },
   {
    "duration": 202,
    "start_time": "2022-08-28T13:55:02.140Z"
   },
   {
    "duration": 128,
    "start_time": "2022-08-28T13:55:02.343Z"
   },
   {
    "duration": 24,
    "start_time": "2022-08-28T13:55:02.472Z"
   },
   {
    "duration": 208,
    "start_time": "2022-08-28T13:55:02.498Z"
   },
   {
    "duration": 123,
    "start_time": "2022-08-28T13:55:02.708Z"
   },
   {
    "duration": 124,
    "start_time": "2022-08-28T13:55:02.838Z"
   },
   {
    "duration": 160,
    "start_time": "2022-08-28T13:55:02.965Z"
   },
   {
    "duration": 159,
    "start_time": "2022-08-28T13:55:03.126Z"
   },
   {
    "duration": 12,
    "start_time": "2022-08-28T13:55:03.287Z"
   },
   {
    "duration": 19,
    "start_time": "2022-08-28T13:55:03.301Z"
   },
   {
    "duration": 167,
    "start_time": "2022-08-28T13:55:03.321Z"
   },
   {
    "duration": 159,
    "start_time": "2022-08-28T13:55:03.489Z"
   },
   {
    "duration": 157,
    "start_time": "2022-08-28T13:55:03.649Z"
   },
   {
    "duration": 170,
    "start_time": "2022-08-28T13:55:03.808Z"
   },
   {
    "duration": 15,
    "start_time": "2022-08-28T13:55:03.980Z"
   },
   {
    "duration": 12,
    "start_time": "2022-08-28T13:55:03.996Z"
   },
   {
    "duration": 171,
    "start_time": "2022-08-28T13:55:04.010Z"
   },
   {
    "duration": 184,
    "start_time": "2022-08-28T13:55:04.182Z"
   },
   {
    "duration": 238,
    "start_time": "2022-08-28T13:55:04.368Z"
   },
   {
    "duration": 169,
    "start_time": "2022-08-28T13:55:04.607Z"
   },
   {
    "duration": 12,
    "start_time": "2022-08-28T13:55:04.777Z"
   },
   {
    "duration": 181,
    "start_time": "2022-08-28T13:55:04.790Z"
   },
   {
    "duration": 178,
    "start_time": "2022-08-28T13:55:04.973Z"
   },
   {
    "duration": 173,
    "start_time": "2022-08-28T13:55:05.153Z"
   },
   {
    "duration": 188,
    "start_time": "2022-08-28T13:55:05.328Z"
   },
   {
    "duration": 21,
    "start_time": "2022-08-28T13:55:05.518Z"
   },
   {
    "duration": 85,
    "start_time": "2022-08-28T13:55:05.541Z"
   },
   {
    "duration": 87,
    "start_time": "2022-08-28T13:55:05.638Z"
   },
   {
    "duration": 89,
    "start_time": "2022-08-28T13:55:05.731Z"
   },
   {
    "duration": 92,
    "start_time": "2022-08-28T13:55:05.821Z"
   },
   {
    "duration": 12,
    "start_time": "2022-08-28T13:55:05.915Z"
   },
   {
    "duration": 10,
    "start_time": "2022-08-28T13:55:05.938Z"
   },
   {
    "duration": 192,
    "start_time": "2022-08-28T13:58:31.267Z"
   },
   {
    "duration": 1486,
    "start_time": "2022-08-28T19:29:42.838Z"
   },
   {
    "duration": 143,
    "start_time": "2022-08-28T19:29:44.327Z"
   },
   {
    "duration": 22,
    "start_time": "2022-08-28T19:29:44.472Z"
   },
   {
    "duration": 5,
    "start_time": "2022-08-28T19:29:44.497Z"
   },
   {
    "duration": 929,
    "start_time": "2022-08-28T19:29:44.508Z"
   },
   {
    "duration": 75,
    "start_time": "2022-08-28T19:29:45.440Z"
   },
   {
    "duration": 10,
    "start_time": "2022-08-28T19:29:45.528Z"
   },
   {
    "duration": 10,
    "start_time": "2022-08-28T19:29:45.540Z"
   },
   {
    "duration": 10,
    "start_time": "2022-08-28T19:29:45.552Z"
   },
   {
    "duration": 10,
    "start_time": "2022-08-28T19:29:45.566Z"
   },
   {
    "duration": 15,
    "start_time": "2022-08-28T19:29:45.578Z"
   },
   {
    "duration": 20,
    "start_time": "2022-08-28T19:29:45.594Z"
   },
   {
    "duration": 26,
    "start_time": "2022-08-28T19:29:45.616Z"
   },
   {
    "duration": 9,
    "start_time": "2022-08-28T19:29:45.644Z"
   },
   {
    "duration": 17,
    "start_time": "2022-08-28T19:29:45.655Z"
   },
   {
    "duration": 45,
    "start_time": "2022-08-28T19:29:45.674Z"
   },
   {
    "duration": 6,
    "start_time": "2022-08-28T19:29:45.720Z"
   },
   {
    "duration": 202,
    "start_time": "2022-08-28T19:29:45.733Z"
   },
   {
    "duration": 21,
    "start_time": "2022-08-28T19:29:45.937Z"
   },
   {
    "duration": 28,
    "start_time": "2022-08-28T19:29:45.960Z"
   },
   {
    "duration": 181,
    "start_time": "2022-08-28T19:29:46.010Z"
   },
   {
    "duration": 261,
    "start_time": "2022-08-28T19:29:46.193Z"
   },
   {
    "duration": 154,
    "start_time": "2022-08-28T19:29:46.459Z"
   },
   {
    "duration": 27,
    "start_time": "2022-08-28T19:29:46.620Z"
   },
   {
    "duration": 218,
    "start_time": "2022-08-28T19:29:46.649Z"
   },
   {
    "duration": 131,
    "start_time": "2022-08-28T19:29:46.869Z"
   },
   {
    "duration": 155,
    "start_time": "2022-08-28T19:29:47.009Z"
   },
   {
    "duration": 193,
    "start_time": "2022-08-28T19:29:47.168Z"
   },
   {
    "duration": 205,
    "start_time": "2022-08-28T19:29:47.363Z"
   },
   {
    "duration": 14,
    "start_time": "2022-08-28T19:29:47.569Z"
   },
   {
    "duration": 49,
    "start_time": "2022-08-28T19:29:47.585Z"
   },
   {
    "duration": 177,
    "start_time": "2022-08-28T19:29:47.637Z"
   },
   {
    "duration": 178,
    "start_time": "2022-08-28T19:29:47.816Z"
   },
   {
    "duration": 177,
    "start_time": "2022-08-28T19:29:48.012Z"
   },
   {
    "duration": 191,
    "start_time": "2022-08-28T19:29:48.191Z"
   },
   {
    "duration": 45,
    "start_time": "2022-08-28T19:29:48.383Z"
   },
   {
    "duration": 30,
    "start_time": "2022-08-28T19:29:48.430Z"
   },
   {
    "duration": 200,
    "start_time": "2022-08-28T19:29:48.462Z"
   },
   {
    "duration": 244,
    "start_time": "2022-08-28T19:29:48.664Z"
   },
   {
    "duration": 363,
    "start_time": "2022-08-28T19:29:48.922Z"
   },
   {
    "duration": 249,
    "start_time": "2022-08-28T19:29:49.290Z"
   },
   {
    "duration": 21,
    "start_time": "2022-08-28T19:29:49.541Z"
   },
   {
    "duration": 229,
    "start_time": "2022-08-28T19:29:49.564Z"
   },
   {
    "duration": 250,
    "start_time": "2022-08-28T19:29:49.794Z"
   },
   {
    "duration": 216,
    "start_time": "2022-08-28T19:29:50.046Z"
   },
   {
    "duration": 267,
    "start_time": "2022-08-28T19:29:50.264Z"
   },
   {
    "duration": 19,
    "start_time": "2022-08-28T19:29:50.535Z"
   },
   {
    "duration": 118,
    "start_time": "2022-08-28T19:29:50.556Z"
   },
   {
    "duration": 113,
    "start_time": "2022-08-28T19:29:50.676Z"
   },
   {
    "duration": 116,
    "start_time": "2022-08-28T19:29:50.791Z"
   },
   {
    "duration": 106,
    "start_time": "2022-08-28T19:29:50.909Z"
   },
   {
    "duration": 16,
    "start_time": "2022-08-28T19:29:51.021Z"
   },
   {
    "duration": 24,
    "start_time": "2022-08-28T19:29:51.039Z"
   },
   {
    "duration": 16,
    "start_time": "2022-08-28T19:30:44.599Z"
   },
   {
    "duration": 122,
    "start_time": "2022-08-28T19:31:48.067Z"
   },
   {
    "duration": 1278,
    "start_time": "2022-08-28T19:32:00.570Z"
   },
   {
    "duration": 87,
    "start_time": "2022-08-28T19:32:01.850Z"
   },
   {
    "duration": 17,
    "start_time": "2022-08-28T19:32:01.939Z"
   },
   {
    "duration": 26,
    "start_time": "2022-08-28T19:32:01.959Z"
   },
   {
    "duration": 905,
    "start_time": "2022-08-28T19:32:01.987Z"
   },
   {
    "duration": 69,
    "start_time": "2022-08-28T19:32:02.893Z"
   },
   {
    "duration": 5,
    "start_time": "2022-08-28T19:32:02.964Z"
   },
   {
    "duration": 13,
    "start_time": "2022-08-28T19:32:02.971Z"
   },
   {
    "duration": 20,
    "start_time": "2022-08-28T19:32:02.985Z"
   },
   {
    "duration": 30,
    "start_time": "2022-08-28T19:32:03.009Z"
   },
   {
    "duration": 9,
    "start_time": "2022-08-28T19:32:03.041Z"
   },
   {
    "duration": 21,
    "start_time": "2022-08-28T19:32:03.052Z"
   },
   {
    "duration": 5,
    "start_time": "2022-08-28T19:32:03.075Z"
   },
   {
    "duration": 14,
    "start_time": "2022-08-28T19:32:03.082Z"
   },
   {
    "duration": 33,
    "start_time": "2022-08-28T19:32:03.097Z"
   },
   {
    "duration": 46,
    "start_time": "2022-08-28T19:32:03.132Z"
   },
   {
    "duration": 7,
    "start_time": "2022-08-28T19:32:03.180Z"
   },
   {
    "duration": 244,
    "start_time": "2022-08-28T19:32:03.189Z"
   },
   {
    "duration": 24,
    "start_time": "2022-08-28T19:32:03.436Z"
   },
   {
    "duration": 27,
    "start_time": "2022-08-28T19:32:03.463Z"
   },
   {
    "duration": 191,
    "start_time": "2022-08-28T19:32:03.492Z"
   },
   {
    "duration": 238,
    "start_time": "2022-08-28T19:32:03.685Z"
   },
   {
    "duration": 137,
    "start_time": "2022-08-28T19:32:03.924Z"
   },
   {
    "duration": 23,
    "start_time": "2022-08-28T19:32:04.063Z"
   },
   {
    "duration": 245,
    "start_time": "2022-08-28T19:32:04.088Z"
   },
   {
    "duration": 133,
    "start_time": "2022-08-28T19:32:04.335Z"
   },
   {
    "duration": 132,
    "start_time": "2022-08-28T19:32:04.470Z"
   },
   {
    "duration": 182,
    "start_time": "2022-08-28T19:32:04.609Z"
   },
   {
    "duration": 178,
    "start_time": "2022-08-28T19:32:04.793Z"
   },
   {
    "duration": 13,
    "start_time": "2022-08-28T19:32:04.973Z"
   },
   {
    "duration": 39,
    "start_time": "2022-08-28T19:32:04.988Z"
   },
   {
    "duration": 184,
    "start_time": "2022-08-28T19:32:05.029Z"
   },
   {
    "duration": 216,
    "start_time": "2022-08-28T19:32:05.218Z"
   },
   {
    "duration": 181,
    "start_time": "2022-08-28T19:32:05.436Z"
   },
   {
    "duration": 172,
    "start_time": "2022-08-28T19:32:05.626Z"
   },
   {
    "duration": 29,
    "start_time": "2022-08-28T19:32:05.802Z"
   },
   {
    "duration": 15,
    "start_time": "2022-08-28T19:32:05.833Z"
   },
   {
    "duration": 188,
    "start_time": "2022-08-28T19:32:05.849Z"
   },
   {
    "duration": 197,
    "start_time": "2022-08-28T19:32:06.040Z"
   },
   {
    "duration": 293,
    "start_time": "2022-08-28T19:32:06.240Z"
   },
   {
    "duration": 204,
    "start_time": "2022-08-28T19:32:06.535Z"
   },
   {
    "duration": 14,
    "start_time": "2022-08-28T19:32:06.741Z"
   },
   {
    "duration": 214,
    "start_time": "2022-08-28T19:32:06.756Z"
   },
   {
    "duration": 217,
    "start_time": "2022-08-28T19:32:06.972Z"
   },
   {
    "duration": 232,
    "start_time": "2022-08-28T19:32:07.191Z"
   },
   {
    "duration": 238,
    "start_time": "2022-08-28T19:32:07.425Z"
   },
   {
    "duration": 14,
    "start_time": "2022-08-28T19:32:07.665Z"
   },
   {
    "duration": 170,
    "start_time": "2022-08-28T19:32:07.681Z"
   },
   {
    "duration": 107,
    "start_time": "2022-08-28T19:32:07.853Z"
   },
   {
    "duration": 114,
    "start_time": "2022-08-28T19:32:07.962Z"
   },
   {
    "duration": 104,
    "start_time": "2022-08-28T19:32:08.078Z"
   },
   {
    "duration": 139,
    "start_time": "2022-08-28T19:32:08.184Z"
   },
   {
    "duration": 0,
    "start_time": "2022-08-28T19:32:08.325Z"
   },
   {
    "duration": 11,
    "start_time": "2022-08-28T19:32:42.591Z"
   },
   {
    "duration": 17,
    "start_time": "2022-08-28T19:32:52.126Z"
   },
   {
    "duration": 6,
    "start_time": "2022-08-28T19:33:21.765Z"
   },
   {
    "duration": 6,
    "start_time": "2022-08-28T19:33:26.943Z"
   },
   {
    "duration": 10,
    "start_time": "2022-08-28T19:34:14.173Z"
   },
   {
    "duration": 7,
    "start_time": "2022-08-28T19:34:39.633Z"
   },
   {
    "duration": 101,
    "start_time": "2022-08-28T19:35:16.038Z"
   },
   {
    "duration": 7,
    "start_time": "2022-08-28T19:35:35.801Z"
   },
   {
    "duration": 9,
    "start_time": "2022-08-28T19:35:46.431Z"
   },
   {
    "duration": 57,
    "start_time": "2022-08-29T17:15:42.599Z"
   },
   {
    "duration": 1351,
    "start_time": "2022-08-29T17:15:54.071Z"
   },
   {
    "duration": 113,
    "start_time": "2022-08-29T17:15:55.423Z"
   },
   {
    "duration": 13,
    "start_time": "2022-08-29T17:15:55.538Z"
   },
   {
    "duration": 662,
    "start_time": "2022-08-29T17:15:55.553Z"
   },
   {
    "duration": 6,
    "start_time": "2022-08-29T17:15:56.217Z"
   },
   {
    "duration": 55,
    "start_time": "2022-08-29T17:15:56.225Z"
   },
   {
    "duration": 4,
    "start_time": "2022-08-29T17:15:56.281Z"
   },
   {
    "duration": 13,
    "start_time": "2022-08-29T17:16:00.410Z"
   },
   {
    "duration": 10,
    "start_time": "2022-08-29T17:27:32.000Z"
   },
   {
    "duration": 28,
    "start_time": "2022-08-29T17:28:17.019Z"
   },
   {
    "duration": 73,
    "start_time": "2022-08-29T17:40:41.017Z"
   },
   {
    "duration": 1030,
    "start_time": "2022-08-29T17:40:51.146Z"
   },
   {
    "duration": 70,
    "start_time": "2022-08-29T17:40:52.178Z"
   },
   {
    "duration": 15,
    "start_time": "2022-08-29T17:40:52.249Z"
   },
   {
    "duration": 671,
    "start_time": "2022-08-29T17:40:52.266Z"
   },
   {
    "duration": 4,
    "start_time": "2022-08-29T17:40:52.939Z"
   },
   {
    "duration": 22,
    "start_time": "2022-08-29T17:40:52.944Z"
   },
   {
    "duration": 5,
    "start_time": "2022-08-29T17:40:52.967Z"
   },
   {
    "duration": 8,
    "start_time": "2022-08-29T17:40:52.973Z"
   },
   {
    "duration": 20,
    "start_time": "2022-08-29T17:40:52.982Z"
   },
   {
    "duration": 48,
    "start_time": "2022-08-29T17:40:53.003Z"
   },
   {
    "duration": 4,
    "start_time": "2022-08-29T17:40:53.052Z"
   },
   {
    "duration": 10,
    "start_time": "2022-08-29T17:40:53.057Z"
   },
   {
    "duration": 4,
    "start_time": "2022-08-29T17:40:53.069Z"
   },
   {
    "duration": 6,
    "start_time": "2022-08-29T17:40:53.100Z"
   },
   {
    "duration": 6,
    "start_time": "2022-08-29T17:40:53.107Z"
   },
   {
    "duration": 7,
    "start_time": "2022-08-29T17:40:53.115Z"
   },
   {
    "duration": 32,
    "start_time": "2022-08-29T17:40:53.123Z"
   },
   {
    "duration": 4,
    "start_time": "2022-08-29T17:40:53.156Z"
   },
   {
    "duration": 157,
    "start_time": "2022-08-29T17:40:53.161Z"
   },
   {
    "duration": 14,
    "start_time": "2022-08-29T17:40:53.319Z"
   },
   {
    "duration": 67,
    "start_time": "2022-08-29T17:40:53.334Z"
   },
   {
    "duration": 137,
    "start_time": "2022-08-29T17:40:53.403Z"
   },
   {
    "duration": 172,
    "start_time": "2022-08-29T17:40:53.542Z"
   },
   {
    "duration": 102,
    "start_time": "2022-08-29T17:40:53.716Z"
   },
   {
    "duration": 18,
    "start_time": "2022-08-29T17:40:53.820Z"
   },
   {
    "duration": 173,
    "start_time": "2022-08-29T17:40:53.840Z"
   },
   {
    "duration": 108,
    "start_time": "2022-08-29T17:40:54.014Z"
   },
   {
    "duration": 107,
    "start_time": "2022-08-29T17:40:54.124Z"
   },
   {
    "duration": 138,
    "start_time": "2022-08-29T17:40:54.233Z"
   },
   {
    "duration": 197,
    "start_time": "2022-08-29T17:40:54.373Z"
   },
   {
    "duration": 14,
    "start_time": "2022-08-29T17:40:54.573Z"
   },
   {
    "duration": 24,
    "start_time": "2022-08-29T17:40:54.599Z"
   },
   {
    "duration": 141,
    "start_time": "2022-08-29T17:40:54.625Z"
   },
   {
    "duration": 140,
    "start_time": "2022-08-29T17:40:54.767Z"
   },
   {
    "duration": 139,
    "start_time": "2022-08-29T17:40:54.909Z"
   },
   {
    "duration": 143,
    "start_time": "2022-08-29T17:40:55.049Z"
   },
   {
    "duration": 17,
    "start_time": "2022-08-29T17:40:55.194Z"
   },
   {
    "duration": 10,
    "start_time": "2022-08-29T17:40:55.213Z"
   },
   {
    "duration": 154,
    "start_time": "2022-08-29T17:40:55.224Z"
   },
   {
    "duration": 151,
    "start_time": "2022-08-29T17:40:55.380Z"
   },
   {
    "duration": 207,
    "start_time": "2022-08-29T17:40:55.535Z"
   },
   {
    "duration": 151,
    "start_time": "2022-08-29T17:40:55.743Z"
   },
   {
    "duration": 9,
    "start_time": "2022-08-29T17:40:55.898Z"
   },
   {
    "duration": 165,
    "start_time": "2022-08-29T17:40:55.909Z"
   },
   {
    "duration": 193,
    "start_time": "2022-08-29T17:40:56.075Z"
   },
   {
    "duration": 162,
    "start_time": "2022-08-29T17:40:56.270Z"
   },
   {
    "duration": 171,
    "start_time": "2022-08-29T17:40:56.434Z"
   },
   {
    "duration": 10,
    "start_time": "2022-08-29T17:40:56.607Z"
   },
   {
    "duration": 96,
    "start_time": "2022-08-29T17:40:56.618Z"
   },
   {
    "duration": 92,
    "start_time": "2022-08-29T17:40:56.716Z"
   },
   {
    "duration": 93,
    "start_time": "2022-08-29T17:40:56.810Z"
   },
   {
    "duration": 80,
    "start_time": "2022-08-29T17:40:56.904Z"
   },
   {
    "duration": 10,
    "start_time": "2022-08-29T17:40:56.998Z"
   },
   {
    "duration": 13,
    "start_time": "2022-08-29T17:40:57.009Z"
   },
   {
    "duration": 24,
    "start_time": "2022-08-29T17:42:47.569Z"
   },
   {
    "duration": 118,
    "start_time": "2022-08-29T17:56:48.358Z"
   },
   {
    "duration": 24,
    "start_time": "2022-08-29T18:12:16.373Z"
   },
   {
    "duration": 232,
    "start_time": "2022-08-29T18:12:35.827Z"
   },
   {
    "duration": 36,
    "start_time": "2022-08-29T18:14:09.613Z"
   },
   {
    "duration": 510,
    "start_time": "2022-08-29T18:14:13.047Z"
   },
   {
    "duration": 460,
    "start_time": "2022-08-29T18:14:38.126Z"
   },
   {
    "duration": 424,
    "start_time": "2022-08-29T18:14:45.354Z"
   },
   {
    "duration": 532,
    "start_time": "2022-08-29T18:15:04.802Z"
   },
   {
    "duration": 196,
    "start_time": "2022-08-29T18:31:30.575Z"
   },
   {
    "duration": 63,
    "start_time": "2022-08-29T18:31:40.914Z"
   },
   {
    "duration": 77,
    "start_time": "2022-08-29T18:34:50.534Z"
   },
   {
    "duration": 148,
    "start_time": "2022-08-29T18:35:12.757Z"
   },
   {
    "duration": 80,
    "start_time": "2022-08-29T18:41:00.822Z"
   },
   {
    "duration": 87,
    "start_time": "2022-08-29T18:42:23.819Z"
   },
   {
    "duration": 10,
    "start_time": "2022-08-29T18:42:35.713Z"
   },
   {
    "duration": 8,
    "start_time": "2022-08-29T18:50:39.292Z"
   },
   {
    "duration": 89,
    "start_time": "2022-08-29T18:51:03.546Z"
   },
   {
    "duration": 90,
    "start_time": "2022-08-29T18:51:26.982Z"
   },
   {
    "duration": 9,
    "start_time": "2022-08-29T18:51:30.144Z"
   },
   {
    "duration": 79,
    "start_time": "2022-08-29T18:52:09.795Z"
   },
   {
    "duration": 9,
    "start_time": "2022-08-29T18:52:25.743Z"
   },
   {
    "duration": 84,
    "start_time": "2022-08-29T18:52:41.784Z"
   },
   {
    "duration": 8,
    "start_time": "2022-08-29T18:52:57.524Z"
   },
   {
    "duration": 16,
    "start_time": "2022-08-29T18:57:14.933Z"
   },
   {
    "duration": 24,
    "start_time": "2022-08-29T18:57:28.554Z"
   },
   {
    "duration": 23,
    "start_time": "2022-08-29T18:57:48.129Z"
   },
   {
    "duration": 15,
    "start_time": "2022-08-29T19:00:04.596Z"
   },
   {
    "duration": 78,
    "start_time": "2022-08-29T19:00:06.555Z"
   },
   {
    "duration": 76,
    "start_time": "2022-08-29T19:00:10.416Z"
   },
   {
    "duration": 74,
    "start_time": "2022-08-29T19:00:12.946Z"
   },
   {
    "duration": 74,
    "start_time": "2022-08-29T19:00:17.340Z"
   },
   {
    "duration": 999,
    "start_time": "2022-08-29T19:00:37.754Z"
   },
   {
    "duration": 69,
    "start_time": "2022-08-29T19:00:38.755Z"
   },
   {
    "duration": 12,
    "start_time": "2022-08-29T19:00:38.826Z"
   },
   {
    "duration": 659,
    "start_time": "2022-08-29T19:00:38.840Z"
   },
   {
    "duration": 6,
    "start_time": "2022-08-29T19:00:39.500Z"
   },
   {
    "duration": 20,
    "start_time": "2022-08-29T19:00:39.507Z"
   },
   {
    "duration": 5,
    "start_time": "2022-08-29T19:00:39.529Z"
   },
   {
    "duration": 6,
    "start_time": "2022-08-29T19:00:39.535Z"
   },
   {
    "duration": 6,
    "start_time": "2022-08-29T19:00:39.542Z"
   },
   {
    "duration": 77,
    "start_time": "2022-08-29T19:00:39.551Z"
   },
   {
    "duration": 4,
    "start_time": "2022-08-29T19:00:39.629Z"
   },
   {
    "duration": 12,
    "start_time": "2022-08-29T19:00:39.635Z"
   },
   {
    "duration": 5,
    "start_time": "2022-08-29T19:00:39.648Z"
   },
   {
    "duration": 10,
    "start_time": "2022-08-29T19:00:39.654Z"
   },
   {
    "duration": 5,
    "start_time": "2022-08-29T19:00:39.665Z"
   },
   {
    "duration": 31,
    "start_time": "2022-08-29T19:00:39.671Z"
   },
   {
    "duration": 31,
    "start_time": "2022-08-29T19:00:39.703Z"
   },
   {
    "duration": 5,
    "start_time": "2022-08-29T19:00:39.736Z"
   },
   {
    "duration": 159,
    "start_time": "2022-08-29T19:00:39.743Z"
   },
   {
    "duration": 15,
    "start_time": "2022-08-29T19:00:39.903Z"
   },
   {
    "duration": 27,
    "start_time": "2022-08-29T19:00:39.919Z"
   },
   {
    "duration": 545,
    "start_time": "2022-08-29T19:00:39.948Z"
   },
   {
    "duration": 137,
    "start_time": "2022-08-29T19:00:40.495Z"
   },
   {
    "duration": 231,
    "start_time": "2022-08-29T19:00:40.633Z"
   },
   {
    "duration": 100,
    "start_time": "2022-08-29T19:00:40.865Z"
   },
   {
    "duration": 86,
    "start_time": "2022-08-29T19:00:40.966Z"
   },
   {
    "duration": 9,
    "start_time": "2022-08-29T19:00:41.053Z"
   },
   {
    "duration": 35,
    "start_time": "2022-08-29T19:00:41.065Z"
   },
   {
    "duration": 103,
    "start_time": "2022-08-29T19:00:41.101Z"
   },
   {
    "duration": 105,
    "start_time": "2022-08-29T19:00:41.205Z"
   },
   {
    "duration": 9,
    "start_time": "2022-08-29T19:00:41.312Z"
   },
   {
    "duration": 94,
    "start_time": "2022-08-29T19:00:41.323Z"
   },
   {
    "duration": 90,
    "start_time": "2022-08-29T19:00:41.418Z"
   },
   {
    "duration": 9,
    "start_time": "2022-08-29T19:00:41.510Z"
   },
   {
    "duration": 103,
    "start_time": "2022-08-29T19:00:41.520Z"
   },
   {
    "duration": 93,
    "start_time": "2022-08-29T19:00:41.624Z"
   },
   {
    "duration": 8,
    "start_time": "2022-08-29T19:00:41.718Z"
   },
   {
    "duration": 141,
    "start_time": "2022-08-29T19:00:41.728Z"
   },
   {
    "duration": 159,
    "start_time": "2022-08-29T19:00:41.870Z"
   },
   {
    "duration": 13,
    "start_time": "2022-08-29T19:00:42.031Z"
   },
   {
    "duration": 15,
    "start_time": "2022-08-29T19:00:42.046Z"
   },
   {
    "duration": 169,
    "start_time": "2022-08-29T19:00:42.063Z"
   },
   {
    "duration": 213,
    "start_time": "2022-08-29T19:00:42.233Z"
   },
   {
    "duration": 145,
    "start_time": "2022-08-29T19:00:42.447Z"
   },
   {
    "duration": 139,
    "start_time": "2022-08-29T19:00:42.598Z"
   },
   {
    "duration": 23,
    "start_time": "2022-08-29T19:00:42.738Z"
   },
   {
    "duration": 9,
    "start_time": "2022-08-29T19:00:42.763Z"
   },
   {
    "duration": 160,
    "start_time": "2022-08-29T19:00:42.774Z"
   },
   {
    "duration": 149,
    "start_time": "2022-08-29T19:00:42.936Z"
   },
   {
    "duration": 156,
    "start_time": "2022-08-29T19:00:43.087Z"
   },
   {
    "duration": 147,
    "start_time": "2022-08-29T19:00:43.244Z"
   },
   {
    "duration": 10,
    "start_time": "2022-08-29T19:00:43.398Z"
   },
   {
    "duration": 164,
    "start_time": "2022-08-29T19:00:43.409Z"
   },
   {
    "duration": 169,
    "start_time": "2022-08-29T19:00:43.574Z"
   },
   {
    "duration": 161,
    "start_time": "2022-08-29T19:00:43.745Z"
   },
   {
    "duration": 182,
    "start_time": "2022-08-29T19:00:43.908Z"
   },
   {
    "duration": 15,
    "start_time": "2022-08-29T19:00:44.091Z"
   },
   {
    "duration": 164,
    "start_time": "2022-08-29T19:00:44.108Z"
   },
   {
    "duration": 90,
    "start_time": "2022-08-29T19:00:44.273Z"
   },
   {
    "duration": 110,
    "start_time": "2022-08-29T19:00:44.364Z"
   },
   {
    "duration": 112,
    "start_time": "2022-08-29T19:00:44.475Z"
   },
   {
    "duration": 12,
    "start_time": "2022-08-29T19:00:44.598Z"
   },
   {
    "duration": 22,
    "start_time": "2022-08-29T19:00:44.612Z"
   },
   {
    "duration": 4,
    "start_time": "2022-08-29T19:01:43.488Z"
   },
   {
    "duration": 11,
    "start_time": "2022-08-29T19:01:56.321Z"
   },
   {
    "duration": 76,
    "start_time": "2022-08-29T19:01:58.502Z"
   },
   {
    "duration": 1041,
    "start_time": "2022-08-29T19:02:06.818Z"
   },
   {
    "duration": 68,
    "start_time": "2022-08-29T19:02:07.861Z"
   },
   {
    "duration": 12,
    "start_time": "2022-08-29T19:02:07.930Z"
   },
   {
    "duration": 653,
    "start_time": "2022-08-29T19:02:07.943Z"
   },
   {
    "duration": 5,
    "start_time": "2022-08-29T19:02:08.598Z"
   },
   {
    "duration": 17,
    "start_time": "2022-08-29T19:02:08.604Z"
   },
   {
    "duration": 5,
    "start_time": "2022-08-29T19:02:08.622Z"
   },
   {
    "duration": 14,
    "start_time": "2022-08-29T19:02:08.628Z"
   },
   {
    "duration": 4,
    "start_time": "2022-08-29T19:02:08.644Z"
   },
   {
    "duration": 69,
    "start_time": "2022-08-29T19:02:08.651Z"
   },
   {
    "duration": 4,
    "start_time": "2022-08-29T19:02:08.722Z"
   },
   {
    "duration": 23,
    "start_time": "2022-08-29T19:02:08.727Z"
   },
   {
    "duration": 6,
    "start_time": "2022-08-29T19:02:08.751Z"
   },
   {
    "duration": 7,
    "start_time": "2022-08-29T19:02:08.758Z"
   },
   {
    "duration": 4,
    "start_time": "2022-08-29T19:02:08.766Z"
   },
   {
    "duration": 5,
    "start_time": "2022-08-29T19:02:08.771Z"
   },
   {
    "duration": 48,
    "start_time": "2022-08-29T19:02:08.777Z"
   },
   {
    "duration": 4,
    "start_time": "2022-08-29T19:02:08.827Z"
   },
   {
    "duration": 150,
    "start_time": "2022-08-29T19:02:08.832Z"
   },
   {
    "duration": 20,
    "start_time": "2022-08-29T19:02:08.984Z"
   },
   {
    "duration": 24,
    "start_time": "2022-08-29T19:02:09.005Z"
   },
   {
    "duration": 463,
    "start_time": "2022-08-29T19:02:09.030Z"
   },
   {
    "duration": 137,
    "start_time": "2022-08-29T19:02:09.495Z"
   },
   {
    "duration": 236,
    "start_time": "2022-08-29T19:02:09.634Z"
   },
   {
    "duration": 93,
    "start_time": "2022-08-29T19:02:09.872Z"
   },
   {
    "duration": 83,
    "start_time": "2022-08-29T19:02:09.967Z"
   },
   {
    "duration": 8,
    "start_time": "2022-08-29T19:02:10.052Z"
   },
   {
    "duration": 17,
    "start_time": "2022-08-29T19:02:10.063Z"
   },
   {
    "duration": 97,
    "start_time": "2022-08-29T19:02:10.081Z"
   },
   {
    "duration": 102,
    "start_time": "2022-08-29T19:02:10.180Z"
   },
   {
    "duration": 15,
    "start_time": "2022-08-29T19:02:10.284Z"
   },
   {
    "duration": 99,
    "start_time": "2022-08-29T19:02:10.300Z"
   },
   {
    "duration": 78,
    "start_time": "2022-08-29T19:02:10.401Z"
   },
   {
    "duration": 18,
    "start_time": "2022-08-29T19:02:10.481Z"
   },
   {
    "duration": 84,
    "start_time": "2022-08-29T19:02:10.500Z"
   },
   {
    "duration": 84,
    "start_time": "2022-08-29T19:02:10.598Z"
   },
   {
    "duration": 20,
    "start_time": "2022-08-29T19:02:10.684Z"
   },
   {
    "duration": 132,
    "start_time": "2022-08-29T19:02:10.705Z"
   },
   {
    "duration": 152,
    "start_time": "2022-08-29T19:02:10.839Z"
   },
   {
    "duration": 11,
    "start_time": "2022-08-29T19:02:10.993Z"
   },
   {
    "duration": 17,
    "start_time": "2022-08-29T19:02:11.005Z"
   },
   {
    "duration": 135,
    "start_time": "2022-08-29T19:02:11.023Z"
   },
   {
    "duration": 196,
    "start_time": "2022-08-29T19:02:11.159Z"
   },
   {
    "duration": 131,
    "start_time": "2022-08-29T19:02:11.356Z"
   },
   {
    "duration": 136,
    "start_time": "2022-08-29T19:02:11.489Z"
   },
   {
    "duration": 23,
    "start_time": "2022-08-29T19:02:11.627Z"
   },
   {
    "duration": 11,
    "start_time": "2022-08-29T19:02:11.652Z"
   },
   {
    "duration": 164,
    "start_time": "2022-08-29T19:02:11.664Z"
   },
   {
    "duration": 143,
    "start_time": "2022-08-29T19:02:11.830Z"
   },
   {
    "duration": 156,
    "start_time": "2022-08-29T19:02:11.975Z"
   },
   {
    "duration": 149,
    "start_time": "2022-08-29T19:02:12.133Z"
   },
   {
    "duration": 19,
    "start_time": "2022-08-29T19:02:12.283Z"
   },
   {
    "duration": 150,
    "start_time": "2022-08-29T19:02:12.304Z"
   },
   {
    "duration": 156,
    "start_time": "2022-08-29T19:02:12.456Z"
   },
   {
    "duration": 153,
    "start_time": "2022-08-29T19:02:12.614Z"
   },
   {
    "duration": 166,
    "start_time": "2022-08-29T19:02:12.769Z"
   },
   {
    "duration": 11,
    "start_time": "2022-08-29T19:02:12.937Z"
   },
   {
    "duration": 156,
    "start_time": "2022-08-29T19:02:12.949Z"
   },
   {
    "duration": 78,
    "start_time": "2022-08-29T19:02:13.107Z"
   },
   {
    "duration": 78,
    "start_time": "2022-08-29T19:02:13.201Z"
   },
   {
    "duration": 90,
    "start_time": "2022-08-29T19:02:13.280Z"
   },
   {
    "duration": 8,
    "start_time": "2022-08-29T19:02:13.371Z"
   },
   {
    "duration": 23,
    "start_time": "2022-08-29T19:02:13.381Z"
   },
   {
    "duration": 19,
    "start_time": "2022-08-29T19:24:45.619Z"
   },
   {
    "duration": 144,
    "start_time": "2022-08-29T19:28:13.925Z"
   },
   {
    "duration": 294,
    "start_time": "2022-08-29T19:28:28.269Z"
   },
   {
    "duration": 175,
    "start_time": "2022-08-29T19:28:45.769Z"
   },
   {
    "duration": 92,
    "start_time": "2022-08-29T19:29:38.545Z"
   },
   {
    "duration": 104,
    "start_time": "2022-08-29T19:29:42.050Z"
   },
   {
    "duration": 9,
    "start_time": "2022-08-29T19:29:45.296Z"
   },
   {
    "duration": 21,
    "start_time": "2022-08-29T19:30:01.476Z"
   },
   {
    "duration": 88,
    "start_time": "2022-08-29T19:30:08.231Z"
   },
   {
    "duration": 88,
    "start_time": "2022-08-29T19:30:10.689Z"
   },
   {
    "duration": 9,
    "start_time": "2022-08-29T19:30:12.722Z"
   },
   {
    "duration": 113,
    "start_time": "2022-08-29T19:30:14.569Z"
   },
   {
    "duration": 86,
    "start_time": "2022-08-29T19:30:16.396Z"
   },
   {
    "duration": 8,
    "start_time": "2022-08-29T19:30:18.169Z"
   },
   {
    "duration": 150,
    "start_time": "2022-08-29T19:30:19.691Z"
   },
   {
    "duration": 82,
    "start_time": "2022-08-29T19:30:21.321Z"
   },
   {
    "duration": 9,
    "start_time": "2022-08-29T19:30:23.781Z"
   },
   {
    "duration": 132,
    "start_time": "2022-08-29T19:30:26.925Z"
   },
   {
    "duration": 145,
    "start_time": "2022-08-29T19:30:30.787Z"
   },
   {
    "duration": 12,
    "start_time": "2022-08-29T19:30:36.214Z"
   },
   {
    "duration": 21,
    "start_time": "2022-08-29T19:30:44.941Z"
   },
   {
    "duration": 124,
    "start_time": "2022-08-29T19:31:33.291Z"
   },
   {
    "duration": 130,
    "start_time": "2022-08-29T19:31:35.472Z"
   },
   {
    "duration": 132,
    "start_time": "2022-08-29T19:31:40.055Z"
   },
   {
    "duration": 130,
    "start_time": "2022-08-29T19:31:42.989Z"
   },
   {
    "duration": 24,
    "start_time": "2022-08-29T19:31:58.133Z"
   },
   {
    "duration": 15,
    "start_time": "2022-08-29T19:33:14.456Z"
   },
   {
    "duration": 152,
    "start_time": "2022-08-29T19:33:16.386Z"
   },
   {
    "duration": 133,
    "start_time": "2022-08-29T19:33:19.667Z"
   },
   {
    "duration": 148,
    "start_time": "2022-08-29T19:33:23.686Z"
   },
   {
    "duration": 141,
    "start_time": "2022-08-29T19:33:26.606Z"
   },
   {
    "duration": 12,
    "start_time": "2022-08-29T19:33:30.244Z"
   },
   {
    "duration": 239,
    "start_time": "2022-08-29T19:33:31.661Z"
   },
   {
    "duration": 174,
    "start_time": "2022-08-29T19:33:35.351Z"
   },
   {
    "duration": 161,
    "start_time": "2022-08-29T19:33:38.077Z"
   },
   {
    "duration": 146,
    "start_time": "2022-08-29T19:33:45.315Z"
   },
   {
    "duration": 12,
    "start_time": "2022-08-29T19:34:13.911Z"
   },
   {
    "duration": 87,
    "start_time": "2022-08-29T19:34:15.401Z"
   },
   {
    "duration": 80,
    "start_time": "2022-08-29T19:34:58.244Z"
   },
   {
    "duration": 81,
    "start_time": "2022-08-29T19:35:49.561Z"
   },
   {
    "duration": 82,
    "start_time": "2022-08-29T19:36:13.691Z"
   },
   {
    "duration": 9,
    "start_time": "2022-08-29T19:37:38.236Z"
   },
   {
    "duration": 9,
    "start_time": "2022-08-29T19:37:44.051Z"
   },
   {
    "duration": 50,
    "start_time": "2022-08-31T06:43:08.972Z"
   },
   {
    "duration": 1467,
    "start_time": "2022-08-31T06:43:16.466Z"
   },
   {
    "duration": 469,
    "start_time": "2022-08-31T06:43:17.934Z"
   },
   {
    "duration": 16,
    "start_time": "2022-08-31T06:43:18.405Z"
   },
   {
    "duration": 819,
    "start_time": "2022-08-31T06:43:18.424Z"
   },
   {
    "duration": 5,
    "start_time": "2022-08-31T06:43:19.244Z"
   },
   {
    "duration": 25,
    "start_time": "2022-08-31T06:43:19.251Z"
   },
   {
    "duration": 16,
    "start_time": "2022-08-31T06:43:19.278Z"
   },
   {
    "duration": 38,
    "start_time": "2022-08-31T06:43:19.296Z"
   },
   {
    "duration": 28,
    "start_time": "2022-08-31T06:43:19.336Z"
   },
   {
    "duration": 81,
    "start_time": "2022-08-31T06:43:19.368Z"
   },
   {
    "duration": 4,
    "start_time": "2022-08-31T06:43:19.451Z"
   },
   {
    "duration": 24,
    "start_time": "2022-08-31T06:43:19.456Z"
   },
   {
    "duration": 31,
    "start_time": "2022-08-31T06:43:19.481Z"
   },
   {
    "duration": 21,
    "start_time": "2022-08-31T06:43:19.513Z"
   },
   {
    "duration": 19,
    "start_time": "2022-08-31T06:43:19.535Z"
   },
   {
    "duration": 34,
    "start_time": "2022-08-31T06:43:19.555Z"
   },
   {
    "duration": 73,
    "start_time": "2022-08-31T06:43:19.591Z"
   },
   {
    "duration": 5,
    "start_time": "2022-08-31T06:43:19.666Z"
   },
   {
    "duration": 204,
    "start_time": "2022-08-31T06:43:19.674Z"
   },
   {
    "duration": 24,
    "start_time": "2022-08-31T06:43:19.880Z"
   },
   {
    "duration": 49,
    "start_time": "2022-08-31T06:43:19.905Z"
   },
   {
    "duration": 579,
    "start_time": "2022-08-31T06:43:19.956Z"
   },
   {
    "duration": 231,
    "start_time": "2022-08-31T06:43:20.537Z"
   },
   {
    "duration": 244,
    "start_time": "2022-08-31T06:43:20.770Z"
   },
   {
    "duration": 120,
    "start_time": "2022-08-31T06:43:21.015Z"
   },
   {
    "duration": 118,
    "start_time": "2022-08-31T06:43:21.137Z"
   },
   {
    "duration": 10,
    "start_time": "2022-08-31T06:43:21.257Z"
   },
   {
    "duration": 40,
    "start_time": "2022-08-31T06:43:21.271Z"
   },
   {
    "duration": 128,
    "start_time": "2022-08-31T06:43:21.312Z"
   },
   {
    "duration": 109,
    "start_time": "2022-08-31T06:43:21.442Z"
   },
   {
    "duration": 9,
    "start_time": "2022-08-31T06:43:21.553Z"
   },
   {
    "duration": 112,
    "start_time": "2022-08-31T06:43:21.564Z"
   },
   {
    "duration": 102,
    "start_time": "2022-08-31T06:43:21.678Z"
   },
   {
    "duration": 20,
    "start_time": "2022-08-31T06:43:21.782Z"
   },
   {
    "duration": 162,
    "start_time": "2022-08-31T06:43:21.805Z"
   },
   {
    "duration": 151,
    "start_time": "2022-08-31T06:43:21.970Z"
   },
   {
    "duration": 9,
    "start_time": "2022-08-31T06:43:22.123Z"
   },
   {
    "duration": 165,
    "start_time": "2022-08-31T06:43:22.134Z"
   },
   {
    "duration": 165,
    "start_time": "2022-08-31T06:43:22.301Z"
   },
   {
    "duration": 25,
    "start_time": "2022-08-31T06:43:22.468Z"
   },
   {
    "duration": 22,
    "start_time": "2022-08-31T06:43:22.494Z"
   },
   {
    "duration": 236,
    "start_time": "2022-08-31T06:43:22.518Z"
   },
   {
    "duration": 168,
    "start_time": "2022-08-31T06:43:22.756Z"
   },
   {
    "duration": 147,
    "start_time": "2022-08-31T06:43:22.926Z"
   },
   {
    "duration": 163,
    "start_time": "2022-08-31T06:43:23.075Z"
   },
   {
    "duration": 24,
    "start_time": "2022-08-31T06:43:23.240Z"
   },
   {
    "duration": 29,
    "start_time": "2022-08-31T06:43:23.266Z"
   },
   {
    "duration": 171,
    "start_time": "2022-08-31T06:43:23.297Z"
   },
   {
    "duration": 161,
    "start_time": "2022-08-31T06:43:23.470Z"
   },
   {
    "duration": 169,
    "start_time": "2022-08-31T06:43:23.634Z"
   },
   {
    "duration": 170,
    "start_time": "2022-08-31T06:43:23.805Z"
   },
   {
    "duration": 21,
    "start_time": "2022-08-31T06:43:23.977Z"
   },
   {
    "duration": 201,
    "start_time": "2022-08-31T06:43:24.000Z"
   },
   {
    "duration": 194,
    "start_time": "2022-08-31T06:43:24.203Z"
   },
   {
    "duration": 189,
    "start_time": "2022-08-31T06:43:24.398Z"
   },
   {
    "duration": 268,
    "start_time": "2022-08-31T06:43:24.589Z"
   },
   {
    "duration": 12,
    "start_time": "2022-08-31T06:43:24.859Z"
   },
   {
    "duration": 111,
    "start_time": "2022-08-31T06:43:24.872Z"
   },
   {
    "duration": 106,
    "start_time": "2022-08-31T06:43:24.991Z"
   },
   {
    "duration": 114,
    "start_time": "2022-08-31T06:43:25.099Z"
   },
   {
    "duration": 112,
    "start_time": "2022-08-31T06:43:25.215Z"
   },
   {
    "duration": 10,
    "start_time": "2022-08-31T06:43:25.329Z"
   },
   {
    "duration": 19,
    "start_time": "2022-08-31T06:43:25.341Z"
   },
   {
    "duration": 897,
    "start_time": "2022-08-31T06:45:39.575Z"
   },
   {
    "duration": 448,
    "start_time": "2022-08-31T06:46:16.504Z"
   },
   {
    "duration": 624,
    "start_time": "2022-08-31T06:46:28.499Z"
   },
   {
    "duration": 29,
    "start_time": "2022-08-31T06:47:01.084Z"
   },
   {
    "duration": 535,
    "start_time": "2022-08-31T06:47:04.174Z"
   },
   {
    "duration": 52,
    "start_time": "2022-08-31T06:47:13.407Z"
   },
   {
    "duration": 280,
    "start_time": "2022-08-31T06:47:31.283Z"
   },
   {
    "duration": 284,
    "start_time": "2022-08-31T06:49:44.676Z"
   },
   {
    "duration": 1298,
    "start_time": "2022-09-01T17:13:25.462Z"
   },
   {
    "duration": 115,
    "start_time": "2022-09-01T17:13:26.762Z"
   },
   {
    "duration": 14,
    "start_time": "2022-09-01T17:13:26.878Z"
   },
   {
    "duration": 730,
    "start_time": "2022-09-01T17:13:26.894Z"
   },
   {
    "duration": 5,
    "start_time": "2022-09-01T17:13:27.626Z"
   },
   {
    "duration": 27,
    "start_time": "2022-09-01T17:13:27.632Z"
   },
   {
    "duration": 5,
    "start_time": "2022-09-01T17:13:27.661Z"
   },
   {
    "duration": 7,
    "start_time": "2022-09-01T17:13:27.667Z"
   },
   {
    "duration": 6,
    "start_time": "2022-09-01T17:13:27.676Z"
   },
   {
    "duration": 50,
    "start_time": "2022-09-01T17:13:27.684Z"
   },
   {
    "duration": 22,
    "start_time": "2022-09-01T17:13:27.735Z"
   },
   {
    "duration": 12,
    "start_time": "2022-09-01T17:13:27.759Z"
   },
   {
    "duration": 5,
    "start_time": "2022-09-01T17:13:27.773Z"
   },
   {
    "duration": 8,
    "start_time": "2022-09-01T17:13:27.779Z"
   },
   {
    "duration": 19,
    "start_time": "2022-09-01T17:13:27.788Z"
   },
   {
    "duration": 5,
    "start_time": "2022-09-01T17:13:27.808Z"
   },
   {
    "duration": 54,
    "start_time": "2022-09-01T17:13:27.815Z"
   },
   {
    "duration": 5,
    "start_time": "2022-09-01T17:13:27.870Z"
   },
   {
    "duration": 157,
    "start_time": "2022-09-01T17:13:27.876Z"
   },
   {
    "duration": 24,
    "start_time": "2022-09-01T17:13:28.034Z"
   },
   {
    "duration": 41,
    "start_time": "2022-09-01T17:13:28.060Z"
   },
   {
    "duration": 286,
    "start_time": "2022-09-01T17:13:28.103Z"
   },
   {
    "duration": 150,
    "start_time": "2022-09-01T17:13:28.390Z"
   },
   {
    "duration": 270,
    "start_time": "2022-09-01T17:13:28.542Z"
   },
   {
    "duration": 100,
    "start_time": "2022-09-01T17:13:28.814Z"
   },
   {
    "duration": 107,
    "start_time": "2022-09-01T17:13:28.916Z"
   },
   {
    "duration": 10,
    "start_time": "2022-09-01T17:13:29.024Z"
   },
   {
    "duration": 36,
    "start_time": "2022-09-01T17:13:29.038Z"
   },
   {
    "duration": 105,
    "start_time": "2022-09-01T17:13:29.076Z"
   },
   {
    "duration": 113,
    "start_time": "2022-09-01T17:13:29.182Z"
   },
   {
    "duration": 199,
    "start_time": "2022-09-01T17:13:29.297Z"
   },
   {
    "duration": 0,
    "start_time": "2022-09-01T17:13:29.498Z"
   },
   {
    "duration": 0,
    "start_time": "2022-09-01T17:13:29.499Z"
   },
   {
    "duration": 0,
    "start_time": "2022-09-01T17:13:29.500Z"
   },
   {
    "duration": 0,
    "start_time": "2022-09-01T17:13:29.502Z"
   },
   {
    "duration": 0,
    "start_time": "2022-09-01T17:13:29.504Z"
   },
   {
    "duration": 0,
    "start_time": "2022-09-01T17:13:29.505Z"
   },
   {
    "duration": 0,
    "start_time": "2022-09-01T17:13:29.506Z"
   },
   {
    "duration": 0,
    "start_time": "2022-09-01T17:13:29.508Z"
   },
   {
    "duration": 0,
    "start_time": "2022-09-01T17:13:29.509Z"
   },
   {
    "duration": 0,
    "start_time": "2022-09-01T17:13:29.510Z"
   },
   {
    "duration": 0,
    "start_time": "2022-09-01T17:13:29.511Z"
   },
   {
    "duration": 0,
    "start_time": "2022-09-01T17:13:29.512Z"
   },
   {
    "duration": 0,
    "start_time": "2022-09-01T17:13:29.513Z"
   },
   {
    "duration": 0,
    "start_time": "2022-09-01T17:13:29.514Z"
   },
   {
    "duration": 0,
    "start_time": "2022-09-01T17:13:29.515Z"
   },
   {
    "duration": 0,
    "start_time": "2022-09-01T17:13:29.516Z"
   },
   {
    "duration": 0,
    "start_time": "2022-09-01T17:13:29.517Z"
   },
   {
    "duration": 0,
    "start_time": "2022-09-01T17:13:29.558Z"
   },
   {
    "duration": 0,
    "start_time": "2022-09-01T17:13:29.559Z"
   },
   {
    "duration": 0,
    "start_time": "2022-09-01T17:13:29.560Z"
   },
   {
    "duration": 0,
    "start_time": "2022-09-01T17:13:29.561Z"
   },
   {
    "duration": 0,
    "start_time": "2022-09-01T17:13:29.562Z"
   },
   {
    "duration": 0,
    "start_time": "2022-09-01T17:13:29.563Z"
   },
   {
    "duration": 0,
    "start_time": "2022-09-01T17:13:29.564Z"
   },
   {
    "duration": 0,
    "start_time": "2022-09-01T17:13:29.565Z"
   },
   {
    "duration": 0,
    "start_time": "2022-09-01T17:13:29.567Z"
   },
   {
    "duration": 0,
    "start_time": "2022-09-01T17:13:29.568Z"
   },
   {
    "duration": 0,
    "start_time": "2022-09-01T17:13:29.569Z"
   },
   {
    "duration": 0,
    "start_time": "2022-09-01T17:13:29.570Z"
   },
   {
    "duration": 0,
    "start_time": "2022-09-01T17:13:29.571Z"
   },
   {
    "duration": 0,
    "start_time": "2022-09-01T17:13:29.572Z"
   },
   {
    "duration": 0,
    "start_time": "2022-09-01T17:13:29.574Z"
   },
   {
    "duration": 0,
    "start_time": "2022-09-01T17:13:29.574Z"
   },
   {
    "duration": 50,
    "start_time": "2022-09-01T17:14:54.144Z"
   },
   {
    "duration": 123,
    "start_time": "2022-09-01T17:15:01.904Z"
   },
   {
    "duration": 106,
    "start_time": "2022-09-01T17:18:19.166Z"
   }
  ],
  "kernelspec": {
   "display_name": "Python 3 (ipykernel)",
   "language": "python",
   "name": "python3"
  },
  "language_info": {
   "codemirror_mode": {
    "name": "ipython",
    "version": 3
   },
   "file_extension": ".py",
   "mimetype": "text/x-python",
   "name": "python",
   "nbconvert_exporter": "python",
   "pygments_lexer": "ipython3",
   "version": "3.9.12"
  },
  "toc": {
   "base_numbering": 1,
   "nav_menu": {},
   "number_sections": true,
   "sideBar": true,
   "skip_h1_title": true,
   "title_cell": "Table of Contents",
   "title_sidebar": "Contents",
   "toc_cell": false,
   "toc_position": {
    "height": "calc(100% - 180px)",
    "left": "10px",
    "top": "150px",
    "width": "384px"
   },
   "toc_section_display": true,
   "toc_window_display": true
  }
 },
 "nbformat": 4,
 "nbformat_minor": 5
}
