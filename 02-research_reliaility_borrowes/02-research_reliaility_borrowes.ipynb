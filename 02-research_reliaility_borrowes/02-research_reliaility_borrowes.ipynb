{
 "cells": [
  {
   "cell_type": "markdown",
   "id": "c81daeeb",
   "metadata": {
    "deletable": false,
    "id": "c81daeeb"
   },
   "source": [
    "# Исследование надежности заемщиков\n"
   ]
  },
  {
   "cell_type": "markdown",
   "id": "827c20bf",
   "metadata": {
    "id": "827c20bf"
   },
   "source": [
    "Во второй части проекта вы выполните шаги 3 и 4. Их вручную проверит ревьюер.\n",
    "Чтобы вам не пришлось писать код заново для шагов 1 и 2, мы добавили авторские решения в ячейки с кодом. \n",
    "\n"
   ]
  },
  {
   "cell_type": "markdown",
   "id": "744d7639",
   "metadata": {
    "deletable": false,
    "id": "744d7639"
   },
   "source": [
    "## Откройте таблицу и изучите общую информацию о данных"
   ]
  },
  {
   "cell_type": "markdown",
   "id": "e7a14c31",
   "metadata": {
    "deletable": false,
    "id": "e7a14c31"
   },
   "source": [
    "**Задание 1. Импортируйте библиотеку pandas. Считайте данные из csv-файла в датафрейм и сохраните в переменную `data`. Путь к файлу:**\n",
    "\n",
    "`/datasets/data.csv`"
   ]
  },
  {
   "cell_type": "code",
   "execution_count": 1,
   "id": "7bcf75c9",
   "metadata": {
    "deletable": false,
    "id": "7bcf75c9"
   },
   "outputs": [],
   "source": [
    "import pandas as pd\n",
    "\n",
    "try:\n",
    "    data = pd.read_csv('/datasets/data.csv')\n",
    "except:\n",
    "    data = pd.read_csv('https://code.s3.yandex.net/datasets/data.csv')"
   ]
  },
  {
   "cell_type": "markdown",
   "id": "b8038fe3",
   "metadata": {
    "deletable": false,
    "id": "b8038fe3"
   },
   "source": [
    "**Задание 2. Выведите первые 20 строчек датафрейма `data` на экран.**"
   ]
  },
  {
   "cell_type": "code",
   "execution_count": 2,
   "id": "2a7cab99",
   "metadata": {
    "deletable": false,
    "id": "2a7cab99",
    "outputId": "1a8f3ef2-d323-4ec2-ddf7-89670b5944c4"
   },
   "outputs": [
    {
     "data": {
      "text/html": [
       "<div>\n",
       "<style scoped>\n",
       "    .dataframe tbody tr th:only-of-type {\n",
       "        vertical-align: middle;\n",
       "    }\n",
       "\n",
       "    .dataframe tbody tr th {\n",
       "        vertical-align: top;\n",
       "    }\n",
       "\n",
       "    .dataframe thead th {\n",
       "        text-align: right;\n",
       "    }\n",
       "</style>\n",
       "<table border=\"1\" class=\"dataframe\">\n",
       "  <thead>\n",
       "    <tr style=\"text-align: right;\">\n",
       "      <th></th>\n",
       "      <th>children</th>\n",
       "      <th>days_employed</th>\n",
       "      <th>dob_years</th>\n",
       "      <th>education</th>\n",
       "      <th>education_id</th>\n",
       "      <th>family_status</th>\n",
       "      <th>family_status_id</th>\n",
       "      <th>gender</th>\n",
       "      <th>income_type</th>\n",
       "      <th>debt</th>\n",
       "      <th>total_income</th>\n",
       "      <th>purpose</th>\n",
       "    </tr>\n",
       "  </thead>\n",
       "  <tbody>\n",
       "    <tr>\n",
       "      <th>0</th>\n",
       "      <td>1</td>\n",
       "      <td>-8437.673028</td>\n",
       "      <td>42</td>\n",
       "      <td>высшее</td>\n",
       "      <td>0</td>\n",
       "      <td>женат / замужем</td>\n",
       "      <td>0</td>\n",
       "      <td>F</td>\n",
       "      <td>сотрудник</td>\n",
       "      <td>0</td>\n",
       "      <td>253875.639453</td>\n",
       "      <td>покупка жилья</td>\n",
       "    </tr>\n",
       "    <tr>\n",
       "      <th>1</th>\n",
       "      <td>1</td>\n",
       "      <td>-4024.803754</td>\n",
       "      <td>36</td>\n",
       "      <td>среднее</td>\n",
       "      <td>1</td>\n",
       "      <td>женат / замужем</td>\n",
       "      <td>0</td>\n",
       "      <td>F</td>\n",
       "      <td>сотрудник</td>\n",
       "      <td>0</td>\n",
       "      <td>112080.014102</td>\n",
       "      <td>приобретение автомобиля</td>\n",
       "    </tr>\n",
       "    <tr>\n",
       "      <th>2</th>\n",
       "      <td>0</td>\n",
       "      <td>-5623.422610</td>\n",
       "      <td>33</td>\n",
       "      <td>Среднее</td>\n",
       "      <td>1</td>\n",
       "      <td>женат / замужем</td>\n",
       "      <td>0</td>\n",
       "      <td>M</td>\n",
       "      <td>сотрудник</td>\n",
       "      <td>0</td>\n",
       "      <td>145885.952297</td>\n",
       "      <td>покупка жилья</td>\n",
       "    </tr>\n",
       "    <tr>\n",
       "      <th>3</th>\n",
       "      <td>3</td>\n",
       "      <td>-4124.747207</td>\n",
       "      <td>32</td>\n",
       "      <td>среднее</td>\n",
       "      <td>1</td>\n",
       "      <td>женат / замужем</td>\n",
       "      <td>0</td>\n",
       "      <td>M</td>\n",
       "      <td>сотрудник</td>\n",
       "      <td>0</td>\n",
       "      <td>267628.550329</td>\n",
       "      <td>дополнительное образование</td>\n",
       "    </tr>\n",
       "    <tr>\n",
       "      <th>4</th>\n",
       "      <td>0</td>\n",
       "      <td>340266.072047</td>\n",
       "      <td>53</td>\n",
       "      <td>среднее</td>\n",
       "      <td>1</td>\n",
       "      <td>гражданский брак</td>\n",
       "      <td>1</td>\n",
       "      <td>F</td>\n",
       "      <td>пенсионер</td>\n",
       "      <td>0</td>\n",
       "      <td>158616.077870</td>\n",
       "      <td>сыграть свадьбу</td>\n",
       "    </tr>\n",
       "    <tr>\n",
       "      <th>5</th>\n",
       "      <td>0</td>\n",
       "      <td>-926.185831</td>\n",
       "      <td>27</td>\n",
       "      <td>высшее</td>\n",
       "      <td>0</td>\n",
       "      <td>гражданский брак</td>\n",
       "      <td>1</td>\n",
       "      <td>M</td>\n",
       "      <td>компаньон</td>\n",
       "      <td>0</td>\n",
       "      <td>255763.565419</td>\n",
       "      <td>покупка жилья</td>\n",
       "    </tr>\n",
       "    <tr>\n",
       "      <th>6</th>\n",
       "      <td>0</td>\n",
       "      <td>-2879.202052</td>\n",
       "      <td>43</td>\n",
       "      <td>высшее</td>\n",
       "      <td>0</td>\n",
       "      <td>женат / замужем</td>\n",
       "      <td>0</td>\n",
       "      <td>F</td>\n",
       "      <td>компаньон</td>\n",
       "      <td>0</td>\n",
       "      <td>240525.971920</td>\n",
       "      <td>операции с жильем</td>\n",
       "    </tr>\n",
       "    <tr>\n",
       "      <th>7</th>\n",
       "      <td>0</td>\n",
       "      <td>-152.779569</td>\n",
       "      <td>50</td>\n",
       "      <td>СРЕДНЕЕ</td>\n",
       "      <td>1</td>\n",
       "      <td>женат / замужем</td>\n",
       "      <td>0</td>\n",
       "      <td>M</td>\n",
       "      <td>сотрудник</td>\n",
       "      <td>0</td>\n",
       "      <td>135823.934197</td>\n",
       "      <td>образование</td>\n",
       "    </tr>\n",
       "    <tr>\n",
       "      <th>8</th>\n",
       "      <td>2</td>\n",
       "      <td>-6929.865299</td>\n",
       "      <td>35</td>\n",
       "      <td>ВЫСШЕЕ</td>\n",
       "      <td>0</td>\n",
       "      <td>гражданский брак</td>\n",
       "      <td>1</td>\n",
       "      <td>F</td>\n",
       "      <td>сотрудник</td>\n",
       "      <td>0</td>\n",
       "      <td>95856.832424</td>\n",
       "      <td>на проведение свадьбы</td>\n",
       "    </tr>\n",
       "    <tr>\n",
       "      <th>9</th>\n",
       "      <td>0</td>\n",
       "      <td>-2188.756445</td>\n",
       "      <td>41</td>\n",
       "      <td>среднее</td>\n",
       "      <td>1</td>\n",
       "      <td>женат / замужем</td>\n",
       "      <td>0</td>\n",
       "      <td>M</td>\n",
       "      <td>сотрудник</td>\n",
       "      <td>0</td>\n",
       "      <td>144425.938277</td>\n",
       "      <td>покупка жилья для семьи</td>\n",
       "    </tr>\n",
       "    <tr>\n",
       "      <th>10</th>\n",
       "      <td>2</td>\n",
       "      <td>-4171.483647</td>\n",
       "      <td>36</td>\n",
       "      <td>высшее</td>\n",
       "      <td>0</td>\n",
       "      <td>женат / замужем</td>\n",
       "      <td>0</td>\n",
       "      <td>M</td>\n",
       "      <td>компаньон</td>\n",
       "      <td>0</td>\n",
       "      <td>113943.491460</td>\n",
       "      <td>покупка недвижимости</td>\n",
       "    </tr>\n",
       "    <tr>\n",
       "      <th>11</th>\n",
       "      <td>0</td>\n",
       "      <td>-792.701887</td>\n",
       "      <td>40</td>\n",
       "      <td>среднее</td>\n",
       "      <td>1</td>\n",
       "      <td>женат / замужем</td>\n",
       "      <td>0</td>\n",
       "      <td>F</td>\n",
       "      <td>сотрудник</td>\n",
       "      <td>0</td>\n",
       "      <td>77069.234271</td>\n",
       "      <td>покупка коммерческой недвижимости</td>\n",
       "    </tr>\n",
       "    <tr>\n",
       "      <th>12</th>\n",
       "      <td>0</td>\n",
       "      <td>NaN</td>\n",
       "      <td>65</td>\n",
       "      <td>среднее</td>\n",
       "      <td>1</td>\n",
       "      <td>гражданский брак</td>\n",
       "      <td>1</td>\n",
       "      <td>M</td>\n",
       "      <td>пенсионер</td>\n",
       "      <td>0</td>\n",
       "      <td>NaN</td>\n",
       "      <td>сыграть свадьбу</td>\n",
       "    </tr>\n",
       "    <tr>\n",
       "      <th>13</th>\n",
       "      <td>0</td>\n",
       "      <td>-1846.641941</td>\n",
       "      <td>54</td>\n",
       "      <td>неоконченное высшее</td>\n",
       "      <td>2</td>\n",
       "      <td>женат / замужем</td>\n",
       "      <td>0</td>\n",
       "      <td>F</td>\n",
       "      <td>сотрудник</td>\n",
       "      <td>0</td>\n",
       "      <td>130458.228857</td>\n",
       "      <td>приобретение автомобиля</td>\n",
       "    </tr>\n",
       "    <tr>\n",
       "      <th>14</th>\n",
       "      <td>0</td>\n",
       "      <td>-1844.956182</td>\n",
       "      <td>56</td>\n",
       "      <td>высшее</td>\n",
       "      <td>0</td>\n",
       "      <td>гражданский брак</td>\n",
       "      <td>1</td>\n",
       "      <td>F</td>\n",
       "      <td>компаньон</td>\n",
       "      <td>1</td>\n",
       "      <td>165127.911772</td>\n",
       "      <td>покупка жилой недвижимости</td>\n",
       "    </tr>\n",
       "    <tr>\n",
       "      <th>15</th>\n",
       "      <td>1</td>\n",
       "      <td>-972.364419</td>\n",
       "      <td>26</td>\n",
       "      <td>среднее</td>\n",
       "      <td>1</td>\n",
       "      <td>женат / замужем</td>\n",
       "      <td>0</td>\n",
       "      <td>F</td>\n",
       "      <td>сотрудник</td>\n",
       "      <td>0</td>\n",
       "      <td>116820.904450</td>\n",
       "      <td>строительство собственной недвижимости</td>\n",
       "    </tr>\n",
       "    <tr>\n",
       "      <th>16</th>\n",
       "      <td>0</td>\n",
       "      <td>-1719.934226</td>\n",
       "      <td>35</td>\n",
       "      <td>среднее</td>\n",
       "      <td>1</td>\n",
       "      <td>женат / замужем</td>\n",
       "      <td>0</td>\n",
       "      <td>F</td>\n",
       "      <td>сотрудник</td>\n",
       "      <td>0</td>\n",
       "      <td>289202.704229</td>\n",
       "      <td>недвижимость</td>\n",
       "    </tr>\n",
       "    <tr>\n",
       "      <th>17</th>\n",
       "      <td>0</td>\n",
       "      <td>-2369.999720</td>\n",
       "      <td>33</td>\n",
       "      <td>высшее</td>\n",
       "      <td>0</td>\n",
       "      <td>гражданский брак</td>\n",
       "      <td>1</td>\n",
       "      <td>M</td>\n",
       "      <td>сотрудник</td>\n",
       "      <td>0</td>\n",
       "      <td>90410.586745</td>\n",
       "      <td>строительство недвижимости</td>\n",
       "    </tr>\n",
       "    <tr>\n",
       "      <th>18</th>\n",
       "      <td>0</td>\n",
       "      <td>400281.136913</td>\n",
       "      <td>53</td>\n",
       "      <td>среднее</td>\n",
       "      <td>1</td>\n",
       "      <td>вдовец / вдова</td>\n",
       "      <td>2</td>\n",
       "      <td>F</td>\n",
       "      <td>пенсионер</td>\n",
       "      <td>0</td>\n",
       "      <td>56823.777243</td>\n",
       "      <td>на покупку подержанного автомобиля</td>\n",
       "    </tr>\n",
       "    <tr>\n",
       "      <th>19</th>\n",
       "      <td>0</td>\n",
       "      <td>-10038.818549</td>\n",
       "      <td>48</td>\n",
       "      <td>СРЕДНЕЕ</td>\n",
       "      <td>1</td>\n",
       "      <td>в разводе</td>\n",
       "      <td>3</td>\n",
       "      <td>F</td>\n",
       "      <td>сотрудник</td>\n",
       "      <td>0</td>\n",
       "      <td>242831.107982</td>\n",
       "      <td>на покупку своего автомобиля</td>\n",
       "    </tr>\n",
       "  </tbody>\n",
       "</table>\n",
       "</div>"
      ],
      "text/plain": [
       "    children  days_employed  dob_years            education  education_id  \\\n",
       "0          1   -8437.673028         42               высшее             0   \n",
       "1          1   -4024.803754         36              среднее             1   \n",
       "2          0   -5623.422610         33              Среднее             1   \n",
       "3          3   -4124.747207         32              среднее             1   \n",
       "4          0  340266.072047         53              среднее             1   \n",
       "5          0    -926.185831         27               высшее             0   \n",
       "6          0   -2879.202052         43               высшее             0   \n",
       "7          0    -152.779569         50              СРЕДНЕЕ             1   \n",
       "8          2   -6929.865299         35               ВЫСШЕЕ             0   \n",
       "9          0   -2188.756445         41              среднее             1   \n",
       "10         2   -4171.483647         36               высшее             0   \n",
       "11         0    -792.701887         40              среднее             1   \n",
       "12         0            NaN         65              среднее             1   \n",
       "13         0   -1846.641941         54  неоконченное высшее             2   \n",
       "14         0   -1844.956182         56               высшее             0   \n",
       "15         1    -972.364419         26              среднее             1   \n",
       "16         0   -1719.934226         35              среднее             1   \n",
       "17         0   -2369.999720         33               высшее             0   \n",
       "18         0  400281.136913         53              среднее             1   \n",
       "19         0  -10038.818549         48              СРЕДНЕЕ             1   \n",
       "\n",
       "       family_status  family_status_id gender income_type  debt  \\\n",
       "0    женат / замужем                 0      F   сотрудник     0   \n",
       "1    женат / замужем                 0      F   сотрудник     0   \n",
       "2    женат / замужем                 0      M   сотрудник     0   \n",
       "3    женат / замужем                 0      M   сотрудник     0   \n",
       "4   гражданский брак                 1      F   пенсионер     0   \n",
       "5   гражданский брак                 1      M   компаньон     0   \n",
       "6    женат / замужем                 0      F   компаньон     0   \n",
       "7    женат / замужем                 0      M   сотрудник     0   \n",
       "8   гражданский брак                 1      F   сотрудник     0   \n",
       "9    женат / замужем                 0      M   сотрудник     0   \n",
       "10   женат / замужем                 0      M   компаньон     0   \n",
       "11   женат / замужем                 0      F   сотрудник     0   \n",
       "12  гражданский брак                 1      M   пенсионер     0   \n",
       "13   женат / замужем                 0      F   сотрудник     0   \n",
       "14  гражданский брак                 1      F   компаньон     1   \n",
       "15   женат / замужем                 0      F   сотрудник     0   \n",
       "16   женат / замужем                 0      F   сотрудник     0   \n",
       "17  гражданский брак                 1      M   сотрудник     0   \n",
       "18    вдовец / вдова                 2      F   пенсионер     0   \n",
       "19         в разводе                 3      F   сотрудник     0   \n",
       "\n",
       "     total_income                                 purpose  \n",
       "0   253875.639453                           покупка жилья  \n",
       "1   112080.014102                 приобретение автомобиля  \n",
       "2   145885.952297                           покупка жилья  \n",
       "3   267628.550329              дополнительное образование  \n",
       "4   158616.077870                         сыграть свадьбу  \n",
       "5   255763.565419                           покупка жилья  \n",
       "6   240525.971920                       операции с жильем  \n",
       "7   135823.934197                             образование  \n",
       "8    95856.832424                   на проведение свадьбы  \n",
       "9   144425.938277                 покупка жилья для семьи  \n",
       "10  113943.491460                    покупка недвижимости  \n",
       "11   77069.234271       покупка коммерческой недвижимости  \n",
       "12            NaN                         сыграть свадьбу  \n",
       "13  130458.228857                 приобретение автомобиля  \n",
       "14  165127.911772              покупка жилой недвижимости  \n",
       "15  116820.904450  строительство собственной недвижимости  \n",
       "16  289202.704229                            недвижимость  \n",
       "17   90410.586745              строительство недвижимости  \n",
       "18   56823.777243      на покупку подержанного автомобиля  \n",
       "19  242831.107982            на покупку своего автомобиля  "
      ]
     },
     "execution_count": 2,
     "metadata": {},
     "output_type": "execute_result"
    }
   ],
   "source": [
    "data.head(20)"
   ]
  },
  {
   "cell_type": "markdown",
   "id": "1c12e233",
   "metadata": {
    "deletable": false,
    "id": "1c12e233"
   },
   "source": [
    "**Задание 3. Выведите основную информацию о датафрейме с помощью метода `info()`.**"
   ]
  },
  {
   "cell_type": "code",
   "execution_count": 3,
   "id": "2b757bca",
   "metadata": {
    "deletable": false,
    "id": "2b757bca",
    "outputId": "15376089-8dad-46c9-b520-c05248d43158"
   },
   "outputs": [
    {
     "name": "stdout",
     "output_type": "stream",
     "text": [
      "<class 'pandas.core.frame.DataFrame'>\n",
      "RangeIndex: 21525 entries, 0 to 21524\n",
      "Data columns (total 12 columns):\n",
      " #   Column            Non-Null Count  Dtype  \n",
      "---  ------            --------------  -----  \n",
      " 0   children          21525 non-null  int64  \n",
      " 1   days_employed     19351 non-null  float64\n",
      " 2   dob_years         21525 non-null  int64  \n",
      " 3   education         21525 non-null  object \n",
      " 4   education_id      21525 non-null  int64  \n",
      " 5   family_status     21525 non-null  object \n",
      " 6   family_status_id  21525 non-null  int64  \n",
      " 7   gender            21525 non-null  object \n",
      " 8   income_type       21525 non-null  object \n",
      " 9   debt              21525 non-null  int64  \n",
      " 10  total_income      19351 non-null  float64\n",
      " 11  purpose           21525 non-null  object \n",
      "dtypes: float64(2), int64(5), object(5)\n",
      "memory usage: 2.0+ MB\n"
     ]
    }
   ],
   "source": [
    "data.info()"
   ]
  },
  {
   "cell_type": "markdown",
   "id": "333ec665",
   "metadata": {
    "deletable": false,
    "id": "333ec665"
   },
   "source": [
    "## Предобработка данных"
   ]
  },
  {
   "cell_type": "markdown",
   "id": "02d92d53",
   "metadata": {
    "deletable": false,
    "id": "02d92d53"
   },
   "source": [
    "### Удаление пропусков"
   ]
  },
  {
   "cell_type": "markdown",
   "id": "cd84967c",
   "metadata": {
    "deletable": false,
    "id": "cd84967c"
   },
   "source": [
    "**Задание 4. Выведите количество пропущенных значений для каждого столбца. Используйте комбинацию двух методов.**"
   ]
  },
  {
   "cell_type": "code",
   "execution_count": 4,
   "id": "7f9b2309",
   "metadata": {
    "deletable": false,
    "id": "7f9b2309",
    "outputId": "81f4d817-781c-465c-ed15-91ce4446810d"
   },
   "outputs": [
    {
     "data": {
      "text/plain": [
       "children               0\n",
       "days_employed       2174\n",
       "dob_years              0\n",
       "education              0\n",
       "education_id           0\n",
       "family_status          0\n",
       "family_status_id       0\n",
       "gender                 0\n",
       "income_type            0\n",
       "debt                   0\n",
       "total_income        2174\n",
       "purpose                0\n",
       "dtype: int64"
      ]
     },
     "execution_count": 4,
     "metadata": {},
     "output_type": "execute_result"
    }
   ],
   "source": [
    "data.isna().sum()"
   ]
  },
  {
   "cell_type": "markdown",
   "id": "db86e27b",
   "metadata": {
    "deletable": false,
    "id": "db86e27b"
   },
   "source": [
    "**Задание 5. В двух столбцах есть пропущенные значения. Один из них — `days_employed`. Пропуски в этом столбце вы обработаете на следующем этапе. Другой столбец с пропущенными значениями — `total_income` — хранит данные о доходах. На сумму дохода сильнее всего влияет тип занятости, поэтому заполнить пропуски в этом столбце нужно медианным значением по каждому типу из столбца `income_type`. Например, у человека с типом занятости `сотрудник` пропуск в столбце `total_income` должен быть заполнен медианным доходом среди всех записей с тем же типом.**"
   ]
  },
  {
   "cell_type": "code",
   "execution_count": 5,
   "id": "42006a93",
   "metadata": {
    "deletable": false,
    "id": "42006a93"
   },
   "outputs": [],
   "source": [
    "for t in data['income_type'].unique():\n",
    "    data.loc[(data['income_type'] == t) & (data['total_income'].isna()), 'total_income'] = \\\n",
    "    data.loc[(data['income_type'] == t), 'total_income'].median()"
   ]
  },
  {
   "cell_type": "markdown",
   "id": "89da5ece",
   "metadata": {
    "deletable": false,
    "id": "89da5ece"
   },
   "source": [
    "### Обработка аномальных значений"
   ]
  },
  {
   "cell_type": "markdown",
   "id": "57964554",
   "metadata": {
    "deletable": false,
    "id": "57964554"
   },
   "source": [
    "**Задание 6. В данных могут встречаться артефакты (аномалии) — значения, которые не отражают действительность и появились по какой-то ошибке. таким артефактом будет отрицательное количество дней трудового стажа в столбце `days_employed`. Для реальных данных это нормально. Обработайте значения в этом столбце: замените все отрицательные значения положительными с помощью метода `abs()`.**"
   ]
  },
  {
   "cell_type": "code",
   "execution_count": 6,
   "id": "f6f055bf",
   "metadata": {
    "deletable": false,
    "id": "f6f055bf"
   },
   "outputs": [],
   "source": [
    "data['days_employed'] = data['days_employed'].abs()"
   ]
  },
  {
   "cell_type": "markdown",
   "id": "6107dd2f",
   "metadata": {
    "deletable": false,
    "id": "6107dd2f"
   },
   "source": [
    "**Задание 7. Для каждого типа занятости выведите медианное значение трудового стажа `days_employed` в днях.**"
   ]
  },
  {
   "cell_type": "code",
   "execution_count": 7,
   "id": "85a5faf6",
   "metadata": {
    "deletable": false,
    "id": "85a5faf6",
    "outputId": "801ef80e-522b-4668-f34e-565af7432bcf"
   },
   "outputs": [
    {
     "data": {
      "text/plain": [
       "income_type\n",
       "безработный        366413.652744\n",
       "в декрете            3296.759962\n",
       "госслужащий          2689.368353\n",
       "компаньон            1547.382223\n",
       "пенсионер          365213.306266\n",
       "предприниматель       520.848083\n",
       "сотрудник            1574.202821\n",
       "студент               578.751554\n",
       "Name: days_employed, dtype: float64"
      ]
     },
     "execution_count": 7,
     "metadata": {},
     "output_type": "execute_result"
    }
   ],
   "source": [
    "data.groupby('income_type')['days_employed'].agg('median')"
   ]
  },
  {
   "cell_type": "markdown",
   "id": "38d1a030",
   "metadata": {
    "deletable": false,
    "id": "38d1a030"
   },
   "source": [
    "У двух типов (безработные и пенсионеры) получатся аномально большие значения. Исправить такие значения сложно, поэтому оставьте их как есть. Тем более этот столбец не понадобится вам для исследования."
   ]
  },
  {
   "cell_type": "markdown",
   "id": "d8a9f147",
   "metadata": {
    "deletable": false,
    "id": "d8a9f147"
   },
   "source": [
    "**Задание 8. Выведите перечень уникальных значений столбца `children`.**"
   ]
  },
  {
   "cell_type": "code",
   "execution_count": 8,
   "id": "ef5056eb",
   "metadata": {
    "deletable": false,
    "id": "ef5056eb",
    "outputId": "6975b15c-7f95-4697-d16d-a0c79b657b03"
   },
   "outputs": [
    {
     "data": {
      "text/plain": [
       "array([ 1,  0,  3,  2, -1,  4, 20,  5])"
      ]
     },
     "execution_count": 8,
     "metadata": {},
     "output_type": "execute_result"
    }
   ],
   "source": [
    "data['children'].unique()"
   ]
  },
  {
   "cell_type": "markdown",
   "id": "40b9ebf2",
   "metadata": {
    "deletable": false,
    "id": "40b9ebf2"
   },
   "source": [
    "**Задание 9. В столбце `children` есть два аномальных значения. Удалите строки, в которых встречаются такие аномальные значения из датафрейма `data`.**"
   ]
  },
  {
   "cell_type": "code",
   "execution_count": 9,
   "id": "3ff9801d",
   "metadata": {
    "deletable": false,
    "id": "3ff9801d"
   },
   "outputs": [],
   "source": [
    "data = data[(data['children'] != -1) & (data['children'] != 20)]"
   ]
  },
  {
   "cell_type": "markdown",
   "id": "bbc4d0ce",
   "metadata": {
    "deletable": false,
    "id": "bbc4d0ce"
   },
   "source": [
    "**Задание 10. Ещё раз выведите перечень уникальных значений столбца `children`, чтобы убедиться, что артефакты удалены.**"
   ]
  },
  {
   "cell_type": "code",
   "execution_count": 10,
   "id": "ad4fa8b7",
   "metadata": {
    "deletable": false,
    "id": "ad4fa8b7",
    "outputId": "b2097101-d49d-44d9-901b-32a65c9463d1"
   },
   "outputs": [
    {
     "data": {
      "text/plain": [
       "array([1, 0, 3, 2, 4, 5])"
      ]
     },
     "execution_count": 10,
     "metadata": {},
     "output_type": "execute_result"
    }
   ],
   "source": [
    "data['children'].unique()"
   ]
  },
  {
   "cell_type": "markdown",
   "id": "75440b63",
   "metadata": {
    "deletable": false,
    "id": "75440b63"
   },
   "source": [
    "### Удаление пропусков (продолжение)"
   ]
  },
  {
   "cell_type": "markdown",
   "id": "f4ea573f",
   "metadata": {
    "deletable": false,
    "id": "f4ea573f"
   },
   "source": [
    "**Задание 11. Заполните пропуски в столбце `days_employed` медианными значениями по каждого типа занятости `income_type`.**"
   ]
  },
  {
   "cell_type": "code",
   "execution_count": 11,
   "id": "af6b1a7e",
   "metadata": {
    "deletable": false,
    "id": "af6b1a7e"
   },
   "outputs": [],
   "source": [
    "for t in data['income_type'].unique():\n",
    "    data.loc[(data['income_type'] == t) & (data['days_employed'].isna()), 'days_employed'] = \\\n",
    "    data.loc[(data['income_type'] == t), 'days_employed'].median()"
   ]
  },
  {
   "cell_type": "markdown",
   "id": "2753f40d",
   "metadata": {
    "deletable": false,
    "id": "2753f40d"
   },
   "source": [
    "**Задание 12. Убедитесь, что все пропуски заполнены. Проверьте себя и ещё раз выведите количество пропущенных значений для каждого столбца с помощью двух методов.**"
   ]
  },
  {
   "cell_type": "code",
   "execution_count": 12,
   "id": "55f78bc2",
   "metadata": {
    "deletable": false,
    "id": "55f78bc2",
    "outputId": "8da1e4e1-358e-4e87-98c9-f261bce0a7b2"
   },
   "outputs": [
    {
     "data": {
      "text/plain": [
       "children            0\n",
       "days_employed       0\n",
       "dob_years           0\n",
       "education           0\n",
       "education_id        0\n",
       "family_status       0\n",
       "family_status_id    0\n",
       "gender              0\n",
       "income_type         0\n",
       "debt                0\n",
       "total_income        0\n",
       "purpose             0\n",
       "dtype: int64"
      ]
     },
     "execution_count": 12,
     "metadata": {},
     "output_type": "execute_result"
    }
   ],
   "source": [
    "data.isna().sum()"
   ]
  },
  {
   "cell_type": "markdown",
   "id": "ddc81e43",
   "metadata": {
    "deletable": false,
    "id": "ddc81e43"
   },
   "source": [
    "### Изменение типов данных"
   ]
  },
  {
   "cell_type": "markdown",
   "id": "42d19d24",
   "metadata": {
    "deletable": false,
    "id": "42d19d24"
   },
   "source": [
    "**Задание 13. Замените вещественный тип данных в столбце `total_income` на целочисленный с помощью метода `astype()`.**"
   ]
  },
  {
   "cell_type": "code",
   "execution_count": 13,
   "id": "920b65ad",
   "metadata": {
    "deletable": false,
    "id": "920b65ad"
   },
   "outputs": [],
   "source": [
    "data['total_income'] = data['total_income'].astype(int)"
   ]
  },
  {
   "cell_type": "markdown",
   "id": "80c420ba",
   "metadata": {
    "deletable": false,
    "id": "80c420ba"
   },
   "source": [
    "### Обработка дубликатов"
   ]
  },
  {
   "cell_type": "markdown",
   "id": "dc587695",
   "metadata": {
    "deletable": false,
    "id": "dc587695"
   },
   "source": [
    "**Задание 14. Выведите на экран количество строк-дубликатов в данных. Если такие строки присутствуют, удалите их.**"
   ]
  },
  {
   "cell_type": "code",
   "execution_count": 14,
   "id": "3ee445e4",
   "metadata": {
    "deletable": false,
    "id": "3ee445e4",
    "outputId": "9684deba-1934-42d1-99e1-cda61740f822"
   },
   "outputs": [
    {
     "data": {
      "text/plain": [
       "54"
      ]
     },
     "execution_count": 14,
     "metadata": {},
     "output_type": "execute_result"
    }
   ],
   "source": [
    "data.duplicated().sum()"
   ]
  },
  {
   "cell_type": "code",
   "execution_count": 15,
   "id": "8575fe05",
   "metadata": {
    "deletable": false,
    "id": "8575fe05"
   },
   "outputs": [],
   "source": [
    "data = data.drop_duplicates()"
   ]
  },
  {
   "cell_type": "markdown",
   "id": "9771a76c",
   "metadata": {
    "deletable": false,
    "id": "9771a76c"
   },
   "source": [
    "**Задание 15. Обработайте неявные дубликаты в столбце `education`. В этом столбце есть одни и те же значения, но записанные по-разному: с использованием заглавных и строчных букв. Приведите их к нижнему регистру. Проверьте остальные столбцы.**"
   ]
  },
  {
   "cell_type": "code",
   "execution_count": 16,
   "id": "a9f8e2bf",
   "metadata": {
    "deletable": false,
    "id": "a9f8e2bf"
   },
   "outputs": [],
   "source": [
    "data['education'] = data['education'].str.lower()"
   ]
  },
  {
   "cell_type": "markdown",
   "id": "9904cf55",
   "metadata": {
    "deletable": false,
    "id": "9904cf55"
   },
   "source": [
    "### Категоризация данных"
   ]
  },
  {
   "cell_type": "markdown",
   "id": "72fcc8a2",
   "metadata": {
    "deletable": false,
    "id": "72fcc8a2"
   },
   "source": [
    "**Задание 16. На основании диапазонов, указанных ниже, создайте в датафрейме `data` столбец `total_income_category` с категориями:**\n",
    "\n",
    "- 0–30000 — `'E'`;\n",
    "- 30001–50000 — `'D'`;\n",
    "- 50001–200000 — `'C'`;\n",
    "- 200001–1000000 — `'B'`;\n",
    "- 1000001 и выше — `'A'`.\n",
    "\n",
    "\n",
    "**Например, кредитополучателю с доходом 25000 нужно назначить категорию `'E'`, а клиенту, получающему 235000, — `'B'`. Используйте собственную функцию с именем `categorize_income()` и метод `apply()`.**"
   ]
  },
  {
   "cell_type": "code",
   "execution_count": 17,
   "id": "e1771346",
   "metadata": {
    "deletable": false,
    "id": "e1771346"
   },
   "outputs": [],
   "source": [
    "def categorize_income(income):\n",
    "    try:\n",
    "        if 0 <= income <= 30000:\n",
    "            return 'E'\n",
    "        elif 30001 <= income <= 50000:\n",
    "            return 'D'\n",
    "        elif 50001 <= income <= 200000:\n",
    "            return 'C'\n",
    "        elif 200001 <= income <= 1000000:\n",
    "            return 'B'\n",
    "        elif income >= 1000001:\n",
    "            return 'A'\n",
    "    except:\n",
    "        pass"
   ]
  },
  {
   "cell_type": "code",
   "execution_count": 18,
   "id": "d5f3586d",
   "metadata": {
    "deletable": false,
    "id": "d5f3586d"
   },
   "outputs": [],
   "source": [
    "data['total_income_category'] = data['total_income'].apply(categorize_income)"
   ]
  },
  {
   "cell_type": "markdown",
   "id": "dde49b5c",
   "metadata": {
    "deletable": false,
    "id": "dde49b5c"
   },
   "source": [
    "**Задание 17. Выведите на экран перечень уникальных целей взятия кредита из столбца `purpose`.**"
   ]
  },
  {
   "cell_type": "code",
   "execution_count": 19,
   "id": "f67ce9b3",
   "metadata": {
    "deletable": false,
    "id": "f67ce9b3",
    "outputId": "673c12d9-7d7e-4ae0-9812-c622c89dd244"
   },
   "outputs": [
    {
     "data": {
      "text/plain": [
       "array(['покупка жилья', 'приобретение автомобиля',\n",
       "       'дополнительное образование', 'сыграть свадьбу',\n",
       "       'операции с жильем', 'образование', 'на проведение свадьбы',\n",
       "       'покупка жилья для семьи', 'покупка недвижимости',\n",
       "       'покупка коммерческой недвижимости', 'покупка жилой недвижимости',\n",
       "       'строительство собственной недвижимости', 'недвижимость',\n",
       "       'строительство недвижимости', 'на покупку подержанного автомобиля',\n",
       "       'на покупку своего автомобиля',\n",
       "       'операции с коммерческой недвижимостью',\n",
       "       'строительство жилой недвижимости', 'жилье',\n",
       "       'операции со своей недвижимостью', 'автомобили',\n",
       "       'заняться образованием', 'сделка с подержанным автомобилем',\n",
       "       'получение образования', 'автомобиль', 'свадьба',\n",
       "       'получение дополнительного образования', 'покупка своего жилья',\n",
       "       'операции с недвижимостью', 'получение высшего образования',\n",
       "       'свой автомобиль', 'сделка с автомобилем',\n",
       "       'профильное образование', 'высшее образование',\n",
       "       'покупка жилья для сдачи', 'на покупку автомобиля', 'ремонт жилью',\n",
       "       'заняться высшим образованием'], dtype=object)"
      ]
     },
     "execution_count": 19,
     "metadata": {},
     "output_type": "execute_result"
    }
   ],
   "source": [
    "data['purpose'].unique()"
   ]
  },
  {
   "cell_type": "markdown",
   "id": "85d0aef0",
   "metadata": {
    "deletable": false,
    "id": "85d0aef0"
   },
   "source": [
    "**Задание 18. Создайте функцию, которая на основании данных из столбца `purpose` сформирует новый столбец `purpose_category`, в который войдут следующие категории:**\n",
    "\n",
    "- `'операции с автомобилем'`,\n",
    "- `'операции с недвижимостью'`,\n",
    "- `'проведение свадьбы'`,\n",
    "- `'получение образования'`.\n",
    "\n",
    "**Например, если в столбце `purpose` находится подстрока `'на покупку автомобиля'`, то в столбце `purpose_category` должна появиться строка `'операции с автомобилем'`.**\n",
    "\n",
    "**Используйте собственную функцию с именем `categorize_purpose()` и метод `apply()`. Изучите данные в столбце `purpose` и определите, какие подстроки помогут вам правильно определить категорию.**"
   ]
  },
  {
   "cell_type": "code",
   "execution_count": 20,
   "id": "e149fab4",
   "metadata": {
    "deletable": false,
    "id": "e149fab4"
   },
   "outputs": [],
   "source": [
    "def categorize_purpose(row):\n",
    "    try:\n",
    "        if 'автом' in row:\n",
    "            return 'операции с автомобилем'\n",
    "        elif 'жил' in row or 'недвиж' in row:\n",
    "            return 'операции с недвижимостью'\n",
    "        elif 'свад' in row:\n",
    "            return 'проведение свадьбы'\n",
    "        elif 'образов' in row:\n",
    "            return 'получение образования'\n",
    "    except:\n",
    "        return 'нет категории'"
   ]
  },
  {
   "cell_type": "code",
   "execution_count": 21,
   "id": "bf36e69b",
   "metadata": {
    "deletable": false,
    "id": "bf36e69b"
   },
   "outputs": [],
   "source": [
    "data['purpose_category'] = data['purpose'].apply(categorize_purpose)"
   ]
  },
  {
   "cell_type": "markdown",
   "id": "09b242bf",
   "metadata": {
    "deletable": false,
    "editable": false,
    "id": "09b242bf"
   },
   "source": [
    "## Исследуйте данные и ответьте на вопросы"
   ]
  },
  {
   "cell_type": "markdown",
   "id": "c5d66278",
   "metadata": {
    "deletable": false,
    "editable": false,
    "id": "c5d66278"
   },
   "source": [
    "**Задание 19. Есть ли зависимость между количеством детей и возвратом кредита в срок?**"
   ]
  },
  {
   "cell_type": "code",
   "execution_count": 22,
   "id": "2cacfc4a",
   "metadata": {
    "id": "2cacfc4a"
   },
   "outputs": [
    {
     "data": {
      "text/html": [
       "<div>\n",
       "<style scoped>\n",
       "    .dataframe tbody tr th:only-of-type {\n",
       "        vertical-align: middle;\n",
       "    }\n",
       "\n",
       "    .dataframe tbody tr th {\n",
       "        vertical-align: top;\n",
       "    }\n",
       "\n",
       "    .dataframe thead tr th {\n",
       "        text-align: left;\n",
       "    }\n",
       "\n",
       "    .dataframe thead tr:last-of-type th {\n",
       "        text-align: right;\n",
       "    }\n",
       "</style>\n",
       "<table border=\"1\" class=\"dataframe\">\n",
       "  <thead>\n",
       "    <tr>\n",
       "      <th></th>\n",
       "      <th>sum</th>\n",
       "      <th>count</th>\n",
       "      <th>percentage</th>\n",
       "    </tr>\n",
       "    <tr>\n",
       "      <th></th>\n",
       "      <th>debt</th>\n",
       "      <th>debt</th>\n",
       "      <th></th>\n",
       "    </tr>\n",
       "    <tr>\n",
       "      <th>children</th>\n",
       "      <th></th>\n",
       "      <th></th>\n",
       "      <th></th>\n",
       "    </tr>\n",
       "  </thead>\n",
       "  <tbody>\n",
       "    <tr>\n",
       "      <th>0</th>\n",
       "      <td>1063</td>\n",
       "      <td>14107</td>\n",
       "      <td>7.535266</td>\n",
       "    </tr>\n",
       "    <tr>\n",
       "      <th>1</th>\n",
       "      <td>444</td>\n",
       "      <td>4809</td>\n",
       "      <td>9.232689</td>\n",
       "    </tr>\n",
       "    <tr>\n",
       "      <th>2</th>\n",
       "      <td>194</td>\n",
       "      <td>2052</td>\n",
       "      <td>9.454191</td>\n",
       "    </tr>\n",
       "    <tr>\n",
       "      <th>3</th>\n",
       "      <td>27</td>\n",
       "      <td>330</td>\n",
       "      <td>8.181818</td>\n",
       "    </tr>\n",
       "    <tr>\n",
       "      <th>4</th>\n",
       "      <td>4</td>\n",
       "      <td>41</td>\n",
       "      <td>9.756098</td>\n",
       "    </tr>\n",
       "    <tr>\n",
       "      <th>5</th>\n",
       "      <td>0</td>\n",
       "      <td>9</td>\n",
       "      <td>0.000000</td>\n",
       "    </tr>\n",
       "  </tbody>\n",
       "</table>\n",
       "</div>"
      ],
      "text/plain": [
       "           sum  count percentage\n",
       "          debt   debt           \n",
       "children                        \n",
       "0         1063  14107   7.535266\n",
       "1          444   4809   9.232689\n",
       "2          194   2052   9.454191\n",
       "3           27    330   8.181818\n",
       "4            4     41   9.756098\n",
       "5            0      9   0.000000"
      ]
     },
     "metadata": {},
     "output_type": "display_data"
    }
   ],
   "source": [
    "# Ваш код будет здесь. Вы можете создавать новые ячейки.\n",
    "\n",
    "pt = pd.pivot_table(data,\n",
    "               index=['children'],\n",
    "               values='debt',\n",
    "               aggfunc=['sum','count']) \n",
    "\n",
    "pt['percentage'] = pt['sum'] / pt['count'] * 100\n",
    "display(pt)"
   ]
  },
  {
   "cell_type": "code",
   "execution_count": 23,
   "id": "e6f197af",
   "metadata": {},
   "outputs": [
    {
     "name": "stdout",
     "output_type": "stream",
     "text": [
      "0.2342139778902005\n"
     ]
    }
   ],
   "source": [
    "part_manychild = data.loc[(data['children'] == 4) | (data['children'] == 5)]['debt'].count() / data['debt'].count() * 100\n",
    "print(part_manychild)"
   ]
  },
  {
   "cell_type": "markdown",
   "id": "58ae5980",
   "metadata": {
    "deletable": false,
    "id": "3a6b99ec"
   },
   "source": [
    "**Вывод:** самый высокий показатель несвоевременного возврата кредита у группы заемщиков с 4 детьми, а у заемщиков с 5 детьми показатель возврата не в срок нулевой. Отсутствие проблем для заемщиков с 5 детьми и высокие показатели для группы с 4 детьми может быть обусловлено их малым числом в общей выборке - 0,2%.\n",
    "При этом лучше всего возвращают кредиты заемщики без детей или с 3 детьми."
   ]
  },
  {
   "cell_type": "markdown",
   "id": "97be82ca",
   "metadata": {
    "deletable": false,
    "editable": false,
    "id": "97be82ca"
   },
   "source": [
    "**Задание 20. Есть ли зависимость между семейным положением и возвратом кредита в срок?**"
   ]
  },
  {
   "cell_type": "code",
   "execution_count": 24,
   "id": "dc3f7ee8",
   "metadata": {
    "id": "dc3f7ee8"
   },
   "outputs": [
    {
     "data": {
      "text/html": [
       "<div>\n",
       "<style scoped>\n",
       "    .dataframe tbody tr th:only-of-type {\n",
       "        vertical-align: middle;\n",
       "    }\n",
       "\n",
       "    .dataframe tbody tr th {\n",
       "        vertical-align: top;\n",
       "    }\n",
       "\n",
       "    .dataframe thead tr th {\n",
       "        text-align: left;\n",
       "    }\n",
       "\n",
       "    .dataframe thead tr:last-of-type th {\n",
       "        text-align: right;\n",
       "    }\n",
       "</style>\n",
       "<table border=\"1\" class=\"dataframe\">\n",
       "  <thead>\n",
       "    <tr>\n",
       "      <th></th>\n",
       "      <th>sum</th>\n",
       "      <th>count</th>\n",
       "      <th>percentage</th>\n",
       "    </tr>\n",
       "    <tr>\n",
       "      <th></th>\n",
       "      <th>debt</th>\n",
       "      <th>debt</th>\n",
       "      <th></th>\n",
       "    </tr>\n",
       "    <tr>\n",
       "      <th>family_status</th>\n",
       "      <th></th>\n",
       "      <th></th>\n",
       "      <th></th>\n",
       "    </tr>\n",
       "  </thead>\n",
       "  <tbody>\n",
       "    <tr>\n",
       "      <th>Не женат / не замужем</th>\n",
       "      <td>273</td>\n",
       "      <td>2796</td>\n",
       "      <td>9.763948</td>\n",
       "    </tr>\n",
       "    <tr>\n",
       "      <th>в разводе</th>\n",
       "      <td>84</td>\n",
       "      <td>1189</td>\n",
       "      <td>7.064760</td>\n",
       "    </tr>\n",
       "    <tr>\n",
       "      <th>вдовец / вдова</th>\n",
       "      <td>63</td>\n",
       "      <td>951</td>\n",
       "      <td>6.624606</td>\n",
       "    </tr>\n",
       "    <tr>\n",
       "      <th>гражданский брак</th>\n",
       "      <td>385</td>\n",
       "      <td>4146</td>\n",
       "      <td>9.286059</td>\n",
       "    </tr>\n",
       "    <tr>\n",
       "      <th>женат / замужем</th>\n",
       "      <td>927</td>\n",
       "      <td>12266</td>\n",
       "      <td>7.557476</td>\n",
       "    </tr>\n",
       "  </tbody>\n",
       "</table>\n",
       "</div>"
      ],
      "text/plain": [
       "                       sum  count percentage\n",
       "                      debt   debt           \n",
       "family_status                               \n",
       "Не женат / не замужем  273   2796   9.763948\n",
       "в разводе               84   1189   7.064760\n",
       "вдовец / вдова          63    951   6.624606\n",
       "гражданский брак       385   4146   9.286059\n",
       "женат / замужем        927  12266   7.557476"
      ]
     },
     "metadata": {},
     "output_type": "display_data"
    }
   ],
   "source": [
    "# Ваш код будет здесь. Вы можете создавать новые ячейки.\n",
    "pt = pd.pivot_table(data,\n",
    "               index=['family_status'],\n",
    "               values='debt',\n",
    "               aggfunc=['sum','count'])\n",
    "pt['percentage'] = pt['sum'] / pt['count'] * 100\n",
    "display(pt)"
   ]
  },
  {
   "cell_type": "markdown",
   "id": "1cef7837",
   "metadata": {
    "deletable": false,
    "id": "1cef7837"
   },
   "source": [
    "**Вывод:** самый низкий процент возвратов не в срок среди вдовцов/вдов"
   ]
  },
  {
   "cell_type": "markdown",
   "id": "1e8b2fca",
   "metadata": {
    "deletable": false,
    "editable": false,
    "id": "1e8b2fca"
   },
   "source": [
    "**Задание 21. Есть ли зависимость между уровнем дохода и возвратом кредита в срок?**"
   ]
  },
  {
   "cell_type": "code",
   "execution_count": 25,
   "id": "cd7e3720",
   "metadata": {
    "id": "cd7e3720"
   },
   "outputs": [
    {
     "data": {
      "text/html": [
       "<div>\n",
       "<style scoped>\n",
       "    .dataframe tbody tr th:only-of-type {\n",
       "        vertical-align: middle;\n",
       "    }\n",
       "\n",
       "    .dataframe tbody tr th {\n",
       "        vertical-align: top;\n",
       "    }\n",
       "\n",
       "    .dataframe thead tr th {\n",
       "        text-align: left;\n",
       "    }\n",
       "\n",
       "    .dataframe thead tr:last-of-type th {\n",
       "        text-align: right;\n",
       "    }\n",
       "</style>\n",
       "<table border=\"1\" class=\"dataframe\">\n",
       "  <thead>\n",
       "    <tr>\n",
       "      <th></th>\n",
       "      <th>sum</th>\n",
       "      <th>count</th>\n",
       "      <th>percentage</th>\n",
       "    </tr>\n",
       "    <tr>\n",
       "      <th></th>\n",
       "      <th>debt</th>\n",
       "      <th>debt</th>\n",
       "      <th></th>\n",
       "    </tr>\n",
       "    <tr>\n",
       "      <th>total_income_category</th>\n",
       "      <th></th>\n",
       "      <th></th>\n",
       "      <th></th>\n",
       "    </tr>\n",
       "  </thead>\n",
       "  <tbody>\n",
       "    <tr>\n",
       "      <th>A</th>\n",
       "      <td>2</td>\n",
       "      <td>25</td>\n",
       "      <td>8.000000</td>\n",
       "    </tr>\n",
       "    <tr>\n",
       "      <th>B</th>\n",
       "      <td>354</td>\n",
       "      <td>5014</td>\n",
       "      <td>7.060231</td>\n",
       "    </tr>\n",
       "    <tr>\n",
       "      <th>C</th>\n",
       "      <td>1353</td>\n",
       "      <td>15938</td>\n",
       "      <td>8.489145</td>\n",
       "    </tr>\n",
       "    <tr>\n",
       "      <th>D</th>\n",
       "      <td>21</td>\n",
       "      <td>349</td>\n",
       "      <td>6.017192</td>\n",
       "    </tr>\n",
       "    <tr>\n",
       "      <th>E</th>\n",
       "      <td>2</td>\n",
       "      <td>22</td>\n",
       "      <td>9.090909</td>\n",
       "    </tr>\n",
       "  </tbody>\n",
       "</table>\n",
       "</div>"
      ],
      "text/plain": [
       "                        sum  count percentage\n",
       "                       debt   debt           \n",
       "total_income_category                        \n",
       "A                         2     25   8.000000\n",
       "B                       354   5014   7.060231\n",
       "C                      1353  15938   8.489145\n",
       "D                        21    349   6.017192\n",
       "E                         2     22   9.090909"
      ]
     },
     "metadata": {},
     "output_type": "display_data"
    }
   ],
   "source": [
    "# Ваш код будет здесь. Вы можете создавать новые ячейки.\n",
    "pt = pd.pivot_table(data,\n",
    "               index=['total_income_category'],\n",
    "               values='debt',\n",
    "               aggfunc=['sum','count'])\n",
    "\n",
    "pt['percentage'] = pt['sum'] / pt['count'] * 100\n",
    "display(pt)"
   ]
  },
  {
   "cell_type": "code",
   "execution_count": 26,
   "id": "d04dd6d9",
   "metadata": {},
   "outputs": [
    {
     "data": {
      "text/html": [
       "<div>\n",
       "<style scoped>\n",
       "    .dataframe tbody tr th:only-of-type {\n",
       "        vertical-align: middle;\n",
       "    }\n",
       "\n",
       "    .dataframe tbody tr th {\n",
       "        vertical-align: top;\n",
       "    }\n",
       "\n",
       "    .dataframe thead tr th {\n",
       "        text-align: left;\n",
       "    }\n",
       "\n",
       "    .dataframe thead tr:last-of-type th {\n",
       "        text-align: right;\n",
       "    }\n",
       "</style>\n",
       "<table border=\"1\" class=\"dataframe\">\n",
       "  <thead>\n",
       "    <tr>\n",
       "      <th></th>\n",
       "      <th></th>\n",
       "      <th>sum</th>\n",
       "      <th>count</th>\n",
       "      <th>percentage</th>\n",
       "    </tr>\n",
       "    <tr>\n",
       "      <th></th>\n",
       "      <th></th>\n",
       "      <th>debt</th>\n",
       "      <th>debt</th>\n",
       "      <th></th>\n",
       "    </tr>\n",
       "    <tr>\n",
       "      <th>total_income_category</th>\n",
       "      <th>family_status</th>\n",
       "      <th></th>\n",
       "      <th></th>\n",
       "      <th></th>\n",
       "    </tr>\n",
       "  </thead>\n",
       "  <tbody>\n",
       "    <tr>\n",
       "      <th rowspan=\"4\" valign=\"top\">A</th>\n",
       "      <th>Не женат / не замужем</th>\n",
       "      <td>0</td>\n",
       "      <td>2</td>\n",
       "      <td>0.000000</td>\n",
       "    </tr>\n",
       "    <tr>\n",
       "      <th>в разводе</th>\n",
       "      <td>0</td>\n",
       "      <td>3</td>\n",
       "      <td>0.000000</td>\n",
       "    </tr>\n",
       "    <tr>\n",
       "      <th>гражданский брак</th>\n",
       "      <td>1</td>\n",
       "      <td>6</td>\n",
       "      <td>16.666667</td>\n",
       "    </tr>\n",
       "    <tr>\n",
       "      <th>женат / замужем</th>\n",
       "      <td>1</td>\n",
       "      <td>14</td>\n",
       "      <td>7.142857</td>\n",
       "    </tr>\n",
       "    <tr>\n",
       "      <th rowspan=\"5\" valign=\"top\">B</th>\n",
       "      <th>Не женат / не замужем</th>\n",
       "      <td>62</td>\n",
       "      <td>667</td>\n",
       "      <td>9.295352</td>\n",
       "    </tr>\n",
       "    <tr>\n",
       "      <th>в разводе</th>\n",
       "      <td>18</td>\n",
       "      <td>282</td>\n",
       "      <td>6.382979</td>\n",
       "    </tr>\n",
       "    <tr>\n",
       "      <th>вдовец / вдова</th>\n",
       "      <td>9</td>\n",
       "      <td>154</td>\n",
       "      <td>5.844156</td>\n",
       "    </tr>\n",
       "    <tr>\n",
       "      <th>гражданский брак</th>\n",
       "      <td>64</td>\n",
       "      <td>973</td>\n",
       "      <td>6.577595</td>\n",
       "    </tr>\n",
       "    <tr>\n",
       "      <th>женат / замужем</th>\n",
       "      <td>201</td>\n",
       "      <td>2938</td>\n",
       "      <td>6.841389</td>\n",
       "    </tr>\n",
       "    <tr>\n",
       "      <th rowspan=\"5\" valign=\"top\">C</th>\n",
       "      <th>Не женат / не замужем</th>\n",
       "      <td>209</td>\n",
       "      <td>2100</td>\n",
       "      <td>9.952381</td>\n",
       "    </tr>\n",
       "    <tr>\n",
       "      <th>в разводе</th>\n",
       "      <td>64</td>\n",
       "      <td>887</td>\n",
       "      <td>7.215333</td>\n",
       "    </tr>\n",
       "    <tr>\n",
       "      <th>вдовец / вдова</th>\n",
       "      <td>54</td>\n",
       "      <td>775</td>\n",
       "      <td>6.967742</td>\n",
       "    </tr>\n",
       "    <tr>\n",
       "      <th>гражданский брак</th>\n",
       "      <td>315</td>\n",
       "      <td>3099</td>\n",
       "      <td>10.164569</td>\n",
       "    </tr>\n",
       "    <tr>\n",
       "      <th>женат / замужем</th>\n",
       "      <td>711</td>\n",
       "      <td>9077</td>\n",
       "      <td>7.832984</td>\n",
       "    </tr>\n",
       "    <tr>\n",
       "      <th rowspan=\"5\" valign=\"top\">D</th>\n",
       "      <th>Не женат / не замужем</th>\n",
       "      <td>2</td>\n",
       "      <td>25</td>\n",
       "      <td>8.000000</td>\n",
       "    </tr>\n",
       "    <tr>\n",
       "      <th>в разводе</th>\n",
       "      <td>2</td>\n",
       "      <td>17</td>\n",
       "      <td>11.764706</td>\n",
       "    </tr>\n",
       "    <tr>\n",
       "      <th>вдовец / вдова</th>\n",
       "      <td>0</td>\n",
       "      <td>22</td>\n",
       "      <td>0.000000</td>\n",
       "    </tr>\n",
       "    <tr>\n",
       "      <th>гражданский брак</th>\n",
       "      <td>5</td>\n",
       "      <td>62</td>\n",
       "      <td>8.064516</td>\n",
       "    </tr>\n",
       "    <tr>\n",
       "      <th>женат / замужем</th>\n",
       "      <td>12</td>\n",
       "      <td>223</td>\n",
       "      <td>5.381166</td>\n",
       "    </tr>\n",
       "    <tr>\n",
       "      <th rowspan=\"3\" valign=\"top\">E</th>\n",
       "      <th>Не женат / не замужем</th>\n",
       "      <td>0</td>\n",
       "      <td>2</td>\n",
       "      <td>0.000000</td>\n",
       "    </tr>\n",
       "    <tr>\n",
       "      <th>гражданский брак</th>\n",
       "      <td>0</td>\n",
       "      <td>6</td>\n",
       "      <td>0.000000</td>\n",
       "    </tr>\n",
       "    <tr>\n",
       "      <th>женат / замужем</th>\n",
       "      <td>2</td>\n",
       "      <td>14</td>\n",
       "      <td>14.285714</td>\n",
       "    </tr>\n",
       "  </tbody>\n",
       "</table>\n",
       "</div>"
      ],
      "text/plain": [
       "                                             sum count percentage\n",
       "                                            debt  debt           \n",
       "total_income_category family_status                              \n",
       "A                     Не женат / не замужем    0     2   0.000000\n",
       "                      в разводе                0     3   0.000000\n",
       "                      гражданский брак         1     6  16.666667\n",
       "                      женат / замужем          1    14   7.142857\n",
       "B                     Не женат / не замужем   62   667   9.295352\n",
       "                      в разводе               18   282   6.382979\n",
       "                      вдовец / вдова           9   154   5.844156\n",
       "                      гражданский брак        64   973   6.577595\n",
       "                      женат / замужем        201  2938   6.841389\n",
       "C                     Не женат / не замужем  209  2100   9.952381\n",
       "                      в разводе               64   887   7.215333\n",
       "                      вдовец / вдова          54   775   6.967742\n",
       "                      гражданский брак       315  3099  10.164569\n",
       "                      женат / замужем        711  9077   7.832984\n",
       "D                     Не женат / не замужем    2    25   8.000000\n",
       "                      в разводе                2    17  11.764706\n",
       "                      вдовец / вдова           0    22   0.000000\n",
       "                      гражданский брак         5    62   8.064516\n",
       "                      женат / замужем         12   223   5.381166\n",
       "E                     Не женат / не замужем    0     2   0.000000\n",
       "                      гражданский брак         0     6   0.000000\n",
       "                      женат / замужем          2    14  14.285714"
      ]
     },
     "metadata": {},
     "output_type": "display_data"
    }
   ],
   "source": [
    "# Ваш код будет здесь. Вы можете создавать новые ячейки.\n",
    "pt = pd.pivot_table(data,\n",
    "               index=['total_income_category', 'family_status'],\n",
    "               values='debt',\n",
    "               aggfunc=['sum','count'])\n",
    "\n",
    "pt['percentage'] = pt['sum'] / pt['count'] * 100\n",
    "display(pt)"
   ]
  },
  {
   "cell_type": "markdown",
   "id": "e8593def",
   "metadata": {
    "deletable": false,
    "id": "e8593def"
   },
   "source": [
    "**Вывод:** самый высокий уровень возврата кредита не в срок среди категории заемщиков с доходом до 30 тыс. Также показатель высокий в группе заемщиков с доходом от 50 до 200 тыс. Лучше всего ситуация в группе заемщиков с доходом от 30 тыс до 50 тыс."
   ]
  },
  {
   "cell_type": "markdown",
   "id": "99ecbd1f",
   "metadata": {
    "deletable": false,
    "editable": false,
    "id": "99ecbd1f"
   },
   "source": [
    "**Задание 22. Как разные цели кредита влияют на его возврат в срок?**"
   ]
  },
  {
   "cell_type": "code",
   "execution_count": 27,
   "id": "2b687290",
   "metadata": {
    "id": "2b687290"
   },
   "outputs": [
    {
     "data": {
      "text/html": [
       "<div>\n",
       "<style scoped>\n",
       "    .dataframe tbody tr th:only-of-type {\n",
       "        vertical-align: middle;\n",
       "    }\n",
       "\n",
       "    .dataframe tbody tr th {\n",
       "        vertical-align: top;\n",
       "    }\n",
       "\n",
       "    .dataframe thead tr th {\n",
       "        text-align: left;\n",
       "    }\n",
       "\n",
       "    .dataframe thead tr:last-of-type th {\n",
       "        text-align: right;\n",
       "    }\n",
       "</style>\n",
       "<table border=\"1\" class=\"dataframe\">\n",
       "  <thead>\n",
       "    <tr>\n",
       "      <th></th>\n",
       "      <th>sum</th>\n",
       "      <th>count</th>\n",
       "      <th>percentage</th>\n",
       "    </tr>\n",
       "    <tr>\n",
       "      <th></th>\n",
       "      <th>debt</th>\n",
       "      <th>debt</th>\n",
       "      <th></th>\n",
       "    </tr>\n",
       "    <tr>\n",
       "      <th>purpose_category</th>\n",
       "      <th></th>\n",
       "      <th></th>\n",
       "      <th></th>\n",
       "    </tr>\n",
       "  </thead>\n",
       "  <tbody>\n",
       "    <tr>\n",
       "      <th>операции с автомобилем</th>\n",
       "      <td>400</td>\n",
       "      <td>4281</td>\n",
       "      <td>9.343611</td>\n",
       "    </tr>\n",
       "    <tr>\n",
       "      <th>операции с недвижимостью</th>\n",
       "      <td>780</td>\n",
       "      <td>10754</td>\n",
       "      <td>7.253115</td>\n",
       "    </tr>\n",
       "    <tr>\n",
       "      <th>получение образования</th>\n",
       "      <td>369</td>\n",
       "      <td>3989</td>\n",
       "      <td>9.250439</td>\n",
       "    </tr>\n",
       "    <tr>\n",
       "      <th>проведение свадьбы</th>\n",
       "      <td>183</td>\n",
       "      <td>2324</td>\n",
       "      <td>7.874355</td>\n",
       "    </tr>\n",
       "  </tbody>\n",
       "</table>\n",
       "</div>"
      ],
      "text/plain": [
       "                          sum  count percentage\n",
       "                         debt   debt           \n",
       "purpose_category                               \n",
       "операции с автомобилем    400   4281   9.343611\n",
       "операции с недвижимостью  780  10754   7.253115\n",
       "получение образования     369   3989   9.250439\n",
       "проведение свадьбы        183   2324   7.874355"
      ]
     },
     "metadata": {},
     "output_type": "display_data"
    }
   ],
   "source": [
    "# Ваш код будет здесь. Вы можете создавать новые ячейки.\n",
    "pt = pd.pivot_table(data,\n",
    "               index=['purpose_category'],\n",
    "               values='debt',\n",
    "               aggfunc=['sum','count'])\n",
    "\n",
    "pt['percentage'] = pt['sum'] / pt['count'] * 100\n",
    "display(pt)"
   ]
  },
  {
   "cell_type": "markdown",
   "id": "b4bb2ce6",
   "metadata": {
    "deletable": false,
    "id": "b4bb2ce6"
   },
   "source": [
    "**Вывод:** Хуже всего возвращают кредиты, взятые для операций с автомобилем и получением образования. Кредиты на операции с недвижимостью и проведение свадьбы возвращают лучше."
   ]
  },
  {
   "cell_type": "markdown",
   "id": "09c3ac4c",
   "metadata": {
    "deletable": false,
    "editable": false,
    "id": "09c3ac4c"
   },
   "source": [
    "**Задание 23. Приведите возможные причины появления пропусков в исходных данных.**"
   ]
  },
  {
   "cell_type": "markdown",
   "id": "9da2ceda",
   "metadata": {
    "deletable": false,
    "id": "9da2ceda"
   },
   "source": [
    "*Ответ:* Пропуски в данных могут появиться из-за ошибок при сборе данных (ошибки ручного ввода, ошибки в алгоритмах сбора данных). Также данные могут быть скрыты или собираться только для определенной категории (зависимость от другого столбца)."
   ]
  },
  {
   "cell_type": "markdown",
   "id": "7b0487d6",
   "metadata": {
    "deletable": false,
    "editable": false,
    "id": "7b0487d6"
   },
   "source": [
    "**Задание 24. Объясните, почему заполнить пропуски медианным значением — лучшее решение для количественных переменных.**"
   ]
  },
  {
   "cell_type": "markdown",
   "id": "7ecf2b8e",
   "metadata": {
    "deletable": false,
    "id": "7ecf2b8e"
   },
   "source": [
    "*Ответ:* Медиана исключает влияние слишком больших или малых значений, в отличие от средней."
   ]
  },
  {
   "cell_type": "markdown",
   "id": "6db5255a",
   "metadata": {
    "deletable": false,
    "editable": false,
    "id": "6db5255a"
   },
   "source": [
    "## Общий вывод."
   ]
  },
  {
   "cell_type": "markdown",
   "id": "bad65432",
   "metadata": {
    "id": "bad65432"
   },
   "source": [
    "#### Необходимо было проверить две гипотезы:\n",
    "влияет ли семейное положение и количество детей клиента на факт погашения кредита в срок.\n",
    "\n",
    "Самые хорошие показатели возврата кредита в срок у клиентов без детей или с 5 детьми. При этом клиентов с 5 детьми значительно меньше, чем клиентов без детей. Самые плохие показатели у клиентов с 2 и 4 детьми.\n",
    "\n",
    "Лучше всего возвращают кредиты вдовцы/вдовы, причем независимо от категории доходов. При этом самый плохой показатель у неженатых/незамужних клиентов."
   ]
  }
 ],
 "metadata": {
  "ExecuteTimeLog": [
   {
    "duration": 389,
    "start_time": "2022-07-21T16:14:43.559Z"
   },
   {
    "duration": 560,
    "start_time": "2022-07-21T18:42:43.422Z"
   },
   {
    "duration": 26,
    "start_time": "2022-07-21T18:42:43.984Z"
   },
   {
    "duration": 17,
    "start_time": "2022-07-21T18:42:44.012Z"
   },
   {
    "duration": 12,
    "start_time": "2022-07-21T18:42:44.031Z"
   },
   {
    "duration": 38,
    "start_time": "2022-07-21T18:42:44.045Z"
   },
   {
    "duration": 26,
    "start_time": "2022-07-21T18:42:44.086Z"
   },
   {
    "duration": 9,
    "start_time": "2022-07-21T18:42:44.114Z"
   },
   {
    "duration": 4,
    "start_time": "2022-07-21T18:42:44.125Z"
   },
   {
    "duration": 8,
    "start_time": "2022-07-21T18:42:44.131Z"
   },
   {
    "duration": 4,
    "start_time": "2022-07-21T18:42:44.142Z"
   },
   {
    "duration": 79,
    "start_time": "2022-07-21T18:42:44.148Z"
   },
   {
    "duration": 12,
    "start_time": "2022-07-21T18:42:44.229Z"
   },
   {
    "duration": 5,
    "start_time": "2022-07-21T18:42:44.243Z"
   },
   {
    "duration": 23,
    "start_time": "2022-07-21T18:42:44.249Z"
   },
   {
    "duration": 40,
    "start_time": "2022-07-21T18:42:44.274Z"
   },
   {
    "duration": 20,
    "start_time": "2022-07-21T18:42:44.316Z"
   },
   {
    "duration": 9,
    "start_time": "2022-07-21T18:42:44.338Z"
   },
   {
    "duration": 17,
    "start_time": "2022-07-21T18:42:44.348Z"
   },
   {
    "duration": 10,
    "start_time": "2022-07-21T18:42:44.367Z"
   },
   {
    "duration": 5,
    "start_time": "2022-07-21T18:42:44.379Z"
   },
   {
    "duration": 32,
    "start_time": "2022-07-21T18:42:44.385Z"
   },
   {
    "duration": 11,
    "start_time": "2022-07-21T18:42:44.419Z"
   },
   {
    "duration": 4,
    "start_time": "2022-07-21T18:42:44.432Z"
   },
   {
    "duration": 4,
    "start_time": "2022-07-21T18:42:44.438Z"
   },
   {
    "duration": 4,
    "start_time": "2022-07-21T18:42:44.444Z"
   },
   {
    "duration": 9,
    "start_time": "2022-07-21T18:44:18.542Z"
   },
   {
    "duration": 11,
    "start_time": "2022-07-21T18:44:54.369Z"
   },
   {
    "duration": 74,
    "start_time": "2022-07-21T18:45:29.298Z"
   },
   {
    "duration": 9,
    "start_time": "2022-07-21T18:46:07.804Z"
   },
   {
    "duration": 8,
    "start_time": "2022-07-21T18:46:41.314Z"
   },
   {
    "duration": 25,
    "start_time": "2022-07-21T18:55:58.997Z"
   },
   {
    "duration": 48,
    "start_time": "2022-07-21T18:57:32.829Z"
   },
   {
    "duration": 7,
    "start_time": "2022-07-21T18:58:57.403Z"
   },
   {
    "duration": 51,
    "start_time": "2022-07-21T19:11:28.309Z"
   },
   {
    "duration": 30,
    "start_time": "2022-07-21T19:11:49.372Z"
   },
   {
    "duration": 19,
    "start_time": "2022-07-21T19:13:20.189Z"
   },
   {
    "duration": 1208,
    "start_time": "2022-07-21T19:14:39.391Z"
   },
   {
    "duration": 34,
    "start_time": "2022-07-21T19:15:08.517Z"
   },
   {
    "duration": 25,
    "start_time": "2022-07-21T19:15:18.698Z"
   },
   {
    "duration": 29,
    "start_time": "2022-07-21T19:16:53.077Z"
   },
   {
    "duration": 35,
    "start_time": "2022-07-21T19:17:34.622Z"
   },
   {
    "duration": 58,
    "start_time": "2022-07-22T19:19:21.627Z"
   },
   {
    "duration": 610,
    "start_time": "2022-07-22T19:19:27.613Z"
   },
   {
    "duration": 27,
    "start_time": "2022-07-22T19:19:28.225Z"
   },
   {
    "duration": 23,
    "start_time": "2022-07-22T19:19:28.254Z"
   },
   {
    "duration": 18,
    "start_time": "2022-07-22T19:19:28.279Z"
   },
   {
    "duration": 62,
    "start_time": "2022-07-22T19:19:28.299Z"
   },
   {
    "duration": 5,
    "start_time": "2022-07-22T19:19:28.363Z"
   },
   {
    "duration": 19,
    "start_time": "2022-07-22T19:19:28.370Z"
   },
   {
    "duration": 25,
    "start_time": "2022-07-22T19:19:28.391Z"
   },
   {
    "duration": 23,
    "start_time": "2022-07-22T19:19:28.425Z"
   },
   {
    "duration": 9,
    "start_time": "2022-07-22T19:19:28.452Z"
   },
   {
    "duration": 66,
    "start_time": "2022-07-22T19:19:28.463Z"
   },
   {
    "duration": 14,
    "start_time": "2022-07-22T19:19:28.534Z"
   },
   {
    "duration": 7,
    "start_time": "2022-07-22T19:19:28.550Z"
   },
   {
    "duration": 31,
    "start_time": "2022-07-22T19:19:28.559Z"
   },
   {
    "duration": 50,
    "start_time": "2022-07-22T19:19:28.592Z"
   },
   {
    "duration": 20,
    "start_time": "2022-07-22T19:19:28.644Z"
   },
   {
    "duration": 7,
    "start_time": "2022-07-22T19:19:28.667Z"
   },
   {
    "duration": 13,
    "start_time": "2022-07-22T19:19:28.677Z"
   },
   {
    "duration": 28,
    "start_time": "2022-07-22T19:19:28.691Z"
   },
   {
    "duration": 4,
    "start_time": "2022-07-22T19:19:28.733Z"
   },
   {
    "duration": 16,
    "start_time": "2022-07-22T19:19:28.738Z"
   },
   {
    "duration": 30,
    "start_time": "2022-07-22T19:19:28.755Z"
   },
   {
    "duration": 56,
    "start_time": "2022-07-22T19:19:28.787Z"
   },
   {
    "duration": 37,
    "start_time": "2022-07-22T19:19:28.845Z"
   },
   {
    "duration": 35,
    "start_time": "2022-07-22T19:19:28.883Z"
   },
   {
    "duration": 40,
    "start_time": "2022-07-22T19:20:02.328Z"
   },
   {
    "duration": 59,
    "start_time": "2022-07-22T19:23:00.870Z"
   },
   {
    "duration": 23,
    "start_time": "2022-07-22T19:25:22.654Z"
   },
   {
    "duration": 49,
    "start_time": "2022-07-22T19:25:46.639Z"
   },
   {
    "duration": 49,
    "start_time": "2022-07-22T19:36:38.752Z"
   },
   {
    "duration": 52,
    "start_time": "2022-07-22T19:37:54.131Z"
   },
   {
    "duration": 44,
    "start_time": "2022-07-22T19:38:28.353Z"
   },
   {
    "duration": 92,
    "start_time": "2022-07-22T19:38:54.009Z"
   },
   {
    "duration": 39,
    "start_time": "2022-07-22T19:39:07.296Z"
   },
   {
    "duration": 52,
    "start_time": "2022-07-22T19:39:32.714Z"
   },
   {
    "duration": 46,
    "start_time": "2022-07-22T19:39:54.481Z"
   },
   {
    "duration": 58,
    "start_time": "2022-07-22T19:53:43.286Z"
   },
   {
    "duration": 53,
    "start_time": "2022-07-22T20:00:05.473Z"
   },
   {
    "duration": 46,
    "start_time": "2022-07-22T20:01:04.834Z"
   },
   {
    "duration": 49,
    "start_time": "2022-07-22T20:03:23.856Z"
   },
   {
    "duration": 47,
    "start_time": "2022-07-22T20:03:57.450Z"
   },
   {
    "duration": 37,
    "start_time": "2022-07-22T20:04:08.847Z"
   },
   {
    "duration": 76,
    "start_time": "2022-07-22T20:04:36.213Z"
   },
   {
    "duration": 86,
    "start_time": "2022-07-22T20:05:14.257Z"
   },
   {
    "duration": 40,
    "start_time": "2022-07-22T20:05:28.619Z"
   },
   {
    "duration": 81,
    "start_time": "2022-07-23T09:45:23.592Z"
   },
   {
    "duration": 6,
    "start_time": "2022-07-23T09:45:30.706Z"
   },
   {
    "duration": 61,
    "start_time": "2022-07-23T09:45:55.473Z"
   },
   {
    "duration": 11,
    "start_time": "2022-07-23T09:46:21.401Z"
   },
   {
    "duration": 0,
    "start_time": "2022-07-23T09:46:21.415Z"
   },
   {
    "duration": 0,
    "start_time": "2022-07-23T09:46:21.417Z"
   },
   {
    "duration": 7,
    "start_time": "2022-07-23T09:46:33.542Z"
   },
   {
    "duration": 579,
    "start_time": "2022-07-23T09:46:39.281Z"
   },
   {
    "duration": 23,
    "start_time": "2022-07-23T09:46:39.862Z"
   },
   {
    "duration": 16,
    "start_time": "2022-07-23T09:46:39.886Z"
   },
   {
    "duration": 19,
    "start_time": "2022-07-23T09:46:39.906Z"
   },
   {
    "duration": 36,
    "start_time": "2022-07-23T09:46:39.929Z"
   },
   {
    "duration": 5,
    "start_time": "2022-07-23T09:46:39.966Z"
   },
   {
    "duration": 49,
    "start_time": "2022-07-23T09:46:39.972Z"
   },
   {
    "duration": 14,
    "start_time": "2022-07-23T09:46:40.023Z"
   },
   {
    "duration": 11,
    "start_time": "2022-07-23T09:46:40.039Z"
   },
   {
    "duration": 7,
    "start_time": "2022-07-23T09:46:40.052Z"
   },
   {
    "duration": 57,
    "start_time": "2022-07-23T09:46:40.061Z"
   },
   {
    "duration": 19,
    "start_time": "2022-07-23T09:46:40.120Z"
   },
   {
    "duration": 11,
    "start_time": "2022-07-23T09:46:40.141Z"
   },
   {
    "duration": 32,
    "start_time": "2022-07-23T09:46:40.156Z"
   },
   {
    "duration": 42,
    "start_time": "2022-07-23T09:46:40.191Z"
   },
   {
    "duration": 15,
    "start_time": "2022-07-23T09:46:40.236Z"
   },
   {
    "duration": 5,
    "start_time": "2022-07-23T09:46:40.252Z"
   },
   {
    "duration": 16,
    "start_time": "2022-07-23T09:46:40.259Z"
   },
   {
    "duration": 9,
    "start_time": "2022-07-23T09:46:40.277Z"
   },
   {
    "duration": 4,
    "start_time": "2022-07-23T09:46:40.288Z"
   },
   {
    "duration": 18,
    "start_time": "2022-07-23T09:46:40.307Z"
   },
   {
    "duration": 29,
    "start_time": "2022-07-23T09:46:40.327Z"
   },
   {
    "duration": 1291,
    "start_time": "2022-07-23T09:46:40.358Z"
   },
   {
    "duration": 0,
    "start_time": "2022-07-23T09:46:41.651Z"
   },
   {
    "duration": 0,
    "start_time": "2022-07-23T09:46:41.653Z"
   },
   {
    "duration": 0,
    "start_time": "2022-07-23T09:46:41.654Z"
   },
   {
    "duration": 5,
    "start_time": "2022-07-23T09:47:14.802Z"
   },
   {
    "duration": 1357,
    "start_time": "2022-07-23T09:47:29.109Z"
   },
   {
    "duration": 1280,
    "start_time": "2022-07-23T09:48:58.138Z"
   },
   {
    "duration": 1215,
    "start_time": "2022-07-23T09:49:39.619Z"
   },
   {
    "duration": 8,
    "start_time": "2022-07-23T09:50:22.665Z"
   },
   {
    "duration": 5,
    "start_time": "2022-07-23T09:50:40.709Z"
   },
   {
    "duration": 6,
    "start_time": "2022-07-23T09:50:52.764Z"
   },
   {
    "duration": 8,
    "start_time": "2022-07-23T09:51:12.025Z"
   },
   {
    "duration": 35,
    "start_time": "2022-07-23T09:53:13.076Z"
   },
   {
    "duration": 30,
    "start_time": "2022-07-23T10:03:40.972Z"
   },
   {
    "duration": 39,
    "start_time": "2022-07-23T10:05:44.986Z"
   },
   {
    "duration": 129,
    "start_time": "2022-07-23T10:08:32.065Z"
   },
   {
    "duration": 4,
    "start_time": "2022-07-23T10:08:42.080Z"
   },
   {
    "duration": 9,
    "start_time": "2022-07-23T10:08:49.084Z"
   },
   {
    "duration": 35,
    "start_time": "2022-07-23T10:09:00.597Z"
   },
   {
    "duration": 30,
    "start_time": "2022-07-23T10:09:07.415Z"
   },
   {
    "duration": 62,
    "start_time": "2022-07-23T10:09:12.065Z"
   },
   {
    "duration": 1234,
    "start_time": "2022-07-23T10:09:55.402Z"
   },
   {
    "duration": 45,
    "start_time": "2022-07-23T10:10:05.864Z"
   },
   {
    "duration": 29,
    "start_time": "2022-07-23T10:15:24.740Z"
   },
   {
    "duration": 39,
    "start_time": "2022-07-23T10:15:57.268Z"
   },
   {
    "duration": 33,
    "start_time": "2022-07-23T10:18:19.533Z"
   },
   {
    "duration": 679,
    "start_time": "2022-07-23T10:39:50.478Z"
   },
   {
    "duration": 33,
    "start_time": "2022-07-23T10:39:51.161Z"
   },
   {
    "duration": 47,
    "start_time": "2022-07-23T10:39:51.197Z"
   },
   {
    "duration": 37,
    "start_time": "2022-07-23T10:39:51.247Z"
   },
   {
    "duration": 69,
    "start_time": "2022-07-23T10:39:51.287Z"
   },
   {
    "duration": 10,
    "start_time": "2022-07-23T10:39:51.363Z"
   },
   {
    "duration": 15,
    "start_time": "2022-07-23T10:39:51.375Z"
   },
   {
    "duration": 15,
    "start_time": "2022-07-23T10:39:51.392Z"
   },
   {
    "duration": 63,
    "start_time": "2022-07-23T10:39:51.412Z"
   },
   {
    "duration": 12,
    "start_time": "2022-07-23T10:39:51.478Z"
   },
   {
    "duration": 77,
    "start_time": "2022-07-23T10:39:51.492Z"
   },
   {
    "duration": 18,
    "start_time": "2022-07-23T10:39:51.571Z"
   },
   {
    "duration": 7,
    "start_time": "2022-07-23T10:39:51.592Z"
   },
   {
    "duration": 72,
    "start_time": "2022-07-23T10:39:51.602Z"
   },
   {
    "duration": 19,
    "start_time": "2022-07-23T10:39:51.676Z"
   },
   {
    "duration": 20,
    "start_time": "2022-07-23T10:39:51.697Z"
   },
   {
    "duration": 47,
    "start_time": "2022-07-23T10:39:51.719Z"
   },
   {
    "duration": 18,
    "start_time": "2022-07-23T10:39:51.768Z"
   },
   {
    "duration": 22,
    "start_time": "2022-07-23T10:39:51.789Z"
   },
   {
    "duration": 54,
    "start_time": "2022-07-23T10:39:51.813Z"
   },
   {
    "duration": 21,
    "start_time": "2022-07-23T10:39:51.869Z"
   },
   {
    "duration": 44,
    "start_time": "2022-07-23T10:39:51.892Z"
   },
   {
    "duration": 41,
    "start_time": "2022-07-23T10:39:51.938Z"
   },
   {
    "duration": 43,
    "start_time": "2022-07-23T10:39:51.981Z"
   },
   {
    "duration": 35,
    "start_time": "2022-07-23T10:39:52.026Z"
   },
   {
    "duration": 69,
    "start_time": "2022-07-23T10:39:52.066Z"
   },
   {
    "duration": 56,
    "start_time": "2022-07-23T10:39:52.137Z"
   },
   {
    "duration": 546,
    "start_time": "2022-07-23T10:45:44.287Z"
   },
   {
    "duration": 29,
    "start_time": "2022-07-23T10:45:44.836Z"
   },
   {
    "duration": 16,
    "start_time": "2022-07-23T10:45:44.867Z"
   },
   {
    "duration": 31,
    "start_time": "2022-07-23T10:45:44.885Z"
   },
   {
    "duration": 53,
    "start_time": "2022-07-23T10:45:44.920Z"
   },
   {
    "duration": 4,
    "start_time": "2022-07-23T10:45:44.975Z"
   },
   {
    "duration": 25,
    "start_time": "2022-07-23T10:45:44.981Z"
   },
   {
    "duration": 35,
    "start_time": "2022-07-23T10:45:45.008Z"
   },
   {
    "duration": 19,
    "start_time": "2022-07-23T10:45:45.045Z"
   },
   {
    "duration": 8,
    "start_time": "2022-07-23T10:45:45.066Z"
   },
   {
    "duration": 70,
    "start_time": "2022-07-23T10:45:45.075Z"
   },
   {
    "duration": 10,
    "start_time": "2022-07-23T10:45:45.146Z"
   },
   {
    "duration": 5,
    "start_time": "2022-07-23T10:45:45.158Z"
   },
   {
    "duration": 23,
    "start_time": "2022-07-23T10:45:45.166Z"
   },
   {
    "duration": 40,
    "start_time": "2022-07-23T10:45:45.190Z"
   },
   {
    "duration": 13,
    "start_time": "2022-07-23T10:45:45.233Z"
   },
   {
    "duration": 6,
    "start_time": "2022-07-23T10:45:45.247Z"
   },
   {
    "duration": 12,
    "start_time": "2022-07-23T10:45:45.255Z"
   },
   {
    "duration": 6,
    "start_time": "2022-07-23T10:45:45.269Z"
   },
   {
    "duration": 36,
    "start_time": "2022-07-23T10:45:45.305Z"
   },
   {
    "duration": 18,
    "start_time": "2022-07-23T10:45:45.343Z"
   },
   {
    "duration": 32,
    "start_time": "2022-07-23T10:45:45.362Z"
   },
   {
    "duration": 7,
    "start_time": "2022-07-23T10:45:45.396Z"
   },
   {
    "duration": 77,
    "start_time": "2022-07-23T10:45:45.405Z"
   },
   {
    "duration": 42,
    "start_time": "2022-07-23T10:45:45.484Z"
   },
   {
    "duration": 37,
    "start_time": "2022-07-23T10:45:45.531Z"
   },
   {
    "duration": 26,
    "start_time": "2022-07-23T10:45:45.570Z"
   },
   {
    "duration": 78,
    "start_time": "2022-07-24T13:15:23.995Z"
   },
   {
    "duration": 503,
    "start_time": "2022-07-24T13:15:37.348Z"
   },
   {
    "duration": 21,
    "start_time": "2022-07-24T13:15:37.853Z"
   },
   {
    "duration": 18,
    "start_time": "2022-07-24T13:15:37.875Z"
   },
   {
    "duration": 9,
    "start_time": "2022-07-24T13:15:37.894Z"
   },
   {
    "duration": 44,
    "start_time": "2022-07-24T13:15:37.905Z"
   },
   {
    "duration": 3,
    "start_time": "2022-07-24T13:15:37.950Z"
   },
   {
    "duration": 22,
    "start_time": "2022-07-24T13:15:37.955Z"
   },
   {
    "duration": 12,
    "start_time": "2022-07-24T13:15:37.978Z"
   },
   {
    "duration": 34,
    "start_time": "2022-07-24T13:15:37.991Z"
   },
   {
    "duration": 8,
    "start_time": "2022-07-24T13:15:38.026Z"
   },
   {
    "duration": 36,
    "start_time": "2022-07-24T13:15:38.035Z"
   },
   {
    "duration": 9,
    "start_time": "2022-07-24T13:15:38.072Z"
   },
   {
    "duration": 3,
    "start_time": "2022-07-24T13:15:38.082Z"
   },
   {
    "duration": 34,
    "start_time": "2022-07-24T13:15:38.088Z"
   },
   {
    "duration": 14,
    "start_time": "2022-07-24T13:15:38.123Z"
   },
   {
    "duration": 16,
    "start_time": "2022-07-24T13:15:38.139Z"
   },
   {
    "duration": 14,
    "start_time": "2022-07-24T13:15:38.157Z"
   },
   {
    "duration": 26,
    "start_time": "2022-07-24T13:15:38.172Z"
   },
   {
    "duration": 16,
    "start_time": "2022-07-24T13:15:38.199Z"
   },
   {
    "duration": 13,
    "start_time": "2022-07-24T13:15:38.217Z"
   },
   {
    "duration": 21,
    "start_time": "2022-07-24T13:15:38.232Z"
   },
   {
    "duration": 53,
    "start_time": "2022-07-24T13:15:38.255Z"
   },
   {
    "duration": 6,
    "start_time": "2022-07-24T13:15:38.310Z"
   },
   {
    "duration": 26,
    "start_time": "2022-07-24T13:15:38.317Z"
   },
   {
    "duration": 19,
    "start_time": "2022-07-24T13:15:38.345Z"
   },
   {
    "duration": 27,
    "start_time": "2022-07-24T13:15:38.366Z"
   },
   {
    "duration": 23,
    "start_time": "2022-07-24T13:15:38.394Z"
   },
   {
    "duration": 70,
    "start_time": "2022-07-24T13:15:38.419Z"
   },
   {
    "duration": 37,
    "start_time": "2022-07-24T13:20:21.504Z"
   },
   {
    "duration": 44,
    "start_time": "2022-07-24T13:22:07.010Z"
   },
   {
    "duration": 44,
    "start_time": "2022-07-24T13:22:48.384Z"
   },
   {
    "duration": 37,
    "start_time": "2022-07-24T13:23:34.204Z"
   },
   {
    "duration": 42,
    "start_time": "2022-07-24T13:24:24.017Z"
   },
   {
    "duration": 35,
    "start_time": "2022-07-24T13:25:10.719Z"
   },
   {
    "duration": 38,
    "start_time": "2022-07-24T13:25:55.529Z"
   },
   {
    "duration": 486,
    "start_time": "2022-07-24T16:06:44.381Z"
   },
   {
    "duration": 24,
    "start_time": "2022-07-24T16:06:44.869Z"
   },
   {
    "duration": 33,
    "start_time": "2022-07-24T16:06:44.895Z"
   },
   {
    "duration": 14,
    "start_time": "2022-07-24T16:06:44.931Z"
   },
   {
    "duration": 54,
    "start_time": "2022-07-24T16:06:44.947Z"
   },
   {
    "duration": 21,
    "start_time": "2022-07-24T16:06:45.004Z"
   },
   {
    "duration": 32,
    "start_time": "2022-07-24T16:06:45.027Z"
   },
   {
    "duration": 15,
    "start_time": "2022-07-24T16:06:45.061Z"
   },
   {
    "duration": 14,
    "start_time": "2022-07-24T16:06:45.078Z"
   },
   {
    "duration": 19,
    "start_time": "2022-07-24T16:06:45.096Z"
   },
   {
    "duration": 43,
    "start_time": "2022-07-24T16:06:45.117Z"
   },
   {
    "duration": 11,
    "start_time": "2022-07-24T16:06:45.162Z"
   },
   {
    "duration": 6,
    "start_time": "2022-07-24T16:06:45.175Z"
   },
   {
    "duration": 43,
    "start_time": "2022-07-24T16:06:45.183Z"
   },
   {
    "duration": 18,
    "start_time": "2022-07-24T16:06:45.227Z"
   },
   {
    "duration": 16,
    "start_time": "2022-07-24T16:06:45.247Z"
   },
   {
    "duration": 8,
    "start_time": "2022-07-24T16:06:45.265Z"
   },
   {
    "duration": 18,
    "start_time": "2022-07-24T16:06:45.275Z"
   },
   {
    "duration": 30,
    "start_time": "2022-07-24T16:06:45.295Z"
   },
   {
    "duration": 4,
    "start_time": "2022-07-24T16:06:45.327Z"
   },
   {
    "duration": 15,
    "start_time": "2022-07-24T16:06:45.332Z"
   },
   {
    "duration": 28,
    "start_time": "2022-07-24T16:06:45.349Z"
   },
   {
    "duration": 6,
    "start_time": "2022-07-24T16:06:45.378Z"
   },
   {
    "duration": 52,
    "start_time": "2022-07-24T16:06:45.386Z"
   },
   {
    "duration": 24,
    "start_time": "2022-07-24T16:06:45.440Z"
   },
   {
    "duration": 39,
    "start_time": "2022-07-24T16:06:45.466Z"
   },
   {
    "duration": 46,
    "start_time": "2022-07-24T16:06:45.507Z"
   }
  ],
  "celltoolbar": "Edit Metadata",
  "colab": {
   "name": "dpp_template_part2.ipynb",
   "provenance": []
  },
  "kernelspec": {
   "display_name": "Python 3 (ipykernel)",
   "language": "python",
   "name": "python3"
  },
  "language_info": {
   "codemirror_mode": {
    "name": "ipython",
    "version": 3
   },
   "file_extension": ".py",
   "mimetype": "text/x-python",
   "name": "python",
   "nbconvert_exporter": "python",
   "pygments_lexer": "ipython3",
   "version": "3.9.12"
  },
  "toc": {
   "base_numbering": 1,
   "nav_menu": {},
   "number_sections": true,
   "sideBar": true,
   "skip_h1_title": true,
   "title_cell": "Table of Contents",
   "title_sidebar": "Contents",
   "toc_cell": false,
   "toc_position": {},
   "toc_section_display": true,
   "toc_window_display": false
  }
 },
 "nbformat": 4,
 "nbformat_minor": 5
}
