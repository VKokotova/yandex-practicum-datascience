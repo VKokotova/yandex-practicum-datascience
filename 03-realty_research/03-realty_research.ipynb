{
 "cells": [
  {
   "cell_type": "markdown",
   "metadata": {},
   "source": [
    "# Исследование объявлений о продаже квартир\n",
    "\n",
    "В нашем распоряжении данные сервиса Яндекс.Недвижимость — архив объявлений о продаже квартир в Санкт-Петербурге и соседних населённых пунктов за несколько лет.\n",
    "По каждой квартире на продажу доступны два вида данных. Первые вписаны пользователем, вторые — получены автоматически на основе картографических данных. Например, расстояние до центра, аэропорта, ближайшего парка и водоёма. \n",
    "\n",
    "**Цель исследования**\n",
    "\n",
    "Установить параметры, которые влияют на рыночную стоимость объекта недвижимости. Эти параметры позволят построить автоматизированную систему для отслеживания аномалий и мошеннической деятельности.\n",
    "\n",
    "**Ход исследования**\n",
    "\n",
    "О качестве данных ничего не известно. Поэтому перед установкой параметров понадобится обзор данных.\n",
    "\n",
    "Проверим данные на ошибки, аномалии, наличие дублей, пропусков и оценим их влияние на исследование. Затем, на этапе предобработки исправим самые критичные ошибки данных, если это возможно.\n",
    "\n",
    "Таким образом, исследование пройдёт в три этапа:\n",
    "\n",
    "1. Обзор данных.\n",
    "2. Предобработка данных.\n",
    "3. Исследовательский анализ данных, выявлений зависимостей и корреляций."
   ]
  },
  {
   "cell_type": "markdown",
   "metadata": {},
   "source": [
    "### Откройте файл с данными и изучите общую информацию. "
   ]
  },
  {
   "cell_type": "code",
   "execution_count": 1,
   "metadata": {},
   "outputs": [],
   "source": [
    "# импорт необходимых библиотек\n",
    "import pandas as pd\n",
    "import matplotlib.pyplot as plt\n",
    "import os\n",
    "from textwrap import dedent\n",
    "from IPython import get_ipython"
   ]
  },
  {
   "cell_type": "code",
   "execution_count": 2,
   "metadata": {},
   "outputs": [
    {
     "data": {
      "text/html": [
       "<div>\n",
       "<style scoped>\n",
       "    .dataframe tbody tr th:only-of-type {\n",
       "        vertical-align: middle;\n",
       "    }\n",
       "\n",
       "    .dataframe tbody tr th {\n",
       "        vertical-align: top;\n",
       "    }\n",
       "\n",
       "    .dataframe thead th {\n",
       "        text-align: right;\n",
       "    }\n",
       "</style>\n",
       "<table border=\"1\" class=\"dataframe\">\n",
       "  <thead>\n",
       "    <tr style=\"text-align: right;\">\n",
       "      <th></th>\n",
       "      <th>total_images</th>\n",
       "      <th>last_price</th>\n",
       "      <th>total_area</th>\n",
       "      <th>first_day_exposition</th>\n",
       "      <th>rooms</th>\n",
       "      <th>ceiling_height</th>\n",
       "      <th>floors_total</th>\n",
       "      <th>living_area</th>\n",
       "      <th>floor</th>\n",
       "      <th>is_apartment</th>\n",
       "      <th>...</th>\n",
       "      <th>kitchen_area</th>\n",
       "      <th>balcony</th>\n",
       "      <th>locality_name</th>\n",
       "      <th>airports_nearest</th>\n",
       "      <th>cityCenters_nearest</th>\n",
       "      <th>parks_around3000</th>\n",
       "      <th>parks_nearest</th>\n",
       "      <th>ponds_around3000</th>\n",
       "      <th>ponds_nearest</th>\n",
       "      <th>days_exposition</th>\n",
       "    </tr>\n",
       "  </thead>\n",
       "  <tbody>\n",
       "    <tr>\n",
       "      <th>0</th>\n",
       "      <td>20</td>\n",
       "      <td>13000000.0</td>\n",
       "      <td>108.00</td>\n",
       "      <td>2019-03-07T00:00:00</td>\n",
       "      <td>3</td>\n",
       "      <td>2.70</td>\n",
       "      <td>16.0</td>\n",
       "      <td>51.00</td>\n",
       "      <td>8</td>\n",
       "      <td>NaN</td>\n",
       "      <td>...</td>\n",
       "      <td>25.00</td>\n",
       "      <td>NaN</td>\n",
       "      <td>Санкт-Петербург</td>\n",
       "      <td>18863.0</td>\n",
       "      <td>16028.0</td>\n",
       "      <td>1.0</td>\n",
       "      <td>482.0</td>\n",
       "      <td>2.0</td>\n",
       "      <td>755.0</td>\n",
       "      <td>NaN</td>\n",
       "    </tr>\n",
       "    <tr>\n",
       "      <th>1</th>\n",
       "      <td>7</td>\n",
       "      <td>3350000.0</td>\n",
       "      <td>40.40</td>\n",
       "      <td>2018-12-04T00:00:00</td>\n",
       "      <td>1</td>\n",
       "      <td>NaN</td>\n",
       "      <td>11.0</td>\n",
       "      <td>18.60</td>\n",
       "      <td>1</td>\n",
       "      <td>NaN</td>\n",
       "      <td>...</td>\n",
       "      <td>11.00</td>\n",
       "      <td>2.0</td>\n",
       "      <td>посёлок Шушары</td>\n",
       "      <td>12817.0</td>\n",
       "      <td>18603.0</td>\n",
       "      <td>0.0</td>\n",
       "      <td>NaN</td>\n",
       "      <td>0.0</td>\n",
       "      <td>NaN</td>\n",
       "      <td>81.0</td>\n",
       "    </tr>\n",
       "    <tr>\n",
       "      <th>2</th>\n",
       "      <td>10</td>\n",
       "      <td>5196000.0</td>\n",
       "      <td>56.00</td>\n",
       "      <td>2015-08-20T00:00:00</td>\n",
       "      <td>2</td>\n",
       "      <td>NaN</td>\n",
       "      <td>5.0</td>\n",
       "      <td>34.30</td>\n",
       "      <td>4</td>\n",
       "      <td>NaN</td>\n",
       "      <td>...</td>\n",
       "      <td>8.30</td>\n",
       "      <td>0.0</td>\n",
       "      <td>Санкт-Петербург</td>\n",
       "      <td>21741.0</td>\n",
       "      <td>13933.0</td>\n",
       "      <td>1.0</td>\n",
       "      <td>90.0</td>\n",
       "      <td>2.0</td>\n",
       "      <td>574.0</td>\n",
       "      <td>558.0</td>\n",
       "    </tr>\n",
       "    <tr>\n",
       "      <th>3</th>\n",
       "      <td>0</td>\n",
       "      <td>64900000.0</td>\n",
       "      <td>159.00</td>\n",
       "      <td>2015-07-24T00:00:00</td>\n",
       "      <td>3</td>\n",
       "      <td>NaN</td>\n",
       "      <td>14.0</td>\n",
       "      <td>NaN</td>\n",
       "      <td>9</td>\n",
       "      <td>NaN</td>\n",
       "      <td>...</td>\n",
       "      <td>NaN</td>\n",
       "      <td>0.0</td>\n",
       "      <td>Санкт-Петербург</td>\n",
       "      <td>28098.0</td>\n",
       "      <td>6800.0</td>\n",
       "      <td>2.0</td>\n",
       "      <td>84.0</td>\n",
       "      <td>3.0</td>\n",
       "      <td>234.0</td>\n",
       "      <td>424.0</td>\n",
       "    </tr>\n",
       "    <tr>\n",
       "      <th>4</th>\n",
       "      <td>2</td>\n",
       "      <td>10000000.0</td>\n",
       "      <td>100.00</td>\n",
       "      <td>2018-06-19T00:00:00</td>\n",
       "      <td>2</td>\n",
       "      <td>3.03</td>\n",
       "      <td>14.0</td>\n",
       "      <td>32.00</td>\n",
       "      <td>13</td>\n",
       "      <td>NaN</td>\n",
       "      <td>...</td>\n",
       "      <td>41.00</td>\n",
       "      <td>NaN</td>\n",
       "      <td>Санкт-Петербург</td>\n",
       "      <td>31856.0</td>\n",
       "      <td>8098.0</td>\n",
       "      <td>2.0</td>\n",
       "      <td>112.0</td>\n",
       "      <td>1.0</td>\n",
       "      <td>48.0</td>\n",
       "      <td>121.0</td>\n",
       "    </tr>\n",
       "    <tr>\n",
       "      <th>5</th>\n",
       "      <td>10</td>\n",
       "      <td>2890000.0</td>\n",
       "      <td>30.40</td>\n",
       "      <td>2018-09-10T00:00:00</td>\n",
       "      <td>1</td>\n",
       "      <td>NaN</td>\n",
       "      <td>12.0</td>\n",
       "      <td>14.40</td>\n",
       "      <td>5</td>\n",
       "      <td>NaN</td>\n",
       "      <td>...</td>\n",
       "      <td>9.10</td>\n",
       "      <td>NaN</td>\n",
       "      <td>городской посёлок Янино-1</td>\n",
       "      <td>NaN</td>\n",
       "      <td>NaN</td>\n",
       "      <td>NaN</td>\n",
       "      <td>NaN</td>\n",
       "      <td>NaN</td>\n",
       "      <td>NaN</td>\n",
       "      <td>55.0</td>\n",
       "    </tr>\n",
       "    <tr>\n",
       "      <th>6</th>\n",
       "      <td>6</td>\n",
       "      <td>3700000.0</td>\n",
       "      <td>37.30</td>\n",
       "      <td>2017-11-02T00:00:00</td>\n",
       "      <td>1</td>\n",
       "      <td>NaN</td>\n",
       "      <td>26.0</td>\n",
       "      <td>10.60</td>\n",
       "      <td>6</td>\n",
       "      <td>NaN</td>\n",
       "      <td>...</td>\n",
       "      <td>14.40</td>\n",
       "      <td>1.0</td>\n",
       "      <td>посёлок Парголово</td>\n",
       "      <td>52996.0</td>\n",
       "      <td>19143.0</td>\n",
       "      <td>0.0</td>\n",
       "      <td>NaN</td>\n",
       "      <td>0.0</td>\n",
       "      <td>NaN</td>\n",
       "      <td>155.0</td>\n",
       "    </tr>\n",
       "    <tr>\n",
       "      <th>7</th>\n",
       "      <td>5</td>\n",
       "      <td>7915000.0</td>\n",
       "      <td>71.60</td>\n",
       "      <td>2019-04-18T00:00:00</td>\n",
       "      <td>2</td>\n",
       "      <td>NaN</td>\n",
       "      <td>24.0</td>\n",
       "      <td>NaN</td>\n",
       "      <td>22</td>\n",
       "      <td>NaN</td>\n",
       "      <td>...</td>\n",
       "      <td>18.90</td>\n",
       "      <td>2.0</td>\n",
       "      <td>Санкт-Петербург</td>\n",
       "      <td>23982.0</td>\n",
       "      <td>11634.0</td>\n",
       "      <td>0.0</td>\n",
       "      <td>NaN</td>\n",
       "      <td>0.0</td>\n",
       "      <td>NaN</td>\n",
       "      <td>NaN</td>\n",
       "    </tr>\n",
       "    <tr>\n",
       "      <th>8</th>\n",
       "      <td>20</td>\n",
       "      <td>2900000.0</td>\n",
       "      <td>33.16</td>\n",
       "      <td>2018-05-23T00:00:00</td>\n",
       "      <td>1</td>\n",
       "      <td>NaN</td>\n",
       "      <td>27.0</td>\n",
       "      <td>15.43</td>\n",
       "      <td>26</td>\n",
       "      <td>NaN</td>\n",
       "      <td>...</td>\n",
       "      <td>8.81</td>\n",
       "      <td>NaN</td>\n",
       "      <td>посёлок Мурино</td>\n",
       "      <td>NaN</td>\n",
       "      <td>NaN</td>\n",
       "      <td>NaN</td>\n",
       "      <td>NaN</td>\n",
       "      <td>NaN</td>\n",
       "      <td>NaN</td>\n",
       "      <td>189.0</td>\n",
       "    </tr>\n",
       "    <tr>\n",
       "      <th>9</th>\n",
       "      <td>18</td>\n",
       "      <td>5400000.0</td>\n",
       "      <td>61.00</td>\n",
       "      <td>2017-02-26T00:00:00</td>\n",
       "      <td>3</td>\n",
       "      <td>2.50</td>\n",
       "      <td>9.0</td>\n",
       "      <td>43.60</td>\n",
       "      <td>7</td>\n",
       "      <td>NaN</td>\n",
       "      <td>...</td>\n",
       "      <td>6.50</td>\n",
       "      <td>2.0</td>\n",
       "      <td>Санкт-Петербург</td>\n",
       "      <td>50898.0</td>\n",
       "      <td>15008.0</td>\n",
       "      <td>0.0</td>\n",
       "      <td>NaN</td>\n",
       "      <td>0.0</td>\n",
       "      <td>NaN</td>\n",
       "      <td>289.0</td>\n",
       "    </tr>\n",
       "    <tr>\n",
       "      <th>10</th>\n",
       "      <td>5</td>\n",
       "      <td>5050000.0</td>\n",
       "      <td>39.60</td>\n",
       "      <td>2017-11-16T00:00:00</td>\n",
       "      <td>1</td>\n",
       "      <td>2.67</td>\n",
       "      <td>12.0</td>\n",
       "      <td>20.30</td>\n",
       "      <td>3</td>\n",
       "      <td>NaN</td>\n",
       "      <td>...</td>\n",
       "      <td>8.50</td>\n",
       "      <td>NaN</td>\n",
       "      <td>Санкт-Петербург</td>\n",
       "      <td>38357.0</td>\n",
       "      <td>13878.0</td>\n",
       "      <td>1.0</td>\n",
       "      <td>310.0</td>\n",
       "      <td>2.0</td>\n",
       "      <td>553.0</td>\n",
       "      <td>137.0</td>\n",
       "    </tr>\n",
       "    <tr>\n",
       "      <th>11</th>\n",
       "      <td>9</td>\n",
       "      <td>3300000.0</td>\n",
       "      <td>44.00</td>\n",
       "      <td>2018-08-27T00:00:00</td>\n",
       "      <td>2</td>\n",
       "      <td>NaN</td>\n",
       "      <td>5.0</td>\n",
       "      <td>31.00</td>\n",
       "      <td>4</td>\n",
       "      <td>False</td>\n",
       "      <td>...</td>\n",
       "      <td>6.00</td>\n",
       "      <td>1.0</td>\n",
       "      <td>Ломоносов</td>\n",
       "      <td>48252.0</td>\n",
       "      <td>51677.0</td>\n",
       "      <td>0.0</td>\n",
       "      <td>NaN</td>\n",
       "      <td>0.0</td>\n",
       "      <td>NaN</td>\n",
       "      <td>7.0</td>\n",
       "    </tr>\n",
       "    <tr>\n",
       "      <th>12</th>\n",
       "      <td>10</td>\n",
       "      <td>3890000.0</td>\n",
       "      <td>54.00</td>\n",
       "      <td>2016-06-30T00:00:00</td>\n",
       "      <td>2</td>\n",
       "      <td>NaN</td>\n",
       "      <td>5.0</td>\n",
       "      <td>30.00</td>\n",
       "      <td>5</td>\n",
       "      <td>NaN</td>\n",
       "      <td>...</td>\n",
       "      <td>9.00</td>\n",
       "      <td>0.0</td>\n",
       "      <td>Сертолово</td>\n",
       "      <td>NaN</td>\n",
       "      <td>NaN</td>\n",
       "      <td>NaN</td>\n",
       "      <td>NaN</td>\n",
       "      <td>NaN</td>\n",
       "      <td>NaN</td>\n",
       "      <td>90.0</td>\n",
       "    </tr>\n",
       "    <tr>\n",
       "      <th>13</th>\n",
       "      <td>20</td>\n",
       "      <td>3550000.0</td>\n",
       "      <td>42.80</td>\n",
       "      <td>2017-07-01T00:00:00</td>\n",
       "      <td>2</td>\n",
       "      <td>2.56</td>\n",
       "      <td>5.0</td>\n",
       "      <td>27.00</td>\n",
       "      <td>5</td>\n",
       "      <td>NaN</td>\n",
       "      <td>...</td>\n",
       "      <td>5.20</td>\n",
       "      <td>1.0</td>\n",
       "      <td>Петергоф</td>\n",
       "      <td>37868.0</td>\n",
       "      <td>33058.0</td>\n",
       "      <td>1.0</td>\n",
       "      <td>294.0</td>\n",
       "      <td>3.0</td>\n",
       "      <td>298.0</td>\n",
       "      <td>366.0</td>\n",
       "    </tr>\n",
       "    <tr>\n",
       "      <th>14</th>\n",
       "      <td>1</td>\n",
       "      <td>4400000.0</td>\n",
       "      <td>36.00</td>\n",
       "      <td>2016-06-23T00:00:00</td>\n",
       "      <td>1</td>\n",
       "      <td>NaN</td>\n",
       "      <td>6.0</td>\n",
       "      <td>17.00</td>\n",
       "      <td>1</td>\n",
       "      <td>NaN</td>\n",
       "      <td>...</td>\n",
       "      <td>8.00</td>\n",
       "      <td>0.0</td>\n",
       "      <td>Пушкин</td>\n",
       "      <td>20782.0</td>\n",
       "      <td>30759.0</td>\n",
       "      <td>0.0</td>\n",
       "      <td>NaN</td>\n",
       "      <td>1.0</td>\n",
       "      <td>96.0</td>\n",
       "      <td>203.0</td>\n",
       "    </tr>\n",
       "    <tr>\n",
       "      <th>15</th>\n",
       "      <td>16</td>\n",
       "      <td>4650000.0</td>\n",
       "      <td>39.00</td>\n",
       "      <td>2017-11-18T00:00:00</td>\n",
       "      <td>1</td>\n",
       "      <td>NaN</td>\n",
       "      <td>14.0</td>\n",
       "      <td>20.50</td>\n",
       "      <td>5</td>\n",
       "      <td>NaN</td>\n",
       "      <td>...</td>\n",
       "      <td>7.60</td>\n",
       "      <td>1.0</td>\n",
       "      <td>Санкт-Петербург</td>\n",
       "      <td>12900.0</td>\n",
       "      <td>14259.0</td>\n",
       "      <td>1.0</td>\n",
       "      <td>590.0</td>\n",
       "      <td>1.0</td>\n",
       "      <td>296.0</td>\n",
       "      <td>19.0</td>\n",
       "    </tr>\n",
       "    <tr>\n",
       "      <th>16</th>\n",
       "      <td>11</td>\n",
       "      <td>6700000.0</td>\n",
       "      <td>82.00</td>\n",
       "      <td>2017-11-23T00:00:00</td>\n",
       "      <td>3</td>\n",
       "      <td>3.05</td>\n",
       "      <td>5.0</td>\n",
       "      <td>55.60</td>\n",
       "      <td>1</td>\n",
       "      <td>NaN</td>\n",
       "      <td>...</td>\n",
       "      <td>9.00</td>\n",
       "      <td>NaN</td>\n",
       "      <td>Санкт-Петербург</td>\n",
       "      <td>22108.0</td>\n",
       "      <td>10698.0</td>\n",
       "      <td>3.0</td>\n",
       "      <td>420.0</td>\n",
       "      <td>0.0</td>\n",
       "      <td>NaN</td>\n",
       "      <td>397.0</td>\n",
       "    </tr>\n",
       "    <tr>\n",
       "      <th>17</th>\n",
       "      <td>6</td>\n",
       "      <td>4180000.0</td>\n",
       "      <td>36.00</td>\n",
       "      <td>2016-09-09T00:00:00</td>\n",
       "      <td>1</td>\n",
       "      <td>NaN</td>\n",
       "      <td>17.0</td>\n",
       "      <td>16.50</td>\n",
       "      <td>7</td>\n",
       "      <td>NaN</td>\n",
       "      <td>...</td>\n",
       "      <td>11.00</td>\n",
       "      <td>1.0</td>\n",
       "      <td>Санкт-Петербург</td>\n",
       "      <td>33564.0</td>\n",
       "      <td>14616.0</td>\n",
       "      <td>0.0</td>\n",
       "      <td>NaN</td>\n",
       "      <td>1.0</td>\n",
       "      <td>859.0</td>\n",
       "      <td>571.0</td>\n",
       "    </tr>\n",
       "    <tr>\n",
       "      <th>18</th>\n",
       "      <td>8</td>\n",
       "      <td>3250000.0</td>\n",
       "      <td>31.00</td>\n",
       "      <td>2017-01-27T00:00:00</td>\n",
       "      <td>1</td>\n",
       "      <td>2.50</td>\n",
       "      <td>5.0</td>\n",
       "      <td>19.40</td>\n",
       "      <td>2</td>\n",
       "      <td>NaN</td>\n",
       "      <td>...</td>\n",
       "      <td>5.60</td>\n",
       "      <td>1.0</td>\n",
       "      <td>Санкт-Петербург</td>\n",
       "      <td>44060.0</td>\n",
       "      <td>10842.0</td>\n",
       "      <td>1.0</td>\n",
       "      <td>759.0</td>\n",
       "      <td>0.0</td>\n",
       "      <td>NaN</td>\n",
       "      <td>168.0</td>\n",
       "    </tr>\n",
       "    <tr>\n",
       "      <th>19</th>\n",
       "      <td>16</td>\n",
       "      <td>14200000.0</td>\n",
       "      <td>121.00</td>\n",
       "      <td>2019-01-09T00:00:00</td>\n",
       "      <td>3</td>\n",
       "      <td>2.75</td>\n",
       "      <td>16.0</td>\n",
       "      <td>76.00</td>\n",
       "      <td>8</td>\n",
       "      <td>NaN</td>\n",
       "      <td>...</td>\n",
       "      <td>12.00</td>\n",
       "      <td>NaN</td>\n",
       "      <td>Санкт-Петербург</td>\n",
       "      <td>38900.0</td>\n",
       "      <td>12843.0</td>\n",
       "      <td>0.0</td>\n",
       "      <td>NaN</td>\n",
       "      <td>0.0</td>\n",
       "      <td>NaN</td>\n",
       "      <td>97.0</td>\n",
       "    </tr>\n",
       "  </tbody>\n",
       "</table>\n",
       "<p>20 rows × 22 columns</p>\n",
       "</div>"
      ],
      "text/plain": [
       "    total_images  last_price  total_area first_day_exposition  rooms  \\\n",
       "0             20  13000000.0      108.00  2019-03-07T00:00:00      3   \n",
       "1              7   3350000.0       40.40  2018-12-04T00:00:00      1   \n",
       "2             10   5196000.0       56.00  2015-08-20T00:00:00      2   \n",
       "3              0  64900000.0      159.00  2015-07-24T00:00:00      3   \n",
       "4              2  10000000.0      100.00  2018-06-19T00:00:00      2   \n",
       "5             10   2890000.0       30.40  2018-09-10T00:00:00      1   \n",
       "6              6   3700000.0       37.30  2017-11-02T00:00:00      1   \n",
       "7              5   7915000.0       71.60  2019-04-18T00:00:00      2   \n",
       "8             20   2900000.0       33.16  2018-05-23T00:00:00      1   \n",
       "9             18   5400000.0       61.00  2017-02-26T00:00:00      3   \n",
       "10             5   5050000.0       39.60  2017-11-16T00:00:00      1   \n",
       "11             9   3300000.0       44.00  2018-08-27T00:00:00      2   \n",
       "12            10   3890000.0       54.00  2016-06-30T00:00:00      2   \n",
       "13            20   3550000.0       42.80  2017-07-01T00:00:00      2   \n",
       "14             1   4400000.0       36.00  2016-06-23T00:00:00      1   \n",
       "15            16   4650000.0       39.00  2017-11-18T00:00:00      1   \n",
       "16            11   6700000.0       82.00  2017-11-23T00:00:00      3   \n",
       "17             6   4180000.0       36.00  2016-09-09T00:00:00      1   \n",
       "18             8   3250000.0       31.00  2017-01-27T00:00:00      1   \n",
       "19            16  14200000.0      121.00  2019-01-09T00:00:00      3   \n",
       "\n",
       "    ceiling_height  floors_total  living_area  floor is_apartment  ...  \\\n",
       "0             2.70          16.0        51.00      8          NaN  ...   \n",
       "1              NaN          11.0        18.60      1          NaN  ...   \n",
       "2              NaN           5.0        34.30      4          NaN  ...   \n",
       "3              NaN          14.0          NaN      9          NaN  ...   \n",
       "4             3.03          14.0        32.00     13          NaN  ...   \n",
       "5              NaN          12.0        14.40      5          NaN  ...   \n",
       "6              NaN          26.0        10.60      6          NaN  ...   \n",
       "7              NaN          24.0          NaN     22          NaN  ...   \n",
       "8              NaN          27.0        15.43     26          NaN  ...   \n",
       "9             2.50           9.0        43.60      7          NaN  ...   \n",
       "10            2.67          12.0        20.30      3          NaN  ...   \n",
       "11             NaN           5.0        31.00      4        False  ...   \n",
       "12             NaN           5.0        30.00      5          NaN  ...   \n",
       "13            2.56           5.0        27.00      5          NaN  ...   \n",
       "14             NaN           6.0        17.00      1          NaN  ...   \n",
       "15             NaN          14.0        20.50      5          NaN  ...   \n",
       "16            3.05           5.0        55.60      1          NaN  ...   \n",
       "17             NaN          17.0        16.50      7          NaN  ...   \n",
       "18            2.50           5.0        19.40      2          NaN  ...   \n",
       "19            2.75          16.0        76.00      8          NaN  ...   \n",
       "\n",
       "    kitchen_area  balcony              locality_name  airports_nearest  \\\n",
       "0          25.00      NaN            Санкт-Петербург           18863.0   \n",
       "1          11.00      2.0             посёлок Шушары           12817.0   \n",
       "2           8.30      0.0            Санкт-Петербург           21741.0   \n",
       "3            NaN      0.0            Санкт-Петербург           28098.0   \n",
       "4          41.00      NaN            Санкт-Петербург           31856.0   \n",
       "5           9.10      NaN  городской посёлок Янино-1               NaN   \n",
       "6          14.40      1.0          посёлок Парголово           52996.0   \n",
       "7          18.90      2.0            Санкт-Петербург           23982.0   \n",
       "8           8.81      NaN             посёлок Мурино               NaN   \n",
       "9           6.50      2.0            Санкт-Петербург           50898.0   \n",
       "10          8.50      NaN            Санкт-Петербург           38357.0   \n",
       "11          6.00      1.0                  Ломоносов           48252.0   \n",
       "12          9.00      0.0                  Сертолово               NaN   \n",
       "13          5.20      1.0                   Петергоф           37868.0   \n",
       "14          8.00      0.0                     Пушкин           20782.0   \n",
       "15          7.60      1.0            Санкт-Петербург           12900.0   \n",
       "16          9.00      NaN            Санкт-Петербург           22108.0   \n",
       "17         11.00      1.0            Санкт-Петербург           33564.0   \n",
       "18          5.60      1.0            Санкт-Петербург           44060.0   \n",
       "19         12.00      NaN            Санкт-Петербург           38900.0   \n",
       "\n",
       "   cityCenters_nearest  parks_around3000  parks_nearest  ponds_around3000  \\\n",
       "0              16028.0               1.0          482.0               2.0   \n",
       "1              18603.0               0.0            NaN               0.0   \n",
       "2              13933.0               1.0           90.0               2.0   \n",
       "3               6800.0               2.0           84.0               3.0   \n",
       "4               8098.0               2.0          112.0               1.0   \n",
       "5                  NaN               NaN            NaN               NaN   \n",
       "6              19143.0               0.0            NaN               0.0   \n",
       "7              11634.0               0.0            NaN               0.0   \n",
       "8                  NaN               NaN            NaN               NaN   \n",
       "9              15008.0               0.0            NaN               0.0   \n",
       "10             13878.0               1.0          310.0               2.0   \n",
       "11             51677.0               0.0            NaN               0.0   \n",
       "12                 NaN               NaN            NaN               NaN   \n",
       "13             33058.0               1.0          294.0               3.0   \n",
       "14             30759.0               0.0            NaN               1.0   \n",
       "15             14259.0               1.0          590.0               1.0   \n",
       "16             10698.0               3.0          420.0               0.0   \n",
       "17             14616.0               0.0            NaN               1.0   \n",
       "18             10842.0               1.0          759.0               0.0   \n",
       "19             12843.0               0.0            NaN               0.0   \n",
       "\n",
       "    ponds_nearest  days_exposition  \n",
       "0           755.0              NaN  \n",
       "1             NaN             81.0  \n",
       "2           574.0            558.0  \n",
       "3           234.0            424.0  \n",
       "4            48.0            121.0  \n",
       "5             NaN             55.0  \n",
       "6             NaN            155.0  \n",
       "7             NaN              NaN  \n",
       "8             NaN            189.0  \n",
       "9             NaN            289.0  \n",
       "10          553.0            137.0  \n",
       "11            NaN              7.0  \n",
       "12            NaN             90.0  \n",
       "13          298.0            366.0  \n",
       "14           96.0            203.0  \n",
       "15          296.0             19.0  \n",
       "16            NaN            397.0  \n",
       "17          859.0            571.0  \n",
       "18            NaN            168.0  \n",
       "19            NaN             97.0  \n",
       "\n",
       "[20 rows x 22 columns]"
      ]
     },
     "metadata": {},
     "output_type": "display_data"
    }
   ],
   "source": [
    "if os.path.exists('/datasets/real_estate_data.csv'):\n",
    "    data = pd.read_csv('/datasets/real_estate_data.csv', sep='\\t')\n",
    "else:\n",
    "    data = pd.read_csv('real_estate_data.csv', sep='\\t')\n",
    "\n",
    "display(data.head(20))"
   ]
  },
  {
   "cell_type": "markdown",
   "metadata": {},
   "source": [
    "Выведем общую информацию по таблице."
   ]
  },
  {
   "cell_type": "code",
   "execution_count": 3,
   "metadata": {},
   "outputs": [
    {
     "name": "stdout",
     "output_type": "stream",
     "text": [
      "<class 'pandas.core.frame.DataFrame'>\n",
      "RangeIndex: 23699 entries, 0 to 23698\n",
      "Data columns (total 22 columns):\n",
      " #   Column                Non-Null Count  Dtype  \n",
      "---  ------                --------------  -----  \n",
      " 0   total_images          23699 non-null  int64  \n",
      " 1   last_price            23699 non-null  float64\n",
      " 2   total_area            23699 non-null  float64\n",
      " 3   first_day_exposition  23699 non-null  object \n",
      " 4   rooms                 23699 non-null  int64  \n",
      " 5   ceiling_height        14504 non-null  float64\n",
      " 6   floors_total          23613 non-null  float64\n",
      " 7   living_area           21796 non-null  float64\n",
      " 8   floor                 23699 non-null  int64  \n",
      " 9   is_apartment          2775 non-null   object \n",
      " 10  studio                23699 non-null  bool   \n",
      " 11  open_plan             23699 non-null  bool   \n",
      " 12  kitchen_area          21421 non-null  float64\n",
      " 13  balcony               12180 non-null  float64\n",
      " 14  locality_name         23650 non-null  object \n",
      " 15  airports_nearest      18157 non-null  float64\n",
      " 16  cityCenters_nearest   18180 non-null  float64\n",
      " 17  parks_around3000      18181 non-null  float64\n",
      " 18  parks_nearest         8079 non-null   float64\n",
      " 19  ponds_around3000      18181 non-null  float64\n",
      " 20  ponds_nearest         9110 non-null   float64\n",
      " 21  days_exposition       20518 non-null  float64\n",
      "dtypes: bool(2), float64(14), int64(3), object(3)\n",
      "memory usage: 3.7+ MB\n"
     ]
    }
   ],
   "source": [
    "data.info()"
   ]
  },
  {
   "cell_type": "markdown",
   "metadata": {},
   "source": [
    "Переименуем колонку `cityCenters_nearest`."
   ]
  },
  {
   "cell_type": "code",
   "execution_count": 4,
   "metadata": {},
   "outputs": [],
   "source": [
    "data = data.rename(columns={'cityCenters_nearest': 'city_centers_nearest'}) "
   ]
  },
  {
   "cell_type": "markdown",
   "metadata": {},
   "source": [
    "Построим гистограммы по каждому столбцу."
   ]
  },
  {
   "cell_type": "code",
   "execution_count": 5,
   "metadata": {},
   "outputs": [
    {
     "data": {
      "image/png": "[encoded data removed]",
      "text/plain": [
       "<Figure size 1080x1440 with 20 Axes>"
      ]
     },
     "metadata": {
      "needs_background": "light"
     },
     "output_type": "display_data"
    }
   ],
   "source": [
    "data.hist(figsize=(15, 20));"
   ]
  },
  {
   "cell_type": "markdown",
   "metadata": {},
   "source": [
    "### Предобработка данных"
   ]
  },
  {
   "cell_type": "markdown",
   "metadata": {},
   "source": [
    "#### Обработка пропусков"
   ]
  },
  {
   "cell_type": "markdown",
   "metadata": {},
   "source": [
    "Выведем количество пропущенных значений для каждого столбца."
   ]
  },
  {
   "cell_type": "code",
   "execution_count": 6,
   "metadata": {},
   "outputs": [
    {
     "data": {
      "text/html": [
       "<style  type=\"text/css\" >\n",
       "#T_37be4_row0_col0,#T_37be4_row1_col0,#T_37be4_row2_col0,#T_37be4_row3_col0,#T_37be4_row4_col0,#T_37be4_row6_col0,#T_37be4_row8_col0,#T_37be4_row10_col0,#T_37be4_row11_col0,#T_37be4_row14_col0{\n",
       "            background-color:  #3b4cc0;\n",
       "            color:  #f1f1f1;\n",
       "        }#T_37be4_row5_col0{\n",
       "            background-color:  #cdd9ec;\n",
       "            color:  #000000;\n",
       "        }#T_37be4_row7_col0{\n",
       "            background-color:  #5673e0;\n",
       "            color:  #000000;\n",
       "        }#T_37be4_row9_col0{\n",
       "            background-color:  #b40426;\n",
       "            color:  #f1f1f1;\n",
       "        }#T_37be4_row12_col0{\n",
       "            background-color:  #5e7de7;\n",
       "            color:  #000000;\n",
       "        }#T_37be4_row13_col0{\n",
       "            background-color:  #ead4c8;\n",
       "            color:  #000000;\n",
       "        }#T_37be4_row15_col0,#T_37be4_row16_col0,#T_37be4_row17_col0,#T_37be4_row19_col0{\n",
       "            background-color:  #90b2fe;\n",
       "            color:  #000000;\n",
       "        }#T_37be4_row18_col0{\n",
       "            background-color:  #f4987a;\n",
       "            color:  #000000;\n",
       "        }#T_37be4_row20_col0{\n",
       "            background-color:  #f7aa8c;\n",
       "            color:  #000000;\n",
       "        }#T_37be4_row21_col0{\n",
       "            background-color:  #688aef;\n",
       "            color:  #000000;\n",
       "        }</style><table id=\"T_37be4_\" ><thead>    <tr>        <th class=\"blank level0\" ></th>        <th class=\"col_heading level0 col0\" >0</th>    </tr></thead><tbody>\n",
       "                <tr>\n",
       "                        <th id=\"T_37be4_level0_row0\" class=\"row_heading level0 row0\" >total_images</th>\n",
       "                        <td id=\"T_37be4_row0_col0\" class=\"data row0 col0\" >0.000000</td>\n",
       "            </tr>\n",
       "            <tr>\n",
       "                        <th id=\"T_37be4_level0_row1\" class=\"row_heading level0 row1\" >last_price</th>\n",
       "                        <td id=\"T_37be4_row1_col0\" class=\"data row1 col0\" >0.000000</td>\n",
       "            </tr>\n",
       "            <tr>\n",
       "                        <th id=\"T_37be4_level0_row2\" class=\"row_heading level0 row2\" >total_area</th>\n",
       "                        <td id=\"T_37be4_row2_col0\" class=\"data row2 col0\" >0.000000</td>\n",
       "            </tr>\n",
       "            <tr>\n",
       "                        <th id=\"T_37be4_level0_row3\" class=\"row_heading level0 row3\" >first_day_exposition</th>\n",
       "                        <td id=\"T_37be4_row3_col0\" class=\"data row3 col0\" >0.000000</td>\n",
       "            </tr>\n",
       "            <tr>\n",
       "                        <th id=\"T_37be4_level0_row4\" class=\"row_heading level0 row4\" >rooms</th>\n",
       "                        <td id=\"T_37be4_row4_col0\" class=\"data row4 col0\" >0.000000</td>\n",
       "            </tr>\n",
       "            <tr>\n",
       "                        <th id=\"T_37be4_level0_row5\" class=\"row_heading level0 row5\" >ceiling_height</th>\n",
       "                        <td id=\"T_37be4_row5_col0\" class=\"data row5 col0\" >39.000000</td>\n",
       "            </tr>\n",
       "            <tr>\n",
       "                        <th id=\"T_37be4_level0_row6\" class=\"row_heading level0 row6\" >floors_total</th>\n",
       "                        <td id=\"T_37be4_row6_col0\" class=\"data row6 col0\" >0.000000</td>\n",
       "            </tr>\n",
       "            <tr>\n",
       "                        <th id=\"T_37be4_level0_row7\" class=\"row_heading level0 row7\" >living_area</th>\n",
       "                        <td id=\"T_37be4_row7_col0\" class=\"data row7 col0\" >8.000000</td>\n",
       "            </tr>\n",
       "            <tr>\n",
       "                        <th id=\"T_37be4_level0_row8\" class=\"row_heading level0 row8\" >floor</th>\n",
       "                        <td id=\"T_37be4_row8_col0\" class=\"data row8 col0\" >0.000000</td>\n",
       "            </tr>\n",
       "            <tr>\n",
       "                        <th id=\"T_37be4_level0_row9\" class=\"row_heading level0 row9\" >is_apartment</th>\n",
       "                        <td id=\"T_37be4_row9_col0\" class=\"data row9 col0\" >88.000000</td>\n",
       "            </tr>\n",
       "            <tr>\n",
       "                        <th id=\"T_37be4_level0_row10\" class=\"row_heading level0 row10\" >studio</th>\n",
       "                        <td id=\"T_37be4_row10_col0\" class=\"data row10 col0\" >0.000000</td>\n",
       "            </tr>\n",
       "            <tr>\n",
       "                        <th id=\"T_37be4_level0_row11\" class=\"row_heading level0 row11\" >open_plan</th>\n",
       "                        <td id=\"T_37be4_row11_col0\" class=\"data row11 col0\" >0.000000</td>\n",
       "            </tr>\n",
       "            <tr>\n",
       "                        <th id=\"T_37be4_level0_row12\" class=\"row_heading level0 row12\" >kitchen_area</th>\n",
       "                        <td id=\"T_37be4_row12_col0\" class=\"data row12 col0\" >10.000000</td>\n",
       "            </tr>\n",
       "            <tr>\n",
       "                        <th id=\"T_37be4_level0_row13\" class=\"row_heading level0 row13\" >balcony</th>\n",
       "                        <td id=\"T_37be4_row13_col0\" class=\"data row13 col0\" >49.000000</td>\n",
       "            </tr>\n",
       "            <tr>\n",
       "                        <th id=\"T_37be4_level0_row14\" class=\"row_heading level0 row14\" >locality_name</th>\n",
       "                        <td id=\"T_37be4_row14_col0\" class=\"data row14 col0\" >0.000000</td>\n",
       "            </tr>\n",
       "            <tr>\n",
       "                        <th id=\"T_37be4_level0_row15\" class=\"row_heading level0 row15\" >airports_nearest</th>\n",
       "                        <td id=\"T_37be4_row15_col0\" class=\"data row15 col0\" >23.000000</td>\n",
       "            </tr>\n",
       "            <tr>\n",
       "                        <th id=\"T_37be4_level0_row16\" class=\"row_heading level0 row16\" >city_centers_nearest</th>\n",
       "                        <td id=\"T_37be4_row16_col0\" class=\"data row16 col0\" >23.000000</td>\n",
       "            </tr>\n",
       "            <tr>\n",
       "                        <th id=\"T_37be4_level0_row17\" class=\"row_heading level0 row17\" >parks_around3000</th>\n",
       "                        <td id=\"T_37be4_row17_col0\" class=\"data row17 col0\" >23.000000</td>\n",
       "            </tr>\n",
       "            <tr>\n",
       "                        <th id=\"T_37be4_level0_row18\" class=\"row_heading level0 row18\" >parks_nearest</th>\n",
       "                        <td id=\"T_37be4_row18_col0\" class=\"data row18 col0\" >66.000000</td>\n",
       "            </tr>\n",
       "            <tr>\n",
       "                        <th id=\"T_37be4_level0_row19\" class=\"row_heading level0 row19\" >ponds_around3000</th>\n",
       "                        <td id=\"T_37be4_row19_col0\" class=\"data row19 col0\" >23.000000</td>\n",
       "            </tr>\n",
       "            <tr>\n",
       "                        <th id=\"T_37be4_level0_row20\" class=\"row_heading level0 row20\" >ponds_nearest</th>\n",
       "                        <td id=\"T_37be4_row20_col0\" class=\"data row20 col0\" >62.000000</td>\n",
       "            </tr>\n",
       "            <tr>\n",
       "                        <th id=\"T_37be4_level0_row21\" class=\"row_heading level0 row21\" >days_exposition</th>\n",
       "                        <td id=\"T_37be4_row21_col0\" class=\"data row21 col0\" >13.000000</td>\n",
       "            </tr>\n",
       "    </tbody></table>"
      ],
      "text/plain": [
       "<pandas.io.formats.style.Styler at 0x7f3e1388d430>"
      ]
     },
     "execution_count": 6,
     "metadata": {},
     "output_type": "execute_result"
    }
   ],
   "source": [
    "#data.isna().sum()\n",
    "pd.DataFrame(round(data.isna().mean()*100,)).style.background_gradient('coolwarm')"
   ]
  },
  {
   "cell_type": "markdown",
   "metadata": {},
   "source": [
    "Больше всего пропущенных значений в столбце is_apartment (около 90% значений не заполнены). Также много пропущенных значений в столбцах balcony, parks_nearest, ponds_nearest, ceiling_height.\n",
    "\n",
    "Если продавец не указал число балконов, то, скорее всего, в его квартире их нет. Такие пропуски правильно заменить на 0. То же самое касается признака, определяющего является ли квартира аппартаментами или нет. Пропущенное значение, скорее всего, означает, что объект не является аппартаментами."
   ]
  },
  {
   "cell_type": "code",
   "execution_count": 7,
   "metadata": {},
   "outputs": [],
   "source": [
    "data['balcony'] = data['balcony'].fillna(0) \n",
    "data['is_apartment'] = data['is_apartment'].fillna(False)"
   ]
  },
  {
   "cell_type": "markdown",
   "metadata": {},
   "source": [
    "Проанализируем связь пропусков в столбцах parks_around3000 и ponds_around3000 с пропусками в столбцах parks_nearest и ponds_nearest.\n",
    "Пропуск в столбцах с количеством парков/водоемов в радиусе 3 км, скорее всего, означает, что парков/водоемов в радиусе 3 км нет."
   ]
  },
  {
   "cell_type": "code",
   "execution_count": 8,
   "metadata": {},
   "outputs": [
    {
     "data": {
      "text/html": [
       "<div>\n",
       "<style scoped>\n",
       "    .dataframe tbody tr th:only-of-type {\n",
       "        vertical-align: middle;\n",
       "    }\n",
       "\n",
       "    .dataframe tbody tr th {\n",
       "        vertical-align: top;\n",
       "    }\n",
       "\n",
       "    .dataframe thead th {\n",
       "        text-align: right;\n",
       "    }\n",
       "</style>\n",
       "<table border=\"1\" class=\"dataframe\">\n",
       "  <thead>\n",
       "    <tr style=\"text-align: right;\">\n",
       "      <th></th>\n",
       "      <th>total_images</th>\n",
       "      <th>last_price</th>\n",
       "      <th>total_area</th>\n",
       "      <th>first_day_exposition</th>\n",
       "      <th>rooms</th>\n",
       "      <th>ceiling_height</th>\n",
       "      <th>floors_total</th>\n",
       "      <th>living_area</th>\n",
       "      <th>floor</th>\n",
       "      <th>is_apartment</th>\n",
       "      <th>...</th>\n",
       "      <th>kitchen_area</th>\n",
       "      <th>balcony</th>\n",
       "      <th>locality_name</th>\n",
       "      <th>airports_nearest</th>\n",
       "      <th>city_centers_nearest</th>\n",
       "      <th>parks_around3000</th>\n",
       "      <th>parks_nearest</th>\n",
       "      <th>ponds_around3000</th>\n",
       "      <th>ponds_nearest</th>\n",
       "      <th>days_exposition</th>\n",
       "    </tr>\n",
       "  </thead>\n",
       "  <tbody>\n",
       "  </tbody>\n",
       "</table>\n",
       "<p>0 rows × 22 columns</p>\n",
       "</div>"
      ],
      "text/plain": [
       "Empty DataFrame\n",
       "Columns: [total_images, last_price, total_area, first_day_exposition, rooms, ceiling_height, floors_total, living_area, floor, is_apartment, studio, open_plan, kitchen_area, balcony, locality_name, airports_nearest, city_centers_nearest, parks_around3000, parks_nearest, ponds_around3000, ponds_nearest, days_exposition]\n",
       "Index: []\n",
       "\n",
       "[0 rows x 22 columns]"
      ]
     },
     "metadata": {},
     "output_type": "display_data"
    }
   ],
   "source": [
    "raws = ((data['ponds_around3000'].isna() == True) | (data['ponds_around3000'] == 0.0)) & (data['ponds_nearest'].isna() == False)\n",
    "display(data.loc[raws].head(20))"
   ]
  },
  {
   "cell_type": "code",
   "execution_count": 9,
   "metadata": {},
   "outputs": [
    {
     "data": {
      "text/html": [
       "<div>\n",
       "<style scoped>\n",
       "    .dataframe tbody tr th:only-of-type {\n",
       "        vertical-align: middle;\n",
       "    }\n",
       "\n",
       "    .dataframe tbody tr th {\n",
       "        vertical-align: top;\n",
       "    }\n",
       "\n",
       "    .dataframe thead th {\n",
       "        text-align: right;\n",
       "    }\n",
       "</style>\n",
       "<table border=\"1\" class=\"dataframe\">\n",
       "  <thead>\n",
       "    <tr style=\"text-align: right;\">\n",
       "      <th></th>\n",
       "      <th>total_images</th>\n",
       "      <th>last_price</th>\n",
       "      <th>total_area</th>\n",
       "      <th>first_day_exposition</th>\n",
       "      <th>rooms</th>\n",
       "      <th>ceiling_height</th>\n",
       "      <th>floors_total</th>\n",
       "      <th>living_area</th>\n",
       "      <th>floor</th>\n",
       "      <th>is_apartment</th>\n",
       "      <th>...</th>\n",
       "      <th>kitchen_area</th>\n",
       "      <th>balcony</th>\n",
       "      <th>locality_name</th>\n",
       "      <th>airports_nearest</th>\n",
       "      <th>city_centers_nearest</th>\n",
       "      <th>parks_around3000</th>\n",
       "      <th>parks_nearest</th>\n",
       "      <th>ponds_around3000</th>\n",
       "      <th>ponds_nearest</th>\n",
       "      <th>days_exposition</th>\n",
       "    </tr>\n",
       "  </thead>\n",
       "  <tbody>\n",
       "    <tr>\n",
       "      <th>1590</th>\n",
       "      <td>3</td>\n",
       "      <td>7500000.0</td>\n",
       "      <td>70.0</td>\n",
       "      <td>2017-07-11T00:00:00</td>\n",
       "      <td>2</td>\n",
       "      <td>NaN</td>\n",
       "      <td>18.0</td>\n",
       "      <td>37.0</td>\n",
       "      <td>13</td>\n",
       "      <td>False</td>\n",
       "      <td>...</td>\n",
       "      <td>10.0</td>\n",
       "      <td>0.0</td>\n",
       "      <td>Санкт-Петербург</td>\n",
       "      <td>14878.0</td>\n",
       "      <td>9791.0</td>\n",
       "      <td>0.0</td>\n",
       "      <td>3064.0</td>\n",
       "      <td>1.0</td>\n",
       "      <td>264.0</td>\n",
       "      <td>4.0</td>\n",
       "    </tr>\n",
       "    <tr>\n",
       "      <th>10959</th>\n",
       "      <td>9</td>\n",
       "      <td>3000000.0</td>\n",
       "      <td>31.1</td>\n",
       "      <td>2017-03-21T00:00:00</td>\n",
       "      <td>1</td>\n",
       "      <td>NaN</td>\n",
       "      <td>5.0</td>\n",
       "      <td>17.7</td>\n",
       "      <td>2</td>\n",
       "      <td>False</td>\n",
       "      <td>...</td>\n",
       "      <td>5.5</td>\n",
       "      <td>0.0</td>\n",
       "      <td>Санкт-Петербург</td>\n",
       "      <td>14821.0</td>\n",
       "      <td>9734.0</td>\n",
       "      <td>0.0</td>\n",
       "      <td>3190.0</td>\n",
       "      <td>1.0</td>\n",
       "      <td>431.0</td>\n",
       "      <td>234.0</td>\n",
       "    </tr>\n",
       "    <tr>\n",
       "      <th>19208</th>\n",
       "      <td>17</td>\n",
       "      <td>14950000.0</td>\n",
       "      <td>187.0</td>\n",
       "      <td>2017-10-12T00:00:00</td>\n",
       "      <td>5</td>\n",
       "      <td>3.0</td>\n",
       "      <td>2.0</td>\n",
       "      <td>80.0</td>\n",
       "      <td>2</td>\n",
       "      <td>False</td>\n",
       "      <td>...</td>\n",
       "      <td>17.0</td>\n",
       "      <td>1.0</td>\n",
       "      <td>Санкт-Петербург</td>\n",
       "      <td>36805.0</td>\n",
       "      <td>8656.0</td>\n",
       "      <td>0.0</td>\n",
       "      <td>3013.0</td>\n",
       "      <td>3.0</td>\n",
       "      <td>537.0</td>\n",
       "      <td>49.0</td>\n",
       "    </tr>\n",
       "    <tr>\n",
       "      <th>19430</th>\n",
       "      <td>9</td>\n",
       "      <td>3900000.0</td>\n",
       "      <td>30.5</td>\n",
       "      <td>2018-02-22T00:00:00</td>\n",
       "      <td>1</td>\n",
       "      <td>2.6</td>\n",
       "      <td>5.0</td>\n",
       "      <td>16.5</td>\n",
       "      <td>1</td>\n",
       "      <td>False</td>\n",
       "      <td>...</td>\n",
       "      <td>5.5</td>\n",
       "      <td>0.0</td>\n",
       "      <td>Санкт-Петербург</td>\n",
       "      <td>14821.0</td>\n",
       "      <td>9734.0</td>\n",
       "      <td>0.0</td>\n",
       "      <td>3190.0</td>\n",
       "      <td>1.0</td>\n",
       "      <td>431.0</td>\n",
       "      <td>176.0</td>\n",
       "    </tr>\n",
       "  </tbody>\n",
       "</table>\n",
       "<p>4 rows × 22 columns</p>\n",
       "</div>"
      ],
      "text/plain": [
       "       total_images  last_price  total_area first_day_exposition  rooms  \\\n",
       "1590              3   7500000.0        70.0  2017-07-11T00:00:00      2   \n",
       "10959             9   3000000.0        31.1  2017-03-21T00:00:00      1   \n",
       "19208            17  14950000.0       187.0  2017-10-12T00:00:00      5   \n",
       "19430             9   3900000.0        30.5  2018-02-22T00:00:00      1   \n",
       "\n",
       "       ceiling_height  floors_total  living_area  floor  is_apartment  ...  \\\n",
       "1590              NaN          18.0         37.0     13         False  ...   \n",
       "10959             NaN           5.0         17.7      2         False  ...   \n",
       "19208             3.0           2.0         80.0      2         False  ...   \n",
       "19430             2.6           5.0         16.5      1         False  ...   \n",
       "\n",
       "       kitchen_area  balcony    locality_name  airports_nearest  \\\n",
       "1590           10.0      0.0  Санкт-Петербург           14878.0   \n",
       "10959           5.5      0.0  Санкт-Петербург           14821.0   \n",
       "19208          17.0      1.0  Санкт-Петербург           36805.0   \n",
       "19430           5.5      0.0  Санкт-Петербург           14821.0   \n",
       "\n",
       "      city_centers_nearest  parks_around3000  parks_nearest  ponds_around3000  \\\n",
       "1590                9791.0               0.0         3064.0               1.0   \n",
       "10959               9734.0               0.0         3190.0               1.0   \n",
       "19208               8656.0               0.0         3013.0               3.0   \n",
       "19430               9734.0               0.0         3190.0               1.0   \n",
       "\n",
       "       ponds_nearest  days_exposition  \n",
       "1590           264.0              4.0  \n",
       "10959          431.0            234.0  \n",
       "19208          537.0             49.0  \n",
       "19430          431.0            176.0  \n",
       "\n",
       "[4 rows x 22 columns]"
      ]
     },
     "metadata": {},
     "output_type": "display_data"
    }
   ],
   "source": [
    "raws = ((data['parks_around3000'].isna() == True) | (data['parks_around3000'] == 0.0)) & (data['parks_nearest'].isna() == False)\n",
    "display(data.loc[raws].head(20))"
   ]
  },
  {
   "cell_type": "markdown",
   "metadata": {},
   "source": [
    "Гипотеза подтвердилась: там, где не заполнено количество парков/водоемов, почти всегда не заполнено и расстояние. Исключение составляют 4 строки с парками в радиусе, превышающем 3 км.\n",
    "Пустые значения в колонках с количеством можно привести к 0, расстояние в данном случае логично оставить как есть."
   ]
  },
  {
   "cell_type": "code",
   "execution_count": 10,
   "metadata": {},
   "outputs": [],
   "source": [
    "data['parks_around3000'] = data['parks_around3000'].fillna(0) \n",
    "data['ponds_around3000'] = data['ponds_around3000'].fillna(0)"
   ]
  },
  {
   "cell_type": "markdown",
   "metadata": {},
   "source": [
    "Строки с незаполненным столбцом locality_name лучше удалить: их немного, а столбец важный. Заполнить пропуски корректно невозможно."
   ]
  },
  {
   "cell_type": "code",
   "execution_count": 11,
   "metadata": {},
   "outputs": [],
   "source": [
    "data = data.dropna(subset=['locality_name'])"
   ]
  },
  {
   "cell_type": "markdown",
   "metadata": {},
   "source": [
    "Заполним пропуски в столбце с высотой потолка медианным значением по этому населенному пункту, удалить их нельзя - процент незаполненных значений большой."
   ]
  },
  {
   "cell_type": "code",
   "execution_count": 12,
   "metadata": {},
   "outputs": [
    {
     "name": "stderr",
     "output_type": "stream",
     "text": [
      "/opt/conda/lib/python3.9/site-packages/numpy/lib/nanfunctions.py:1117: RuntimeWarning: Mean of empty slice\n",
      "  return np.nanmean(a, axis, out=out, keepdims=keepdims)\n",
      "/opt/conda/lib/python3.9/site-packages/numpy/lib/nanfunctions.py:1117: RuntimeWarning: Mean of empty slice\n",
      "  return np.nanmean(a, axis, out=out, keepdims=keepdims)\n",
      "/opt/conda/lib/python3.9/site-packages/numpy/lib/nanfunctions.py:1117: RuntimeWarning: Mean of empty slice\n",
      "  return np.nanmean(a, axis, out=out, keepdims=keepdims)\n",
      "/opt/conda/lib/python3.9/site-packages/numpy/lib/nanfunctions.py:1117: RuntimeWarning: Mean of empty slice\n",
      "  return np.nanmean(a, axis, out=out, keepdims=keepdims)\n",
      "/opt/conda/lib/python3.9/site-packages/numpy/lib/nanfunctions.py:1117: RuntimeWarning: Mean of empty slice\n",
      "  return np.nanmean(a, axis, out=out, keepdims=keepdims)\n",
      "/opt/conda/lib/python3.9/site-packages/numpy/lib/nanfunctions.py:1117: RuntimeWarning: Mean of empty slice\n",
      "  return np.nanmean(a, axis, out=out, keepdims=keepdims)\n",
      "/opt/conda/lib/python3.9/site-packages/numpy/lib/nanfunctions.py:1117: RuntimeWarning: Mean of empty slice\n",
      "  return np.nanmean(a, axis, out=out, keepdims=keepdims)\n",
      "/opt/conda/lib/python3.9/site-packages/numpy/lib/nanfunctions.py:1117: RuntimeWarning: Mean of empty slice\n",
      "  return np.nanmean(a, axis, out=out, keepdims=keepdims)\n",
      "/opt/conda/lib/python3.9/site-packages/numpy/lib/nanfunctions.py:1117: RuntimeWarning: Mean of empty slice\n",
      "  return np.nanmean(a, axis, out=out, keepdims=keepdims)\n",
      "/opt/conda/lib/python3.9/site-packages/numpy/lib/nanfunctions.py:1117: RuntimeWarning: Mean of empty slice\n",
      "  return np.nanmean(a, axis, out=out, keepdims=keepdims)\n",
      "/opt/conda/lib/python3.9/site-packages/numpy/lib/nanfunctions.py:1117: RuntimeWarning: Mean of empty slice\n",
      "  return np.nanmean(a, axis, out=out, keepdims=keepdims)\n",
      "/opt/conda/lib/python3.9/site-packages/numpy/lib/nanfunctions.py:1117: RuntimeWarning: Mean of empty slice\n",
      "  return np.nanmean(a, axis, out=out, keepdims=keepdims)\n",
      "/opt/conda/lib/python3.9/site-packages/numpy/lib/nanfunctions.py:1117: RuntimeWarning: Mean of empty slice\n",
      "  return np.nanmean(a, axis, out=out, keepdims=keepdims)\n",
      "/opt/conda/lib/python3.9/site-packages/numpy/lib/nanfunctions.py:1117: RuntimeWarning: Mean of empty slice\n",
      "  return np.nanmean(a, axis, out=out, keepdims=keepdims)\n",
      "/opt/conda/lib/python3.9/site-packages/numpy/lib/nanfunctions.py:1117: RuntimeWarning: Mean of empty slice\n",
      "  return np.nanmean(a, axis, out=out, keepdims=keepdims)\n",
      "/opt/conda/lib/python3.9/site-packages/numpy/lib/nanfunctions.py:1117: RuntimeWarning: Mean of empty slice\n",
      "  return np.nanmean(a, axis, out=out, keepdims=keepdims)\n",
      "/opt/conda/lib/python3.9/site-packages/numpy/lib/nanfunctions.py:1117: RuntimeWarning: Mean of empty slice\n",
      "  return np.nanmean(a, axis, out=out, keepdims=keepdims)\n",
      "/opt/conda/lib/python3.9/site-packages/numpy/lib/nanfunctions.py:1117: RuntimeWarning: Mean of empty slice\n",
      "  return np.nanmean(a, axis, out=out, keepdims=keepdims)\n",
      "/opt/conda/lib/python3.9/site-packages/numpy/lib/nanfunctions.py:1117: RuntimeWarning: Mean of empty slice\n",
      "  return np.nanmean(a, axis, out=out, keepdims=keepdims)\n",
      "/opt/conda/lib/python3.9/site-packages/numpy/lib/nanfunctions.py:1117: RuntimeWarning: Mean of empty slice\n",
      "  return np.nanmean(a, axis, out=out, keepdims=keepdims)\n",
      "/opt/conda/lib/python3.9/site-packages/numpy/lib/nanfunctions.py:1117: RuntimeWarning: Mean of empty slice\n",
      "  return np.nanmean(a, axis, out=out, keepdims=keepdims)\n",
      "/opt/conda/lib/python3.9/site-packages/numpy/lib/nanfunctions.py:1117: RuntimeWarning: Mean of empty slice\n",
      "  return np.nanmean(a, axis, out=out, keepdims=keepdims)\n",
      "/opt/conda/lib/python3.9/site-packages/numpy/lib/nanfunctions.py:1117: RuntimeWarning: Mean of empty slice\n",
      "  return np.nanmean(a, axis, out=out, keepdims=keepdims)\n",
      "/opt/conda/lib/python3.9/site-packages/numpy/lib/nanfunctions.py:1117: RuntimeWarning: Mean of empty slice\n",
      "  return np.nanmean(a, axis, out=out, keepdims=keepdims)\n",
      "/opt/conda/lib/python3.9/site-packages/numpy/lib/nanfunctions.py:1117: RuntimeWarning: Mean of empty slice\n",
      "  return np.nanmean(a, axis, out=out, keepdims=keepdims)\n",
      "/opt/conda/lib/python3.9/site-packages/numpy/lib/nanfunctions.py:1117: RuntimeWarning: Mean of empty slice\n",
      "  return np.nanmean(a, axis, out=out, keepdims=keepdims)\n",
      "/opt/conda/lib/python3.9/site-packages/numpy/lib/nanfunctions.py:1117: RuntimeWarning: Mean of empty slice\n",
      "  return np.nanmean(a, axis, out=out, keepdims=keepdims)\n",
      "/opt/conda/lib/python3.9/site-packages/numpy/lib/nanfunctions.py:1117: RuntimeWarning: Mean of empty slice\n",
      "  return np.nanmean(a, axis, out=out, keepdims=keepdims)\n",
      "/opt/conda/lib/python3.9/site-packages/numpy/lib/nanfunctions.py:1117: RuntimeWarning: Mean of empty slice\n",
      "  return np.nanmean(a, axis, out=out, keepdims=keepdims)\n",
      "/opt/conda/lib/python3.9/site-packages/numpy/lib/nanfunctions.py:1117: RuntimeWarning: Mean of empty slice\n",
      "  return np.nanmean(a, axis, out=out, keepdims=keepdims)\n",
      "/opt/conda/lib/python3.9/site-packages/numpy/lib/nanfunctions.py:1117: RuntimeWarning: Mean of empty slice\n",
      "  return np.nanmean(a, axis, out=out, keepdims=keepdims)\n",
      "/opt/conda/lib/python3.9/site-packages/numpy/lib/nanfunctions.py:1117: RuntimeWarning: Mean of empty slice\n",
      "  return np.nanmean(a, axis, out=out, keepdims=keepdims)\n",
      "/opt/conda/lib/python3.9/site-packages/numpy/lib/nanfunctions.py:1117: RuntimeWarning: Mean of empty slice\n",
      "  return np.nanmean(a, axis, out=out, keepdims=keepdims)\n",
      "/opt/conda/lib/python3.9/site-packages/numpy/lib/nanfunctions.py:1117: RuntimeWarning: Mean of empty slice\n",
      "  return np.nanmean(a, axis, out=out, keepdims=keepdims)\n",
      "/opt/conda/lib/python3.9/site-packages/numpy/lib/nanfunctions.py:1117: RuntimeWarning: Mean of empty slice\n",
      "  return np.nanmean(a, axis, out=out, keepdims=keepdims)\n",
      "/opt/conda/lib/python3.9/site-packages/numpy/lib/nanfunctions.py:1117: RuntimeWarning: Mean of empty slice\n",
      "  return np.nanmean(a, axis, out=out, keepdims=keepdims)\n",
      "/opt/conda/lib/python3.9/site-packages/numpy/lib/nanfunctions.py:1117: RuntimeWarning: Mean of empty slice\n",
      "  return np.nanmean(a, axis, out=out, keepdims=keepdims)\n",
      "/opt/conda/lib/python3.9/site-packages/numpy/lib/nanfunctions.py:1117: RuntimeWarning: Mean of empty slice\n",
      "  return np.nanmean(a, axis, out=out, keepdims=keepdims)\n",
      "/opt/conda/lib/python3.9/site-packages/numpy/lib/nanfunctions.py:1117: RuntimeWarning: Mean of empty slice\n",
      "  return np.nanmean(a, axis, out=out, keepdims=keepdims)\n",
      "/opt/conda/lib/python3.9/site-packages/numpy/lib/nanfunctions.py:1117: RuntimeWarning: Mean of empty slice\n",
      "  return np.nanmean(a, axis, out=out, keepdims=keepdims)\n",
      "/opt/conda/lib/python3.9/site-packages/numpy/lib/nanfunctions.py:1117: RuntimeWarning: Mean of empty slice\n",
      "  return np.nanmean(a, axis, out=out, keepdims=keepdims)\n",
      "/opt/conda/lib/python3.9/site-packages/numpy/lib/nanfunctions.py:1117: RuntimeWarning: Mean of empty slice\n",
      "  return np.nanmean(a, axis, out=out, keepdims=keepdims)\n",
      "/opt/conda/lib/python3.9/site-packages/numpy/lib/nanfunctions.py:1117: RuntimeWarning: Mean of empty slice\n",
      "  return np.nanmean(a, axis, out=out, keepdims=keepdims)\n",
      "/opt/conda/lib/python3.9/site-packages/numpy/lib/nanfunctions.py:1117: RuntimeWarning: Mean of empty slice\n",
      "  return np.nanmean(a, axis, out=out, keepdims=keepdims)\n",
      "/opt/conda/lib/python3.9/site-packages/numpy/lib/nanfunctions.py:1117: RuntimeWarning: Mean of empty slice\n",
      "  return np.nanmean(a, axis, out=out, keepdims=keepdims)\n",
      "/opt/conda/lib/python3.9/site-packages/numpy/lib/nanfunctions.py:1117: RuntimeWarning: Mean of empty slice\n",
      "  return np.nanmean(a, axis, out=out, keepdims=keepdims)\n",
      "/opt/conda/lib/python3.9/site-packages/numpy/lib/nanfunctions.py:1117: RuntimeWarning: Mean of empty slice\n",
      "  return np.nanmean(a, axis, out=out, keepdims=keepdims)\n",
      "/opt/conda/lib/python3.9/site-packages/numpy/lib/nanfunctions.py:1117: RuntimeWarning: Mean of empty slice\n",
      "  return np.nanmean(a, axis, out=out, keepdims=keepdims)\n",
      "/opt/conda/lib/python3.9/site-packages/numpy/lib/nanfunctions.py:1117: RuntimeWarning: Mean of empty slice\n",
      "  return np.nanmean(a, axis, out=out, keepdims=keepdims)\n",
      "/opt/conda/lib/python3.9/site-packages/numpy/lib/nanfunctions.py:1117: RuntimeWarning: Mean of empty slice\n",
      "  return np.nanmean(a, axis, out=out, keepdims=keepdims)\n",
      "/opt/conda/lib/python3.9/site-packages/numpy/lib/nanfunctions.py:1117: RuntimeWarning: Mean of empty slice\n",
      "  return np.nanmean(a, axis, out=out, keepdims=keepdims)\n",
      "/opt/conda/lib/python3.9/site-packages/numpy/lib/nanfunctions.py:1117: RuntimeWarning: Mean of empty slice\n",
      "  return np.nanmean(a, axis, out=out, keepdims=keepdims)\n",
      "/opt/conda/lib/python3.9/site-packages/numpy/lib/nanfunctions.py:1117: RuntimeWarning: Mean of empty slice\n",
      "  return np.nanmean(a, axis, out=out, keepdims=keepdims)\n",
      "/opt/conda/lib/python3.9/site-packages/numpy/lib/nanfunctions.py:1117: RuntimeWarning: Mean of empty slice\n",
      "  return np.nanmean(a, axis, out=out, keepdims=keepdims)\n",
      "/opt/conda/lib/python3.9/site-packages/numpy/lib/nanfunctions.py:1117: RuntimeWarning: Mean of empty slice\n",
      "  return np.nanmean(a, axis, out=out, keepdims=keepdims)\n",
      "/opt/conda/lib/python3.9/site-packages/numpy/lib/nanfunctions.py:1117: RuntimeWarning: Mean of empty slice\n",
      "  return np.nanmean(a, axis, out=out, keepdims=keepdims)\n",
      "/opt/conda/lib/python3.9/site-packages/numpy/lib/nanfunctions.py:1117: RuntimeWarning: Mean of empty slice\n",
      "  return np.nanmean(a, axis, out=out, keepdims=keepdims)\n",
      "/opt/conda/lib/python3.9/site-packages/numpy/lib/nanfunctions.py:1117: RuntimeWarning: Mean of empty slice\n",
      "  return np.nanmean(a, axis, out=out, keepdims=keepdims)\n",
      "/opt/conda/lib/python3.9/site-packages/numpy/lib/nanfunctions.py:1117: RuntimeWarning: Mean of empty slice\n",
      "  return np.nanmean(a, axis, out=out, keepdims=keepdims)\n",
      "/opt/conda/lib/python3.9/site-packages/numpy/lib/nanfunctions.py:1117: RuntimeWarning: Mean of empty slice\n",
      "  return np.nanmean(a, axis, out=out, keepdims=keepdims)\n",
      "/opt/conda/lib/python3.9/site-packages/numpy/lib/nanfunctions.py:1117: RuntimeWarning: Mean of empty slice\n",
      "  return np.nanmean(a, axis, out=out, keepdims=keepdims)\n",
      "/opt/conda/lib/python3.9/site-packages/numpy/lib/nanfunctions.py:1117: RuntimeWarning: Mean of empty slice\n",
      "  return np.nanmean(a, axis, out=out, keepdims=keepdims)\n",
      "/opt/conda/lib/python3.9/site-packages/numpy/lib/nanfunctions.py:1117: RuntimeWarning: Mean of empty slice\n",
      "  return np.nanmean(a, axis, out=out, keepdims=keepdims)\n",
      "/opt/conda/lib/python3.9/site-packages/numpy/lib/nanfunctions.py:1117: RuntimeWarning: Mean of empty slice\n",
      "  return np.nanmean(a, axis, out=out, keepdims=keepdims)\n",
      "/opt/conda/lib/python3.9/site-packages/numpy/lib/nanfunctions.py:1117: RuntimeWarning: Mean of empty slice\n",
      "  return np.nanmean(a, axis, out=out, keepdims=keepdims)\n",
      "/opt/conda/lib/python3.9/site-packages/numpy/lib/nanfunctions.py:1117: RuntimeWarning: Mean of empty slice\n",
      "  return np.nanmean(a, axis, out=out, keepdims=keepdims)\n",
      "/opt/conda/lib/python3.9/site-packages/numpy/lib/nanfunctions.py:1117: RuntimeWarning: Mean of empty slice\n",
      "  return np.nanmean(a, axis, out=out, keepdims=keepdims)\n",
      "/opt/conda/lib/python3.9/site-packages/numpy/lib/nanfunctions.py:1117: RuntimeWarning: Mean of empty slice\n",
      "  return np.nanmean(a, axis, out=out, keepdims=keepdims)\n",
      "/opt/conda/lib/python3.9/site-packages/numpy/lib/nanfunctions.py:1117: RuntimeWarning: Mean of empty slice\n",
      "  return np.nanmean(a, axis, out=out, keepdims=keepdims)\n",
      "/opt/conda/lib/python3.9/site-packages/numpy/lib/nanfunctions.py:1117: RuntimeWarning: Mean of empty slice\n",
      "  return np.nanmean(a, axis, out=out, keepdims=keepdims)\n",
      "/opt/conda/lib/python3.9/site-packages/numpy/lib/nanfunctions.py:1117: RuntimeWarning: Mean of empty slice\n",
      "  return np.nanmean(a, axis, out=out, keepdims=keepdims)\n",
      "/opt/conda/lib/python3.9/site-packages/numpy/lib/nanfunctions.py:1117: RuntimeWarning: Mean of empty slice\n",
      "  return np.nanmean(a, axis, out=out, keepdims=keepdims)\n",
      "/opt/conda/lib/python3.9/site-packages/numpy/lib/nanfunctions.py:1117: RuntimeWarning: Mean of empty slice\n",
      "  return np.nanmean(a, axis, out=out, keepdims=keepdims)\n",
      "/opt/conda/lib/python3.9/site-packages/numpy/lib/nanfunctions.py:1117: RuntimeWarning: Mean of empty slice\n",
      "  return np.nanmean(a, axis, out=out, keepdims=keepdims)\n",
      "/opt/conda/lib/python3.9/site-packages/numpy/lib/nanfunctions.py:1117: RuntimeWarning: Mean of empty slice\n",
      "  return np.nanmean(a, axis, out=out, keepdims=keepdims)\n",
      "/opt/conda/lib/python3.9/site-packages/numpy/lib/nanfunctions.py:1117: RuntimeWarning: Mean of empty slice\n",
      "  return np.nanmean(a, axis, out=out, keepdims=keepdims)\n",
      "/opt/conda/lib/python3.9/site-packages/numpy/lib/nanfunctions.py:1117: RuntimeWarning: Mean of empty slice\n",
      "  return np.nanmean(a, axis, out=out, keepdims=keepdims)\n",
      "/opt/conda/lib/python3.9/site-packages/numpy/lib/nanfunctions.py:1117: RuntimeWarning: Mean of empty slice\n",
      "  return np.nanmean(a, axis, out=out, keepdims=keepdims)\n",
      "/opt/conda/lib/python3.9/site-packages/numpy/lib/nanfunctions.py:1117: RuntimeWarning: Mean of empty slice\n",
      "  return np.nanmean(a, axis, out=out, keepdims=keepdims)\n",
      "/opt/conda/lib/python3.9/site-packages/numpy/lib/nanfunctions.py:1117: RuntimeWarning: Mean of empty slice\n",
      "  return np.nanmean(a, axis, out=out, keepdims=keepdims)\n",
      "/opt/conda/lib/python3.9/site-packages/numpy/lib/nanfunctions.py:1117: RuntimeWarning: Mean of empty slice\n",
      "  return np.nanmean(a, axis, out=out, keepdims=keepdims)\n"
     ]
    }
   ],
   "source": [
    "for locality_name in data['locality_name'].unique():\n",
    "    median = data.loc[data['locality_name'] == locality_name, 'ceiling_height'].median()\n",
    "    data.loc[(data['ceiling_height'].isna()) & (data['locality_name'] == locality_name), 'ceiling_height'] = median\n",
    "    \n",
    "data.loc[data['ceiling_height'].isna(), 'ceiling_height'] = data['ceiling_height'].median()"
   ]
  },
  {
   "cell_type": "markdown",
   "metadata": {},
   "source": [
    "Пропуски в столбцах с количеством этажей в доме, жилой площадью, площадью кухни скорее всего возникли из-за необяазательности или отсутствии этих полей в форме объекта. Заполнить их нулями было бы неправильно. Заполнять медианными значениями тоже не верно, поскольку дома могут быть старыми и новыми, площади в различных планировках могут сильно отличаться.\n",
    "Не заполненные значения в расстояниях до центра города и аэропорта также могут следствием необязательности заполнения полей.\n",
    "Отсутствие значений в столбце с количеством дней размещения объявления может быть либо следствием незаполнения поля или ошибки сохранения значения, либо эти объекты еще были выставлены на продажу на момент сбора данных.\n",
    "Удалим строки с пустым столбцом floors_total: их всего 86 строк, процент от общей выборки небольшой. При этом далее в анализе невозможно будет по этим строкам определить тип этажа - первый, последний, другой."
   ]
  },
  {
   "cell_type": "code",
   "execution_count": 13,
   "metadata": {},
   "outputs": [],
   "source": [
    "data = data.dropna(subset=['floors_total'])"
   ]
  },
  {
   "cell_type": "markdown",
   "metadata": {},
   "source": [
    "#### Изменение типов данных"
   ]
  },
  {
   "cell_type": "markdown",
   "metadata": {},
   "source": [
    "Изменим тип данных в столбце с первым днем публикации на дату для дальнейшего вычисления дня неделели продажи, месяца и года. Также изменим вещественный тип данных в столбцах `last_price` и `floors_total` на целочисленный с помощью метода `astype()`."
   ]
  },
  {
   "cell_type": "code",
   "execution_count": 14,
   "metadata": {},
   "outputs": [],
   "source": [
    "data['first_day_exposition'] = pd.to_datetime(data['first_day_exposition'], format='%Y-%m-%dT%H:%M:%S')\n",
    "data['last_price'] = data['last_price'].astype('int')\n",
    "data['floors_total'] = data['floors_total'].astype('int')\n",
    "data['balcony'] = data['balcony'].astype('int')"
   ]
  },
  {
   "cell_type": "markdown",
   "metadata": {},
   "source": [
    "#### Обработка дублей"
   ]
  },
  {
   "cell_type": "markdown",
   "metadata": {},
   "source": [
    "Явных дублей нет."
   ]
  },
  {
   "cell_type": "code",
   "execution_count": 15,
   "metadata": {},
   "outputs": [
    {
     "name": "stdout",
     "output_type": "stream",
     "text": [
      "0\n"
     ]
    }
   ],
   "source": [
    "print(data.duplicated().sum())"
   ]
  },
  {
   "cell_type": "markdown",
   "metadata": {},
   "source": [
    "Но есть неявные дубликаты в столбце с названиями населенных пунктов."
   ]
  },
  {
   "cell_type": "code",
   "execution_count": 16,
   "metadata": {
    "scrolled": false
   },
   "outputs": [
    {
     "name": "stdout",
     "output_type": "stream",
     "text": [
      "['Санкт-Петербург' 'посёлок Шушары' 'городской посёлок Янино-1'\n",
      " 'посёлок Парголово' 'посёлок Мурино' 'Ломоносов' 'Сертолово' 'Петергоф'\n",
      " 'Пушкин' 'деревня Кудрово' 'Коммунар' 'Колпино'\n",
      " 'поселок городского типа Красный Бор' 'Гатчина' 'поселок Мурино'\n",
      " 'деревня Фёдоровское' 'Выборг' 'Кронштадт' 'Кировск'\n",
      " 'деревня Новое Девяткино' 'посёлок Металлострой'\n",
      " 'посёлок городского типа Лебяжье' 'посёлок городского типа Сиверский'\n",
      " 'поселок Молодцово' 'поселок городского типа Кузьмоловский'\n",
      " 'садовое товарищество Новая Ропша' 'Павловск' 'деревня Пикколово'\n",
      " 'Всеволожск' 'Волхов' 'Кингисепп' 'Приозерск' 'Сестрорецк'\n",
      " 'деревня Куттузи' 'посёлок Аннино' 'поселок городского типа Ефимовский'\n",
      " 'посёлок Плодовое' 'деревня Заклинье' 'поселок Торковичи'\n",
      " 'поселок Первомайское' 'Красное Село' 'посёлок Понтонный' 'Сясьстрой'\n",
      " 'деревня Старая' 'деревня Лесколово' 'посёлок Новый Свет' 'Сланцы'\n",
      " 'село Путилово' 'Ивангород' 'Мурино' 'Шлиссельбург' 'Никольское'\n",
      " 'Зеленогорск' 'Сосновый Бор' 'поселок Новый Свет' 'деревня Оржицы'\n",
      " 'деревня Кальтино' 'Кудрово' 'поселок Романовка' 'посёлок Бугры'\n",
      " 'поселок Бугры' 'поселок городского типа Рощино' 'Кириши' 'Луга'\n",
      " 'Волосово' 'Отрадное' 'село Павлово' 'поселок Оредеж' 'село Копорье'\n",
      " 'посёлок городского типа Красный Бор' 'посёлок Молодёжное' 'Тихвин'\n",
      " 'посёлок Победа' 'деревня Нурма' 'поселок городского типа Синявино'\n",
      " 'Тосно' 'посёлок городского типа Кузьмоловский' 'посёлок Стрельна'\n",
      " 'Бокситогорск' 'посёлок Александровская' 'деревня Лопухинка' 'Пикалёво'\n",
      " 'поселок Терволово' 'поселок городского типа Советский' 'Подпорожье'\n",
      " 'посёлок Петровское' 'посёлок городского типа Токсово' 'поселок Сельцо'\n",
      " 'посёлок городского типа Вырица' 'деревня Кипень' 'деревня Келози'\n",
      " 'деревня Вартемяги' 'посёлок Тельмана' 'поселок Севастьяново'\n",
      " 'городской поселок Большая Ижора' 'городской посёлок Павлово'\n",
      " 'деревня Агалатово' 'посёлок Новогорелово'\n",
      " 'городской посёлок Лесогорский' 'деревня Лаголово' 'поселок Цвелодубово'\n",
      " 'поселок городского типа Рахья' 'поселок городского типа Вырица'\n",
      " 'деревня Белогорка' 'поселок Заводской' 'городской посёлок Новоселье'\n",
      " 'деревня Большие Колпаны' 'деревня Горбунки' 'деревня Батово'\n",
      " 'деревня Заневка' 'деревня Иссад' 'Приморск'\n",
      " 'городской посёлок Фёдоровское' 'деревня Мистолово' 'Новая Ладога'\n",
      " 'поселок Зимитицы' 'поселок Барышево' 'деревня Разметелево'\n",
      " 'поселок городского типа имени Свердлова' 'деревня Пеники'\n",
      " 'поселок Рябово' 'деревня Пудомяги' 'поселок станции Корнево'\n",
      " 'деревня Низино' 'деревня Бегуницы' 'посёлок Поляны'\n",
      " 'городской посёлок Мга' 'поселок Елизаветино'\n",
      " 'посёлок городского типа Кузнечное' 'деревня Колтуши'\n",
      " 'поселок Запорожское' 'посёлок городского типа Рощино'\n",
      " 'деревня Гостилицы' 'деревня Малое Карлино' 'посёлок Мичуринское'\n",
      " 'посёлок городского типа имени Морозова' 'посёлок Песочный'\n",
      " 'посёлок Сосново' 'деревня Аро' 'поселок Ильичёво'\n",
      " 'посёлок городского типа Тайцы' 'деревня Малое Верево' 'деревня Извара'\n",
      " 'поселок станции Вещево' 'село Паша' 'деревня Калитино'\n",
      " 'посёлок городского типа Ульяновка' 'деревня Чудской Бор'\n",
      " 'поселок городского типа Дубровка' 'деревня Мины' 'поселок Войсковицы'\n",
      " 'посёлок городского типа имени Свердлова' 'деревня Коркино'\n",
      " 'посёлок Ропша' 'поселок городского типа Приладожский' 'посёлок Щеглово'\n",
      " 'посёлок Гаврилово' 'Лодейное Поле' 'деревня Рабитицы'\n",
      " 'поселок городского типа Никольский' 'деревня Кузьмолово'\n",
      " 'деревня Малые Колпаны' 'поселок Тельмана' 'посёлок Петро-Славянка'\n",
      " 'городской посёлок Назия' 'посёлок Репино' 'посёлок Ильичёво'\n",
      " 'поселок Углово' 'поселок Старая Малукса' 'садовое товарищество Рахья'\n",
      " 'поселок Аннино' 'поселок Победа' 'деревня Меньково'\n",
      " 'деревня Старые Бегуницы' 'посёлок Сапёрный' 'поселок Семрино'\n",
      " 'поселок Гаврилово' 'поселок Глажево' 'поселок Кобринское'\n",
      " 'деревня Гарболово' 'деревня Юкки' 'поселок станции Приветнинское'\n",
      " 'деревня Мануйлово' 'деревня Пчева' 'поселок Поляны' 'поселок Цвылёво'\n",
      " 'поселок Мельниково' 'посёлок Пудость' 'посёлок Усть-Луга' 'Светогорск'\n",
      " 'Любань' 'поселок Селезнёво' 'поселок городского типа Рябово'\n",
      " 'Каменногорск' 'деревня Кривко' 'поселок Глебычево' 'деревня Парицы'\n",
      " 'поселок Жилпосёлок' 'посёлок городского типа Мга'\n",
      " 'городской поселок Янино-1' 'посёлок Войскорово' 'село Никольское'\n",
      " 'посёлок Терволово' 'поселок Стеклянный' 'посёлок городского типа Важины'\n",
      " 'посёлок Мыза-Ивановка' 'село Русско-Высоцкое'\n",
      " 'поселок городского типа Лебяжье' 'поселок городского типа Форносово'\n",
      " 'село Старая Ладога' 'поселок Житково' 'городской посёлок Виллози'\n",
      " 'деревня Лампово' 'деревня Шпаньково' 'деревня Лаврики' 'посёлок Сумино'\n",
      " 'посёлок Возрождение' 'деревня Старосиверская' 'посёлок Кикерино'\n",
      " 'поселок Возрождение' 'деревня Старое Хинколово' 'посёлок Пригородный'\n",
      " 'посёлок Торфяное' 'городской посёлок Будогощь' 'поселок Суходолье'\n",
      " 'поселок Красная Долина' 'деревня Хапо-Ое'\n",
      " 'поселок городского типа Дружная Горка' 'поселок Лисий Нос'\n",
      " 'деревня Яльгелево' 'посёлок Стеклянный' 'село Рождествено'\n",
      " 'деревня Старополье' 'посёлок Левашово' 'деревня Сяськелево'\n",
      " 'деревня Камышовка'\n",
      " 'садоводческое некоммерческое товарищество Лесная Поляна'\n",
      " 'деревня Хязельки' 'поселок Жилгородок' 'посёлок городского типа Павлово'\n",
      " 'деревня Ялгино' 'поселок Новый Учхоз' 'городской посёлок Рощино'\n",
      " 'поселок Гончарово' 'поселок Почап' 'посёлок Сапёрное'\n",
      " 'посёлок Платформа 69-й километр' 'поселок Каложицы' 'деревня Фалилеево'\n",
      " 'деревня Пельгора' 'поселок городского типа Лесогорский'\n",
      " 'деревня Торошковичи' 'посёлок Белоостров' 'посёлок Алексеевка'\n",
      " 'поселок Серебрянский' 'поселок Лукаши' 'поселок Петровское'\n",
      " 'деревня Щеглово' 'поселок Мичуринское' 'деревня Тарасово'\n",
      " 'поселок Кингисеппский' 'посёлок при железнодорожной станции Вещево'\n",
      " 'поселок Ушаки' 'деревня Котлы' 'деревня Сижно' 'деревня Торосово'\n",
      " 'посёлок Форт Красная Горка' 'деревня Новолисино'\n",
      " 'посёлок станции Громово' 'деревня Глинка' 'посёлок Мельниково'\n",
      " 'поселок городского типа Назия' 'деревня Старая Пустошь'\n",
      " 'поселок Коммунары' 'поселок Починок'\n",
      " 'посёлок городского типа Вознесенье' 'деревня Разбегаево'\n",
      " 'посёлок городского типа Рябово' 'поселок Гладкое'\n",
      " 'посёлок при железнодорожной станции Приветнинское' 'поселок Тёсово-4'\n",
      " 'посёлок Жилгородок' 'деревня Бор' 'посёлок Коробицыно'\n",
      " 'деревня Большая Вруда' 'деревня Курковицы' 'посёлок Лисий Нос'\n",
      " 'городской посёлок Советский' 'посёлок Кобралово' 'деревня Суоранда'\n",
      " 'поселок Кобралово' 'поселок городского типа Кондратьево'\n",
      " 'коттеджный поселок Счастье' 'поселок Любань' 'деревня Реброво'\n",
      " 'деревня Зимитицы' 'деревня Тойворово' 'поселок Семиозерье'\n",
      " 'поселок Лесное' 'поселок Совхозный' 'поселок Усть-Луга'\n",
      " 'посёлок Ленинское' 'посёлок Суйда' 'посёлок городского типа Форносово'\n",
      " 'деревня Нижние Осельки' 'посёлок станции Свирь' 'поселок Перово'\n",
      " 'Высоцк' 'поселок Гарболово' 'село Шум' 'поселок Котельский'\n",
      " 'поселок станции Лужайка' 'деревня Большая Пустомержа'\n",
      " 'поселок Красносельское' 'деревня Вахнова Кара' 'деревня Пижма'\n",
      " 'коттеджный поселок Кивеннапа Север' 'поселок Коробицыно'\n",
      " 'поселок Ромашки' 'посёлок Перово' 'деревня Каськово' 'деревня Куровицы'\n",
      " 'посёлок Плоское' 'поселок Сумино'\n",
      " 'поселок городского типа Большая Ижора' 'поселок Кирпичное'\n",
      " 'деревня Ям-Тесово' 'деревня Раздолье' 'деревня Терпилицы'\n",
      " 'поселок городского типа Токсово' 'посёлок Шугозеро' 'деревня Ваганово'\n",
      " 'поселок Пушное' 'садовое товарищество Садко' 'посёлок Усть-Ижора'\n",
      " 'деревня Выскатка' 'городской посёлок Свирьстрой' 'поселок Громово'\n",
      " 'деревня Кисельня' 'посёлок Старая Малукса' 'деревня Трубников Бор'\n",
      " 'поселок Калитино' 'посёлок Высокоключевой'\n",
      " 'садовое товарищество Приладожский' 'посёлок Пансионат Зелёный Бор'\n",
      " 'деревня Ненимяки' 'поселок Пансионат Зелёный Бор' 'деревня Снегирёвка'\n",
      " 'деревня Рапполово' 'деревня Пустынка' 'поселок Рабитицы'\n",
      " 'деревня Большой Сабск' 'деревня Русско' 'деревня Лупполово'\n",
      " 'деревня Большое Рейзино' 'деревня Малая Романовка' 'поселок Дружноселье'\n",
      " 'поселок Пчевжа' 'поселок Володарское' 'деревня Нижняя'\n",
      " 'коттеджный посёлок Лесное' 'деревня Тихковицы' 'деревня Борисова Грива'\n",
      " 'посёлок Дзержинского']\n"
     ]
    }
   ],
   "source": [
    "print(data['locality_name'].unique())"
   ]
  },
  {
   "cell_type": "markdown",
   "metadata": {},
   "source": [
    "Но есть неявные дубликаты в столбце с названиями населенных пунктов:\n",
    "* посёлок Пансионат Зелёный Бор\n",
    "* поселок Пансионат Зелёный Бор\n",
    "* поселок Рябово\n",
    "* поселок городского типа Рябово\n",
    "Обработаем столбец: заменим \"посёлок\", \"посёлок городского типа\", \"поселок городского типа\" на \"поселок\"."
   ]
  },
  {
   "cell_type": "code",
   "execution_count": 17,
   "metadata": {},
   "outputs": [],
   "source": [
    "def delete_location_duplicates(row):\n",
    "    if 'посёлок' in str(row):\n",
    "        return row.replace('посёлок', 'поселок')\n",
    "    elif 'поселок городского типа' in str(row):\n",
    "        return row.replace('поселок городского типа', 'поселок')\n",
    "    elif 'посёлок городского типа' in str(row):\n",
    "        return row.replace('посёлок городского типа', 'поселок')\n",
    "    else:\n",
    "        return row\n",
    "        \n",
    "data['locality_name'] = data['locality_name'].apply(delete_location_duplicates)"
   ]
  },
  {
   "cell_type": "markdown",
   "metadata": {},
   "source": [
    "Выведем статистическое описание данных для столбцов для поиска аномальных значений."
   ]
  },
  {
   "cell_type": "code",
   "execution_count": 18,
   "metadata": {},
   "outputs": [
    {
     "data": {
      "text/html": [
       "<div>\n",
       "<style scoped>\n",
       "    .dataframe tbody tr th:only-of-type {\n",
       "        vertical-align: middle;\n",
       "    }\n",
       "\n",
       "    .dataframe tbody tr th {\n",
       "        vertical-align: top;\n",
       "    }\n",
       "\n",
       "    .dataframe thead th {\n",
       "        text-align: right;\n",
       "    }\n",
       "</style>\n",
       "<table border=\"1\" class=\"dataframe\">\n",
       "  <thead>\n",
       "    <tr style=\"text-align: right;\">\n",
       "      <th></th>\n",
       "      <th>count</th>\n",
       "      <th>mean</th>\n",
       "      <th>std</th>\n",
       "      <th>min</th>\n",
       "      <th>25%</th>\n",
       "      <th>50%</th>\n",
       "      <th>75%</th>\n",
       "      <th>max</th>\n",
       "    </tr>\n",
       "  </thead>\n",
       "  <tbody>\n",
       "    <tr>\n",
       "      <th>total_images</th>\n",
       "      <td>23565.0</td>\n",
       "      <td>9.878421e+00</td>\n",
       "      <td>5.681156e+00</td>\n",
       "      <td>0.0</td>\n",
       "      <td>6.00</td>\n",
       "      <td>9.0</td>\n",
       "      <td>14.0</td>\n",
       "      <td>50.0</td>\n",
       "    </tr>\n",
       "    <tr>\n",
       "      <th>last_price</th>\n",
       "      <td>23565.0</td>\n",
       "      <td>6.540058e+06</td>\n",
       "      <td>1.091093e+07</td>\n",
       "      <td>12190.0</td>\n",
       "      <td>3400000.00</td>\n",
       "      <td>4646000.0</td>\n",
       "      <td>6790000.0</td>\n",
       "      <td>763000000.0</td>\n",
       "    </tr>\n",
       "    <tr>\n",
       "      <th>total_area</th>\n",
       "      <td>23565.0</td>\n",
       "      <td>6.032282e+01</td>\n",
       "      <td>3.565706e+01</td>\n",
       "      <td>12.0</td>\n",
       "      <td>40.00</td>\n",
       "      <td>52.0</td>\n",
       "      <td>69.7</td>\n",
       "      <td>900.0</td>\n",
       "    </tr>\n",
       "    <tr>\n",
       "      <th>rooms</th>\n",
       "      <td>23565.0</td>\n",
       "      <td>2.070656e+00</td>\n",
       "      <td>1.078591e+00</td>\n",
       "      <td>0.0</td>\n",
       "      <td>1.00</td>\n",
       "      <td>2.0</td>\n",
       "      <td>3.0</td>\n",
       "      <td>19.0</td>\n",
       "    </tr>\n",
       "    <tr>\n",
       "      <th>ceiling_height</th>\n",
       "      <td>23565.0</td>\n",
       "      <td>2.733882e+00</td>\n",
       "      <td>1.012187e+00</td>\n",
       "      <td>1.0</td>\n",
       "      <td>2.55</td>\n",
       "      <td>2.7</td>\n",
       "      <td>2.7</td>\n",
       "      <td>100.0</td>\n",
       "    </tr>\n",
       "    <tr>\n",
       "      <th>floors_total</th>\n",
       "      <td>23565.0</td>\n",
       "      <td>1.067588e+01</td>\n",
       "      <td>6.594823e+00</td>\n",
       "      <td>1.0</td>\n",
       "      <td>5.00</td>\n",
       "      <td>9.0</td>\n",
       "      <td>16.0</td>\n",
       "      <td>60.0</td>\n",
       "    </tr>\n",
       "    <tr>\n",
       "      <th>living_area</th>\n",
       "      <td>21700.0</td>\n",
       "      <td>3.445482e+01</td>\n",
       "      <td>2.204536e+01</td>\n",
       "      <td>2.0</td>\n",
       "      <td>18.60</td>\n",
       "      <td>30.0</td>\n",
       "      <td>42.3</td>\n",
       "      <td>409.7</td>\n",
       "    </tr>\n",
       "    <tr>\n",
       "      <th>floor</th>\n",
       "      <td>23565.0</td>\n",
       "      <td>5.878124e+00</td>\n",
       "      <td>4.871485e+00</td>\n",
       "      <td>1.0</td>\n",
       "      <td>2.00</td>\n",
       "      <td>4.0</td>\n",
       "      <td>8.0</td>\n",
       "      <td>33.0</td>\n",
       "    </tr>\n",
       "    <tr>\n",
       "      <th>kitchen_area</th>\n",
       "      <td>21343.0</td>\n",
       "      <td>1.056099e+01</td>\n",
       "      <td>5.900630e+00</td>\n",
       "      <td>1.3</td>\n",
       "      <td>7.00</td>\n",
       "      <td>9.1</td>\n",
       "      <td>12.0</td>\n",
       "      <td>112.0</td>\n",
       "    </tr>\n",
       "    <tr>\n",
       "      <th>balcony</th>\n",
       "      <td>23565.0</td>\n",
       "      <td>5.936771e-01</td>\n",
       "      <td>9.606601e-01</td>\n",
       "      <td>0.0</td>\n",
       "      <td>0.00</td>\n",
       "      <td>0.0</td>\n",
       "      <td>1.0</td>\n",
       "      <td>5.0</td>\n",
       "    </tr>\n",
       "    <tr>\n",
       "      <th>airports_nearest</th>\n",
       "      <td>18041.0</td>\n",
       "      <td>2.879708e+04</td>\n",
       "      <td>1.263250e+04</td>\n",
       "      <td>0.0</td>\n",
       "      <td>18565.00</td>\n",
       "      <td>26757.0</td>\n",
       "      <td>37273.0</td>\n",
       "      <td>84869.0</td>\n",
       "    </tr>\n",
       "    <tr>\n",
       "      <th>city_centers_nearest</th>\n",
       "      <td>18064.0</td>\n",
       "      <td>1.419266e+04</td>\n",
       "      <td>8.613348e+03</td>\n",
       "      <td>181.0</td>\n",
       "      <td>9238.00</td>\n",
       "      <td>13096.5</td>\n",
       "      <td>16285.0</td>\n",
       "      <td>65968.0</td>\n",
       "    </tr>\n",
       "    <tr>\n",
       "      <th>parks_around3000</th>\n",
       "      <td>23565.0</td>\n",
       "      <td>4.688309e-01</td>\n",
       "      <td>7.484028e-01</td>\n",
       "      <td>0.0</td>\n",
       "      <td>0.00</td>\n",
       "      <td>0.0</td>\n",
       "      <td>1.0</td>\n",
       "      <td>3.0</td>\n",
       "    </tr>\n",
       "    <tr>\n",
       "      <th>parks_nearest</th>\n",
       "      <td>8030.0</td>\n",
       "      <td>4.905804e+02</td>\n",
       "      <td>3.415730e+02</td>\n",
       "      <td>1.0</td>\n",
       "      <td>288.00</td>\n",
       "      <td>455.0</td>\n",
       "      <td>612.0</td>\n",
       "      <td>3190.0</td>\n",
       "    </tr>\n",
       "    <tr>\n",
       "      <th>ponds_around3000</th>\n",
       "      <td>23565.0</td>\n",
       "      <td>5.899003e-01</td>\n",
       "      <td>8.839656e-01</td>\n",
       "      <td>0.0</td>\n",
       "      <td>0.00</td>\n",
       "      <td>0.0</td>\n",
       "      <td>1.0</td>\n",
       "      <td>3.0</td>\n",
       "    </tr>\n",
       "    <tr>\n",
       "      <th>ponds_nearest</th>\n",
       "      <td>9036.0</td>\n",
       "      <td>5.182895e+02</td>\n",
       "      <td>2.780096e+02</td>\n",
       "      <td>13.0</td>\n",
       "      <td>293.00</td>\n",
       "      <td>503.0</td>\n",
       "      <td>730.0</td>\n",
       "      <td>1344.0</td>\n",
       "    </tr>\n",
       "    <tr>\n",
       "      <th>days_exposition</th>\n",
       "      <td>20394.0</td>\n",
       "      <td>1.807414e+02</td>\n",
       "      <td>2.197328e+02</td>\n",
       "      <td>1.0</td>\n",
       "      <td>45.00</td>\n",
       "      <td>95.0</td>\n",
       "      <td>231.0</td>\n",
       "      <td>1580.0</td>\n",
       "    </tr>\n",
       "  </tbody>\n",
       "</table>\n",
       "</div>"
      ],
      "text/plain": [
       "                        count          mean           std      min  \\\n",
       "total_images          23565.0  9.878421e+00  5.681156e+00      0.0   \n",
       "last_price            23565.0  6.540058e+06  1.091093e+07  12190.0   \n",
       "total_area            23565.0  6.032282e+01  3.565706e+01     12.0   \n",
       "rooms                 23565.0  2.070656e+00  1.078591e+00      0.0   \n",
       "ceiling_height        23565.0  2.733882e+00  1.012187e+00      1.0   \n",
       "floors_total          23565.0  1.067588e+01  6.594823e+00      1.0   \n",
       "living_area           21700.0  3.445482e+01  2.204536e+01      2.0   \n",
       "floor                 23565.0  5.878124e+00  4.871485e+00      1.0   \n",
       "kitchen_area          21343.0  1.056099e+01  5.900630e+00      1.3   \n",
       "balcony               23565.0  5.936771e-01  9.606601e-01      0.0   \n",
       "airports_nearest      18041.0  2.879708e+04  1.263250e+04      0.0   \n",
       "city_centers_nearest  18064.0  1.419266e+04  8.613348e+03    181.0   \n",
       "parks_around3000      23565.0  4.688309e-01  7.484028e-01      0.0   \n",
       "parks_nearest          8030.0  4.905804e+02  3.415730e+02      1.0   \n",
       "ponds_around3000      23565.0  5.899003e-01  8.839656e-01      0.0   \n",
       "ponds_nearest          9036.0  5.182895e+02  2.780096e+02     13.0   \n",
       "days_exposition       20394.0  1.807414e+02  2.197328e+02      1.0   \n",
       "\n",
       "                             25%        50%        75%          max  \n",
       "total_images                6.00        9.0       14.0         50.0  \n",
       "last_price            3400000.00  4646000.0  6790000.0  763000000.0  \n",
       "total_area                 40.00       52.0       69.7        900.0  \n",
       "rooms                       1.00        2.0        3.0         19.0  \n",
       "ceiling_height              2.55        2.7        2.7        100.0  \n",
       "floors_total                5.00        9.0       16.0         60.0  \n",
       "living_area                18.60       30.0       42.3        409.7  \n",
       "floor                       2.00        4.0        8.0         33.0  \n",
       "kitchen_area                7.00        9.1       12.0        112.0  \n",
       "balcony                     0.00        0.0        1.0          5.0  \n",
       "airports_nearest        18565.00    26757.0    37273.0      84869.0  \n",
       "city_centers_nearest     9238.00    13096.5    16285.0      65968.0  \n",
       "parks_around3000            0.00        0.0        1.0          3.0  \n",
       "parks_nearest             288.00      455.0      612.0       3190.0  \n",
       "ponds_around3000            0.00        0.0        1.0          3.0  \n",
       "ponds_nearest             293.00      503.0      730.0       1344.0  \n",
       "days_exposition            45.00       95.0      231.0       1580.0  "
      ]
     },
     "execution_count": 18,
     "metadata": {},
     "output_type": "execute_result"
    }
   ],
   "source": [
    "data.describe().T"
   ]
  },
  {
   "cell_type": "markdown",
   "metadata": {},
   "source": [
    "Слишком большой разброс значений в столбах с ценой: от 12 тыс до 7 трл. Нули в столбцах с количеством комнат (возможно, это продажа комнаты). Высота потолков от 1,26м до 100м. Странные значения в столбце с жилой площадь: минимум 2кв.м, - то же с площадью кухни. Есть объекты со слишком большим периодом продажи: больше 4 лет."
   ]
  },
  {
   "cell_type": "markdown",
   "metadata": {},
   "source": [
    "Проанализируем столбец с высотой потолков."
   ]
  },
  {
   "cell_type": "code",
   "execution_count": 19,
   "metadata": {},
   "outputs": [
    {
     "data": {
      "text/html": [
       "<div>\n",
       "<style scoped>\n",
       "    .dataframe tbody tr th:only-of-type {\n",
       "        vertical-align: middle;\n",
       "    }\n",
       "\n",
       "    .dataframe tbody tr th {\n",
       "        vertical-align: top;\n",
       "    }\n",
       "\n",
       "    .dataframe thead th {\n",
       "        text-align: right;\n",
       "    }\n",
       "</style>\n",
       "<table border=\"1\" class=\"dataframe\">\n",
       "  <thead>\n",
       "    <tr style=\"text-align: right;\">\n",
       "      <th></th>\n",
       "      <th>total_images</th>\n",
       "      <th>last_price</th>\n",
       "      <th>total_area</th>\n",
       "      <th>first_day_exposition</th>\n",
       "      <th>rooms</th>\n",
       "      <th>ceiling_height</th>\n",
       "      <th>floors_total</th>\n",
       "      <th>living_area</th>\n",
       "      <th>floor</th>\n",
       "      <th>is_apartment</th>\n",
       "      <th>...</th>\n",
       "      <th>kitchen_area</th>\n",
       "      <th>balcony</th>\n",
       "      <th>locality_name</th>\n",
       "      <th>airports_nearest</th>\n",
       "      <th>city_centers_nearest</th>\n",
       "      <th>parks_around3000</th>\n",
       "      <th>parks_nearest</th>\n",
       "      <th>ponds_around3000</th>\n",
       "      <th>ponds_nearest</th>\n",
       "      <th>days_exposition</th>\n",
       "    </tr>\n",
       "  </thead>\n",
       "  <tbody>\n",
       "    <tr>\n",
       "      <th>22869</th>\n",
       "      <td>0</td>\n",
       "      <td>15000000</td>\n",
       "      <td>25.0</td>\n",
       "      <td>2018-07-25</td>\n",
       "      <td>1</td>\n",
       "      <td>100.0</td>\n",
       "      <td>5</td>\n",
       "      <td>14.0</td>\n",
       "      <td>5</td>\n",
       "      <td>True</td>\n",
       "      <td>...</td>\n",
       "      <td>11.0</td>\n",
       "      <td>5</td>\n",
       "      <td>Санкт-Петербург</td>\n",
       "      <td>34963.0</td>\n",
       "      <td>8283.0</td>\n",
       "      <td>1.0</td>\n",
       "      <td>223.0</td>\n",
       "      <td>3.0</td>\n",
       "      <td>30.0</td>\n",
       "      <td>19.0</td>\n",
       "    </tr>\n",
       "    <tr>\n",
       "      <th>22336</th>\n",
       "      <td>19</td>\n",
       "      <td>9999000</td>\n",
       "      <td>92.4</td>\n",
       "      <td>2019-04-05</td>\n",
       "      <td>2</td>\n",
       "      <td>32.0</td>\n",
       "      <td>6</td>\n",
       "      <td>55.5</td>\n",
       "      <td>5</td>\n",
       "      <td>False</td>\n",
       "      <td>...</td>\n",
       "      <td>16.5</td>\n",
       "      <td>4</td>\n",
       "      <td>Санкт-Петербург</td>\n",
       "      <td>18838.0</td>\n",
       "      <td>3506.0</td>\n",
       "      <td>0.0</td>\n",
       "      <td>NaN</td>\n",
       "      <td>3.0</td>\n",
       "      <td>511.0</td>\n",
       "      <td>NaN</td>\n",
       "    </tr>\n",
       "    <tr>\n",
       "      <th>3148</th>\n",
       "      <td>14</td>\n",
       "      <td>2900000</td>\n",
       "      <td>75.0</td>\n",
       "      <td>2018-11-12</td>\n",
       "      <td>3</td>\n",
       "      <td>32.0</td>\n",
       "      <td>3</td>\n",
       "      <td>53.0</td>\n",
       "      <td>2</td>\n",
       "      <td>False</td>\n",
       "      <td>...</td>\n",
       "      <td>8.0</td>\n",
       "      <td>0</td>\n",
       "      <td>Волхов</td>\n",
       "      <td>NaN</td>\n",
       "      <td>NaN</td>\n",
       "      <td>0.0</td>\n",
       "      <td>NaN</td>\n",
       "      <td>0.0</td>\n",
       "      <td>NaN</td>\n",
       "      <td>NaN</td>\n",
       "    </tr>\n",
       "    <tr>\n",
       "      <th>21377</th>\n",
       "      <td>19</td>\n",
       "      <td>4900000</td>\n",
       "      <td>42.0</td>\n",
       "      <td>2017-04-18</td>\n",
       "      <td>1</td>\n",
       "      <td>27.5</td>\n",
       "      <td>24</td>\n",
       "      <td>37.7</td>\n",
       "      <td>19</td>\n",
       "      <td>False</td>\n",
       "      <td>...</td>\n",
       "      <td>11.0</td>\n",
       "      <td>2</td>\n",
       "      <td>Санкт-Петербург</td>\n",
       "      <td>42742.0</td>\n",
       "      <td>9760.0</td>\n",
       "      <td>0.0</td>\n",
       "      <td>NaN</td>\n",
       "      <td>0.0</td>\n",
       "      <td>NaN</td>\n",
       "      <td>61.0</td>\n",
       "    </tr>\n",
       "    <tr>\n",
       "      <th>17857</th>\n",
       "      <td>1</td>\n",
       "      <td>3900000</td>\n",
       "      <td>56.0</td>\n",
       "      <td>2017-12-22</td>\n",
       "      <td>3</td>\n",
       "      <td>27.0</td>\n",
       "      <td>5</td>\n",
       "      <td>33.0</td>\n",
       "      <td>4</td>\n",
       "      <td>False</td>\n",
       "      <td>...</td>\n",
       "      <td>NaN</td>\n",
       "      <td>0</td>\n",
       "      <td>Санкт-Петербург</td>\n",
       "      <td>41030.0</td>\n",
       "      <td>15543.0</td>\n",
       "      <td>0.0</td>\n",
       "      <td>NaN</td>\n",
       "      <td>0.0</td>\n",
       "      <td>NaN</td>\n",
       "      <td>73.0</td>\n",
       "    </tr>\n",
       "  </tbody>\n",
       "</table>\n",
       "<p>5 rows × 22 columns</p>\n",
       "</div>"
      ],
      "text/plain": [
       "       total_images  last_price  total_area first_day_exposition  rooms  \\\n",
       "22869             0    15000000        25.0           2018-07-25      1   \n",
       "22336            19     9999000        92.4           2019-04-05      2   \n",
       "3148             14     2900000        75.0           2018-11-12      3   \n",
       "21377            19     4900000        42.0           2017-04-18      1   \n",
       "17857             1     3900000        56.0           2017-12-22      3   \n",
       "\n",
       "       ceiling_height  floors_total  living_area  floor  is_apartment  ...  \\\n",
       "22869           100.0             5         14.0      5          True  ...   \n",
       "22336            32.0             6         55.5      5         False  ...   \n",
       "3148             32.0             3         53.0      2         False  ...   \n",
       "21377            27.5            24         37.7     19         False  ...   \n",
       "17857            27.0             5         33.0      4         False  ...   \n",
       "\n",
       "       kitchen_area  balcony    locality_name  airports_nearest  \\\n",
       "22869          11.0        5  Санкт-Петербург           34963.0   \n",
       "22336          16.5        4  Санкт-Петербург           18838.0   \n",
       "3148            8.0        0           Волхов               NaN   \n",
       "21377          11.0        2  Санкт-Петербург           42742.0   \n",
       "17857           NaN        0  Санкт-Петербург           41030.0   \n",
       "\n",
       "      city_centers_nearest  parks_around3000  parks_nearest  ponds_around3000  \\\n",
       "22869               8283.0               1.0          223.0               3.0   \n",
       "22336               3506.0               0.0            NaN               3.0   \n",
       "3148                   NaN               0.0            NaN               0.0   \n",
       "21377               9760.0               0.0            NaN               0.0   \n",
       "17857              15543.0               0.0            NaN               0.0   \n",
       "\n",
       "       ponds_nearest  days_exposition  \n",
       "22869           30.0             19.0  \n",
       "22336          511.0              NaN  \n",
       "3148             NaN              NaN  \n",
       "21377            NaN             61.0  \n",
       "17857            NaN             73.0  \n",
       "\n",
       "[5 rows x 22 columns]"
      ]
     },
     "metadata": {},
     "output_type": "display_data"
    }
   ],
   "source": [
    "display(data.sort_values(by='ceiling_height', ascending=False).head())"
   ]
  },
  {
   "cell_type": "markdown",
   "metadata": {},
   "source": [
    "В столбце ceiling_height может быть указана высота потолков 25 м и 32 м. Логично предположить, что на самом деле это вещественные значения: 2.5 м и 3.2 м\n",
    "Вряд ли есть объекты, в которых высота потолков больше 10.3 м. При этом у квартиры с высотой потолков 100м общая площадь всего 25 м. кв. Предположим, что это квартира с высотой потолков 10м. Обычно квартиры с высокими потолками имеют и большую площадь, следовательно запись не корректна.\n",
    "Минимальной высотой потолков считается 2,4м, записей с высотой до 2.4м немного.\n",
    "Разделим на 10 все значения больше 20м, некорректные записи удалим."
   ]
  },
  {
   "cell_type": "code",
   "execution_count": 20,
   "metadata": {},
   "outputs": [],
   "source": [
    "data = data[data['ceiling_height'] != 100]\n",
    "\n",
    "def get_normal_ceiling_height(row):\n",
    "    # проверка на NaN\n",
    "    if row != row:\n",
    "        return row\n",
    "    elif row > 20:\n",
    "        return row / 10\n",
    "    else:\n",
    "        return row\n",
    "    \n",
    "data['ceiling_height'] = data['ceiling_height'].apply(get_normal_ceiling_height)\n",
    "data = data[data['ceiling_height'] <= 10.3]\n",
    "data = data[data['ceiling_height'] >= 2.4]"
   ]
  },
  {
   "cell_type": "markdown",
   "metadata": {},
   "source": [
    "Проанализируем столбец с ценой."
   ]
  },
  {
   "cell_type": "code",
   "execution_count": 21,
   "metadata": {
    "scrolled": true
   },
   "outputs": [
    {
     "data": {
      "image/png": "[encoded data removed]",
      "text/plain": [
       "<Figure size 576x576 with 1 Axes>"
      ]
     },
     "metadata": {
      "needs_background": "light"
     },
     "output_type": "display_data"
    }
   ],
   "source": [
    "data.boxplot(column='last_price', figsize=(8,8));"
   ]
  },
  {
   "cell_type": "markdown",
   "metadata": {},
   "source": [
    "Судя по графику, некоторые значения цены значительно превосходят нормальные значения. Могла быть нарушена размерность, например, цены указаны не в рублях, а в копейках, или есть ошибки в сборе показателей. Проверим, какую долю составляют объекты с неправдоподобной ценой, если их меньше 10%, удалим их.\n",
    "Также есть строки с неправдоподобно маленькой ценой - 12190."
   ]
  },
  {
   "cell_type": "code",
   "execution_count": 22,
   "metadata": {},
   "outputs": [
    {
     "data": {
      "text/html": [
       "<div>\n",
       "<style scoped>\n",
       "    .dataframe tbody tr th:only-of-type {\n",
       "        vertical-align: middle;\n",
       "    }\n",
       "\n",
       "    .dataframe tbody tr th {\n",
       "        vertical-align: top;\n",
       "    }\n",
       "\n",
       "    .dataframe thead th {\n",
       "        text-align: right;\n",
       "    }\n",
       "</style>\n",
       "<table border=\"1\" class=\"dataframe\">\n",
       "  <thead>\n",
       "    <tr style=\"text-align: right;\">\n",
       "      <th></th>\n",
       "      <th>total_images</th>\n",
       "      <th>last_price</th>\n",
       "      <th>total_area</th>\n",
       "      <th>first_day_exposition</th>\n",
       "      <th>rooms</th>\n",
       "      <th>ceiling_height</th>\n",
       "      <th>floors_total</th>\n",
       "      <th>living_area</th>\n",
       "      <th>floor</th>\n",
       "      <th>is_apartment</th>\n",
       "      <th>...</th>\n",
       "      <th>kitchen_area</th>\n",
       "      <th>balcony</th>\n",
       "      <th>locality_name</th>\n",
       "      <th>airports_nearest</th>\n",
       "      <th>city_centers_nearest</th>\n",
       "      <th>parks_around3000</th>\n",
       "      <th>parks_nearest</th>\n",
       "      <th>ponds_around3000</th>\n",
       "      <th>ponds_nearest</th>\n",
       "      <th>days_exposition</th>\n",
       "    </tr>\n",
       "  </thead>\n",
       "  <tbody>\n",
       "    <tr>\n",
       "      <th>8793</th>\n",
       "      <td>7</td>\n",
       "      <td>12190</td>\n",
       "      <td>109.0</td>\n",
       "      <td>2019-03-20</td>\n",
       "      <td>2</td>\n",
       "      <td>2.75</td>\n",
       "      <td>25</td>\n",
       "      <td>32.0</td>\n",
       "      <td>25</td>\n",
       "      <td>False</td>\n",
       "      <td>...</td>\n",
       "      <td>40.5</td>\n",
       "      <td>0</td>\n",
       "      <td>Санкт-Петербург</td>\n",
       "      <td>36421.0</td>\n",
       "      <td>9176.0</td>\n",
       "      <td>1.0</td>\n",
       "      <td>805.0</td>\n",
       "      <td>0.0</td>\n",
       "      <td>NaN</td>\n",
       "      <td>8.0</td>\n",
       "    </tr>\n",
       "    <tr>\n",
       "      <th>14911</th>\n",
       "      <td>5</td>\n",
       "      <td>430000</td>\n",
       "      <td>54.0</td>\n",
       "      <td>2018-06-26</td>\n",
       "      <td>2</td>\n",
       "      <td>2.70</td>\n",
       "      <td>3</td>\n",
       "      <td>NaN</td>\n",
       "      <td>3</td>\n",
       "      <td>False</td>\n",
       "      <td>...</td>\n",
       "      <td>NaN</td>\n",
       "      <td>0</td>\n",
       "      <td>поселок станции Свирь</td>\n",
       "      <td>NaN</td>\n",
       "      <td>NaN</td>\n",
       "      <td>0.0</td>\n",
       "      <td>NaN</td>\n",
       "      <td>0.0</td>\n",
       "      <td>NaN</td>\n",
       "      <td>44.0</td>\n",
       "    </tr>\n",
       "    <tr>\n",
       "      <th>17456</th>\n",
       "      <td>7</td>\n",
       "      <td>430000</td>\n",
       "      <td>30.4</td>\n",
       "      <td>2019-04-22</td>\n",
       "      <td>1</td>\n",
       "      <td>2.50</td>\n",
       "      <td>2</td>\n",
       "      <td>16.0</td>\n",
       "      <td>1</td>\n",
       "      <td>False</td>\n",
       "      <td>...</td>\n",
       "      <td>6.0</td>\n",
       "      <td>0</td>\n",
       "      <td>Сланцы</td>\n",
       "      <td>NaN</td>\n",
       "      <td>NaN</td>\n",
       "      <td>0.0</td>\n",
       "      <td>NaN</td>\n",
       "      <td>0.0</td>\n",
       "      <td>NaN</td>\n",
       "      <td>NaN</td>\n",
       "    </tr>\n",
       "    <tr>\n",
       "      <th>16274</th>\n",
       "      <td>18</td>\n",
       "      <td>440000</td>\n",
       "      <td>40.0</td>\n",
       "      <td>2018-07-10</td>\n",
       "      <td>1</td>\n",
       "      <td>2.70</td>\n",
       "      <td>5</td>\n",
       "      <td>NaN</td>\n",
       "      <td>1</td>\n",
       "      <td>False</td>\n",
       "      <td>...</td>\n",
       "      <td>NaN</td>\n",
       "      <td>0</td>\n",
       "      <td>деревня Старополье</td>\n",
       "      <td>NaN</td>\n",
       "      <td>NaN</td>\n",
       "      <td>0.0</td>\n",
       "      <td>NaN</td>\n",
       "      <td>0.0</td>\n",
       "      <td>NaN</td>\n",
       "      <td>45.0</td>\n",
       "    </tr>\n",
       "    <tr>\n",
       "      <th>16219</th>\n",
       "      <td>14</td>\n",
       "      <td>450000</td>\n",
       "      <td>38.5</td>\n",
       "      <td>2018-07-11</td>\n",
       "      <td>2</td>\n",
       "      <td>2.65</td>\n",
       "      <td>2</td>\n",
       "      <td>NaN</td>\n",
       "      <td>1</td>\n",
       "      <td>False</td>\n",
       "      <td>...</td>\n",
       "      <td>NaN</td>\n",
       "      <td>0</td>\n",
       "      <td>деревня Вахнова Кара</td>\n",
       "      <td>NaN</td>\n",
       "      <td>NaN</td>\n",
       "      <td>0.0</td>\n",
       "      <td>NaN</td>\n",
       "      <td>0.0</td>\n",
       "      <td>NaN</td>\n",
       "      <td>45.0</td>\n",
       "    </tr>\n",
       "  </tbody>\n",
       "</table>\n",
       "<p>5 rows × 22 columns</p>\n",
       "</div>"
      ],
      "text/plain": [
       "       total_images  last_price  total_area first_day_exposition  rooms  \\\n",
       "8793              7       12190       109.0           2019-03-20      2   \n",
       "14911             5      430000        54.0           2018-06-26      2   \n",
       "17456             7      430000        30.4           2019-04-22      1   \n",
       "16274            18      440000        40.0           2018-07-10      1   \n",
       "16219            14      450000        38.5           2018-07-11      2   \n",
       "\n",
       "       ceiling_height  floors_total  living_area  floor  is_apartment  ...  \\\n",
       "8793             2.75            25         32.0     25         False  ...   \n",
       "14911            2.70             3          NaN      3         False  ...   \n",
       "17456            2.50             2         16.0      1         False  ...   \n",
       "16274            2.70             5          NaN      1         False  ...   \n",
       "16219            2.65             2          NaN      1         False  ...   \n",
       "\n",
       "       kitchen_area  balcony          locality_name  airports_nearest  \\\n",
       "8793           40.5        0        Санкт-Петербург           36421.0   \n",
       "14911           NaN        0  поселок станции Свирь               NaN   \n",
       "17456           6.0        0                 Сланцы               NaN   \n",
       "16274           NaN        0     деревня Старополье               NaN   \n",
       "16219           NaN        0   деревня Вахнова Кара               NaN   \n",
       "\n",
       "      city_centers_nearest  parks_around3000  parks_nearest  ponds_around3000  \\\n",
       "8793                9176.0               1.0          805.0               0.0   \n",
       "14911                  NaN               0.0            NaN               0.0   \n",
       "17456                  NaN               0.0            NaN               0.0   \n",
       "16274                  NaN               0.0            NaN               0.0   \n",
       "16219                  NaN               0.0            NaN               0.0   \n",
       "\n",
       "       ponds_nearest  days_exposition  \n",
       "8793             NaN              8.0  \n",
       "14911            NaN             44.0  \n",
       "17456            NaN              NaN  \n",
       "16274            NaN             45.0  \n",
       "16219            NaN             45.0  \n",
       "\n",
       "[5 rows x 22 columns]"
      ]
     },
     "metadata": {},
     "output_type": "display_data"
    }
   ],
   "source": [
    "display(data.sort_values(by='last_price').head())"
   ]
  },
  {
   "cell_type": "markdown",
   "metadata": {},
   "source": [
    "Строка с неправдобподобно малой ценой одна, удалим ее."
   ]
  },
  {
   "cell_type": "code",
   "execution_count": 23,
   "metadata": {},
   "outputs": [],
   "source": [
    "data = data[data['last_price'] != 12190]"
   ]
  },
  {
   "cell_type": "code",
   "execution_count": 24,
   "metadata": {},
   "outputs": [
    {
     "data": {
      "text/plain": [
       "2757"
      ]
     },
     "execution_count": 24,
     "metadata": {},
     "output_type": "execute_result"
    }
   ],
   "source": [
    "data.query('last_price >= 10_000_000').shape[0]"
   ]
  },
  {
   "cell_type": "markdown",
   "metadata": {},
   "source": [
    "Строк со стоимостью выше 10 млн ~8%. Удалим их, посмотрим на распределение."
   ]
  },
  {
   "cell_type": "code",
   "execution_count": 25,
   "metadata": {
    "scrolled": false
   },
   "outputs": [
    {
     "data": {
      "text/html": [
       "<div>\n",
       "<style scoped>\n",
       "    .dataframe tbody tr th:only-of-type {\n",
       "        vertical-align: middle;\n",
       "    }\n",
       "\n",
       "    .dataframe tbody tr th {\n",
       "        vertical-align: top;\n",
       "    }\n",
       "\n",
       "    .dataframe thead th {\n",
       "        text-align: right;\n",
       "    }\n",
       "</style>\n",
       "<table border=\"1\" class=\"dataframe\">\n",
       "  <thead>\n",
       "    <tr style=\"text-align: right;\">\n",
       "      <th></th>\n",
       "      <th>count</th>\n",
       "      <th>mean</th>\n",
       "      <th>std</th>\n",
       "      <th>min</th>\n",
       "      <th>25%</th>\n",
       "      <th>50%</th>\n",
       "      <th>75%</th>\n",
       "      <th>max</th>\n",
       "    </tr>\n",
       "  </thead>\n",
       "  <tbody>\n",
       "    <tr>\n",
       "      <th>total_images</th>\n",
       "      <td>20840.0</td>\n",
       "      <td>9.654079e+00</td>\n",
       "      <td>5.505588e+00</td>\n",
       "      <td>0.0</td>\n",
       "      <td>6.00</td>\n",
       "      <td>9.0</td>\n",
       "      <td>13.00</td>\n",
       "      <td>39.0</td>\n",
       "    </tr>\n",
       "    <tr>\n",
       "      <th>last_price</th>\n",
       "      <td>20840.0</td>\n",
       "      <td>4.649907e+06</td>\n",
       "      <td>1.966585e+06</td>\n",
       "      <td>430000.0</td>\n",
       "      <td>3300000.00</td>\n",
       "      <td>4320000.0</td>\n",
       "      <td>5800000.00</td>\n",
       "      <td>10000000.0</td>\n",
       "    </tr>\n",
       "    <tr>\n",
       "      <th>total_area</th>\n",
       "      <td>20840.0</td>\n",
       "      <td>5.209991e+01</td>\n",
       "      <td>1.778830e+01</td>\n",
       "      <td>12.0</td>\n",
       "      <td>38.70</td>\n",
       "      <td>48.0</td>\n",
       "      <td>62.00</td>\n",
       "      <td>201.5</td>\n",
       "    </tr>\n",
       "    <tr>\n",
       "      <th>rooms</th>\n",
       "      <td>20840.0</td>\n",
       "      <td>1.900672e+00</td>\n",
       "      <td>8.947273e-01</td>\n",
       "      <td>0.0</td>\n",
       "      <td>1.00</td>\n",
       "      <td>2.0</td>\n",
       "      <td>3.00</td>\n",
       "      <td>7.0</td>\n",
       "    </tr>\n",
       "    <tr>\n",
       "      <th>ceiling_height</th>\n",
       "      <td>20840.0</td>\n",
       "      <td>2.674956e+00</td>\n",
       "      <td>2.045522e-01</td>\n",
       "      <td>2.4</td>\n",
       "      <td>2.55</td>\n",
       "      <td>2.7</td>\n",
       "      <td>2.70</td>\n",
       "      <td>10.3</td>\n",
       "    </tr>\n",
       "    <tr>\n",
       "      <th>floors_total</th>\n",
       "      <td>20840.0</td>\n",
       "      <td>1.073229e+01</td>\n",
       "      <td>6.616726e+00</td>\n",
       "      <td>1.0</td>\n",
       "      <td>5.00</td>\n",
       "      <td>9.0</td>\n",
       "      <td>16.00</td>\n",
       "      <td>60.0</td>\n",
       "    </tr>\n",
       "    <tr>\n",
       "      <th>living_area</th>\n",
       "      <td>19246.0</td>\n",
       "      <td>2.988750e+01</td>\n",
       "      <td>1.278667e+01</td>\n",
       "      <td>2.0</td>\n",
       "      <td>18.00</td>\n",
       "      <td>29.0</td>\n",
       "      <td>38.50</td>\n",
       "      <td>112.0</td>\n",
       "    </tr>\n",
       "    <tr>\n",
       "      <th>floor</th>\n",
       "      <td>20840.0</td>\n",
       "      <td>5.851967e+00</td>\n",
       "      <td>4.887792e+00</td>\n",
       "      <td>1.0</td>\n",
       "      <td>2.00</td>\n",
       "      <td>4.0</td>\n",
       "      <td>8.00</td>\n",
       "      <td>33.0</td>\n",
       "    </tr>\n",
       "    <tr>\n",
       "      <th>kitchen_area</th>\n",
       "      <td>18875.0</td>\n",
       "      <td>9.442062e+00</td>\n",
       "      <td>3.632763e+00</td>\n",
       "      <td>1.3</td>\n",
       "      <td>7.00</td>\n",
       "      <td>9.0</td>\n",
       "      <td>11.00</td>\n",
       "      <td>64.0</td>\n",
       "    </tr>\n",
       "    <tr>\n",
       "      <th>balcony</th>\n",
       "      <td>20840.0</td>\n",
       "      <td>5.893474e-01</td>\n",
       "      <td>9.295351e-01</td>\n",
       "      <td>0.0</td>\n",
       "      <td>0.00</td>\n",
       "      <td>0.0</td>\n",
       "      <td>1.00</td>\n",
       "      <td>5.0</td>\n",
       "    </tr>\n",
       "    <tr>\n",
       "      <th>airports_nearest</th>\n",
       "      <td>15387.0</td>\n",
       "      <td>2.899105e+04</td>\n",
       "      <td>1.308142e+04</td>\n",
       "      <td>0.0</td>\n",
       "      <td>17964.00</td>\n",
       "      <td>27199.0</td>\n",
       "      <td>37868.00</td>\n",
       "      <td>84869.0</td>\n",
       "    </tr>\n",
       "    <tr>\n",
       "      <th>city_centers_nearest</th>\n",
       "      <td>15399.0</td>\n",
       "      <td>1.521004e+04</td>\n",
       "      <td>8.557522e+03</td>\n",
       "      <td>208.0</td>\n",
       "      <td>10855.00</td>\n",
       "      <td>13783.0</td>\n",
       "      <td>16802.00</td>\n",
       "      <td>65968.0</td>\n",
       "    </tr>\n",
       "    <tr>\n",
       "      <th>parks_around3000</th>\n",
       "      <td>20840.0</td>\n",
       "      <td>4.037908e-01</td>\n",
       "      <td>6.942865e-01</td>\n",
       "      <td>0.0</td>\n",
       "      <td>0.00</td>\n",
       "      <td>0.0</td>\n",
       "      <td>1.00</td>\n",
       "      <td>3.0</td>\n",
       "    </tr>\n",
       "    <tr>\n",
       "      <th>parks_nearest</th>\n",
       "      <td>6310.0</td>\n",
       "      <td>4.866369e+02</td>\n",
       "      <td>3.213623e+02</td>\n",
       "      <td>1.0</td>\n",
       "      <td>290.00</td>\n",
       "      <td>456.0</td>\n",
       "      <td>612.00</td>\n",
       "      <td>3190.0</td>\n",
       "    </tr>\n",
       "    <tr>\n",
       "      <th>ponds_around3000</th>\n",
       "      <td>20840.0</td>\n",
       "      <td>5.115643e-01</td>\n",
       "      <td>8.143352e-01</td>\n",
       "      <td>0.0</td>\n",
       "      <td>0.00</td>\n",
       "      <td>0.0</td>\n",
       "      <td>1.00</td>\n",
       "      <td>3.0</td>\n",
       "    </tr>\n",
       "    <tr>\n",
       "      <th>ponds_nearest</th>\n",
       "      <td>7296.0</td>\n",
       "      <td>5.339952e+02</td>\n",
       "      <td>2.773295e+02</td>\n",
       "      <td>16.0</td>\n",
       "      <td>318.00</td>\n",
       "      <td>522.0</td>\n",
       "      <td>743.25</td>\n",
       "      <td>1344.0</td>\n",
       "    </tr>\n",
       "    <tr>\n",
       "      <th>days_exposition</th>\n",
       "      <td>18348.0</td>\n",
       "      <td>1.707569e+02</td>\n",
       "      <td>2.083227e+02</td>\n",
       "      <td>1.0</td>\n",
       "      <td>43.00</td>\n",
       "      <td>90.0</td>\n",
       "      <td>217.00</td>\n",
       "      <td>1580.0</td>\n",
       "    </tr>\n",
       "  </tbody>\n",
       "</table>\n",
       "</div>"
      ],
      "text/plain": [
       "                        count          mean           std       min  \\\n",
       "total_images          20840.0  9.654079e+00  5.505588e+00       0.0   \n",
       "last_price            20840.0  4.649907e+06  1.966585e+06  430000.0   \n",
       "total_area            20840.0  5.209991e+01  1.778830e+01      12.0   \n",
       "rooms                 20840.0  1.900672e+00  8.947273e-01       0.0   \n",
       "ceiling_height        20840.0  2.674956e+00  2.045522e-01       2.4   \n",
       "floors_total          20840.0  1.073229e+01  6.616726e+00       1.0   \n",
       "living_area           19246.0  2.988750e+01  1.278667e+01       2.0   \n",
       "floor                 20840.0  5.851967e+00  4.887792e+00       1.0   \n",
       "kitchen_area          18875.0  9.442062e+00  3.632763e+00       1.3   \n",
       "balcony               20840.0  5.893474e-01  9.295351e-01       0.0   \n",
       "airports_nearest      15387.0  2.899105e+04  1.308142e+04       0.0   \n",
       "city_centers_nearest  15399.0  1.521004e+04  8.557522e+03     208.0   \n",
       "parks_around3000      20840.0  4.037908e-01  6.942865e-01       0.0   \n",
       "parks_nearest          6310.0  4.866369e+02  3.213623e+02       1.0   \n",
       "ponds_around3000      20840.0  5.115643e-01  8.143352e-01       0.0   \n",
       "ponds_nearest          7296.0  5.339952e+02  2.773295e+02      16.0   \n",
       "days_exposition       18348.0  1.707569e+02  2.083227e+02       1.0   \n",
       "\n",
       "                             25%        50%         75%         max  \n",
       "total_images                6.00        9.0       13.00        39.0  \n",
       "last_price            3300000.00  4320000.0  5800000.00  10000000.0  \n",
       "total_area                 38.70       48.0       62.00       201.5  \n",
       "rooms                       1.00        2.0        3.00         7.0  \n",
       "ceiling_height              2.55        2.7        2.70        10.3  \n",
       "floors_total                5.00        9.0       16.00        60.0  \n",
       "living_area                18.00       29.0       38.50       112.0  \n",
       "floor                       2.00        4.0        8.00        33.0  \n",
       "kitchen_area                7.00        9.0       11.00        64.0  \n",
       "balcony                     0.00        0.0        1.00         5.0  \n",
       "airports_nearest        17964.00    27199.0    37868.00     84869.0  \n",
       "city_centers_nearest    10855.00    13783.0    16802.00     65968.0  \n",
       "parks_around3000            0.00        0.0        1.00         3.0  \n",
       "parks_nearest             290.00      456.0      612.00      3190.0  \n",
       "ponds_around3000            0.00        0.0        1.00         3.0  \n",
       "ponds_nearest             318.00      522.0      743.25      1344.0  \n",
       "days_exposition            43.00       90.0      217.00      1580.0  "
      ]
     },
     "execution_count": 25,
     "metadata": {},
     "output_type": "execute_result"
    }
   ],
   "source": [
    "data = data.query('400_000 <= last_price <= 10_000_000')\n",
    "data.describe().T"
   ]
  },
  {
   "cell_type": "markdown",
   "metadata": {},
   "source": [
    "### Посчитайте и добавьте в таблицу новые столбцы"
   ]
  },
  {
   "cell_type": "markdown",
   "metadata": {},
   "source": [
    "Посчитаем столбы, связанные с датами:\n",
    "тип этажа квартиры (значения — «‎первый», «последний», «другой»);\n",
    "расстояние до центра города в километрах (переведите из м в км и округлите до целых значений)."
   ]
  },
  {
   "cell_type": "code",
   "execution_count": 26,
   "metadata": {
    "scrolled": true
   },
   "outputs": [
    {
     "data": {
      "text/html": [
       "<div>\n",
       "<style scoped>\n",
       "    .dataframe tbody tr th:only-of-type {\n",
       "        vertical-align: middle;\n",
       "    }\n",
       "\n",
       "    .dataframe tbody tr th {\n",
       "        vertical-align: top;\n",
       "    }\n",
       "\n",
       "    .dataframe thead th {\n",
       "        text-align: right;\n",
       "    }\n",
       "</style>\n",
       "<table border=\"1\" class=\"dataframe\">\n",
       "  <thead>\n",
       "    <tr style=\"text-align: right;\">\n",
       "      <th></th>\n",
       "      <th>total_images</th>\n",
       "      <th>last_price</th>\n",
       "      <th>total_area</th>\n",
       "      <th>first_day_exposition</th>\n",
       "      <th>rooms</th>\n",
       "      <th>ceiling_height</th>\n",
       "      <th>floors_total</th>\n",
       "      <th>living_area</th>\n",
       "      <th>floor</th>\n",
       "      <th>is_apartment</th>\n",
       "      <th>...</th>\n",
       "      <th>price_per_area</th>\n",
       "      <th>first_day_exposition_day_of_week</th>\n",
       "      <th>first_day_exposition_day_of_week1</th>\n",
       "      <th>first_day_exposition_month1</th>\n",
       "      <th>first_day_exposition_month</th>\n",
       "      <th>first_day_exposition_year</th>\n",
       "      <th>first_day_exposition_year1</th>\n",
       "      <th>living_total_ratio</th>\n",
       "      <th>floor_type</th>\n",
       "      <th>city_centers_nearest_km</th>\n",
       "    </tr>\n",
       "  </thead>\n",
       "  <tbody>\n",
       "    <tr>\n",
       "      <th>1</th>\n",
       "      <td>7</td>\n",
       "      <td>3350000</td>\n",
       "      <td>40.4</td>\n",
       "      <td>2018-12-04</td>\n",
       "      <td>1</td>\n",
       "      <td>2.63</td>\n",
       "      <td>11</td>\n",
       "      <td>18.6</td>\n",
       "      <td>1</td>\n",
       "      <td>False</td>\n",
       "      <td>...</td>\n",
       "      <td>82920.792079</td>\n",
       "      <td>1</td>\n",
       "      <td>1</td>\n",
       "      <td>2018-12-01</td>\n",
       "      <td>12</td>\n",
       "      <td>2018</td>\n",
       "      <td>2018-01-01</td>\n",
       "      <td>0.460396</td>\n",
       "      <td>first</td>\n",
       "      <td>19.0</td>\n",
       "    </tr>\n",
       "    <tr>\n",
       "      <th>2</th>\n",
       "      <td>10</td>\n",
       "      <td>5196000</td>\n",
       "      <td>56.0</td>\n",
       "      <td>2015-08-20</td>\n",
       "      <td>2</td>\n",
       "      <td>2.70</td>\n",
       "      <td>5</td>\n",
       "      <td>34.3</td>\n",
       "      <td>4</td>\n",
       "      <td>False</td>\n",
       "      <td>...</td>\n",
       "      <td>92785.714286</td>\n",
       "      <td>3</td>\n",
       "      <td>3</td>\n",
       "      <td>2015-08-01</td>\n",
       "      <td>8</td>\n",
       "      <td>2015</td>\n",
       "      <td>2015-01-01</td>\n",
       "      <td>0.612500</td>\n",
       "      <td>other</td>\n",
       "      <td>14.0</td>\n",
       "    </tr>\n",
       "    <tr>\n",
       "      <th>4</th>\n",
       "      <td>2</td>\n",
       "      <td>10000000</td>\n",
       "      <td>100.0</td>\n",
       "      <td>2018-06-19</td>\n",
       "      <td>2</td>\n",
       "      <td>3.03</td>\n",
       "      <td>14</td>\n",
       "      <td>32.0</td>\n",
       "      <td>13</td>\n",
       "      <td>False</td>\n",
       "      <td>...</td>\n",
       "      <td>100000.000000</td>\n",
       "      <td>1</td>\n",
       "      <td>1</td>\n",
       "      <td>2018-06-01</td>\n",
       "      <td>6</td>\n",
       "      <td>2018</td>\n",
       "      <td>2018-01-01</td>\n",
       "      <td>0.320000</td>\n",
       "      <td>other</td>\n",
       "      <td>8.0</td>\n",
       "    </tr>\n",
       "    <tr>\n",
       "      <th>5</th>\n",
       "      <td>10</td>\n",
       "      <td>2890000</td>\n",
       "      <td>30.4</td>\n",
       "      <td>2018-09-10</td>\n",
       "      <td>1</td>\n",
       "      <td>2.60</td>\n",
       "      <td>12</td>\n",
       "      <td>14.4</td>\n",
       "      <td>5</td>\n",
       "      <td>False</td>\n",
       "      <td>...</td>\n",
       "      <td>95065.789474</td>\n",
       "      <td>0</td>\n",
       "      <td>0</td>\n",
       "      <td>2018-09-01</td>\n",
       "      <td>9</td>\n",
       "      <td>2018</td>\n",
       "      <td>2018-01-01</td>\n",
       "      <td>0.473684</td>\n",
       "      <td>other</td>\n",
       "      <td>NaN</td>\n",
       "    </tr>\n",
       "    <tr>\n",
       "      <th>6</th>\n",
       "      <td>6</td>\n",
       "      <td>3700000</td>\n",
       "      <td>37.3</td>\n",
       "      <td>2017-11-02</td>\n",
       "      <td>1</td>\n",
       "      <td>2.64</td>\n",
       "      <td>26</td>\n",
       "      <td>10.6</td>\n",
       "      <td>6</td>\n",
       "      <td>False</td>\n",
       "      <td>...</td>\n",
       "      <td>99195.710456</td>\n",
       "      <td>3</td>\n",
       "      <td>3</td>\n",
       "      <td>2017-11-01</td>\n",
       "      <td>11</td>\n",
       "      <td>2017</td>\n",
       "      <td>2017-01-01</td>\n",
       "      <td>0.284182</td>\n",
       "      <td>other</td>\n",
       "      <td>19.0</td>\n",
       "    </tr>\n",
       "  </tbody>\n",
       "</table>\n",
       "<p>5 rows × 32 columns</p>\n",
       "</div>"
      ],
      "text/plain": [
       "   total_images  last_price  total_area first_day_exposition  rooms  \\\n",
       "1             7     3350000        40.4           2018-12-04      1   \n",
       "2            10     5196000        56.0           2015-08-20      2   \n",
       "4             2    10000000       100.0           2018-06-19      2   \n",
       "5            10     2890000        30.4           2018-09-10      1   \n",
       "6             6     3700000        37.3           2017-11-02      1   \n",
       "\n",
       "   ceiling_height  floors_total  living_area  floor  is_apartment  ...  \\\n",
       "1            2.63            11         18.6      1         False  ...   \n",
       "2            2.70             5         34.3      4         False  ...   \n",
       "4            3.03            14         32.0     13         False  ...   \n",
       "5            2.60            12         14.4      5         False  ...   \n",
       "6            2.64            26         10.6      6         False  ...   \n",
       "\n",
       "   price_per_area  first_day_exposition_day_of_week  \\\n",
       "1    82920.792079                                 1   \n",
       "2    92785.714286                                 3   \n",
       "4   100000.000000                                 1   \n",
       "5    95065.789474                                 0   \n",
       "6    99195.710456                                 3   \n",
       "\n",
       "   first_day_exposition_day_of_week1  first_day_exposition_month1  \\\n",
       "1                                  1                   2018-12-01   \n",
       "2                                  3                   2015-08-01   \n",
       "4                                  1                   2018-06-01   \n",
       "5                                  0                   2018-09-01   \n",
       "6                                  3                   2017-11-01   \n",
       "\n",
       "  first_day_exposition_month  first_day_exposition_year  \\\n",
       "1                         12                       2018   \n",
       "2                          8                       2015   \n",
       "4                          6                       2018   \n",
       "5                          9                       2018   \n",
       "6                         11                       2017   \n",
       "\n",
       "   first_day_exposition_year1  living_total_ratio  floor_type  \\\n",
       "1                  2018-01-01            0.460396       first   \n",
       "2                  2015-01-01            0.612500       other   \n",
       "4                  2018-01-01            0.320000       other   \n",
       "5                  2018-01-01            0.473684       other   \n",
       "6                  2017-01-01            0.284182       other   \n",
       "\n",
       "   city_centers_nearest_km  \n",
       "1                     19.0  \n",
       "2                     14.0  \n",
       "4                      8.0  \n",
       "5                      NaN  \n",
       "6                     19.0  \n",
       "\n",
       "[5 rows x 32 columns]"
      ]
     },
     "execution_count": 26,
     "metadata": {},
     "output_type": "execute_result"
    }
   ],
   "source": [
    "data['price_per_area'] = data['last_price'] / data['total_area']\n",
    "data['first_day_exposition_day_of_week'] = pd.DatetimeIndex(data['first_day_exposition']).dayofweek\n",
    "data['first_day_exposition_day_of_week1'] = data['first_day_exposition'].astype('datetime64[D]').dt.dayofweek\n",
    "data['first_day_exposition_month1'] = data['first_day_exposition'].astype('datetime64[M]')\n",
    "data['first_day_exposition_month'] = pd.DatetimeIndex(data['first_day_exposition']).month\n",
    "data['first_day_exposition_year'] = pd.DatetimeIndex(data['first_day_exposition']).year\n",
    "data['first_day_exposition_year1'] = data['first_day_exposition'].astype('datetime64[Y]')\n",
    "data['living_total_ratio'] = data['living_area'] / data['total_area']\n",
    "\n",
    "def floor_type(row):\n",
    "    floor = row['floor']\n",
    "    floors_total = row['floors_total']\n",
    "    if floor == 1:\n",
    "        return 'first'\n",
    "    elif floor == floors_total:\n",
    "        return 'last'\n",
    "    else:\n",
    "        return 'other'\n",
    "    \n",
    "data['floor_type'] = data.apply(floor_type, axis=1)\n",
    "data['city_centers_nearest_km'] = (data['city_centers_nearest'] / 1000).round()\n",
    "data['living_total_ratio'] = data['living_area'] / data['total_area']\n",
    "data.head()"
   ]
  },
  {
   "cell_type": "markdown",
   "metadata": {},
   "source": [
    "### Исследовательский анализ данных"
   ]
  },
  {
   "cell_type": "markdown",
   "metadata": {},
   "source": [
    "Построим гистограммы распределения для столбов first_day_exposition_month, first_day_exposition_month, first_day_exposition, parks_nearest, airports_nearest, floor_type, ceiling_height, floor_total, last_price, total_area, living_area, kitchen_area и days_exposition."
   ]
  },
  {
   "cell_type": "markdown",
   "metadata": {},
   "source": [
    "\n",
    "* Построим гистограмму для столбца \"first_day_exposition_month\"\n"
   ]
  },
  {
   "cell_type": "code",
   "execution_count": 27,
   "metadata": {
    "scrolled": true
   },
   "outputs": [
    {
     "data": {
      "image/png": "[encoded data removed]",
      "text/plain": [
       "<Figure size 432x288 with 1 Axes>"
      ]
     },
     "metadata": {
      "needs_background": "light"
     },
     "output_type": "display_data"
    }
   ],
   "source": [
    "\n",
    "data[\"first_day_exposition_month\"].hist();\n"
   ]
  },
  {
   "cell_type": "markdown",
   "metadata": {},
   "source": [
    "\n",
    "Вывод:\n",
    "больше всего публикаций случается в январе и декабре. В мае, июне публикаций намного меньше.\n"
   ]
  },
  {
   "cell_type": "markdown",
   "metadata": {},
   "source": [
    "\n",
    "* Построим гистограмму для столбца \"first_day_exposition_day_of_week\"\n"
   ]
  },
  {
   "cell_type": "code",
   "execution_count": 28,
   "metadata": {},
   "outputs": [
    {
     "data": {
      "image/png": "[encoded data removed]",
      "text/plain": [
       "<Figure size 432x288 with 1 Axes>"
      ]
     },
     "metadata": {
      "needs_background": "light"
     },
     "output_type": "display_data"
    }
   ],
   "source": [
    "\n",
    "data[\"first_day_exposition_day_of_week\"].hist(bins=7);\n"
   ]
  },
  {
   "cell_type": "markdown",
   "metadata": {},
   "source": [
    "\n",
    "Больше всего публикаций происходит в рабочие дни (лидирует вторник, четверг). В выходные публикаций значительно меньше, чем в будние.\n"
   ]
  },
  {
   "cell_type": "markdown",
   "metadata": {},
   "source": [
    "\n",
    "* Построим гистограмму для столбца \"parks_nearest\"\n"
   ]
  },
  {
   "cell_type": "code",
   "execution_count": 29,
   "metadata": {},
   "outputs": [
    {
     "data": {
      "image/png": "[encoded data removed]",
      "text/plain": [
       "<Figure size 432x288 with 1 Axes>"
      ]
     },
     "metadata": {
      "needs_background": "light"
     },
     "output_type": "display_data"
    }
   ],
   "source": [
    "\n",
    "data[\"parks_nearest\"].hist();\n"
   ]
  },
  {
   "cell_type": "markdown",
   "metadata": {},
   "source": [
    "Для большинства объектов парк находится в 300-600 метрах.\n"
   ]
  },
  {
   "cell_type": "markdown",
   "metadata": {},
   "source": [
    "\n",
    "* Построим гистограмму для столбца \"airports_nearest\"\n"
   ]
  },
  {
   "cell_type": "code",
   "execution_count": 30,
   "metadata": {},
   "outputs": [
    {
     "data": {
      "image/png": "[encoded data removed]",
      "text/plain": [
       "<Figure size 432x288 with 1 Axes>"
      ]
     },
     "metadata": {
      "needs_background": "light"
     },
     "output_type": "display_data"
    }
   ],
   "source": [
    "\n",
    "data[\"airports_nearest\"].hist();\n"
   ]
  },
  {
   "cell_type": "markdown",
   "metadata": {},
   "source": [
    "\n",
    "Для большинства объектов аэропорт находится в 20 км.\n"
   ]
  },
  {
   "cell_type": "markdown",
   "metadata": {},
   "source": [
    "\n",
    "* Построим гистограмму для столбца \"city_centers_nearest\"\n"
   ]
  },
  {
   "cell_type": "code",
   "execution_count": 31,
   "metadata": {},
   "outputs": [
    {
     "data": {
      "image/png": "[encoded data removed]",
      "text/plain": [
       "<Figure size 432x288 with 1 Axes>"
      ]
     },
     "metadata": {
      "needs_background": "light"
     },
     "output_type": "display_data"
    }
   ],
   "source": [
    "\n",
    "data[\"city_centers_nearest\"].hist();\n"
   ]
  },
  {
   "cell_type": "markdown",
   "metadata": {},
   "source": [
    "Большая часть объектов находится в 8-20 км от центра."
   ]
  },
  {
   "cell_type": "markdown",
   "metadata": {},
   "source": [
    "\n",
    "* Построим гистограмму для столбца \"first_day_exposition\"\n"
   ]
  },
  {
   "cell_type": "code",
   "execution_count": 32,
   "metadata": {},
   "outputs": [
    {
     "data": {
      "image/png": "[encoded data removed]",
      "text/plain": [
       "<Figure size 720x432 with 1 Axes>"
      ]
     },
     "metadata": {
      "needs_background": "light"
     },
     "output_type": "display_data"
    }
   ],
   "source": [
    "\n",
    "data[\"first_day_exposition\"].hist(figsize=(10,6), bins=10);\n"
   ]
  },
  {
   "cell_type": "markdown",
   "metadata": {},
   "source": [
    "Количество объявлений год от года увеличивалось, достигая максимальных значений во второй половине 2017 и второй половине 2018 года."
   ]
  },
  {
   "cell_type": "markdown",
   "metadata": {},
   "source": [
    "\n",
    "* Построим гистограмму для столбца \"floor_type\"\n"
   ]
  },
  {
   "cell_type": "code",
   "execution_count": 33,
   "metadata": {},
   "outputs": [
    {
     "data": {
      "image/png": "[encoded data removed]",
      "text/plain": [
       "<Figure size 432x288 with 1 Axes>"
      ]
     },
     "metadata": {
      "needs_background": "light"
     },
     "output_type": "display_data"
    }
   ],
   "source": [
    "\n",
    "data[\"floor_type\"].hist();\n"
   ]
  },
  {
   "cell_type": "markdown",
   "metadata": {},
   "source": [
    "Большая часть объектов находится ни на первом, ни на последнем этаже. Объектов на первом и последнем этаже примерно в 5 раз меньше, чем на этажах от 2 до предпоследнего."
   ]
  },
  {
   "cell_type": "markdown",
   "metadata": {},
   "source": [
    "\n",
    "* Построим гистограмму для столбца \"floor\"\n"
   ]
  },
  {
   "cell_type": "code",
   "execution_count": 34,
   "metadata": {},
   "outputs": [
    {
     "data": {
      "image/png": "[encoded data removed]",
      "text/plain": [
       "<Figure size 432x288 with 1 Axes>"
      ]
     },
     "metadata": {
      "needs_background": "light"
     },
     "output_type": "display_data"
    }
   ],
   "source": [
    "data[\"floor\"].hist(bins=20);"
   ]
  },
  {
   "cell_type": "markdown",
   "metadata": {},
   "source": [
    "Больше всего объектов расположены до 5 этажа."
   ]
  },
  {
   "cell_type": "markdown",
   "metadata": {},
   "source": [
    "\n",
    "* Построим гистограмму для столбца \"floors_total\"\n"
   ]
  },
  {
   "cell_type": "code",
   "execution_count": 35,
   "metadata": {},
   "outputs": [
    {
     "data": {
      "image/png": "[encoded data removed]",
      "text/plain": [
       "<Figure size 432x288 with 1 Axes>"
      ]
     },
     "metadata": {
      "needs_background": "light"
     },
     "output_type": "display_data"
    }
   ],
   "source": [
    "data[\"floors_total\"].hist();"
   ]
  },
  {
   "cell_type": "markdown",
   "metadata": {},
   "source": [
    "Много объявлений по объектам, расположенных в домах 5-10 этажей, есть объекты и по 60 этажей."
   ]
  },
  {
   "cell_type": "markdown",
   "metadata": {},
   "source": [
    "\n",
    "* Построим гистограмму для столбца \"ceiling_height\"\n"
   ]
  },
  {
   "cell_type": "code",
   "execution_count": 36,
   "metadata": {},
   "outputs": [
    {
     "data": {
      "image/png": "[encoded data removed]",
      "text/plain": [
       "<Figure size 432x288 with 1 Axes>"
      ]
     },
     "metadata": {
      "needs_background": "light"
     },
     "output_type": "display_data"
    }
   ],
   "source": [
    "\n",
    "data[\"ceiling_height\"].hist();\n"
   ]
  },
  {
   "cell_type": "markdown",
   "metadata": {},
   "source": [
    "Большая часть объектов имеет высоту потолков от 2,4м до 3,2м."
   ]
  },
  {
   "cell_type": "markdown",
   "metadata": {},
   "source": [
    "\n",
    "* Построим гистограмму для столбца \"rooms\"\n"
   ]
  },
  {
   "cell_type": "code",
   "execution_count": 37,
   "metadata": {},
   "outputs": [
    {
     "data": {
      "image/png": "[encoded data removed]",
      "text/plain": [
       "<Figure size 432x288 with 1 Axes>"
      ]
     },
     "metadata": {
      "needs_background": "light"
     },
     "output_type": "display_data"
    }
   ],
   "source": [
    "\n",
    "data[\"rooms\"].hist(bins=8);\n"
   ]
  },
  {
   "cell_type": "markdown",
   "metadata": {},
   "source": [
    "Больше остальных представлены однокомнатные квартиры, немного отстают двухкомнатные. Есть объекты с 0 комант (возможно, это продажа комнаты, а не квартиры)."
   ]
  },
  {
   "cell_type": "markdown",
   "metadata": {},
   "source": [
    "\n",
    "* Построим гистограмму для столбца \"last_price\"\n"
   ]
  },
  {
   "cell_type": "code",
   "execution_count": 38,
   "metadata": {},
   "outputs": [
    {
     "data": {
      "image/png": "[encoded data removed]",
      "text/plain": [
       "<Figure size 432x288 with 1 Axes>"
      ]
     },
     "metadata": {
      "needs_background": "light"
     },
     "output_type": "display_data"
    }
   ],
   "source": [
    "\n",
    "data[\"last_price\"].hist(bins=20);\n"
   ]
  },
  {
   "cell_type": "markdown",
   "metadata": {},
   "source": [
    "Большая часть объектов находится в ценовой категории ~4 млн."
   ]
  },
  {
   "cell_type": "markdown",
   "metadata": {},
   "source": [
    "\n",
    "* Построим гистограмму для столбца \"kitchen_area\"\n"
   ]
  },
  {
   "cell_type": "code",
   "execution_count": 39,
   "metadata": {},
   "outputs": [
    {
     "data": {
      "image/png": "[encoded data removed]",
      "text/plain": [
       "<Figure size 432x288 with 1 Axes>"
      ]
     },
     "metadata": {
      "needs_background": "light"
     },
     "output_type": "display_data"
    }
   ],
   "source": [
    "\n",
    "data[\"kitchen_area\"].hist(bins=10);\n"
   ]
  },
  {
   "cell_type": "markdown",
   "metadata": {},
   "source": [
    "Наиболее часто встречается площадь кухни в пределах 8-12 кв. метрах"
   ]
  },
  {
   "cell_type": "markdown",
   "metadata": {},
   "source": [
    "\n",
    "* Построим гистограмму для столбца \"living_area\"\n"
   ]
  },
  {
   "cell_type": "code",
   "execution_count": 40,
   "metadata": {},
   "outputs": [
    {
     "data": {
      "image/png": "[encoded data removed]",
      "text/plain": [
       "<Figure size 432x288 with 1 Axes>"
      ]
     },
     "metadata": {
      "needs_background": "light"
     },
     "output_type": "display_data"
    }
   ],
   "source": [
    "\n",
    "data[\"living_area\"].hist(bins=20);\n"
   ]
  },
  {
   "cell_type": "markdown",
   "metadata": {},
   "source": [
    "У большей части объектов жилая площадь небольшая: в районе 20-30 кв.м."
   ]
  },
  {
   "cell_type": "markdown",
   "metadata": {},
   "source": [
    "\n",
    "* Построим гистограмму для столбца \"total_area\"\n"
   ]
  },
  {
   "cell_type": "code",
   "execution_count": 41,
   "metadata": {},
   "outputs": [
    {
     "data": {
      "image/png": "[encoded data removed]",
      "text/plain": [
       "<Figure size 432x288 with 1 Axes>"
      ]
     },
     "metadata": {
      "needs_background": "light"
     },
     "output_type": "display_data"
    }
   ],
   "source": [
    "\n",
    "data[\"total_area\"].hist(bins=20);\n"
   ]
  },
  {
   "cell_type": "markdown",
   "metadata": {},
   "source": [
    "То же, что и о жилой площади, можно сказать и об общей площади: чаще всего она в пределах 40-50 кв.м."
   ]
  },
  {
   "cell_type": "markdown",
   "metadata": {},
   "source": [
    "Изучим, как быстро продавались квартиры (столбец days_exposition). Этот параметр показывает, сколько дней «висело» каждое объявление."
   ]
  },
  {
   "cell_type": "code",
   "execution_count": 42,
   "metadata": {
    "scrolled": true
   },
   "outputs": [
    {
     "data": {
      "image/png": "[encoded data removed]",
      "text/plain": [
       "<Figure size 432x288 with 1 Axes>"
      ]
     },
     "metadata": {
      "needs_background": "light"
     },
     "output_type": "display_data"
    }
   ],
   "source": [
    "data[\"days_exposition\"].hist(bins=50);"
   ]
  },
  {
   "cell_type": "code",
   "execution_count": 43,
   "metadata": {},
   "outputs": [
    {
     "data": {
      "text/plain": [
       "count    18348.000000\n",
       "mean       170.756922\n",
       "std        208.322656\n",
       "min          1.000000\n",
       "25%         43.000000\n",
       "50%         90.000000\n",
       "75%        217.000000\n",
       "max       1580.000000\n",
       "Name: days_exposition, dtype: float64"
      ]
     },
     "execution_count": 43,
     "metadata": {},
     "output_type": "execute_result"
    }
   ],
   "source": [
    "data[\"days_exposition\"].describe()"
   ]
  },
  {
   "cell_type": "markdown",
   "metadata": {},
   "source": [
    "Минимум объект \"висел\" 1 день, медиана - 99 дней, т.е. чуть больше 3 месяцев. Т.е. в среднем продажа занимает 3 с небольшим месяца. Есть и продажа за 1580 дней, т.е. больше 4 лет.\n",
    "Среднее - 185 дней, значительно выше медианы за счет выбросов.\n",
    "Уменьшим диапазон дней для диаграммы с 1 до 365 дн, отбрасывая чересчур долгие продажи."
   ]
  },
  {
   "cell_type": "code",
   "execution_count": 44,
   "metadata": {},
   "outputs": [
    {
     "data": {
      "image/png": "[encoded data removed]",
      "text/plain": [
       "<Figure size 432x288 with 1 Axes>"
      ]
     },
     "metadata": {
      "needs_background": "light"
     },
     "output_type": "display_data"
    }
   ],
   "source": [
    "data[\"days_exposition\"].hist(range=(0,365),bins=50);"
   ]
  },
  {
   "cell_type": "markdown",
   "metadata": {},
   "source": [
    "На этом графике видны интересные выбросы на 40-50 и 60-70 день продаж. То есть большая часть продаж происходит через 1,5 месяца и через 2 месяца после выставления на продажу."
   ]
  },
  {
   "cell_type": "code",
   "execution_count": 45,
   "metadata": {},
   "outputs": [
    {
     "data": {
      "image/png": "[encoded data removed]",
      "text/plain": [
       "<Figure size 576x576 with 1 Axes>"
      ]
     },
     "metadata": {
      "needs_background": "light"
     },
     "output_type": "display_data"
    }
   ],
   "source": [
    "data.boxplot(column='days_exposition', figsize=(8,8));"
   ]
  },
  {
   "cell_type": "markdown",
   "metadata": {},
   "source": [
    "Удалим выбивающиеся строки."
   ]
  },
  {
   "cell_type": "code",
   "execution_count": 46,
   "metadata": {},
   "outputs": [],
   "source": [
    "data = data[data['days_exposition'] < 500]"
   ]
  },
  {
   "cell_type": "markdown",
   "metadata": {},
   "source": [
    "Выясним, какие факторы больше всего влияют на общую (полную) стоимость объекта. Построим графики, которые покажут зависимость цены от указанных ниже параметров:\n",
    "  - общей площади;\n",
    "  - жилой площади;\n",
    "  - площади кухни;\n",
    "  - количество комнат;\n",
    "  - типа этажа, на котором расположена квартира (первый, последний, другой);\n",
    "  - даты размещения (день недели, месяц, год);"
   ]
  },
  {
   "cell_type": "code",
   "execution_count": 47,
   "metadata": {},
   "outputs": [
    {
     "name": "stdout",
     "output_type": "stream",
     "text": [
      "0.6695632755901225\n"
     ]
    },
    {
     "data": {
      "image/png": "[encoded data removed]",
      "text/plain": [
       "<Figure size 432x288 with 1 Axes>"
      ]
     },
     "metadata": {
      "needs_background": "light"
     },
     "output_type": "display_data"
    }
   ],
   "source": [
    "data.plot(x='last_price', y='total_area', kind='scatter', title='Диаграмма рассеяния цена - общая площадь')\n",
    "print(data['last_price'].corr(data['total_area']))"
   ]
  },
  {
   "cell_type": "markdown",
   "metadata": {},
   "source": [
    "На диаграмме видна зависимость стоимости от общей площади. Это подтверждается и значением коэффициента Пирсона."
   ]
  },
  {
   "cell_type": "code",
   "execution_count": 48,
   "metadata": {},
   "outputs": [
    {
     "name": "stdout",
     "output_type": "stream",
     "text": [
      "0.5529535111602412\n"
     ]
    },
    {
     "data": {
      "image/png": "[encoded data removed]",
      "text/plain": [
       "<Figure size 432x288 with 1 Axes>"
      ]
     },
     "metadata": {
      "needs_background": "light"
     },
     "output_type": "display_data"
    }
   ],
   "source": [
    "data.plot(x='last_price', y='living_area', kind='scatter', title='Диаграмма рассеяния цена - жилая площадь')\n",
    "print(data['last_price'].corr(data['living_area']))"
   ]
  },
  {
   "cell_type": "markdown",
   "metadata": {},
   "source": [
    "На диаграмме видна зависимость стоимости от жилой площади, но она чуть слабее зависимости от общей площади."
   ]
  },
  {
   "cell_type": "code",
   "execution_count": 49,
   "metadata": {},
   "outputs": [
    {
     "name": "stdout",
     "output_type": "stream",
     "text": [
      "0.4430290887311464\n"
     ]
    },
    {
     "data": {
      "image/png": "[encoded data removed]",
      "text/plain": [
       "<Figure size 432x288 with 1 Axes>"
      ]
     },
     "metadata": {
      "needs_background": "light"
     },
     "output_type": "display_data"
    }
   ],
   "source": [
    "data.plot(x='last_price', y='kitchen_area', kind='scatter', title='Диаграмма рассеяния цена - площадь кухни')\n",
    "print(data['last_price'].corr(data['kitchen_area']))"
   ]
  },
  {
   "cell_type": "markdown",
   "metadata": {},
   "source": [
    "Зависимость роста стоимости от роста площади кухни есть, но слабая."
   ]
  },
  {
   "cell_type": "code",
   "execution_count": 50,
   "metadata": {},
   "outputs": [
    {
     "name": "stdout",
     "output_type": "stream",
     "text": [
      "0.4382825077047646\n",
      "0.8052999073935351\n"
     ]
    },
    {
     "data": {
      "image/png": "[encoded data removed]",
      "text/plain": [
       "<Figure size 432x288 with 1 Axes>"
      ]
     },
     "metadata": {
      "needs_background": "light"
     },
     "output_type": "display_data"
    }
   ],
   "source": [
    "data.plot(x='last_price', y='rooms', kind='scatter', title='Диаграмма рассеяния цена - количество комнат')\n",
    "print(data['last_price'].corr(data['rooms']))\n",
    "print(data['total_area'].corr(data['rooms']))"
   ]
  },
  {
   "cell_type": "markdown",
   "metadata": {},
   "source": [
    "Зависимость стоимости от количества комнат есть, но слабая. Причем зависимость количества комнат и общей площади высокая."
   ]
  },
  {
   "cell_type": "code",
   "execution_count": 51,
   "metadata": {},
   "outputs": [
    {
     "data": {
      "image/png": "[encoded data removed]",
      "text/plain": [
       "<Figure size 432x288 with 1 Axes>"
      ]
     },
     "metadata": {
      "needs_background": "light"
     },
     "output_type": "display_data"
    }
   ],
   "source": [
    "data.plot(x='last_price', y='floor_type', kind='scatter', title='Диаграмма рассеяния цена - тип этажа');"
   ]
  },
  {
   "cell_type": "markdown",
   "metadata": {},
   "source": [
    "Видно, что объектов с высокой стоимостью меньше на первых и последних этажах, по сравнению с другими этажами."
   ]
  },
  {
   "cell_type": "code",
   "execution_count": 52,
   "metadata": {},
   "outputs": [
    {
     "name": "stdout",
     "output_type": "stream",
     "text": [
      "-0.009037005751063653\n"
     ]
    },
    {
     "data": {
      "image/png": "[encoded data removed]",
      "text/plain": [
       "<Figure size 432x288 with 1 Axes>"
      ]
     },
     "metadata": {
      "needs_background": "light"
     },
     "output_type": "display_data"
    }
   ],
   "source": [
    "data.plot(x='last_price', y='first_day_exposition_day_of_week', kind='scatter', title='Диаграмма рассеяния цена - день недели публикации')\n",
    "print(data['last_price'].corr(data['first_day_exposition_day_of_week']))"
   ]
  },
  {
   "cell_type": "markdown",
   "metadata": {},
   "source": [
    "День публикации не влияет на стоимость объекта."
   ]
  },
  {
   "cell_type": "code",
   "execution_count": 53,
   "metadata": {},
   "outputs": [
    {
     "name": "stdout",
     "output_type": "stream",
     "text": [
      "0.007282342272971354\n"
     ]
    },
    {
     "data": {
      "image/png": "[encoded data removed]",
      "text/plain": [
       "<Figure size 432x288 with 1 Axes>"
      ]
     },
     "metadata": {
      "needs_background": "light"
     },
     "output_type": "display_data"
    }
   ],
   "source": [
    "data.plot(x='last_price', y='first_day_exposition_month', kind='scatter', title='Диаграмма рассеяния цена - месяц публикации')\n",
    "print(data['last_price'].corr(data['first_day_exposition_month']))"
   ]
  },
  {
   "cell_type": "markdown",
   "metadata": {},
   "source": [
    "Месяц публикации также не влияет на стомость объектов."
   ]
  },
  {
   "cell_type": "code",
   "execution_count": 54,
   "metadata": {},
   "outputs": [
    {
     "name": "stdout",
     "output_type": "stream",
     "text": [
      "0.005698609919114817\n"
     ]
    },
    {
     "data": {
      "image/png": "[encoded data removed]",
      "text/plain": [
       "<Figure size 432x288 with 1 Axes>"
      ]
     },
     "metadata": {
      "needs_background": "light"
     },
     "output_type": "display_data"
    }
   ],
   "source": [
    "data.plot(x='last_price', y='first_day_exposition_year', kind='scatter', title='Диаграмма рассеяния цена - год публикации')\n",
    "print(data['last_price'].corr(data['first_day_exposition_year']))"
   ]
  },
  {
   "cell_type": "markdown",
   "metadata": {},
   "source": [
    "По годам видно, что в 2015 больше было объектов по более низкой цене (относительно выборки за 4 года), затем каждый год росла доля объектов по более выскоим ценам, а в 2019 количество объектов с более низкой ценой немного возросло. Это может говорить и об изменении стоимости квадратного метра, и об уменьшении площади продаваемых объектов."
   ]
  },
  {
   "cell_type": "code",
   "execution_count": 55,
   "metadata": {},
   "outputs": [
    {
     "data": {
      "image/png": "[encoded data removed]",
      "text/plain": [
       "<Figure size 432x288 with 1 Axes>"
      ]
     },
     "metadata": {
      "needs_background": "light"
     },
     "output_type": "display_data"
    }
   ],
   "source": [
    "data.plot(x='price_per_area', y='first_day_exposition_year', kind='scatter', title='Диаграмма рассеяния цена квадратного метра - год публикации');"
   ]
  },
  {
   "cell_type": "code",
   "execution_count": 56,
   "metadata": {},
   "outputs": [
    {
     "data": {
      "image/png": "[encoded data removed]",
      "text/plain": [
       "<Figure size 432x288 with 1 Axes>"
      ]
     },
     "metadata": {
      "needs_background": "light"
     },
     "output_type": "display_data"
    }
   ],
   "source": [
    "data.plot(x='total_area', y='first_day_exposition_year', kind='scatter', title='Диаграмма рассеяния общей площади - год публикации');"
   ]
  },
  {
   "cell_type": "markdown",
   "metadata": {},
   "source": [
    "По диаграмме видно, что цена квадратного метра действительно росла с 2015 по 2018, а в 2019 немного отскочила. При этом и общая площадь продаваемых объектов росла с 2015 по 2017, с 2018 стала понемногу снижаться."
   ]
  },
  {
   "cell_type": "markdown",
   "metadata": {},
   "source": [
    "**Вывод:**\n",
    "1. Наибольшая зависимость цены наблюдается от следующих факторов (в порядке убывания): общая площадь, жилая площадь. Площадь кухни и количество комнат имеет слабую корреляцию с ценой.\n",
    "2. На первом этаже меньше дорогих квартир, чем на последнем, а на последнем меньше, чем на других. \n",
    "3. От дня, месяца публикации зависимости нет. По годам видно, что в 2015 цена квадратного метра и площадь продаваемых квартир были ниже, затем каждый год оба параметра росли. В 2018 площадь объектов стала снижаться, в 2019 уменьшилась и цена квадратного метра по сравнению с 2018."
   ]
  },
  {
   "cell_type": "markdown",
   "metadata": {},
   "source": [
    "Посчитаем, в каких локациях наибольшее количество объявлений и среднюю цену квадратного метра в них. \n",
    "Также выделим населённые пункты с самой высокой и низкой стоимостью квадратного метра."
   ]
  },
  {
   "cell_type": "code",
   "execution_count": 57,
   "metadata": {},
   "outputs": [
    {
     "data": {
      "text/html": [
       "<div>\n",
       "<style scoped>\n",
       "    .dataframe tbody tr th:only-of-type {\n",
       "        vertical-align: middle;\n",
       "    }\n",
       "\n",
       "    .dataframe tbody tr th {\n",
       "        vertical-align: top;\n",
       "    }\n",
       "\n",
       "    .dataframe thead tr th {\n",
       "        text-align: left;\n",
       "    }\n",
       "\n",
       "    .dataframe thead tr:last-of-type th {\n",
       "        text-align: right;\n",
       "    }\n",
       "</style>\n",
       "<table border=\"1\" class=\"dataframe\">\n",
       "  <thead>\n",
       "    <tr>\n",
       "      <th></th>\n",
       "      <th>count</th>\n",
       "      <th>mean</th>\n",
       "      <th>median</th>\n",
       "    </tr>\n",
       "    <tr>\n",
       "      <th></th>\n",
       "      <th>price_per_area</th>\n",
       "      <th>price_per_area</th>\n",
       "      <th>price_per_area</th>\n",
       "    </tr>\n",
       "    <tr>\n",
       "      <th>locality_name</th>\n",
       "      <th></th>\n",
       "      <th></th>\n",
       "      <th></th>\n",
       "    </tr>\n",
       "  </thead>\n",
       "  <tbody>\n",
       "    <tr>\n",
       "      <th>Санкт-Петербург</th>\n",
       "      <td>10746</td>\n",
       "      <td>103382.997318</td>\n",
       "      <td>100042.289259</td>\n",
       "    </tr>\n",
       "    <tr>\n",
       "      <th>поселок Мурино</th>\n",
       "      <td>513</td>\n",
       "      <td>85929.958104</td>\n",
       "      <td>86272.475795</td>\n",
       "    </tr>\n",
       "    <tr>\n",
       "      <th>поселок Шушары</th>\n",
       "      <td>382</td>\n",
       "      <td>77759.695402</td>\n",
       "      <td>75837.657762</td>\n",
       "    </tr>\n",
       "    <tr>\n",
       "      <th>Всеволожск</th>\n",
       "      <td>306</td>\n",
       "      <td>66516.286759</td>\n",
       "      <td>65523.917137</td>\n",
       "    </tr>\n",
       "    <tr>\n",
       "      <th>Колпино</th>\n",
       "      <td>291</td>\n",
       "      <td>74499.000791</td>\n",
       "      <td>73529.411765</td>\n",
       "    </tr>\n",
       "    <tr>\n",
       "      <th>поселок Парголово</th>\n",
       "      <td>287</td>\n",
       "      <td>89186.224782</td>\n",
       "      <td>91250.000000</td>\n",
       "    </tr>\n",
       "    <tr>\n",
       "      <th>деревня Кудрово</th>\n",
       "      <td>264</td>\n",
       "      <td>92567.659816</td>\n",
       "      <td>91901.639344</td>\n",
       "    </tr>\n",
       "    <tr>\n",
       "      <th>Пушкин</th>\n",
       "      <td>256</td>\n",
       "      <td>98868.639245</td>\n",
       "      <td>97306.366769</td>\n",
       "    </tr>\n",
       "    <tr>\n",
       "      <th>Гатчина</th>\n",
       "      <td>243</td>\n",
       "      <td>67974.621106</td>\n",
       "      <td>67073.170732</td>\n",
       "    </tr>\n",
       "    <tr>\n",
       "      <th>Выборг</th>\n",
       "      <td>191</td>\n",
       "      <td>57117.827918</td>\n",
       "      <td>56818.181818</td>\n",
       "    </tr>\n",
       "  </tbody>\n",
       "</table>\n",
       "</div>"
      ],
      "text/plain": [
       "                           count           mean         median\n",
       "                  price_per_area price_per_area price_per_area\n",
       "locality_name                                                 \n",
       "Санкт-Петербург            10746  103382.997318  100042.289259\n",
       "поселок Мурино               513   85929.958104   86272.475795\n",
       "поселок Шушары               382   77759.695402   75837.657762\n",
       "Всеволожск                   306   66516.286759   65523.917137\n",
       "Колпино                      291   74499.000791   73529.411765\n",
       "поселок Парголово            287   89186.224782   91250.000000\n",
       "деревня Кудрово              264   92567.659816   91901.639344\n",
       "Пушкин                       256   98868.639245   97306.366769\n",
       "Гатчина                      243   67974.621106   67073.170732\n",
       "Выборг                       191   57117.827918   56818.181818"
      ]
     },
     "metadata": {},
     "output_type": "display_data"
    },
    {
     "data": {
      "text/html": [
       "<div>\n",
       "<style scoped>\n",
       "    .dataframe tbody tr th:only-of-type {\n",
       "        vertical-align: middle;\n",
       "    }\n",
       "\n",
       "    .dataframe tbody tr th {\n",
       "        vertical-align: top;\n",
       "    }\n",
       "\n",
       "    .dataframe thead tr th {\n",
       "        text-align: left;\n",
       "    }\n",
       "\n",
       "    .dataframe thead tr:last-of-type th {\n",
       "        text-align: right;\n",
       "    }\n",
       "</style>\n",
       "<table border=\"1\" class=\"dataframe\">\n",
       "  <thead>\n",
       "    <tr>\n",
       "      <th></th>\n",
       "      <th>count</th>\n",
       "      <th>mean</th>\n",
       "      <th>median</th>\n",
       "    </tr>\n",
       "    <tr>\n",
       "      <th></th>\n",
       "      <th>price_per_area</th>\n",
       "      <th>price_per_area</th>\n",
       "      <th>price_per_area</th>\n",
       "    </tr>\n",
       "    <tr>\n",
       "      <th>locality_name</th>\n",
       "      <th></th>\n",
       "      <th></th>\n",
       "      <th></th>\n",
       "    </tr>\n",
       "  </thead>\n",
       "  <tbody>\n",
       "    <tr>\n",
       "      <th>деревня Старополье</th>\n",
       "      <td>3</td>\n",
       "      <td>11206.221198</td>\n",
       "      <td>11000.000000</td>\n",
       "    </tr>\n",
       "    <tr>\n",
       "      <th>поселок станции Свирь</th>\n",
       "      <td>2</td>\n",
       "      <td>11481.481481</td>\n",
       "      <td>11481.481481</td>\n",
       "    </tr>\n",
       "    <tr>\n",
       "      <th>деревня Вахнова Кара</th>\n",
       "      <td>1</td>\n",
       "      <td>11688.311688</td>\n",
       "      <td>11688.311688</td>\n",
       "    </tr>\n",
       "    <tr>\n",
       "      <th>деревня Выскатка</th>\n",
       "      <td>2</td>\n",
       "      <td>12335.480902</td>\n",
       "      <td>12335.480902</td>\n",
       "    </tr>\n",
       "    <tr>\n",
       "      <th>поселок Совхозный</th>\n",
       "      <td>2</td>\n",
       "      <td>12629.129129</td>\n",
       "      <td>12629.129129</td>\n",
       "    </tr>\n",
       "  </tbody>\n",
       "</table>\n",
       "</div>"
      ],
      "text/plain": [
       "                               count           mean         median\n",
       "                      price_per_area price_per_area price_per_area\n",
       "locality_name                                                     \n",
       "деревня Старополье                 3   11206.221198   11000.000000\n",
       "поселок станции Свирь              2   11481.481481   11481.481481\n",
       "деревня Вахнова Кара               1   11688.311688   11688.311688\n",
       "деревня Выскатка                   2   12335.480902   12335.480902\n",
       "поселок Совхозный                  2   12629.129129   12629.129129"
      ]
     },
     "metadata": {},
     "output_type": "display_data"
    },
    {
     "data": {
      "text/html": [
       "<div>\n",
       "<style scoped>\n",
       "    .dataframe tbody tr th:only-of-type {\n",
       "        vertical-align: middle;\n",
       "    }\n",
       "\n",
       "    .dataframe tbody tr th {\n",
       "        vertical-align: top;\n",
       "    }\n",
       "\n",
       "    .dataframe thead tr th {\n",
       "        text-align: left;\n",
       "    }\n",
       "\n",
       "    .dataframe thead tr:last-of-type th {\n",
       "        text-align: right;\n",
       "    }\n",
       "</style>\n",
       "<table border=\"1\" class=\"dataframe\">\n",
       "  <thead>\n",
       "    <tr>\n",
       "      <th></th>\n",
       "      <th>count</th>\n",
       "      <th>mean</th>\n",
       "      <th>median</th>\n",
       "    </tr>\n",
       "    <tr>\n",
       "      <th></th>\n",
       "      <th>price_per_area</th>\n",
       "      <th>price_per_area</th>\n",
       "      <th>price_per_area</th>\n",
       "    </tr>\n",
       "    <tr>\n",
       "      <th>locality_name</th>\n",
       "      <th></th>\n",
       "      <th></th>\n",
       "      <th></th>\n",
       "    </tr>\n",
       "  </thead>\n",
       "  <tbody>\n",
       "    <tr>\n",
       "      <th>поселок Лисий Нос</th>\n",
       "      <td>2</td>\n",
       "      <td>113728.348730</td>\n",
       "      <td>113728.348730</td>\n",
       "    </tr>\n",
       "    <tr>\n",
       "      <th>Санкт-Петербург</th>\n",
       "      <td>10746</td>\n",
       "      <td>103382.997318</td>\n",
       "      <td>100042.289259</td>\n",
       "    </tr>\n",
       "    <tr>\n",
       "      <th>Кудрово</th>\n",
       "      <td>135</td>\n",
       "      <td>98091.907117</td>\n",
       "      <td>98571.428571</td>\n",
       "    </tr>\n",
       "    <tr>\n",
       "      <th>Пушкин</th>\n",
       "      <td>256</td>\n",
       "      <td>98868.639245</td>\n",
       "      <td>97306.366769</td>\n",
       "    </tr>\n",
       "    <tr>\n",
       "      <th>Зеленогорск</th>\n",
       "      <td>19</td>\n",
       "      <td>97674.234833</td>\n",
       "      <td>97192.224622</td>\n",
       "    </tr>\n",
       "  </tbody>\n",
       "</table>\n",
       "</div>"
      ],
      "text/plain": [
       "                           count           mean         median\n",
       "                  price_per_area price_per_area price_per_area\n",
       "locality_name                                                 \n",
       "поселок Лисий Нос              2  113728.348730  113728.348730\n",
       "Санкт-Петербург            10746  103382.997318  100042.289259\n",
       "Кудрово                      135   98091.907117   98571.428571\n",
       "Пушкин                       256   98868.639245   97306.366769\n",
       "Зеленогорск                   19   97674.234833   97192.224622"
      ]
     },
     "metadata": {},
     "output_type": "display_data"
    }
   ],
   "source": [
    "pt = pd.pivot_table(data,\n",
    "               index=['locality_name'],\n",
    "               values=['price_per_area'],\n",
    "               aggfunc=['count', 'mean', 'median'])\n",
    "# выведем данные по 10 населенным пунктам с наибольшим числом объявлений\n",
    "display(pt.sort_values(by=('count', 'price_per_area'), ascending=False).head(10))\n",
    "\n",
    "# выведем населенные пункты самые дешевые и самые дорогие\n",
    "display(pt.sort_values(by=('median', 'price_per_area')).head())\n",
    "display(pt.sort_values(by=('median', 'price_per_area'), ascending=False).head())"
   ]
  },
  {
   "cell_type": "markdown",
   "metadata": {},
   "source": [
    "Самая высокая средняя цена квадратного метра, как и ожидалось, в Санкт-Петербурге, там же больше всего объявлений о продаже. Самая низкая цена в деревне Вахнова Кара."
   ]
  },
  {
   "cell_type": "markdown",
   "metadata": {},
   "source": [
    "Выделим квартиры в Санкт-Петербурге и вычислим среднюю цену каждого километра."
   ]
  },
  {
   "cell_type": "code",
   "execution_count": 58,
   "metadata": {},
   "outputs": [
    {
     "data": {
      "text/html": [
       "<div>\n",
       "<style scoped>\n",
       "    .dataframe tbody tr th:only-of-type {\n",
       "        vertical-align: middle;\n",
       "    }\n",
       "\n",
       "    .dataframe tbody tr th {\n",
       "        vertical-align: top;\n",
       "    }\n",
       "\n",
       "    .dataframe thead tr th {\n",
       "        text-align: left;\n",
       "    }\n",
       "\n",
       "    .dataframe thead tr:last-of-type th {\n",
       "        text-align: right;\n",
       "    }\n",
       "</style>\n",
       "<table border=\"1\" class=\"dataframe\">\n",
       "  <thead>\n",
       "    <tr>\n",
       "      <th></th>\n",
       "      <th>mean</th>\n",
       "    </tr>\n",
       "    <tr>\n",
       "      <th></th>\n",
       "      <th>price_per_area</th>\n",
       "    </tr>\n",
       "    <tr>\n",
       "      <th>city_centers_nearest_km</th>\n",
       "      <th></th>\n",
       "    </tr>\n",
       "  </thead>\n",
       "  <tbody>\n",
       "    <tr>\n",
       "      <th>6.0</th>\n",
       "      <td>119135.822285</td>\n",
       "    </tr>\n",
       "    <tr>\n",
       "      <th>1.0</th>\n",
       "      <td>118707.564443</td>\n",
       "    </tr>\n",
       "    <tr>\n",
       "      <th>5.0</th>\n",
       "      <td>117062.120201</td>\n",
       "    </tr>\n",
       "    <tr>\n",
       "      <th>7.0</th>\n",
       "      <td>113700.320962</td>\n",
       "    </tr>\n",
       "    <tr>\n",
       "      <th>4.0</th>\n",
       "      <td>112434.849650</td>\n",
       "    </tr>\n",
       "    <tr>\n",
       "      <th>8.0</th>\n",
       "      <td>112088.483857</td>\n",
       "    </tr>\n",
       "    <tr>\n",
       "      <th>0.0</th>\n",
       "      <td>111429.755790</td>\n",
       "    </tr>\n",
       "    <tr>\n",
       "      <th>2.0</th>\n",
       "      <td>110549.668638</td>\n",
       "    </tr>\n",
       "    <tr>\n",
       "      <th>3.0</th>\n",
       "      <td>106452.294072</td>\n",
       "    </tr>\n",
       "    <tr>\n",
       "      <th>10.0</th>\n",
       "      <td>106093.979174</td>\n",
       "    </tr>\n",
       "    <tr>\n",
       "      <th>9.0</th>\n",
       "      <td>105055.026196</td>\n",
       "    </tr>\n",
       "    <tr>\n",
       "      <th>12.0</th>\n",
       "      <td>104686.728862</td>\n",
       "    </tr>\n",
       "    <tr>\n",
       "      <th>13.0</th>\n",
       "      <td>104559.500466</td>\n",
       "    </tr>\n",
       "    <tr>\n",
       "      <th>14.0</th>\n",
       "      <td>102284.320333</td>\n",
       "    </tr>\n",
       "    <tr>\n",
       "      <th>11.0</th>\n",
       "      <td>102051.425629</td>\n",
       "    </tr>\n",
       "    <tr>\n",
       "      <th>20.0</th>\n",
       "      <td>100824.445422</td>\n",
       "    </tr>\n",
       "    <tr>\n",
       "      <th>15.0</th>\n",
       "      <td>100531.810642</td>\n",
       "    </tr>\n",
       "    <tr>\n",
       "      <th>19.0</th>\n",
       "      <td>98171.297776</td>\n",
       "    </tr>\n",
       "    <tr>\n",
       "      <th>16.0</th>\n",
       "      <td>97741.520767</td>\n",
       "    </tr>\n",
       "    <tr>\n",
       "      <th>17.0</th>\n",
       "      <td>94831.758160</td>\n",
       "    </tr>\n",
       "    <tr>\n",
       "      <th>18.0</th>\n",
       "      <td>94618.615422</td>\n",
       "    </tr>\n",
       "    <tr>\n",
       "      <th>25.0</th>\n",
       "      <td>91531.371618</td>\n",
       "    </tr>\n",
       "    <tr>\n",
       "      <th>21.0</th>\n",
       "      <td>90944.952949</td>\n",
       "    </tr>\n",
       "    <tr>\n",
       "      <th>22.0</th>\n",
       "      <td>90123.152387</td>\n",
       "    </tr>\n",
       "    <tr>\n",
       "      <th>23.0</th>\n",
       "      <td>90012.402308</td>\n",
       "    </tr>\n",
       "    <tr>\n",
       "      <th>26.0</th>\n",
       "      <td>87832.108756</td>\n",
       "    </tr>\n",
       "    <tr>\n",
       "      <th>24.0</th>\n",
       "      <td>84566.647090</td>\n",
       "    </tr>\n",
       "    <tr>\n",
       "      <th>28.0</th>\n",
       "      <td>81161.915320</td>\n",
       "    </tr>\n",
       "    <tr>\n",
       "      <th>27.0</th>\n",
       "      <td>70312.500000</td>\n",
       "    </tr>\n",
       "    <tr>\n",
       "      <th>29.0</th>\n",
       "      <td>69715.404203</td>\n",
       "    </tr>\n",
       "  </tbody>\n",
       "</table>\n",
       "</div>"
      ],
      "text/plain": [
       "                                  mean\n",
       "                        price_per_area\n",
       "city_centers_nearest_km               \n",
       "6.0                      119135.822285\n",
       "1.0                      118707.564443\n",
       "5.0                      117062.120201\n",
       "7.0                      113700.320962\n",
       "4.0                      112434.849650\n",
       "8.0                      112088.483857\n",
       "0.0                      111429.755790\n",
       "2.0                      110549.668638\n",
       "3.0                      106452.294072\n",
       "10.0                     106093.979174\n",
       "9.0                      105055.026196\n",
       "12.0                     104686.728862\n",
       "13.0                     104559.500466\n",
       "14.0                     102284.320333\n",
       "11.0                     102051.425629\n",
       "20.0                     100824.445422\n",
       "15.0                     100531.810642\n",
       "19.0                      98171.297776\n",
       "16.0                      97741.520767\n",
       "17.0                      94831.758160\n",
       "18.0                      94618.615422\n",
       "25.0                      91531.371618\n",
       "21.0                      90944.952949\n",
       "22.0                      90123.152387\n",
       "23.0                      90012.402308\n",
       "26.0                      87832.108756\n",
       "24.0                      84566.647090\n",
       "28.0                      81161.915320\n",
       "27.0                      70312.500000\n",
       "29.0                      69715.404203"
      ]
     },
     "metadata": {},
     "output_type": "display_data"
    }
   ],
   "source": [
    "df_spb = data[(data['city_centers_nearest_km'].isna() == False) & (data['locality_name'] == 'Санкт-Петербург')]\n",
    "pt = pd.pivot_table(df_spb,\n",
    "               index=['city_centers_nearest_km'],\n",
    "               values=['price_per_area'],\n",
    "               aggfunc=['mean'])\n",
    "display(pt.sort_values(by=('mean', 'price_per_area'), ascending=False))"
   ]
  },
  {
   "cell_type": "code",
   "execution_count": 59,
   "metadata": {},
   "outputs": [
    {
     "data": {
      "image/png": "[encoded data removed]",
      "text/plain": [
       "<Figure size 432x288 with 1 Axes>"
      ]
     },
     "metadata": {
      "needs_background": "light"
     },
     "output_type": "display_data"
    }
   ],
   "source": [
    "pt.plot(title='Динамика цены от расстояния до центра');"
   ]
  },
  {
   "cell_type": "markdown",
   "metadata": {},
   "source": [
    "Прослеживается уменьшение цены квадратного метра при удалении от центра. Но при этом видно, что зависимость не линейная, это может быть обусловлено самими объектами (общая площадь, жилая площадь)."
   ]
  },
  {
   "cell_type": "markdown",
   "metadata": {},
   "source": [
    "## Общий вывод"
   ]
  },
  {
   "cell_type": "markdown",
   "metadata": {},
   "source": [
    "Были проанализированы данные сервиса Яндекс.Недвижимость — архив объявлений о продаже квартир в Санкт-Петербурге и соседних населённых пунктов с 2015 по 2019 год. По каждой квартире на продажу доступны два вида данных. Первые вписаны пользователем, вторые — получены автоматически на основе картографических данных. В частности требовалось определить параметры, которые влияют на рыночную стоимость объекта недвижимости для автоматического отслеживания аномалий и мошеннической деятельности.\n",
    "\n",
    "Данные были проверены на ошибки, аномалии, наличие дублей, пропусков и оценено их влияние на исследование:\n",
    "1. В данных много пропусков. \n",
    "Больше всего пропусков в столбцах с количеством балконов, является ли объект аппартаментами, в столбцах с высотой потолков, расстоянием до ближайшего аэророрта, парка/водоема и с количеством парков/водоемов в радиусе 3 км, значениями жилой плозади и площади кухни, сколько дней объект был выставлен на продажу.\n",
    "Там, где это было возможно, пропуски заполнены: по количеству балконов, высоте потолков, принадлежности к аппартаментам.\n",
    "Данные, в которых пропуски восстановить сложно, и они нужны для дальнейшего анализа, были удалены (например, строки с незаполненным населенным пунктом).\n",
    "2. Есть аномалии.\n",
    "Больше всего выбросов в столбах с ценой, высотой потолков и количеством дней, которое объект был выставлен на продажу. В случае с ценой явно нарушена размерность в некоторых случаях, то же есть и в столбцах с высотой потолков. Аномалии устранены или удалены строки с ними.\n",
    "3. Есть неявные дубли.\n",
    "В столбце с населенным пунктом встречаются неявные дубли, названия населенных пунктов приведены к единому виду.\n",
    "\n",
    "После предобработки данные были проанализированы на предмет зависимостей и корреляций.\n",
    "наблюдается наибольшая зависимость цены от следующих факторов: общая площадь и жилая площадь. Площадь кухни и количество комнат имеет слабую корреляцию с ценой. Также на цену влияет расположение объекта: чем ближе к центру Санкт-Петербурга, тем выше цена. Больше всего объявлений в самом Санкт-Петербурге.\n",
    "На первом этаже меньше дорогих квартир, чем на последнем, а на последнем меньше, чем на других.\n",
    "От дня, месяца публикации зависимости нет. В 2015 цена квадратного метра и площадь продаваемых квартир были ниже, затем каждый год оба параметра росли. В 2018 площадь объектов стала снижаться, в 2019 уменьшилась и цена квадратного метра по сравнению с 2018. При этом активнее всего продажи идут в декабре, январе и публилкаций больше всего в будние дни, нежели в выходные.\n",
    "\n",
    "Автоматическая система отслеживания аномалий и мошеннической деятельности должна уметь:\n",
    "1. Работать с аномальными значениями цены, в том числе опираясь на медианную стоимость квадратного метра в данной локации.\n",
    "2. Работать с дублями в названиях населенных пунктов.\n",
    "3. Отслеживать объекты, которые слишком долго находятся на продаже."
   ]
  }
 ],
 "metadata": {
  "ExecuteTimeLog": [
   {
    "duration": 587,
    "start_time": "2022-08-03T06:42:06.173Z"
   },
   {
    "duration": 127,
    "start_time": "2022-08-03T06:42:54.979Z"
   },
   {
    "duration": 129,
    "start_time": "2022-08-03T06:43:08.729Z"
   },
   {
    "duration": 16,
    "start_time": "2022-08-03T06:44:41.030Z"
   },
   {
    "duration": 2580,
    "start_time": "2022-08-03T06:45:26.270Z"
   },
   {
    "duration": 153,
    "start_time": "2022-08-03T06:55:42.332Z"
   },
   {
    "duration": 11,
    "start_time": "2022-08-03T06:58:27.046Z"
   },
   {
    "duration": 877,
    "start_time": "2022-08-04T18:13:32.965Z"
   },
   {
    "duration": 16,
    "start_time": "2022-08-04T18:13:33.844Z"
   },
   {
    "duration": 2636,
    "start_time": "2022-08-04T18:13:33.862Z"
   },
   {
    "duration": 17,
    "start_time": "2022-08-04T18:13:36.513Z"
   },
   {
    "duration": 5,
    "start_time": "2022-08-04T18:13:36.532Z"
   },
   {
    "duration": 17,
    "start_time": "2022-08-04T18:15:14.936Z"
   },
   {
    "duration": 112,
    "start_time": "2022-08-04T18:20:29.336Z"
   },
   {
    "duration": 14,
    "start_time": "2022-08-04T18:21:04.153Z"
   },
   {
    "duration": 95,
    "start_time": "2022-08-04T18:24:26.873Z"
   },
   {
    "duration": 1013,
    "start_time": "2022-08-04T18:24:36.859Z"
   },
   {
    "duration": 12,
    "start_time": "2022-08-04T18:24:47.943Z"
   },
   {
    "duration": 66,
    "start_time": "2022-08-04T18:28:39.459Z"
   },
   {
    "duration": 9,
    "start_time": "2022-08-04T18:30:09.360Z"
   },
   {
    "duration": 13,
    "start_time": "2022-08-04T18:31:08.079Z"
   },
   {
    "duration": 49,
    "start_time": "2022-08-04T18:32:12.863Z"
   },
   {
    "duration": 25,
    "start_time": "2022-08-04T18:36:35.556Z"
   },
   {
    "duration": 4,
    "start_time": "2022-08-04T18:39:11.361Z"
   },
   {
    "duration": 15,
    "start_time": "2022-08-04T18:40:41.728Z"
   },
   {
    "duration": 47,
    "start_time": "2022-08-04T18:40:45.079Z"
   },
   {
    "duration": 4,
    "start_time": "2022-08-04T18:47:57.786Z"
   },
   {
    "duration": 42,
    "start_time": "2022-08-04T18:54:07.951Z"
   },
   {
    "duration": 48,
    "start_time": "2022-08-04T18:59:39.235Z"
   },
   {
    "duration": 4,
    "start_time": "2022-08-04T19:05:30.088Z"
   },
   {
    "duration": 147,
    "start_time": "2022-08-04T19:05:42.191Z"
   },
   {
    "duration": 14,
    "start_time": "2022-08-04T19:05:42.340Z"
   },
   {
    "duration": 5,
    "start_time": "2022-08-04T19:05:42.355Z"
   },
   {
    "duration": 1962,
    "start_time": "2022-08-04T19:05:42.362Z"
   },
   {
    "duration": 10,
    "start_time": "2022-08-04T19:05:44.327Z"
   },
   {
    "duration": 6,
    "start_time": "2022-08-04T19:05:44.339Z"
   },
   {
    "duration": 15,
    "start_time": "2022-08-04T19:05:44.347Z"
   },
   {
    "duration": 62,
    "start_time": "2022-08-04T19:05:44.364Z"
   },
   {
    "duration": 5,
    "start_time": "2022-08-04T19:05:44.429Z"
   },
   {
    "duration": 52,
    "start_time": "2022-08-04T19:05:44.437Z"
   },
   {
    "duration": 37,
    "start_time": "2022-08-04T19:11:42.222Z"
   },
   {
    "duration": 4,
    "start_time": "2022-08-06T05:29:05.479Z"
   },
   {
    "duration": 3,
    "start_time": "2022-08-06T05:29:08.960Z"
   },
   {
    "duration": 99,
    "start_time": "2022-08-06T05:33:00.785Z"
   },
   {
    "duration": 40,
    "start_time": "2022-08-06T05:33:13.551Z"
   },
   {
    "duration": 735,
    "start_time": "2022-08-06T05:33:19.316Z"
   },
   {
    "duration": 13,
    "start_time": "2022-08-06T05:33:20.053Z"
   },
   {
    "duration": 4,
    "start_time": "2022-08-06T05:33:20.068Z"
   },
   {
    "duration": 2224,
    "start_time": "2022-08-06T05:33:20.074Z"
   },
   {
    "duration": 9,
    "start_time": "2022-08-06T05:33:22.300Z"
   },
   {
    "duration": 6,
    "start_time": "2022-08-06T05:33:22.310Z"
   },
   {
    "duration": 26,
    "start_time": "2022-08-06T05:33:22.317Z"
   },
   {
    "duration": 21,
    "start_time": "2022-08-06T05:33:22.344Z"
   },
   {
    "duration": 4,
    "start_time": "2022-08-06T05:33:22.366Z"
   },
   {
    "duration": 60,
    "start_time": "2022-08-06T05:33:22.372Z"
   },
   {
    "duration": 7,
    "start_time": "2022-08-06T05:33:22.433Z"
   },
   {
    "duration": 28,
    "start_time": "2022-08-06T05:33:45.540Z"
   },
   {
    "duration": 10,
    "start_time": "2022-08-06T05:34:08.912Z"
   },
   {
    "duration": 6,
    "start_time": "2022-08-06T05:36:09.085Z"
   },
   {
    "duration": 20,
    "start_time": "2022-08-06T05:42:23.738Z"
   },
   {
    "duration": 2,
    "start_time": "2022-08-06T05:44:55.693Z"
   },
   {
    "duration": 17,
    "start_time": "2022-08-06T05:45:53.385Z"
   },
   {
    "duration": 73,
    "start_time": "2022-08-06T10:48:06.352Z"
   },
   {
    "duration": 955,
    "start_time": "2022-08-06T10:48:23.913Z"
   },
   {
    "duration": 15,
    "start_time": "2022-08-06T10:48:24.870Z"
   },
   {
    "duration": 4,
    "start_time": "2022-08-06T10:48:24.886Z"
   },
   {
    "duration": 2485,
    "start_time": "2022-08-06T10:48:24.892Z"
   },
   {
    "duration": 8,
    "start_time": "2022-08-06T10:48:27.380Z"
   },
   {
    "duration": 6,
    "start_time": "2022-08-06T10:48:27.390Z"
   },
   {
    "duration": 24,
    "start_time": "2022-08-06T10:48:27.398Z"
   },
   {
    "duration": 29,
    "start_time": "2022-08-06T10:48:27.423Z"
   },
   {
    "duration": 6,
    "start_time": "2022-08-06T10:48:27.453Z"
   },
   {
    "duration": 66,
    "start_time": "2022-08-06T10:48:27.460Z"
   },
   {
    "duration": 47,
    "start_time": "2022-08-06T10:48:27.528Z"
   },
   {
    "duration": 0,
    "start_time": "2022-08-06T10:48:27.577Z"
   },
   {
    "duration": 0,
    "start_time": "2022-08-06T10:48:27.578Z"
   },
   {
    "duration": 0,
    "start_time": "2022-08-06T10:48:27.579Z"
   },
   {
    "duration": 122,
    "start_time": "2022-08-06T10:48:52.104Z"
   },
   {
    "duration": 14,
    "start_time": "2022-08-06T10:48:52.227Z"
   },
   {
    "duration": 8,
    "start_time": "2022-08-06T10:48:52.242Z"
   },
   {
    "duration": 1927,
    "start_time": "2022-08-06T10:48:52.252Z"
   },
   {
    "duration": 19,
    "start_time": "2022-08-06T10:48:54.182Z"
   },
   {
    "duration": 7,
    "start_time": "2022-08-06T10:48:54.203Z"
   },
   {
    "duration": 20,
    "start_time": "2022-08-06T10:48:54.211Z"
   },
   {
    "duration": 26,
    "start_time": "2022-08-06T10:48:54.233Z"
   },
   {
    "duration": 4,
    "start_time": "2022-08-06T10:48:54.260Z"
   },
   {
    "duration": 68,
    "start_time": "2022-08-06T10:48:54.266Z"
   },
   {
    "duration": 10,
    "start_time": "2022-08-06T10:48:54.335Z"
   },
   {
    "duration": 32,
    "start_time": "2022-08-06T10:48:54.346Z"
   },
   {
    "duration": 25,
    "start_time": "2022-08-06T10:48:54.381Z"
   },
   {
    "duration": 316,
    "start_time": "2022-08-06T10:48:54.409Z"
   },
   {
    "duration": 247,
    "start_time": "2022-08-06T10:50:23.310Z"
   },
   {
    "duration": 5,
    "start_time": "2022-08-06T10:50:33.357Z"
   },
   {
    "duration": 25,
    "start_time": "2022-08-06T10:51:02.743Z"
   },
   {
    "duration": 125,
    "start_time": "2022-08-06T10:51:37.112Z"
   },
   {
    "duration": 14,
    "start_time": "2022-08-06T10:51:37.239Z"
   },
   {
    "duration": 4,
    "start_time": "2022-08-06T10:51:37.254Z"
   },
   {
    "duration": 2028,
    "start_time": "2022-08-06T10:51:37.260Z"
   },
   {
    "duration": 15,
    "start_time": "2022-08-06T10:51:39.290Z"
   },
   {
    "duration": 17,
    "start_time": "2022-08-06T10:51:39.306Z"
   },
   {
    "duration": 16,
    "start_time": "2022-08-06T10:51:39.325Z"
   },
   {
    "duration": 26,
    "start_time": "2022-08-06T10:51:39.343Z"
   },
   {
    "duration": 32,
    "start_time": "2022-08-06T10:51:39.371Z"
   },
   {
    "duration": 51,
    "start_time": "2022-08-06T10:51:39.406Z"
   },
   {
    "duration": 8,
    "start_time": "2022-08-06T10:51:39.458Z"
   },
   {
    "duration": 38,
    "start_time": "2022-08-06T10:51:39.468Z"
   },
   {
    "duration": 9,
    "start_time": "2022-08-06T10:51:39.509Z"
   },
   {
    "duration": 247,
    "start_time": "2022-08-06T10:51:39.520Z"
   },
   {
    "duration": 34,
    "start_time": "2022-08-06T10:51:39.769Z"
   },
   {
    "duration": 117,
    "start_time": "2022-08-06T10:53:10.904Z"
   },
   {
    "duration": 13,
    "start_time": "2022-08-06T10:53:11.023Z"
   },
   {
    "duration": 19,
    "start_time": "2022-08-06T10:53:11.037Z"
   },
   {
    "duration": 1866,
    "start_time": "2022-08-06T10:53:11.057Z"
   },
   {
    "duration": 10,
    "start_time": "2022-08-06T10:53:12.925Z"
   },
   {
    "duration": 8,
    "start_time": "2022-08-06T10:53:12.936Z"
   },
   {
    "duration": 14,
    "start_time": "2022-08-06T10:53:12.945Z"
   },
   {
    "duration": 50,
    "start_time": "2022-08-06T10:53:12.961Z"
   },
   {
    "duration": 4,
    "start_time": "2022-08-06T10:53:13.013Z"
   },
   {
    "duration": 43,
    "start_time": "2022-08-06T10:53:13.019Z"
   },
   {
    "duration": 8,
    "start_time": "2022-08-06T10:53:13.064Z"
   },
   {
    "duration": 42,
    "start_time": "2022-08-06T10:53:13.074Z"
   },
   {
    "duration": 5,
    "start_time": "2022-08-06T10:53:13.118Z"
   },
   {
    "duration": 249,
    "start_time": "2022-08-06T10:53:18.484Z"
   },
   {
    "duration": 26,
    "start_time": "2022-08-06T10:53:21.442Z"
   },
   {
    "duration": 319,
    "start_time": "2022-08-06T10:59:30.787Z"
   },
   {
    "duration": 32,
    "start_time": "2022-08-06T10:59:34.737Z"
   },
   {
    "duration": 207,
    "start_time": "2022-08-06T10:59:55.335Z"
   },
   {
    "duration": 26,
    "start_time": "2022-08-06T10:59:58.181Z"
   },
   {
    "duration": 276,
    "start_time": "2022-08-06T11:01:57.345Z"
   },
   {
    "duration": 121,
    "start_time": "2022-08-06T11:20:47.133Z"
   },
   {
    "duration": 14,
    "start_time": "2022-08-06T11:20:47.256Z"
   },
   {
    "duration": 6,
    "start_time": "2022-08-06T11:20:47.272Z"
   },
   {
    "duration": 1759,
    "start_time": "2022-08-06T11:20:47.298Z"
   },
   {
    "duration": 9,
    "start_time": "2022-08-06T11:20:49.059Z"
   },
   {
    "duration": 5,
    "start_time": "2022-08-06T11:20:49.070Z"
   },
   {
    "duration": 34,
    "start_time": "2022-08-06T11:20:49.077Z"
   },
   {
    "duration": 23,
    "start_time": "2022-08-06T11:20:49.113Z"
   },
   {
    "duration": 4,
    "start_time": "2022-08-06T11:20:49.138Z"
   },
   {
    "duration": 63,
    "start_time": "2022-08-06T11:20:49.144Z"
   },
   {
    "duration": 10,
    "start_time": "2022-08-06T11:20:49.208Z"
   },
   {
    "duration": 161,
    "start_time": "2022-08-06T11:20:49.220Z"
   },
   {
    "duration": 6,
    "start_time": "2022-08-06T11:20:49.383Z"
   },
   {
    "duration": 228,
    "start_time": "2022-08-06T11:21:31.105Z"
   },
   {
    "duration": 258,
    "start_time": "2022-08-06T11:22:15.155Z"
   },
   {
    "duration": 222,
    "start_time": "2022-08-06T11:24:19.810Z"
   },
   {
    "duration": 12,
    "start_time": "2022-08-06T11:25:08.895Z"
   },
   {
    "duration": 5,
    "start_time": "2022-08-06T11:27:17.919Z"
   },
   {
    "duration": 55,
    "start_time": "2022-08-06T11:29:06.024Z"
   },
   {
    "duration": 2778,
    "start_time": "2022-08-06T11:29:16.652Z"
   },
   {
    "duration": 299,
    "start_time": "2022-08-06T11:30:17.865Z"
   },
   {
    "duration": 10,
    "start_time": "2022-08-06T11:30:56.603Z"
   },
   {
    "duration": 12,
    "start_time": "2022-08-06T11:31:08.742Z"
   },
   {
    "duration": 14,
    "start_time": "2022-08-06T11:31:49.644Z"
   },
   {
    "duration": 26,
    "start_time": "2022-08-06T11:32:07.274Z"
   },
   {
    "duration": 6,
    "start_time": "2022-08-06T11:39:31.910Z"
   },
   {
    "duration": 7,
    "start_time": "2022-08-06T11:39:59.211Z"
   },
   {
    "duration": 3,
    "start_time": "2022-08-06T11:40:38.083Z"
   },
   {
    "duration": 5,
    "start_time": "2022-08-06T11:40:47.211Z"
   },
   {
    "duration": 3,
    "start_time": "2022-08-06T11:51:25.837Z"
   },
   {
    "duration": 135,
    "start_time": "2022-08-06T11:51:30.483Z"
   },
   {
    "duration": 186,
    "start_time": "2022-08-06T11:51:50.455Z"
   },
   {
    "duration": 145,
    "start_time": "2022-08-06T11:51:55.131Z"
   },
   {
    "duration": 126,
    "start_time": "2022-08-06T11:52:07.728Z"
   },
   {
    "duration": 10,
    "start_time": "2022-08-06T11:58:45.447Z"
   },
   {
    "duration": 18,
    "start_time": "2022-08-06T11:59:16.091Z"
   },
   {
    "duration": 32,
    "start_time": "2022-08-06T11:59:41.872Z"
   },
   {
    "duration": 13,
    "start_time": "2022-08-06T12:10:43.992Z"
   },
   {
    "duration": 8,
    "start_time": "2022-08-06T12:11:35.387Z"
   },
   {
    "duration": 2699,
    "start_time": "2022-08-06T12:12:35.227Z"
   },
   {
    "duration": 250,
    "start_time": "2022-08-06T12:13:14.139Z"
   },
   {
    "duration": 5,
    "start_time": "2022-08-06T12:13:30.808Z"
   },
   {
    "duration": 226,
    "start_time": "2022-08-06T12:13:33.709Z"
   },
   {
    "duration": 362,
    "start_time": "2022-08-06T12:20:28.593Z"
   },
   {
    "duration": 188,
    "start_time": "2022-08-06T12:20:41.531Z"
   },
   {
    "duration": 225,
    "start_time": "2022-08-06T12:21:56.213Z"
   },
   {
    "duration": 16,
    "start_time": "2022-08-06T12:24:05.271Z"
   },
   {
    "duration": 136,
    "start_time": "2022-08-06T12:24:59.760Z"
   },
   {
    "duration": 14,
    "start_time": "2022-08-06T12:24:59.898Z"
   },
   {
    "duration": 4,
    "start_time": "2022-08-06T12:24:59.914Z"
   },
   {
    "duration": 1810,
    "start_time": "2022-08-06T12:24:59.920Z"
   },
   {
    "duration": 9,
    "start_time": "2022-08-06T12:25:01.732Z"
   },
   {
    "duration": 21,
    "start_time": "2022-08-06T12:25:01.743Z"
   },
   {
    "duration": 19,
    "start_time": "2022-08-06T12:25:01.765Z"
   },
   {
    "duration": 31,
    "start_time": "2022-08-06T12:25:01.787Z"
   },
   {
    "duration": 4,
    "start_time": "2022-08-06T12:25:01.820Z"
   },
   {
    "duration": 48,
    "start_time": "2022-08-06T12:25:01.826Z"
   },
   {
    "duration": 8,
    "start_time": "2022-08-06T12:25:01.875Z"
   },
   {
    "duration": 30,
    "start_time": "2022-08-06T12:25:01.884Z"
   },
   {
    "duration": 5,
    "start_time": "2022-08-06T12:25:01.916Z"
   },
   {
    "duration": 18,
    "start_time": "2022-08-06T12:25:01.922Z"
   },
   {
    "duration": 40,
    "start_time": "2022-08-06T12:25:01.942Z"
   },
   {
    "duration": 13,
    "start_time": "2022-08-06T12:26:01.397Z"
   },
   {
    "duration": 30,
    "start_time": "2022-08-06T12:26:20.273Z"
   },
   {
    "duration": 13,
    "start_time": "2022-08-06T12:26:35.297Z"
   },
   {
    "duration": 15,
    "start_time": "2022-08-06T12:26:50.858Z"
   },
   {
    "duration": 17,
    "start_time": "2022-08-06T12:28:23.778Z"
   },
   {
    "duration": 23,
    "start_time": "2022-08-06T12:28:55.327Z"
   },
   {
    "duration": 41,
    "start_time": "2022-08-06T12:29:10.808Z"
   },
   {
    "duration": 42,
    "start_time": "2022-08-06T12:34:46.310Z"
   },
   {
    "duration": 32,
    "start_time": "2022-08-06T12:36:15.102Z"
   },
   {
    "duration": 4,
    "start_time": "2022-08-06T12:39:25.599Z"
   },
   {
    "duration": 29,
    "start_time": "2022-08-06T12:39:46.684Z"
   },
   {
    "duration": 33,
    "start_time": "2022-08-06T12:43:44.219Z"
   },
   {
    "duration": 34,
    "start_time": "2022-08-06T12:44:53.828Z"
   },
   {
    "duration": 789,
    "start_time": "2022-08-07T15:46:33.734Z"
   },
   {
    "duration": 22,
    "start_time": "2022-08-07T15:46:34.526Z"
   },
   {
    "duration": 17,
    "start_time": "2022-08-07T15:46:34.551Z"
   },
   {
    "duration": 2651,
    "start_time": "2022-08-07T15:46:34.570Z"
   },
   {
    "duration": 11,
    "start_time": "2022-08-07T15:46:37.225Z"
   },
   {
    "duration": 9,
    "start_time": "2022-08-07T15:46:37.238Z"
   },
   {
    "duration": 19,
    "start_time": "2022-08-07T15:46:37.249Z"
   },
   {
    "duration": 32,
    "start_time": "2022-08-07T15:46:37.270Z"
   },
   {
    "duration": 34,
    "start_time": "2022-08-07T15:46:37.304Z"
   },
   {
    "duration": 76,
    "start_time": "2022-08-07T15:46:37.341Z"
   },
   {
    "duration": 20,
    "start_time": "2022-08-07T15:46:37.420Z"
   },
   {
    "duration": 26,
    "start_time": "2022-08-07T15:46:37.442Z"
   },
   {
    "duration": 6,
    "start_time": "2022-08-07T15:46:37.470Z"
   },
   {
    "duration": 30,
    "start_time": "2022-08-07T15:46:37.480Z"
   },
   {
    "duration": 53,
    "start_time": "2022-08-07T15:46:37.512Z"
   },
   {
    "duration": 73,
    "start_time": "2022-08-07T15:46:37.567Z"
   },
   {
    "duration": 49,
    "start_time": "2022-08-07T15:46:37.641Z"
   },
   {
    "duration": 51,
    "start_time": "2022-08-07T15:46:37.692Z"
   },
   {
    "duration": 56,
    "start_time": "2022-08-07T15:46:37.745Z"
   },
   {
    "duration": 42,
    "start_time": "2022-08-07T15:49:16.613Z"
   },
   {
    "duration": 84,
    "start_time": "2022-08-07T15:53:48.633Z"
   },
   {
    "duration": 10,
    "start_time": "2022-08-07T15:54:11.374Z"
   },
   {
    "duration": 5,
    "start_time": "2022-08-07T15:54:17.814Z"
   },
   {
    "duration": 10,
    "start_time": "2022-08-07T15:54:47.506Z"
   },
   {
    "duration": 25,
    "start_time": "2022-08-07T16:00:25.189Z"
   },
   {
    "duration": 27,
    "start_time": "2022-08-07T16:07:56.456Z"
   },
   {
    "duration": 35,
    "start_time": "2022-08-07T16:08:27.325Z"
   },
   {
    "duration": 33,
    "start_time": "2022-08-07T16:09:34.520Z"
   },
   {
    "duration": 14,
    "start_time": "2022-08-07T16:12:23.974Z"
   },
   {
    "duration": 36,
    "start_time": "2022-08-07T16:20:25.596Z"
   },
   {
    "duration": 30,
    "start_time": "2022-08-07T16:23:52.537Z"
   },
   {
    "duration": 22,
    "start_time": "2022-08-07T16:24:31.028Z"
   },
   {
    "duration": 132,
    "start_time": "2022-08-07T16:24:42.997Z"
   },
   {
    "duration": 26,
    "start_time": "2022-08-07T16:24:43.131Z"
   },
   {
    "duration": 16,
    "start_time": "2022-08-07T16:24:43.159Z"
   },
   {
    "duration": 1988,
    "start_time": "2022-08-07T16:24:43.177Z"
   },
   {
    "duration": 10,
    "start_time": "2022-08-07T16:24:45.168Z"
   },
   {
    "duration": 7,
    "start_time": "2022-08-07T16:24:45.180Z"
   },
   {
    "duration": 15,
    "start_time": "2022-08-07T16:24:45.189Z"
   },
   {
    "duration": 56,
    "start_time": "2022-08-07T16:24:45.205Z"
   },
   {
    "duration": 4,
    "start_time": "2022-08-07T16:24:45.263Z"
   },
   {
    "duration": 42,
    "start_time": "2022-08-07T16:24:45.268Z"
   },
   {
    "duration": 41,
    "start_time": "2022-08-07T16:24:45.312Z"
   },
   {
    "duration": 19,
    "start_time": "2022-08-07T16:24:45.355Z"
   },
   {
    "duration": 0,
    "start_time": "2022-08-07T16:24:45.376Z"
   },
   {
    "duration": 1,
    "start_time": "2022-08-07T16:24:45.377Z"
   },
   {
    "duration": 0,
    "start_time": "2022-08-07T16:24:45.379Z"
   },
   {
    "duration": 0,
    "start_time": "2022-08-07T16:24:45.380Z"
   },
   {
    "duration": 0,
    "start_time": "2022-08-07T16:24:45.382Z"
   },
   {
    "duration": 0,
    "start_time": "2022-08-07T16:24:45.383Z"
   },
   {
    "duration": 0,
    "start_time": "2022-08-07T16:24:45.385Z"
   },
   {
    "duration": 0,
    "start_time": "2022-08-07T16:24:45.386Z"
   },
   {
    "duration": 0,
    "start_time": "2022-08-07T16:24:45.387Z"
   },
   {
    "duration": 27,
    "start_time": "2022-08-07T16:25:32.820Z"
   },
   {
    "duration": 13,
    "start_time": "2022-08-07T16:25:40.120Z"
   },
   {
    "duration": 12,
    "start_time": "2022-08-07T16:26:20.658Z"
   },
   {
    "duration": 9,
    "start_time": "2022-08-07T16:26:34.389Z"
   },
   {
    "duration": 12,
    "start_time": "2022-08-07T16:26:37.521Z"
   },
   {
    "duration": 24,
    "start_time": "2022-08-07T16:27:15.727Z"
   },
   {
    "duration": 21,
    "start_time": "2022-08-07T16:27:26.802Z"
   },
   {
    "duration": 6,
    "start_time": "2022-08-07T16:27:27.773Z"
   },
   {
    "duration": 14,
    "start_time": "2022-08-07T16:27:30.371Z"
   },
   {
    "duration": 31,
    "start_time": "2022-08-07T16:27:33.170Z"
   },
   {
    "duration": 46,
    "start_time": "2022-08-07T16:27:36.151Z"
   },
   {
    "duration": 33,
    "start_time": "2022-08-07T16:27:42.483Z"
   },
   {
    "duration": 35,
    "start_time": "2022-08-07T16:27:44.660Z"
   },
   {
    "duration": 32,
    "start_time": "2022-08-07T16:27:46.667Z"
   },
   {
    "duration": 57,
    "start_time": "2022-08-07T16:27:53.499Z"
   },
   {
    "duration": 294,
    "start_time": "2022-08-07T16:29:05.297Z"
   },
   {
    "duration": 204,
    "start_time": "2022-08-07T16:30:19.572Z"
   },
   {
    "duration": 212,
    "start_time": "2022-08-07T16:32:40.691Z"
   },
   {
    "duration": 9,
    "start_time": "2022-08-07T16:34:51.772Z"
   },
   {
    "duration": 114,
    "start_time": "2022-08-07T16:38:35.565Z"
   },
   {
    "duration": 557,
    "start_time": "2022-08-07T16:39:41.278Z"
   },
   {
    "duration": 61,
    "start_time": "2022-08-07T16:40:18.501Z"
   },
   {
    "duration": 8,
    "start_time": "2022-08-07T16:40:50.976Z"
   },
   {
    "duration": 9,
    "start_time": "2022-08-07T16:41:06.173Z"
   },
   {
    "duration": 114,
    "start_time": "2022-08-07T16:42:15.014Z"
   },
   {
    "duration": 4,
    "start_time": "2022-08-07T16:42:34.618Z"
   },
   {
    "duration": 199,
    "start_time": "2022-08-07T16:43:01.262Z"
   },
   {
    "duration": 218,
    "start_time": "2022-08-07T16:43:06.997Z"
   },
   {
    "duration": 221,
    "start_time": "2022-08-07T16:43:45.940Z"
   },
   {
    "duration": 5,
    "start_time": "2022-08-07T16:44:13.516Z"
   },
   {
    "duration": 279,
    "start_time": "2022-08-07T16:44:23.742Z"
   },
   {
    "duration": 48,
    "start_time": "2022-08-07T16:46:05.243Z"
   },
   {
    "duration": 3,
    "start_time": "2022-08-07T16:46:14.621Z"
   },
   {
    "duration": 341,
    "start_time": "2022-08-07T16:46:45.256Z"
   },
   {
    "duration": 395,
    "start_time": "2022-08-07T16:48:20.084Z"
   },
   {
    "duration": 573,
    "start_time": "2022-08-07T16:48:32.610Z"
   },
   {
    "duration": 12,
    "start_time": "2022-08-07T16:51:16.860Z"
   },
   {
    "duration": 8,
    "start_time": "2022-08-07T16:53:16.352Z"
   },
   {
    "duration": 668,
    "start_time": "2022-08-07T16:53:23.389Z"
   },
   {
    "duration": 672,
    "start_time": "2022-08-07T16:53:39.730Z"
   },
   {
    "duration": 878,
    "start_time": "2022-08-07T16:53:48.805Z"
   },
   {
    "duration": 288,
    "start_time": "2022-08-07T16:54:38.404Z"
   },
   {
    "duration": 130,
    "start_time": "2022-08-07T16:55:34.353Z"
   },
   {
    "duration": 231,
    "start_time": "2022-08-07T16:55:47.985Z"
   },
   {
    "duration": 331,
    "start_time": "2022-08-07T16:56:02.709Z"
   },
   {
    "duration": 215,
    "start_time": "2022-08-07T16:56:13.770Z"
   },
   {
    "duration": 177,
    "start_time": "2022-08-07T16:57:49.369Z"
   },
   {
    "duration": 9,
    "start_time": "2022-08-07T16:59:05.050Z"
   },
   {
    "duration": 108,
    "start_time": "2022-08-07T17:00:05.810Z"
   },
   {
    "duration": 116,
    "start_time": "2022-08-07T17:00:26.565Z"
   },
   {
    "duration": 122,
    "start_time": "2022-08-07T17:00:36.775Z"
   },
   {
    "duration": 10,
    "start_time": "2022-08-07T17:00:45.533Z"
   },
   {
    "duration": 46,
    "start_time": "2022-08-07T17:01:29.371Z"
   },
   {
    "duration": 5,
    "start_time": "2022-08-07T17:01:34.117Z"
   },
   {
    "duration": 5,
    "start_time": "2022-08-07T17:01:55.959Z"
   },
   {
    "duration": 10,
    "start_time": "2022-08-07T17:02:14.417Z"
   },
   {
    "duration": 11,
    "start_time": "2022-08-07T17:02:23.974Z"
   },
   {
    "duration": 108,
    "start_time": "2022-08-07T17:04:38.123Z"
   },
   {
    "duration": 116,
    "start_time": "2022-08-07T17:05:02.665Z"
   },
   {
    "duration": 115,
    "start_time": "2022-08-07T17:05:14.466Z"
   },
   {
    "duration": 99,
    "start_time": "2022-08-07T17:05:26.914Z"
   },
   {
    "duration": 103,
    "start_time": "2022-08-07T17:05:42.084Z"
   },
   {
    "duration": 106,
    "start_time": "2022-08-07T17:05:55.391Z"
   },
   {
    "duration": 329,
    "start_time": "2022-08-07T18:51:06.640Z"
   },
   {
    "duration": 271,
    "start_time": "2022-08-07T18:51:49.062Z"
   },
   {
    "duration": 49,
    "start_time": "2022-08-07T18:52:45.218Z"
   },
   {
    "duration": 47,
    "start_time": "2022-08-07T18:53:42.652Z"
   },
   {
    "duration": 9,
    "start_time": "2022-08-07T18:54:41.638Z"
   },
   {
    "duration": 253,
    "start_time": "2022-08-07T18:55:12.561Z"
   },
   {
    "duration": 458,
    "start_time": "2022-08-07T18:55:29.090Z"
   },
   {
    "duration": 42,
    "start_time": "2022-08-07T19:07:23.285Z"
   },
   {
    "duration": 10,
    "start_time": "2022-08-07T19:08:04.270Z"
   },
   {
    "duration": 6,
    "start_time": "2022-08-07T19:08:14.229Z"
   },
   {
    "duration": 14,
    "start_time": "2022-08-07T19:09:37.819Z"
   },
   {
    "duration": 18,
    "start_time": "2022-08-07T19:10:07.693Z"
   },
   {
    "duration": 34,
    "start_time": "2022-08-07T19:10:22.925Z"
   },
   {
    "duration": 230,
    "start_time": "2022-08-07T19:11:22.037Z"
   },
   {
    "duration": 5,
    "start_time": "2022-08-07T19:11:56.299Z"
   },
   {
    "duration": 35,
    "start_time": "2022-08-07T19:12:08.498Z"
   },
   {
    "duration": 37,
    "start_time": "2022-08-07T19:13:15.961Z"
   },
   {
    "duration": 113,
    "start_time": "2022-08-07T19:13:29.990Z"
   },
   {
    "duration": 14,
    "start_time": "2022-08-07T19:13:30.105Z"
   },
   {
    "duration": 18,
    "start_time": "2022-08-07T19:13:30.121Z"
   },
   {
    "duration": 1770,
    "start_time": "2022-08-07T19:13:30.142Z"
   },
   {
    "duration": 9,
    "start_time": "2022-08-07T19:13:31.913Z"
   },
   {
    "duration": 6,
    "start_time": "2022-08-07T19:13:31.938Z"
   },
   {
    "duration": 14,
    "start_time": "2022-08-07T19:13:31.946Z"
   },
   {
    "duration": 23,
    "start_time": "2022-08-07T19:13:31.961Z"
   },
   {
    "duration": 4,
    "start_time": "2022-08-07T19:13:31.986Z"
   },
   {
    "duration": 9,
    "start_time": "2022-08-07T19:13:31.992Z"
   },
   {
    "duration": 40,
    "start_time": "2022-08-07T19:13:32.002Z"
   },
   {
    "duration": 11,
    "start_time": "2022-08-07T19:13:32.044Z"
   },
   {
    "duration": 25,
    "start_time": "2022-08-07T19:13:32.057Z"
   },
   {
    "duration": 5,
    "start_time": "2022-08-07T19:13:32.084Z"
   },
   {
    "duration": 18,
    "start_time": "2022-08-07T19:13:32.091Z"
   },
   {
    "duration": 55,
    "start_time": "2022-08-07T19:13:32.110Z"
   },
   {
    "duration": 13,
    "start_time": "2022-08-07T19:13:32.167Z"
   },
   {
    "duration": 222,
    "start_time": "2022-08-07T19:13:32.181Z"
   },
   {
    "duration": 35,
    "start_time": "2022-08-07T19:14:02.016Z"
   },
   {
    "duration": 112,
    "start_time": "2022-08-07T19:14:09.287Z"
   },
   {
    "duration": 231,
    "start_time": "2022-08-07T19:14:20.459Z"
   },
   {
    "duration": 47,
    "start_time": "2022-08-07T19:14:28.507Z"
   },
   {
    "duration": 148,
    "start_time": "2022-08-07T19:15:08.831Z"
   },
   {
    "duration": 33,
    "start_time": "2022-08-07T19:16:43.317Z"
   },
   {
    "duration": 33,
    "start_time": "2022-08-07T19:18:14.826Z"
   },
   {
    "duration": 114,
    "start_time": "2022-08-07T19:18:27.311Z"
   },
   {
    "duration": 275,
    "start_time": "2022-08-07T19:19:07.289Z"
   },
   {
    "duration": 116,
    "start_time": "2022-08-07T19:19:39.267Z"
   },
   {
    "duration": 120,
    "start_time": "2022-08-07T19:19:56.741Z"
   },
   {
    "duration": 106,
    "start_time": "2022-08-07T19:20:26.465Z"
   },
   {
    "duration": 115,
    "start_time": "2022-08-07T19:20:53.396Z"
   },
   {
    "duration": 115,
    "start_time": "2022-08-07T19:22:57.531Z"
   },
   {
    "duration": 33,
    "start_time": "2022-08-07T19:23:07.279Z"
   },
   {
    "duration": 34,
    "start_time": "2022-08-07T19:23:26.195Z"
   },
   {
    "duration": 113,
    "start_time": "2022-08-07T19:25:47.977Z"
   },
   {
    "duration": 33,
    "start_time": "2022-08-07T19:26:45.483Z"
   },
   {
    "duration": 120,
    "start_time": "2022-08-07T19:27:42.693Z"
   },
   {
    "duration": 32,
    "start_time": "2022-08-07T19:27:49.109Z"
   },
   {
    "duration": 1012,
    "start_time": "2022-08-08T16:59:32.589Z"
   },
   {
    "duration": 16,
    "start_time": "2022-08-08T16:59:33.603Z"
   },
   {
    "duration": 4,
    "start_time": "2022-08-08T16:59:33.621Z"
   },
   {
    "duration": 2110,
    "start_time": "2022-08-08T16:59:33.627Z"
   },
   {
    "duration": 10,
    "start_time": "2022-08-08T16:59:35.739Z"
   },
   {
    "duration": 8,
    "start_time": "2022-08-08T16:59:35.751Z"
   },
   {
    "duration": 34,
    "start_time": "2022-08-08T16:59:35.761Z"
   },
   {
    "duration": 31,
    "start_time": "2022-08-08T16:59:35.797Z"
   },
   {
    "duration": 13,
    "start_time": "2022-08-08T16:59:35.829Z"
   },
   {
    "duration": 27,
    "start_time": "2022-08-08T16:59:35.845Z"
   },
   {
    "duration": 13,
    "start_time": "2022-08-08T16:59:35.878Z"
   },
   {
    "duration": 12,
    "start_time": "2022-08-08T16:59:35.892Z"
   },
   {
    "duration": 20,
    "start_time": "2022-08-08T16:59:35.906Z"
   },
   {
    "duration": 6,
    "start_time": "2022-08-08T16:59:35.927Z"
   },
   {
    "duration": 25,
    "start_time": "2022-08-08T16:59:35.935Z"
   },
   {
    "duration": 35,
    "start_time": "2022-08-08T16:59:35.968Z"
   },
   {
    "duration": 13,
    "start_time": "2022-08-08T16:59:36.005Z"
   },
   {
    "duration": 220,
    "start_time": "2022-08-08T16:59:36.019Z"
   },
   {
    "duration": 21,
    "start_time": "2022-08-08T16:59:36.240Z"
   },
   {
    "duration": 42,
    "start_time": "2022-08-08T16:59:36.265Z"
   },
   {
    "duration": 40,
    "start_time": "2022-08-08T16:59:36.309Z"
   },
   {
    "duration": 235,
    "start_time": "2022-08-08T16:59:36.351Z"
   },
   {
    "duration": 208,
    "start_time": "2022-08-08T17:00:50.673Z"
   },
   {
    "duration": 17,
    "start_time": "2022-08-08T17:02:32.742Z"
   },
   {
    "duration": 12,
    "start_time": "2022-08-08T18:06:53.706Z"
   },
   {
    "duration": 13,
    "start_time": "2022-08-08T18:07:09.766Z"
   },
   {
    "duration": 13,
    "start_time": "2022-08-08T18:07:24.533Z"
   },
   {
    "duration": 13,
    "start_time": "2022-08-08T18:08:25.536Z"
   },
   {
    "duration": 201,
    "start_time": "2022-08-08T18:09:36.481Z"
   },
   {
    "duration": 239,
    "start_time": "2022-08-08T18:10:11.399Z"
   },
   {
    "duration": 112,
    "start_time": "2022-08-08T18:10:26.658Z"
   },
   {
    "duration": 86,
    "start_time": "2022-08-08T18:11:29.441Z"
   },
   {
    "duration": 26,
    "start_time": "2022-08-08T18:13:52.373Z"
   },
   {
    "duration": 72,
    "start_time": "2022-08-08T18:14:15.657Z"
   },
   {
    "duration": 106,
    "start_time": "2022-08-08T18:14:56.350Z"
   },
   {
    "duration": 13,
    "start_time": "2022-08-08T18:19:05.486Z"
   },
   {
    "duration": 8,
    "start_time": "2022-08-08T18:19:20.561Z"
   },
   {
    "duration": 7,
    "start_time": "2022-08-08T18:20:07.492Z"
   },
   {
    "duration": 6,
    "start_time": "2022-08-08T18:20:16.493Z"
   },
   {
    "duration": 6,
    "start_time": "2022-08-08T18:20:23.043Z"
   },
   {
    "duration": 6,
    "start_time": "2022-08-08T18:20:28.759Z"
   },
   {
    "duration": 6,
    "start_time": "2022-08-08T18:20:36.007Z"
   },
   {
    "duration": 106,
    "start_time": "2022-08-08T18:21:00.927Z"
   },
   {
    "duration": 154,
    "start_time": "2022-08-08T18:21:31.454Z"
   },
   {
    "duration": 80,
    "start_time": "2022-08-08T18:22:04.636Z"
   },
   {
    "duration": 7,
    "start_time": "2022-08-08T18:22:32.738Z"
   },
   {
    "duration": 74,
    "start_time": "2022-08-08T18:23:30.128Z"
   },
   {
    "duration": 1145,
    "start_time": "2022-08-09T05:48:59.266Z"
   },
   {
    "duration": 18,
    "start_time": "2022-08-09T05:49:00.413Z"
   },
   {
    "duration": 6,
    "start_time": "2022-08-09T05:49:00.432Z"
   },
   {
    "duration": 1864,
    "start_time": "2022-08-09T05:49:00.441Z"
   },
   {
    "duration": 9,
    "start_time": "2022-08-09T05:49:02.307Z"
   },
   {
    "duration": 16,
    "start_time": "2022-08-09T05:49:02.317Z"
   },
   {
    "duration": 16,
    "start_time": "2022-08-09T05:49:02.334Z"
   },
   {
    "duration": 26,
    "start_time": "2022-08-09T05:49:02.351Z"
   },
   {
    "duration": 4,
    "start_time": "2022-08-09T05:49:02.378Z"
   },
   {
    "duration": 22,
    "start_time": "2022-08-09T05:49:02.385Z"
   },
   {
    "duration": 7,
    "start_time": "2022-08-09T05:49:02.409Z"
   },
   {
    "duration": 12,
    "start_time": "2022-08-09T05:49:02.417Z"
   },
   {
    "duration": 21,
    "start_time": "2022-08-09T05:49:02.431Z"
   },
   {
    "duration": 8,
    "start_time": "2022-08-09T05:49:02.454Z"
   },
   {
    "duration": 45,
    "start_time": "2022-08-09T05:49:02.464Z"
   },
   {
    "duration": 40,
    "start_time": "2022-08-09T05:49:02.511Z"
   },
   {
    "duration": 14,
    "start_time": "2022-08-09T05:49:02.552Z"
   },
   {
    "duration": 117,
    "start_time": "2022-08-09T05:49:02.568Z"
   },
   {
    "duration": 34,
    "start_time": "2022-08-09T05:49:02.686Z"
   },
   {
    "duration": 30,
    "start_time": "2022-08-09T05:49:02.722Z"
   },
   {
    "duration": 89,
    "start_time": "2022-08-09T05:49:02.754Z"
   },
   {
    "duration": 30,
    "start_time": "2022-08-09T05:49:02.845Z"
   },
   {
    "duration": 46,
    "start_time": "2022-08-09T05:49:02.877Z"
   },
   {
    "duration": 221,
    "start_time": "2022-08-09T05:49:02.924Z"
   },
   {
    "duration": 177,
    "start_time": "2022-08-09T05:50:02.146Z"
   },
   {
    "duration": 9,
    "start_time": "2022-08-09T05:50:49.287Z"
   },
   {
    "duration": 207,
    "start_time": "2022-08-09T05:50:54.274Z"
   },
   {
    "duration": 122,
    "start_time": "2022-08-09T05:51:13.462Z"
   },
   {
    "duration": 7,
    "start_time": "2022-08-09T05:51:54.293Z"
   },
   {
    "duration": 181,
    "start_time": "2022-08-09T05:51:58.943Z"
   },
   {
    "duration": 28,
    "start_time": "2022-08-09T05:54:36.502Z"
   },
   {
    "duration": 28,
    "start_time": "2022-08-09T05:54:49.818Z"
   },
   {
    "duration": 7,
    "start_time": "2022-08-09T05:56:13.754Z"
   },
   {
    "duration": 110,
    "start_time": "2022-08-09T05:56:33.023Z"
   },
   {
    "duration": 108,
    "start_time": "2022-08-09T05:57:32.346Z"
   },
   {
    "duration": 127,
    "start_time": "2022-08-09T05:58:12.962Z"
   },
   {
    "duration": 30,
    "start_time": "2022-08-09T06:00:06.917Z"
   },
   {
    "duration": 9,
    "start_time": "2022-08-09T06:00:30.685Z"
   },
   {
    "duration": 128,
    "start_time": "2022-08-09T06:00:47.127Z"
   },
   {
    "duration": 72,
    "start_time": "2022-08-09T06:01:35.529Z"
   },
   {
    "duration": 67,
    "start_time": "2022-08-09T06:01:59.997Z"
   },
   {
    "duration": 71,
    "start_time": "2022-08-09T06:07:45.862Z"
   },
   {
    "duration": 123,
    "start_time": "2022-08-09T06:07:58.167Z"
   },
   {
    "duration": 16,
    "start_time": "2022-08-09T06:07:58.292Z"
   },
   {
    "duration": 6,
    "start_time": "2022-08-09T06:07:58.310Z"
   },
   {
    "duration": 1914,
    "start_time": "2022-08-09T06:07:58.318Z"
   },
   {
    "duration": 10,
    "start_time": "2022-08-09T06:08:00.234Z"
   },
   {
    "duration": 7,
    "start_time": "2022-08-09T06:08:00.247Z"
   },
   {
    "duration": 42,
    "start_time": "2022-08-09T06:08:00.256Z"
   },
   {
    "duration": 24,
    "start_time": "2022-08-09T06:08:00.301Z"
   },
   {
    "duration": 4,
    "start_time": "2022-08-09T06:08:00.326Z"
   },
   {
    "duration": 21,
    "start_time": "2022-08-09T06:08:00.333Z"
   },
   {
    "duration": 14,
    "start_time": "2022-08-09T06:08:00.355Z"
   },
   {
    "duration": 21,
    "start_time": "2022-08-09T06:08:00.371Z"
   },
   {
    "duration": 21,
    "start_time": "2022-08-09T06:08:00.399Z"
   },
   {
    "duration": 6,
    "start_time": "2022-08-09T06:08:00.422Z"
   },
   {
    "duration": 35,
    "start_time": "2022-08-09T06:08:00.430Z"
   },
   {
    "duration": 123,
    "start_time": "2022-08-09T06:16:54.880Z"
   },
   {
    "duration": 13,
    "start_time": "2022-08-09T06:16:59.472Z"
   },
   {
    "duration": 4,
    "start_time": "2022-08-09T06:17:02.849Z"
   },
   {
    "duration": 1957,
    "start_time": "2022-08-09T06:17:04.087Z"
   },
   {
    "duration": 10,
    "start_time": "2022-08-09T06:17:19.627Z"
   },
   {
    "duration": 6,
    "start_time": "2022-08-09T06:17:21.382Z"
   },
   {
    "duration": 15,
    "start_time": "2022-08-09T06:17:22.345Z"
   },
   {
    "duration": 24,
    "start_time": "2022-08-09T06:17:25.481Z"
   },
   {
    "duration": 4,
    "start_time": "2022-08-09T06:17:27.259Z"
   },
   {
    "duration": 8,
    "start_time": "2022-08-09T06:17:29.446Z"
   },
   {
    "duration": 7,
    "start_time": "2022-08-09T06:17:32.306Z"
   },
   {
    "duration": 12,
    "start_time": "2022-08-09T06:17:41.446Z"
   },
   {
    "duration": 19,
    "start_time": "2022-08-09T06:17:44.770Z"
   },
   {
    "duration": 6,
    "start_time": "2022-08-09T06:17:46.526Z"
   },
   {
    "duration": 14,
    "start_time": "2022-08-09T06:17:49.171Z"
   },
   {
    "duration": 65,
    "start_time": "2022-08-09T06:18:03.066Z"
   },
   {
    "duration": 27,
    "start_time": "2022-08-09T06:26:08.661Z"
   },
   {
    "duration": 19,
    "start_time": "2022-08-09T06:26:39.994Z"
   },
   {
    "duration": 25,
    "start_time": "2022-08-09T06:27:01.405Z"
   },
   {
    "duration": 27,
    "start_time": "2022-08-09T06:27:33.915Z"
   },
   {
    "duration": 33,
    "start_time": "2022-08-09T06:27:39.665Z"
   },
   {
    "duration": 116,
    "start_time": "2022-08-09T06:34:03.223Z"
   },
   {
    "duration": 5,
    "start_time": "2022-08-09T06:34:16.237Z"
   },
   {
    "duration": 10,
    "start_time": "2022-08-09T06:34:31.454Z"
   },
   {
    "duration": 7,
    "start_time": "2022-08-09T06:34:39.747Z"
   },
   {
    "duration": 8,
    "start_time": "2022-08-09T06:34:53.177Z"
   },
   {
    "duration": 17,
    "start_time": "2022-08-09T06:36:11.705Z"
   },
   {
    "duration": 33,
    "start_time": "2022-08-09T06:36:21.067Z"
   },
   {
    "duration": 100,
    "start_time": "2022-08-09T06:38:13.005Z"
   },
   {
    "duration": 26,
    "start_time": "2022-08-09T06:38:26.463Z"
   },
   {
    "duration": 6,
    "start_time": "2022-08-09T06:38:32.957Z"
   },
   {
    "duration": 9,
    "start_time": "2022-08-09T06:38:35.951Z"
   },
   {
    "duration": 6,
    "start_time": "2022-08-09T06:38:57.000Z"
   },
   {
    "duration": 708,
    "start_time": "2022-08-09T16:50:01.633Z"
   },
   {
    "duration": 27,
    "start_time": "2022-08-09T16:56:11.387Z"
   },
   {
    "duration": 31,
    "start_time": "2022-08-09T16:56:20.227Z"
   },
   {
    "duration": 809,
    "start_time": "2022-08-11T11:12:33.354Z"
   },
   {
    "duration": 384,
    "start_time": "2022-08-11T11:12:34.166Z"
   },
   {
    "duration": 16,
    "start_time": "2022-08-11T11:12:34.552Z"
   },
   {
    "duration": 5,
    "start_time": "2022-08-11T11:12:34.571Z"
   },
   {
    "duration": 2192,
    "start_time": "2022-08-11T11:12:34.577Z"
   },
   {
    "duration": 10,
    "start_time": "2022-08-11T11:12:36.771Z"
   },
   {
    "duration": 30,
    "start_time": "2022-08-11T11:12:36.783Z"
   },
   {
    "duration": 24,
    "start_time": "2022-08-11T11:12:36.816Z"
   },
   {
    "duration": 36,
    "start_time": "2022-08-11T11:12:36.842Z"
   },
   {
    "duration": 4,
    "start_time": "2022-08-11T11:12:36.882Z"
   },
   {
    "duration": 30,
    "start_time": "2022-08-11T11:12:36.888Z"
   },
   {
    "duration": 15,
    "start_time": "2022-08-11T11:12:36.920Z"
   },
   {
    "duration": 30,
    "start_time": "2022-08-11T11:12:36.936Z"
   },
   {
    "duration": 23,
    "start_time": "2022-08-11T11:12:36.968Z"
   },
   {
    "duration": 6,
    "start_time": "2022-08-11T11:12:36.993Z"
   },
   {
    "duration": 34,
    "start_time": "2022-08-11T11:12:37.000Z"
   },
   {
    "duration": 91,
    "start_time": "2022-08-11T11:12:37.035Z"
   },
   {
    "duration": 32,
    "start_time": "2022-08-11T11:12:37.128Z"
   },
   {
    "duration": 19,
    "start_time": "2022-08-11T11:12:37.161Z"
   },
   {
    "duration": 141,
    "start_time": "2022-08-11T11:12:37.182Z"
   },
   {
    "duration": 30,
    "start_time": "2022-08-11T11:12:37.326Z"
   },
   {
    "duration": 5,
    "start_time": "2022-08-11T11:12:37.357Z"
   },
   {
    "duration": 12,
    "start_time": "2022-08-11T11:12:37.364Z"
   },
   {
    "duration": 94,
    "start_time": "2022-08-11T11:12:37.378Z"
   },
   {
    "duration": 224,
    "start_time": "2022-08-11T11:12:37.474Z"
   },
   {
    "duration": 138,
    "start_time": "2022-08-11T11:12:37.702Z"
   },
   {
    "duration": 137,
    "start_time": "2022-08-11T11:12:37.842Z"
   },
   {
    "duration": 165,
    "start_time": "2022-08-11T11:12:37.983Z"
   },
   {
    "duration": 208,
    "start_time": "2022-08-11T11:12:38.150Z"
   },
   {
    "duration": 170,
    "start_time": "2022-08-11T11:12:38.359Z"
   },
   {
    "duration": 294,
    "start_time": "2022-08-11T11:12:38.531Z"
   },
   {
    "duration": 149,
    "start_time": "2022-08-11T11:12:38.827Z"
   },
   {
    "duration": 195,
    "start_time": "2022-08-11T11:12:38.979Z"
   },
   {
    "duration": 144,
    "start_time": "2022-08-11T11:12:39.176Z"
   },
   {
    "duration": 159,
    "start_time": "2022-08-11T11:12:39.321Z"
   },
   {
    "duration": 141,
    "start_time": "2022-08-11T11:12:39.482Z"
   },
   {
    "duration": 179,
    "start_time": "2022-08-11T11:12:39.625Z"
   },
   {
    "duration": 157,
    "start_time": "2022-08-11T11:12:39.806Z"
   },
   {
    "duration": 158,
    "start_time": "2022-08-11T11:12:39.965Z"
   },
   {
    "duration": 300,
    "start_time": "2022-08-11T11:12:40.125Z"
   },
   {
    "duration": 219,
    "start_time": "2022-08-11T11:12:40.427Z"
   },
   {
    "duration": 10,
    "start_time": "2022-08-11T11:12:40.649Z"
   },
   {
    "duration": 180,
    "start_time": "2022-08-11T11:12:40.661Z"
   },
   {
    "duration": 7,
    "start_time": "2022-08-11T11:12:40.843Z"
   },
   {
    "duration": 192,
    "start_time": "2022-08-11T11:12:40.851Z"
   },
   {
    "duration": 189,
    "start_time": "2022-08-11T11:12:41.044Z"
   },
   {
    "duration": 196,
    "start_time": "2022-08-11T11:12:41.235Z"
   },
   {
    "duration": 187,
    "start_time": "2022-08-11T11:12:41.433Z"
   },
   {
    "duration": 166,
    "start_time": "2022-08-11T11:12:41.622Z"
   },
   {
    "duration": 179,
    "start_time": "2022-08-11T11:12:41.789Z"
   },
   {
    "duration": 178,
    "start_time": "2022-08-11T11:12:41.969Z"
   },
   {
    "duration": 190,
    "start_time": "2022-08-11T11:12:42.149Z"
   },
   {
    "duration": 36,
    "start_time": "2022-08-11T11:12:42.341Z"
   },
   {
    "duration": 37,
    "start_time": "2022-08-11T11:12:42.378Z"
   },
   {
    "duration": 804,
    "start_time": "2022-08-15T11:05:29.823Z"
   },
   {
    "duration": 372,
    "start_time": "2022-08-15T11:05:30.629Z"
   },
   {
    "duration": 21,
    "start_time": "2022-08-15T11:05:31.003Z"
   },
   {
    "duration": 35,
    "start_time": "2022-08-15T11:05:31.026Z"
   },
   {
    "duration": 1885,
    "start_time": "2022-08-15T11:05:31.062Z"
   },
   {
    "duration": 48,
    "start_time": "2022-08-15T11:05:32.948Z"
   },
   {
    "duration": 5,
    "start_time": "2022-08-15T11:05:32.998Z"
   },
   {
    "duration": 32,
    "start_time": "2022-08-15T11:05:33.004Z"
   },
   {
    "duration": 23,
    "start_time": "2022-08-15T11:05:33.037Z"
   },
   {
    "duration": 3,
    "start_time": "2022-08-15T11:05:33.063Z"
   },
   {
    "duration": 14,
    "start_time": "2022-08-15T11:05:33.068Z"
   },
   {
    "duration": 1207,
    "start_time": "2022-08-15T11:05:33.083Z"
   },
   {
    "duration": 6,
    "start_time": "2022-08-15T11:05:34.291Z"
   },
   {
    "duration": 23,
    "start_time": "2022-08-15T11:05:34.298Z"
   },
   {
    "duration": 23,
    "start_time": "2022-08-15T11:05:34.323Z"
   },
   {
    "duration": 5,
    "start_time": "2022-08-15T11:05:34.348Z"
   },
   {
    "duration": 15,
    "start_time": "2022-08-15T11:05:34.355Z"
   },
   {
    "duration": 82,
    "start_time": "2022-08-15T11:05:34.372Z"
   },
   {
    "duration": 24,
    "start_time": "2022-08-15T11:05:34.455Z"
   },
   {
    "duration": 36,
    "start_time": "2022-08-15T11:05:34.481Z"
   },
   {
    "duration": 130,
    "start_time": "2022-08-15T11:05:34.519Z"
   },
   {
    "duration": 24,
    "start_time": "2022-08-15T11:05:34.651Z"
   },
   {
    "duration": 5,
    "start_time": "2022-08-15T11:05:34.677Z"
   },
   {
    "duration": 9,
    "start_time": "2022-08-15T11:05:34.683Z"
   },
   {
    "duration": 81,
    "start_time": "2022-08-15T11:05:34.693Z"
   },
   {
    "duration": 486,
    "start_time": "2022-08-15T11:05:34.776Z"
   },
   {
    "duration": 114,
    "start_time": "2022-08-15T11:05:35.263Z"
   },
   {
    "duration": 126,
    "start_time": "2022-08-15T11:05:35.381Z"
   },
   {
    "duration": 117,
    "start_time": "2022-08-15T11:05:35.511Z"
   },
   {
    "duration": 117,
    "start_time": "2022-08-15T11:05:35.630Z"
   },
   {
    "duration": 119,
    "start_time": "2022-08-15T11:05:35.748Z"
   },
   {
    "duration": 255,
    "start_time": "2022-08-15T11:05:35.869Z"
   },
   {
    "duration": 150,
    "start_time": "2022-08-15T11:05:36.126Z"
   },
   {
    "duration": 116,
    "start_time": "2022-08-15T11:05:36.278Z"
   },
   {
    "duration": 131,
    "start_time": "2022-08-15T11:05:36.395Z"
   },
   {
    "duration": 126,
    "start_time": "2022-08-15T11:05:36.527Z"
   },
   {
    "duration": 133,
    "start_time": "2022-08-15T11:05:36.655Z"
   },
   {
    "duration": 144,
    "start_time": "2022-08-15T11:05:36.789Z"
   },
   {
    "duration": 110,
    "start_time": "2022-08-15T11:05:36.935Z"
   },
   {
    "duration": 123,
    "start_time": "2022-08-15T11:05:37.047Z"
   },
   {
    "duration": 131,
    "start_time": "2022-08-15T11:05:37.172Z"
   },
   {
    "duration": 177,
    "start_time": "2022-08-15T11:05:37.305Z"
   },
   {
    "duration": 8,
    "start_time": "2022-08-15T11:05:37.484Z"
   },
   {
    "duration": 233,
    "start_time": "2022-08-15T11:05:37.493Z"
   },
   {
    "duration": 123,
    "start_time": "2022-08-15T11:05:37.728Z"
   },
   {
    "duration": 5,
    "start_time": "2022-08-15T11:05:37.853Z"
   },
   {
    "duration": 179,
    "start_time": "2022-08-15T11:05:37.860Z"
   },
   {
    "duration": 164,
    "start_time": "2022-08-15T11:05:38.040Z"
   },
   {
    "duration": 173,
    "start_time": "2022-08-15T11:05:38.205Z"
   },
   {
    "duration": 177,
    "start_time": "2022-08-15T11:05:38.379Z"
   },
   {
    "duration": 136,
    "start_time": "2022-08-15T11:05:38.558Z"
   },
   {
    "duration": 168,
    "start_time": "2022-08-15T11:05:38.695Z"
   },
   {
    "duration": 163,
    "start_time": "2022-08-15T11:05:38.865Z"
   },
   {
    "duration": 194,
    "start_time": "2022-08-15T11:05:39.030Z"
   },
   {
    "duration": 172,
    "start_time": "2022-08-15T11:05:39.226Z"
   },
   {
    "duration": 229,
    "start_time": "2022-08-15T11:05:39.399Z"
   },
   {
    "duration": 41,
    "start_time": "2022-08-15T11:05:39.630Z"
   },
   {
    "duration": 51,
    "start_time": "2022-08-15T11:05:39.672Z"
   },
   {
    "duration": 140,
    "start_time": "2022-08-15T11:05:39.725Z"
   }
  ],
  "kernelspec": {
   "display_name": "Python 3 (ipykernel)",
   "language": "python",
   "name": "python3"
  },
  "language_info": {
   "codemirror_mode": {
    "name": "ipython",
    "version": 3
   },
   "file_extension": ".py",
   "mimetype": "text/x-python",
   "name": "python",
   "nbconvert_exporter": "python",
   "pygments_lexer": "ipython3",
   "version": "3.9.12"
  },
  "toc": {
   "base_numbering": 1,
   "nav_menu": {},
   "number_sections": true,
   "sideBar": true,
   "skip_h1_title": true,
   "title_cell": "Table of Contents",
   "title_sidebar": "Contents",
   "toc_cell": false,
   "toc_position": {},
   "toc_section_display": true,
   "toc_window_display": true
  }
 },
 "nbformat": 4,
 "nbformat_minor": 2
}
