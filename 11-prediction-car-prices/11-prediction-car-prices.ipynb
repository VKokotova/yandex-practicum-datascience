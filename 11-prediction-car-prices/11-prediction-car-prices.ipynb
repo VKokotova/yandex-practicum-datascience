{
 "cells": [
  {
   "cell_type": "markdown",
   "metadata": {},
   "source": [
    "# Определение стоимости автомобилей"
   ]
  },
  {
   "cell_type": "markdown",
   "metadata": {},
   "source": [
    "Сервис по продаже автомобилей с пробегом «Не бит, не крашен» разрабатывает приложение для привлечения новых клиентов. В нём можно быстро узнать рыночную стоимость своего автомобиля. В вашем распоряжении исторические данные: технические характеристики, комплектации и цены автомобилей. Вам нужно построить модель для определения стоимости. \n",
    "\n",
    "Заказчику важны:\n",
    "\n",
    "- качество предсказания;\n",
    "- скорость предсказания;\n",
    "- время обучения."
   ]
  },
  {
   "cell_type": "markdown",
   "metadata": {},
   "source": [
    "## Подготовка данных"
   ]
  },
  {
   "cell_type": "code",
   "execution_count": 334,
   "metadata": {},
   "outputs": [],
   "source": [
    "# pip install lightgbm"
   ]
  },
  {
   "cell_type": "code",
   "execution_count": 335,
   "metadata": {},
   "outputs": [],
   "source": [
    "#pip install catboost"
   ]
  },
  {
   "cell_type": "code",
   "execution_count": 336,
   "metadata": {
    "scrolled": true
   },
   "outputs": [],
   "source": [
    "#pip install phik"
   ]
  },
  {
   "cell_type": "code",
   "execution_count": 337,
   "metadata": {},
   "outputs": [],
   "source": [
    "import pandas as pd\n",
    "pd.options.mode.chained_assignment = None\n",
    "import os\n",
    "import numpy as np\n",
    "import time\n",
    "\n",
    "import matplotlib.pyplot as plt\n",
    "import seaborn as sns\n",
    "\n",
    "import sklearn\n",
    "from sklearn.linear_model import LinearRegression, Ridge\n",
    "from sklearn.model_selection import train_test_split, cross_val_score, GridSearchCV\n",
    "from sklearn.metrics import mean_squared_error\n",
    "import lightgbm as lgb\n",
    "from catboost import CatBoostRegressor\n",
    "from sklearn.preprocessing import OrdinalEncoder, OneHotEncoder \n",
    "from sklearn.preprocessing import StandardScaler \n",
    "import phik\n",
    "\n",
    "import scipy.sparse"
   ]
  },
  {
   "cell_type": "code",
   "execution_count": 338,
   "metadata": {},
   "outputs": [
    {
     "data": {
      "text/html": [
       "<div>\n",
       "<style scoped>\n",
       "    .dataframe tbody tr th:only-of-type {\n",
       "        vertical-align: middle;\n",
       "    }\n",
       "\n",
       "    .dataframe tbody tr th {\n",
       "        vertical-align: top;\n",
       "    }\n",
       "\n",
       "    .dataframe thead th {\n",
       "        text-align: right;\n",
       "    }\n",
       "</style>\n",
       "<table border=\"1\" class=\"dataframe\">\n",
       "  <thead>\n",
       "    <tr style=\"text-align: right;\">\n",
       "      <th></th>\n",
       "      <th>DateCrawled</th>\n",
       "      <th>Price</th>\n",
       "      <th>VehicleType</th>\n",
       "      <th>RegistrationYear</th>\n",
       "      <th>Gearbox</th>\n",
       "      <th>Power</th>\n",
       "      <th>Model</th>\n",
       "      <th>Kilometer</th>\n",
       "      <th>RegistrationMonth</th>\n",
       "      <th>FuelType</th>\n",
       "      <th>Brand</th>\n",
       "      <th>Repaired</th>\n",
       "      <th>DateCreated</th>\n",
       "      <th>NumberOfPictures</th>\n",
       "      <th>PostalCode</th>\n",
       "      <th>LastSeen</th>\n",
       "    </tr>\n",
       "  </thead>\n",
       "  <tbody>\n",
       "    <tr>\n",
       "      <th>0</th>\n",
       "      <td>2016-03-24 11:52:17</td>\n",
       "      <td>480</td>\n",
       "      <td>NaN</td>\n",
       "      <td>1993</td>\n",
       "      <td>manual</td>\n",
       "      <td>0</td>\n",
       "      <td>golf</td>\n",
       "      <td>150000</td>\n",
       "      <td>0</td>\n",
       "      <td>petrol</td>\n",
       "      <td>volkswagen</td>\n",
       "      <td>NaN</td>\n",
       "      <td>2016-03-24 00:00:00</td>\n",
       "      <td>0</td>\n",
       "      <td>70435</td>\n",
       "      <td>2016-04-07 03:16:57</td>\n",
       "    </tr>\n",
       "    <tr>\n",
       "      <th>1</th>\n",
       "      <td>2016-03-24 10:58:45</td>\n",
       "      <td>18300</td>\n",
       "      <td>coupe</td>\n",
       "      <td>2011</td>\n",
       "      <td>manual</td>\n",
       "      <td>190</td>\n",
       "      <td>NaN</td>\n",
       "      <td>125000</td>\n",
       "      <td>5</td>\n",
       "      <td>gasoline</td>\n",
       "      <td>audi</td>\n",
       "      <td>yes</td>\n",
       "      <td>2016-03-24 00:00:00</td>\n",
       "      <td>0</td>\n",
       "      <td>66954</td>\n",
       "      <td>2016-04-07 01:46:50</td>\n",
       "    </tr>\n",
       "    <tr>\n",
       "      <th>2</th>\n",
       "      <td>2016-03-14 12:52:21</td>\n",
       "      <td>9800</td>\n",
       "      <td>suv</td>\n",
       "      <td>2004</td>\n",
       "      <td>auto</td>\n",
       "      <td>163</td>\n",
       "      <td>grand</td>\n",
       "      <td>125000</td>\n",
       "      <td>8</td>\n",
       "      <td>gasoline</td>\n",
       "      <td>jeep</td>\n",
       "      <td>NaN</td>\n",
       "      <td>2016-03-14 00:00:00</td>\n",
       "      <td>0</td>\n",
       "      <td>90480</td>\n",
       "      <td>2016-04-05 12:47:46</td>\n",
       "    </tr>\n",
       "    <tr>\n",
       "      <th>3</th>\n",
       "      <td>2016-03-17 16:54:04</td>\n",
       "      <td>1500</td>\n",
       "      <td>small</td>\n",
       "      <td>2001</td>\n",
       "      <td>manual</td>\n",
       "      <td>75</td>\n",
       "      <td>golf</td>\n",
       "      <td>150000</td>\n",
       "      <td>6</td>\n",
       "      <td>petrol</td>\n",
       "      <td>volkswagen</td>\n",
       "      <td>no</td>\n",
       "      <td>2016-03-17 00:00:00</td>\n",
       "      <td>0</td>\n",
       "      <td>91074</td>\n",
       "      <td>2016-03-17 17:40:17</td>\n",
       "    </tr>\n",
       "    <tr>\n",
       "      <th>4</th>\n",
       "      <td>2016-03-31 17:25:20</td>\n",
       "      <td>3600</td>\n",
       "      <td>small</td>\n",
       "      <td>2008</td>\n",
       "      <td>manual</td>\n",
       "      <td>69</td>\n",
       "      <td>fabia</td>\n",
       "      <td>90000</td>\n",
       "      <td>7</td>\n",
       "      <td>gasoline</td>\n",
       "      <td>skoda</td>\n",
       "      <td>no</td>\n",
       "      <td>2016-03-31 00:00:00</td>\n",
       "      <td>0</td>\n",
       "      <td>60437</td>\n",
       "      <td>2016-04-06 10:17:21</td>\n",
       "    </tr>\n",
       "    <tr>\n",
       "      <th>...</th>\n",
       "      <td>...</td>\n",
       "      <td>...</td>\n",
       "      <td>...</td>\n",
       "      <td>...</td>\n",
       "      <td>...</td>\n",
       "      <td>...</td>\n",
       "      <td>...</td>\n",
       "      <td>...</td>\n",
       "      <td>...</td>\n",
       "      <td>...</td>\n",
       "      <td>...</td>\n",
       "      <td>...</td>\n",
       "      <td>...</td>\n",
       "      <td>...</td>\n",
       "      <td>...</td>\n",
       "      <td>...</td>\n",
       "    </tr>\n",
       "    <tr>\n",
       "      <th>354364</th>\n",
       "      <td>2016-03-21 09:50:58</td>\n",
       "      <td>0</td>\n",
       "      <td>NaN</td>\n",
       "      <td>2005</td>\n",
       "      <td>manual</td>\n",
       "      <td>0</td>\n",
       "      <td>colt</td>\n",
       "      <td>150000</td>\n",
       "      <td>7</td>\n",
       "      <td>petrol</td>\n",
       "      <td>mitsubishi</td>\n",
       "      <td>yes</td>\n",
       "      <td>2016-03-21 00:00:00</td>\n",
       "      <td>0</td>\n",
       "      <td>2694</td>\n",
       "      <td>2016-03-21 10:42:49</td>\n",
       "    </tr>\n",
       "    <tr>\n",
       "      <th>354365</th>\n",
       "      <td>2016-03-14 17:48:27</td>\n",
       "      <td>2200</td>\n",
       "      <td>NaN</td>\n",
       "      <td>2005</td>\n",
       "      <td>NaN</td>\n",
       "      <td>0</td>\n",
       "      <td>NaN</td>\n",
       "      <td>20000</td>\n",
       "      <td>1</td>\n",
       "      <td>NaN</td>\n",
       "      <td>sonstige_autos</td>\n",
       "      <td>NaN</td>\n",
       "      <td>2016-03-14 00:00:00</td>\n",
       "      <td>0</td>\n",
       "      <td>39576</td>\n",
       "      <td>2016-04-06 00:46:52</td>\n",
       "    </tr>\n",
       "    <tr>\n",
       "      <th>354366</th>\n",
       "      <td>2016-03-05 19:56:21</td>\n",
       "      <td>1199</td>\n",
       "      <td>convertible</td>\n",
       "      <td>2000</td>\n",
       "      <td>auto</td>\n",
       "      <td>101</td>\n",
       "      <td>fortwo</td>\n",
       "      <td>125000</td>\n",
       "      <td>3</td>\n",
       "      <td>petrol</td>\n",
       "      <td>smart</td>\n",
       "      <td>no</td>\n",
       "      <td>2016-03-05 00:00:00</td>\n",
       "      <td>0</td>\n",
       "      <td>26135</td>\n",
       "      <td>2016-03-11 18:17:12</td>\n",
       "    </tr>\n",
       "    <tr>\n",
       "      <th>354367</th>\n",
       "      <td>2016-03-19 18:57:12</td>\n",
       "      <td>9200</td>\n",
       "      <td>bus</td>\n",
       "      <td>1996</td>\n",
       "      <td>manual</td>\n",
       "      <td>102</td>\n",
       "      <td>transporter</td>\n",
       "      <td>150000</td>\n",
       "      <td>3</td>\n",
       "      <td>gasoline</td>\n",
       "      <td>volkswagen</td>\n",
       "      <td>no</td>\n",
       "      <td>2016-03-19 00:00:00</td>\n",
       "      <td>0</td>\n",
       "      <td>87439</td>\n",
       "      <td>2016-04-07 07:15:26</td>\n",
       "    </tr>\n",
       "    <tr>\n",
       "      <th>354368</th>\n",
       "      <td>2016-03-20 19:41:08</td>\n",
       "      <td>3400</td>\n",
       "      <td>wagon</td>\n",
       "      <td>2002</td>\n",
       "      <td>manual</td>\n",
       "      <td>100</td>\n",
       "      <td>golf</td>\n",
       "      <td>150000</td>\n",
       "      <td>6</td>\n",
       "      <td>gasoline</td>\n",
       "      <td>volkswagen</td>\n",
       "      <td>NaN</td>\n",
       "      <td>2016-03-20 00:00:00</td>\n",
       "      <td>0</td>\n",
       "      <td>40764</td>\n",
       "      <td>2016-03-24 12:45:21</td>\n",
       "    </tr>\n",
       "  </tbody>\n",
       "</table>\n",
       "<p>354369 rows × 16 columns</p>\n",
       "</div>"
      ],
      "text/plain": [
       "                DateCrawled  Price  VehicleType  RegistrationYear Gearbox  \\\n",
       "0       2016-03-24 11:52:17    480          NaN              1993  manual   \n",
       "1       2016-03-24 10:58:45  18300        coupe              2011  manual   \n",
       "2       2016-03-14 12:52:21   9800          suv              2004    auto   \n",
       "3       2016-03-17 16:54:04   1500        small              2001  manual   \n",
       "4       2016-03-31 17:25:20   3600        small              2008  manual   \n",
       "...                     ...    ...          ...               ...     ...   \n",
       "354364  2016-03-21 09:50:58      0          NaN              2005  manual   \n",
       "354365  2016-03-14 17:48:27   2200          NaN              2005     NaN   \n",
       "354366  2016-03-05 19:56:21   1199  convertible              2000    auto   \n",
       "354367  2016-03-19 18:57:12   9200          bus              1996  manual   \n",
       "354368  2016-03-20 19:41:08   3400        wagon              2002  manual   \n",
       "\n",
       "        Power        Model  Kilometer  RegistrationMonth  FuelType  \\\n",
       "0           0         golf     150000                  0    petrol   \n",
       "1         190          NaN     125000                  5  gasoline   \n",
       "2         163        grand     125000                  8  gasoline   \n",
       "3          75         golf     150000                  6    petrol   \n",
       "4          69        fabia      90000                  7  gasoline   \n",
       "...       ...          ...        ...                ...       ...   \n",
       "354364      0         colt     150000                  7    petrol   \n",
       "354365      0          NaN      20000                  1       NaN   \n",
       "354366    101       fortwo     125000                  3    petrol   \n",
       "354367    102  transporter     150000                  3  gasoline   \n",
       "354368    100         golf     150000                  6  gasoline   \n",
       "\n",
       "                 Brand Repaired          DateCreated  NumberOfPictures  \\\n",
       "0           volkswagen      NaN  2016-03-24 00:00:00                 0   \n",
       "1                 audi      yes  2016-03-24 00:00:00                 0   \n",
       "2                 jeep      NaN  2016-03-14 00:00:00                 0   \n",
       "3           volkswagen       no  2016-03-17 00:00:00                 0   \n",
       "4                skoda       no  2016-03-31 00:00:00                 0   \n",
       "...                ...      ...                  ...               ...   \n",
       "354364      mitsubishi      yes  2016-03-21 00:00:00                 0   \n",
       "354365  sonstige_autos      NaN  2016-03-14 00:00:00                 0   \n",
       "354366           smart       no  2016-03-05 00:00:00                 0   \n",
       "354367      volkswagen       no  2016-03-19 00:00:00                 0   \n",
       "354368      volkswagen      NaN  2016-03-20 00:00:00                 0   \n",
       "\n",
       "        PostalCode             LastSeen  \n",
       "0            70435  2016-04-07 03:16:57  \n",
       "1            66954  2016-04-07 01:46:50  \n",
       "2            90480  2016-04-05 12:47:46  \n",
       "3            91074  2016-03-17 17:40:17  \n",
       "4            60437  2016-04-06 10:17:21  \n",
       "...            ...                  ...  \n",
       "354364        2694  2016-03-21 10:42:49  \n",
       "354365       39576  2016-04-06 00:46:52  \n",
       "354366       26135  2016-03-11 18:17:12  \n",
       "354367       87439  2016-04-07 07:15:26  \n",
       "354368       40764  2016-03-24 12:45:21  \n",
       "\n",
       "[354369 rows x 16 columns]"
      ]
     },
     "execution_count": 338,
     "metadata": {},
     "output_type": "execute_result"
    }
   ],
   "source": [
    "if os.path.exists('/datasets/autos.csv'):\n",
    "    df = pd.read_csv('/datasets/autos.csv')\n",
    "else:\n",
    "    df = pd.read_csv('autos.csv')\n",
    "\n",
    "df"
   ]
  },
  {
   "cell_type": "code",
   "execution_count": 339,
   "metadata": {},
   "outputs": [
    {
     "name": "stdout",
     "output_type": "stream",
     "text": [
      "<class 'pandas.core.frame.DataFrame'>\n",
      "RangeIndex: 354369 entries, 0 to 354368\n",
      "Data columns (total 16 columns):\n",
      " #   Column             Non-Null Count   Dtype \n",
      "---  ------             --------------   ----- \n",
      " 0   DateCrawled        354369 non-null  object\n",
      " 1   Price              354369 non-null  int64 \n",
      " 2   VehicleType        316879 non-null  object\n",
      " 3   RegistrationYear   354369 non-null  int64 \n",
      " 4   Gearbox            334536 non-null  object\n",
      " 5   Power              354369 non-null  int64 \n",
      " 6   Model              334664 non-null  object\n",
      " 7   Kilometer          354369 non-null  int64 \n",
      " 8   RegistrationMonth  354369 non-null  int64 \n",
      " 9   FuelType           321474 non-null  object\n",
      " 10  Brand              354369 non-null  object\n",
      " 11  Repaired           283215 non-null  object\n",
      " 12  DateCreated        354369 non-null  object\n",
      " 13  NumberOfPictures   354369 non-null  int64 \n",
      " 14  PostalCode         354369 non-null  int64 \n",
      " 15  LastSeen           354369 non-null  object\n",
      "dtypes: int64(7), object(9)\n",
      "memory usage: 43.3+ MB\n"
     ]
    }
   ],
   "source": [
    "df.info()"
   ]
  },
  {
   "cell_type": "markdown",
   "metadata": {},
   "source": [
    "Переименуем колонки."
   ]
  },
  {
   "cell_type": "code",
   "execution_count": 340,
   "metadata": {},
   "outputs": [
    {
     "name": "stderr",
     "output_type": "stream",
     "text": [
      "C:\\Users\\Вера\\AppData\\Local\\Temp\\ipykernel_20880\\863562265.py:1: FutureWarning: The default value of regex will change from True to False in a future version.\n",
      "  df.columns = df.columns.str.replace(r\"([A-Z])\", r\" \\1\").str.lower().str.replace(' ', '_').str[1:]\n"
     ]
    }
   ],
   "source": [
    "df.columns = df.columns.str.replace(r\"([A-Z])\", r\" \\1\").str.lower().str.replace(' ', '_').str[1:]"
   ]
  },
  {
   "cell_type": "code",
   "execution_count": 341,
   "metadata": {},
   "outputs": [
    {
     "data": {
      "text/plain": [
       "Index(['date_crawled', 'price', 'vehicle_type', 'registration_year', 'gearbox',\n",
       "       'power', 'model', 'kilometer', 'registration_month', 'fuel_type',\n",
       "       'brand', 'repaired', 'date_created', 'number_of_pictures',\n",
       "       'postal_code', 'last_seen'],\n",
       "      dtype='object')"
      ]
     },
     "execution_count": 341,
     "metadata": {},
     "output_type": "execute_result"
    }
   ],
   "source": [
    "df.columns"
   ]
  },
  {
   "cell_type": "markdown",
   "metadata": {},
   "source": [
    "Оценим распределение значений признаков."
   ]
  },
  {
   "cell_type": "code",
   "execution_count": 342,
   "metadata": {
    "scrolled": true
   },
   "outputs": [
    {
     "data": {
      "image/png": "[encoded data removed]",
      "text/plain": [
       "<Figure size 432x288 with 1 Axes>"
      ]
     },
     "metadata": {
      "needs_background": "light"
     },
     "output_type": "display_data"
    }
   ],
   "source": [
    "df['price'].plot(kind='hist').set_xlabel('Цена в евро)');"
   ]
  },
  {
   "cell_type": "code",
   "execution_count": 343,
   "metadata": {},
   "outputs": [
    {
     "data": {
      "image/png": "[encoded data removed]",
      "text/plain": [
       "<Figure size 432x288 with 1 Axes>"
      ]
     },
     "metadata": {
      "needs_background": "light"
     },
     "output_type": "display_data"
    }
   ],
   "source": [
    "df['registration_year'].plot(kind='hist').set_xlabel('Год регистрации');"
   ]
  },
  {
   "cell_type": "code",
   "execution_count": 344,
   "metadata": {},
   "outputs": [
    {
     "data": {
      "image/png": "[encoded data removed]",
      "text/plain": [
       "<Figure size 432x288 with 1 Axes>"
      ]
     },
     "metadata": {
      "needs_background": "light"
     },
     "output_type": "display_data"
    }
   ],
   "source": [
    "df['power'].plot(kind='hist').set_xlabel('Мощность в лошадиных силах');"
   ]
  },
  {
   "cell_type": "code",
   "execution_count": 345,
   "metadata": {},
   "outputs": [
    {
     "data": {
      "image/png": "[encoded data removed]",
      "text/plain": [
       "<Figure size 432x288 with 1 Axes>"
      ]
     },
     "metadata": {
      "needs_background": "light"
     },
     "output_type": "display_data"
    }
   ],
   "source": [
    "df['kilometer'].plot(kind='hist').set_xlabel('Пробег');"
   ]
  },
  {
   "cell_type": "code",
   "execution_count": 346,
   "metadata": {},
   "outputs": [
    {
     "data": {
      "image/png": "[encoded data removed]",
      "text/plain": [
       "<Figure size 432x288 with 1 Axes>"
      ]
     },
     "metadata": {
      "needs_background": "light"
     },
     "output_type": "display_data"
    }
   ],
   "source": [
    "df['registration_month'].plot(kind='hist').set_xlabel('Месяц регистрации');"
   ]
  },
  {
   "cell_type": "code",
   "execution_count": 347,
   "metadata": {},
   "outputs": [
    {
     "data": {
      "image/png": "[encoded data removed]",
      "text/plain": [
       "<Figure size 432x288 with 1 Axes>"
      ]
     },
     "metadata": {
      "needs_background": "light"
     },
     "output_type": "display_data"
    }
   ],
   "source": [
    "df['number_of_pictures'].plot(kind='hist').set_xlabel('Количество фото');"
   ]
  },
  {
   "cell_type": "code",
   "execution_count": 348,
   "metadata": {},
   "outputs": [
    {
     "data": {
      "text/html": [
       "<div>\n",
       "<style scoped>\n",
       "    .dataframe tbody tr th:only-of-type {\n",
       "        vertical-align: middle;\n",
       "    }\n",
       "\n",
       "    .dataframe tbody tr th {\n",
       "        vertical-align: top;\n",
       "    }\n",
       "\n",
       "    .dataframe thead th {\n",
       "        text-align: right;\n",
       "    }\n",
       "</style>\n",
       "<table border=\"1\" class=\"dataframe\">\n",
       "  <thead>\n",
       "    <tr style=\"text-align: right;\">\n",
       "      <th></th>\n",
       "      <th>count</th>\n",
       "      <th>mean</th>\n",
       "      <th>std</th>\n",
       "      <th>min</th>\n",
       "      <th>25%</th>\n",
       "      <th>50%</th>\n",
       "      <th>75%</th>\n",
       "      <th>max</th>\n",
       "    </tr>\n",
       "  </thead>\n",
       "  <tbody>\n",
       "    <tr>\n",
       "      <th>price</th>\n",
       "      <td>354369.0</td>\n",
       "      <td>4416.656776</td>\n",
       "      <td>4514.158514</td>\n",
       "      <td>0.0</td>\n",
       "      <td>1050.0</td>\n",
       "      <td>2700.0</td>\n",
       "      <td>6400.0</td>\n",
       "      <td>20000.0</td>\n",
       "    </tr>\n",
       "    <tr>\n",
       "      <th>registration_year</th>\n",
       "      <td>354369.0</td>\n",
       "      <td>2004.234448</td>\n",
       "      <td>90.227958</td>\n",
       "      <td>1000.0</td>\n",
       "      <td>1999.0</td>\n",
       "      <td>2003.0</td>\n",
       "      <td>2008.0</td>\n",
       "      <td>9999.0</td>\n",
       "    </tr>\n",
       "    <tr>\n",
       "      <th>power</th>\n",
       "      <td>354369.0</td>\n",
       "      <td>110.094337</td>\n",
       "      <td>189.850405</td>\n",
       "      <td>0.0</td>\n",
       "      <td>69.0</td>\n",
       "      <td>105.0</td>\n",
       "      <td>143.0</td>\n",
       "      <td>20000.0</td>\n",
       "    </tr>\n",
       "    <tr>\n",
       "      <th>kilometer</th>\n",
       "      <td>354369.0</td>\n",
       "      <td>128211.172535</td>\n",
       "      <td>37905.341530</td>\n",
       "      <td>5000.0</td>\n",
       "      <td>125000.0</td>\n",
       "      <td>150000.0</td>\n",
       "      <td>150000.0</td>\n",
       "      <td>150000.0</td>\n",
       "    </tr>\n",
       "    <tr>\n",
       "      <th>registration_month</th>\n",
       "      <td>354369.0</td>\n",
       "      <td>5.714645</td>\n",
       "      <td>3.726421</td>\n",
       "      <td>0.0</td>\n",
       "      <td>3.0</td>\n",
       "      <td>6.0</td>\n",
       "      <td>9.0</td>\n",
       "      <td>12.0</td>\n",
       "    </tr>\n",
       "    <tr>\n",
       "      <th>number_of_pictures</th>\n",
       "      <td>354369.0</td>\n",
       "      <td>0.000000</td>\n",
       "      <td>0.000000</td>\n",
       "      <td>0.0</td>\n",
       "      <td>0.0</td>\n",
       "      <td>0.0</td>\n",
       "      <td>0.0</td>\n",
       "      <td>0.0</td>\n",
       "    </tr>\n",
       "    <tr>\n",
       "      <th>postal_code</th>\n",
       "      <td>354369.0</td>\n",
       "      <td>50508.689087</td>\n",
       "      <td>25783.096248</td>\n",
       "      <td>1067.0</td>\n",
       "      <td>30165.0</td>\n",
       "      <td>49413.0</td>\n",
       "      <td>71083.0</td>\n",
       "      <td>99998.0</td>\n",
       "    </tr>\n",
       "  </tbody>\n",
       "</table>\n",
       "</div>"
      ],
      "text/plain": [
       "                       count           mean           std     min       25%  \\\n",
       "price               354369.0    4416.656776   4514.158514     0.0    1050.0   \n",
       "registration_year   354369.0    2004.234448     90.227958  1000.0    1999.0   \n",
       "power               354369.0     110.094337    189.850405     0.0      69.0   \n",
       "kilometer           354369.0  128211.172535  37905.341530  5000.0  125000.0   \n",
       "registration_month  354369.0       5.714645      3.726421     0.0       3.0   \n",
       "number_of_pictures  354369.0       0.000000      0.000000     0.0       0.0   \n",
       "postal_code         354369.0   50508.689087  25783.096248  1067.0   30165.0   \n",
       "\n",
       "                         50%       75%       max  \n",
       "price                 2700.0    6400.0   20000.0  \n",
       "registration_year     2003.0    2008.0    9999.0  \n",
       "power                  105.0     143.0   20000.0  \n",
       "kilometer           150000.0  150000.0  150000.0  \n",
       "registration_month       6.0       9.0      12.0  \n",
       "number_of_pictures       0.0       0.0       0.0  \n",
       "postal_code          49413.0   71083.0   99998.0  "
      ]
     },
     "execution_count": 348,
     "metadata": {},
     "output_type": "execute_result"
    }
   ],
   "source": [
    "df.describe().T"
   ]
  },
  {
   "cell_type": "markdown",
   "metadata": {},
   "source": [
    "Судя по первичному обзору в данных присутствуют некорректные значения:\n",
    "* много строк с ценой 0\n",
    "* слишком большие и слишком маленькие значения в столбцах с мощностью и годом регистрации\n",
    "* все значения в столбце с количеством фотографий пустые\n",
    "* есть пропуски в данных\n",
    "* больше всего автомобилей регистрируются в январе, июле и декабре\n",
    "* в основном представлены машины с большим пробегом, медианное значение - 150 тыс км"
   ]
  },
  {
   "cell_type": "markdown",
   "metadata": {},
   "source": [
    "Посчитаем строки с некорректным годом регистрации."
   ]
  },
  {
   "cell_type": "code",
   "execution_count": 349,
   "metadata": {},
   "outputs": [
    {
     "data": {
      "text/plain": [
       "17982"
      ]
     },
     "execution_count": 349,
     "metadata": {},
     "output_type": "execute_result"
    }
   ],
   "source": [
    "df.query('registration_year > 2016 or registration_year < 1980')['registration_year'].count()"
   ]
  },
  {
   "cell_type": "markdown",
   "metadata": {},
   "source": [
    "Удалим их, 5% строк несущественны."
   ]
  },
  {
   "cell_type": "code",
   "execution_count": 350,
   "metadata": {},
   "outputs": [],
   "source": [
    "df = df.query('1980 < registration_year < 2016')"
   ]
  },
  {
   "cell_type": "markdown",
   "metadata": {},
   "source": [
    "Столбцы с количеством фотографий автомобиля, а также с почтовым кодом бесполезны, также удалим их."
   ]
  },
  {
   "cell_type": "code",
   "execution_count": 351,
   "metadata": {},
   "outputs": [],
   "source": [
    "df = df.drop(['number_of_pictures', 'postal_code'], axis=1)"
   ]
  },
  {
   "cell_type": "markdown",
   "metadata": {},
   "source": [
    "Месяц регистрации автомобиля не имеет большого значения, важнее год. Удалим месяц регистрации."
   ]
  },
  {
   "cell_type": "code",
   "execution_count": 352,
   "metadata": {},
   "outputs": [],
   "source": [
    "df = df.drop(['registration_month'], axis=1)"
   ]
  },
  {
   "cell_type": "markdown",
   "metadata": {},
   "source": [
    "Столбцы с датой скачивания анкеты из базы и датой создания анкеты практически одинаковы. Дата скачивания содержит время. Для модели эти данные излишни."
   ]
  },
  {
   "cell_type": "code",
   "execution_count": 353,
   "metadata": {},
   "outputs": [],
   "source": [
    "df = df.drop(['date_crawled'], axis=1)"
   ]
  },
  {
   "cell_type": "markdown",
   "metadata": {},
   "source": [
    "Посчитаем процент строк с ценой меньше 100 евро от общего количества строк."
   ]
  },
  {
   "cell_type": "code",
   "execution_count": 354,
   "metadata": {},
   "outputs": [
    {
     "data": {
      "text/plain": [
       "3.0"
      ]
     },
     "execution_count": 354,
     "metadata": {},
     "output_type": "execute_result"
    }
   ],
   "source": [
    "round(df.query('price < 100')['price'].count()/df['price'].count()*100, 0)"
   ]
  },
  {
   "cell_type": "markdown",
   "metadata": {},
   "source": [
    "Удалим строки с ценой менее 100 евро, их не так много."
   ]
  },
  {
   "cell_type": "code",
   "execution_count": 355,
   "metadata": {},
   "outputs": [],
   "source": [
    "df = df.query('price > 100')"
   ]
  },
  {
   "cell_type": "markdown",
   "metadata": {},
   "source": [
    "Проанализируем количество строк с неправдоподобно большими значениями в столбце с лошадиными силами."
   ]
  },
  {
   "cell_type": "code",
   "execution_count": 356,
   "metadata": {},
   "outputs": [
    {
     "data": {
      "text/plain": [
       "0.11"
      ]
     },
     "execution_count": 356,
     "metadata": {},
     "output_type": "execute_result"
    }
   ],
   "source": [
    "round(df.query('power > 500')['power'].count()/df['power'].count()*100, 2)"
   ]
  },
  {
   "cell_type": "markdown",
   "metadata": {},
   "source": [
    "Таких строк очень мало, удаляем."
   ]
  },
  {
   "cell_type": "code",
   "execution_count": 357,
   "metadata": {},
   "outputs": [],
   "source": [
    "df = df.query('power < 500')"
   ]
  },
  {
   "cell_type": "code",
   "execution_count": 358,
   "metadata": {},
   "outputs": [
    {
     "data": {
      "text/plain": [
       "8.83"
      ]
     },
     "execution_count": 358,
     "metadata": {},
     "output_type": "execute_result"
    }
   ],
   "source": [
    "round(df.query('power == 0').shape[0]/df.shape[0] * 100, 2)"
   ]
  },
  {
   "cell_type": "markdown",
   "metadata": {},
   "source": [
    "Строк с нулевой мощностью 8.83% достаточно много, восстановить значение мощности можно было бы по модели. Но в этом столбце были пропущенные значения."
   ]
  },
  {
   "cell_type": "code",
   "execution_count": 359,
   "metadata": {},
   "outputs": [
    {
     "data": {
      "text/plain": [
       "4.15"
      ]
     },
     "execution_count": 359,
     "metadata": {},
     "output_type": "execute_result"
    }
   ],
   "source": [
    "round(df['model'].isna().sum()/df.shape[0] * 100, 2)"
   ]
  },
  {
   "cell_type": "markdown",
   "metadata": {},
   "source": [
    "Таких строк около 4% удалим их. Восстановить их корректно невозможно."
   ]
  },
  {
   "cell_type": "code",
   "execution_count": 360,
   "metadata": {},
   "outputs": [],
   "source": [
    "df = df.query('model == model')"
   ]
  },
  {
   "cell_type": "markdown",
   "metadata": {},
   "source": [
    "Посмотрим, как распределены значения мощности до 100 л.с."
   ]
  },
  {
   "cell_type": "code",
   "execution_count": 361,
   "metadata": {},
   "outputs": [
    {
     "data": {
      "image/png": "[encoded data removed]",
      "text/plain": [
       "<Figure size 432x288 with 1 Axes>"
      ]
     },
     "metadata": {
      "needs_background": "light"
     },
     "output_type": "display_data"
    }
   ],
   "source": [
    "df['power'].plot(kind='hist').set_xlabel('Мощность в лошадиных силах');"
   ]
  },
  {
   "cell_type": "markdown",
   "metadata": {},
   "source": [
    "Есть много околонулевых значений и немного значений до 40 л.с., которые скорее всего тоже являются ошибочными. Заменим их на медианные значения по модели."
   ]
  },
  {
   "cell_type": "code",
   "execution_count": 362,
   "metadata": {},
   "outputs": [],
   "source": [
    "df.loc[(df['power'] <= 40), 'power'] = None\n",
    "df['power'] = df['power'].fillna(df.groupby('model')['power'].transform('median'))"
   ]
  },
  {
   "cell_type": "code",
   "execution_count": 363,
   "metadata": {},
   "outputs": [
    {
     "data": {
      "image/png": "[encoded data removed]",
      "text/plain": [
       "<Figure size 432x288 with 1 Axes>"
      ]
     },
     "metadata": {
      "needs_background": "light"
     },
     "output_type": "display_data"
    }
   ],
   "source": [
    "df['power'].plot(kind='hist', bins=20).set_xlabel('Мощность в лошадиных силах');"
   ]
  },
  {
   "cell_type": "markdown",
   "metadata": {},
   "source": [
    "После обработки видно, что больше всего автомобилей с мощностью около 100 л.с., чаще всего мощность в пределах 90-150 л.с."
   ]
  },
  {
   "cell_type": "markdown",
   "metadata": {},
   "source": [
    "Проверим явные дубли и удалим их, если они есть."
   ]
  },
  {
   "cell_type": "code",
   "execution_count": 364,
   "metadata": {},
   "outputs": [
    {
     "data": {
      "text/plain": [
       "107"
      ]
     },
     "execution_count": 364,
     "metadata": {},
     "output_type": "execute_result"
    }
   ],
   "source": [
    "df.duplicated().sum()"
   ]
  },
  {
   "cell_type": "code",
   "execution_count": 365,
   "metadata": {},
   "outputs": [],
   "source": [
    "df = df.drop_duplicates()"
   ]
  },
  {
   "cell_type": "markdown",
   "metadata": {},
   "source": [
    "Посмотрим на заполнение колонок с нечисловыми значениями: тип автомобильного кузова, тип коробки передач, тип топлива, марка и модель автомобиля."
   ]
  },
  {
   "cell_type": "code",
   "execution_count": 366,
   "metadata": {},
   "outputs": [
    {
     "data": {
      "text/plain": [
       "array([nan, 'suv', 'small', 'sedan', 'convertible', 'bus', 'wagon',\n",
       "       'coupe', 'other'], dtype=object)"
      ]
     },
     "execution_count": 366,
     "metadata": {},
     "output_type": "execute_result"
    }
   ],
   "source": [
    "df['vehicle_type'].unique()"
   ]
  },
  {
   "cell_type": "markdown",
   "metadata": {},
   "source": [
    "Неявных дублей нет, часть значений заполнена other."
   ]
  },
  {
   "cell_type": "code",
   "execution_count": 367,
   "metadata": {},
   "outputs": [
    {
     "data": {
      "text/plain": [
       "array(['manual', 'auto', nan], dtype=object)"
      ]
     },
     "execution_count": 367,
     "metadata": {},
     "output_type": "execute_result"
    }
   ],
   "source": [
    "df['gearbox'].unique()"
   ]
  },
  {
   "cell_type": "markdown",
   "metadata": {},
   "source": [
    "Неявных дублей нет."
   ]
  },
  {
   "cell_type": "code",
   "execution_count": 368,
   "metadata": {},
   "outputs": [
    {
     "data": {
      "text/plain": [
       "array(['petrol', 'gasoline', nan, 'lpg', 'other', 'hybrid', 'cng',\n",
       "       'electric'], dtype=object)"
      ]
     },
     "execution_count": 368,
     "metadata": {},
     "output_type": "execute_result"
    }
   ],
   "source": [
    "df['fuel_type'].unique()"
   ]
  },
  {
   "cell_type": "markdown",
   "metadata": {},
   "source": [
    "Неявных дублей нет, часть значений заполнена other."
   ]
  },
  {
   "cell_type": "code",
   "execution_count": 369,
   "metadata": {},
   "outputs": [
    {
     "data": {
      "text/plain": [
       "array(['alfa_romeo', 'audi', 'bmw', 'chevrolet', 'chrysler', 'citroen',\n",
       "       'dacia', 'daewoo', 'daihatsu', 'fiat', 'ford', 'honda', 'hyundai',\n",
       "       'jaguar', 'jeep', 'kia', 'lada', 'lancia', 'land_rover', 'mazda',\n",
       "       'mercedes_benz', 'mini', 'mitsubishi', 'nissan', 'opel', 'peugeot',\n",
       "       'porsche', 'renault', 'rover', 'saab', 'seat', 'skoda', 'smart',\n",
       "       'subaru', 'suzuki', 'toyota', 'trabant', 'volkswagen', 'volvo'],\n",
       "      dtype=object)"
      ]
     },
     "execution_count": 369,
     "metadata": {},
     "output_type": "execute_result"
    }
   ],
   "source": [
    "df['brand'].sort_values().unique()"
   ]
  },
  {
   "cell_type": "markdown",
   "metadata": {},
   "source": [
    "Неявных дублей нет."
   ]
  },
  {
   "cell_type": "code",
   "execution_count": 370,
   "metadata": {},
   "outputs": [
    {
     "data": {
      "text/plain": [
       "array(['100', '145', '147', '156', '159', '1_reihe', '1er', '200',\n",
       "       '2_reihe', '300c', '3_reihe', '3er', '4_reihe', '500', '5_reihe',\n",
       "       '5er', '601', '6_reihe', '6er', '7er', '80', '850', '90', '900',\n",
       "       '9000', '911', 'a1', 'a2', 'a3', 'a4', 'a5', 'a6', 'a8',\n",
       "       'a_klasse', 'accord', 'agila', 'alhambra', 'almera', 'altea',\n",
       "       'amarok', 'antara', 'arosa', 'astra', 'auris', 'avensis', 'aveo',\n",
       "       'aygo', 'b_klasse', 'b_max', 'beetle', 'berlingo', 'bora',\n",
       "       'boxster', 'bravo', 'c1', 'c2', 'c3', 'c4', 'c5', 'c_klasse',\n",
       "       'c_max', 'c_reihe', 'caddy', 'calibra', 'captiva', 'carisma',\n",
       "       'carnival', 'cayenne', 'cc', 'ceed', 'charade', 'cherokee',\n",
       "       'citigo', 'civic', 'cl', 'clio', 'clk', 'clubman', 'colt', 'combo',\n",
       "       'cooper', 'cordoba', 'corolla', 'corsa', 'cr_reihe', 'croma',\n",
       "       'crossfire', 'cuore', 'cx_reihe', 'defender', 'delta', 'discovery',\n",
       "       'doblo', 'ducato', 'duster', 'e_klasse', 'elefantino', 'eos',\n",
       "       'escort', 'espace', 'exeo', 'fabia', 'fiesta', 'focus', 'forester',\n",
       "       'forfour', 'fortwo', 'fox', 'freelander', 'fusion', 'g_klasse',\n",
       "       'galant', 'galaxy', 'getz', 'gl', 'glk', 'golf', 'grand', 'i3',\n",
       "       'i_reihe', 'ibiza', 'impreza', 'insignia', 'jazz', 'jetta',\n",
       "       'jimny', 'juke', 'justy', 'ka', 'kadett', 'kaefer', 'kalina',\n",
       "       'kalos', 'kangoo', 'kappa', 'kuga', 'laguna', 'lancer', 'lanos',\n",
       "       'legacy', 'leon', 'lodgy', 'logan', 'lupo', 'lybra', 'm_klasse',\n",
       "       'm_reihe', 'materia', 'matiz', 'megane', 'meriva', 'micra', 'mii',\n",
       "       'modus', 'mondeo', 'move', 'musa', 'mustang', 'mx_reihe', 'navara',\n",
       "       'niva', 'note', 'nubira', 'octavia', 'omega', 'one', 'other',\n",
       "       'outlander', 'pajero', 'panda', 'passat', 'phaeton', 'picanto',\n",
       "       'polo', 'primera', 'ptcruiser', 'punto', 'q3', 'q5', 'q7',\n",
       "       'qashqai', 'r19', 'range_rover', 'range_rover_evoque',\n",
       "       'range_rover_sport', 'rangerover', 'rav', 'rio', 'roadster',\n",
       "       'roomster', 'rx_reihe', 's60', 's_klasse', 's_max', 's_type',\n",
       "       'samara', 'sandero', 'santa', 'scenic', 'scirocco', 'seicento',\n",
       "       'serie_2', 'sharan', 'signum', 'sirion', 'sl', 'slk', 'sorento',\n",
       "       'spark', 'spider', 'sportage', 'sprinter', 'stilo', 'superb',\n",
       "       'swift', 'terios', 'tigra', 'tiguan', 'toledo', 'touareg',\n",
       "       'touran', 'transit', 'transporter', 'tt', 'tucson', 'twingo', 'up',\n",
       "       'v40', 'v50', 'v60', 'v70', 'v_klasse', 'vectra', 'verso', 'viano',\n",
       "       'vito', 'vivaro', 'voyager', 'wrangler', 'x_reihe', 'x_trail',\n",
       "       'x_type', 'xc_reihe', 'yaris', 'yeti', 'ypsilon', 'z_reihe',\n",
       "       'zafira'], dtype=object)"
      ]
     },
     "execution_count": 370,
     "metadata": {},
     "output_type": "execute_result"
    }
   ],
   "source": [
    "df['model'].sort_values().unique()"
   ]
  },
  {
   "cell_type": "markdown",
   "metadata": {},
   "source": [
    "Неявных дублей нет, часть значений заполнена значением other."
   ]
  },
  {
   "cell_type": "markdown",
   "metadata": {},
   "source": [
    "Вычислим разницу дат между датой создания анкеты и последним просмотром."
   ]
  },
  {
   "cell_type": "code",
   "execution_count": 371,
   "metadata": {},
   "outputs": [],
   "source": [
    "df['date_created'] = pd.to_datetime(df['date_created'], format='%Y-%m-%d')\n",
    "df['last_seen'] = pd.to_datetime(df['last_seen'], format='%Y-%m-%d')\n",
    "df['date_diff'] = (df['last_seen'] - df['date_created']).dt.days"
   ]
  },
  {
   "cell_type": "code",
   "execution_count": 372,
   "metadata": {},
   "outputs": [
    {
     "data": {
      "text/html": [
       "<div>\n",
       "<style scoped>\n",
       "    .dataframe tbody tr th:only-of-type {\n",
       "        vertical-align: middle;\n",
       "    }\n",
       "\n",
       "    .dataframe tbody tr th {\n",
       "        vertical-align: top;\n",
       "    }\n",
       "\n",
       "    .dataframe thead th {\n",
       "        text-align: right;\n",
       "    }\n",
       "</style>\n",
       "<table border=\"1\" class=\"dataframe\">\n",
       "  <thead>\n",
       "    <tr style=\"text-align: right;\">\n",
       "      <th></th>\n",
       "      <th>price</th>\n",
       "      <th>vehicle_type</th>\n",
       "      <th>registration_year</th>\n",
       "      <th>gearbox</th>\n",
       "      <th>power</th>\n",
       "      <th>model</th>\n",
       "      <th>kilometer</th>\n",
       "      <th>fuel_type</th>\n",
       "      <th>brand</th>\n",
       "      <th>repaired</th>\n",
       "      <th>date_created</th>\n",
       "      <th>last_seen</th>\n",
       "      <th>date_diff</th>\n",
       "    </tr>\n",
       "  </thead>\n",
       "  <tbody>\n",
       "    <tr>\n",
       "      <th>0</th>\n",
       "      <td>480</td>\n",
       "      <td>NaN</td>\n",
       "      <td>1993</td>\n",
       "      <td>manual</td>\n",
       "      <td>101.0</td>\n",
       "      <td>golf</td>\n",
       "      <td>150000</td>\n",
       "      <td>petrol</td>\n",
       "      <td>volkswagen</td>\n",
       "      <td>NaN</td>\n",
       "      <td>2016-03-24</td>\n",
       "      <td>2016-04-07 03:16:57</td>\n",
       "      <td>14</td>\n",
       "    </tr>\n",
       "    <tr>\n",
       "      <th>2</th>\n",
       "      <td>9800</td>\n",
       "      <td>suv</td>\n",
       "      <td>2004</td>\n",
       "      <td>auto</td>\n",
       "      <td>163.0</td>\n",
       "      <td>grand</td>\n",
       "      <td>125000</td>\n",
       "      <td>gasoline</td>\n",
       "      <td>jeep</td>\n",
       "      <td>NaN</td>\n",
       "      <td>2016-03-14</td>\n",
       "      <td>2016-04-05 12:47:46</td>\n",
       "      <td>22</td>\n",
       "    </tr>\n",
       "    <tr>\n",
       "      <th>3</th>\n",
       "      <td>1500</td>\n",
       "      <td>small</td>\n",
       "      <td>2001</td>\n",
       "      <td>manual</td>\n",
       "      <td>75.0</td>\n",
       "      <td>golf</td>\n",
       "      <td>150000</td>\n",
       "      <td>petrol</td>\n",
       "      <td>volkswagen</td>\n",
       "      <td>no</td>\n",
       "      <td>2016-03-17</td>\n",
       "      <td>2016-03-17 17:40:17</td>\n",
       "      <td>0</td>\n",
       "    </tr>\n",
       "    <tr>\n",
       "      <th>4</th>\n",
       "      <td>3600</td>\n",
       "      <td>small</td>\n",
       "      <td>2008</td>\n",
       "      <td>manual</td>\n",
       "      <td>69.0</td>\n",
       "      <td>fabia</td>\n",
       "      <td>90000</td>\n",
       "      <td>gasoline</td>\n",
       "      <td>skoda</td>\n",
       "      <td>no</td>\n",
       "      <td>2016-03-31</td>\n",
       "      <td>2016-04-06 10:17:21</td>\n",
       "      <td>6</td>\n",
       "    </tr>\n",
       "    <tr>\n",
       "      <th>5</th>\n",
       "      <td>650</td>\n",
       "      <td>sedan</td>\n",
       "      <td>1995</td>\n",
       "      <td>manual</td>\n",
       "      <td>102.0</td>\n",
       "      <td>3er</td>\n",
       "      <td>150000</td>\n",
       "      <td>petrol</td>\n",
       "      <td>bmw</td>\n",
       "      <td>yes</td>\n",
       "      <td>2016-04-04</td>\n",
       "      <td>2016-04-06 19:17:07</td>\n",
       "      <td>2</td>\n",
       "    </tr>\n",
       "    <tr>\n",
       "      <th>...</th>\n",
       "      <td>...</td>\n",
       "      <td>...</td>\n",
       "      <td>...</td>\n",
       "      <td>...</td>\n",
       "      <td>...</td>\n",
       "      <td>...</td>\n",
       "      <td>...</td>\n",
       "      <td>...</td>\n",
       "      <td>...</td>\n",
       "      <td>...</td>\n",
       "      <td>...</td>\n",
       "      <td>...</td>\n",
       "      <td>...</td>\n",
       "    </tr>\n",
       "    <tr>\n",
       "      <th>354362</th>\n",
       "      <td>3200</td>\n",
       "      <td>sedan</td>\n",
       "      <td>2004</td>\n",
       "      <td>manual</td>\n",
       "      <td>225.0</td>\n",
       "      <td>leon</td>\n",
       "      <td>150000</td>\n",
       "      <td>petrol</td>\n",
       "      <td>seat</td>\n",
       "      <td>yes</td>\n",
       "      <td>2016-03-19</td>\n",
       "      <td>2016-03-19 20:44:43</td>\n",
       "      <td>0</td>\n",
       "    </tr>\n",
       "    <tr>\n",
       "      <th>354363</th>\n",
       "      <td>1150</td>\n",
       "      <td>bus</td>\n",
       "      <td>2000</td>\n",
       "      <td>manual</td>\n",
       "      <td>125.0</td>\n",
       "      <td>zafira</td>\n",
       "      <td>150000</td>\n",
       "      <td>petrol</td>\n",
       "      <td>opel</td>\n",
       "      <td>no</td>\n",
       "      <td>2016-03-27</td>\n",
       "      <td>2016-03-29 10:17:23</td>\n",
       "      <td>2</td>\n",
       "    </tr>\n",
       "    <tr>\n",
       "      <th>354366</th>\n",
       "      <td>1199</td>\n",
       "      <td>convertible</td>\n",
       "      <td>2000</td>\n",
       "      <td>auto</td>\n",
       "      <td>101.0</td>\n",
       "      <td>fortwo</td>\n",
       "      <td>125000</td>\n",
       "      <td>petrol</td>\n",
       "      <td>smart</td>\n",
       "      <td>no</td>\n",
       "      <td>2016-03-05</td>\n",
       "      <td>2016-03-11 18:17:12</td>\n",
       "      <td>6</td>\n",
       "    </tr>\n",
       "    <tr>\n",
       "      <th>354367</th>\n",
       "      <td>9200</td>\n",
       "      <td>bus</td>\n",
       "      <td>1996</td>\n",
       "      <td>manual</td>\n",
       "      <td>102.0</td>\n",
       "      <td>transporter</td>\n",
       "      <td>150000</td>\n",
       "      <td>gasoline</td>\n",
       "      <td>volkswagen</td>\n",
       "      <td>no</td>\n",
       "      <td>2016-03-19</td>\n",
       "      <td>2016-04-07 07:15:26</td>\n",
       "      <td>19</td>\n",
       "    </tr>\n",
       "    <tr>\n",
       "      <th>354368</th>\n",
       "      <td>3400</td>\n",
       "      <td>wagon</td>\n",
       "      <td>2002</td>\n",
       "      <td>manual</td>\n",
       "      <td>100.0</td>\n",
       "      <td>golf</td>\n",
       "      <td>150000</td>\n",
       "      <td>gasoline</td>\n",
       "      <td>volkswagen</td>\n",
       "      <td>NaN</td>\n",
       "      <td>2016-03-20</td>\n",
       "      <td>2016-03-24 12:45:21</td>\n",
       "      <td>4</td>\n",
       "    </tr>\n",
       "  </tbody>\n",
       "</table>\n",
       "<p>300552 rows × 13 columns</p>\n",
       "</div>"
      ],
      "text/plain": [
       "        price vehicle_type  registration_year gearbox  power        model  \\\n",
       "0         480          NaN               1993  manual  101.0         golf   \n",
       "2        9800          suv               2004    auto  163.0        grand   \n",
       "3        1500        small               2001  manual   75.0         golf   \n",
       "4        3600        small               2008  manual   69.0        fabia   \n",
       "5         650        sedan               1995  manual  102.0          3er   \n",
       "...       ...          ...                ...     ...    ...          ...   \n",
       "354362   3200        sedan               2004  manual  225.0         leon   \n",
       "354363   1150          bus               2000  manual  125.0       zafira   \n",
       "354366   1199  convertible               2000    auto  101.0       fortwo   \n",
       "354367   9200          bus               1996  manual  102.0  transporter   \n",
       "354368   3400        wagon               2002  manual  100.0         golf   \n",
       "\n",
       "        kilometer fuel_type       brand repaired date_created  \\\n",
       "0          150000    petrol  volkswagen      NaN   2016-03-24   \n",
       "2          125000  gasoline        jeep      NaN   2016-03-14   \n",
       "3          150000    petrol  volkswagen       no   2016-03-17   \n",
       "4           90000  gasoline       skoda       no   2016-03-31   \n",
       "5          150000    petrol         bmw      yes   2016-04-04   \n",
       "...           ...       ...         ...      ...          ...   \n",
       "354362     150000    petrol        seat      yes   2016-03-19   \n",
       "354363     150000    petrol        opel       no   2016-03-27   \n",
       "354366     125000    petrol       smart       no   2016-03-05   \n",
       "354367     150000  gasoline  volkswagen       no   2016-03-19   \n",
       "354368     150000  gasoline  volkswagen      NaN   2016-03-20   \n",
       "\n",
       "                 last_seen  date_diff  \n",
       "0      2016-04-07 03:16:57         14  \n",
       "2      2016-04-05 12:47:46         22  \n",
       "3      2016-03-17 17:40:17          0  \n",
       "4      2016-04-06 10:17:21          6  \n",
       "5      2016-04-06 19:17:07          2  \n",
       "...                    ...        ...  \n",
       "354362 2016-03-19 20:44:43          0  \n",
       "354363 2016-03-29 10:17:23          2  \n",
       "354366 2016-03-11 18:17:12          6  \n",
       "354367 2016-04-07 07:15:26         19  \n",
       "354368 2016-03-24 12:45:21          4  \n",
       "\n",
       "[300552 rows x 13 columns]"
      ]
     },
     "execution_count": 372,
     "metadata": {},
     "output_type": "execute_result"
    }
   ],
   "source": [
    "df"
   ]
  },
  {
   "cell_type": "markdown",
   "metadata": {},
   "source": [
    "Удалим столбцы с датами."
   ]
  },
  {
   "cell_type": "code",
   "execution_count": 373,
   "metadata": {},
   "outputs": [],
   "source": [
    "df = df.drop(['date_created', 'last_seen'], axis=1)"
   ]
  },
  {
   "cell_type": "markdown",
   "metadata": {},
   "source": [
    "Оценим распределение времени между первой публикацей объявления и последним просмотром."
   ]
  },
  {
   "cell_type": "code",
   "execution_count": 374,
   "metadata": {
    "scrolled": true
   },
   "outputs": [
    {
     "data": {
      "image/png": "[encoded data removed]",
      "text/plain": [
       "<Figure size 432x288 with 1 Axes>"
      ]
     },
     "metadata": {
      "needs_background": "light"
     },
     "output_type": "display_data"
    }
   ],
   "source": [
    "df['date_diff'].plot(kind='hist', bins=20, range=(0,100)).set_xlabel('Дни между публикацией и последним просмотром');"
   ]
  },
  {
   "cell_type": "markdown",
   "metadata": {},
   "source": [
    "Большая часть публикаций через несколько дней после просмотра либо продается, либо не попадает в фильтры, т.к. разница между публикацией и последним просмотром всего несколько дней. Но есть и небольшое количество объявлений, которые продавались медленно."
   ]
  },
  {
   "cell_type": "markdown",
   "metadata": {},
   "source": [
    "Выведем количество пропущенных значений для каждого столбца."
   ]
  },
  {
   "cell_type": "code",
   "execution_count": 375,
   "metadata": {},
   "outputs": [
    {
     "data": {
      "text/html": [
       "<style type=\"text/css\">\n",
       "#T_34876_row0_col0, #T_34876_row2_col0, #T_34876_row4_col0, #T_34876_row5_col0, #T_34876_row6_col0, #T_34876_row8_col0, #T_34876_row10_col0 {\n",
       "  background-color: #3b4cc0;\n",
       "  color: #f1f1f1;\n",
       "}\n",
       "#T_34876_row1_col0 {\n",
       "  background-color: #6282ea;\n",
       "  color: #f1f1f1;\n",
       "}\n",
       "#T_34876_row3_col0 {\n",
       "  background-color: #8db0fe;\n",
       "  color: #000000;\n",
       "}\n",
       "#T_34876_row7_col0 {\n",
       "  background-color: #a3c2fe;\n",
       "  color: #000000;\n",
       "}\n",
       "#T_34876_row9_col0 {\n",
       "  background-color: #b40426;\n",
       "  color: #f1f1f1;\n",
       "}\n",
       "</style>\n",
       "<table id=\"T_34876\">\n",
       "  <thead>\n",
       "    <tr>\n",
       "      <th class=\"blank level0\" >&nbsp;</th>\n",
       "      <th id=\"T_34876_level0_col0\" class=\"col_heading level0 col0\" >0</th>\n",
       "    </tr>\n",
       "  </thead>\n",
       "  <tbody>\n",
       "    <tr>\n",
       "      <th id=\"T_34876_level0_row0\" class=\"row_heading level0 row0\" >price</th>\n",
       "      <td id=\"T_34876_row0_col0\" class=\"data row0 col0\" >0.000000</td>\n",
       "    </tr>\n",
       "    <tr>\n",
       "      <th id=\"T_34876_level0_row1\" class=\"row_heading level0 row1\" >vehicle_type</th>\n",
       "      <td id=\"T_34876_row1_col0\" class=\"data row1 col0\" >2.000000</td>\n",
       "    </tr>\n",
       "    <tr>\n",
       "      <th id=\"T_34876_level0_row2\" class=\"row_heading level0 row2\" >registration_year</th>\n",
       "      <td id=\"T_34876_row2_col0\" class=\"data row2 col0\" >0.000000</td>\n",
       "    </tr>\n",
       "    <tr>\n",
       "      <th id=\"T_34876_level0_row3\" class=\"row_heading level0 row3\" >gearbox</th>\n",
       "      <td id=\"T_34876_row3_col0\" class=\"data row3 col0\" >4.000000</td>\n",
       "    </tr>\n",
       "    <tr>\n",
       "      <th id=\"T_34876_level0_row4\" class=\"row_heading level0 row4\" >power</th>\n",
       "      <td id=\"T_34876_row4_col0\" class=\"data row4 col0\" >0.000000</td>\n",
       "    </tr>\n",
       "    <tr>\n",
       "      <th id=\"T_34876_level0_row5\" class=\"row_heading level0 row5\" >model</th>\n",
       "      <td id=\"T_34876_row5_col0\" class=\"data row5 col0\" >0.000000</td>\n",
       "    </tr>\n",
       "    <tr>\n",
       "      <th id=\"T_34876_level0_row6\" class=\"row_heading level0 row6\" >kilometer</th>\n",
       "      <td id=\"T_34876_row6_col0\" class=\"data row6 col0\" >0.000000</td>\n",
       "    </tr>\n",
       "    <tr>\n",
       "      <th id=\"T_34876_level0_row7\" class=\"row_heading level0 row7\" >fuel_type</th>\n",
       "      <td id=\"T_34876_row7_col0\" class=\"data row7 col0\" >5.000000</td>\n",
       "    </tr>\n",
       "    <tr>\n",
       "      <th id=\"T_34876_level0_row8\" class=\"row_heading level0 row8\" >brand</th>\n",
       "      <td id=\"T_34876_row8_col0\" class=\"data row8 col0\" >0.000000</td>\n",
       "    </tr>\n",
       "    <tr>\n",
       "      <th id=\"T_34876_level0_row9\" class=\"row_heading level0 row9\" >repaired</th>\n",
       "      <td id=\"T_34876_row9_col0\" class=\"data row9 col0\" >16.000000</td>\n",
       "    </tr>\n",
       "    <tr>\n",
       "      <th id=\"T_34876_level0_row10\" class=\"row_heading level0 row10\" >date_diff</th>\n",
       "      <td id=\"T_34876_row10_col0\" class=\"data row10 col0\" >0.000000</td>\n",
       "    </tr>\n",
       "  </tbody>\n",
       "</table>\n"
      ],
      "text/plain": [
       "<pandas.io.formats.style.Styler at 0x220e11b9b50>"
      ]
     },
     "execution_count": 375,
     "metadata": {},
     "output_type": "execute_result"
    }
   ],
   "source": [
    "pd.DataFrame(round(df.isna().mean()*100,)).style.background_gradient('coolwarm')"
   ]
  },
  {
   "cell_type": "markdown",
   "metadata": {},
   "source": [
    "Осталось много пропущенных значений в столбцах с типом автомобильного кузова, признаком была ли машина в ремонте или нет, типом топлива и типом коробки передач. Тип кузова, топлива и коробки передач можно восстановить по модели. Медиану по категориальному признаку не возьмешь, используем наиболее частое значение."
   ]
  },
  {
   "cell_type": "code",
   "execution_count": 376,
   "metadata": {},
   "outputs": [],
   "source": [
    "df['vehicle_type'] = df['vehicle_type'].fillna(df.groupby('model')['vehicle_type']\n",
    "                                               .transform(lambda x: x.value_counts().idxmax()))"
   ]
  },
  {
   "cell_type": "code",
   "execution_count": 377,
   "metadata": {},
   "outputs": [],
   "source": [
    "df['gearbox'] = df['gearbox'].fillna(df.groupby('model')['gearbox']\n",
    "                                                  .transform(lambda x: x.value_counts().idxmax()))  "
   ]
  },
  {
   "cell_type": "code",
   "execution_count": 378,
   "metadata": {},
   "outputs": [],
   "source": [
    "df['fuel_type'] = df['fuel_type'].fillna(df.groupby('model')['fuel_type']\n",
    "                                                  .transform(lambda x: x.value_counts().idxmax()))  "
   ]
  },
  {
   "cell_type": "markdown",
   "metadata": {},
   "source": [
    "В признаке repaired 17% пропущенных значений. Заполним их 'other'."
   ]
  },
  {
   "cell_type": "code",
   "execution_count": 379,
   "metadata": {},
   "outputs": [],
   "source": [
    "df['repaired'] = df['repaired'].fillna('other')"
   ]
  },
  {
   "cell_type": "code",
   "execution_count": 380,
   "metadata": {
    "scrolled": true
   },
   "outputs": [
    {
     "data": {
      "image/png": "[encoded data removed]",
      "text/plain": [
       "<Figure size 432x288 with 1 Axes>"
      ]
     },
     "metadata": {
      "needs_background": "light"
     },
     "output_type": "display_data"
    }
   ],
   "source": [
    "df['price'].plot(kind='hist').set_xlabel('Цена в евро)');"
   ]
  },
  {
   "cell_type": "code",
   "execution_count": 381,
   "metadata": {},
   "outputs": [
    {
     "data": {
      "image/png": "[encoded data removed]",
      "text/plain": [
       "<Figure size 432x288 with 1 Axes>"
      ]
     },
     "metadata": {
      "needs_background": "light"
     },
     "output_type": "display_data"
    }
   ],
   "source": [
    "df['registration_year'].plot(kind='hist').set_xlabel('Год регистрации');"
   ]
  },
  {
   "cell_type": "code",
   "execution_count": 382,
   "metadata": {},
   "outputs": [
    {
     "data": {
      "image/png": "[encoded data removed]",
      "text/plain": [
       "<Figure size 432x288 with 1 Axes>"
      ]
     },
     "metadata": {
      "needs_background": "light"
     },
     "output_type": "display_data"
    }
   ],
   "source": [
    "df['power'].plot(kind='hist').set_xlabel('Мощность в лошадиных силах');"
   ]
  },
  {
   "cell_type": "code",
   "execution_count": 383,
   "metadata": {},
   "outputs": [
    {
     "data": {
      "image/png": "[encoded data removed]",
      "text/plain": [
       "<Figure size 432x288 with 1 Axes>"
      ]
     },
     "metadata": {
      "needs_background": "light"
     },
     "output_type": "display_data"
    }
   ],
   "source": [
    "df['kilometer'].plot(kind='hist').set_xlabel('Пробег');"
   ]
  },
  {
   "cell_type": "code",
   "execution_count": 384,
   "metadata": {},
   "outputs": [
    {
     "name": "stdout",
     "output_type": "stream",
     "text": [
      "<class 'pandas.core.frame.DataFrame'>\n",
      "Int64Index: 300552 entries, 0 to 354368\n",
      "Data columns (total 11 columns):\n",
      " #   Column             Non-Null Count   Dtype  \n",
      "---  ------             --------------   -----  \n",
      " 0   price              300552 non-null  int64  \n",
      " 1   vehicle_type       300552 non-null  object \n",
      " 2   registration_year  300552 non-null  int64  \n",
      " 3   gearbox            300552 non-null  object \n",
      " 4   power              300552 non-null  float64\n",
      " 5   model              300552 non-null  object \n",
      " 6   kilometer          300552 non-null  int64  \n",
      " 7   fuel_type          300552 non-null  object \n",
      " 8   brand              300552 non-null  object \n",
      " 9   repaired           300552 non-null  object \n",
      " 10  date_diff          300552 non-null  int64  \n",
      "dtypes: float64(1), int64(4), object(6)\n",
      "memory usage: 27.5+ MB\n"
     ]
    }
   ],
   "source": [
    "df.info()"
   ]
  },
  {
   "cell_type": "markdown",
   "metadata": {},
   "source": [
    "Проверим, коррелируют ли признаки между собой. Сильная корреляция независимых признаков (мультиколлениарность) может стать причиной переобучения линейных моделей."
   ]
  },
  {
   "cell_type": "code",
   "execution_count": 385,
   "metadata": {},
   "outputs": [],
   "source": [
    "#df.corr()"
   ]
  },
  {
   "cell_type": "code",
   "execution_count": 386,
   "metadata": {
    "scrolled": true
   },
   "outputs": [
    {
     "name": "stdout",
     "output_type": "stream",
     "text": [
      "interval columns not set, guessing: ['price', 'registration_year', 'power', 'kilometer', 'date_diff']\n"
     ]
    },
    {
     "data": {
      "text/html": [
       "<div>\n",
       "<style scoped>\n",
       "    .dataframe tbody tr th:only-of-type {\n",
       "        vertical-align: middle;\n",
       "    }\n",
       "\n",
       "    .dataframe tbody tr th {\n",
       "        vertical-align: top;\n",
       "    }\n",
       "\n",
       "    .dataframe thead th {\n",
       "        text-align: right;\n",
       "    }\n",
       "</style>\n",
       "<table border=\"1\" class=\"dataframe\">\n",
       "  <thead>\n",
       "    <tr style=\"text-align: right;\">\n",
       "      <th></th>\n",
       "      <th>price</th>\n",
       "      <th>vehicle_type</th>\n",
       "      <th>registration_year</th>\n",
       "      <th>gearbox</th>\n",
       "      <th>power</th>\n",
       "      <th>model</th>\n",
       "      <th>kilometer</th>\n",
       "      <th>fuel_type</th>\n",
       "      <th>brand</th>\n",
       "      <th>repaired</th>\n",
       "      <th>date_diff</th>\n",
       "    </tr>\n",
       "  </thead>\n",
       "  <tbody>\n",
       "    <tr>\n",
       "      <th>price</th>\n",
       "      <td>1.000000</td>\n",
       "      <td>0.270442</td>\n",
       "      <td>0.706245</td>\n",
       "      <td>0.325816</td>\n",
       "      <td>0.507849</td>\n",
       "      <td>0.580292</td>\n",
       "      <td>0.318576</td>\n",
       "      <td>0.263512</td>\n",
       "      <td>0.342655</td>\n",
       "      <td>0.342288</td>\n",
       "      <td>0.007042</td>\n",
       "    </tr>\n",
       "    <tr>\n",
       "      <th>vehicle_type</th>\n",
       "      <td>0.270442</td>\n",
       "      <td>1.000000</td>\n",
       "      <td>0.181600</td>\n",
       "      <td>0.278621</td>\n",
       "      <td>0.507117</td>\n",
       "      <td>0.922622</td>\n",
       "      <td>0.175403</td>\n",
       "      <td>0.329056</td>\n",
       "      <td>0.605322</td>\n",
       "      <td>0.099604</td>\n",
       "      <td>0.007124</td>\n",
       "    </tr>\n",
       "    <tr>\n",
       "      <th>registration_year</th>\n",
       "      <td>0.706245</td>\n",
       "      <td>0.181600</td>\n",
       "      <td>1.000000</td>\n",
       "      <td>0.131733</td>\n",
       "      <td>0.264884</td>\n",
       "      <td>0.648190</td>\n",
       "      <td>0.484116</td>\n",
       "      <td>0.279248</td>\n",
       "      <td>0.337361</td>\n",
       "      <td>0.249875</td>\n",
       "      <td>0.006466</td>\n",
       "    </tr>\n",
       "    <tr>\n",
       "      <th>gearbox</th>\n",
       "      <td>0.325816</td>\n",
       "      <td>0.278621</td>\n",
       "      <td>0.131733</td>\n",
       "      <td>1.000000</td>\n",
       "      <td>0.580789</td>\n",
       "      <td>0.663258</td>\n",
       "      <td>0.019003</td>\n",
       "      <td>0.151392</td>\n",
       "      <td>0.506537</td>\n",
       "      <td>0.027022</td>\n",
       "      <td>0.008008</td>\n",
       "    </tr>\n",
       "    <tr>\n",
       "      <th>power</th>\n",
       "      <td>0.507849</td>\n",
       "      <td>0.507117</td>\n",
       "      <td>0.264884</td>\n",
       "      <td>0.580789</td>\n",
       "      <td>1.000000</td>\n",
       "      <td>0.803171</td>\n",
       "      <td>0.106506</td>\n",
       "      <td>0.274496</td>\n",
       "      <td>0.544567</td>\n",
       "      <td>0.103138</td>\n",
       "      <td>0.000000</td>\n",
       "    </tr>\n",
       "    <tr>\n",
       "      <th>model</th>\n",
       "      <td>0.580292</td>\n",
       "      <td>0.922622</td>\n",
       "      <td>0.648190</td>\n",
       "      <td>0.663258</td>\n",
       "      <td>0.803171</td>\n",
       "      <td>1.000000</td>\n",
       "      <td>0.449110</td>\n",
       "      <td>0.561716</td>\n",
       "      <td>0.998470</td>\n",
       "      <td>0.232486</td>\n",
       "      <td>0.065989</td>\n",
       "    </tr>\n",
       "    <tr>\n",
       "      <th>kilometer</th>\n",
       "      <td>0.318576</td>\n",
       "      <td>0.175403</td>\n",
       "      <td>0.484116</td>\n",
       "      <td>0.019003</td>\n",
       "      <td>0.106506</td>\n",
       "      <td>0.449110</td>\n",
       "      <td>1.000000</td>\n",
       "      <td>0.147346</td>\n",
       "      <td>0.272126</td>\n",
       "      <td>0.226308</td>\n",
       "      <td>0.007532</td>\n",
       "    </tr>\n",
       "    <tr>\n",
       "      <th>fuel_type</th>\n",
       "      <td>0.263512</td>\n",
       "      <td>0.329056</td>\n",
       "      <td>0.279248</td>\n",
       "      <td>0.151392</td>\n",
       "      <td>0.274496</td>\n",
       "      <td>0.561716</td>\n",
       "      <td>0.147346</td>\n",
       "      <td>1.000000</td>\n",
       "      <td>0.319273</td>\n",
       "      <td>0.061752</td>\n",
       "      <td>0.000000</td>\n",
       "    </tr>\n",
       "    <tr>\n",
       "      <th>brand</th>\n",
       "      <td>0.342655</td>\n",
       "      <td>0.605322</td>\n",
       "      <td>0.337361</td>\n",
       "      <td>0.506537</td>\n",
       "      <td>0.544567</td>\n",
       "      <td>0.998470</td>\n",
       "      <td>0.272126</td>\n",
       "      <td>0.319273</td>\n",
       "      <td>1.000000</td>\n",
       "      <td>0.146849</td>\n",
       "      <td>0.039666</td>\n",
       "    </tr>\n",
       "    <tr>\n",
       "      <th>repaired</th>\n",
       "      <td>0.342288</td>\n",
       "      <td>0.099604</td>\n",
       "      <td>0.249875</td>\n",
       "      <td>0.027022</td>\n",
       "      <td>0.103138</td>\n",
       "      <td>0.232486</td>\n",
       "      <td>0.226308</td>\n",
       "      <td>0.061752</td>\n",
       "      <td>0.146849</td>\n",
       "      <td>1.000000</td>\n",
       "      <td>0.010823</td>\n",
       "    </tr>\n",
       "    <tr>\n",
       "      <th>date_diff</th>\n",
       "      <td>0.007042</td>\n",
       "      <td>0.007124</td>\n",
       "      <td>0.006466</td>\n",
       "      <td>0.008008</td>\n",
       "      <td>0.000000</td>\n",
       "      <td>0.065989</td>\n",
       "      <td>0.007532</td>\n",
       "      <td>0.000000</td>\n",
       "      <td>0.039666</td>\n",
       "      <td>0.010823</td>\n",
       "      <td>1.000000</td>\n",
       "    </tr>\n",
       "  </tbody>\n",
       "</table>\n",
       "</div>"
      ],
      "text/plain": [
       "                      price  vehicle_type  registration_year   gearbox  \\\n",
       "price              1.000000      0.270442           0.706245  0.325816   \n",
       "vehicle_type       0.270442      1.000000           0.181600  0.278621   \n",
       "registration_year  0.706245      0.181600           1.000000  0.131733   \n",
       "gearbox            0.325816      0.278621           0.131733  1.000000   \n",
       "power              0.507849      0.507117           0.264884  0.580789   \n",
       "model              0.580292      0.922622           0.648190  0.663258   \n",
       "kilometer          0.318576      0.175403           0.484116  0.019003   \n",
       "fuel_type          0.263512      0.329056           0.279248  0.151392   \n",
       "brand              0.342655      0.605322           0.337361  0.506537   \n",
       "repaired           0.342288      0.099604           0.249875  0.027022   \n",
       "date_diff          0.007042      0.007124           0.006466  0.008008   \n",
       "\n",
       "                      power     model  kilometer  fuel_type     brand  \\\n",
       "price              0.507849  0.580292   0.318576   0.263512  0.342655   \n",
       "vehicle_type       0.507117  0.922622   0.175403   0.329056  0.605322   \n",
       "registration_year  0.264884  0.648190   0.484116   0.279248  0.337361   \n",
       "gearbox            0.580789  0.663258   0.019003   0.151392  0.506537   \n",
       "power              1.000000  0.803171   0.106506   0.274496  0.544567   \n",
       "model              0.803171  1.000000   0.449110   0.561716  0.998470   \n",
       "kilometer          0.106506  0.449110   1.000000   0.147346  0.272126   \n",
       "fuel_type          0.274496  0.561716   0.147346   1.000000  0.319273   \n",
       "brand              0.544567  0.998470   0.272126   0.319273  1.000000   \n",
       "repaired           0.103138  0.232486   0.226308   0.061752  0.146849   \n",
       "date_diff          0.000000  0.065989   0.007532   0.000000  0.039666   \n",
       "\n",
       "                   repaired  date_diff  \n",
       "price              0.342288   0.007042  \n",
       "vehicle_type       0.099604   0.007124  \n",
       "registration_year  0.249875   0.006466  \n",
       "gearbox            0.027022   0.008008  \n",
       "power              0.103138   0.000000  \n",
       "model              0.232486   0.065989  \n",
       "kilometer          0.226308   0.007532  \n",
       "fuel_type          0.061752   0.000000  \n",
       "brand              0.146849   0.039666  \n",
       "repaired           1.000000   0.010823  \n",
       "date_diff          0.010823   1.000000  "
      ]
     },
     "execution_count": 386,
     "metadata": {},
     "output_type": "execute_result"
    }
   ],
   "source": [
    "df.phik_matrix()"
   ]
  },
  {
   "cell_type": "markdown",
   "metadata": {},
   "source": [
    "Есть сильная зависимость признаков:\n",
    "* модель - бренд\n",
    "* модель - мощность\n",
    "* модель - тип кузов\n",
    "\n",
    "Модель - важный признак для датафрейма, не хотелось бы его удалять. Будем использовать модели с регуляризацией."
   ]
  },
  {
   "cell_type": "markdown",
   "metadata": {},
   "source": [
    "**Выводы**\n",
    "\n",
    "В данных было много некорректных значений, пропущенных значений, лишние столбцы, дубли.\n",
    "Некорректные значения были удалены:\n",
    "- оставлены строки с годом регистрации автомобиля с 1980 по 2016\n",
    "- строки с нулевыми ценами удалены\n",
    "- строки с мощностью более 500 л.с. удалены\n",
    "- строки с незаполненной моделью удалены\n",
    "- строки с мощность до 40 л.с. заполнены медианными значениями по модели\n",
    "- заполнены пропуски в категориальных значениях: тип кузова, тип топлива, тип коробки передач.\n",
    "\n",
    "Большая часть представленных автомобилей зарегистрирована с 1996 по 2002 гг., пробег автомобилей находится в районе 140-145 тыс.км. Самые частые значения мощности от 90 л.с. до 140 л.с. Больше всего авто с ценой до 2500 евро, чем выше цена, тем меньше предложений."
   ]
  },
  {
   "cell_type": "markdown",
   "metadata": {},
   "source": [
    "## Обучение моделей"
   ]
  },
  {
   "cell_type": "markdown",
   "metadata": {},
   "source": [
    "Закодируем категориальные признаки."
   ]
  },
  {
   "cell_type": "markdown",
   "metadata": {},
   "source": [
    "Разделим данные на признаки и целовой признак."
   ]
  },
  {
   "cell_type": "code",
   "execution_count": 389,
   "metadata": {},
   "outputs": [],
   "source": [
    "features = df.drop(['price'], axis = 1)\n",
    "target = df['price']"
   ]
  },
  {
   "cell_type": "markdown",
   "metadata": {},
   "source": [
    "Подготовим выборки для обучения."
   ]
  },
  {
   "cell_type": "code",
   "execution_count": 391,
   "metadata": {},
   "outputs": [],
   "source": [
    "features_train, features_test = train_test_split(features, test_size=0.25, random_state=12345)\n",
    "target_train, target_test = train_test_split(target, test_size=0.25, random_state=12345)"
   ]
  },
  {
   "cell_type": "markdown",
   "metadata": {},
   "source": [
    "Масштабируем признаки."
   ]
  },
  {
   "cell_type": "code",
   "execution_count": 392,
   "metadata": {},
   "outputs": [],
   "source": [
    "scaler = StandardScaler()\n",
    "numeric_columns = ['registration_year','power','kilometer', 'date_diff']\n",
    "scaler.fit(features_train[numeric_columns])\n",
    "features_train[numeric_columns] = scaler.transform(features_train[numeric_columns])\n",
    "features_test[numeric_columns] = scaler.transform(features_test[numeric_columns])"
   ]
  },
  {
   "cell_type": "markdown",
   "metadata": {},
   "source": [
    "Закодируем катгориальные признаки."
   ]
  },
  {
   "cell_type": "code",
   "execution_count": 393,
   "metadata": {},
   "outputs": [
    {
     "data": {
      "text/plain": [
       "Index(['vehicle_type', 'registration_year', 'gearbox', 'power', 'model',\n",
       "       'kilometer', 'fuel_type', 'brand', 'repaired', 'date_diff'],\n",
       "      dtype='object')"
      ]
     },
     "execution_count": 393,
     "metadata": {},
     "output_type": "execute_result"
    }
   ],
   "source": [
    "features_test.columns"
   ]
  },
  {
   "cell_type": "code",
   "execution_count": 394,
   "metadata": {},
   "outputs": [],
   "source": [
    "def get_dummies_func(data_train, data_test, column):\n",
    "    encoder = OneHotEncoder(drop='first')\n",
    "    encoder.fit(pd.DataFrame(data_train[column],columns=[column], \n",
    "                                         index=data_train.index))\n",
    "    \n",
    "    df_train = encoder.transform(pd.DataFrame(data_train[column],columns=[column], \n",
    "                                         index=data_train.index))\n",
    "    df_test = encoder.transform(pd.DataFrame(data_test[column],columns=[column], \n",
    "                                         index=data_test.index))\n",
    "    \n",
    "    df_train = pd.DataFrame.sparse.from_spmatrix(df_train, index=data_train.index)\n",
    "    df_test = pd.DataFrame.sparse.from_spmatrix(df_test, index=data_test.index)\n",
    "    \n",
    "    data_train = data_train.drop(column, axis=1)\n",
    "    data_test = data_test.drop(column, axis=1)\n",
    "    \n",
    "    lsuffix = '_x' + column\n",
    "    rsuffix = '_y' + column\n",
    "    return data_train.join(df_train, lsuffix=lsuffix, rsuffix=rsuffix\n",
    "                          ), data_test.join(df_test, lsuffix=lsuffix, rsuffix=rsuffix)"
   ]
  },
  {
   "cell_type": "code",
   "execution_count": 397,
   "metadata": {},
   "outputs": [],
   "source": [
    "cat_columns = ['vehicle_type', 'gearbox', 'model', 'fuel_type', 'brand', 'repaired']\n",
    "\n",
    "features_train_ohe = features_train.copy()\n",
    "features_test_ohe = features_test.copy()\n",
    "\n",
    "for column in cat_columns:\n",
    "    features_train_ohe, features_test_ohe = get_dummies_func(features_train_ohe, features_test_ohe, column)"
   ]
  },
  {
   "cell_type": "code",
   "execution_count": 398,
   "metadata": {},
   "outputs": [
    {
     "name": "stdout",
     "output_type": "stream",
     "text": [
      "Размеры Train/Test:  (225414, 10) (75138, 10) (225414,) (75138,)\n"
     ]
    }
   ],
   "source": [
    "print(\"Размеры Train/Test: \", features_train.shape, features_test.shape, target_train.shape, target_test.shape)"
   ]
  },
  {
   "cell_type": "code",
   "execution_count": 399,
   "metadata": {},
   "outputs": [
    {
     "name": "stdout",
     "output_type": "stream",
     "text": [
      "Размеры Train/Test:  (225414, 305) (75138, 305)\n"
     ]
    }
   ],
   "source": [
    "print(\"Размеры Train/Test: \", features_train_ohe.shape, features_test_ohe.shape)"
   ]
  },
  {
   "cell_type": "markdown",
   "metadata": {},
   "source": [
    "## Регрессия Ridge"
   ]
  },
  {
   "cell_type": "markdown",
   "metadata": {},
   "source": [
    "Рассмотрим, каких показателей можно добиться, обучив модель Ridge."
   ]
  },
  {
   "cell_type": "markdown",
   "metadata": {},
   "source": [
    "Для начала масштабрируем признаки."
   ]
  },
  {
   "cell_type": "code",
   "execution_count": 400,
   "metadata": {},
   "outputs": [
    {
     "name": "stderr",
     "output_type": "stream",
     "text": [
      "C:\\anaconda3\\lib\\site-packages\\sklearn\\utils\\validation.py:1688: FutureWarning: Feature names only support names that are all strings. Got feature names with dtypes: ['int', 'str']. An error will be raised in 1.2.\n",
      "  warnings.warn(\n",
      "C:\\anaconda3\\lib\\site-packages\\sklearn\\utils\\validation.py:624: UserWarning: pandas.DataFrame with sparse columns found.It will be converted to a dense numpy array.\n",
      "  warnings.warn(\n"
     ]
    },
    {
     "name": "stdout",
     "output_type": "stream",
     "text": [
      "Время расчета: 90689.23 ms / 90.69 sec\n",
      "CPU times: total: 5.05 s\n",
      "Wall time: 1min 30s\n"
     ]
    }
   ],
   "source": [
    "%%time\n",
    "\n",
    "regressor = Ridge()\n",
    "\n",
    "param_grid = {\n",
    "              'alpha': np.arange(1, 100, 10)\n",
    "             }\n",
    "\n",
    "# инициализируем GridSearchCV\n",
    "grid_search_ridge = GridSearchCV(estimator = regressor, \n",
    "                           param_grid = param_grid, \n",
    "                           cv = 3,\n",
    "                           n_jobs = -1, \n",
    "                           verbose = 0, \n",
    "                           scoring = 'neg_root_mean_squared_error',\n",
    "                          )\n",
    "start_time_ridge = time.time()\n",
    "grid_search_ridge.fit(features_train_ohe, target_train)\n",
    "\n",
    "end_time_ridge = time.time()\n",
    "time_ridge = end_time_ridge - start_time_ridge\n",
    "\n",
    "print('Время расчета:', round(time_ridge * 1000, 2), 'ms /', round(time_ridge, 2), 'sec')"
   ]
  },
  {
   "cell_type": "code",
   "execution_count": 401,
   "metadata": {},
   "outputs": [
    {
     "data": {
      "text/plain": [
       "{'alpha': 1}"
      ]
     },
     "execution_count": 401,
     "metadata": {},
     "output_type": "execute_result"
    }
   ],
   "source": [
    "grid_search_ridge.best_params_"
   ]
  },
  {
   "cell_type": "code",
   "execution_count": 402,
   "metadata": {},
   "outputs": [
    {
     "data": {
      "text/plain": [
       "2306.0024727017963"
      ]
     },
     "execution_count": 402,
     "metadata": {},
     "output_type": "execute_result"
    }
   ],
   "source": [
    "rmse_ridge = - grid_search_ridge.best_score_\n",
    "rmse_ridge"
   ]
  },
  {
   "cell_type": "code",
   "execution_count": 411,
   "metadata": {},
   "outputs": [
    {
     "name": "stderr",
     "output_type": "stream",
     "text": [
      "C:\\anaconda3\\lib\\site-packages\\sklearn\\utils\\validation.py:1688: FutureWarning: Feature names only support names that are all strings. Got feature names with dtypes: ['int', 'str']. An error will be raised in 1.2.\n",
      "  warnings.warn(\n",
      "C:\\anaconda3\\lib\\site-packages\\sklearn\\utils\\validation.py:624: UserWarning: pandas.DataFrame with sparse columns found.It will be converted to a dense numpy array.\n",
      "  warnings.warn(\n"
     ]
    },
    {
     "name": "stdout",
     "output_type": "stream",
     "text": [
      "Время расчета: 662.48 ms / 0.66 sec\n",
      "CPU times: total: 766 ms\n",
      "Wall time: 662 ms\n"
     ]
    }
   ],
   "source": [
    "%%time\n",
    "\n",
    "start_time_ridge_pr = time.time()\n",
    "\n",
    "predictions_ridge = grid_search_ridge.best_estimator_.predict(features_train_ohe)\n",
    "\n",
    "end_time_ridge_pr = time.time()\n",
    "time_ridge_pr = end_time_ridge_pr - start_time_ridge_pr\n",
    "\n",
    "# rmse_cb_pr = mean_squared_error(target_test, predictions_cb) ** 0.5\n",
    "\n",
    "# print('RMSE для линейной модели на тестовой выборке:', round(rmse_lb_pr, 2))\n",
    "print('Время расчета:', round(time_ridge_pr * 1000, 2), 'ms /', round(time_ridge_pr, 2), 'sec')"
   ]
  },
  {
   "cell_type": "markdown",
   "metadata": {},
   "source": [
    "Значение метрики RMSE ниже порогового."
   ]
  },
  {
   "cell_type": "markdown",
   "metadata": {},
   "source": [
    "## LightGBM"
   ]
  },
  {
   "cell_type": "markdown",
   "metadata": {},
   "source": [
    "Градиентный бустинг LightGBM"
   ]
  },
  {
   "cell_type": "code",
   "execution_count": 403,
   "metadata": {},
   "outputs": [
    {
     "name": "stdout",
     "output_type": "stream",
     "text": [
      "Время расчета: 433904.3 ms / 433.9 sec\n",
      "CPU times: total: 20.2 s\n",
      "Wall time: 7min 13s\n"
     ]
    }
   ],
   "source": [
    "%%time\n",
    "\n",
    "param_grid = {'learning_rate': [0.1, 0.3, 0.5, 0.7],\n",
    "              'max_depth': [15, 20, 30],\n",
    "              'num_leaves':[20, 50, 100]\n",
    "             }\n",
    "\n",
    "lgbm = lgb.LGBMRegressor(n_jobs = 8)\n",
    "\n",
    "# инициализируем GridSearchCV\n",
    "grid_search_lb = GridSearchCV(estimator = lgbm, \n",
    "                           param_grid = param_grid, \n",
    "                           cv = 3,\n",
    "                           n_jobs = -1, \n",
    "                           verbose = 0, \n",
    "                           scoring = 'neg_root_mean_squared_error',\n",
    "                          )\n",
    "start_time_lb = time.time()\n",
    "grid_search_lb.fit(features_train_ohe, target_train)\n",
    "\n",
    "end_time_lb = time.time()\n",
    "time_lb = end_time_lb - start_time_lb\n",
    "\n",
    "print('Время расчета:', round(time_lb * 1000, 2), 'ms /', round(time_lb, 2), 'sec')"
   ]
  },
  {
   "cell_type": "code",
   "execution_count": 404,
   "metadata": {},
   "outputs": [
    {
     "data": {
      "text/plain": [
       "{'learning_rate': 0.3, 'max_depth': 20, 'num_leaves': 100}"
      ]
     },
     "execution_count": 404,
     "metadata": {},
     "output_type": "execute_result"
    }
   ],
   "source": [
    "grid_search_lb.best_params_"
   ]
  },
  {
   "cell_type": "code",
   "execution_count": 405,
   "metadata": {},
   "outputs": [
    {
     "data": {
      "text/plain": [
       "1483.44639736779"
      ]
     },
     "execution_count": 405,
     "metadata": {},
     "output_type": "execute_result"
    }
   ],
   "source": [
    "rmse_lb = - grid_search_lb.best_score_\n",
    "rmse_lb"
   ]
  },
  {
   "cell_type": "code",
   "execution_count": 410,
   "metadata": {},
   "outputs": [
    {
     "name": "stdout",
     "output_type": "stream",
     "text": [
      "Время расчета: 1828.32 ms / 1.83 sec\n",
      "CPU times: total: 4.14 s\n",
      "Wall time: 1.83 s\n"
     ]
    }
   ],
   "source": [
    "%%time\n",
    "\n",
    "start_time_lb_pr = time.time()\n",
    "\n",
    "predictions_lb = grid_search_lb.best_estimator_.predict(features_train_ohe)\n",
    "\n",
    "end_time_lb_pr = time.time()\n",
    "time_lb_pr = end_time_lb_pr - start_time_lb_pr\n",
    "\n",
    "# rmse_cb_pr = mean_squared_error(target_test, predictions_cb) ** 0.5\n",
    "\n",
    "# print('RMSE для линейной модели на тестовой выборке:', round(rmse_lb_pr, 2))\n",
    "print('Время расчета:', round(time_lb_pr * 1000, 2), 'ms /', round(time_lb_pr, 2), 'sec')"
   ]
  },
  {
   "cell_type": "markdown",
   "metadata": {},
   "source": [
    "RMSE модели LightGBM намного лучше, чем RMSE линейной регрессии."
   ]
  },
  {
   "cell_type": "markdown",
   "metadata": {},
   "source": [
    "## CatBoost"
   ]
  },
  {
   "cell_type": "code",
   "execution_count": 406,
   "metadata": {},
   "outputs": [
    {
     "name": "stdout",
     "output_type": "stream",
     "text": [
      "Время расчета: 220554.91 ms / 220.55 sec\n",
      "CPU times: total: 2min 22s\n",
      "Wall time: 3min 40s\n"
     ]
    }
   ],
   "source": [
    "%%time\n",
    "\n",
    "param_grid_catb = {'learning_rate':[0.1, 0.5],\n",
    "                   'iterations': [200],\n",
    "                    'verbose':[False]\n",
    "                  }\n",
    "\n",
    "catb = CatBoostRegressor(cat_features=['vehicle_type','gearbox','model','fuel_type', 'brand', 'repaired'])\n",
    "\n",
    "# инициализируем GridSearchCV\n",
    "grid_search_catb = GridSearchCV(estimator = catb, \n",
    "                           param_grid = param_grid_catb, \n",
    "                           cv = 3,\n",
    "                           n_jobs = -1, \n",
    "                           verbose = 0,                           \n",
    "                           scoring = 'neg_root_mean_squared_error',\n",
    "                          )\n",
    "start_time_cb = time.time()\n",
    "grid_search_catb.fit(features_train, target_train)\n",
    "end_time_cb = time.time()\n",
    "time_cb = end_time_cb - start_time_cb\n",
    "\n",
    "print('Время расчета:', round(time_cb * 1000, 2), 'ms /', round(time_cb, 2), 'sec')"
   ]
  },
  {
   "cell_type": "code",
   "execution_count": 407,
   "metadata": {},
   "outputs": [
    {
     "data": {
      "text/plain": [
       "{'iterations': 200, 'learning_rate': 0.5, 'verbose': False}"
      ]
     },
     "execution_count": 407,
     "metadata": {},
     "output_type": "execute_result"
    }
   ],
   "source": [
    "grid_search_catb.best_params_"
   ]
  },
  {
   "cell_type": "code",
   "execution_count": 408,
   "metadata": {},
   "outputs": [
    {
     "data": {
      "text/plain": [
       "1518.813646699937"
      ]
     },
     "execution_count": 408,
     "metadata": {},
     "output_type": "execute_result"
    }
   ],
   "source": [
    "rmse_cb = -grid_search_catb.best_score_\n",
    "rmse_cb"
   ]
  },
  {
   "cell_type": "code",
   "execution_count": 409,
   "metadata": {},
   "outputs": [
    {
     "name": "stdout",
     "output_type": "stream",
     "text": [
      "Время расчета: 767.12 ms / 0.77 sec\n",
      "CPU times: total: 1.45 s\n",
      "Wall time: 768 ms\n"
     ]
    }
   ],
   "source": [
    "%%time\n",
    "\n",
    "start_time_cb_pr = time.time()\n",
    "\n",
    "predictions_cb = grid_search_catb.best_estimator_.predict(features_train)\n",
    "\n",
    "end_time_cb_pr = time.time()\n",
    "time_cb_pr = end_time_cb_pr - start_time_cb_pr\n",
    "\n",
    "# rmse_cb_pr = mean_squared_error(target_test, predictions_cb) ** 0.5\n",
    "\n",
    "# print('RMSE для линейной модели на тестовой выборке:', round(rmse_lb_pr, 2))\n",
    "print('Время расчета:', round(time_cb_pr * 1000, 2), 'ms /', round(time_cb_pr, 2), 'sec')"
   ]
  },
  {
   "cell_type": "markdown",
   "metadata": {},
   "source": [
    "Соберем сводную талицу по показателям качества и времени расчета моделей."
   ]
  },
  {
   "cell_type": "code",
   "execution_count": 412,
   "metadata": {
    "scrolled": true
   },
   "outputs": [
    {
     "data": {
      "text/html": [
       "<div>\n",
       "<style scoped>\n",
       "    .dataframe tbody tr th:only-of-type {\n",
       "        vertical-align: middle;\n",
       "    }\n",
       "\n",
       "    .dataframe tbody tr th {\n",
       "        vertical-align: top;\n",
       "    }\n",
       "\n",
       "    .dataframe thead th {\n",
       "        text-align: right;\n",
       "    }\n",
       "</style>\n",
       "<table border=\"1\" class=\"dataframe\">\n",
       "  <thead>\n",
       "    <tr style=\"text-align: right;\">\n",
       "      <th></th>\n",
       "      <th>model</th>\n",
       "      <th>time_train_sec</th>\n",
       "      <th>time_prediction_sec</th>\n",
       "      <th>RMSE_train</th>\n",
       "    </tr>\n",
       "  </thead>\n",
       "  <tbody>\n",
       "    <tr>\n",
       "      <th>0</th>\n",
       "      <td>Ridge</td>\n",
       "      <td>90.69</td>\n",
       "      <td>0.66</td>\n",
       "      <td>2306.00</td>\n",
       "    </tr>\n",
       "    <tr>\n",
       "      <th>1</th>\n",
       "      <td>LightGBM</td>\n",
       "      <td>433.90</td>\n",
       "      <td>1.83</td>\n",
       "      <td>1483.45</td>\n",
       "    </tr>\n",
       "    <tr>\n",
       "      <th>2</th>\n",
       "      <td>CatBoost</td>\n",
       "      <td>220.55</td>\n",
       "      <td>0.77</td>\n",
       "      <td>1518.81</td>\n",
       "    </tr>\n",
       "  </tbody>\n",
       "</table>\n",
       "</div>"
      ],
      "text/plain": [
       "      model  time_train_sec  time_prediction_sec  RMSE_train\n",
       "0     Ridge           90.69                 0.66     2306.00\n",
       "1  LightGBM          433.90                 1.83     1483.45\n",
       "2  CatBoost          220.55                 0.77     1518.81"
      ]
     },
     "execution_count": 412,
     "metadata": {},
     "output_type": "execute_result"
    }
   ],
   "source": [
    "speed = pd.DataFrame({'model': ['Ridge', 'LightGBM', 'CatBoost'],\n",
    "                      'time_train_sec': [ round(time_ridge, 2),  round(time_lb, 2),  round(time_cb, 2)],\n",
    "                      'time_prediction_sec': [ round(time_ridge_pr, 2),  round(time_lb_pr, 2),  round(time_cb_pr, 2)],\n",
    "                      'RMSE_train': [ round(rmse_ridge, 2),  round(rmse_lb, 2),  round(rmse_cb, 2)]})\n",
    "speed"
   ]
  },
  {
   "cell_type": "markdown",
   "metadata": {},
   "source": [
    "Самое высокое качество у модели LightGBM, но она и обучается и предсказывает дольше всех: 7 мин 13 сек против 3 мин 40 сек CatBoost. Ridge обучается в 5 раз быстрее, но и качество у нее намного ниже."
   ]
  },
  {
   "cell_type": "markdown",
   "metadata": {},
   "source": [
    "**Выводы**\n",
    "\n",
    "Было обучено три модели: регрессия Ridge и две модели градиентного бустинга: LightGBM, CatBoost.\n",
    "\n",
    "CatBoost обучается в два раза быстрее LightGBM, качество ниже незначительно."
   ]
  },
  {
   "cell_type": "markdown",
   "metadata": {},
   "source": [
    "## Анализ моделей"
   ]
  },
  {
   "cell_type": "markdown",
   "metadata": {},
   "source": [
    "Посчитаем RMSE на тестовых данных."
   ]
  },
  {
   "cell_type": "markdown",
   "metadata": {},
   "source": [
    "### CatBoost"
   ]
  },
  {
   "cell_type": "code",
   "execution_count": 414,
   "metadata": {},
   "outputs": [
    {
     "name": "stdout",
     "output_type": "stream",
     "text": [
      "RMSE для линейной модели на тестовой выборке: 1484.73\n",
      "Время расчета: 346.0 ms / 0.35 sec\n",
      "CPU times: total: 562 ms\n",
      "Wall time: 349 ms\n"
     ]
    }
   ],
   "source": [
    "%%time\n",
    "\n",
    "start_time_final = time.time()\n",
    "\n",
    "predictions = grid_search_catb.best_estimator_.predict(features_test)\n",
    "\n",
    "end_time_final = time.time()\n",
    "time_final = end_time_final - start_time_final\n",
    "\n",
    "rmse_final = mean_squared_error(target_test, predictions) ** 0.5\n",
    "\n",
    "print('RMSE для линейной модели на тестовой выборке:', round(rmse_final, 2))\n",
    "print('Время расчета:', round(time_final * 1000, 2), 'ms /', round(time_final, 2), 'sec')"
   ]
  },
  {
   "cell_type": "markdown",
   "metadata": {},
   "source": [
    "RMSE остался на хорошем уровне."
   ]
  },
  {
   "cell_type": "markdown",
   "metadata": {},
   "source": [
    "# Итоговый вывод"
   ]
  },
  {
   "cell_type": "markdown",
   "metadata": {},
   "source": [
    "Сервис по продаже автомобилей с пробегом «Не бит, не крашен» разрабатывает приложение, чтобы привлечь новых клиентов. В нём можно будет узнать рыночную стоимость своего автомобиля. \n",
    "Необходимо было построить модель, которая умеет её определять. В нашем распоряжении данные о технических характеристиках, комплектации и ценах других автомобилей.\n",
    "\n",
    "Критерии, которые важны заказчику:\n",
    "* качество предсказания;\n",
    "* время обучения модели;\n",
    "* время предсказания модели.\n",
    "\n",
    "Была проведена обработка данных. В данных было много некорректных значений, пропущенных значений, лишние столбцы, дубли.\n",
    "Некорректные значения были удалены:\n",
    "- оставлены строки с годом регистрации автомобиля с 1980 по 2016\n",
    "- строки с нулевыми ценами удалены\n",
    "- строки с мощностью более 500 л.с. удалены\n",
    "- строки с незаполненной моделью удалены\n",
    "- строки с мощность до 40 л.с. заполнены медианными значениями по модели\n",
    "- заполнены пропуски в категориальных значениях: тип кузова, тип топлива, тип коробки передач.\n",
    "\n",
    "Большая часть представленных автомобилей зарегистрирована с 2000 по 2004 гг., пробег автомобилей находится в районе 150 тыс.км. Самые частые значения мощности от 90 л.с. до 140 л.с. Больше всего авто с ценой до 2500 евро, чем выше цена, тем меньше предложений.\n",
    "\n",
    "Были обучены три модели: Ridge и две модели градиентного бустинга LightGBM, CatBoost.\n",
    "\n",
    "CatBoost (3 мин 40 сек) обучается в два раза быстрее LightGBM (7 мин 13 сек), но незначительно, и качество ее немного ниже, чем у LightGBM: 1518 против 1483. Качество модели Ridge намного хуже, хотя и проходит пороговое значение RMSE в 2500.\n",
    "\n",
    "Лучшая модель для предсказания цены модель CatBoost с RMSE 1518."
   ]
  }
 ],
 "metadata": {
  "ExecuteTimeLog": [
   {
    "duration": 3,
    "start_time": "2023-01-21T15:15:28.515Z"
   },
   {
    "duration": 16,
    "start_time": "2023-01-21T15:15:28.520Z"
   },
   {
    "duration": 1207,
    "start_time": "2023-01-21T15:15:28.538Z"
   },
   {
    "duration": 1015,
    "start_time": "2023-01-21T15:15:29.748Z"
   },
   {
    "duration": 110,
    "start_time": "2023-01-21T15:15:30.764Z"
   },
   {
    "duration": 6,
    "start_time": "2023-01-21T15:15:30.875Z"
   },
   {
    "duration": 20,
    "start_time": "2023-01-21T15:15:30.882Z"
   },
   {
    "duration": 1218,
    "start_time": "2023-01-21T15:15:30.905Z"
   },
   {
    "duration": 103,
    "start_time": "2023-01-21T15:15:32.125Z"
   },
   {
    "duration": 99,
    "start_time": "2023-01-21T15:15:32.230Z"
   },
   {
    "duration": 45,
    "start_time": "2023-01-21T15:15:32.331Z"
   },
   {
    "duration": 54,
    "start_time": "2023-01-21T15:15:32.378Z"
   },
   {
    "duration": 44,
    "start_time": "2023-01-21T15:15:32.434Z"
   },
   {
    "duration": 43,
    "start_time": "2023-01-21T15:15:32.480Z"
   },
   {
    "duration": 22,
    "start_time": "2023-01-21T15:15:32.525Z"
   },
   {
    "duration": 31,
    "start_time": "2023-01-21T15:15:32.548Z"
   },
   {
    "duration": 20,
    "start_time": "2023-01-21T15:15:32.581Z"
   },
   {
    "duration": 31,
    "start_time": "2023-01-21T15:15:32.602Z"
   },
   {
    "duration": 14,
    "start_time": "2023-01-21T15:15:32.635Z"
   },
   {
    "duration": 14,
    "start_time": "2023-01-21T15:15:32.651Z"
   },
   {
    "duration": 71,
    "start_time": "2023-01-21T15:15:32.667Z"
   },
   {
    "duration": 131,
    "start_time": "2023-01-21T15:15:32.739Z"
   },
   {
    "duration": 43,
    "start_time": "2023-01-21T15:15:32.872Z"
   },
   {
    "duration": 137,
    "start_time": "2023-01-21T15:15:32.917Z"
   },
   {
    "duration": 247,
    "start_time": "2023-01-21T15:15:33.056Z"
   },
   {
    "duration": 281,
    "start_time": "2023-01-21T15:15:33.304Z"
   },
   {
    "duration": 17,
    "start_time": "2023-01-21T15:15:33.587Z"
   },
   {
    "duration": 19,
    "start_time": "2023-01-21T15:15:33.608Z"
   },
   {
    "duration": 19,
    "start_time": "2023-01-21T15:15:33.629Z"
   },
   {
    "duration": 227,
    "start_time": "2023-01-21T15:15:33.650Z"
   },
   {
    "duration": 283,
    "start_time": "2023-01-21T15:15:33.878Z"
   },
   {
    "duration": 129,
    "start_time": "2023-01-21T15:15:34.163Z"
   },
   {
    "duration": 23,
    "start_time": "2023-01-21T15:15:34.294Z"
   },
   {
    "duration": 41,
    "start_time": "2023-01-21T15:15:34.319Z"
   },
   {
    "duration": 153,
    "start_time": "2023-01-21T15:15:34.362Z"
   },
   {
    "duration": 124,
    "start_time": "2023-01-21T15:15:34.517Z"
   },
   {
    "duration": 262,
    "start_time": "2023-01-21T15:15:34.642Z"
   },
   {
    "duration": 251,
    "start_time": "2023-01-21T15:15:34.906Z"
   },
   {
    "duration": 259,
    "start_time": "2023-01-21T15:15:35.159Z"
   },
   {
    "duration": 16,
    "start_time": "2023-01-21T15:15:35.420Z"
   },
   {
    "duration": 689,
    "start_time": "2023-01-21T15:15:35.438Z"
   },
   {
    "duration": 74,
    "start_time": "2023-01-21T15:15:36.129Z"
   },
   {
    "duration": 855,
    "start_time": "2023-01-21T15:15:36.205Z"
   },
   {
    "duration": 63,
    "start_time": "2023-01-21T15:15:37.062Z"
   },
   {
    "duration": 207,
    "start_time": "2023-01-21T15:15:37.127Z"
   },
   {
    "duration": 322,
    "start_time": "2023-01-21T15:15:37.335Z"
   },
   {
    "duration": 4,
    "start_time": "2023-01-21T15:15:37.659Z"
   },
   {
    "duration": 24047,
    "start_time": "2023-01-21T15:15:37.665Z"
   },
   {
    "duration": 1045689,
    "start_time": "2023-01-21T15:16:01.714Z"
   },
   {
    "duration": 4,
    "start_time": "2023-01-21T15:33:27.404Z"
   },
   {
    "duration": 9,
    "start_time": "2023-01-21T15:33:27.409Z"
   },
   {
    "duration": 230530,
    "start_time": "2023-01-21T15:33:27.419Z"
   },
   {
    "duration": 4,
    "start_time": "2023-01-21T15:37:17.951Z"
   },
   {
    "duration": 24,
    "start_time": "2023-01-21T15:37:17.957Z"
   },
   {
    "duration": 216,
    "start_time": "2023-01-21T15:37:17.983Z"
   },
   {
    "duration": 1000,
    "start_time": "2023-01-21T15:37:18.201Z"
   },
   {
    "duration": 196,
    "start_time": "2023-01-21T15:37:19.203Z"
   },
   {
    "duration": 35,
    "start_time": "2023-01-21T17:49:37.817Z"
   },
   {
    "duration": 4,
    "start_time": "2023-01-30T10:57:27.823Z"
   },
   {
    "duration": 2,
    "start_time": "2023-01-30T10:57:27.867Z"
   },
   {
    "duration": 1302,
    "start_time": "2023-01-30T10:57:27.899Z"
   },
   {
    "duration": 1063,
    "start_time": "2023-01-30T10:57:29.203Z"
   },
   {
    "duration": 131,
    "start_time": "2023-01-30T10:57:30.268Z"
   },
   {
    "duration": 10,
    "start_time": "2023-01-30T10:57:30.400Z"
   },
   {
    "duration": 35,
    "start_time": "2023-01-30T10:57:30.412Z"
   },
   {
    "duration": 413,
    "start_time": "2023-01-30T10:57:30.449Z"
   },
   {
    "duration": 173,
    "start_time": "2023-01-30T10:57:30.864Z"
   },
   {
    "duration": 195,
    "start_time": "2023-01-30T10:57:31.039Z"
   },
   {
    "duration": 185,
    "start_time": "2023-01-30T10:57:31.236Z"
   },
   {
    "duration": 169,
    "start_time": "2023-01-30T10:57:31.426Z"
   },
   {
    "duration": 220,
    "start_time": "2023-01-30T10:57:31.597Z"
   },
   {
    "duration": 107,
    "start_time": "2023-01-30T10:57:31.820Z"
   },
   {
    "duration": 16,
    "start_time": "2023-01-30T10:57:31.928Z"
   },
   {
    "duration": 43,
    "start_time": "2023-01-30T10:57:31.946Z"
   },
   {
    "duration": 58,
    "start_time": "2023-01-30T10:57:31.991Z"
   },
   {
    "duration": 40,
    "start_time": "2023-01-30T10:57:32.050Z"
   },
   {
    "duration": 45,
    "start_time": "2023-01-30T10:57:32.092Z"
   },
   {
    "duration": 17,
    "start_time": "2023-01-30T10:57:32.139Z"
   },
   {
    "duration": 31,
    "start_time": "2023-01-30T10:57:32.158Z"
   },
   {
    "duration": 23,
    "start_time": "2023-01-30T10:57:32.191Z"
   },
   {
    "duration": 31,
    "start_time": "2023-01-30T10:57:32.215Z"
   },
   {
    "duration": 13,
    "start_time": "2023-01-30T10:57:32.247Z"
   },
   {
    "duration": 15,
    "start_time": "2023-01-30T10:57:32.261Z"
   },
   {
    "duration": 74,
    "start_time": "2023-01-30T10:57:32.278Z"
   },
   {
    "duration": 166,
    "start_time": "2023-01-30T10:57:32.353Z"
   },
   {
    "duration": 39,
    "start_time": "2023-01-30T10:57:32.521Z"
   },
   {
    "duration": 166,
    "start_time": "2023-01-30T10:57:32.561Z"
   },
   {
    "duration": 253,
    "start_time": "2023-01-30T10:57:32.874Z"
   },
   {
    "duration": 273,
    "start_time": "2023-01-30T10:57:34.041Z"
   },
   {
    "duration": 24,
    "start_time": "2023-01-30T10:57:34.913Z"
   },
   {
    "duration": 16,
    "start_time": "2023-01-30T10:57:35.249Z"
   },
   {
    "duration": 24,
    "start_time": "2023-01-30T10:57:35.545Z"
   },
   {
    "duration": 216,
    "start_time": "2023-01-30T10:57:35.833Z"
   },
   {
    "duration": 258,
    "start_time": "2023-01-30T10:57:36.202Z"
   },
   {
    "duration": 160,
    "start_time": "2023-01-30T10:57:36.785Z"
   },
   {
    "duration": 23,
    "start_time": "2023-01-30T10:57:37.171Z"
   },
   {
    "duration": 28,
    "start_time": "2023-01-30T10:57:37.946Z"
   },
   {
    "duration": 158,
    "start_time": "2023-01-30T10:57:38.298Z"
   },
   {
    "duration": 105,
    "start_time": "2023-01-30T10:57:39.354Z"
   },
   {
    "duration": 227,
    "start_time": "2023-01-30T10:57:39.704Z"
   },
   {
    "duration": 234,
    "start_time": "2023-01-30T10:57:40.009Z"
   },
   {
    "duration": 232,
    "start_time": "2023-01-30T10:57:40.245Z"
   },
   {
    "duration": 19,
    "start_time": "2023-01-30T10:57:40.481Z"
   },
   {
    "duration": 604,
    "start_time": "2023-01-30T10:57:40.818Z"
   },
   {
    "duration": 174,
    "start_time": "2023-01-30T10:57:41.423Z"
   },
   {
    "duration": 177,
    "start_time": "2023-01-30T10:57:41.599Z"
   },
   {
    "duration": 231,
    "start_time": "2023-01-30T10:57:41.779Z"
   },
   {
    "duration": 177,
    "start_time": "2023-01-30T10:57:42.011Z"
   },
   {
    "duration": 81,
    "start_time": "2023-01-30T10:57:42.190Z"
   },
   {
    "duration": 51,
    "start_time": "2023-01-30T10:57:42.273Z"
   },
   {
    "duration": 2,
    "start_time": "2023-01-30T10:57:44.826Z"
   },
   {
    "duration": 3,
    "start_time": "2023-01-30T10:57:51.440Z"
   },
   {
    "duration": 14,
    "start_time": "2023-01-30T10:57:51.977Z"
   },
   {
    "duration": 595,
    "start_time": "2023-01-30T10:57:52.793Z"
   },
   {
    "duration": 46,
    "start_time": "2023-01-30T10:57:55.898Z"
   },
   {
    "duration": 42,
    "start_time": "2023-01-30T10:57:56.065Z"
   },
   {
    "duration": 5,
    "start_time": "2023-01-30T10:57:56.811Z"
   },
   {
    "duration": 5,
    "start_time": "2023-01-30T10:57:57.002Z"
   },
   {
    "duration": 76,
    "start_time": "2023-01-30T10:57:57.722Z"
   },
   {
    "duration": 1105,
    "start_time": "2023-01-30T10:57:57.908Z"
   },
   {
    "duration": 130310,
    "start_time": "2023-01-30T10:57:59.282Z"
   },
   {
    "duration": 9,
    "start_time": "2023-01-30T11:00:09.596Z"
   },
   {
    "duration": 9,
    "start_time": "2023-01-30T11:00:27.801Z"
   },
   {
    "duration": 4,
    "start_time": "2023-01-30T11:00:30.169Z"
   },
   {
    "duration": 4,
    "start_time": "2023-02-01T10:13:21.857Z"
   },
   {
    "duration": 3,
    "start_time": "2023-02-01T10:13:21.885Z"
   },
   {
    "duration": 2,
    "start_time": "2023-02-01T10:13:21.912Z"
   },
   {
    "duration": 1779,
    "start_time": "2023-02-01T10:13:21.958Z"
   },
   {
    "duration": 0,
    "start_time": "2023-02-01T10:13:23.740Z"
   },
   {
    "duration": 0,
    "start_time": "2023-02-01T10:13:23.742Z"
   },
   {
    "duration": 0,
    "start_time": "2023-02-01T10:13:23.743Z"
   },
   {
    "duration": 0,
    "start_time": "2023-02-01T10:13:23.753Z"
   },
   {
    "duration": 0,
    "start_time": "2023-02-01T10:13:23.755Z"
   },
   {
    "duration": 0,
    "start_time": "2023-02-01T10:13:23.756Z"
   },
   {
    "duration": 0,
    "start_time": "2023-02-01T10:13:23.757Z"
   },
   {
    "duration": 0,
    "start_time": "2023-02-01T10:13:23.759Z"
   },
   {
    "duration": 0,
    "start_time": "2023-02-01T10:13:23.760Z"
   },
   {
    "duration": 0,
    "start_time": "2023-02-01T10:13:23.761Z"
   },
   {
    "duration": 4,
    "start_time": "2023-02-01T10:13:35.587Z"
   },
   {
    "duration": 1055,
    "start_time": "2023-02-01T10:13:36.434Z"
   },
   {
    "duration": 200,
    "start_time": "2023-02-01T10:13:37.491Z"
   },
   {
    "duration": 12,
    "start_time": "2023-02-01T10:13:37.692Z"
   },
   {
    "duration": 11,
    "start_time": "2023-02-01T10:13:37.707Z"
   },
   {
    "duration": 296,
    "start_time": "2023-02-01T10:13:37.720Z"
   },
   {
    "duration": 174,
    "start_time": "2023-02-01T10:13:38.018Z"
   },
   {
    "duration": 194,
    "start_time": "2023-02-01T10:13:38.194Z"
   },
   {
    "duration": 256,
    "start_time": "2023-02-01T10:13:38.391Z"
   },
   {
    "duration": 165,
    "start_time": "2023-02-01T10:13:38.652Z"
   },
   {
    "duration": 171,
    "start_time": "2023-02-01T10:13:38.820Z"
   },
   {
    "duration": 112,
    "start_time": "2023-02-01T10:13:47.426Z"
   },
   {
    "duration": 24,
    "start_time": "2023-02-01T10:13:49.098Z"
   },
   {
    "duration": 48,
    "start_time": "2023-02-01T10:13:49.530Z"
   },
   {
    "duration": 44,
    "start_time": "2023-02-01T10:13:51.707Z"
   },
   {
    "duration": 40,
    "start_time": "2023-02-01T10:13:52.457Z"
   },
   {
    "duration": 34,
    "start_time": "2023-02-01T10:13:53.186Z"
   },
   {
    "duration": 13,
    "start_time": "2023-02-01T10:13:53.866Z"
   },
   {
    "duration": 30,
    "start_time": "2023-02-01T10:13:54.266Z"
   },
   {
    "duration": 9,
    "start_time": "2023-02-01T10:13:54.610Z"
   },
   {
    "duration": 30,
    "start_time": "2023-02-01T10:13:54.954Z"
   },
   {
    "duration": 14,
    "start_time": "2023-02-01T10:13:55.122Z"
   },
   {
    "duration": 19,
    "start_time": "2023-02-01T10:13:55.442Z"
   },
   {
    "duration": 47,
    "start_time": "2023-02-01T10:13:55.753Z"
   },
   {
    "duration": 166,
    "start_time": "2023-02-01T10:13:56.066Z"
   },
   {
    "duration": 37,
    "start_time": "2023-02-01T10:13:56.398Z"
   },
   {
    "duration": 157,
    "start_time": "2023-02-01T10:13:57.018Z"
   },
   {
    "duration": 246,
    "start_time": "2023-02-01T10:14:00.226Z"
   },
   {
    "duration": 301,
    "start_time": "2023-02-01T10:14:00.474Z"
   },
   {
    "duration": 17,
    "start_time": "2023-02-01T10:14:00.835Z"
   },
   {
    "duration": 18,
    "start_time": "2023-02-01T10:14:01.329Z"
   },
   {
    "duration": 18,
    "start_time": "2023-02-01T10:14:01.762Z"
   },
   {
    "duration": 221,
    "start_time": "2023-02-01T10:14:02.305Z"
   },
   {
    "duration": 235,
    "start_time": "2023-02-01T10:14:02.649Z"
   },
   {
    "duration": 137,
    "start_time": "2023-02-01T10:14:03.953Z"
   },
   {
    "duration": 21,
    "start_time": "2023-02-01T10:14:04.963Z"
   },
   {
    "duration": 30,
    "start_time": "2023-02-01T10:14:08.357Z"
   },
   {
    "duration": 154,
    "start_time": "2023-02-01T10:14:08.795Z"
   },
   {
    "duration": 120,
    "start_time": "2023-02-01T10:14:13.009Z"
   },
   {
    "duration": 291,
    "start_time": "2023-02-01T10:14:14.626Z"
   },
   {
    "duration": 275,
    "start_time": "2023-02-01T10:14:14.930Z"
   },
   {
    "duration": 268,
    "start_time": "2023-02-01T10:14:15.207Z"
   },
   {
    "duration": 22,
    "start_time": "2023-02-01T10:14:15.617Z"
   },
   {
    "duration": 177,
    "start_time": "2023-02-01T10:14:16.507Z"
   },
   {
    "duration": 170,
    "start_time": "2023-02-01T10:14:16.724Z"
   },
   {
    "duration": 144,
    "start_time": "2023-02-01T10:14:16.930Z"
   },
   {
    "duration": 244,
    "start_time": "2023-02-01T10:14:17.154Z"
   },
   {
    "duration": 92,
    "start_time": "2023-02-01T10:14:17.530Z"
   },
   {
    "duration": 2,
    "start_time": "2023-02-01T10:14:18.193Z"
   },
   {
    "duration": 13,
    "start_time": "2023-02-01T10:14:18.581Z"
   },
   {
    "duration": 3244,
    "start_time": "2023-02-01T10:14:53.563Z"
   },
   {
    "duration": 4,
    "start_time": "2023-02-01T10:14:56.810Z"
   },
   {
    "duration": 15,
    "start_time": "2023-02-01T10:14:58.490Z"
   },
   {
    "duration": 776,
    "start_time": "2023-02-01T10:15:00.034Z"
   },
   {
    "duration": 155,
    "start_time": "2023-02-01T10:15:00.812Z"
   },
   {
    "duration": 15,
    "start_time": "2023-02-01T10:15:00.968Z"
   },
   {
    "duration": 8,
    "start_time": "2023-02-01T10:15:01.010Z"
   },
   {
    "duration": 178,
    "start_time": "2023-02-01T10:15:01.085Z"
   },
   {
    "duration": 161,
    "start_time": "2023-02-01T10:15:01.265Z"
   },
   {
    "duration": 184,
    "start_time": "2023-02-01T10:15:01.427Z"
   },
   {
    "duration": 171,
    "start_time": "2023-02-01T10:15:01.613Z"
   },
   {
    "duration": 168,
    "start_time": "2023-02-01T10:15:01.785Z"
   },
   {
    "duration": 158,
    "start_time": "2023-02-01T10:15:01.955Z"
   },
   {
    "duration": 98,
    "start_time": "2023-02-01T10:15:02.114Z"
   },
   {
    "duration": 17,
    "start_time": "2023-02-01T10:15:02.214Z"
   },
   {
    "duration": 56,
    "start_time": "2023-02-01T10:15:02.233Z"
   },
   {
    "duration": 38,
    "start_time": "2023-02-01T10:15:02.977Z"
   },
   {
    "duration": 30,
    "start_time": "2023-02-01T10:15:03.330Z"
   },
   {
    "duration": 27,
    "start_time": "2023-02-01T10:15:03.679Z"
   },
   {
    "duration": 14,
    "start_time": "2023-02-01T10:15:04.026Z"
   },
   {
    "duration": 31,
    "start_time": "2023-02-01T10:15:04.385Z"
   },
   {
    "duration": 9,
    "start_time": "2023-02-01T10:15:04.803Z"
   },
   {
    "duration": 31,
    "start_time": "2023-02-01T10:15:05.153Z"
   },
   {
    "duration": 15,
    "start_time": "2023-02-01T10:15:05.353Z"
   },
   {
    "duration": 18,
    "start_time": "2023-02-01T10:15:05.737Z"
   },
   {
    "duration": 44,
    "start_time": "2023-02-01T10:15:06.129Z"
   },
   {
    "duration": 149,
    "start_time": "2023-02-01T10:15:06.537Z"
   },
   {
    "duration": 37,
    "start_time": "2023-02-01T10:15:06.914Z"
   },
   {
    "duration": 153,
    "start_time": "2023-02-01T10:15:07.886Z"
   },
   {
    "duration": 237,
    "start_time": "2023-02-01T10:15:09.217Z"
   },
   {
    "duration": 329,
    "start_time": "2023-02-01T10:15:09.456Z"
   },
   {
    "duration": 17,
    "start_time": "2023-02-01T10:15:09.906Z"
   },
   {
    "duration": 17,
    "start_time": "2023-02-01T10:15:10.346Z"
   },
   {
    "duration": 19,
    "start_time": "2023-02-01T10:15:10.803Z"
   },
   {
    "duration": 225,
    "start_time": "2023-02-01T10:15:11.185Z"
   },
   {
    "duration": 233,
    "start_time": "2023-02-01T10:15:11.737Z"
   },
   {
    "duration": 122,
    "start_time": "2023-02-01T10:15:13.009Z"
   },
   {
    "duration": 20,
    "start_time": "2023-02-01T10:15:13.278Z"
   },
   {
    "duration": 29,
    "start_time": "2023-02-01T10:15:14.329Z"
   },
   {
    "duration": 156,
    "start_time": "2023-02-01T10:15:14.666Z"
   },
   {
    "duration": 89,
    "start_time": "2023-02-01T10:15:15.778Z"
   },
   {
    "duration": 247,
    "start_time": "2023-02-01T10:15:16.545Z"
   },
   {
    "duration": 248,
    "start_time": "2023-02-01T10:15:16.793Z"
   },
   {
    "duration": 254,
    "start_time": "2023-02-01T10:15:17.043Z"
   },
   {
    "duration": 22,
    "start_time": "2023-02-01T10:15:17.299Z"
   },
   {
    "duration": 170,
    "start_time": "2023-02-01T10:15:17.683Z"
   },
   {
    "duration": 277,
    "start_time": "2023-02-01T10:15:17.962Z"
   },
   {
    "duration": 149,
    "start_time": "2023-02-01T10:15:18.242Z"
   },
   {
    "duration": 169,
    "start_time": "2023-02-01T10:15:18.514Z"
   },
   {
    "duration": 90,
    "start_time": "2023-02-01T10:15:18.930Z"
   },
   {
    "duration": 3,
    "start_time": "2023-02-01T10:15:21.378Z"
   },
   {
    "duration": 4829,
    "start_time": "2023-02-01T10:15:22.090Z"
   },
   {
    "duration": 2,
    "start_time": "2023-02-01T10:15:56.234Z"
   },
   {
    "duration": 3,
    "start_time": "2023-02-01T10:15:57.121Z"
   },
   {
    "duration": 15,
    "start_time": "2023-02-01T10:15:57.650Z"
   },
   {
    "duration": 3,
    "start_time": "2023-02-01T10:15:59.130Z"
   },
   {
    "duration": 64,
    "start_time": "2023-02-01T10:16:00.289Z"
   },
   {
    "duration": 172,
    "start_time": "2023-02-01T10:16:01.809Z"
   },
   {
    "duration": 18,
    "start_time": "2023-02-01T10:16:03.409Z"
   }
  ],
  "kernelspec": {
   "display_name": "Python 3 (ipykernel)",
   "language": "python",
   "name": "python3"
  },
  "language_info": {
   "codemirror_mode": {
    "name": "ipython",
    "version": 3
   },
   "file_extension": ".py",
   "mimetype": "text/x-python",
   "name": "python",
   "nbconvert_exporter": "python",
   "pygments_lexer": "ipython3",
   "version": "3.9.12"
  },
  "toc": {
   "base_numbering": 1,
   "nav_menu": {},
   "number_sections": true,
   "sideBar": true,
   "skip_h1_title": true,
   "title_cell": "Table of Contents",
   "title_sidebar": "Contents",
   "toc_cell": false,
   "toc_position": {},
   "toc_section_display": true,
   "toc_window_display": false
  }
 },
 "nbformat": 4,
 "nbformat_minor": 2
}
