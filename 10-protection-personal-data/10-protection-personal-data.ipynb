{
 "cells": [
  {
   "cell_type": "markdown",
   "metadata": {
    "toc": true
   },
   "source": [
    "<h1>Содержание<span class=\"tocSkip\"></span></h1>\n",
    "<div class=\"toc\"><ul class=\"toc-item\"><li><span><a href=\"#Загрузка-данных\" data-toc-modified-id=\"Загрузка-данных-1\"><span class=\"toc-item-num\">1&nbsp;&nbsp;</span>Загрузка данных</a></span></li><li><span><a href=\"#Умножение-матриц\" data-toc-modified-id=\"Умножение-матриц-2\"><span class=\"toc-item-num\">2&nbsp;&nbsp;</span>Умножение матриц</a></span></li><li><span><a href=\"#Алгоритм-преобразования\" data-toc-modified-id=\"Алгоритм-преобразования-3\"><span class=\"toc-item-num\">3&nbsp;&nbsp;</span>Алгоритм преобразования</a></span></li><li><span><a href=\"#Проверка-алгоритма\" data-toc-modified-id=\"Проверка-алгоритма-4\"><span class=\"toc-item-num\">4&nbsp;&nbsp;</span>Проверка алгоритма</a></span></li><li><span><a href=\"#Чек-лист-проверки\" data-toc-modified-id=\"Чек-лист-проверки-5\"><span class=\"toc-item-num\">5&nbsp;&nbsp;</span>Чек-лист проверки</a></span></li></ul></div>"
   ]
  },
  {
   "cell_type": "markdown",
   "metadata": {},
   "source": [
    "# Защита персональных данных клиентов"
   ]
  },
  {
   "cell_type": "markdown",
   "metadata": {},
   "source": [
    "Вам нужно защитить данные клиентов страховой компании «Хоть потоп». Разработайте такой метод преобразования данных, чтобы по ним было сложно восстановить персональную информацию. Обоснуйте корректность его работы.\n",
    "\n",
    "Нужно защитить данные, чтобы при преобразовании качество моделей машинного обучения не ухудшилось. Подбирать наилучшую модель не требуется."
   ]
  },
  {
   "cell_type": "markdown",
   "metadata": {},
   "source": [
    "## Загрузка данных"
   ]
  },
  {
   "cell_type": "code",
   "execution_count": 3,
   "metadata": {},
   "outputs": [],
   "source": [
    "import pandas as pd\n",
    "import os\n",
    "import numpy as np\n",
    "\n",
    "import sklearn\n",
    "from sklearn.linear_model import LinearRegression\n",
    "from sklearn.model_selection import train_test_split\n",
    "from sklearn.metrics import r2_score"
   ]
  },
  {
   "cell_type": "code",
   "execution_count": 4,
   "metadata": {},
   "outputs": [
    {
     "data": {
      "text/html": [
       "<div>\n",
       "<style scoped>\n",
       "    .dataframe tbody tr th:only-of-type {\n",
       "        vertical-align: middle;\n",
       "    }\n",
       "\n",
       "    .dataframe tbody tr th {\n",
       "        vertical-align: top;\n",
       "    }\n",
       "\n",
       "    .dataframe thead th {\n",
       "        text-align: right;\n",
       "    }\n",
       "</style>\n",
       "<table border=\"1\" class=\"dataframe\">\n",
       "  <thead>\n",
       "    <tr style=\"text-align: right;\">\n",
       "      <th></th>\n",
       "      <th>Пол</th>\n",
       "      <th>Возраст</th>\n",
       "      <th>Зарплата</th>\n",
       "      <th>Члены семьи</th>\n",
       "      <th>Страховые выплаты</th>\n",
       "    </tr>\n",
       "  </thead>\n",
       "  <tbody>\n",
       "    <tr>\n",
       "      <th>0</th>\n",
       "      <td>1</td>\n",
       "      <td>41.0</td>\n",
       "      <td>49600.0</td>\n",
       "      <td>1</td>\n",
       "      <td>0</td>\n",
       "    </tr>\n",
       "    <tr>\n",
       "      <th>1</th>\n",
       "      <td>0</td>\n",
       "      <td>46.0</td>\n",
       "      <td>38000.0</td>\n",
       "      <td>1</td>\n",
       "      <td>1</td>\n",
       "    </tr>\n",
       "    <tr>\n",
       "      <th>2</th>\n",
       "      <td>0</td>\n",
       "      <td>29.0</td>\n",
       "      <td>21000.0</td>\n",
       "      <td>0</td>\n",
       "      <td>0</td>\n",
       "    </tr>\n",
       "    <tr>\n",
       "      <th>3</th>\n",
       "      <td>0</td>\n",
       "      <td>21.0</td>\n",
       "      <td>41700.0</td>\n",
       "      <td>2</td>\n",
       "      <td>0</td>\n",
       "    </tr>\n",
       "    <tr>\n",
       "      <th>4</th>\n",
       "      <td>1</td>\n",
       "      <td>28.0</td>\n",
       "      <td>26100.0</td>\n",
       "      <td>0</td>\n",
       "      <td>0</td>\n",
       "    </tr>\n",
       "    <tr>\n",
       "      <th>...</th>\n",
       "      <td>...</td>\n",
       "      <td>...</td>\n",
       "      <td>...</td>\n",
       "      <td>...</td>\n",
       "      <td>...</td>\n",
       "    </tr>\n",
       "    <tr>\n",
       "      <th>4995</th>\n",
       "      <td>0</td>\n",
       "      <td>28.0</td>\n",
       "      <td>35700.0</td>\n",
       "      <td>2</td>\n",
       "      <td>0</td>\n",
       "    </tr>\n",
       "    <tr>\n",
       "      <th>4996</th>\n",
       "      <td>0</td>\n",
       "      <td>34.0</td>\n",
       "      <td>52400.0</td>\n",
       "      <td>1</td>\n",
       "      <td>0</td>\n",
       "    </tr>\n",
       "    <tr>\n",
       "      <th>4997</th>\n",
       "      <td>0</td>\n",
       "      <td>20.0</td>\n",
       "      <td>33900.0</td>\n",
       "      <td>2</td>\n",
       "      <td>0</td>\n",
       "    </tr>\n",
       "    <tr>\n",
       "      <th>4998</th>\n",
       "      <td>1</td>\n",
       "      <td>22.0</td>\n",
       "      <td>32700.0</td>\n",
       "      <td>3</td>\n",
       "      <td>0</td>\n",
       "    </tr>\n",
       "    <tr>\n",
       "      <th>4999</th>\n",
       "      <td>1</td>\n",
       "      <td>28.0</td>\n",
       "      <td>40600.0</td>\n",
       "      <td>1</td>\n",
       "      <td>0</td>\n",
       "    </tr>\n",
       "  </tbody>\n",
       "</table>\n",
       "<p>5000 rows × 5 columns</p>\n",
       "</div>"
      ],
      "text/plain": [
       "      Пол  Возраст  Зарплата  Члены семьи  Страховые выплаты\n",
       "0       1     41.0   49600.0            1                  0\n",
       "1       0     46.0   38000.0            1                  1\n",
       "2       0     29.0   21000.0            0                  0\n",
       "3       0     21.0   41700.0            2                  0\n",
       "4       1     28.0   26100.0            0                  0\n",
       "...   ...      ...       ...          ...                ...\n",
       "4995    0     28.0   35700.0            2                  0\n",
       "4996    0     34.0   52400.0            1                  0\n",
       "4997    0     20.0   33900.0            2                  0\n",
       "4998    1     22.0   32700.0            3                  0\n",
       "4999    1     28.0   40600.0            1                  0\n",
       "\n",
       "[5000 rows x 5 columns]"
      ]
     },
     "execution_count": 4,
     "metadata": {},
     "output_type": "execute_result"
    }
   ],
   "source": [
    "if os.path.exists('/datasets/insurance.csv'):\n",
    "    df = pd.read_csv('/datasets/insurance.csv')\n",
    "else:\n",
    "    df = pd.read_csv('insurance.csv')\n",
    "df"
   ]
  },
  {
   "cell_type": "code",
   "execution_count": 5,
   "metadata": {},
   "outputs": [
    {
     "name": "stdout",
     "output_type": "stream",
     "text": [
      "<class 'pandas.core.frame.DataFrame'>\n",
      "RangeIndex: 5000 entries, 0 to 4999\n",
      "Data columns (total 5 columns):\n",
      " #   Column             Non-Null Count  Dtype  \n",
      "---  ------             --------------  -----  \n",
      " 0   Пол                5000 non-null   int64  \n",
      " 1   Возраст            5000 non-null   float64\n",
      " 2   Зарплата           5000 non-null   float64\n",
      " 3   Члены семьи        5000 non-null   int64  \n",
      " 4   Страховые выплаты  5000 non-null   int64  \n",
      "dtypes: float64(2), int64(3)\n",
      "memory usage: 195.4 KB\n"
     ]
    }
   ],
   "source": [
    "df.info()"
   ]
  },
  {
   "cell_type": "markdown",
   "metadata": {},
   "source": [
    "В данных нет пропусков, возраст и зарплату приведем к целочисленным значениям."
   ]
  },
  {
   "cell_type": "code",
   "execution_count": 6,
   "metadata": {},
   "outputs": [],
   "source": [
    "df['Возраст'] = df['Возраст'].astype('int64')\n",
    "df['Зарплата'] = df['Зарплата'].astype('int64')"
   ]
  },
  {
   "cell_type": "code",
   "execution_count": 7,
   "metadata": {},
   "outputs": [
    {
     "data": {
      "text/plain": [
       "153"
      ]
     },
     "execution_count": 7,
     "metadata": {},
     "output_type": "execute_result"
    }
   ],
   "source": [
    "df.duplicated().sum()"
   ]
  },
  {
   "cell_type": "markdown",
   "metadata": {},
   "source": [
    "В данных есть 153 полных дубля. Удалим дубли."
   ]
  },
  {
   "cell_type": "code",
   "execution_count": 8,
   "metadata": {},
   "outputs": [],
   "source": [
    "df = df.drop_duplicates().reset_index(drop=True)"
   ]
  },
  {
   "cell_type": "code",
   "execution_count": 9,
   "metadata": {},
   "outputs": [
    {
     "name": "stdout",
     "output_type": "stream",
     "text": [
      "<class 'pandas.core.frame.DataFrame'>\n",
      "RangeIndex: 4847 entries, 0 to 4846\n",
      "Data columns (total 5 columns):\n",
      " #   Column             Non-Null Count  Dtype\n",
      "---  ------             --------------  -----\n",
      " 0   Пол                4847 non-null   int64\n",
      " 1   Возраст            4847 non-null   int64\n",
      " 2   Зарплата           4847 non-null   int64\n",
      " 3   Члены семьи        4847 non-null   int64\n",
      " 4   Страховые выплаты  4847 non-null   int64\n",
      "dtypes: int64(5)\n",
      "memory usage: 189.5 KB\n"
     ]
    }
   ],
   "source": [
    "df.info()"
   ]
  },
  {
   "cell_type": "markdown",
   "metadata": {},
   "source": [
    "Построим гистограммы распределения данных."
   ]
  },
  {
   "cell_type": "code",
   "execution_count": 10,
   "metadata": {},
   "outputs": [
    {
     "data": {
      "image/png": "[encoded data removed]",
      "text/plain": [
       "<Figure size 1080x1440 with 6 Axes>"
      ]
     },
     "metadata": {
      "needs_background": "light"
     },
     "output_type": "display_data"
    }
   ],
   "source": [
    "df.hist(figsize=(15, 20));"
   ]
  },
  {
   "cell_type": "code",
   "execution_count": 11,
   "metadata": {},
   "outputs": [
    {
     "data": {
      "text/html": [
       "<div>\n",
       "<style scoped>\n",
       "    .dataframe tbody tr th:only-of-type {\n",
       "        vertical-align: middle;\n",
       "    }\n",
       "\n",
       "    .dataframe tbody tr th {\n",
       "        vertical-align: top;\n",
       "    }\n",
       "\n",
       "    .dataframe thead th {\n",
       "        text-align: right;\n",
       "    }\n",
       "</style>\n",
       "<table border=\"1\" class=\"dataframe\">\n",
       "  <thead>\n",
       "    <tr style=\"text-align: right;\">\n",
       "      <th></th>\n",
       "      <th>count</th>\n",
       "      <th>mean</th>\n",
       "      <th>std</th>\n",
       "      <th>min</th>\n",
       "      <th>25%</th>\n",
       "      <th>50%</th>\n",
       "      <th>75%</th>\n",
       "      <th>max</th>\n",
       "    </tr>\n",
       "  </thead>\n",
       "  <tbody>\n",
       "    <tr>\n",
       "      <th>Пол</th>\n",
       "      <td>4847.0</td>\n",
       "      <td>0.498453</td>\n",
       "      <td>0.500049</td>\n",
       "      <td>0.0</td>\n",
       "      <td>0.0</td>\n",
       "      <td>0.0</td>\n",
       "      <td>1.0</td>\n",
       "      <td>1.0</td>\n",
       "    </tr>\n",
       "    <tr>\n",
       "      <th>Возраст</th>\n",
       "      <td>4847.0</td>\n",
       "      <td>31.023932</td>\n",
       "      <td>8.487995</td>\n",
       "      <td>18.0</td>\n",
       "      <td>24.0</td>\n",
       "      <td>30.0</td>\n",
       "      <td>37.0</td>\n",
       "      <td>65.0</td>\n",
       "    </tr>\n",
       "    <tr>\n",
       "      <th>Зарплата</th>\n",
       "      <td>4847.0</td>\n",
       "      <td>39895.811223</td>\n",
       "      <td>9972.952441</td>\n",
       "      <td>5300.0</td>\n",
       "      <td>33200.0</td>\n",
       "      <td>40200.0</td>\n",
       "      <td>46600.0</td>\n",
       "      <td>79000.0</td>\n",
       "    </tr>\n",
       "    <tr>\n",
       "      <th>Члены семьи</th>\n",
       "      <td>4847.0</td>\n",
       "      <td>1.203425</td>\n",
       "      <td>1.098664</td>\n",
       "      <td>0.0</td>\n",
       "      <td>0.0</td>\n",
       "      <td>1.0</td>\n",
       "      <td>2.0</td>\n",
       "      <td>6.0</td>\n",
       "    </tr>\n",
       "    <tr>\n",
       "      <th>Страховые выплаты</th>\n",
       "      <td>4847.0</td>\n",
       "      <td>0.152259</td>\n",
       "      <td>0.468934</td>\n",
       "      <td>0.0</td>\n",
       "      <td>0.0</td>\n",
       "      <td>0.0</td>\n",
       "      <td>0.0</td>\n",
       "      <td>5.0</td>\n",
       "    </tr>\n",
       "  </tbody>\n",
       "</table>\n",
       "</div>"
      ],
      "text/plain": [
       "                    count          mean          std     min      25%  \\\n",
       "Пол                4847.0      0.498453     0.500049     0.0      0.0   \n",
       "Возраст            4847.0     31.023932     8.487995    18.0     24.0   \n",
       "Зарплата           4847.0  39895.811223  9972.952441  5300.0  33200.0   \n",
       "Члены семьи        4847.0      1.203425     1.098664     0.0      0.0   \n",
       "Страховые выплаты  4847.0      0.152259     0.468934     0.0      0.0   \n",
       "\n",
       "                       50%      75%      max  \n",
       "Пол                    0.0      1.0      1.0  \n",
       "Возраст               30.0     37.0     65.0  \n",
       "Зарплата           40200.0  46600.0  79000.0  \n",
       "Члены семьи            1.0      2.0      6.0  \n",
       "Страховые выплаты      0.0      0.0      5.0  "
      ]
     },
     "execution_count": 11,
     "metadata": {},
     "output_type": "execute_result"
    }
   ],
   "source": [
    "df.describe().T"
   ]
  },
  {
   "cell_type": "markdown",
   "metadata": {},
   "source": [
    "Проверим, коррелируют ли признаки между собой. Сильная корреляция независимых признаков (мультиколлениарность) может стать причиной переобучения модели."
   ]
  },
  {
   "cell_type": "code",
   "execution_count": 12,
   "metadata": {},
   "outputs": [
    {
     "data": {
      "text/html": [
       "<div>\n",
       "<style scoped>\n",
       "    .dataframe tbody tr th:only-of-type {\n",
       "        vertical-align: middle;\n",
       "    }\n",
       "\n",
       "    .dataframe tbody tr th {\n",
       "        vertical-align: top;\n",
       "    }\n",
       "\n",
       "    .dataframe thead th {\n",
       "        text-align: right;\n",
       "    }\n",
       "</style>\n",
       "<table border=\"1\" class=\"dataframe\">\n",
       "  <thead>\n",
       "    <tr style=\"text-align: right;\">\n",
       "      <th></th>\n",
       "      <th>Пол</th>\n",
       "      <th>Возраст</th>\n",
       "      <th>Зарплата</th>\n",
       "      <th>Члены семьи</th>\n",
       "      <th>Страховые выплаты</th>\n",
       "    </tr>\n",
       "  </thead>\n",
       "  <tbody>\n",
       "    <tr>\n",
       "      <th>Пол</th>\n",
       "      <td>1.000000</td>\n",
       "      <td>0.001953</td>\n",
       "      <td>0.015456</td>\n",
       "      <td>-0.007315</td>\n",
       "      <td>0.011565</td>\n",
       "    </tr>\n",
       "    <tr>\n",
       "      <th>Возраст</th>\n",
       "      <td>0.001953</td>\n",
       "      <td>1.000000</td>\n",
       "      <td>-0.017386</td>\n",
       "      <td>-0.009064</td>\n",
       "      <td>0.654964</td>\n",
       "    </tr>\n",
       "    <tr>\n",
       "      <th>Зарплата</th>\n",
       "      <td>0.015456</td>\n",
       "      <td>-0.017386</td>\n",
       "      <td>1.000000</td>\n",
       "      <td>-0.031687</td>\n",
       "      <td>-0.013123</td>\n",
       "    </tr>\n",
       "    <tr>\n",
       "      <th>Члены семьи</th>\n",
       "      <td>-0.007315</td>\n",
       "      <td>-0.009064</td>\n",
       "      <td>-0.031687</td>\n",
       "      <td>1.000000</td>\n",
       "      <td>-0.039303</td>\n",
       "    </tr>\n",
       "    <tr>\n",
       "      <th>Страховые выплаты</th>\n",
       "      <td>0.011565</td>\n",
       "      <td>0.654964</td>\n",
       "      <td>-0.013123</td>\n",
       "      <td>-0.039303</td>\n",
       "      <td>1.000000</td>\n",
       "    </tr>\n",
       "  </tbody>\n",
       "</table>\n",
       "</div>"
      ],
      "text/plain": [
       "                        Пол   Возраст  Зарплата  Члены семьи  \\\n",
       "Пол                1.000000  0.001953  0.015456    -0.007315   \n",
       "Возраст            0.001953  1.000000 -0.017386    -0.009064   \n",
       "Зарплата           0.015456 -0.017386  1.000000    -0.031687   \n",
       "Члены семьи       -0.007315 -0.009064 -0.031687     1.000000   \n",
       "Страховые выплаты  0.011565  0.654964 -0.013123    -0.039303   \n",
       "\n",
       "                   Страховые выплаты  \n",
       "Пол                         0.011565  \n",
       "Возраст                     0.654964  \n",
       "Зарплата                   -0.013123  \n",
       "Члены семьи                -0.039303  \n",
       "Страховые выплаты           1.000000  "
      ]
     },
     "execution_count": 12,
     "metadata": {},
     "output_type": "execute_result"
    }
   ],
   "source": [
    "df.corr()"
   ]
  },
  {
   "cell_type": "markdown",
   "metadata": {},
   "source": [
    "**Вывод по анализу данных**\n",
    "\n",
    "В данных было 5000 строк без пропусков, были удалены 153 строки полных дублей.\n",
    "\n",
    "Распределение по полам примерно одинаковое. Возраст большей части клиентов до 32 лет. Медианная зарплата 40200 р. максимально количество членов семьи - 6. Самое частое значение - 1 член семьи. Максимальное количество страховых выплат за 5 лет - 5, но чаще всего страховых выплат нет.\n",
    "\n",
    "Сильнее всего коррелирует возраст с признаком страховой выплаты (т.е. с целевым признаком)."
   ]
  },
  {
   "cell_type": "markdown",
   "metadata": {},
   "source": [
    "## Умножение матриц"
   ]
  },
  {
   "cell_type": "markdown",
   "metadata": {},
   "source": [
    "Ответим на вопрос, изменится ли качество линейной регрессии, если признаки будут умножены на обратимую матрицу."
   ]
  },
  {
   "cell_type": "markdown",
   "metadata": {},
   "source": [
    "Обозначения:\n",
    "\n",
    "- $X$ — матрица признаков (нулевой столбец состоит из единиц)\n",
    "\n",
    "- $y$ — вектор целевого признака\n",
    "\n",
    "- $P$ — матрица, на которую умножаются признаки\n",
    "\n",
    "- $w$ — вектор весов линейной регрессии (нулевой элемент равен сдвигу)"
   ]
  },
  {
   "cell_type": "markdown",
   "metadata": {},
   "source": [
    "Предсказания:\n",
    "\n",
    "$$\n",
    "a = Xw\n",
    "$$\n",
    "\n",
    "Задача обучения линейной регрессии:\n",
    "\n",
    "$$\n",
    "w = \\arg\\min_w MSE(Xw, y)\n",
    "$$\n",
    "\n",
    "Формула обучения:\n",
    "\n",
    "$$\n",
    "w = (X^T X)^{-1} X^T y\n",
    "$$"
   ]
  },
  {
   "cell_type": "markdown",
   "metadata": {},
   "source": [
    "В случае с умножением матрицы на обратимую матрицу P задача обучения будет следующая:\n",
    "\n",
    "$$\n",
    "w1 = \\arg\\min_w MSE(XPw, y)\n",
    "$$\n",
    "\n",
    "Формула обучения:\n",
    "\n",
    "$$\n",
    "w1 = ((XP)^T XP)^{-1} (XP)^T y\n",
    "$$"
   ]
  },
  {
   "cell_type": "markdown",
   "metadata": {},
   "source": [
    "Используем свойство матриц для раскрытия скобок:\n",
    "    \n",
    "$$\n",
    "(ABC)^{-1} = C^{-1} B^{-1} A^{-1}\n",
    "$$\n",
    "\n",
    "Но оно применимо только для квадратных матриц."
   ]
  },
  {
   "cell_type": "markdown",
   "metadata": {},
   "source": [
    "Раскрываем скобки:\n",
    "\n",
    "$$\n",
    "w1 = (X^T P^T X P)^{-1} X^T P^T y\n",
    "$$\n",
    "$$\n",
    "w1 = (P^T (X^T X) P)^{-1} X^T P^T y\n",
    "$$\n",
    "\n",
    "Матрицы P и $P^T$ квадратные, матрица $X^T X$ тоже квадратная. Раскрываем скобки:\n",
    "\n",
    "$$\n",
    "w1 = P^{-1} (X^T X)^{-1} (P^T)^{-1} X^T P^T y\n",
    "$$\n",
    "\n",
    "Поскольку:\n",
    "$$\n",
    "(P^T)^{-1} P^T = E\n",
    "$$\n",
    "\n",
    "получаем:\n",
    "$$\n",
    "w1 = (X^T X)^{-1} P^{-1} X^T y\n",
    "$$\n",
    "$$\n",
    "w1 = P^{-1} (X^T X)^{-1} X^T y\n",
    "$$\n",
    "$$\n",
    "w1 = P^{-1} * w\n",
    "$$"
   ]
  },
  {
   "cell_type": "markdown",
   "metadata": {},
   "source": [
    "Предсказания:\n",
    "\n",
    "$$\n",
    "a1 = X*P w1\n",
    "$$\n",
    "\n",
    "Заменим w1 на полученную на предыдущем шаге формулу:\n",
    "\n",
    "$$\n",
    "a1 = X P P^{-1} w =Xw\n",
    "$$\n",
    "\n",
    "Таким образом: $a = a1$"
   ]
  },
  {
   "cell_type": "markdown",
   "metadata": {},
   "source": [
    "**Ответ:** Качество модели линейной регрессии не изменится.\n",
    "\n",
    "**Обоснование:** Параметры в исходной задаче линейной регрессии и в преобразованной связаны через матрицу преобразования P."
   ]
  },
  {
   "cell_type": "markdown",
   "metadata": {},
   "source": [
    "## Алгоритм преобразования"
   ]
  },
  {
   "cell_type": "markdown",
   "metadata": {},
   "source": [
    "**Алгоритм**\n",
    "\n",
    "Умножим признаки датафрейма на обратимую матрицу. Обратимую квадратную матрицу создадим методом np.random.normal(), проверим, что существует обратная к ней методом np.linalg.inv(A). Размер матрицы n x n, где n - количество признаков."
   ]
  },
  {
   "cell_type": "markdown",
   "metadata": {},
   "source": [
    "**Обоснование**\n",
    "\n",
    "Предсказания модели линейной регрессии не меняются при умножении признаков на обратимую матрицу."
   ]
  },
  {
   "cell_type": "markdown",
   "metadata": {},
   "source": [
    "## Проверка алгоритма"
   ]
  },
  {
   "cell_type": "markdown",
   "metadata": {},
   "source": [
    "Разделим данные на признаки и целовой признак."
   ]
  },
  {
   "cell_type": "code",
   "execution_count": 13,
   "metadata": {},
   "outputs": [],
   "source": [
    "features = df.drop(['Страховые выплаты'], axis = 1)\n",
    "target = df['Страховые выплаты']"
   ]
  },
  {
   "cell_type": "markdown",
   "metadata": {},
   "source": [
    "Разделим данные на обучающую и валидационную выборки."
   ]
  },
  {
   "cell_type": "code",
   "execution_count": 14,
   "metadata": {},
   "outputs": [],
   "source": [
    "features_train, features_valid = train_test_split(features, test_size=0.25, random_state=12345)\n",
    "target_train, target_valid = train_test_split(target, test_size=0.25, random_state=12345)"
   ]
  },
  {
   "cell_type": "code",
   "execution_count": 15,
   "metadata": {},
   "outputs": [
    {
     "data": {
      "text/html": [
       "<div>\n",
       "<style scoped>\n",
       "    .dataframe tbody tr th:only-of-type {\n",
       "        vertical-align: middle;\n",
       "    }\n",
       "\n",
       "    .dataframe tbody tr th {\n",
       "        vertical-align: top;\n",
       "    }\n",
       "\n",
       "    .dataframe thead th {\n",
       "        text-align: right;\n",
       "    }\n",
       "</style>\n",
       "<table border=\"1\" class=\"dataframe\">\n",
       "  <thead>\n",
       "    <tr style=\"text-align: right;\">\n",
       "      <th></th>\n",
       "      <th>Пол</th>\n",
       "      <th>Возраст</th>\n",
       "      <th>Зарплата</th>\n",
       "      <th>Члены семьи</th>\n",
       "    </tr>\n",
       "  </thead>\n",
       "  <tbody>\n",
       "    <tr>\n",
       "      <th>4460</th>\n",
       "      <td>0</td>\n",
       "      <td>28</td>\n",
       "      <td>54500</td>\n",
       "      <td>2</td>\n",
       "    </tr>\n",
       "    <tr>\n",
       "      <th>3773</th>\n",
       "      <td>1</td>\n",
       "      <td>38</td>\n",
       "      <td>50700</td>\n",
       "      <td>1</td>\n",
       "    </tr>\n",
       "    <tr>\n",
       "      <th>4561</th>\n",
       "      <td>0</td>\n",
       "      <td>24</td>\n",
       "      <td>28000</td>\n",
       "      <td>1</td>\n",
       "    </tr>\n",
       "    <tr>\n",
       "      <th>1385</th>\n",
       "      <td>0</td>\n",
       "      <td>47</td>\n",
       "      <td>38800</td>\n",
       "      <td>0</td>\n",
       "    </tr>\n",
       "    <tr>\n",
       "      <th>724</th>\n",
       "      <td>0</td>\n",
       "      <td>40</td>\n",
       "      <td>32500</td>\n",
       "      <td>1</td>\n",
       "    </tr>\n",
       "    <tr>\n",
       "      <th>...</th>\n",
       "      <td>...</td>\n",
       "      <td>...</td>\n",
       "      <td>...</td>\n",
       "      <td>...</td>\n",
       "    </tr>\n",
       "    <tr>\n",
       "      <th>3497</th>\n",
       "      <td>1</td>\n",
       "      <td>23</td>\n",
       "      <td>28200</td>\n",
       "      <td>1</td>\n",
       "    </tr>\n",
       "    <tr>\n",
       "      <th>3492</th>\n",
       "      <td>0</td>\n",
       "      <td>30</td>\n",
       "      <td>33700</td>\n",
       "      <td>1</td>\n",
       "    </tr>\n",
       "    <tr>\n",
       "      <th>2177</th>\n",
       "      <td>1</td>\n",
       "      <td>20</td>\n",
       "      <td>28900</td>\n",
       "      <td>1</td>\n",
       "    </tr>\n",
       "    <tr>\n",
       "      <th>3557</th>\n",
       "      <td>1</td>\n",
       "      <td>33</td>\n",
       "      <td>38800</td>\n",
       "      <td>1</td>\n",
       "    </tr>\n",
       "    <tr>\n",
       "      <th>4578</th>\n",
       "      <td>0</td>\n",
       "      <td>41</td>\n",
       "      <td>47300</td>\n",
       "      <td>2</td>\n",
       "    </tr>\n",
       "  </tbody>\n",
       "</table>\n",
       "<p>3635 rows × 4 columns</p>\n",
       "</div>"
      ],
      "text/plain": [
       "      Пол  Возраст  Зарплата  Члены семьи\n",
       "4460    0       28     54500            2\n",
       "3773    1       38     50700            1\n",
       "4561    0       24     28000            1\n",
       "1385    0       47     38800            0\n",
       "724     0       40     32500            1\n",
       "...   ...      ...       ...          ...\n",
       "3497    1       23     28200            1\n",
       "3492    0       30     33700            1\n",
       "2177    1       20     28900            1\n",
       "3557    1       33     38800            1\n",
       "4578    0       41     47300            2\n",
       "\n",
       "[3635 rows x 4 columns]"
      ]
     },
     "execution_count": 15,
     "metadata": {},
     "output_type": "execute_result"
    }
   ],
   "source": [
    "features_train"
   ]
  },
  {
   "cell_type": "markdown",
   "metadata": {},
   "source": [
    "Построим модель линейной регрессии, обучим ее на данных до преобразования. В качестве метрики используем r2."
   ]
  },
  {
   "cell_type": "code",
   "execution_count": 16,
   "metadata": {},
   "outputs": [
    {
     "name": "stdout",
     "output_type": "stream",
     "text": [
      "0.423077276158367\n"
     ]
    }
   ],
   "source": [
    "class LinearRegr:\n",
    "    def fit(self, train_features, train_target):\n",
    "        X = np.concatenate((np.ones((train_features.shape[0], 1)), train_features), axis=1)\n",
    "        y = train_target\n",
    "        w = np.linalg.inv(X.T.dot(X)).dot(X.T).dot(y)\n",
    "        self.w = w[1:]\n",
    "        self.w0 = w[0]\n",
    "\n",
    "    def predict(self, test_features):\n",
    "        return test_features.dot(self.w) + self.w0\n",
    "    \n",
    "mmodel = LinearRegr()\n",
    "mmodel.fit(features_train, target_train)\n",
    "predictions = mmodel.predict(features_valid)\n",
    "print(r2_score(target_valid, predictions))"
   ]
  },
  {
   "cell_type": "code",
   "execution_count": 17,
   "metadata": {},
   "outputs": [
    {
     "name": "stdout",
     "output_type": "stream",
     "text": [
      "0.42307727615837565\n"
     ]
    }
   ],
   "source": [
    "model = LinearRegression()\n",
    "model.fit(features_train, target_train)\n",
    "mpredictions = model.predict(features_valid)\n",
    "print(r2_score(target_valid, mpredictions))"
   ]
  },
  {
   "cell_type": "markdown",
   "metadata": {},
   "source": [
    "Напишем функцию для генерации квадратной обратимой матрицы размером n x n, где n - количество признаков."
   ]
  },
  {
   "cell_type": "code",
   "execution_count": 18,
   "metadata": {},
   "outputs": [],
   "source": [
    "def get_rand_matrix():\n",
    "    transform_matrix = np.random.rand(features.shape[1], features.shape[1])\n",
    "    try: \n",
    "        inv = np.linalg.inv(transform_matrix)\n",
    "        return transform_matrix, inv\n",
    "    except:\n",
    "        get_rand_matrix()  "
   ]
  },
  {
   "cell_type": "markdown",
   "metadata": {},
   "source": [
    "Получим зашифрованную матрицу признаков для тренировочных признаков и валидационных."
   ]
  },
  {
   "cell_type": "code",
   "execution_count": 19,
   "metadata": {},
   "outputs": [
    {
     "data": {
      "text/html": [
       "<div>\n",
       "<style scoped>\n",
       "    .dataframe tbody tr th:only-of-type {\n",
       "        vertical-align: middle;\n",
       "    }\n",
       "\n",
       "    .dataframe tbody tr th {\n",
       "        vertical-align: top;\n",
       "    }\n",
       "\n",
       "    .dataframe thead th {\n",
       "        text-align: right;\n",
       "    }\n",
       "</style>\n",
       "<table border=\"1\" class=\"dataframe\">\n",
       "  <thead>\n",
       "    <tr style=\"text-align: right;\">\n",
       "      <th></th>\n",
       "      <th>0</th>\n",
       "      <th>1</th>\n",
       "      <th>2</th>\n",
       "      <th>3</th>\n",
       "    </tr>\n",
       "  </thead>\n",
       "  <tbody>\n",
       "    <tr>\n",
       "      <th>4460</th>\n",
       "      <td>683.425147</td>\n",
       "      <td>12745.751661</td>\n",
       "      <td>13923.979866</td>\n",
       "      <td>25538.506010</td>\n",
       "    </tr>\n",
       "    <tr>\n",
       "      <th>3773</th>\n",
       "      <td>647.585465</td>\n",
       "      <td>11863.556650</td>\n",
       "      <td>12957.462697</td>\n",
       "      <td>23768.133995</td>\n",
       "    </tr>\n",
       "    <tr>\n",
       "      <th>4561</th>\n",
       "      <td>360.581584</td>\n",
       "      <td>6553.195371</td>\n",
       "      <td>7157.362363</td>\n",
       "      <td>13128.683278</td>\n",
       "    </tr>\n",
       "    <tr>\n",
       "      <th>1385</th>\n",
       "      <td>512.298790</td>\n",
       "      <td>9087.592899</td>\n",
       "      <td>9922.632855</td>\n",
       "      <td>18203.318372</td>\n",
       "    </tr>\n",
       "    <tr>\n",
       "      <th>724</th>\n",
       "      <td>430.401417</td>\n",
       "      <td>7612.572702</td>\n",
       "      <td>8312.324290</td>\n",
       "      <td>15248.667167</td>\n",
       "    </tr>\n",
       "    <tr>\n",
       "      <th>...</th>\n",
       "      <td>...</td>\n",
       "      <td>...</td>\n",
       "      <td>...</td>\n",
       "      <td>...</td>\n",
       "    </tr>\n",
       "    <tr>\n",
       "      <th>3497</th>\n",
       "      <td>362.591412</td>\n",
       "      <td>6599.967591</td>\n",
       "      <td>7208.169480</td>\n",
       "      <td>13222.279403</td>\n",
       "    </tr>\n",
       "    <tr>\n",
       "      <th>3492</th>\n",
       "      <td>434.949789</td>\n",
       "      <td>7887.764928</td>\n",
       "      <td>8614.713610</td>\n",
       "      <td>15802.129662</td>\n",
       "    </tr>\n",
       "    <tr>\n",
       "      <th>2177</th>\n",
       "      <td>368.038955</td>\n",
       "      <td>6761.947823</td>\n",
       "      <td>7385.675504</td>\n",
       "      <td>13547.489198</td>\n",
       "    </tr>\n",
       "    <tr>\n",
       "      <th>3557</th>\n",
       "      <td>499.748226</td>\n",
       "      <td>9081.205542</td>\n",
       "      <td>9917.876905</td>\n",
       "      <td>18192.988527</td>\n",
       "    </tr>\n",
       "    <tr>\n",
       "      <th>4578</th>\n",
       "      <td>609.781988</td>\n",
       "      <td>11070.521581</td>\n",
       "      <td>12091.193609</td>\n",
       "      <td>22178.637993</td>\n",
       "    </tr>\n",
       "  </tbody>\n",
       "</table>\n",
       "<p>3635 rows × 4 columns</p>\n",
       "</div>"
      ],
      "text/plain": [
       "               0             1             2             3\n",
       "4460  683.425147  12745.751661  13923.979866  25538.506010\n",
       "3773  647.585465  11863.556650  12957.462697  23768.133995\n",
       "4561  360.581584   6553.195371   7157.362363  13128.683278\n",
       "1385  512.298790   9087.592899   9922.632855  18203.318372\n",
       "724   430.401417   7612.572702   8312.324290  15248.667167\n",
       "...          ...           ...           ...           ...\n",
       "3497  362.591412   6599.967591   7208.169480  13222.279403\n",
       "3492  434.949789   7887.764928   8614.713610  15802.129662\n",
       "2177  368.038955   6761.947823   7385.675504  13547.489198\n",
       "3557  499.748226   9081.205542   9917.876905  18192.988527\n",
       "4578  609.781988  11070.521581  12091.193609  22178.637993\n",
       "\n",
       "[3635 rows x 4 columns]"
      ]
     },
     "execution_count": 19,
     "metadata": {},
     "output_type": "execute_result"
    }
   ],
   "source": [
    "transform_matrix, inv_matrix = get_rand_matrix()\n",
    "\n",
    "features_transform = features_train @ transform_matrix\n",
    "features_transform"
   ]
  },
  {
   "cell_type": "code",
   "execution_count": 20,
   "metadata": {},
   "outputs": [],
   "source": [
    "features_valid_transform = features_valid @ transform_matrix"
   ]
  },
  {
   "cell_type": "markdown",
   "metadata": {},
   "source": [
    "Проверим изменится ли качество модели после преобразования признаков."
   ]
  },
  {
   "cell_type": "code",
   "execution_count": 21,
   "metadata": {},
   "outputs": [
    {
     "name": "stdout",
     "output_type": "stream",
     "text": [
      "0.4230758279970248\n"
     ]
    }
   ],
   "source": [
    "model_transform = LinearRegr()\n",
    "model_transform.fit(features_transform, target_train)\n",
    "predictions_transform = model_transform.predict(features_valid_transform)\n",
    "print(r2_score(target_valid, predictions_transform))"
   ]
  },
  {
   "cell_type": "code",
   "execution_count": 22,
   "metadata": {},
   "outputs": [
    {
     "name": "stdout",
     "output_type": "stream",
     "text": [
      "0.423077276154897\n"
     ]
    }
   ],
   "source": [
    "model1 = LinearRegression()\n",
    "model1.fit(features_transform, target_train)\n",
    "mpredictions1 = model1.predict(features_valid_transform)\n",
    "print(r2_score(target_valid, mpredictions1))"
   ]
  },
  {
   "cell_type": "markdown",
   "metadata": {},
   "source": [
    "**Вывод:** r2 модели после преобразования признаков не изменилась."
   ]
  },
  {
   "cell_type": "markdown",
   "metadata": {},
   "source": [
    "# Выводы"
   ]
  },
  {
   "cell_type": "markdown",
   "metadata": {},
   "source": [
    "Были предоставлены данные клиентов страховой компании «Хоть потоп». Необходимо было разработать такой метод преобразования данных, чтобы по ним было сложно восстановить персональную информацию и обосновать корректность его работы. При этом качество моделей машинного обучения не должно ухудшиться.\n",
    "\n",
    "В данных было 5000 строк без пропусков, были удалены 153 строки полных дублей.\n",
    "\n",
    "Распределение по полам примерно одинаковое. Возраст большей части клиентов до 32 лет. Медианная зарплата 40200 р. Максимальное количество членов семьи - 6. Самое частое значение - 1 член семьи. Максимальное количество страховых выплат за 5 лет - 5, но чаще всего страховых выплат нет.\n",
    "\n",
    "Сильнее всего коррелирует возраст с признаком страховой выплаты (т.е. с целевым признаком). Такая корреляция не повлияет на качество модели.\n",
    "\n",
    "В качестве метода защиты данных предлагается умножить признаки на обратимую квадратную матрицу. Предсказания модели линейной регрессии не меняются при умножении признаков на обратимую матрицу.\n",
    "При запуске алгоритма каждый раз будет генерироваться новая случайная матрица для шифрования данных, таким образом, данные надежно защищены."
   ]
  }
 ],
 "metadata": {
  "ExecuteTimeLog": [
   {
    "duration": 1697,
    "start_time": "2023-01-06T14:29:10.751Z"
   },
   {
    "duration": 105,
    "start_time": "2023-01-06T14:29:12.450Z"
   },
   {
    "duration": 10,
    "start_time": "2023-01-06T14:29:12.556Z"
   },
   {
    "duration": 7,
    "start_time": "2023-01-06T14:29:12.568Z"
   },
   {
    "duration": 6,
    "start_time": "2023-01-06T14:29:12.577Z"
   },
   {
    "duration": 4,
    "start_time": "2023-01-06T14:29:12.584Z"
   },
   {
    "duration": 8,
    "start_time": "2023-01-06T14:29:12.590Z"
   },
   {
    "duration": 970,
    "start_time": "2023-01-06T14:29:12.600Z"
   },
   {
    "duration": 33,
    "start_time": "2023-01-06T14:29:13.572Z"
   },
   {
    "duration": 4,
    "start_time": "2023-01-06T14:29:13.607Z"
   },
   {
    "duration": 8,
    "start_time": "2023-01-06T14:29:13.612Z"
   },
   {
    "duration": 10,
    "start_time": "2023-01-06T14:29:13.621Z"
   },
   {
    "duration": 109,
    "start_time": "2023-01-06T14:29:13.698Z"
   },
   {
    "duration": 8,
    "start_time": "2023-01-06T14:29:34.216Z"
   },
   {
    "duration": 10,
    "start_time": "2023-01-06T14:30:01.088Z"
   },
   {
    "duration": 10,
    "start_time": "2023-01-06T14:30:05.492Z"
   },
   {
    "duration": 281,
    "start_time": "2023-01-06T14:32:45.486Z"
   },
   {
    "duration": 48,
    "start_time": "2023-01-07T07:18:44.682Z"
   },
   {
    "duration": 1865,
    "start_time": "2023-01-07T07:19:01.667Z"
   },
   {
    "duration": 106,
    "start_time": "2023-01-07T07:19:03.534Z"
   },
   {
    "duration": 14,
    "start_time": "2023-01-07T07:19:03.642Z"
   },
   {
    "duration": 4,
    "start_time": "2023-01-07T07:19:03.658Z"
   },
   {
    "duration": 10,
    "start_time": "2023-01-07T07:19:03.664Z"
   },
   {
    "duration": 9,
    "start_time": "2023-01-07T07:19:03.675Z"
   },
   {
    "duration": 29,
    "start_time": "2023-01-07T07:19:03.685Z"
   },
   {
    "duration": 1118,
    "start_time": "2023-01-07T07:19:03.716Z"
   },
   {
    "duration": 30,
    "start_time": "2023-01-07T07:19:04.837Z"
   },
   {
    "duration": 13,
    "start_time": "2023-01-07T07:19:04.870Z"
   },
   {
    "duration": 29,
    "start_time": "2023-01-07T07:19:04.884Z"
   },
   {
    "duration": 10,
    "start_time": "2023-01-07T07:19:04.915Z"
   },
   {
    "duration": 18,
    "start_time": "2023-01-07T07:19:04.927Z"
   },
   {
    "duration": 67,
    "start_time": "2023-01-07T07:19:04.947Z"
   },
   {
    "duration": 98,
    "start_time": "2023-01-07T07:19:05.016Z"
   },
   {
    "duration": 7,
    "start_time": "2023-01-07T07:19:05.116Z"
   },
   {
    "duration": 98,
    "start_time": "2023-01-07T07:19:05.125Z"
   },
   {
    "duration": 87,
    "start_time": "2023-01-07T07:19:05.225Z"
   },
   {
    "duration": 9,
    "start_time": "2023-01-07T07:19:05.314Z"
   },
   {
    "duration": 102,
    "start_time": "2023-01-07T07:19:05.325Z"
   },
   {
    "duration": 7,
    "start_time": "2023-01-07T07:19:25.920Z"
   },
   {
    "duration": 7,
    "start_time": "2023-01-07T07:20:00.341Z"
   },
   {
    "duration": 4,
    "start_time": "2023-01-07T07:20:11.357Z"
   },
   {
    "duration": 14,
    "start_time": "2023-01-07T07:20:12.258Z"
   },
   {
    "duration": 126,
    "start_time": "2023-01-07T07:20:14.956Z"
   },
   {
    "duration": 7,
    "start_time": "2023-01-07T07:20:42.720Z"
   },
   {
    "duration": 10,
    "start_time": "2023-01-07T07:20:49.245Z"
   },
   {
    "duration": 7,
    "start_time": "2023-01-07T07:21:03.475Z"
   },
   {
    "duration": 13,
    "start_time": "2023-01-07T07:21:03.838Z"
   },
   {
    "duration": 17,
    "start_time": "2023-01-07T07:21:09.910Z"
   },
   {
    "duration": 3,
    "start_time": "2023-01-07T07:21:12.092Z"
   },
   {
    "duration": 10,
    "start_time": "2023-01-07T07:21:14.276Z"
   },
   {
    "duration": 14,
    "start_time": "2023-01-07T07:21:14.917Z"
   },
   {
    "duration": 7,
    "start_time": "2023-01-07T07:21:44.864Z"
   },
   {
    "duration": 5,
    "start_time": "2023-01-07T07:21:48.977Z"
   },
   {
    "duration": 11,
    "start_time": "2023-01-07T07:22:24.469Z"
   },
   {
    "duration": 4,
    "start_time": "2023-01-07T07:22:29.055Z"
   },
   {
    "duration": 5,
    "start_time": "2023-01-07T07:22:37.397Z"
   },
   {
    "duration": 10,
    "start_time": "2023-01-07T07:25:06.345Z"
   },
   {
    "duration": 4,
    "start_time": "2023-01-07T07:25:09.585Z"
   },
   {
    "duration": 7,
    "start_time": "2023-01-07T07:25:10.289Z"
   },
   {
    "duration": 11,
    "start_time": "2023-01-07T07:25:10.792Z"
   },
   {
    "duration": 13,
    "start_time": "2023-01-07T07:25:15.027Z"
   },
   {
    "duration": 4,
    "start_time": "2023-01-07T07:25:15.360Z"
   },
   {
    "duration": 7,
    "start_time": "2023-01-07T07:25:16.169Z"
   },
   {
    "duration": 9,
    "start_time": "2023-01-07T07:25:16.770Z"
   },
   {
    "duration": 5,
    "start_time": "2023-01-07T07:25:21.650Z"
   },
   {
    "duration": 10,
    "start_time": "2023-01-07T07:25:31.300Z"
   },
   {
    "duration": 10,
    "start_time": "2023-01-07T07:25:39.993Z"
   },
   {
    "duration": 7,
    "start_time": "2023-01-07T07:27:36.868Z"
   },
   {
    "duration": 13,
    "start_time": "2023-01-07T12:28:54.830Z"
   },
   {
    "duration": 53,
    "start_time": "2023-01-07T12:29:18.171Z"
   },
   {
    "duration": 1083,
    "start_time": "2023-01-07T12:29:25.815Z"
   },
   {
    "duration": 100,
    "start_time": "2023-01-07T12:29:26.900Z"
   },
   {
    "duration": 12,
    "start_time": "2023-01-07T12:29:27.001Z"
   },
   {
    "duration": 5,
    "start_time": "2023-01-07T12:29:27.015Z"
   },
   {
    "duration": 7,
    "start_time": "2023-01-07T12:29:27.022Z"
   },
   {
    "duration": 10,
    "start_time": "2023-01-07T12:29:27.030Z"
   },
   {
    "duration": 12,
    "start_time": "2023-01-07T12:29:27.041Z"
   },
   {
    "duration": 1162,
    "start_time": "2023-01-07T12:29:27.054Z"
   },
   {
    "duration": 30,
    "start_time": "2023-01-07T12:29:28.218Z"
   },
   {
    "duration": 12,
    "start_time": "2023-01-07T12:29:28.252Z"
   },
   {
    "duration": 4,
    "start_time": "2023-01-07T12:29:28.266Z"
   },
   {
    "duration": 35,
    "start_time": "2023-01-07T12:29:28.272Z"
   },
   {
    "duration": 8,
    "start_time": "2023-01-07T12:29:28.309Z"
   },
   {
    "duration": 10,
    "start_time": "2023-01-07T12:29:28.319Z"
   },
   {
    "duration": 85,
    "start_time": "2023-01-07T12:29:28.331Z"
   },
   {
    "duration": 97,
    "start_time": "2023-01-07T12:29:28.419Z"
   },
   {
    "duration": 99,
    "start_time": "2023-01-07T12:29:28.518Z"
   },
   {
    "duration": 3,
    "start_time": "2023-01-07T12:29:28.705Z"
   },
   {
    "duration": 10,
    "start_time": "2023-01-07T12:29:28.710Z"
   },
   {
    "duration": 92,
    "start_time": "2023-01-07T12:29:28.722Z"
   }
  ],
  "kernelspec": {
   "display_name": "Python 3 (ipykernel)",
   "language": "python",
   "name": "python3"
  },
  "language_info": {
   "codemirror_mode": {
    "name": "ipython",
    "version": 3
   },
   "file_extension": ".py",
   "mimetype": "text/x-python",
   "name": "python",
   "nbconvert_exporter": "python",
   "pygments_lexer": "ipython3",
   "version": "3.9.12"
  },
  "toc": {
   "base_numbering": 1,
   "nav_menu": {},
   "number_sections": true,
   "sideBar": true,
   "skip_h1_title": true,
   "title_cell": "Содержание",
   "title_sidebar": "Contents",
   "toc_cell": true,
   "toc_position": {},
   "toc_section_display": true,
   "toc_window_display": false
  }
 },
 "nbformat": 4,
 "nbformat_minor": 2
}
