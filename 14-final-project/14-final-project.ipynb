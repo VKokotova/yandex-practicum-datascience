{
 "cells": [
  {
   "cell_type": "markdown",
   "id": "338a58ea",
   "metadata": {},
   "source": [
    "<h1>Содержание<span class=\"tocSkip\"></span></h1>\n",
    "<div class=\"toc\"><ul class=\"toc-item\"><li><span><a href=\"#Обзор-данных\" data-toc-modified-id=\"Обзор-данных-1\"><span class=\"toc-item-num\">1&nbsp;&nbsp;</span>Обзор данных</a></span></li><li><span><a href=\"#Анализ-данных\" data-toc-modified-id=\"Анализ-данных-2\"><span class=\"toc-item-num\">2&nbsp;&nbsp;</span>Анализ данных</a></span></li><li><span><a href=\"#Подготовка-данных-и-обучение-моделей\" data-toc-modified-id=\"Подготовка-данных-и-обучение-моделей-3\"><span class=\"toc-item-num\">3&nbsp;&nbsp;</span>Подготовка данных и обучение моделей</a></span></li><li><span><a href=\"#Итоговый-вывод\" data-toc-modified-id=\"ЧИтоговый-вывод-4\"><span class=\"toc-item-num\">4&nbsp;&nbsp;</span>Итоговый вывод</a></span></li></ul></div>"
   ]
  },
  {
   "cell_type": "markdown",
   "id": "11a09afe",
   "metadata": {},
   "source": [
    "# Снижение потребления электроэнергии при производстве стали"
   ]
  },
  {
   "cell_type": "markdown",
   "id": "16e2fc3f",
   "metadata": {},
   "source": [
    "Чтобы оптимизировать производственные расходы, металлургический комбинат ООО «Так закаляем сталь» решил уменьшить потребление электроэнергии на этапе обработки стали. \n",
    "\n",
    "Необходимо построить модель, которая предскажет температуру стали.\n",
    "\n",
    "Целевой признак: последняя измеренная температура\n",
    "Метрика: МАЕ. Качество 6.8 и ниже."
   ]
  },
  {
   "cell_type": "markdown",
   "id": "a3eb5ddf",
   "metadata": {},
   "source": [
    "## План работы"
   ]
  },
  {
   "cell_type": "markdown",
   "id": "b3431538",
   "metadata": {},
   "source": [
    "1. Подготовка данных\n",
    "\n",
    "   Загрузить данные, вывести первые строки. Получить обобщенную информацию о типах данных, пропусках, дублях, количестве строк.\n",
    "    \n",
    "    \n",
    "2. Исследовательский анализ\n",
    "\n",
    "    Обработать пропуски, выбросы, выявить/создать значимые признаки, объединить данные из разных наборов.\n",
    "    Преобразовать типы, если требуется. Если необходимо, почистить дубли.\n",
    "    \n",
    "    \n",
    "3. Модель\n",
    "    \n",
    "    Обучить несколько регрессионых моделей, подобрать лучшие параметры на кросс-валидации. \n",
    "    Проверить модели на адекватность с помощью константной модели.\n",
    "    \n",
    "    \n",
    "4. Тестирование\n",
    "\n",
    "    Проверить модель на тестовой выборке.\n",
    "    \n",
    "    \n",
    "5. Выводы\n",
    "\n",
    "    Итоговые выводы: качество и особенности данных, необходимые преобразования, используемые модели, лучшая модель."
   ]
  },
  {
   "cell_type": "markdown",
   "id": "f6ddffad",
   "metadata": {},
   "source": [
    "Импортируем необходимые библиотеки."
   ]
  },
  {
   "cell_type": "code",
   "execution_count": 1,
   "id": "6fb4b195",
   "metadata": {},
   "outputs": [],
   "source": [
    "import pandas as pd\n",
    "pd.options.mode.chained_assignment = None\n",
    "import os\n",
    "import numpy as np\n",
    "import time\n",
    "\n",
    "import matplotlib.pyplot as plt\n",
    "\n",
    "#from pyod.models.knn import KNN\n",
    "from sklearn.ensemble import IsolationForest\n",
    "\n",
    "import sklearn\n",
    "from sklearn.linear_model import LinearRegression, Ridge, Lasso\n",
    "from sklearn.metrics import mean_absolute_error\n",
    "from sklearn.model_selection import train_test_split, cross_val_score, GridSearchCV\n",
    "from sklearn.preprocessing import StandardScaler\n",
    "from sklearn.dummy import DummyRegressor\n",
    "\n",
    "import lightgbm as lgb\n",
    "from catboost import CatBoostRegressor"
   ]
  },
  {
   "cell_type": "markdown",
   "id": "6c297ceb",
   "metadata": {},
   "source": [
    "## Обзор данных"
   ]
  },
  {
   "cell_type": "markdown",
   "id": "0ee92b1c",
   "metadata": {},
   "source": [
    "Данные состоят из файлов, полученных из разных источников:\n",
    "\n",
    "- `data_arc.csv` — данные об электродах;\n",
    "- `data_bulk.csv` — данные о подаче сыпучих материалов (объём);\n",
    "- `data_bulk_time.csv` *—* данные о подаче сыпучих материалов (время);\n",
    "- `data_gas.csv` — данные о продувке сплава газом;\n",
    "- `data_temp.csv` — результаты измерения температуры;\n",
    "- `data_wire.csv` — данные о проволочных материалах (объём);\n",
    "- `data_wire_time.csv` — данные о проволочных материалах (время).\n",
    "\n",
    "Во всех файлах столбец `key` содержит номер партии. В файлах может быть несколько строк с одинаковым значением `key`: они соответствуют разным итерациям обработки."
   ]
  },
  {
   "cell_type": "markdown",
   "id": "d4e720b1",
   "metadata": {},
   "source": [
    "Взглянем на данные."
   ]
  },
  {
   "cell_type": "code",
   "execution_count": 2,
   "id": "ff325926",
   "metadata": {},
   "outputs": [],
   "source": [
    "def get_data(path):\n",
    "    if os.path.exists(path):\n",
    "        data = pd.read_csv(path)\n",
    "    else:\n",
    "        splitted_str = path.split('/')        \n",
    "        data = pd.read_csv(splitted_str[3])\n",
    "\n",
    "    return data"
   ]
  },
  {
   "cell_type": "code",
   "execution_count": 3,
   "id": "f873ad5a",
   "metadata": {},
   "outputs": [],
   "source": [
    "def info_dataframe(data):\n",
    "    print('Общая информация по dataframe:')\n",
    "    print('')\n",
    "    data.info()\n",
    "    \n",
    "    print('')\n",
    "    print('Статистическая информация:')\n",
    "    print('')\n",
    "    display(data.describe().T)"
   ]
  },
  {
   "cell_type": "code",
   "execution_count": 4,
   "id": "793c2bc4",
   "metadata": {},
   "outputs": [
    {
     "data": {
      "text/html": [
       "<div>\n",
       "<style scoped>\n",
       "    .dataframe tbody tr th:only-of-type {\n",
       "        vertical-align: middle;\n",
       "    }\n",
       "\n",
       "    .dataframe tbody tr th {\n",
       "        vertical-align: top;\n",
       "    }\n",
       "\n",
       "    .dataframe thead th {\n",
       "        text-align: right;\n",
       "    }\n",
       "</style>\n",
       "<table border=\"1\" class=\"dataframe\">\n",
       "  <thead>\n",
       "    <tr style=\"text-align: right;\">\n",
       "      <th></th>\n",
       "      <th>key</th>\n",
       "      <th>Начало нагрева дугой</th>\n",
       "      <th>Конец нагрева дугой</th>\n",
       "      <th>Активная мощность</th>\n",
       "      <th>Реактивная мощность</th>\n",
       "    </tr>\n",
       "  </thead>\n",
       "  <tbody>\n",
       "    <tr>\n",
       "      <th>0</th>\n",
       "      <td>1</td>\n",
       "      <td>2019-05-03 11:02:14</td>\n",
       "      <td>2019-05-03 11:06:02</td>\n",
       "      <td>0.976059</td>\n",
       "      <td>0.687084</td>\n",
       "    </tr>\n",
       "    <tr>\n",
       "      <th>1</th>\n",
       "      <td>1</td>\n",
       "      <td>2019-05-03 11:07:28</td>\n",
       "      <td>2019-05-03 11:10:33</td>\n",
       "      <td>0.805607</td>\n",
       "      <td>0.520285</td>\n",
       "    </tr>\n",
       "    <tr>\n",
       "      <th>2</th>\n",
       "      <td>1</td>\n",
       "      <td>2019-05-03 11:11:44</td>\n",
       "      <td>2019-05-03 11:14:36</td>\n",
       "      <td>0.744363</td>\n",
       "      <td>0.498805</td>\n",
       "    </tr>\n",
       "    <tr>\n",
       "      <th>3</th>\n",
       "      <td>1</td>\n",
       "      <td>2019-05-03 11:18:14</td>\n",
       "      <td>2019-05-03 11:24:19</td>\n",
       "      <td>1.659363</td>\n",
       "      <td>1.062669</td>\n",
       "    </tr>\n",
       "    <tr>\n",
       "      <th>4</th>\n",
       "      <td>1</td>\n",
       "      <td>2019-05-03 11:26:09</td>\n",
       "      <td>2019-05-03 11:28:37</td>\n",
       "      <td>0.692755</td>\n",
       "      <td>0.414397</td>\n",
       "    </tr>\n",
       "    <tr>\n",
       "      <th>...</th>\n",
       "      <td>...</td>\n",
       "      <td>...</td>\n",
       "      <td>...</td>\n",
       "      <td>...</td>\n",
       "      <td>...</td>\n",
       "    </tr>\n",
       "    <tr>\n",
       "      <th>14871</th>\n",
       "      <td>3241</td>\n",
       "      <td>2019-09-01 03:58:58</td>\n",
       "      <td>2019-09-01 04:01:35</td>\n",
       "      <td>0.533670</td>\n",
       "      <td>0.354439</td>\n",
       "    </tr>\n",
       "    <tr>\n",
       "      <th>14872</th>\n",
       "      <td>3241</td>\n",
       "      <td>2019-09-01 04:05:04</td>\n",
       "      <td>2019-09-01 04:08:04</td>\n",
       "      <td>0.676604</td>\n",
       "      <td>0.523631</td>\n",
       "    </tr>\n",
       "    <tr>\n",
       "      <th>14873</th>\n",
       "      <td>3241</td>\n",
       "      <td>2019-09-01 04:16:41</td>\n",
       "      <td>2019-09-01 04:19:45</td>\n",
       "      <td>0.733899</td>\n",
       "      <td>0.475654</td>\n",
       "    </tr>\n",
       "    <tr>\n",
       "      <th>14874</th>\n",
       "      <td>3241</td>\n",
       "      <td>2019-09-01 04:31:51</td>\n",
       "      <td>2019-09-01 04:32:48</td>\n",
       "      <td>0.220694</td>\n",
       "      <td>0.145768</td>\n",
       "    </tr>\n",
       "    <tr>\n",
       "      <th>14875</th>\n",
       "      <td>3241</td>\n",
       "      <td>2019-09-01 04:34:47</td>\n",
       "      <td>2019-09-01 04:36:08</td>\n",
       "      <td>0.306580</td>\n",
       "      <td>0.196708</td>\n",
       "    </tr>\n",
       "  </tbody>\n",
       "</table>\n",
       "<p>14876 rows × 5 columns</p>\n",
       "</div>"
      ],
      "text/plain": [
       "        key Начало нагрева дугой  Конец нагрева дугой  Активная мощность  \\\n",
       "0         1  2019-05-03 11:02:14  2019-05-03 11:06:02           0.976059   \n",
       "1         1  2019-05-03 11:07:28  2019-05-03 11:10:33           0.805607   \n",
       "2         1  2019-05-03 11:11:44  2019-05-03 11:14:36           0.744363   \n",
       "3         1  2019-05-03 11:18:14  2019-05-03 11:24:19           1.659363   \n",
       "4         1  2019-05-03 11:26:09  2019-05-03 11:28:37           0.692755   \n",
       "...     ...                  ...                  ...                ...   \n",
       "14871  3241  2019-09-01 03:58:58  2019-09-01 04:01:35           0.533670   \n",
       "14872  3241  2019-09-01 04:05:04  2019-09-01 04:08:04           0.676604   \n",
       "14873  3241  2019-09-01 04:16:41  2019-09-01 04:19:45           0.733899   \n",
       "14874  3241  2019-09-01 04:31:51  2019-09-01 04:32:48           0.220694   \n",
       "14875  3241  2019-09-01 04:34:47  2019-09-01 04:36:08           0.306580   \n",
       "\n",
       "       Реактивная мощность  \n",
       "0                 0.687084  \n",
       "1                 0.520285  \n",
       "2                 0.498805  \n",
       "3                 1.062669  \n",
       "4                 0.414397  \n",
       "...                    ...  \n",
       "14871             0.354439  \n",
       "14872             0.523631  \n",
       "14873             0.475654  \n",
       "14874             0.145768  \n",
       "14875             0.196708  \n",
       "\n",
       "[14876 rows x 5 columns]"
      ]
     },
     "execution_count": 4,
     "metadata": {},
     "output_type": "execute_result"
    }
   ],
   "source": [
    "# данные об электродах\n",
    "data_arc = get_data('/datasets/final_steel/data_arc.csv')\n",
    "data_arc"
   ]
  },
  {
   "cell_type": "code",
   "execution_count": 5,
   "id": "c5ccbd7d",
   "metadata": {},
   "outputs": [
    {
     "name": "stdout",
     "output_type": "stream",
     "text": [
      "Общая информация по dataframe:\n",
      "\n",
      "<class 'pandas.core.frame.DataFrame'>\n",
      "RangeIndex: 14876 entries, 0 to 14875\n",
      "Data columns (total 5 columns):\n",
      " #   Column                Non-Null Count  Dtype  \n",
      "---  ------                --------------  -----  \n",
      " 0   key                   14876 non-null  int64  \n",
      " 1   Начало нагрева дугой  14876 non-null  object \n",
      " 2   Конец нагрева дугой   14876 non-null  object \n",
      " 3   Активная мощность     14876 non-null  float64\n",
      " 4   Реактивная мощность   14876 non-null  float64\n",
      "dtypes: float64(2), int64(1), object(2)\n",
      "memory usage: 581.2+ KB\n",
      "\n",
      "Статистическая информация:\n",
      "\n"
     ]
    },
    {
     "data": {
      "text/html": [
       "<div>\n",
       "<style scoped>\n",
       "    .dataframe tbody tr th:only-of-type {\n",
       "        vertical-align: middle;\n",
       "    }\n",
       "\n",
       "    .dataframe tbody tr th {\n",
       "        vertical-align: top;\n",
       "    }\n",
       "\n",
       "    .dataframe thead th {\n",
       "        text-align: right;\n",
       "    }\n",
       "</style>\n",
       "<table border=\"1\" class=\"dataframe\">\n",
       "  <thead>\n",
       "    <tr style=\"text-align: right;\">\n",
       "      <th></th>\n",
       "      <th>count</th>\n",
       "      <th>mean</th>\n",
       "      <th>std</th>\n",
       "      <th>min</th>\n",
       "      <th>25%</th>\n",
       "      <th>50%</th>\n",
       "      <th>75%</th>\n",
       "      <th>max</th>\n",
       "    </tr>\n",
       "  </thead>\n",
       "  <tbody>\n",
       "    <tr>\n",
       "      <th>key</th>\n",
       "      <td>14876.0</td>\n",
       "      <td>1615.220422</td>\n",
       "      <td>934.571502</td>\n",
       "      <td>1.000000</td>\n",
       "      <td>806.000000</td>\n",
       "      <td>1617.000000</td>\n",
       "      <td>2429.000000</td>\n",
       "      <td>3241.000000</td>\n",
       "    </tr>\n",
       "    <tr>\n",
       "      <th>Активная мощность</th>\n",
       "      <td>14876.0</td>\n",
       "      <td>0.670441</td>\n",
       "      <td>0.408159</td>\n",
       "      <td>0.030002</td>\n",
       "      <td>0.395297</td>\n",
       "      <td>0.555517</td>\n",
       "      <td>0.857034</td>\n",
       "      <td>3.731596</td>\n",
       "    </tr>\n",
       "    <tr>\n",
       "      <th>Реактивная мощность</th>\n",
       "      <td>14876.0</td>\n",
       "      <td>0.452592</td>\n",
       "      <td>5.878702</td>\n",
       "      <td>-715.504924</td>\n",
       "      <td>0.290991</td>\n",
       "      <td>0.415962</td>\n",
       "      <td>0.637371</td>\n",
       "      <td>2.676388</td>\n",
       "    </tr>\n",
       "  </tbody>\n",
       "</table>\n",
       "</div>"
      ],
      "text/plain": [
       "                       count         mean         std         min         25%  \\\n",
       "key                  14876.0  1615.220422  934.571502    1.000000  806.000000   \n",
       "Активная мощность    14876.0     0.670441    0.408159    0.030002    0.395297   \n",
       "Реактивная мощность  14876.0     0.452592    5.878702 -715.504924    0.290991   \n",
       "\n",
       "                             50%          75%          max  \n",
       "key                  1617.000000  2429.000000  3241.000000  \n",
       "Активная мощность       0.555517     0.857034     3.731596  \n",
       "Реактивная мощность     0.415962     0.637371     2.676388  "
      ]
     },
     "metadata": {},
     "output_type": "display_data"
    }
   ],
   "source": [
    "info_dataframe(data_arc)"
   ]
  },
  {
   "cell_type": "markdown",
   "id": "feb4b64c",
   "metadata": {},
   "source": [
    "Переименуем колонки."
   ]
  },
  {
   "cell_type": "code",
   "execution_count": 6,
   "id": "9d86ee52",
   "metadata": {},
   "outputs": [],
   "source": [
    "data_arc = data_arc.rename(columns={'Начало нагрева дугой': 'start_time', 'Конец нагрева дугой': 'end_time', \\\n",
    "                   'Активная мощность': 'active', 'Реактивная мощность': 'reactive'})"
   ]
  },
  {
   "cell_type": "markdown",
   "id": "e31c0825",
   "metadata": {},
   "source": [
    "Посмотрим, сколько строк с реактивной мощностью меньше 0."
   ]
  },
  {
   "cell_type": "code",
   "execution_count": 7,
   "id": "0f6d371b",
   "metadata": {},
   "outputs": [
    {
     "data": {
      "text/html": [
       "<div>\n",
       "<style scoped>\n",
       "    .dataframe tbody tr th:only-of-type {\n",
       "        vertical-align: middle;\n",
       "    }\n",
       "\n",
       "    .dataframe tbody tr th {\n",
       "        vertical-align: top;\n",
       "    }\n",
       "\n",
       "    .dataframe thead th {\n",
       "        text-align: right;\n",
       "    }\n",
       "</style>\n",
       "<table border=\"1\" class=\"dataframe\">\n",
       "  <thead>\n",
       "    <tr style=\"text-align: right;\">\n",
       "      <th></th>\n",
       "      <th>key</th>\n",
       "      <th>start_time</th>\n",
       "      <th>end_time</th>\n",
       "      <th>active</th>\n",
       "      <th>reactive</th>\n",
       "    </tr>\n",
       "  </thead>\n",
       "  <tbody>\n",
       "    <tr>\n",
       "      <th>9780</th>\n",
       "      <td>2116</td>\n",
       "      <td>2019-07-24 00:44:48</td>\n",
       "      <td>2019-07-24 00:46:37</td>\n",
       "      <td>0.495782</td>\n",
       "      <td>-715.504924</td>\n",
       "    </tr>\n",
       "  </tbody>\n",
       "</table>\n",
       "</div>"
      ],
      "text/plain": [
       "       key           start_time             end_time    active    reactive\n",
       "9780  2116  2019-07-24 00:44:48  2019-07-24 00:46:37  0.495782 -715.504924"
      ]
     },
     "execution_count": 7,
     "metadata": {},
     "output_type": "execute_result"
    }
   ],
   "source": [
    "data_arc.query('reactive < 0')"
   ]
  },
  {
   "cell_type": "markdown",
   "id": "25a239d8",
   "metadata": {},
   "source": [
    "Выясним количество уникальных партий в наборе."
   ]
  },
  {
   "cell_type": "code",
   "execution_count": 8,
   "id": "7f221d54",
   "metadata": {},
   "outputs": [
    {
     "data": {
      "text/plain": [
       "3214"
      ]
     },
     "execution_count": 8,
     "metadata": {},
     "output_type": "execute_result"
    }
   ],
   "source": [
    "len(data_arc['key'].unique())"
   ]
  },
  {
   "cell_type": "markdown",
   "id": "35308941",
   "metadata": {},
   "source": [
    "Выясним, сколько строк может быть по партии."
   ]
  },
  {
   "cell_type": "code",
   "execution_count": 9,
   "id": "1f9d1cfb",
   "metadata": {},
   "outputs": [
    {
     "data": {
      "text/plain": [
       "array([ 1,  2,  3,  4,  5,  6,  7,  8,  9, 10, 11, 12, 13, 14, 15, 16],\n",
       "      dtype=int64)"
      ]
     },
     "execution_count": 9,
     "metadata": {},
     "output_type": "execute_result"
    }
   ],
   "source": [
    "pt_key_arc = pd.pivot_table(data_arc, index=['key'],\n",
    "                   values=['start_time'],\n",
    "                   aggfunc='count')\n",
    "pt_key_arc.sort_values(by='start_time')['start_time'].unique()"
   ]
  },
  {
   "cell_type": "markdown",
   "id": "64213d43",
   "metadata": {},
   "source": [
    "Выясним, есть ли дубли."
   ]
  },
  {
   "cell_type": "code",
   "execution_count": 10,
   "id": "cadf242a",
   "metadata": {},
   "outputs": [
    {
     "data": {
      "text/plain": [
       "0"
      ]
     },
     "execution_count": 10,
     "metadata": {},
     "output_type": "execute_result"
    }
   ],
   "source": [
    "data_arc.duplicated().sum()"
   ]
  },
  {
   "cell_type": "markdown",
   "id": "46216916",
   "metadata": {},
   "source": [
    "Построим гистограмму распределения значений мощностей."
   ]
  },
  {
   "cell_type": "code",
   "execution_count": 11,
   "id": "1771aba4",
   "metadata": {
    "scrolled": true
   },
   "outputs": [
    {
     "data": {
      "image/png": "[encoded data removed]",
      "text/plain": [
       "<Figure size 720x720 with 1 Axes>"
      ]
     },
     "metadata": {
      "needs_background": "light"
     },
     "output_type": "display_data"
    }
   ],
   "source": [
    "data_arc['active'].hist(figsize=(10, 10), bins=100).set_xlabel('Активная мощность');"
   ]
  },
  {
   "cell_type": "code",
   "execution_count": 12,
   "id": "59371b9f",
   "metadata": {},
   "outputs": [
    {
     "data": {
      "image/png": "[encoded data removed]",
      "text/plain": [
       "<Figure size 720x720 with 1 Axes>"
      ]
     },
     "metadata": {
      "needs_background": "light"
     },
     "output_type": "display_data"
    }
   ],
   "source": [
    "data_arc[data_arc['reactive'] > 0]['reactive'].hist(figsize=(10, 10), bins=100).set_xlabel('Реактивная мощность');"
   ]
  },
  {
   "cell_type": "markdown",
   "id": "bd968779",
   "metadata": {},
   "source": [
    "Пустых значений нет, полных дублей нет, датафрейм содержит информацию по 3214 партиям. Количество строк с информацией для каждой партии не одинаково: минимум 1 строка, максимум 16 строк.\n",
    "По реактивной мощности есть одно некорректное отрицательное значение. На этапе обработки данных его необходимо удалить.\n",
    "Время обработки хранится в столбце с типом object."
   ]
  },
  {
   "cell_type": "code",
   "execution_count": 13,
   "id": "87f571f0",
   "metadata": {},
   "outputs": [
    {
     "data": {
      "text/html": [
       "<div>\n",
       "<style scoped>\n",
       "    .dataframe tbody tr th:only-of-type {\n",
       "        vertical-align: middle;\n",
       "    }\n",
       "\n",
       "    .dataframe tbody tr th {\n",
       "        vertical-align: top;\n",
       "    }\n",
       "\n",
       "    .dataframe thead th {\n",
       "        text-align: right;\n",
       "    }\n",
       "</style>\n",
       "<table border=\"1\" class=\"dataframe\">\n",
       "  <thead>\n",
       "    <tr style=\"text-align: right;\">\n",
       "      <th></th>\n",
       "      <th>key</th>\n",
       "      <th>Bulk 1</th>\n",
       "      <th>Bulk 2</th>\n",
       "      <th>Bulk 3</th>\n",
       "      <th>Bulk 4</th>\n",
       "      <th>Bulk 5</th>\n",
       "      <th>Bulk 6</th>\n",
       "      <th>Bulk 7</th>\n",
       "      <th>Bulk 8</th>\n",
       "      <th>Bulk 9</th>\n",
       "      <th>Bulk 10</th>\n",
       "      <th>Bulk 11</th>\n",
       "      <th>Bulk 12</th>\n",
       "      <th>Bulk 13</th>\n",
       "      <th>Bulk 14</th>\n",
       "      <th>Bulk 15</th>\n",
       "    </tr>\n",
       "  </thead>\n",
       "  <tbody>\n",
       "    <tr>\n",
       "      <th>0</th>\n",
       "      <td>1</td>\n",
       "      <td>NaN</td>\n",
       "      <td>NaN</td>\n",
       "      <td>NaN</td>\n",
       "      <td>43.0</td>\n",
       "      <td>NaN</td>\n",
       "      <td>NaN</td>\n",
       "      <td>NaN</td>\n",
       "      <td>NaN</td>\n",
       "      <td>NaN</td>\n",
       "      <td>NaN</td>\n",
       "      <td>NaN</td>\n",
       "      <td>206.0</td>\n",
       "      <td>NaN</td>\n",
       "      <td>150.0</td>\n",
       "      <td>154.0</td>\n",
       "    </tr>\n",
       "    <tr>\n",
       "      <th>1</th>\n",
       "      <td>2</td>\n",
       "      <td>NaN</td>\n",
       "      <td>NaN</td>\n",
       "      <td>NaN</td>\n",
       "      <td>73.0</td>\n",
       "      <td>NaN</td>\n",
       "      <td>NaN</td>\n",
       "      <td>NaN</td>\n",
       "      <td>NaN</td>\n",
       "      <td>NaN</td>\n",
       "      <td>NaN</td>\n",
       "      <td>NaN</td>\n",
       "      <td>206.0</td>\n",
       "      <td>NaN</td>\n",
       "      <td>149.0</td>\n",
       "      <td>154.0</td>\n",
       "    </tr>\n",
       "    <tr>\n",
       "      <th>2</th>\n",
       "      <td>3</td>\n",
       "      <td>NaN</td>\n",
       "      <td>NaN</td>\n",
       "      <td>NaN</td>\n",
       "      <td>34.0</td>\n",
       "      <td>NaN</td>\n",
       "      <td>NaN</td>\n",
       "      <td>NaN</td>\n",
       "      <td>NaN</td>\n",
       "      <td>NaN</td>\n",
       "      <td>NaN</td>\n",
       "      <td>NaN</td>\n",
       "      <td>205.0</td>\n",
       "      <td>NaN</td>\n",
       "      <td>152.0</td>\n",
       "      <td>153.0</td>\n",
       "    </tr>\n",
       "    <tr>\n",
       "      <th>3</th>\n",
       "      <td>4</td>\n",
       "      <td>NaN</td>\n",
       "      <td>NaN</td>\n",
       "      <td>NaN</td>\n",
       "      <td>81.0</td>\n",
       "      <td>NaN</td>\n",
       "      <td>NaN</td>\n",
       "      <td>NaN</td>\n",
       "      <td>NaN</td>\n",
       "      <td>NaN</td>\n",
       "      <td>NaN</td>\n",
       "      <td>NaN</td>\n",
       "      <td>207.0</td>\n",
       "      <td>NaN</td>\n",
       "      <td>153.0</td>\n",
       "      <td>154.0</td>\n",
       "    </tr>\n",
       "    <tr>\n",
       "      <th>4</th>\n",
       "      <td>5</td>\n",
       "      <td>NaN</td>\n",
       "      <td>NaN</td>\n",
       "      <td>NaN</td>\n",
       "      <td>78.0</td>\n",
       "      <td>NaN</td>\n",
       "      <td>NaN</td>\n",
       "      <td>NaN</td>\n",
       "      <td>NaN</td>\n",
       "      <td>NaN</td>\n",
       "      <td>NaN</td>\n",
       "      <td>NaN</td>\n",
       "      <td>203.0</td>\n",
       "      <td>NaN</td>\n",
       "      <td>151.0</td>\n",
       "      <td>152.0</td>\n",
       "    </tr>\n",
       "    <tr>\n",
       "      <th>...</th>\n",
       "      <td>...</td>\n",
       "      <td>...</td>\n",
       "      <td>...</td>\n",
       "      <td>...</td>\n",
       "      <td>...</td>\n",
       "      <td>...</td>\n",
       "      <td>...</td>\n",
       "      <td>...</td>\n",
       "      <td>...</td>\n",
       "      <td>...</td>\n",
       "      <td>...</td>\n",
       "      <td>...</td>\n",
       "      <td>...</td>\n",
       "      <td>...</td>\n",
       "      <td>...</td>\n",
       "      <td>...</td>\n",
       "    </tr>\n",
       "    <tr>\n",
       "      <th>3124</th>\n",
       "      <td>3237</td>\n",
       "      <td>NaN</td>\n",
       "      <td>NaN</td>\n",
       "      <td>170.0</td>\n",
       "      <td>NaN</td>\n",
       "      <td>NaN</td>\n",
       "      <td>NaN</td>\n",
       "      <td>NaN</td>\n",
       "      <td>NaN</td>\n",
       "      <td>NaN</td>\n",
       "      <td>NaN</td>\n",
       "      <td>NaN</td>\n",
       "      <td>252.0</td>\n",
       "      <td>NaN</td>\n",
       "      <td>130.0</td>\n",
       "      <td>206.0</td>\n",
       "    </tr>\n",
       "    <tr>\n",
       "      <th>3125</th>\n",
       "      <td>3238</td>\n",
       "      <td>NaN</td>\n",
       "      <td>NaN</td>\n",
       "      <td>126.0</td>\n",
       "      <td>NaN</td>\n",
       "      <td>NaN</td>\n",
       "      <td>NaN</td>\n",
       "      <td>NaN</td>\n",
       "      <td>NaN</td>\n",
       "      <td>NaN</td>\n",
       "      <td>NaN</td>\n",
       "      <td>NaN</td>\n",
       "      <td>254.0</td>\n",
       "      <td>NaN</td>\n",
       "      <td>108.0</td>\n",
       "      <td>106.0</td>\n",
       "    </tr>\n",
       "    <tr>\n",
       "      <th>3126</th>\n",
       "      <td>3239</td>\n",
       "      <td>NaN</td>\n",
       "      <td>NaN</td>\n",
       "      <td>NaN</td>\n",
       "      <td>NaN</td>\n",
       "      <td>NaN</td>\n",
       "      <td>114.0</td>\n",
       "      <td>NaN</td>\n",
       "      <td>NaN</td>\n",
       "      <td>NaN</td>\n",
       "      <td>NaN</td>\n",
       "      <td>NaN</td>\n",
       "      <td>158.0</td>\n",
       "      <td>NaN</td>\n",
       "      <td>270.0</td>\n",
       "      <td>88.0</td>\n",
       "    </tr>\n",
       "    <tr>\n",
       "      <th>3127</th>\n",
       "      <td>3240</td>\n",
       "      <td>NaN</td>\n",
       "      <td>NaN</td>\n",
       "      <td>NaN</td>\n",
       "      <td>NaN</td>\n",
       "      <td>NaN</td>\n",
       "      <td>26.0</td>\n",
       "      <td>NaN</td>\n",
       "      <td>NaN</td>\n",
       "      <td>NaN</td>\n",
       "      <td>NaN</td>\n",
       "      <td>NaN</td>\n",
       "      <td>NaN</td>\n",
       "      <td>NaN</td>\n",
       "      <td>192.0</td>\n",
       "      <td>54.0</td>\n",
       "    </tr>\n",
       "    <tr>\n",
       "      <th>3128</th>\n",
       "      <td>3241</td>\n",
       "      <td>NaN</td>\n",
       "      <td>NaN</td>\n",
       "      <td>NaN</td>\n",
       "      <td>NaN</td>\n",
       "      <td>NaN</td>\n",
       "      <td>NaN</td>\n",
       "      <td>NaN</td>\n",
       "      <td>NaN</td>\n",
       "      <td>NaN</td>\n",
       "      <td>NaN</td>\n",
       "      <td>NaN</td>\n",
       "      <td>NaN</td>\n",
       "      <td>NaN</td>\n",
       "      <td>180.0</td>\n",
       "      <td>52.0</td>\n",
       "    </tr>\n",
       "  </tbody>\n",
       "</table>\n",
       "<p>3129 rows × 16 columns</p>\n",
       "</div>"
      ],
      "text/plain": [
       "       key  Bulk 1  Bulk 2  Bulk 3  Bulk 4  Bulk 5  Bulk 6  Bulk 7  Bulk 8  \\\n",
       "0        1     NaN     NaN     NaN    43.0     NaN     NaN     NaN     NaN   \n",
       "1        2     NaN     NaN     NaN    73.0     NaN     NaN     NaN     NaN   \n",
       "2        3     NaN     NaN     NaN    34.0     NaN     NaN     NaN     NaN   \n",
       "3        4     NaN     NaN     NaN    81.0     NaN     NaN     NaN     NaN   \n",
       "4        5     NaN     NaN     NaN    78.0     NaN     NaN     NaN     NaN   \n",
       "...    ...     ...     ...     ...     ...     ...     ...     ...     ...   \n",
       "3124  3237     NaN     NaN   170.0     NaN     NaN     NaN     NaN     NaN   \n",
       "3125  3238     NaN     NaN   126.0     NaN     NaN     NaN     NaN     NaN   \n",
       "3126  3239     NaN     NaN     NaN     NaN     NaN   114.0     NaN     NaN   \n",
       "3127  3240     NaN     NaN     NaN     NaN     NaN    26.0     NaN     NaN   \n",
       "3128  3241     NaN     NaN     NaN     NaN     NaN     NaN     NaN     NaN   \n",
       "\n",
       "      Bulk 9  Bulk 10  Bulk 11  Bulk 12  Bulk 13  Bulk 14  Bulk 15  \n",
       "0        NaN      NaN      NaN    206.0      NaN    150.0    154.0  \n",
       "1        NaN      NaN      NaN    206.0      NaN    149.0    154.0  \n",
       "2        NaN      NaN      NaN    205.0      NaN    152.0    153.0  \n",
       "3        NaN      NaN      NaN    207.0      NaN    153.0    154.0  \n",
       "4        NaN      NaN      NaN    203.0      NaN    151.0    152.0  \n",
       "...      ...      ...      ...      ...      ...      ...      ...  \n",
       "3124     NaN      NaN      NaN    252.0      NaN    130.0    206.0  \n",
       "3125     NaN      NaN      NaN    254.0      NaN    108.0    106.0  \n",
       "3126     NaN      NaN      NaN    158.0      NaN    270.0     88.0  \n",
       "3127     NaN      NaN      NaN      NaN      NaN    192.0     54.0  \n",
       "3128     NaN      NaN      NaN      NaN      NaN    180.0     52.0  \n",
       "\n",
       "[3129 rows x 16 columns]"
      ]
     },
     "execution_count": 13,
     "metadata": {},
     "output_type": "execute_result"
    }
   ],
   "source": [
    "# данные о подаче сыпучих материалов (объём)\n",
    "data_bulk = get_data('/datasets/final_steel/data_bulk.csv')\n",
    "data_bulk"
   ]
  },
  {
   "cell_type": "code",
   "execution_count": 14,
   "id": "cd288c6b",
   "metadata": {},
   "outputs": [
    {
     "name": "stderr",
     "output_type": "stream",
     "text": [
      "C:\\Users\\Вера\\AppData\\Local\\Temp\\ipykernel_2392\\2765921204.py:1: FutureWarning: The default value of regex will change from True to False in a future version.\n",
      "  data_bulk.columns = data_bulk.columns.str.replace(r\"([A-Z])\", r\" \\1\").str.lower().str.replace(' ', '_').str[1:]\n"
     ]
    }
   ],
   "source": [
    "data_bulk.columns = data_bulk.columns.str.replace(r\"([A-Z])\", r\" \\1\").str.lower().str.replace(' ', '_').str[1:]\n",
    "data_bulk = data_bulk.rename(columns={'ey': 'key'})"
   ]
  },
  {
   "cell_type": "code",
   "execution_count": 15,
   "id": "8ad485ea",
   "metadata": {},
   "outputs": [
    {
     "name": "stdout",
     "output_type": "stream",
     "text": [
      "Общая информация по dataframe:\n",
      "\n",
      "<class 'pandas.core.frame.DataFrame'>\n",
      "RangeIndex: 3129 entries, 0 to 3128\n",
      "Data columns (total 16 columns):\n",
      " #   Column   Non-Null Count  Dtype  \n",
      "---  ------   --------------  -----  \n",
      " 0   key      3129 non-null   int64  \n",
      " 1   bulk_1   252 non-null    float64\n",
      " 2   bulk_2   22 non-null     float64\n",
      " 3   bulk_3   1298 non-null   float64\n",
      " 4   bulk_4   1014 non-null   float64\n",
      " 5   bulk_5   77 non-null     float64\n",
      " 6   bulk_6   576 non-null    float64\n",
      " 7   bulk_7   25 non-null     float64\n",
      " 8   bulk_8   1 non-null      float64\n",
      " 9   bulk_9   19 non-null     float64\n",
      " 10  bulk_10  176 non-null    float64\n",
      " 11  bulk_11  177 non-null    float64\n",
      " 12  bulk_12  2450 non-null   float64\n",
      " 13  bulk_13  18 non-null     float64\n",
      " 14  bulk_14  2806 non-null   float64\n",
      " 15  bulk_15  2248 non-null   float64\n",
      "dtypes: float64(15), int64(1)\n",
      "memory usage: 391.2 KB\n",
      "\n",
      "Статистическая информация:\n",
      "\n"
     ]
    },
    {
     "data": {
      "text/html": [
       "<div>\n",
       "<style scoped>\n",
       "    .dataframe tbody tr th:only-of-type {\n",
       "        vertical-align: middle;\n",
       "    }\n",
       "\n",
       "    .dataframe tbody tr th {\n",
       "        vertical-align: top;\n",
       "    }\n",
       "\n",
       "    .dataframe thead th {\n",
       "        text-align: right;\n",
       "    }\n",
       "</style>\n",
       "<table border=\"1\" class=\"dataframe\">\n",
       "  <thead>\n",
       "    <tr style=\"text-align: right;\">\n",
       "      <th></th>\n",
       "      <th>count</th>\n",
       "      <th>mean</th>\n",
       "      <th>std</th>\n",
       "      <th>min</th>\n",
       "      <th>25%</th>\n",
       "      <th>50%</th>\n",
       "      <th>75%</th>\n",
       "      <th>max</th>\n",
       "    </tr>\n",
       "  </thead>\n",
       "  <tbody>\n",
       "    <tr>\n",
       "      <th>key</th>\n",
       "      <td>3129.0</td>\n",
       "      <td>1624.383509</td>\n",
       "      <td>933.337642</td>\n",
       "      <td>1.0</td>\n",
       "      <td>816.00</td>\n",
       "      <td>1622.0</td>\n",
       "      <td>2431.00</td>\n",
       "      <td>3241.0</td>\n",
       "    </tr>\n",
       "    <tr>\n",
       "      <th>bulk_1</th>\n",
       "      <td>252.0</td>\n",
       "      <td>39.242063</td>\n",
       "      <td>18.277654</td>\n",
       "      <td>10.0</td>\n",
       "      <td>27.00</td>\n",
       "      <td>31.0</td>\n",
       "      <td>46.00</td>\n",
       "      <td>185.0</td>\n",
       "    </tr>\n",
       "    <tr>\n",
       "      <th>bulk_2</th>\n",
       "      <td>22.0</td>\n",
       "      <td>253.045455</td>\n",
       "      <td>21.180578</td>\n",
       "      <td>228.0</td>\n",
       "      <td>242.00</td>\n",
       "      <td>251.5</td>\n",
       "      <td>257.75</td>\n",
       "      <td>325.0</td>\n",
       "    </tr>\n",
       "    <tr>\n",
       "      <th>bulk_3</th>\n",
       "      <td>1298.0</td>\n",
       "      <td>113.879045</td>\n",
       "      <td>75.483494</td>\n",
       "      <td>6.0</td>\n",
       "      <td>58.00</td>\n",
       "      <td>97.5</td>\n",
       "      <td>152.00</td>\n",
       "      <td>454.0</td>\n",
       "    </tr>\n",
       "    <tr>\n",
       "      <th>bulk_4</th>\n",
       "      <td>1014.0</td>\n",
       "      <td>104.394477</td>\n",
       "      <td>48.184126</td>\n",
       "      <td>12.0</td>\n",
       "      <td>72.00</td>\n",
       "      <td>102.0</td>\n",
       "      <td>133.00</td>\n",
       "      <td>281.0</td>\n",
       "    </tr>\n",
       "    <tr>\n",
       "      <th>bulk_5</th>\n",
       "      <td>77.0</td>\n",
       "      <td>107.025974</td>\n",
       "      <td>81.790646</td>\n",
       "      <td>11.0</td>\n",
       "      <td>70.00</td>\n",
       "      <td>86.0</td>\n",
       "      <td>132.00</td>\n",
       "      <td>603.0</td>\n",
       "    </tr>\n",
       "    <tr>\n",
       "      <th>bulk_6</th>\n",
       "      <td>576.0</td>\n",
       "      <td>118.925347</td>\n",
       "      <td>72.057776</td>\n",
       "      <td>17.0</td>\n",
       "      <td>69.75</td>\n",
       "      <td>100.0</td>\n",
       "      <td>157.00</td>\n",
       "      <td>503.0</td>\n",
       "    </tr>\n",
       "    <tr>\n",
       "      <th>bulk_7</th>\n",
       "      <td>25.0</td>\n",
       "      <td>305.600000</td>\n",
       "      <td>191.022904</td>\n",
       "      <td>47.0</td>\n",
       "      <td>155.00</td>\n",
       "      <td>298.0</td>\n",
       "      <td>406.00</td>\n",
       "      <td>772.0</td>\n",
       "    </tr>\n",
       "    <tr>\n",
       "      <th>bulk_8</th>\n",
       "      <td>1.0</td>\n",
       "      <td>49.000000</td>\n",
       "      <td>NaN</td>\n",
       "      <td>49.0</td>\n",
       "      <td>49.00</td>\n",
       "      <td>49.0</td>\n",
       "      <td>49.00</td>\n",
       "      <td>49.0</td>\n",
       "    </tr>\n",
       "    <tr>\n",
       "      <th>bulk_9</th>\n",
       "      <td>19.0</td>\n",
       "      <td>76.315789</td>\n",
       "      <td>21.720581</td>\n",
       "      <td>63.0</td>\n",
       "      <td>66.00</td>\n",
       "      <td>68.0</td>\n",
       "      <td>70.50</td>\n",
       "      <td>147.0</td>\n",
       "    </tr>\n",
       "    <tr>\n",
       "      <th>bulk_10</th>\n",
       "      <td>176.0</td>\n",
       "      <td>83.284091</td>\n",
       "      <td>26.060347</td>\n",
       "      <td>24.0</td>\n",
       "      <td>64.00</td>\n",
       "      <td>86.5</td>\n",
       "      <td>102.00</td>\n",
       "      <td>159.0</td>\n",
       "    </tr>\n",
       "    <tr>\n",
       "      <th>bulk_11</th>\n",
       "      <td>177.0</td>\n",
       "      <td>76.819209</td>\n",
       "      <td>59.655365</td>\n",
       "      <td>8.0</td>\n",
       "      <td>25.00</td>\n",
       "      <td>64.0</td>\n",
       "      <td>106.00</td>\n",
       "      <td>313.0</td>\n",
       "    </tr>\n",
       "    <tr>\n",
       "      <th>bulk_12</th>\n",
       "      <td>2450.0</td>\n",
       "      <td>260.471020</td>\n",
       "      <td>120.649269</td>\n",
       "      <td>53.0</td>\n",
       "      <td>204.00</td>\n",
       "      <td>208.0</td>\n",
       "      <td>316.00</td>\n",
       "      <td>1849.0</td>\n",
       "    </tr>\n",
       "    <tr>\n",
       "      <th>bulk_13</th>\n",
       "      <td>18.0</td>\n",
       "      <td>181.111111</td>\n",
       "      <td>46.088009</td>\n",
       "      <td>151.0</td>\n",
       "      <td>153.25</td>\n",
       "      <td>155.5</td>\n",
       "      <td>203.50</td>\n",
       "      <td>305.0</td>\n",
       "    </tr>\n",
       "    <tr>\n",
       "      <th>bulk_14</th>\n",
       "      <td>2806.0</td>\n",
       "      <td>170.284747</td>\n",
       "      <td>65.868652</td>\n",
       "      <td>16.0</td>\n",
       "      <td>119.00</td>\n",
       "      <td>151.0</td>\n",
       "      <td>205.75</td>\n",
       "      <td>636.0</td>\n",
       "    </tr>\n",
       "    <tr>\n",
       "      <th>bulk_15</th>\n",
       "      <td>2248.0</td>\n",
       "      <td>160.513345</td>\n",
       "      <td>51.765319</td>\n",
       "      <td>1.0</td>\n",
       "      <td>105.00</td>\n",
       "      <td>160.0</td>\n",
       "      <td>205.00</td>\n",
       "      <td>405.0</td>\n",
       "    </tr>\n",
       "  </tbody>\n",
       "</table>\n",
       "</div>"
      ],
      "text/plain": [
       "          count         mean         std    min     25%     50%      75%  \\\n",
       "key      3129.0  1624.383509  933.337642    1.0  816.00  1622.0  2431.00   \n",
       "bulk_1    252.0    39.242063   18.277654   10.0   27.00    31.0    46.00   \n",
       "bulk_2     22.0   253.045455   21.180578  228.0  242.00   251.5   257.75   \n",
       "bulk_3   1298.0   113.879045   75.483494    6.0   58.00    97.5   152.00   \n",
       "bulk_4   1014.0   104.394477   48.184126   12.0   72.00   102.0   133.00   \n",
       "bulk_5     77.0   107.025974   81.790646   11.0   70.00    86.0   132.00   \n",
       "bulk_6    576.0   118.925347   72.057776   17.0   69.75   100.0   157.00   \n",
       "bulk_7     25.0   305.600000  191.022904   47.0  155.00   298.0   406.00   \n",
       "bulk_8      1.0    49.000000         NaN   49.0   49.00    49.0    49.00   \n",
       "bulk_9     19.0    76.315789   21.720581   63.0   66.00    68.0    70.50   \n",
       "bulk_10   176.0    83.284091   26.060347   24.0   64.00    86.5   102.00   \n",
       "bulk_11   177.0    76.819209   59.655365    8.0   25.00    64.0   106.00   \n",
       "bulk_12  2450.0   260.471020  120.649269   53.0  204.00   208.0   316.00   \n",
       "bulk_13    18.0   181.111111   46.088009  151.0  153.25   155.5   203.50   \n",
       "bulk_14  2806.0   170.284747   65.868652   16.0  119.00   151.0   205.75   \n",
       "bulk_15  2248.0   160.513345   51.765319    1.0  105.00   160.0   205.00   \n",
       "\n",
       "            max  \n",
       "key      3241.0  \n",
       "bulk_1    185.0  \n",
       "bulk_2    325.0  \n",
       "bulk_3    454.0  \n",
       "bulk_4    281.0  \n",
       "bulk_5    603.0  \n",
       "bulk_6    503.0  \n",
       "bulk_7    772.0  \n",
       "bulk_8     49.0  \n",
       "bulk_9    147.0  \n",
       "bulk_10   159.0  \n",
       "bulk_11   313.0  \n",
       "bulk_12  1849.0  \n",
       "bulk_13   305.0  \n",
       "bulk_14   636.0  \n",
       "bulk_15   405.0  "
      ]
     },
     "metadata": {},
     "output_type": "display_data"
    }
   ],
   "source": [
    "info_dataframe(data_bulk)"
   ]
  },
  {
   "cell_type": "code",
   "execution_count": 16,
   "id": "cfa2a3d6",
   "metadata": {},
   "outputs": [
    {
     "data": {
      "text/plain": [
       "3129"
      ]
     },
     "execution_count": 16,
     "metadata": {},
     "output_type": "execute_result"
    }
   ],
   "source": [
    "len(data_bulk['key'].unique())"
   ]
  },
  {
   "cell_type": "code",
   "execution_count": 17,
   "id": "61f1355f",
   "metadata": {},
   "outputs": [
    {
     "data": {
      "text/plain": [
       "0"
      ]
     },
     "execution_count": 17,
     "metadata": {},
     "output_type": "execute_result"
    }
   ],
   "source": [
    "data_bulk.duplicated().sum()"
   ]
  },
  {
   "cell_type": "code",
   "execution_count": 18,
   "id": "b42cfd61",
   "metadata": {},
   "outputs": [
    {
     "data": {
      "text/plain": [
       "0"
      ]
     },
     "execution_count": 18,
     "metadata": {},
     "output_type": "execute_result"
    }
   ],
   "source": [
    "data_bulk.drop(['key'], axis=1).isna().all(1).sum()"
   ]
  },
  {
   "cell_type": "code",
   "execution_count": 19,
   "id": "ccd2236a",
   "metadata": {
    "scrolled": true
   },
   "outputs": [
    {
     "data": {
      "image/png": "[encoded data removed]",
      "text/plain": [
       "<Figure size 1080x1080 with 16 Axes>"
      ]
     },
     "metadata": {
      "needs_background": "light"
     },
     "output_type": "display_data"
    }
   ],
   "source": [
    "data_bulk.hist(figsize=(15, 15), bins=50);"
   ]
  },
  {
   "cell_type": "markdown",
   "id": "03675cc3",
   "metadata": {},
   "source": [
    "В этом наборе данных меньше строк, чем в данных об электродах, значит, некоторые партии отсутствуют. Полных дублей нет, в каждой строке заполнено хотя бы одно значение подачи сыпучего матриала.\n",
    "По гистограммам видно, что по некоторым материалам есть аномальные значения, а также по некоторым материалам есть тенденция к засыпанию кратного объема материала (50, 100, 200)."
   ]
  },
  {
   "cell_type": "code",
   "execution_count": 20,
   "id": "d857c7db",
   "metadata": {},
   "outputs": [
    {
     "data": {
      "text/html": [
       "<div>\n",
       "<style scoped>\n",
       "    .dataframe tbody tr th:only-of-type {\n",
       "        vertical-align: middle;\n",
       "    }\n",
       "\n",
       "    .dataframe tbody tr th {\n",
       "        vertical-align: top;\n",
       "    }\n",
       "\n",
       "    .dataframe thead th {\n",
       "        text-align: right;\n",
       "    }\n",
       "</style>\n",
       "<table border=\"1\" class=\"dataframe\">\n",
       "  <thead>\n",
       "    <tr style=\"text-align: right;\">\n",
       "      <th></th>\n",
       "      <th>key</th>\n",
       "      <th>Bulk 1</th>\n",
       "      <th>Bulk 2</th>\n",
       "      <th>Bulk 3</th>\n",
       "      <th>Bulk 4</th>\n",
       "      <th>Bulk 5</th>\n",
       "      <th>Bulk 6</th>\n",
       "      <th>Bulk 7</th>\n",
       "      <th>Bulk 8</th>\n",
       "      <th>Bulk 9</th>\n",
       "      <th>Bulk 10</th>\n",
       "      <th>Bulk 11</th>\n",
       "      <th>Bulk 12</th>\n",
       "      <th>Bulk 13</th>\n",
       "      <th>Bulk 14</th>\n",
       "      <th>Bulk 15</th>\n",
       "    </tr>\n",
       "  </thead>\n",
       "  <tbody>\n",
       "    <tr>\n",
       "      <th>0</th>\n",
       "      <td>1</td>\n",
       "      <td>NaN</td>\n",
       "      <td>NaN</td>\n",
       "      <td>NaN</td>\n",
       "      <td>2019-05-03 11:21:30</td>\n",
       "      <td>NaN</td>\n",
       "      <td>NaN</td>\n",
       "      <td>NaN</td>\n",
       "      <td>NaN</td>\n",
       "      <td>NaN</td>\n",
       "      <td>NaN</td>\n",
       "      <td>NaN</td>\n",
       "      <td>2019-05-03 11:03:52</td>\n",
       "      <td>NaN</td>\n",
       "      <td>2019-05-03 11:03:52</td>\n",
       "      <td>2019-05-03 11:03:52</td>\n",
       "    </tr>\n",
       "    <tr>\n",
       "      <th>1</th>\n",
       "      <td>2</td>\n",
       "      <td>NaN</td>\n",
       "      <td>NaN</td>\n",
       "      <td>NaN</td>\n",
       "      <td>2019-05-03 11:46:38</td>\n",
       "      <td>NaN</td>\n",
       "      <td>NaN</td>\n",
       "      <td>NaN</td>\n",
       "      <td>NaN</td>\n",
       "      <td>NaN</td>\n",
       "      <td>NaN</td>\n",
       "      <td>NaN</td>\n",
       "      <td>2019-05-03 11:40:20</td>\n",
       "      <td>NaN</td>\n",
       "      <td>2019-05-03 11:40:20</td>\n",
       "      <td>2019-05-03 11:40:20</td>\n",
       "    </tr>\n",
       "    <tr>\n",
       "      <th>2</th>\n",
       "      <td>3</td>\n",
       "      <td>NaN</td>\n",
       "      <td>NaN</td>\n",
       "      <td>NaN</td>\n",
       "      <td>2019-05-03 12:31:06</td>\n",
       "      <td>NaN</td>\n",
       "      <td>NaN</td>\n",
       "      <td>NaN</td>\n",
       "      <td>NaN</td>\n",
       "      <td>NaN</td>\n",
       "      <td>NaN</td>\n",
       "      <td>NaN</td>\n",
       "      <td>2019-05-03 12:09:40</td>\n",
       "      <td>NaN</td>\n",
       "      <td>2019-05-03 12:09:40</td>\n",
       "      <td>2019-05-03 12:09:40</td>\n",
       "    </tr>\n",
       "    <tr>\n",
       "      <th>3</th>\n",
       "      <td>4</td>\n",
       "      <td>NaN</td>\n",
       "      <td>NaN</td>\n",
       "      <td>NaN</td>\n",
       "      <td>2019-05-03 12:48:43</td>\n",
       "      <td>NaN</td>\n",
       "      <td>NaN</td>\n",
       "      <td>NaN</td>\n",
       "      <td>NaN</td>\n",
       "      <td>NaN</td>\n",
       "      <td>NaN</td>\n",
       "      <td>NaN</td>\n",
       "      <td>2019-05-03 12:41:24</td>\n",
       "      <td>NaN</td>\n",
       "      <td>2019-05-03 12:41:24</td>\n",
       "      <td>2019-05-03 12:41:24</td>\n",
       "    </tr>\n",
       "    <tr>\n",
       "      <th>4</th>\n",
       "      <td>5</td>\n",
       "      <td>NaN</td>\n",
       "      <td>NaN</td>\n",
       "      <td>NaN</td>\n",
       "      <td>2019-05-03 13:18:50</td>\n",
       "      <td>NaN</td>\n",
       "      <td>NaN</td>\n",
       "      <td>NaN</td>\n",
       "      <td>NaN</td>\n",
       "      <td>NaN</td>\n",
       "      <td>NaN</td>\n",
       "      <td>NaN</td>\n",
       "      <td>2019-05-03 13:12:56</td>\n",
       "      <td>NaN</td>\n",
       "      <td>2019-05-03 13:12:56</td>\n",
       "      <td>2019-05-03 13:12:56</td>\n",
       "    </tr>\n",
       "    <tr>\n",
       "      <th>...</th>\n",
       "      <td>...</td>\n",
       "      <td>...</td>\n",
       "      <td>...</td>\n",
       "      <td>...</td>\n",
       "      <td>...</td>\n",
       "      <td>...</td>\n",
       "      <td>...</td>\n",
       "      <td>...</td>\n",
       "      <td>...</td>\n",
       "      <td>...</td>\n",
       "      <td>...</td>\n",
       "      <td>...</td>\n",
       "      <td>...</td>\n",
       "      <td>...</td>\n",
       "      <td>...</td>\n",
       "      <td>...</td>\n",
       "    </tr>\n",
       "    <tr>\n",
       "      <th>3124</th>\n",
       "      <td>3237</td>\n",
       "      <td>NaN</td>\n",
       "      <td>NaN</td>\n",
       "      <td>2019-08-31 22:51:28</td>\n",
       "      <td>NaN</td>\n",
       "      <td>NaN</td>\n",
       "      <td>NaN</td>\n",
       "      <td>NaN</td>\n",
       "      <td>NaN</td>\n",
       "      <td>NaN</td>\n",
       "      <td>NaN</td>\n",
       "      <td>NaN</td>\n",
       "      <td>2019-08-31 22:46:52</td>\n",
       "      <td>NaN</td>\n",
       "      <td>2019-08-31 22:46:52</td>\n",
       "      <td>2019-08-31 22:46:52</td>\n",
       "    </tr>\n",
       "    <tr>\n",
       "      <th>3125</th>\n",
       "      <td>3238</td>\n",
       "      <td>NaN</td>\n",
       "      <td>NaN</td>\n",
       "      <td>2019-08-31 23:39:11</td>\n",
       "      <td>NaN</td>\n",
       "      <td>NaN</td>\n",
       "      <td>NaN</td>\n",
       "      <td>NaN</td>\n",
       "      <td>NaN</td>\n",
       "      <td>NaN</td>\n",
       "      <td>NaN</td>\n",
       "      <td>NaN</td>\n",
       "      <td>2019-08-31 23:33:09</td>\n",
       "      <td>NaN</td>\n",
       "      <td>2019-08-31 23:33:09</td>\n",
       "      <td>2019-08-31 23:33:09</td>\n",
       "    </tr>\n",
       "    <tr>\n",
       "      <th>3126</th>\n",
       "      <td>3239</td>\n",
       "      <td>NaN</td>\n",
       "      <td>NaN</td>\n",
       "      <td>NaN</td>\n",
       "      <td>NaN</td>\n",
       "      <td>NaN</td>\n",
       "      <td>2019-09-01 01:51:58</td>\n",
       "      <td>NaN</td>\n",
       "      <td>NaN</td>\n",
       "      <td>NaN</td>\n",
       "      <td>NaN</td>\n",
       "      <td>NaN</td>\n",
       "      <td>2019-09-01 01:39:41</td>\n",
       "      <td>NaN</td>\n",
       "      <td>2019-09-01 01:33:25</td>\n",
       "      <td>2019-09-01 01:33:25</td>\n",
       "    </tr>\n",
       "    <tr>\n",
       "      <th>3127</th>\n",
       "      <td>3240</td>\n",
       "      <td>NaN</td>\n",
       "      <td>NaN</td>\n",
       "      <td>NaN</td>\n",
       "      <td>NaN</td>\n",
       "      <td>NaN</td>\n",
       "      <td>2019-09-01 03:12:40</td>\n",
       "      <td>NaN</td>\n",
       "      <td>NaN</td>\n",
       "      <td>NaN</td>\n",
       "      <td>NaN</td>\n",
       "      <td>NaN</td>\n",
       "      <td>NaN</td>\n",
       "      <td>NaN</td>\n",
       "      <td>2019-09-01 02:41:27</td>\n",
       "      <td>2019-09-01 02:41:27</td>\n",
       "    </tr>\n",
       "    <tr>\n",
       "      <th>3128</th>\n",
       "      <td>3241</td>\n",
       "      <td>NaN</td>\n",
       "      <td>NaN</td>\n",
       "      <td>NaN</td>\n",
       "      <td>NaN</td>\n",
       "      <td>NaN</td>\n",
       "      <td>NaN</td>\n",
       "      <td>NaN</td>\n",
       "      <td>NaN</td>\n",
       "      <td>NaN</td>\n",
       "      <td>NaN</td>\n",
       "      <td>NaN</td>\n",
       "      <td>NaN</td>\n",
       "      <td>NaN</td>\n",
       "      <td>2019-09-01 04:05:34</td>\n",
       "      <td>2019-09-01 04:05:34</td>\n",
       "    </tr>\n",
       "  </tbody>\n",
       "</table>\n",
       "<p>3129 rows × 16 columns</p>\n",
       "</div>"
      ],
      "text/plain": [
       "       key Bulk 1 Bulk 2               Bulk 3               Bulk 4 Bulk 5  \\\n",
       "0        1    NaN    NaN                  NaN  2019-05-03 11:21:30    NaN   \n",
       "1        2    NaN    NaN                  NaN  2019-05-03 11:46:38    NaN   \n",
       "2        3    NaN    NaN                  NaN  2019-05-03 12:31:06    NaN   \n",
       "3        4    NaN    NaN                  NaN  2019-05-03 12:48:43    NaN   \n",
       "4        5    NaN    NaN                  NaN  2019-05-03 13:18:50    NaN   \n",
       "...    ...    ...    ...                  ...                  ...    ...   \n",
       "3124  3237    NaN    NaN  2019-08-31 22:51:28                  NaN    NaN   \n",
       "3125  3238    NaN    NaN  2019-08-31 23:39:11                  NaN    NaN   \n",
       "3126  3239    NaN    NaN                  NaN                  NaN    NaN   \n",
       "3127  3240    NaN    NaN                  NaN                  NaN    NaN   \n",
       "3128  3241    NaN    NaN                  NaN                  NaN    NaN   \n",
       "\n",
       "                   Bulk 6 Bulk 7 Bulk 8 Bulk 9 Bulk 10 Bulk 11  \\\n",
       "0                     NaN    NaN    NaN    NaN     NaN     NaN   \n",
       "1                     NaN    NaN    NaN    NaN     NaN     NaN   \n",
       "2                     NaN    NaN    NaN    NaN     NaN     NaN   \n",
       "3                     NaN    NaN    NaN    NaN     NaN     NaN   \n",
       "4                     NaN    NaN    NaN    NaN     NaN     NaN   \n",
       "...                   ...    ...    ...    ...     ...     ...   \n",
       "3124                  NaN    NaN    NaN    NaN     NaN     NaN   \n",
       "3125                  NaN    NaN    NaN    NaN     NaN     NaN   \n",
       "3126  2019-09-01 01:51:58    NaN    NaN    NaN     NaN     NaN   \n",
       "3127  2019-09-01 03:12:40    NaN    NaN    NaN     NaN     NaN   \n",
       "3128                  NaN    NaN    NaN    NaN     NaN     NaN   \n",
       "\n",
       "                  Bulk 12 Bulk 13              Bulk 14              Bulk 15  \n",
       "0     2019-05-03 11:03:52     NaN  2019-05-03 11:03:52  2019-05-03 11:03:52  \n",
       "1     2019-05-03 11:40:20     NaN  2019-05-03 11:40:20  2019-05-03 11:40:20  \n",
       "2     2019-05-03 12:09:40     NaN  2019-05-03 12:09:40  2019-05-03 12:09:40  \n",
       "3     2019-05-03 12:41:24     NaN  2019-05-03 12:41:24  2019-05-03 12:41:24  \n",
       "4     2019-05-03 13:12:56     NaN  2019-05-03 13:12:56  2019-05-03 13:12:56  \n",
       "...                   ...     ...                  ...                  ...  \n",
       "3124  2019-08-31 22:46:52     NaN  2019-08-31 22:46:52  2019-08-31 22:46:52  \n",
       "3125  2019-08-31 23:33:09     NaN  2019-08-31 23:33:09  2019-08-31 23:33:09  \n",
       "3126  2019-09-01 01:39:41     NaN  2019-09-01 01:33:25  2019-09-01 01:33:25  \n",
       "3127                  NaN     NaN  2019-09-01 02:41:27  2019-09-01 02:41:27  \n",
       "3128                  NaN     NaN  2019-09-01 04:05:34  2019-09-01 04:05:34  \n",
       "\n",
       "[3129 rows x 16 columns]"
      ]
     },
     "execution_count": 20,
     "metadata": {},
     "output_type": "execute_result"
    }
   ],
   "source": [
    "# данные о подаче сыпучих материалов (время)\n",
    "data_bulk_time = get_data('/datasets/final_steel/data_bulk_time.csv')\n",
    "data_bulk_time"
   ]
  },
  {
   "cell_type": "code",
   "execution_count": 21,
   "id": "47ee1655",
   "metadata": {},
   "outputs": [
    {
     "name": "stderr",
     "output_type": "stream",
     "text": [
      "C:\\Users\\Вера\\AppData\\Local\\Temp\\ipykernel_2392\\1328161882.py:1: FutureWarning: The default value of regex will change from True to False in a future version.\n",
      "  data_bulk_time.columns = data_bulk_time.columns.str.replace(r\"([A-Z])\", r\" \\1\").str.lower().str.replace(' ', '_').str[1:]\n"
     ]
    }
   ],
   "source": [
    "data_bulk_time.columns = data_bulk_time.columns.str.replace(r\"([A-Z])\", r\" \\1\").str.lower().str.replace(' ', '_').str[1:]\n",
    "data_bulk_time = data_bulk_time.rename(columns={'ey': 'key'})"
   ]
  },
  {
   "cell_type": "code",
   "execution_count": 22,
   "id": "27ca734d",
   "metadata": {},
   "outputs": [
    {
     "name": "stdout",
     "output_type": "stream",
     "text": [
      "Общая информация по dataframe:\n",
      "\n",
      "<class 'pandas.core.frame.DataFrame'>\n",
      "RangeIndex: 3129 entries, 0 to 3128\n",
      "Data columns (total 16 columns):\n",
      " #   Column   Non-Null Count  Dtype \n",
      "---  ------   --------------  ----- \n",
      " 0   key      3129 non-null   int64 \n",
      " 1   bulk_1   252 non-null    object\n",
      " 2   bulk_2   22 non-null     object\n",
      " 3   bulk_3   1298 non-null   object\n",
      " 4   bulk_4   1014 non-null   object\n",
      " 5   bulk_5   77 non-null     object\n",
      " 6   bulk_6   576 non-null    object\n",
      " 7   bulk_7   25 non-null     object\n",
      " 8   bulk_8   1 non-null      object\n",
      " 9   bulk_9   19 non-null     object\n",
      " 10  bulk_10  176 non-null    object\n",
      " 11  bulk_11  177 non-null    object\n",
      " 12  bulk_12  2450 non-null   object\n",
      " 13  bulk_13  18 non-null     object\n",
      " 14  bulk_14  2806 non-null   object\n",
      " 15  bulk_15  2248 non-null   object\n",
      "dtypes: int64(1), object(15)\n",
      "memory usage: 391.2+ KB\n",
      "\n",
      "Статистическая информация:\n",
      "\n"
     ]
    },
    {
     "data": {
      "text/html": [
       "<div>\n",
       "<style scoped>\n",
       "    .dataframe tbody tr th:only-of-type {\n",
       "        vertical-align: middle;\n",
       "    }\n",
       "\n",
       "    .dataframe tbody tr th {\n",
       "        vertical-align: top;\n",
       "    }\n",
       "\n",
       "    .dataframe thead th {\n",
       "        text-align: right;\n",
       "    }\n",
       "</style>\n",
       "<table border=\"1\" class=\"dataframe\">\n",
       "  <thead>\n",
       "    <tr style=\"text-align: right;\">\n",
       "      <th></th>\n",
       "      <th>count</th>\n",
       "      <th>mean</th>\n",
       "      <th>std</th>\n",
       "      <th>min</th>\n",
       "      <th>25%</th>\n",
       "      <th>50%</th>\n",
       "      <th>75%</th>\n",
       "      <th>max</th>\n",
       "    </tr>\n",
       "  </thead>\n",
       "  <tbody>\n",
       "    <tr>\n",
       "      <th>key</th>\n",
       "      <td>3129.0</td>\n",
       "      <td>1624.383509</td>\n",
       "      <td>933.337642</td>\n",
       "      <td>1.0</td>\n",
       "      <td>816.0</td>\n",
       "      <td>1622.0</td>\n",
       "      <td>2431.0</td>\n",
       "      <td>3241.0</td>\n",
       "    </tr>\n",
       "  </tbody>\n",
       "</table>\n",
       "</div>"
      ],
      "text/plain": [
       "      count         mean         std  min    25%     50%     75%     max\n",
       "key  3129.0  1624.383509  933.337642  1.0  816.0  1622.0  2431.0  3241.0"
      ]
     },
     "metadata": {},
     "output_type": "display_data"
    }
   ],
   "source": [
    "info_dataframe(data_bulk_time)"
   ]
  },
  {
   "cell_type": "markdown",
   "id": "9eac334a",
   "metadata": {},
   "source": [
    "Некоторые сыпучие материалы засыпают одновременно. Строк столько же, сколько и в датасете с объемами сыпучих материалов, характер заполнения данных совпадает с датасетом по объемам материалов."
   ]
  },
  {
   "cell_type": "code",
   "execution_count": 23,
   "id": "df1d9a4f",
   "metadata": {},
   "outputs": [
    {
     "data": {
      "text/html": [
       "<div>\n",
       "<style scoped>\n",
       "    .dataframe tbody tr th:only-of-type {\n",
       "        vertical-align: middle;\n",
       "    }\n",
       "\n",
       "    .dataframe tbody tr th {\n",
       "        vertical-align: top;\n",
       "    }\n",
       "\n",
       "    .dataframe thead th {\n",
       "        text-align: right;\n",
       "    }\n",
       "</style>\n",
       "<table border=\"1\" class=\"dataframe\">\n",
       "  <thead>\n",
       "    <tr style=\"text-align: right;\">\n",
       "      <th></th>\n",
       "      <th>key</th>\n",
       "      <th>Газ 1</th>\n",
       "    </tr>\n",
       "  </thead>\n",
       "  <tbody>\n",
       "    <tr>\n",
       "      <th>0</th>\n",
       "      <td>1</td>\n",
       "      <td>29.749986</td>\n",
       "    </tr>\n",
       "    <tr>\n",
       "      <th>1</th>\n",
       "      <td>2</td>\n",
       "      <td>12.555561</td>\n",
       "    </tr>\n",
       "    <tr>\n",
       "      <th>2</th>\n",
       "      <td>3</td>\n",
       "      <td>28.554793</td>\n",
       "    </tr>\n",
       "    <tr>\n",
       "      <th>3</th>\n",
       "      <td>4</td>\n",
       "      <td>18.841219</td>\n",
       "    </tr>\n",
       "    <tr>\n",
       "      <th>4</th>\n",
       "      <td>5</td>\n",
       "      <td>5.413692</td>\n",
       "    </tr>\n",
       "    <tr>\n",
       "      <th>...</th>\n",
       "      <td>...</td>\n",
       "      <td>...</td>\n",
       "    </tr>\n",
       "    <tr>\n",
       "      <th>3234</th>\n",
       "      <td>3237</td>\n",
       "      <td>5.543905</td>\n",
       "    </tr>\n",
       "    <tr>\n",
       "      <th>3235</th>\n",
       "      <td>3238</td>\n",
       "      <td>6.745669</td>\n",
       "    </tr>\n",
       "    <tr>\n",
       "      <th>3236</th>\n",
       "      <td>3239</td>\n",
       "      <td>16.023518</td>\n",
       "    </tr>\n",
       "    <tr>\n",
       "      <th>3237</th>\n",
       "      <td>3240</td>\n",
       "      <td>11.863103</td>\n",
       "    </tr>\n",
       "    <tr>\n",
       "      <th>3238</th>\n",
       "      <td>3241</td>\n",
       "      <td>12.680959</td>\n",
       "    </tr>\n",
       "  </tbody>\n",
       "</table>\n",
       "<p>3239 rows × 2 columns</p>\n",
       "</div>"
      ],
      "text/plain": [
       "       key      Газ 1\n",
       "0        1  29.749986\n",
       "1        2  12.555561\n",
       "2        3  28.554793\n",
       "3        4  18.841219\n",
       "4        5   5.413692\n",
       "...    ...        ...\n",
       "3234  3237   5.543905\n",
       "3235  3238   6.745669\n",
       "3236  3239  16.023518\n",
       "3237  3240  11.863103\n",
       "3238  3241  12.680959\n",
       "\n",
       "[3239 rows x 2 columns]"
      ]
     },
     "execution_count": 23,
     "metadata": {},
     "output_type": "execute_result"
    }
   ],
   "source": [
    "# данные о продувке сплава газом\n",
    "data_gas = get_data('/datasets/final_steel/data_gas.csv')\n",
    "data_gas"
   ]
  },
  {
   "cell_type": "code",
   "execution_count": 24,
   "id": "35c56310",
   "metadata": {},
   "outputs": [
    {
     "name": "stdout",
     "output_type": "stream",
     "text": [
      "Общая информация по dataframe:\n",
      "\n",
      "<class 'pandas.core.frame.DataFrame'>\n",
      "RangeIndex: 3239 entries, 0 to 3238\n",
      "Data columns (total 2 columns):\n",
      " #   Column  Non-Null Count  Dtype  \n",
      "---  ------  --------------  -----  \n",
      " 0   key     3239 non-null   int64  \n",
      " 1   Газ 1   3239 non-null   float64\n",
      "dtypes: float64(1), int64(1)\n",
      "memory usage: 50.7 KB\n",
      "\n",
      "Статистическая информация:\n",
      "\n"
     ]
    },
    {
     "data": {
      "text/html": [
       "<div>\n",
       "<style scoped>\n",
       "    .dataframe tbody tr th:only-of-type {\n",
       "        vertical-align: middle;\n",
       "    }\n",
       "\n",
       "    .dataframe tbody tr th {\n",
       "        vertical-align: top;\n",
       "    }\n",
       "\n",
       "    .dataframe thead th {\n",
       "        text-align: right;\n",
       "    }\n",
       "</style>\n",
       "<table border=\"1\" class=\"dataframe\">\n",
       "  <thead>\n",
       "    <tr style=\"text-align: right;\">\n",
       "      <th></th>\n",
       "      <th>count</th>\n",
       "      <th>mean</th>\n",
       "      <th>std</th>\n",
       "      <th>min</th>\n",
       "      <th>25%</th>\n",
       "      <th>50%</th>\n",
       "      <th>75%</th>\n",
       "      <th>max</th>\n",
       "    </tr>\n",
       "  </thead>\n",
       "  <tbody>\n",
       "    <tr>\n",
       "      <th>key</th>\n",
       "      <td>3239.0</td>\n",
       "      <td>1621.861377</td>\n",
       "      <td>935.386334</td>\n",
       "      <td>1.000000</td>\n",
       "      <td>812.500000</td>\n",
       "      <td>1622.000000</td>\n",
       "      <td>2431.500000</td>\n",
       "      <td>3241.00000</td>\n",
       "    </tr>\n",
       "    <tr>\n",
       "      <th>Газ 1</th>\n",
       "      <td>3239.0</td>\n",
       "      <td>11.002062</td>\n",
       "      <td>6.220327</td>\n",
       "      <td>0.008399</td>\n",
       "      <td>7.043089</td>\n",
       "      <td>9.836267</td>\n",
       "      <td>13.769915</td>\n",
       "      <td>77.99504</td>\n",
       "    </tr>\n",
       "  </tbody>\n",
       "</table>\n",
       "</div>"
      ],
      "text/plain": [
       "        count         mean         std       min         25%          50%  \\\n",
       "key    3239.0  1621.861377  935.386334  1.000000  812.500000  1622.000000   \n",
       "Газ 1  3239.0    11.002062    6.220327  0.008399    7.043089     9.836267   \n",
       "\n",
       "               75%         max  \n",
       "key    2431.500000  3241.00000  \n",
       "Газ 1    13.769915    77.99504  "
      ]
     },
     "metadata": {},
     "output_type": "display_data"
    }
   ],
   "source": [
    "info_dataframe(data_gas)"
   ]
  },
  {
   "cell_type": "code",
   "execution_count": 25,
   "id": "7079269d",
   "metadata": {},
   "outputs": [],
   "source": [
    "data_gas = data_gas.rename(columns={'Газ 1': 'gas_1'})"
   ]
  },
  {
   "cell_type": "code",
   "execution_count": 26,
   "id": "947edf59",
   "metadata": {},
   "outputs": [
    {
     "data": {
      "text/plain": [
       "3239"
      ]
     },
     "execution_count": 26,
     "metadata": {},
     "output_type": "execute_result"
    }
   ],
   "source": [
    "len(data_gas['key'].unique())"
   ]
  },
  {
   "cell_type": "code",
   "execution_count": 27,
   "id": "5f60ff77",
   "metadata": {},
   "outputs": [
    {
     "data": {
      "image/png": "[encoded data removed]",
      "text/plain": [
       "<Figure size 720x720 with 1 Axes>"
      ]
     },
     "metadata": {
      "needs_background": "light"
     },
     "output_type": "display_data"
    }
   ],
   "source": [
    "data_gas['gas_1'].hist(figsize=(10, 10), bins=100).set_xlabel('Продувка газом');"
   ]
  },
  {
   "cell_type": "markdown",
   "id": "b24a815a",
   "metadata": {},
   "source": [
    "В датасете о продувке газом данные по 3239 уникальным партиям, на каждую партию по одной строке. Незаполненных значений нет."
   ]
  },
  {
   "cell_type": "code",
   "execution_count": 28,
   "id": "fef00ac9",
   "metadata": {},
   "outputs": [
    {
     "data": {
      "text/html": [
       "<div>\n",
       "<style scoped>\n",
       "    .dataframe tbody tr th:only-of-type {\n",
       "        vertical-align: middle;\n",
       "    }\n",
       "\n",
       "    .dataframe tbody tr th {\n",
       "        vertical-align: top;\n",
       "    }\n",
       "\n",
       "    .dataframe thead th {\n",
       "        text-align: right;\n",
       "    }\n",
       "</style>\n",
       "<table border=\"1\" class=\"dataframe\">\n",
       "  <thead>\n",
       "    <tr style=\"text-align: right;\">\n",
       "      <th></th>\n",
       "      <th>key</th>\n",
       "      <th>Время замера</th>\n",
       "      <th>Температура</th>\n",
       "    </tr>\n",
       "  </thead>\n",
       "  <tbody>\n",
       "    <tr>\n",
       "      <th>0</th>\n",
       "      <td>1</td>\n",
       "      <td>2019-05-03 11:16:18</td>\n",
       "      <td>1571.0</td>\n",
       "    </tr>\n",
       "    <tr>\n",
       "      <th>1</th>\n",
       "      <td>1</td>\n",
       "      <td>2019-05-03 11:25:53</td>\n",
       "      <td>1604.0</td>\n",
       "    </tr>\n",
       "    <tr>\n",
       "      <th>2</th>\n",
       "      <td>1</td>\n",
       "      <td>2019-05-03 11:29:11</td>\n",
       "      <td>1618.0</td>\n",
       "    </tr>\n",
       "    <tr>\n",
       "      <th>3</th>\n",
       "      <td>1</td>\n",
       "      <td>2019-05-03 11:30:01</td>\n",
       "      <td>1601.0</td>\n",
       "    </tr>\n",
       "    <tr>\n",
       "      <th>4</th>\n",
       "      <td>1</td>\n",
       "      <td>2019-05-03 11:30:39</td>\n",
       "      <td>1613.0</td>\n",
       "    </tr>\n",
       "    <tr>\n",
       "      <th>...</th>\n",
       "      <td>...</td>\n",
       "      <td>...</td>\n",
       "      <td>...</td>\n",
       "    </tr>\n",
       "    <tr>\n",
       "      <th>15902</th>\n",
       "      <td>3241</td>\n",
       "      <td>2019-09-01 04:03:30</td>\n",
       "      <td>1586.0</td>\n",
       "    </tr>\n",
       "    <tr>\n",
       "      <th>15903</th>\n",
       "      <td>3241</td>\n",
       "      <td>2019-09-01 04:16:12</td>\n",
       "      <td>NaN</td>\n",
       "    </tr>\n",
       "    <tr>\n",
       "      <th>15904</th>\n",
       "      <td>3241</td>\n",
       "      <td>2019-09-01 04:22:39</td>\n",
       "      <td>NaN</td>\n",
       "    </tr>\n",
       "    <tr>\n",
       "      <th>15905</th>\n",
       "      <td>3241</td>\n",
       "      <td>2019-09-01 04:33:42</td>\n",
       "      <td>NaN</td>\n",
       "    </tr>\n",
       "    <tr>\n",
       "      <th>15906</th>\n",
       "      <td>3241</td>\n",
       "      <td>2019-09-01 04:38:08</td>\n",
       "      <td>NaN</td>\n",
       "    </tr>\n",
       "  </tbody>\n",
       "</table>\n",
       "<p>15907 rows × 3 columns</p>\n",
       "</div>"
      ],
      "text/plain": [
       "        key         Время замера  Температура\n",
       "0         1  2019-05-03 11:16:18       1571.0\n",
       "1         1  2019-05-03 11:25:53       1604.0\n",
       "2         1  2019-05-03 11:29:11       1618.0\n",
       "3         1  2019-05-03 11:30:01       1601.0\n",
       "4         1  2019-05-03 11:30:39       1613.0\n",
       "...     ...                  ...          ...\n",
       "15902  3241  2019-09-01 04:03:30       1586.0\n",
       "15903  3241  2019-09-01 04:16:12          NaN\n",
       "15904  3241  2019-09-01 04:22:39          NaN\n",
       "15905  3241  2019-09-01 04:33:42          NaN\n",
       "15906  3241  2019-09-01 04:38:08          NaN\n",
       "\n",
       "[15907 rows x 3 columns]"
      ]
     },
     "execution_count": 28,
     "metadata": {},
     "output_type": "execute_result"
    }
   ],
   "source": [
    "# результаты измерения температуры\n",
    "data_temp = get_data('/datasets/final_steel/data_temp.csv')\n",
    "data_temp"
   ]
  },
  {
   "cell_type": "code",
   "execution_count": 29,
   "id": "a36b4d19",
   "metadata": {},
   "outputs": [],
   "source": [
    "data_temp = data_temp.rename(columns={'Время замера': 'time', 'Температура': 'temperature'})"
   ]
  },
  {
   "cell_type": "code",
   "execution_count": 30,
   "id": "d0e3d0a9",
   "metadata": {},
   "outputs": [
    {
     "name": "stdout",
     "output_type": "stream",
     "text": [
      "Общая информация по dataframe:\n",
      "\n",
      "<class 'pandas.core.frame.DataFrame'>\n",
      "RangeIndex: 15907 entries, 0 to 15906\n",
      "Data columns (total 3 columns):\n",
      " #   Column       Non-Null Count  Dtype  \n",
      "---  ------       --------------  -----  \n",
      " 0   key          15907 non-null  int64  \n",
      " 1   time         15907 non-null  object \n",
      " 2   temperature  13006 non-null  float64\n",
      "dtypes: float64(1), int64(1), object(1)\n",
      "memory usage: 372.9+ KB\n",
      "\n",
      "Статистическая информация:\n",
      "\n"
     ]
    },
    {
     "data": {
      "text/html": [
       "<div>\n",
       "<style scoped>\n",
       "    .dataframe tbody tr th:only-of-type {\n",
       "        vertical-align: middle;\n",
       "    }\n",
       "\n",
       "    .dataframe tbody tr th {\n",
       "        vertical-align: top;\n",
       "    }\n",
       "\n",
       "    .dataframe thead th {\n",
       "        text-align: right;\n",
       "    }\n",
       "</style>\n",
       "<table border=\"1\" class=\"dataframe\">\n",
       "  <thead>\n",
       "    <tr style=\"text-align: right;\">\n",
       "      <th></th>\n",
       "      <th>count</th>\n",
       "      <th>mean</th>\n",
       "      <th>std</th>\n",
       "      <th>min</th>\n",
       "      <th>25%</th>\n",
       "      <th>50%</th>\n",
       "      <th>75%</th>\n",
       "      <th>max</th>\n",
       "    </tr>\n",
       "  </thead>\n",
       "  <tbody>\n",
       "    <tr>\n",
       "      <th>key</th>\n",
       "      <td>15907.0</td>\n",
       "      <td>1607.88087</td>\n",
       "      <td>942.212073</td>\n",
       "      <td>1.0</td>\n",
       "      <td>790.0</td>\n",
       "      <td>1618.0</td>\n",
       "      <td>2427.0</td>\n",
       "      <td>3241.0</td>\n",
       "    </tr>\n",
       "    <tr>\n",
       "      <th>temperature</th>\n",
       "      <td>13006.0</td>\n",
       "      <td>1591.84092</td>\n",
       "      <td>21.375851</td>\n",
       "      <td>1191.0</td>\n",
       "      <td>1581.0</td>\n",
       "      <td>1591.0</td>\n",
       "      <td>1601.0</td>\n",
       "      <td>1705.0</td>\n",
       "    </tr>\n",
       "  </tbody>\n",
       "</table>\n",
       "</div>"
      ],
      "text/plain": [
       "               count        mean         std     min     25%     50%     75%  \\\n",
       "key          15907.0  1607.88087  942.212073     1.0   790.0  1618.0  2427.0   \n",
       "temperature  13006.0  1591.84092   21.375851  1191.0  1581.0  1591.0  1601.0   \n",
       "\n",
       "                max  \n",
       "key          3241.0  \n",
       "temperature  1705.0  "
      ]
     },
     "metadata": {},
     "output_type": "display_data"
    }
   ],
   "source": [
    "info_dataframe(data_temp)"
   ]
  },
  {
   "cell_type": "code",
   "execution_count": 31,
   "id": "3a272e77",
   "metadata": {},
   "outputs": [
    {
     "data": {
      "text/plain": [
       "3216"
      ]
     },
     "execution_count": 31,
     "metadata": {},
     "output_type": "execute_result"
    }
   ],
   "source": [
    "len(data_temp['key'].unique())"
   ]
  },
  {
   "cell_type": "markdown",
   "id": "226e7a1a",
   "metadata": {},
   "source": [
    "Посмотрим, сколько данных по партиям пропадет после очистки строк с пустыми значениями температуры."
   ]
  },
  {
   "cell_type": "code",
   "execution_count": 32,
   "id": "63df8201",
   "metadata": {
    "scrolled": true
   },
   "outputs": [
    {
     "data": {
      "text/html": [
       "<div>\n",
       "<style scoped>\n",
       "    .dataframe tbody tr th:only-of-type {\n",
       "        vertical-align: middle;\n",
       "    }\n",
       "\n",
       "    .dataframe tbody tr th {\n",
       "        vertical-align: top;\n",
       "    }\n",
       "\n",
       "    .dataframe thead th {\n",
       "        text-align: right;\n",
       "    }\n",
       "</style>\n",
       "<table border=\"1\" class=\"dataframe\">\n",
       "  <thead>\n",
       "    <tr style=\"text-align: right;\">\n",
       "      <th></th>\n",
       "      <th>key</th>\n",
       "      <th>time</th>\n",
       "      <th>temperature</th>\n",
       "    </tr>\n",
       "  </thead>\n",
       "  <tbody>\n",
       "    <tr>\n",
       "      <th>0</th>\n",
       "      <td>1</td>\n",
       "      <td>2019-05-03 11:16:18</td>\n",
       "      <td>1571.0</td>\n",
       "    </tr>\n",
       "    <tr>\n",
       "      <th>1</th>\n",
       "      <td>1</td>\n",
       "      <td>2019-05-03 11:25:53</td>\n",
       "      <td>1604.0</td>\n",
       "    </tr>\n",
       "    <tr>\n",
       "      <th>2</th>\n",
       "      <td>1</td>\n",
       "      <td>2019-05-03 11:29:11</td>\n",
       "      <td>1618.0</td>\n",
       "    </tr>\n",
       "    <tr>\n",
       "      <th>3</th>\n",
       "      <td>1</td>\n",
       "      <td>2019-05-03 11:30:01</td>\n",
       "      <td>1601.0</td>\n",
       "    </tr>\n",
       "    <tr>\n",
       "      <th>4</th>\n",
       "      <td>1</td>\n",
       "      <td>2019-05-03 11:30:39</td>\n",
       "      <td>1613.0</td>\n",
       "    </tr>\n",
       "    <tr>\n",
       "      <th>...</th>\n",
       "      <td>...</td>\n",
       "      <td>...</td>\n",
       "      <td>...</td>\n",
       "    </tr>\n",
       "    <tr>\n",
       "      <th>15878</th>\n",
       "      <td>3237</td>\n",
       "      <td>2019-08-31 22:44:04</td>\n",
       "      <td>1569.0</td>\n",
       "    </tr>\n",
       "    <tr>\n",
       "      <th>15883</th>\n",
       "      <td>3238</td>\n",
       "      <td>2019-08-31 23:30:31</td>\n",
       "      <td>1584.0</td>\n",
       "    </tr>\n",
       "    <tr>\n",
       "      <th>15886</th>\n",
       "      <td>3239</td>\n",
       "      <td>2019-09-01 01:31:47</td>\n",
       "      <td>1598.0</td>\n",
       "    </tr>\n",
       "    <tr>\n",
       "      <th>15894</th>\n",
       "      <td>3240</td>\n",
       "      <td>2019-09-01 02:39:01</td>\n",
       "      <td>1617.0</td>\n",
       "    </tr>\n",
       "    <tr>\n",
       "      <th>15902</th>\n",
       "      <td>3241</td>\n",
       "      <td>2019-09-01 04:03:30</td>\n",
       "      <td>1586.0</td>\n",
       "    </tr>\n",
       "  </tbody>\n",
       "</table>\n",
       "<p>13006 rows × 3 columns</p>\n",
       "</div>"
      ],
      "text/plain": [
       "        key                 time  temperature\n",
       "0         1  2019-05-03 11:16:18       1571.0\n",
       "1         1  2019-05-03 11:25:53       1604.0\n",
       "2         1  2019-05-03 11:29:11       1618.0\n",
       "3         1  2019-05-03 11:30:01       1601.0\n",
       "4         1  2019-05-03 11:30:39       1613.0\n",
       "...     ...                  ...          ...\n",
       "15878  3237  2019-08-31 22:44:04       1569.0\n",
       "15883  3238  2019-08-31 23:30:31       1584.0\n",
       "15886  3239  2019-09-01 01:31:47       1598.0\n",
       "15894  3240  2019-09-01 02:39:01       1617.0\n",
       "15902  3241  2019-09-01 04:03:30       1586.0\n",
       "\n",
       "[13006 rows x 3 columns]"
      ]
     },
     "execution_count": 32,
     "metadata": {},
     "output_type": "execute_result"
    }
   ],
   "source": [
    "data_temp.query('temperature == temperature')"
   ]
  },
  {
   "cell_type": "code",
   "execution_count": 33,
   "id": "a8ed5b76",
   "metadata": {},
   "outputs": [
    {
     "data": {
      "text/plain": [
       "3216"
      ]
     },
     "execution_count": 33,
     "metadata": {},
     "output_type": "execute_result"
    }
   ],
   "source": [
    "len(data_temp.query('temperature == temperature')['key'].unique())"
   ]
  },
  {
   "cell_type": "markdown",
   "id": "7fa65712",
   "metadata": {},
   "source": [
    "Данные по партиям не очистились, строки с пустыми значениями температуры можно удалить без потери важных данных."
   ]
  },
  {
   "cell_type": "code",
   "execution_count": 34,
   "id": "be301f1b",
   "metadata": {},
   "outputs": [],
   "source": [
    "data_temp = data_temp.query('temperature == temperature')"
   ]
  },
  {
   "cell_type": "markdown",
   "id": "69969d8c",
   "metadata": {},
   "source": [
    "Возможное количество строк в разрезе партии:"
   ]
  },
  {
   "cell_type": "code",
   "execution_count": 35,
   "id": "6487ec29",
   "metadata": {},
   "outputs": [
    {
     "data": {
      "text/plain": [
       "array([ 1,  2,  3,  4,  5,  6,  7,  8,  9, 10, 11, 12, 13, 14, 15, 16],\n",
       "      dtype=int64)"
      ]
     },
     "execution_count": 35,
     "metadata": {},
     "output_type": "execute_result"
    }
   ],
   "source": [
    "pt_key_temp = pd.pivot_table(data_temp, index=['key'],\n",
    "                   values=['temperature'],\n",
    "                   aggfunc='count')\n",
    "pt_key_temp.sort_values(by='temperature')['temperature'].unique()"
   ]
  },
  {
   "cell_type": "code",
   "execution_count": 36,
   "id": "b3dfe579",
   "metadata": {},
   "outputs": [
    {
     "data": {
      "image/png": "[encoded data removed]",
      "text/plain": [
       "<Figure size 720x720 with 1 Axes>"
      ]
     },
     "metadata": {
      "needs_background": "light"
     },
     "output_type": "display_data"
    }
   ],
   "source": [
    "data_temp['temperature'].hist(figsize=(10, 10), bins=100).set_xlabel('Температура');"
   ]
  },
  {
   "cell_type": "markdown",
   "id": "a5bfac64",
   "metadata": {},
   "source": [
    "В датасете с результатами измерения температуры содержатся данные по 3216 уникальным партиям. Есть строки с незаполненной температурой, их можно удалить."
   ]
  },
  {
   "cell_type": "code",
   "execution_count": 37,
   "id": "2537e942",
   "metadata": {},
   "outputs": [
    {
     "data": {
      "text/html": [
       "<div>\n",
       "<style scoped>\n",
       "    .dataframe tbody tr th:only-of-type {\n",
       "        vertical-align: middle;\n",
       "    }\n",
       "\n",
       "    .dataframe tbody tr th {\n",
       "        vertical-align: top;\n",
       "    }\n",
       "\n",
       "    .dataframe thead th {\n",
       "        text-align: right;\n",
       "    }\n",
       "</style>\n",
       "<table border=\"1\" class=\"dataframe\">\n",
       "  <thead>\n",
       "    <tr style=\"text-align: right;\">\n",
       "      <th></th>\n",
       "      <th>key</th>\n",
       "      <th>Wire 1</th>\n",
       "      <th>Wire 2</th>\n",
       "      <th>Wire 3</th>\n",
       "      <th>Wire 4</th>\n",
       "      <th>Wire 5</th>\n",
       "      <th>Wire 6</th>\n",
       "      <th>Wire 7</th>\n",
       "      <th>Wire 8</th>\n",
       "      <th>Wire 9</th>\n",
       "    </tr>\n",
       "  </thead>\n",
       "  <tbody>\n",
       "    <tr>\n",
       "      <th>0</th>\n",
       "      <td>1</td>\n",
       "      <td>60.059998</td>\n",
       "      <td>NaN</td>\n",
       "      <td>NaN</td>\n",
       "      <td>NaN</td>\n",
       "      <td>NaN</td>\n",
       "      <td>NaN</td>\n",
       "      <td>NaN</td>\n",
       "      <td>NaN</td>\n",
       "      <td>NaN</td>\n",
       "    </tr>\n",
       "    <tr>\n",
       "      <th>1</th>\n",
       "      <td>2</td>\n",
       "      <td>96.052315</td>\n",
       "      <td>NaN</td>\n",
       "      <td>NaN</td>\n",
       "      <td>NaN</td>\n",
       "      <td>NaN</td>\n",
       "      <td>NaN</td>\n",
       "      <td>NaN</td>\n",
       "      <td>NaN</td>\n",
       "      <td>NaN</td>\n",
       "    </tr>\n",
       "    <tr>\n",
       "      <th>2</th>\n",
       "      <td>3</td>\n",
       "      <td>91.160157</td>\n",
       "      <td>NaN</td>\n",
       "      <td>NaN</td>\n",
       "      <td>NaN</td>\n",
       "      <td>NaN</td>\n",
       "      <td>NaN</td>\n",
       "      <td>NaN</td>\n",
       "      <td>NaN</td>\n",
       "      <td>NaN</td>\n",
       "    </tr>\n",
       "    <tr>\n",
       "      <th>3</th>\n",
       "      <td>4</td>\n",
       "      <td>89.063515</td>\n",
       "      <td>NaN</td>\n",
       "      <td>NaN</td>\n",
       "      <td>NaN</td>\n",
       "      <td>NaN</td>\n",
       "      <td>NaN</td>\n",
       "      <td>NaN</td>\n",
       "      <td>NaN</td>\n",
       "      <td>NaN</td>\n",
       "    </tr>\n",
       "    <tr>\n",
       "      <th>4</th>\n",
       "      <td>5</td>\n",
       "      <td>89.238236</td>\n",
       "      <td>9.11456</td>\n",
       "      <td>NaN</td>\n",
       "      <td>NaN</td>\n",
       "      <td>NaN</td>\n",
       "      <td>NaN</td>\n",
       "      <td>NaN</td>\n",
       "      <td>NaN</td>\n",
       "      <td>NaN</td>\n",
       "    </tr>\n",
       "    <tr>\n",
       "      <th>...</th>\n",
       "      <td>...</td>\n",
       "      <td>...</td>\n",
       "      <td>...</td>\n",
       "      <td>...</td>\n",
       "      <td>...</td>\n",
       "      <td>...</td>\n",
       "      <td>...</td>\n",
       "      <td>...</td>\n",
       "      <td>...</td>\n",
       "      <td>...</td>\n",
       "    </tr>\n",
       "    <tr>\n",
       "      <th>3076</th>\n",
       "      <td>3237</td>\n",
       "      <td>38.088959</td>\n",
       "      <td>NaN</td>\n",
       "      <td>NaN</td>\n",
       "      <td>NaN</td>\n",
       "      <td>NaN</td>\n",
       "      <td>NaN</td>\n",
       "      <td>NaN</td>\n",
       "      <td>NaN</td>\n",
       "      <td>NaN</td>\n",
       "    </tr>\n",
       "    <tr>\n",
       "      <th>3077</th>\n",
       "      <td>3238</td>\n",
       "      <td>56.128799</td>\n",
       "      <td>NaN</td>\n",
       "      <td>NaN</td>\n",
       "      <td>NaN</td>\n",
       "      <td>NaN</td>\n",
       "      <td>NaN</td>\n",
       "      <td>NaN</td>\n",
       "      <td>NaN</td>\n",
       "      <td>NaN</td>\n",
       "    </tr>\n",
       "    <tr>\n",
       "      <th>3078</th>\n",
       "      <td>3239</td>\n",
       "      <td>143.357761</td>\n",
       "      <td>NaN</td>\n",
       "      <td>NaN</td>\n",
       "      <td>NaN</td>\n",
       "      <td>NaN</td>\n",
       "      <td>NaN</td>\n",
       "      <td>NaN</td>\n",
       "      <td>NaN</td>\n",
       "      <td>NaN</td>\n",
       "    </tr>\n",
       "    <tr>\n",
       "      <th>3079</th>\n",
       "      <td>3240</td>\n",
       "      <td>34.070400</td>\n",
       "      <td>NaN</td>\n",
       "      <td>NaN</td>\n",
       "      <td>NaN</td>\n",
       "      <td>NaN</td>\n",
       "      <td>NaN</td>\n",
       "      <td>NaN</td>\n",
       "      <td>NaN</td>\n",
       "      <td>NaN</td>\n",
       "    </tr>\n",
       "    <tr>\n",
       "      <th>3080</th>\n",
       "      <td>3241</td>\n",
       "      <td>63.117595</td>\n",
       "      <td>NaN</td>\n",
       "      <td>NaN</td>\n",
       "      <td>NaN</td>\n",
       "      <td>NaN</td>\n",
       "      <td>NaN</td>\n",
       "      <td>NaN</td>\n",
       "      <td>NaN</td>\n",
       "      <td>NaN</td>\n",
       "    </tr>\n",
       "  </tbody>\n",
       "</table>\n",
       "<p>3081 rows × 10 columns</p>\n",
       "</div>"
      ],
      "text/plain": [
       "       key      Wire 1   Wire 2  Wire 3  Wire 4  Wire 5  Wire 6  Wire 7  \\\n",
       "0        1   60.059998      NaN     NaN     NaN     NaN     NaN     NaN   \n",
       "1        2   96.052315      NaN     NaN     NaN     NaN     NaN     NaN   \n",
       "2        3   91.160157      NaN     NaN     NaN     NaN     NaN     NaN   \n",
       "3        4   89.063515      NaN     NaN     NaN     NaN     NaN     NaN   \n",
       "4        5   89.238236  9.11456     NaN     NaN     NaN     NaN     NaN   \n",
       "...    ...         ...      ...     ...     ...     ...     ...     ...   \n",
       "3076  3237   38.088959      NaN     NaN     NaN     NaN     NaN     NaN   \n",
       "3077  3238   56.128799      NaN     NaN     NaN     NaN     NaN     NaN   \n",
       "3078  3239  143.357761      NaN     NaN     NaN     NaN     NaN     NaN   \n",
       "3079  3240   34.070400      NaN     NaN     NaN     NaN     NaN     NaN   \n",
       "3080  3241   63.117595      NaN     NaN     NaN     NaN     NaN     NaN   \n",
       "\n",
       "      Wire 8  Wire 9  \n",
       "0        NaN     NaN  \n",
       "1        NaN     NaN  \n",
       "2        NaN     NaN  \n",
       "3        NaN     NaN  \n",
       "4        NaN     NaN  \n",
       "...      ...     ...  \n",
       "3076     NaN     NaN  \n",
       "3077     NaN     NaN  \n",
       "3078     NaN     NaN  \n",
       "3079     NaN     NaN  \n",
       "3080     NaN     NaN  \n",
       "\n",
       "[3081 rows x 10 columns]"
      ]
     },
     "execution_count": 37,
     "metadata": {},
     "output_type": "execute_result"
    }
   ],
   "source": [
    "# данные о проволочных материалах (объём)\n",
    "data_wire = get_data('/datasets/final_steel/data_wire.csv')\n",
    "data_wire"
   ]
  },
  {
   "cell_type": "code",
   "execution_count": 38,
   "id": "e279dcfc",
   "metadata": {},
   "outputs": [
    {
     "name": "stderr",
     "output_type": "stream",
     "text": [
      "C:\\Users\\Вера\\AppData\\Local\\Temp\\ipykernel_2392\\2892140398.py:1: FutureWarning: The default value of regex will change from True to False in a future version.\n",
      "  data_wire.columns = data_wire.columns.str.replace(r\"([A-Z])\", r\" \\1\").str.lower().str.replace(' ', '_').str[1:]\n"
     ]
    }
   ],
   "source": [
    "data_wire.columns = data_wire.columns.str.replace(r\"([A-Z])\", r\" \\1\").str.lower().str.replace(' ', '_').str[1:]\n",
    "data_wire = data_wire.rename(columns={'ey': 'key'})"
   ]
  },
  {
   "cell_type": "code",
   "execution_count": 39,
   "id": "3cc4e052",
   "metadata": {},
   "outputs": [
    {
     "name": "stdout",
     "output_type": "stream",
     "text": [
      "Общая информация по dataframe:\n",
      "\n",
      "<class 'pandas.core.frame.DataFrame'>\n",
      "RangeIndex: 3081 entries, 0 to 3080\n",
      "Data columns (total 10 columns):\n",
      " #   Column  Non-Null Count  Dtype  \n",
      "---  ------  --------------  -----  \n",
      " 0   key     3081 non-null   int64  \n",
      " 1   wire_1  3055 non-null   float64\n",
      " 2   wire_2  1079 non-null   float64\n",
      " 3   wire_3  63 non-null     float64\n",
      " 4   wire_4  14 non-null     float64\n",
      " 5   wire_5  1 non-null      float64\n",
      " 6   wire_6  73 non-null     float64\n",
      " 7   wire_7  11 non-null     float64\n",
      " 8   wire_8  19 non-null     float64\n",
      " 9   wire_9  29 non-null     float64\n",
      "dtypes: float64(9), int64(1)\n",
      "memory usage: 240.8 KB\n",
      "\n",
      "Статистическая информация:\n",
      "\n"
     ]
    },
    {
     "data": {
      "text/html": [
       "<div>\n",
       "<style scoped>\n",
       "    .dataframe tbody tr th:only-of-type {\n",
       "        vertical-align: middle;\n",
       "    }\n",
       "\n",
       "    .dataframe tbody tr th {\n",
       "        vertical-align: top;\n",
       "    }\n",
       "\n",
       "    .dataframe thead th {\n",
       "        text-align: right;\n",
       "    }\n",
       "</style>\n",
       "<table border=\"1\" class=\"dataframe\">\n",
       "  <thead>\n",
       "    <tr style=\"text-align: right;\">\n",
       "      <th></th>\n",
       "      <th>count</th>\n",
       "      <th>mean</th>\n",
       "      <th>std</th>\n",
       "      <th>min</th>\n",
       "      <th>25%</th>\n",
       "      <th>50%</th>\n",
       "      <th>75%</th>\n",
       "      <th>max</th>\n",
       "    </tr>\n",
       "  </thead>\n",
       "  <tbody>\n",
       "    <tr>\n",
       "      <th>key</th>\n",
       "      <td>3081.0</td>\n",
       "      <td>1623.426485</td>\n",
       "      <td>932.996726</td>\n",
       "      <td>1.000000</td>\n",
       "      <td>823.000000</td>\n",
       "      <td>1619.000000</td>\n",
       "      <td>2434.000000</td>\n",
       "      <td>3241.000000</td>\n",
       "    </tr>\n",
       "    <tr>\n",
       "      <th>wire_1</th>\n",
       "      <td>3055.0</td>\n",
       "      <td>100.895853</td>\n",
       "      <td>42.012518</td>\n",
       "      <td>1.918800</td>\n",
       "      <td>72.115684</td>\n",
       "      <td>100.158234</td>\n",
       "      <td>126.060483</td>\n",
       "      <td>330.314424</td>\n",
       "    </tr>\n",
       "    <tr>\n",
       "      <th>wire_2</th>\n",
       "      <td>1079.0</td>\n",
       "      <td>50.577323</td>\n",
       "      <td>39.320216</td>\n",
       "      <td>0.030160</td>\n",
       "      <td>20.193680</td>\n",
       "      <td>40.142956</td>\n",
       "      <td>70.227558</td>\n",
       "      <td>282.780152</td>\n",
       "    </tr>\n",
       "    <tr>\n",
       "      <th>wire_3</th>\n",
       "      <td>63.0</td>\n",
       "      <td>189.482681</td>\n",
       "      <td>99.513444</td>\n",
       "      <td>0.144144</td>\n",
       "      <td>95.135044</td>\n",
       "      <td>235.194977</td>\n",
       "      <td>276.252014</td>\n",
       "      <td>385.008668</td>\n",
       "    </tr>\n",
       "    <tr>\n",
       "      <th>wire_4</th>\n",
       "      <td>14.0</td>\n",
       "      <td>57.442842</td>\n",
       "      <td>28.824667</td>\n",
       "      <td>24.148801</td>\n",
       "      <td>40.807002</td>\n",
       "      <td>45.234282</td>\n",
       "      <td>76.124619</td>\n",
       "      <td>113.231044</td>\n",
       "    </tr>\n",
       "    <tr>\n",
       "      <th>wire_5</th>\n",
       "      <td>1.0</td>\n",
       "      <td>15.132000</td>\n",
       "      <td>NaN</td>\n",
       "      <td>15.132000</td>\n",
       "      <td>15.132000</td>\n",
       "      <td>15.132000</td>\n",
       "      <td>15.132000</td>\n",
       "      <td>15.132000</td>\n",
       "    </tr>\n",
       "    <tr>\n",
       "      <th>wire_6</th>\n",
       "      <td>73.0</td>\n",
       "      <td>48.016974</td>\n",
       "      <td>33.919845</td>\n",
       "      <td>0.034320</td>\n",
       "      <td>25.053600</td>\n",
       "      <td>42.076324</td>\n",
       "      <td>64.212723</td>\n",
       "      <td>180.454575</td>\n",
       "    </tr>\n",
       "    <tr>\n",
       "      <th>wire_7</th>\n",
       "      <td>11.0</td>\n",
       "      <td>10.039007</td>\n",
       "      <td>8.610584</td>\n",
       "      <td>0.234208</td>\n",
       "      <td>6.762756</td>\n",
       "      <td>9.017009</td>\n",
       "      <td>11.886057</td>\n",
       "      <td>32.847674</td>\n",
       "    </tr>\n",
       "    <tr>\n",
       "      <th>wire_8</th>\n",
       "      <td>19.0</td>\n",
       "      <td>53.625193</td>\n",
       "      <td>16.881728</td>\n",
       "      <td>45.076721</td>\n",
       "      <td>46.094879</td>\n",
       "      <td>46.279999</td>\n",
       "      <td>48.089603</td>\n",
       "      <td>102.762401</td>\n",
       "    </tr>\n",
       "    <tr>\n",
       "      <th>wire_9</th>\n",
       "      <td>29.0</td>\n",
       "      <td>34.155752</td>\n",
       "      <td>19.931616</td>\n",
       "      <td>4.622800</td>\n",
       "      <td>22.058401</td>\n",
       "      <td>30.066399</td>\n",
       "      <td>43.862003</td>\n",
       "      <td>90.053604</td>\n",
       "    </tr>\n",
       "  </tbody>\n",
       "</table>\n",
       "</div>"
      ],
      "text/plain": [
       "         count         mean         std        min         25%          50%  \\\n",
       "key     3081.0  1623.426485  932.996726   1.000000  823.000000  1619.000000   \n",
       "wire_1  3055.0   100.895853   42.012518   1.918800   72.115684   100.158234   \n",
       "wire_2  1079.0    50.577323   39.320216   0.030160   20.193680    40.142956   \n",
       "wire_3    63.0   189.482681   99.513444   0.144144   95.135044   235.194977   \n",
       "wire_4    14.0    57.442842   28.824667  24.148801   40.807002    45.234282   \n",
       "wire_5     1.0    15.132000         NaN  15.132000   15.132000    15.132000   \n",
       "wire_6    73.0    48.016974   33.919845   0.034320   25.053600    42.076324   \n",
       "wire_7    11.0    10.039007    8.610584   0.234208    6.762756     9.017009   \n",
       "wire_8    19.0    53.625193   16.881728  45.076721   46.094879    46.279999   \n",
       "wire_9    29.0    34.155752   19.931616   4.622800   22.058401    30.066399   \n",
       "\n",
       "                75%          max  \n",
       "key     2434.000000  3241.000000  \n",
       "wire_1   126.060483   330.314424  \n",
       "wire_2    70.227558   282.780152  \n",
       "wire_3   276.252014   385.008668  \n",
       "wire_4    76.124619   113.231044  \n",
       "wire_5    15.132000    15.132000  \n",
       "wire_6    64.212723   180.454575  \n",
       "wire_7    11.886057    32.847674  \n",
       "wire_8    48.089603   102.762401  \n",
       "wire_9    43.862003    90.053604  "
      ]
     },
     "metadata": {},
     "output_type": "display_data"
    }
   ],
   "source": [
    "info_dataframe(data_wire)"
   ]
  },
  {
   "cell_type": "code",
   "execution_count": 40,
   "id": "1f3f355a",
   "metadata": {},
   "outputs": [
    {
     "data": {
      "text/plain": [
       "3081"
      ]
     },
     "execution_count": 40,
     "metadata": {},
     "output_type": "execute_result"
    }
   ],
   "source": [
    "len(data_wire['key'].unique())"
   ]
  },
  {
   "cell_type": "code",
   "execution_count": 41,
   "id": "36e4fb2f",
   "metadata": {},
   "outputs": [
    {
     "data": {
      "text/plain": [
       "0"
      ]
     },
     "execution_count": 41,
     "metadata": {},
     "output_type": "execute_result"
    }
   ],
   "source": [
    "data_wire.drop(['key'], axis=1).isna().all(1).sum()"
   ]
  },
  {
   "cell_type": "code",
   "execution_count": 42,
   "id": "cfefe922",
   "metadata": {},
   "outputs": [
    {
     "data": {
      "image/png": "[encoded data removed]",
      "text/plain": [
       "<Figure size 432x288 with 1 Axes>"
      ]
     },
     "metadata": {
      "needs_background": "light"
     },
     "output_type": "display_data"
    }
   ],
   "source": [
    "data_wire['wire_1'].hist(bins=50).set_xlabel('Проволочный материал 1');"
   ]
  },
  {
   "cell_type": "code",
   "execution_count": 43,
   "id": "5ec2dd3a",
   "metadata": {},
   "outputs": [
    {
     "data": {
      "image/png": "[encoded data removed]",
      "text/plain": [
       "<Figure size 432x288 with 1 Axes>"
      ]
     },
     "metadata": {
      "needs_background": "light"
     },
     "output_type": "display_data"
    }
   ],
   "source": [
    "data_wire['wire_2'].hist(bins=20).set_xlabel('Проволочный материал 2');"
   ]
  },
  {
   "cell_type": "code",
   "execution_count": 44,
   "id": "4ebf5c5a",
   "metadata": {},
   "outputs": [
    {
     "data": {
      "image/png": "[encoded data removed]",
      "text/plain": [
       "<Figure size 432x288 with 1 Axes>"
      ]
     },
     "metadata": {
      "needs_background": "light"
     },
     "output_type": "display_data"
    }
   ],
   "source": [
    "data_wire['wire_3'].hist(bins=20).set_xlabel('Проволочный материал 3');"
   ]
  },
  {
   "cell_type": "code",
   "execution_count": 45,
   "id": "67b045de",
   "metadata": {},
   "outputs": [
    {
     "data": {
      "image/png": "[encoded data removed]",
      "text/plain": [
       "<Figure size 432x288 with 1 Axes>"
      ]
     },
     "metadata": {
      "needs_background": "light"
     },
     "output_type": "display_data"
    }
   ],
   "source": [
    "data_wire['wire_4'].hist(bins=50).set_xlabel('Проволочный материал 4');"
   ]
  },
  {
   "cell_type": "code",
   "execution_count": 46,
   "id": "3eb012c9",
   "metadata": {},
   "outputs": [
    {
     "data": {
      "image/png": "[encoded data removed]",
      "text/plain": [
       "<Figure size 432x288 with 1 Axes>"
      ]
     },
     "metadata": {
      "needs_background": "light"
     },
     "output_type": "display_data"
    }
   ],
   "source": [
    "data_wire['wire_5'].hist(bins=10).set_xlabel('Проволочный материал 5');"
   ]
  },
  {
   "cell_type": "code",
   "execution_count": 47,
   "id": "a901696b",
   "metadata": {},
   "outputs": [
    {
     "data": {
      "image/png": "[encoded data removed]",
      "text/plain": [
       "<Figure size 432x288 with 1 Axes>"
      ]
     },
     "metadata": {
      "needs_background": "light"
     },
     "output_type": "display_data"
    }
   ],
   "source": [
    "data_wire['wire_6'].hist(bins=10).set_xlabel('Проволочный материал 6');"
   ]
  },
  {
   "cell_type": "code",
   "execution_count": 48,
   "id": "054e70eb",
   "metadata": {},
   "outputs": [
    {
     "data": {
      "image/png": "[encoded data removed]",
      "text/plain": [
       "<Figure size 432x288 with 1 Axes>"
      ]
     },
     "metadata": {
      "needs_background": "light"
     },
     "output_type": "display_data"
    }
   ],
   "source": [
    "data_wire['wire_7'].hist(bins=20).set_xlabel('Проволочный материал 7');"
   ]
  },
  {
   "cell_type": "code",
   "execution_count": 49,
   "id": "719a49da",
   "metadata": {},
   "outputs": [
    {
     "data": {
      "image/png": "[encoded data removed]",
      "text/plain": [
       "<Figure size 432x288 with 1 Axes>"
      ]
     },
     "metadata": {
      "needs_background": "light"
     },
     "output_type": "display_data"
    }
   ],
   "source": [
    "data_wire['wire_8'].hist(bins=10).set_xlabel('Проволочный материал 8');"
   ]
  },
  {
   "cell_type": "code",
   "execution_count": 50,
   "id": "68cde69d",
   "metadata": {},
   "outputs": [
    {
     "data": {
      "image/png": "[encoded data removed]",
      "text/plain": [
       "<Figure size 432x288 with 1 Axes>"
      ]
     },
     "metadata": {
      "needs_background": "light"
     },
     "output_type": "display_data"
    }
   ],
   "source": [
    "data_wire['wire_9'].hist(bins=10).set_xlabel('Проволочный материал 9');"
   ]
  },
  {
   "cell_type": "markdown",
   "id": "e3b82303",
   "metadata": {},
   "source": [
    "В датасете с объемом проволочных материалов меньше всего данных по партиям: 3081 уникальная партия, на партию по строке. В строке заполнено хотя бы одно значение по материалу. Есть более и менее используемые материалы аналогично с сыпучими материалами. Также есть выбросы и аномалии."
   ]
  },
  {
   "cell_type": "code",
   "execution_count": 51,
   "id": "90db3301",
   "metadata": {},
   "outputs": [
    {
     "data": {
      "text/html": [
       "<div>\n",
       "<style scoped>\n",
       "    .dataframe tbody tr th:only-of-type {\n",
       "        vertical-align: middle;\n",
       "    }\n",
       "\n",
       "    .dataframe tbody tr th {\n",
       "        vertical-align: top;\n",
       "    }\n",
       "\n",
       "    .dataframe thead th {\n",
       "        text-align: right;\n",
       "    }\n",
       "</style>\n",
       "<table border=\"1\" class=\"dataframe\">\n",
       "  <thead>\n",
       "    <tr style=\"text-align: right;\">\n",
       "      <th></th>\n",
       "      <th>key</th>\n",
       "      <th>Wire 1</th>\n",
       "      <th>Wire 2</th>\n",
       "      <th>Wire 3</th>\n",
       "      <th>Wire 4</th>\n",
       "      <th>Wire 5</th>\n",
       "      <th>Wire 6</th>\n",
       "      <th>Wire 7</th>\n",
       "      <th>Wire 8</th>\n",
       "      <th>Wire 9</th>\n",
       "    </tr>\n",
       "  </thead>\n",
       "  <tbody>\n",
       "    <tr>\n",
       "      <th>0</th>\n",
       "      <td>1</td>\n",
       "      <td>2019-05-03 11:11:41</td>\n",
       "      <td>NaN</td>\n",
       "      <td>NaN</td>\n",
       "      <td>NaN</td>\n",
       "      <td>NaN</td>\n",
       "      <td>NaN</td>\n",
       "      <td>NaN</td>\n",
       "      <td>NaN</td>\n",
       "      <td>NaN</td>\n",
       "    </tr>\n",
       "    <tr>\n",
       "      <th>1</th>\n",
       "      <td>2</td>\n",
       "      <td>2019-05-03 11:46:10</td>\n",
       "      <td>NaN</td>\n",
       "      <td>NaN</td>\n",
       "      <td>NaN</td>\n",
       "      <td>NaN</td>\n",
       "      <td>NaN</td>\n",
       "      <td>NaN</td>\n",
       "      <td>NaN</td>\n",
       "      <td>NaN</td>\n",
       "    </tr>\n",
       "    <tr>\n",
       "      <th>2</th>\n",
       "      <td>3</td>\n",
       "      <td>2019-05-03 12:13:47</td>\n",
       "      <td>NaN</td>\n",
       "      <td>NaN</td>\n",
       "      <td>NaN</td>\n",
       "      <td>NaN</td>\n",
       "      <td>NaN</td>\n",
       "      <td>NaN</td>\n",
       "      <td>NaN</td>\n",
       "      <td>NaN</td>\n",
       "    </tr>\n",
       "    <tr>\n",
       "      <th>3</th>\n",
       "      <td>4</td>\n",
       "      <td>2019-05-03 12:48:05</td>\n",
       "      <td>NaN</td>\n",
       "      <td>NaN</td>\n",
       "      <td>NaN</td>\n",
       "      <td>NaN</td>\n",
       "      <td>NaN</td>\n",
       "      <td>NaN</td>\n",
       "      <td>NaN</td>\n",
       "      <td>NaN</td>\n",
       "    </tr>\n",
       "    <tr>\n",
       "      <th>4</th>\n",
       "      <td>5</td>\n",
       "      <td>2019-05-03 13:18:15</td>\n",
       "      <td>2019-05-03 13:32:06</td>\n",
       "      <td>NaN</td>\n",
       "      <td>NaN</td>\n",
       "      <td>NaN</td>\n",
       "      <td>NaN</td>\n",
       "      <td>NaN</td>\n",
       "      <td>NaN</td>\n",
       "      <td>NaN</td>\n",
       "    </tr>\n",
       "    <tr>\n",
       "      <th>...</th>\n",
       "      <td>...</td>\n",
       "      <td>...</td>\n",
       "      <td>...</td>\n",
       "      <td>...</td>\n",
       "      <td>...</td>\n",
       "      <td>...</td>\n",
       "      <td>...</td>\n",
       "      <td>...</td>\n",
       "      <td>...</td>\n",
       "      <td>...</td>\n",
       "    </tr>\n",
       "    <tr>\n",
       "      <th>3076</th>\n",
       "      <td>3237</td>\n",
       "      <td>2019-08-31 22:50:20</td>\n",
       "      <td>NaN</td>\n",
       "      <td>NaN</td>\n",
       "      <td>NaN</td>\n",
       "      <td>NaN</td>\n",
       "      <td>NaN</td>\n",
       "      <td>NaN</td>\n",
       "      <td>NaN</td>\n",
       "      <td>NaN</td>\n",
       "    </tr>\n",
       "    <tr>\n",
       "      <th>3077</th>\n",
       "      <td>3238</td>\n",
       "      <td>2019-08-31 23:38:24</td>\n",
       "      <td>NaN</td>\n",
       "      <td>NaN</td>\n",
       "      <td>NaN</td>\n",
       "      <td>NaN</td>\n",
       "      <td>NaN</td>\n",
       "      <td>NaN</td>\n",
       "      <td>NaN</td>\n",
       "      <td>NaN</td>\n",
       "    </tr>\n",
       "    <tr>\n",
       "      <th>3078</th>\n",
       "      <td>3239</td>\n",
       "      <td>2019-09-01 01:50:43</td>\n",
       "      <td>NaN</td>\n",
       "      <td>NaN</td>\n",
       "      <td>NaN</td>\n",
       "      <td>NaN</td>\n",
       "      <td>NaN</td>\n",
       "      <td>NaN</td>\n",
       "      <td>NaN</td>\n",
       "      <td>NaN</td>\n",
       "    </tr>\n",
       "    <tr>\n",
       "      <th>3079</th>\n",
       "      <td>3240</td>\n",
       "      <td>2019-09-01 03:12:02</td>\n",
       "      <td>NaN</td>\n",
       "      <td>NaN</td>\n",
       "      <td>NaN</td>\n",
       "      <td>NaN</td>\n",
       "      <td>NaN</td>\n",
       "      <td>NaN</td>\n",
       "      <td>NaN</td>\n",
       "      <td>NaN</td>\n",
       "    </tr>\n",
       "    <tr>\n",
       "      <th>3080</th>\n",
       "      <td>3241</td>\n",
       "      <td>2019-09-01 04:16:01</td>\n",
       "      <td>NaN</td>\n",
       "      <td>NaN</td>\n",
       "      <td>NaN</td>\n",
       "      <td>NaN</td>\n",
       "      <td>NaN</td>\n",
       "      <td>NaN</td>\n",
       "      <td>NaN</td>\n",
       "      <td>NaN</td>\n",
       "    </tr>\n",
       "  </tbody>\n",
       "</table>\n",
       "<p>3081 rows × 10 columns</p>\n",
       "</div>"
      ],
      "text/plain": [
       "       key               Wire 1               Wire 2 Wire 3 Wire 4 Wire 5  \\\n",
       "0        1  2019-05-03 11:11:41                  NaN    NaN    NaN    NaN   \n",
       "1        2  2019-05-03 11:46:10                  NaN    NaN    NaN    NaN   \n",
       "2        3  2019-05-03 12:13:47                  NaN    NaN    NaN    NaN   \n",
       "3        4  2019-05-03 12:48:05                  NaN    NaN    NaN    NaN   \n",
       "4        5  2019-05-03 13:18:15  2019-05-03 13:32:06    NaN    NaN    NaN   \n",
       "...    ...                  ...                  ...    ...    ...    ...   \n",
       "3076  3237  2019-08-31 22:50:20                  NaN    NaN    NaN    NaN   \n",
       "3077  3238  2019-08-31 23:38:24                  NaN    NaN    NaN    NaN   \n",
       "3078  3239  2019-09-01 01:50:43                  NaN    NaN    NaN    NaN   \n",
       "3079  3240  2019-09-01 03:12:02                  NaN    NaN    NaN    NaN   \n",
       "3080  3241  2019-09-01 04:16:01                  NaN    NaN    NaN    NaN   \n",
       "\n",
       "     Wire 6 Wire 7 Wire 8 Wire 9  \n",
       "0       NaN    NaN    NaN    NaN  \n",
       "1       NaN    NaN    NaN    NaN  \n",
       "2       NaN    NaN    NaN    NaN  \n",
       "3       NaN    NaN    NaN    NaN  \n",
       "4       NaN    NaN    NaN    NaN  \n",
       "...     ...    ...    ...    ...  \n",
       "3076    NaN    NaN    NaN    NaN  \n",
       "3077    NaN    NaN    NaN    NaN  \n",
       "3078    NaN    NaN    NaN    NaN  \n",
       "3079    NaN    NaN    NaN    NaN  \n",
       "3080    NaN    NaN    NaN    NaN  \n",
       "\n",
       "[3081 rows x 10 columns]"
      ]
     },
     "execution_count": 51,
     "metadata": {},
     "output_type": "execute_result"
    }
   ],
   "source": [
    "# данные о проволочных материалах (время)\n",
    "data_wire_time = get_data('/datasets/final_steel/data_wire_time.csv')\n",
    "data_wire_time"
   ]
  },
  {
   "cell_type": "code",
   "execution_count": 52,
   "id": "b43f9383",
   "metadata": {},
   "outputs": [
    {
     "name": "stderr",
     "output_type": "stream",
     "text": [
      "C:\\Users\\Вера\\AppData\\Local\\Temp\\ipykernel_2392\\758213258.py:1: FutureWarning: The default value of regex will change from True to False in a future version.\n",
      "  data_wire_time.columns = data_wire_time.columns.str.replace(r\"([A-Z])\", r\" \\1\").str.lower().str.replace(' ', '_').str[1:]\n"
     ]
    }
   ],
   "source": [
    "data_wire_time.columns = data_wire_time.columns.str.replace(r\"([A-Z])\", r\" \\1\").str.lower().str.replace(' ', '_').str[1:]\n",
    "data_wire_time = data_wire_time.rename(columns={'ey': 'key'})"
   ]
  },
  {
   "cell_type": "code",
   "execution_count": 53,
   "id": "ba3e1df2",
   "metadata": {},
   "outputs": [
    {
     "name": "stdout",
     "output_type": "stream",
     "text": [
      "Общая информация по dataframe:\n",
      "\n",
      "<class 'pandas.core.frame.DataFrame'>\n",
      "RangeIndex: 3081 entries, 0 to 3080\n",
      "Data columns (total 10 columns):\n",
      " #   Column  Non-Null Count  Dtype \n",
      "---  ------  --------------  ----- \n",
      " 0   key     3081 non-null   int64 \n",
      " 1   wire_1  3055 non-null   object\n",
      " 2   wire_2  1079 non-null   object\n",
      " 3   wire_3  63 non-null     object\n",
      " 4   wire_4  14 non-null     object\n",
      " 5   wire_5  1 non-null      object\n",
      " 6   wire_6  73 non-null     object\n",
      " 7   wire_7  11 non-null     object\n",
      " 8   wire_8  19 non-null     object\n",
      " 9   wire_9  29 non-null     object\n",
      "dtypes: int64(1), object(9)\n",
      "memory usage: 240.8+ KB\n",
      "\n",
      "Статистическая информация:\n",
      "\n"
     ]
    },
    {
     "data": {
      "text/html": [
       "<div>\n",
       "<style scoped>\n",
       "    .dataframe tbody tr th:only-of-type {\n",
       "        vertical-align: middle;\n",
       "    }\n",
       "\n",
       "    .dataframe tbody tr th {\n",
       "        vertical-align: top;\n",
       "    }\n",
       "\n",
       "    .dataframe thead th {\n",
       "        text-align: right;\n",
       "    }\n",
       "</style>\n",
       "<table border=\"1\" class=\"dataframe\">\n",
       "  <thead>\n",
       "    <tr style=\"text-align: right;\">\n",
       "      <th></th>\n",
       "      <th>count</th>\n",
       "      <th>mean</th>\n",
       "      <th>std</th>\n",
       "      <th>min</th>\n",
       "      <th>25%</th>\n",
       "      <th>50%</th>\n",
       "      <th>75%</th>\n",
       "      <th>max</th>\n",
       "    </tr>\n",
       "  </thead>\n",
       "  <tbody>\n",
       "    <tr>\n",
       "      <th>key</th>\n",
       "      <td>3081.0</td>\n",
       "      <td>1623.426485</td>\n",
       "      <td>932.996726</td>\n",
       "      <td>1.0</td>\n",
       "      <td>823.0</td>\n",
       "      <td>1619.0</td>\n",
       "      <td>2434.0</td>\n",
       "      <td>3241.0</td>\n",
       "    </tr>\n",
       "  </tbody>\n",
       "</table>\n",
       "</div>"
      ],
      "text/plain": [
       "      count         mean         std  min    25%     50%     75%     max\n",
       "key  3081.0  1623.426485  932.996726  1.0  823.0  1619.0  2434.0  3241.0"
      ]
     },
     "metadata": {},
     "output_type": "display_data"
    }
   ],
   "source": [
    "info_dataframe(data_wire_time)"
   ]
  },
  {
   "cell_type": "code",
   "execution_count": 54,
   "id": "f0f78f44",
   "metadata": {},
   "outputs": [
    {
     "data": {
      "text/plain": [
       "3081"
      ]
     },
     "execution_count": 54,
     "metadata": {},
     "output_type": "execute_result"
    }
   ],
   "source": [
    "len(data_wire_time['key'].unique())"
   ]
  },
  {
   "cell_type": "markdown",
   "id": "16ea08f2",
   "metadata": {},
   "source": [
    "Строк столько же, сколько и в датасете с объемами проволочных материалов, характер заполнения данных совпадает с датасетом по объемам материалов."
   ]
  },
  {
   "cell_type": "markdown",
   "id": "8596a51e",
   "metadata": {},
   "source": [
    "### Выводы по обзору данных"
   ]
  },
  {
   "cell_type": "markdown",
   "id": "4c26a7b9",
   "metadata": {},
   "source": [
    "1. Датафреймы содержат данные по разному количеству партий: возможно часть партий прошла не весь технологический процесс или часть данных утеряна. При подготовке данных будут учтены данные по партиям с полными данными.\n",
    "\n",
    "2. По датам соединить датафреймы не представляется возможным: в каких-то случаях замер происходил до засыпания/добавления материалов, в каких-то после. Датафреймы будут соединены по ключу key, т.е. по партии.\n",
    "\n",
    "3. Данные по мощностям, температуре и продувке газом распределены нормально со смещениями. Данные по некоторым материалам также распределены нормально, по остальным не так много данных.\n",
    "\n",
    "3. В данных есть выбросы, незаполненные значения, отрицательные значения. Строки с пустым замером температуры удалены: данные по температуре остались по всем партиям. Отрицательное значение по реактивной мощности будет удалено. От выбросов очистим обучающую выборку.\n",
    "\n",
    "4. В некоторых таблицах на партию приходится одна строка, в некоторых несколько (данные о нагреве электродами и данные о замерах).\n",
    "\n",
    "5. Время во всех таблицах хранится в столбцах с типом object, необходимо преобразовать столбцы в datetime. но не все данные нужны для обучения модели: данные о времени засыпания/добавления материалов не нужны, поскольку регресионные модели не работают с датами. Генерация новых признаков на основе этих данных не обоснована.\n",
    "\n",
    "6. Целевой признак - температура последнего измерения. Необходимо найти эту строку в таблице с измерениями температуры. В таблице с данными по электродам необходимо сгруппировать строки, т.к. интересна суммарная мощность, а не мощность в разрезе измерений. Время изменерений в таблице с данными по электродам не сопоставляется напрямую со временем в таблице измерений температуры.\n",
    "\n",
    "Были преобразованы имена колонок датафреймов для удобства при дальнейшем анализе."
   ]
  },
  {
   "cell_type": "markdown",
   "id": "2425e887",
   "metadata": {},
   "source": [
    "## Анализ данных"
   ]
  },
  {
   "cell_type": "markdown",
   "id": "6b2f5508",
   "metadata": {},
   "source": [
    "Поскольку целевой признак - это температура последнего измерения, необходимо подготовить таблицы с данными об электродах и измерениях температуры."
   ]
  },
  {
   "cell_type": "markdown",
   "id": "052b800a",
   "metadata": {},
   "source": [
    "Удалим некорректную строку из данных об электродах."
   ]
  },
  {
   "cell_type": "code",
   "execution_count": 55,
   "id": "dddf5929",
   "metadata": {},
   "outputs": [],
   "source": [
    "data_arc = data_arc.query('reactive > 0')"
   ]
  },
  {
   "cell_type": "markdown",
   "id": "ea7a5a06",
   "metadata": {},
   "source": [
    "Преобразуем даты в таблице с данными об электродах и вычислим время нагрева в секундах - это будет новый признак, с которым будет работать модель."
   ]
  },
  {
   "cell_type": "code",
   "execution_count": 56,
   "id": "efa244ba",
   "metadata": {},
   "outputs": [],
   "source": [
    "data_arc['start_time'] = pd.to_datetime(data_arc['start_time'], format='%Y-%m-%d')\n",
    "data_arc['end_time'] = pd.to_datetime(data_arc['end_time'], format='%Y-%m-%d')\n",
    "data_arc['time_diff'] = (data_arc['end_time'] - data_arc['start_time']).dt.seconds"
   ]
  },
  {
   "cell_type": "code",
   "execution_count": 57,
   "id": "701e2c6f",
   "metadata": {},
   "outputs": [
    {
     "data": {
      "text/html": [
       "<div>\n",
       "<style scoped>\n",
       "    .dataframe tbody tr th:only-of-type {\n",
       "        vertical-align: middle;\n",
       "    }\n",
       "\n",
       "    .dataframe tbody tr th {\n",
       "        vertical-align: top;\n",
       "    }\n",
       "\n",
       "    .dataframe thead th {\n",
       "        text-align: right;\n",
       "    }\n",
       "</style>\n",
       "<table border=\"1\" class=\"dataframe\">\n",
       "  <thead>\n",
       "    <tr style=\"text-align: right;\">\n",
       "      <th></th>\n",
       "      <th>key</th>\n",
       "      <th>start_time</th>\n",
       "      <th>end_time</th>\n",
       "      <th>active</th>\n",
       "      <th>reactive</th>\n",
       "      <th>time_diff</th>\n",
       "    </tr>\n",
       "  </thead>\n",
       "  <tbody>\n",
       "    <tr>\n",
       "      <th>0</th>\n",
       "      <td>1</td>\n",
       "      <td>2019-05-03 11:02:14</td>\n",
       "      <td>2019-05-03 11:06:02</td>\n",
       "      <td>0.976059</td>\n",
       "      <td>0.687084</td>\n",
       "      <td>228</td>\n",
       "    </tr>\n",
       "    <tr>\n",
       "      <th>1</th>\n",
       "      <td>1</td>\n",
       "      <td>2019-05-03 11:07:28</td>\n",
       "      <td>2019-05-03 11:10:33</td>\n",
       "      <td>0.805607</td>\n",
       "      <td>0.520285</td>\n",
       "      <td>185</td>\n",
       "    </tr>\n",
       "    <tr>\n",
       "      <th>2</th>\n",
       "      <td>1</td>\n",
       "      <td>2019-05-03 11:11:44</td>\n",
       "      <td>2019-05-03 11:14:36</td>\n",
       "      <td>0.744363</td>\n",
       "      <td>0.498805</td>\n",
       "      <td>172</td>\n",
       "    </tr>\n",
       "    <tr>\n",
       "      <th>3</th>\n",
       "      <td>1</td>\n",
       "      <td>2019-05-03 11:18:14</td>\n",
       "      <td>2019-05-03 11:24:19</td>\n",
       "      <td>1.659363</td>\n",
       "      <td>1.062669</td>\n",
       "      <td>365</td>\n",
       "    </tr>\n",
       "    <tr>\n",
       "      <th>4</th>\n",
       "      <td>1</td>\n",
       "      <td>2019-05-03 11:26:09</td>\n",
       "      <td>2019-05-03 11:28:37</td>\n",
       "      <td>0.692755</td>\n",
       "      <td>0.414397</td>\n",
       "      <td>148</td>\n",
       "    </tr>\n",
       "    <tr>\n",
       "      <th>...</th>\n",
       "      <td>...</td>\n",
       "      <td>...</td>\n",
       "      <td>...</td>\n",
       "      <td>...</td>\n",
       "      <td>...</td>\n",
       "      <td>...</td>\n",
       "    </tr>\n",
       "    <tr>\n",
       "      <th>14871</th>\n",
       "      <td>3241</td>\n",
       "      <td>2019-09-01 03:58:58</td>\n",
       "      <td>2019-09-01 04:01:35</td>\n",
       "      <td>0.533670</td>\n",
       "      <td>0.354439</td>\n",
       "      <td>157</td>\n",
       "    </tr>\n",
       "    <tr>\n",
       "      <th>14872</th>\n",
       "      <td>3241</td>\n",
       "      <td>2019-09-01 04:05:04</td>\n",
       "      <td>2019-09-01 04:08:04</td>\n",
       "      <td>0.676604</td>\n",
       "      <td>0.523631</td>\n",
       "      <td>180</td>\n",
       "    </tr>\n",
       "    <tr>\n",
       "      <th>14873</th>\n",
       "      <td>3241</td>\n",
       "      <td>2019-09-01 04:16:41</td>\n",
       "      <td>2019-09-01 04:19:45</td>\n",
       "      <td>0.733899</td>\n",
       "      <td>0.475654</td>\n",
       "      <td>184</td>\n",
       "    </tr>\n",
       "    <tr>\n",
       "      <th>14874</th>\n",
       "      <td>3241</td>\n",
       "      <td>2019-09-01 04:31:51</td>\n",
       "      <td>2019-09-01 04:32:48</td>\n",
       "      <td>0.220694</td>\n",
       "      <td>0.145768</td>\n",
       "      <td>57</td>\n",
       "    </tr>\n",
       "    <tr>\n",
       "      <th>14875</th>\n",
       "      <td>3241</td>\n",
       "      <td>2019-09-01 04:34:47</td>\n",
       "      <td>2019-09-01 04:36:08</td>\n",
       "      <td>0.306580</td>\n",
       "      <td>0.196708</td>\n",
       "      <td>81</td>\n",
       "    </tr>\n",
       "  </tbody>\n",
       "</table>\n",
       "<p>14875 rows × 6 columns</p>\n",
       "</div>"
      ],
      "text/plain": [
       "        key          start_time            end_time    active  reactive  \\\n",
       "0         1 2019-05-03 11:02:14 2019-05-03 11:06:02  0.976059  0.687084   \n",
       "1         1 2019-05-03 11:07:28 2019-05-03 11:10:33  0.805607  0.520285   \n",
       "2         1 2019-05-03 11:11:44 2019-05-03 11:14:36  0.744363  0.498805   \n",
       "3         1 2019-05-03 11:18:14 2019-05-03 11:24:19  1.659363  1.062669   \n",
       "4         1 2019-05-03 11:26:09 2019-05-03 11:28:37  0.692755  0.414397   \n",
       "...     ...                 ...                 ...       ...       ...   \n",
       "14871  3241 2019-09-01 03:58:58 2019-09-01 04:01:35  0.533670  0.354439   \n",
       "14872  3241 2019-09-01 04:05:04 2019-09-01 04:08:04  0.676604  0.523631   \n",
       "14873  3241 2019-09-01 04:16:41 2019-09-01 04:19:45  0.733899  0.475654   \n",
       "14874  3241 2019-09-01 04:31:51 2019-09-01 04:32:48  0.220694  0.145768   \n",
       "14875  3241 2019-09-01 04:34:47 2019-09-01 04:36:08  0.306580  0.196708   \n",
       "\n",
       "       time_diff  \n",
       "0            228  \n",
       "1            185  \n",
       "2            172  \n",
       "3            365  \n",
       "4            148  \n",
       "...          ...  \n",
       "14871        157  \n",
       "14872        180  \n",
       "14873        184  \n",
       "14874         57  \n",
       "14875         81  \n",
       "\n",
       "[14875 rows x 6 columns]"
      ]
     },
     "execution_count": 57,
     "metadata": {},
     "output_type": "execute_result"
    }
   ],
   "source": [
    "data_arc"
   ]
  },
  {
   "cell_type": "markdown",
   "id": "427b0912",
   "metadata": {},
   "source": [
    "Посмотрим на праспределение времени нагрева в секундах."
   ]
  },
  {
   "cell_type": "code",
   "execution_count": 58,
   "id": "8807f956",
   "metadata": {},
   "outputs": [
    {
     "data": {
      "image/png": "[encoded data removed]",
      "text/plain": [
       "<Figure size 432x288 with 1 Axes>"
      ]
     },
     "metadata": {
      "needs_background": "light"
     },
     "output_type": "display_data"
    }
   ],
   "source": [
    "data_arc['time_diff'].hist(bins=30).set_xlabel('Время нагрева в секундах');"
   ]
  },
  {
   "cell_type": "markdown",
   "id": "1756ae69",
   "metadata": {},
   "source": [
    "Время нагрева распределено нормально, чаще всего электроды включают на ~100 сек."
   ]
  },
  {
   "cell_type": "markdown",
   "id": "53f90c87",
   "metadata": {},
   "source": [
    "Получим время первого нагрева для партии и время последнего нагрева. Данные по мощностям суммируем в разрезе партии."
   ]
  },
  {
   "cell_type": "code",
   "execution_count": 59,
   "id": "86f4ca5c",
   "metadata": {},
   "outputs": [
    {
     "data": {
      "text/html": [
       "<div>\n",
       "<style scoped>\n",
       "    .dataframe tbody tr th:only-of-type {\n",
       "        vertical-align: middle;\n",
       "    }\n",
       "\n",
       "    .dataframe tbody tr th {\n",
       "        vertical-align: top;\n",
       "    }\n",
       "\n",
       "    .dataframe thead th {\n",
       "        text-align: right;\n",
       "    }\n",
       "</style>\n",
       "<table border=\"1\" class=\"dataframe\">\n",
       "  <thead>\n",
       "    <tr style=\"text-align: right;\">\n",
       "      <th></th>\n",
       "      <th>min_end_time</th>\n",
       "      <th>min_start_time</th>\n",
       "      <th>max_end_time</th>\n",
       "      <th>max_start_time</th>\n",
       "    </tr>\n",
       "    <tr>\n",
       "      <th>key</th>\n",
       "      <th></th>\n",
       "      <th></th>\n",
       "      <th></th>\n",
       "      <th></th>\n",
       "    </tr>\n",
       "  </thead>\n",
       "  <tbody>\n",
       "    <tr>\n",
       "      <th>1</th>\n",
       "      <td>2019-05-03 11:06:02</td>\n",
       "      <td>2019-05-03 11:02:14</td>\n",
       "      <td>2019-05-03 11:28:37</td>\n",
       "      <td>2019-05-03 11:26:09</td>\n",
       "    </tr>\n",
       "    <tr>\n",
       "      <th>2</th>\n",
       "      <td>2019-05-03 11:36:31</td>\n",
       "      <td>2019-05-03 11:34:14</td>\n",
       "      <td>2019-05-03 11:53:18</td>\n",
       "      <td>2019-05-03 11:49:48</td>\n",
       "    </tr>\n",
       "    <tr>\n",
       "      <th>3</th>\n",
       "      <td>2019-05-03 12:11:34</td>\n",
       "      <td>2019-05-03 12:06:54</td>\n",
       "      <td>2019-05-03 12:32:19</td>\n",
       "      <td>2019-05-03 12:31:14</td>\n",
       "    </tr>\n",
       "    <tr>\n",
       "      <th>4</th>\n",
       "      <td>2019-05-03 12:43:04</td>\n",
       "      <td>2019-05-03 12:39:37</td>\n",
       "      <td>2019-05-03 12:57:50</td>\n",
       "      <td>2019-05-03 12:53:12</td>\n",
       "    </tr>\n",
       "    <tr>\n",
       "      <th>5</th>\n",
       "      <td>2019-05-03 13:15:24</td>\n",
       "      <td>2019-05-03 13:11:13</td>\n",
       "      <td>2019-05-03 13:33:55</td>\n",
       "      <td>2019-05-03 13:32:44</td>\n",
       "    </tr>\n",
       "    <tr>\n",
       "      <th>...</th>\n",
       "      <td>...</td>\n",
       "      <td>...</td>\n",
       "      <td>...</td>\n",
       "      <td>...</td>\n",
       "    </tr>\n",
       "    <tr>\n",
       "      <th>3237</th>\n",
       "      <td>2019-08-31 22:43:17</td>\n",
       "      <td>2019-08-31 22:41:18</td>\n",
       "      <td>2019-08-31 23:03:48</td>\n",
       "      <td>2019-08-31 23:01:32</td>\n",
       "    </tr>\n",
       "    <tr>\n",
       "      <th>3238</th>\n",
       "      <td>2019-08-31 23:28:09</td>\n",
       "      <td>2019-08-31 23:26:18</td>\n",
       "      <td>2019-08-31 23:41:28</td>\n",
       "      <td>2019-08-31 23:38:38</td>\n",
       "    </tr>\n",
       "    <tr>\n",
       "      <th>3239</th>\n",
       "      <td>2019-09-01 01:29:20</td>\n",
       "      <td>2019-09-01 01:26:53</td>\n",
       "      <td>2019-09-01 02:15:43</td>\n",
       "      <td>2019-09-01 02:13:38</td>\n",
       "    </tr>\n",
       "    <tr>\n",
       "      <th>3240</th>\n",
       "      <td>2019-09-01 02:37:25</td>\n",
       "      <td>2019-09-01 02:35:24</td>\n",
       "      <td>2019-09-01 03:34:08</td>\n",
       "      <td>2019-09-01 03:31:47</td>\n",
       "    </tr>\n",
       "    <tr>\n",
       "      <th>3241</th>\n",
       "      <td>2019-09-01 04:01:35</td>\n",
       "      <td>2019-09-01 03:58:58</td>\n",
       "      <td>2019-09-01 04:36:08</td>\n",
       "      <td>2019-09-01 04:34:47</td>\n",
       "    </tr>\n",
       "  </tbody>\n",
       "</table>\n",
       "<p>3214 rows × 4 columns</p>\n",
       "</div>"
      ],
      "text/plain": [
       "            min_end_time      min_start_time        max_end_time  \\\n",
       "key                                                                \n",
       "1    2019-05-03 11:06:02 2019-05-03 11:02:14 2019-05-03 11:28:37   \n",
       "2    2019-05-03 11:36:31 2019-05-03 11:34:14 2019-05-03 11:53:18   \n",
       "3    2019-05-03 12:11:34 2019-05-03 12:06:54 2019-05-03 12:32:19   \n",
       "4    2019-05-03 12:43:04 2019-05-03 12:39:37 2019-05-03 12:57:50   \n",
       "5    2019-05-03 13:15:24 2019-05-03 13:11:13 2019-05-03 13:33:55   \n",
       "...                  ...                 ...                 ...   \n",
       "3237 2019-08-31 22:43:17 2019-08-31 22:41:18 2019-08-31 23:03:48   \n",
       "3238 2019-08-31 23:28:09 2019-08-31 23:26:18 2019-08-31 23:41:28   \n",
       "3239 2019-09-01 01:29:20 2019-09-01 01:26:53 2019-09-01 02:15:43   \n",
       "3240 2019-09-01 02:37:25 2019-09-01 02:35:24 2019-09-01 03:34:08   \n",
       "3241 2019-09-01 04:01:35 2019-09-01 03:58:58 2019-09-01 04:36:08   \n",
       "\n",
       "          max_start_time  \n",
       "key                       \n",
       "1    2019-05-03 11:26:09  \n",
       "2    2019-05-03 11:49:48  \n",
       "3    2019-05-03 12:31:14  \n",
       "4    2019-05-03 12:53:12  \n",
       "5    2019-05-03 13:32:44  \n",
       "...                  ...  \n",
       "3237 2019-08-31 23:01:32  \n",
       "3238 2019-08-31 23:38:38  \n",
       "3239 2019-09-01 02:13:38  \n",
       "3240 2019-09-01 03:31:47  \n",
       "3241 2019-09-01 04:34:47  \n",
       "\n",
       "[3214 rows x 4 columns]"
      ]
     },
     "execution_count": 59,
     "metadata": {},
     "output_type": "execute_result"
    }
   ],
   "source": [
    "pt_time = pd.pivot_table(data_arc, index=['key'],\n",
    "                   values=['start_time', 'end_time'],\n",
    "                   aggfunc=['min', 'max'])\n",
    "pt_time.columns = ['min_end_time', 'min_start_time', 'max_end_time', 'max_start_time']\n",
    "pt_time"
   ]
  },
  {
   "cell_type": "code",
   "execution_count": 60,
   "id": "929aa091",
   "metadata": {},
   "outputs": [
    {
     "data": {
      "text/html": [
       "<div>\n",
       "<style scoped>\n",
       "    .dataframe tbody tr th:only-of-type {\n",
       "        vertical-align: middle;\n",
       "    }\n",
       "\n",
       "    .dataframe tbody tr th {\n",
       "        vertical-align: top;\n",
       "    }\n",
       "\n",
       "    .dataframe thead th {\n",
       "        text-align: right;\n",
       "    }\n",
       "</style>\n",
       "<table border=\"1\" class=\"dataframe\">\n",
       "  <thead>\n",
       "    <tr style=\"text-align: right;\">\n",
       "      <th></th>\n",
       "      <th>active</th>\n",
       "      <th>reactive</th>\n",
       "      <th>time_diff</th>\n",
       "    </tr>\n",
       "    <tr>\n",
       "      <th>key</th>\n",
       "      <th></th>\n",
       "      <th></th>\n",
       "      <th></th>\n",
       "    </tr>\n",
       "  </thead>\n",
       "  <tbody>\n",
       "    <tr>\n",
       "      <th>1</th>\n",
       "      <td>4.878147</td>\n",
       "      <td>3.183241</td>\n",
       "      <td>1098</td>\n",
       "    </tr>\n",
       "    <tr>\n",
       "      <th>2</th>\n",
       "      <td>3.052598</td>\n",
       "      <td>1.998112</td>\n",
       "      <td>811</td>\n",
       "    </tr>\n",
       "    <tr>\n",
       "      <th>3</th>\n",
       "      <td>2.525882</td>\n",
       "      <td>1.599076</td>\n",
       "      <td>655</td>\n",
       "    </tr>\n",
       "    <tr>\n",
       "      <th>4</th>\n",
       "      <td>3.209250</td>\n",
       "      <td>2.060298</td>\n",
       "      <td>741</td>\n",
       "    </tr>\n",
       "    <tr>\n",
       "      <th>5</th>\n",
       "      <td>3.347173</td>\n",
       "      <td>2.252643</td>\n",
       "      <td>869</td>\n",
       "    </tr>\n",
       "    <tr>\n",
       "      <th>...</th>\n",
       "      <td>...</td>\n",
       "      <td>...</td>\n",
       "      <td>...</td>\n",
       "    </tr>\n",
       "    <tr>\n",
       "      <th>3237</th>\n",
       "      <td>3.932467</td>\n",
       "      <td>2.828459</td>\n",
       "      <td>909</td>\n",
       "    </tr>\n",
       "    <tr>\n",
       "      <th>3238</th>\n",
       "      <td>2.106529</td>\n",
       "      <td>1.681182</td>\n",
       "      <td>546</td>\n",
       "    </tr>\n",
       "    <tr>\n",
       "      <th>3239</th>\n",
       "      <td>4.666754</td>\n",
       "      <td>3.111617</td>\n",
       "      <td>1216</td>\n",
       "    </tr>\n",
       "    <tr>\n",
       "      <th>3240</th>\n",
       "      <td>2.984083</td>\n",
       "      <td>2.483267</td>\n",
       "      <td>839</td>\n",
       "    </tr>\n",
       "    <tr>\n",
       "      <th>3241</th>\n",
       "      <td>2.471447</td>\n",
       "      <td>1.696199</td>\n",
       "      <td>659</td>\n",
       "    </tr>\n",
       "  </tbody>\n",
       "</table>\n",
       "<p>3214 rows × 3 columns</p>\n",
       "</div>"
      ],
      "text/plain": [
       "        active  reactive  time_diff\n",
       "key                                \n",
       "1     4.878147  3.183241       1098\n",
       "2     3.052598  1.998112        811\n",
       "3     2.525882  1.599076        655\n",
       "4     3.209250  2.060298        741\n",
       "5     3.347173  2.252643        869\n",
       "...        ...       ...        ...\n",
       "3237  3.932467  2.828459        909\n",
       "3238  2.106529  1.681182        546\n",
       "3239  4.666754  3.111617       1216\n",
       "3240  2.984083  2.483267        839\n",
       "3241  2.471447  1.696199        659\n",
       "\n",
       "[3214 rows x 3 columns]"
      ]
     },
     "execution_count": 60,
     "metadata": {},
     "output_type": "execute_result"
    }
   ],
   "source": [
    "pt_power = pd.pivot_table(data_arc, index=['key'],\n",
    "                   values=['active', 'reactive', 'time_diff'],\n",
    "                   aggfunc='sum')\n",
    "pt_power"
   ]
  },
  {
   "cell_type": "code",
   "execution_count": 61,
   "id": "93cb82f0",
   "metadata": {},
   "outputs": [],
   "source": [
    "data_arc_tr = pt_power.merge(pt_time, on='key')\n",
    "data_arc_tr = data_arc_tr.drop(['min_end_time', 'max_start_time'], axis=1)"
   ]
  },
  {
   "cell_type": "markdown",
   "id": "d454d6af",
   "metadata": {},
   "source": [
    "Взглянем на свернутую таблицу по электродам."
   ]
  },
  {
   "cell_type": "code",
   "execution_count": 62,
   "id": "a224c638",
   "metadata": {},
   "outputs": [
    {
     "data": {
      "text/html": [
       "<div>\n",
       "<style scoped>\n",
       "    .dataframe tbody tr th:only-of-type {\n",
       "        vertical-align: middle;\n",
       "    }\n",
       "\n",
       "    .dataframe tbody tr th {\n",
       "        vertical-align: top;\n",
       "    }\n",
       "\n",
       "    .dataframe thead th {\n",
       "        text-align: right;\n",
       "    }\n",
       "</style>\n",
       "<table border=\"1\" class=\"dataframe\">\n",
       "  <thead>\n",
       "    <tr style=\"text-align: right;\">\n",
       "      <th></th>\n",
       "      <th>active</th>\n",
       "      <th>reactive</th>\n",
       "      <th>time_diff</th>\n",
       "      <th>min_start_time</th>\n",
       "      <th>max_end_time</th>\n",
       "    </tr>\n",
       "    <tr>\n",
       "      <th>key</th>\n",
       "      <th></th>\n",
       "      <th></th>\n",
       "      <th></th>\n",
       "      <th></th>\n",
       "      <th></th>\n",
       "    </tr>\n",
       "  </thead>\n",
       "  <tbody>\n",
       "    <tr>\n",
       "      <th>1</th>\n",
       "      <td>4.878147</td>\n",
       "      <td>3.183241</td>\n",
       "      <td>1098</td>\n",
       "      <td>2019-05-03 11:02:14</td>\n",
       "      <td>2019-05-03 11:28:37</td>\n",
       "    </tr>\n",
       "    <tr>\n",
       "      <th>2</th>\n",
       "      <td>3.052598</td>\n",
       "      <td>1.998112</td>\n",
       "      <td>811</td>\n",
       "      <td>2019-05-03 11:34:14</td>\n",
       "      <td>2019-05-03 11:53:18</td>\n",
       "    </tr>\n",
       "    <tr>\n",
       "      <th>3</th>\n",
       "      <td>2.525882</td>\n",
       "      <td>1.599076</td>\n",
       "      <td>655</td>\n",
       "      <td>2019-05-03 12:06:54</td>\n",
       "      <td>2019-05-03 12:32:19</td>\n",
       "    </tr>\n",
       "    <tr>\n",
       "      <th>4</th>\n",
       "      <td>3.209250</td>\n",
       "      <td>2.060298</td>\n",
       "      <td>741</td>\n",
       "      <td>2019-05-03 12:39:37</td>\n",
       "      <td>2019-05-03 12:57:50</td>\n",
       "    </tr>\n",
       "    <tr>\n",
       "      <th>5</th>\n",
       "      <td>3.347173</td>\n",
       "      <td>2.252643</td>\n",
       "      <td>869</td>\n",
       "      <td>2019-05-03 13:11:13</td>\n",
       "      <td>2019-05-03 13:33:55</td>\n",
       "    </tr>\n",
       "    <tr>\n",
       "      <th>...</th>\n",
       "      <td>...</td>\n",
       "      <td>...</td>\n",
       "      <td>...</td>\n",
       "      <td>...</td>\n",
       "      <td>...</td>\n",
       "    </tr>\n",
       "    <tr>\n",
       "      <th>3237</th>\n",
       "      <td>3.932467</td>\n",
       "      <td>2.828459</td>\n",
       "      <td>909</td>\n",
       "      <td>2019-08-31 22:41:18</td>\n",
       "      <td>2019-08-31 23:03:48</td>\n",
       "    </tr>\n",
       "    <tr>\n",
       "      <th>3238</th>\n",
       "      <td>2.106529</td>\n",
       "      <td>1.681182</td>\n",
       "      <td>546</td>\n",
       "      <td>2019-08-31 23:26:18</td>\n",
       "      <td>2019-08-31 23:41:28</td>\n",
       "    </tr>\n",
       "    <tr>\n",
       "      <th>3239</th>\n",
       "      <td>4.666754</td>\n",
       "      <td>3.111617</td>\n",
       "      <td>1216</td>\n",
       "      <td>2019-09-01 01:26:53</td>\n",
       "      <td>2019-09-01 02:15:43</td>\n",
       "    </tr>\n",
       "    <tr>\n",
       "      <th>3240</th>\n",
       "      <td>2.984083</td>\n",
       "      <td>2.483267</td>\n",
       "      <td>839</td>\n",
       "      <td>2019-09-01 02:35:24</td>\n",
       "      <td>2019-09-01 03:34:08</td>\n",
       "    </tr>\n",
       "    <tr>\n",
       "      <th>3241</th>\n",
       "      <td>2.471447</td>\n",
       "      <td>1.696199</td>\n",
       "      <td>659</td>\n",
       "      <td>2019-09-01 03:58:58</td>\n",
       "      <td>2019-09-01 04:36:08</td>\n",
       "    </tr>\n",
       "  </tbody>\n",
       "</table>\n",
       "<p>3214 rows × 5 columns</p>\n",
       "</div>"
      ],
      "text/plain": [
       "        active  reactive  time_diff      min_start_time        max_end_time\n",
       "key                                                                        \n",
       "1     4.878147  3.183241       1098 2019-05-03 11:02:14 2019-05-03 11:28:37\n",
       "2     3.052598  1.998112        811 2019-05-03 11:34:14 2019-05-03 11:53:18\n",
       "3     2.525882  1.599076        655 2019-05-03 12:06:54 2019-05-03 12:32:19\n",
       "4     3.209250  2.060298        741 2019-05-03 12:39:37 2019-05-03 12:57:50\n",
       "5     3.347173  2.252643        869 2019-05-03 13:11:13 2019-05-03 13:33:55\n",
       "...        ...       ...        ...                 ...                 ...\n",
       "3237  3.932467  2.828459        909 2019-08-31 22:41:18 2019-08-31 23:03:48\n",
       "3238  2.106529  1.681182        546 2019-08-31 23:26:18 2019-08-31 23:41:28\n",
       "3239  4.666754  3.111617       1216 2019-09-01 01:26:53 2019-09-01 02:15:43\n",
       "3240  2.984083  2.483267        839 2019-09-01 02:35:24 2019-09-01 03:34:08\n",
       "3241  2.471447  1.696199        659 2019-09-01 03:58:58 2019-09-01 04:36:08\n",
       "\n",
       "[3214 rows x 5 columns]"
      ]
     },
     "execution_count": 62,
     "metadata": {},
     "output_type": "execute_result"
    }
   ],
   "source": [
    "data_arc_tr"
   ]
  },
  {
   "cell_type": "markdown",
   "id": "91f6a08c",
   "metadata": {},
   "source": [
    "Преобразуем данные по замерам."
   ]
  },
  {
   "cell_type": "markdown",
   "id": "547a2e6a",
   "metadata": {},
   "source": [
    "Возьмем время начала и время окончания замеров внутри партии и начальную и конечную температуру партии."
   ]
  },
  {
   "cell_type": "code",
   "execution_count": 63,
   "id": "9a254445",
   "metadata": {},
   "outputs": [],
   "source": [
    "data_temp['time'] = pd.to_datetime(data_temp['time'], format='%Y-%m-%d')"
   ]
  },
  {
   "cell_type": "code",
   "execution_count": 64,
   "id": "a3047843",
   "metadata": {},
   "outputs": [
    {
     "data": {
      "text/html": [
       "<div>\n",
       "<style scoped>\n",
       "    .dataframe tbody tr th:only-of-type {\n",
       "        vertical-align: middle;\n",
       "    }\n",
       "\n",
       "    .dataframe tbody tr th {\n",
       "        vertical-align: top;\n",
       "    }\n",
       "\n",
       "    .dataframe thead th {\n",
       "        text-align: right;\n",
       "    }\n",
       "</style>\n",
       "<table border=\"1\" class=\"dataframe\">\n",
       "  <thead>\n",
       "    <tr style=\"text-align: right;\">\n",
       "      <th></th>\n",
       "      <th>min_time</th>\n",
       "      <th>max_time</th>\n",
       "    </tr>\n",
       "    <tr>\n",
       "      <th>key</th>\n",
       "      <th></th>\n",
       "      <th></th>\n",
       "    </tr>\n",
       "  </thead>\n",
       "  <tbody>\n",
       "    <tr>\n",
       "      <th>1</th>\n",
       "      <td>2019-05-03 11:16:18</td>\n",
       "      <td>2019-05-03 11:30:39</td>\n",
       "    </tr>\n",
       "    <tr>\n",
       "      <th>2</th>\n",
       "      <td>2019-05-03 11:37:27</td>\n",
       "      <td>2019-05-03 11:59:12</td>\n",
       "    </tr>\n",
       "    <tr>\n",
       "      <th>3</th>\n",
       "      <td>2019-05-03 12:13:17</td>\n",
       "      <td>2019-05-03 12:34:57</td>\n",
       "    </tr>\n",
       "    <tr>\n",
       "      <th>4</th>\n",
       "      <td>2019-05-03 12:52:57</td>\n",
       "      <td>2019-05-03 12:59:25</td>\n",
       "    </tr>\n",
       "    <tr>\n",
       "      <th>5</th>\n",
       "      <td>2019-05-03 13:23:19</td>\n",
       "      <td>2019-05-03 13:36:01</td>\n",
       "    </tr>\n",
       "    <tr>\n",
       "      <th>...</th>\n",
       "      <td>...</td>\n",
       "      <td>...</td>\n",
       "    </tr>\n",
       "    <tr>\n",
       "      <th>3237</th>\n",
       "      <td>2019-08-31 22:44:04</td>\n",
       "      <td>2019-08-31 22:44:04</td>\n",
       "    </tr>\n",
       "    <tr>\n",
       "      <th>3238</th>\n",
       "      <td>2019-08-31 23:30:31</td>\n",
       "      <td>2019-08-31 23:30:31</td>\n",
       "    </tr>\n",
       "    <tr>\n",
       "      <th>3239</th>\n",
       "      <td>2019-09-01 01:31:47</td>\n",
       "      <td>2019-09-01 01:31:47</td>\n",
       "    </tr>\n",
       "    <tr>\n",
       "      <th>3240</th>\n",
       "      <td>2019-09-01 02:39:01</td>\n",
       "      <td>2019-09-01 02:39:01</td>\n",
       "    </tr>\n",
       "    <tr>\n",
       "      <th>3241</th>\n",
       "      <td>2019-09-01 04:03:30</td>\n",
       "      <td>2019-09-01 04:03:30</td>\n",
       "    </tr>\n",
       "  </tbody>\n",
       "</table>\n",
       "<p>3216 rows × 2 columns</p>\n",
       "</div>"
      ],
      "text/plain": [
       "                min_time            max_time\n",
       "key                                         \n",
       "1    2019-05-03 11:16:18 2019-05-03 11:30:39\n",
       "2    2019-05-03 11:37:27 2019-05-03 11:59:12\n",
       "3    2019-05-03 12:13:17 2019-05-03 12:34:57\n",
       "4    2019-05-03 12:52:57 2019-05-03 12:59:25\n",
       "5    2019-05-03 13:23:19 2019-05-03 13:36:01\n",
       "...                  ...                 ...\n",
       "3237 2019-08-31 22:44:04 2019-08-31 22:44:04\n",
       "3238 2019-08-31 23:30:31 2019-08-31 23:30:31\n",
       "3239 2019-09-01 01:31:47 2019-09-01 01:31:47\n",
       "3240 2019-09-01 02:39:01 2019-09-01 02:39:01\n",
       "3241 2019-09-01 04:03:30 2019-09-01 04:03:30\n",
       "\n",
       "[3216 rows x 2 columns]"
      ]
     },
     "execution_count": 64,
     "metadata": {},
     "output_type": "execute_result"
    }
   ],
   "source": [
    "pt_time_temp= pd.pivot_table(data_temp, index=['key'],\n",
    "                   values=['time'],\n",
    "                   aggfunc=['min', 'max'])\n",
    "pt_time_temp.columns = ['min_time', 'max_time']\n",
    "pt_time_temp"
   ]
  },
  {
   "cell_type": "code",
   "execution_count": 65,
   "id": "b6ff6c36",
   "metadata": {},
   "outputs": [
    {
     "data": {
      "text/html": [
       "<div>\n",
       "<style scoped>\n",
       "    .dataframe tbody tr th:only-of-type {\n",
       "        vertical-align: middle;\n",
       "    }\n",
       "\n",
       "    .dataframe tbody tr th {\n",
       "        vertical-align: top;\n",
       "    }\n",
       "\n",
       "    .dataframe thead th {\n",
       "        text-align: right;\n",
       "    }\n",
       "</style>\n",
       "<table border=\"1\" class=\"dataframe\">\n",
       "  <thead>\n",
       "    <tr style=\"text-align: right;\">\n",
       "      <th></th>\n",
       "      <th>start_temp</th>\n",
       "      <th>end_temp</th>\n",
       "    </tr>\n",
       "    <tr>\n",
       "      <th>key</th>\n",
       "      <th></th>\n",
       "      <th></th>\n",
       "    </tr>\n",
       "  </thead>\n",
       "  <tbody>\n",
       "    <tr>\n",
       "      <th>1</th>\n",
       "      <td>1571.0</td>\n",
       "      <td>1613.0</td>\n",
       "    </tr>\n",
       "    <tr>\n",
       "      <th>2</th>\n",
       "      <td>1581.0</td>\n",
       "      <td>1602.0</td>\n",
       "    </tr>\n",
       "    <tr>\n",
       "      <th>3</th>\n",
       "      <td>1596.0</td>\n",
       "      <td>1599.0</td>\n",
       "    </tr>\n",
       "    <tr>\n",
       "      <th>4</th>\n",
       "      <td>1601.0</td>\n",
       "      <td>1625.0</td>\n",
       "    </tr>\n",
       "    <tr>\n",
       "      <th>5</th>\n",
       "      <td>1576.0</td>\n",
       "      <td>1602.0</td>\n",
       "    </tr>\n",
       "    <tr>\n",
       "      <th>...</th>\n",
       "      <td>...</td>\n",
       "      <td>...</td>\n",
       "    </tr>\n",
       "    <tr>\n",
       "      <th>3237</th>\n",
       "      <td>1569.0</td>\n",
       "      <td>1569.0</td>\n",
       "    </tr>\n",
       "    <tr>\n",
       "      <th>3238</th>\n",
       "      <td>1584.0</td>\n",
       "      <td>1584.0</td>\n",
       "    </tr>\n",
       "    <tr>\n",
       "      <th>3239</th>\n",
       "      <td>1598.0</td>\n",
       "      <td>1598.0</td>\n",
       "    </tr>\n",
       "    <tr>\n",
       "      <th>3240</th>\n",
       "      <td>1617.0</td>\n",
       "      <td>1617.0</td>\n",
       "    </tr>\n",
       "    <tr>\n",
       "      <th>3241</th>\n",
       "      <td>1586.0</td>\n",
       "      <td>1586.0</td>\n",
       "    </tr>\n",
       "  </tbody>\n",
       "</table>\n",
       "<p>3216 rows × 2 columns</p>\n",
       "</div>"
      ],
      "text/plain": [
       "      start_temp  end_temp\n",
       "key                       \n",
       "1         1571.0    1613.0\n",
       "2         1581.0    1602.0\n",
       "3         1596.0    1599.0\n",
       "4         1601.0    1625.0\n",
       "5         1576.0    1602.0\n",
       "...          ...       ...\n",
       "3237      1569.0    1569.0\n",
       "3238      1584.0    1584.0\n",
       "3239      1598.0    1598.0\n",
       "3240      1617.0    1617.0\n",
       "3241      1586.0    1586.0\n",
       "\n",
       "[3216 rows x 2 columns]"
      ]
     },
     "execution_count": 65,
     "metadata": {},
     "output_type": "execute_result"
    }
   ],
   "source": [
    "pt_time_temp1 = pd.pivot_table(data_temp, index=['key'],\n",
    "                   values=['temperature'],\n",
    "                   aggfunc=['first', 'last'])\n",
    "pt_time_temp1.columns = ['start_temp', 'end_temp']\n",
    "pt_time_temp1"
   ]
  },
  {
   "cell_type": "markdown",
   "id": "299a1210",
   "metadata": {},
   "source": [
    "Взглянем на итоговую таблицу по измерению температуры."
   ]
  },
  {
   "cell_type": "code",
   "execution_count": 66,
   "id": "5a30de97",
   "metadata": {},
   "outputs": [
    {
     "data": {
      "text/html": [
       "<div>\n",
       "<style scoped>\n",
       "    .dataframe tbody tr th:only-of-type {\n",
       "        vertical-align: middle;\n",
       "    }\n",
       "\n",
       "    .dataframe tbody tr th {\n",
       "        vertical-align: top;\n",
       "    }\n",
       "\n",
       "    .dataframe thead th {\n",
       "        text-align: right;\n",
       "    }\n",
       "</style>\n",
       "<table border=\"1\" class=\"dataframe\">\n",
       "  <thead>\n",
       "    <tr style=\"text-align: right;\">\n",
       "      <th></th>\n",
       "      <th>min_time</th>\n",
       "      <th>max_time</th>\n",
       "      <th>start_temp</th>\n",
       "      <th>end_temp</th>\n",
       "    </tr>\n",
       "    <tr>\n",
       "      <th>key</th>\n",
       "      <th></th>\n",
       "      <th></th>\n",
       "      <th></th>\n",
       "      <th></th>\n",
       "    </tr>\n",
       "  </thead>\n",
       "  <tbody>\n",
       "    <tr>\n",
       "      <th>1</th>\n",
       "      <td>2019-05-03 11:16:18</td>\n",
       "      <td>2019-05-03 11:30:39</td>\n",
       "      <td>1571.0</td>\n",
       "      <td>1613.0</td>\n",
       "    </tr>\n",
       "    <tr>\n",
       "      <th>2</th>\n",
       "      <td>2019-05-03 11:37:27</td>\n",
       "      <td>2019-05-03 11:59:12</td>\n",
       "      <td>1581.0</td>\n",
       "      <td>1602.0</td>\n",
       "    </tr>\n",
       "    <tr>\n",
       "      <th>3</th>\n",
       "      <td>2019-05-03 12:13:17</td>\n",
       "      <td>2019-05-03 12:34:57</td>\n",
       "      <td>1596.0</td>\n",
       "      <td>1599.0</td>\n",
       "    </tr>\n",
       "    <tr>\n",
       "      <th>4</th>\n",
       "      <td>2019-05-03 12:52:57</td>\n",
       "      <td>2019-05-03 12:59:25</td>\n",
       "      <td>1601.0</td>\n",
       "      <td>1625.0</td>\n",
       "    </tr>\n",
       "    <tr>\n",
       "      <th>5</th>\n",
       "      <td>2019-05-03 13:23:19</td>\n",
       "      <td>2019-05-03 13:36:01</td>\n",
       "      <td>1576.0</td>\n",
       "      <td>1602.0</td>\n",
       "    </tr>\n",
       "    <tr>\n",
       "      <th>...</th>\n",
       "      <td>...</td>\n",
       "      <td>...</td>\n",
       "      <td>...</td>\n",
       "      <td>...</td>\n",
       "    </tr>\n",
       "    <tr>\n",
       "      <th>3237</th>\n",
       "      <td>2019-08-31 22:44:04</td>\n",
       "      <td>2019-08-31 22:44:04</td>\n",
       "      <td>1569.0</td>\n",
       "      <td>1569.0</td>\n",
       "    </tr>\n",
       "    <tr>\n",
       "      <th>3238</th>\n",
       "      <td>2019-08-31 23:30:31</td>\n",
       "      <td>2019-08-31 23:30:31</td>\n",
       "      <td>1584.0</td>\n",
       "      <td>1584.0</td>\n",
       "    </tr>\n",
       "    <tr>\n",
       "      <th>3239</th>\n",
       "      <td>2019-09-01 01:31:47</td>\n",
       "      <td>2019-09-01 01:31:47</td>\n",
       "      <td>1598.0</td>\n",
       "      <td>1598.0</td>\n",
       "    </tr>\n",
       "    <tr>\n",
       "      <th>3240</th>\n",
       "      <td>2019-09-01 02:39:01</td>\n",
       "      <td>2019-09-01 02:39:01</td>\n",
       "      <td>1617.0</td>\n",
       "      <td>1617.0</td>\n",
       "    </tr>\n",
       "    <tr>\n",
       "      <th>3241</th>\n",
       "      <td>2019-09-01 04:03:30</td>\n",
       "      <td>2019-09-01 04:03:30</td>\n",
       "      <td>1586.0</td>\n",
       "      <td>1586.0</td>\n",
       "    </tr>\n",
       "  </tbody>\n",
       "</table>\n",
       "<p>3216 rows × 4 columns</p>\n",
       "</div>"
      ],
      "text/plain": [
       "                min_time            max_time  start_temp  end_temp\n",
       "key                                                               \n",
       "1    2019-05-03 11:16:18 2019-05-03 11:30:39      1571.0    1613.0\n",
       "2    2019-05-03 11:37:27 2019-05-03 11:59:12      1581.0    1602.0\n",
       "3    2019-05-03 12:13:17 2019-05-03 12:34:57      1596.0    1599.0\n",
       "4    2019-05-03 12:52:57 2019-05-03 12:59:25      1601.0    1625.0\n",
       "5    2019-05-03 13:23:19 2019-05-03 13:36:01      1576.0    1602.0\n",
       "...                  ...                 ...         ...       ...\n",
       "3237 2019-08-31 22:44:04 2019-08-31 22:44:04      1569.0    1569.0\n",
       "3238 2019-08-31 23:30:31 2019-08-31 23:30:31      1584.0    1584.0\n",
       "3239 2019-09-01 01:31:47 2019-09-01 01:31:47      1598.0    1598.0\n",
       "3240 2019-09-01 02:39:01 2019-09-01 02:39:01      1617.0    1617.0\n",
       "3241 2019-09-01 04:03:30 2019-09-01 04:03:30      1586.0    1586.0\n",
       "\n",
       "[3216 rows x 4 columns]"
      ]
     },
     "execution_count": 66,
     "metadata": {},
     "output_type": "execute_result"
    }
   ],
   "source": [
    "data_temp_tr = pt_time_temp.merge(pt_time_temp1, on='key')\n",
    "data_temp_tr"
   ]
  },
  {
   "cell_type": "markdown",
   "id": "6c8e6e4b",
   "metadata": {},
   "source": [
    "Видно, что для некоторых партий был всего один замер времени (например, 3237, 3238), такие партии бесполезны для исследования.\n",
    "Также в некоторых случаях время последнего замера раньше, чем время окончания работы электродов - такие данные тоже не валидны."
   ]
  },
  {
   "cell_type": "code",
   "execution_count": 67,
   "id": "2f856b90",
   "metadata": {},
   "outputs": [
    {
     "data": {
      "text/html": [
       "<div>\n",
       "<style scoped>\n",
       "    .dataframe tbody tr th:only-of-type {\n",
       "        vertical-align: middle;\n",
       "    }\n",
       "\n",
       "    .dataframe tbody tr th {\n",
       "        vertical-align: top;\n",
       "    }\n",
       "\n",
       "    .dataframe thead th {\n",
       "        text-align: right;\n",
       "    }\n",
       "</style>\n",
       "<table border=\"1\" class=\"dataframe\">\n",
       "  <thead>\n",
       "    <tr style=\"text-align: right;\">\n",
       "      <th></th>\n",
       "      <th>active</th>\n",
       "      <th>reactive</th>\n",
       "      <th>time_diff</th>\n",
       "      <th>min_start_time</th>\n",
       "      <th>max_end_time</th>\n",
       "      <th>min_time</th>\n",
       "      <th>max_time</th>\n",
       "      <th>start_temp</th>\n",
       "      <th>end_temp</th>\n",
       "    </tr>\n",
       "    <tr>\n",
       "      <th>key</th>\n",
       "      <th></th>\n",
       "      <th></th>\n",
       "      <th></th>\n",
       "      <th></th>\n",
       "      <th></th>\n",
       "      <th></th>\n",
       "      <th></th>\n",
       "      <th></th>\n",
       "      <th></th>\n",
       "    </tr>\n",
       "  </thead>\n",
       "  <tbody>\n",
       "    <tr>\n",
       "      <th>1</th>\n",
       "      <td>4.878147</td>\n",
       "      <td>3.183241</td>\n",
       "      <td>1098</td>\n",
       "      <td>2019-05-03 11:02:14</td>\n",
       "      <td>2019-05-03 11:28:37</td>\n",
       "      <td>2019-05-03 11:16:18</td>\n",
       "      <td>2019-05-03 11:30:39</td>\n",
       "      <td>1571.0</td>\n",
       "      <td>1613.0</td>\n",
       "    </tr>\n",
       "    <tr>\n",
       "      <th>2</th>\n",
       "      <td>3.052598</td>\n",
       "      <td>1.998112</td>\n",
       "      <td>811</td>\n",
       "      <td>2019-05-03 11:34:14</td>\n",
       "      <td>2019-05-03 11:53:18</td>\n",
       "      <td>2019-05-03 11:37:27</td>\n",
       "      <td>2019-05-03 11:59:12</td>\n",
       "      <td>1581.0</td>\n",
       "      <td>1602.0</td>\n",
       "    </tr>\n",
       "    <tr>\n",
       "      <th>3</th>\n",
       "      <td>2.525882</td>\n",
       "      <td>1.599076</td>\n",
       "      <td>655</td>\n",
       "      <td>2019-05-03 12:06:54</td>\n",
       "      <td>2019-05-03 12:32:19</td>\n",
       "      <td>2019-05-03 12:13:17</td>\n",
       "      <td>2019-05-03 12:34:57</td>\n",
       "      <td>1596.0</td>\n",
       "      <td>1599.0</td>\n",
       "    </tr>\n",
       "    <tr>\n",
       "      <th>4</th>\n",
       "      <td>3.209250</td>\n",
       "      <td>2.060298</td>\n",
       "      <td>741</td>\n",
       "      <td>2019-05-03 12:39:37</td>\n",
       "      <td>2019-05-03 12:57:50</td>\n",
       "      <td>2019-05-03 12:52:57</td>\n",
       "      <td>2019-05-03 12:59:25</td>\n",
       "      <td>1601.0</td>\n",
       "      <td>1625.0</td>\n",
       "    </tr>\n",
       "    <tr>\n",
       "      <th>5</th>\n",
       "      <td>3.347173</td>\n",
       "      <td>2.252643</td>\n",
       "      <td>869</td>\n",
       "      <td>2019-05-03 13:11:13</td>\n",
       "      <td>2019-05-03 13:33:55</td>\n",
       "      <td>2019-05-03 13:23:19</td>\n",
       "      <td>2019-05-03 13:36:01</td>\n",
       "      <td>1576.0</td>\n",
       "      <td>1602.0</td>\n",
       "    </tr>\n",
       "    <tr>\n",
       "      <th>...</th>\n",
       "      <td>...</td>\n",
       "      <td>...</td>\n",
       "      <td>...</td>\n",
       "      <td>...</td>\n",
       "      <td>...</td>\n",
       "      <td>...</td>\n",
       "      <td>...</td>\n",
       "      <td>...</td>\n",
       "      <td>...</td>\n",
       "    </tr>\n",
       "    <tr>\n",
       "      <th>2495</th>\n",
       "      <td>3.210690</td>\n",
       "      <td>2.360777</td>\n",
       "      <td>723</td>\n",
       "      <td>2019-08-06 00:31:05</td>\n",
       "      <td>2019-08-06 00:51:13</td>\n",
       "      <td>2019-08-06 00:35:45</td>\n",
       "      <td>2019-08-06 00:54:42</td>\n",
       "      <td>1570.0</td>\n",
       "      <td>1591.0</td>\n",
       "    </tr>\n",
       "    <tr>\n",
       "      <th>2496</th>\n",
       "      <td>4.203064</td>\n",
       "      <td>2.810185</td>\n",
       "      <td>940</td>\n",
       "      <td>2019-08-06 01:00:06</td>\n",
       "      <td>2019-08-06 01:23:32</td>\n",
       "      <td>2019-08-06 01:02:54</td>\n",
       "      <td>2019-08-06 01:29:52</td>\n",
       "      <td>1554.0</td>\n",
       "      <td>1591.0</td>\n",
       "    </tr>\n",
       "    <tr>\n",
       "      <th>2497</th>\n",
       "      <td>2.212379</td>\n",
       "      <td>1.851269</td>\n",
       "      <td>569</td>\n",
       "      <td>2019-08-06 01:38:01</td>\n",
       "      <td>2019-08-06 01:50:45</td>\n",
       "      <td>2019-08-06 01:41:53</td>\n",
       "      <td>2019-08-06 01:53:50</td>\n",
       "      <td>1571.0</td>\n",
       "      <td>1589.0</td>\n",
       "    </tr>\n",
       "    <tr>\n",
       "      <th>2498</th>\n",
       "      <td>3.408725</td>\n",
       "      <td>2.355428</td>\n",
       "      <td>750</td>\n",
       "      <td>2019-08-06 01:57:46</td>\n",
       "      <td>2019-08-06 02:20:24</td>\n",
       "      <td>2019-08-06 02:03:49</td>\n",
       "      <td>2019-08-06 02:25:31</td>\n",
       "      <td>1591.0</td>\n",
       "      <td>1594.0</td>\n",
       "    </tr>\n",
       "    <tr>\n",
       "      <th>2499</th>\n",
       "      <td>4.098431</td>\n",
       "      <td>2.777865</td>\n",
       "      <td>883</td>\n",
       "      <td>2019-08-06 02:32:56</td>\n",
       "      <td>2019-08-06 02:55:42</td>\n",
       "      <td>2019-08-06 02:40:25</td>\n",
       "      <td>2019-08-06 03:00:28</td>\n",
       "      <td>1569.0</td>\n",
       "      <td>1603.0</td>\n",
       "    </tr>\n",
       "  </tbody>\n",
       "</table>\n",
       "<p>2433 rows × 9 columns</p>\n",
       "</div>"
      ],
      "text/plain": [
       "        active  reactive  time_diff      min_start_time        max_end_time  \\\n",
       "key                                                                           \n",
       "1     4.878147  3.183241       1098 2019-05-03 11:02:14 2019-05-03 11:28:37   \n",
       "2     3.052598  1.998112        811 2019-05-03 11:34:14 2019-05-03 11:53:18   \n",
       "3     2.525882  1.599076        655 2019-05-03 12:06:54 2019-05-03 12:32:19   \n",
       "4     3.209250  2.060298        741 2019-05-03 12:39:37 2019-05-03 12:57:50   \n",
       "5     3.347173  2.252643        869 2019-05-03 13:11:13 2019-05-03 13:33:55   \n",
       "...        ...       ...        ...                 ...                 ...   \n",
       "2495  3.210690  2.360777        723 2019-08-06 00:31:05 2019-08-06 00:51:13   \n",
       "2496  4.203064  2.810185        940 2019-08-06 01:00:06 2019-08-06 01:23:32   \n",
       "2497  2.212379  1.851269        569 2019-08-06 01:38:01 2019-08-06 01:50:45   \n",
       "2498  3.408725  2.355428        750 2019-08-06 01:57:46 2019-08-06 02:20:24   \n",
       "2499  4.098431  2.777865        883 2019-08-06 02:32:56 2019-08-06 02:55:42   \n",
       "\n",
       "                min_time            max_time  start_temp  end_temp  \n",
       "key                                                                 \n",
       "1    2019-05-03 11:16:18 2019-05-03 11:30:39      1571.0    1613.0  \n",
       "2    2019-05-03 11:37:27 2019-05-03 11:59:12      1581.0    1602.0  \n",
       "3    2019-05-03 12:13:17 2019-05-03 12:34:57      1596.0    1599.0  \n",
       "4    2019-05-03 12:52:57 2019-05-03 12:59:25      1601.0    1625.0  \n",
       "5    2019-05-03 13:23:19 2019-05-03 13:36:01      1576.0    1602.0  \n",
       "...                  ...                 ...         ...       ...  \n",
       "2495 2019-08-06 00:35:45 2019-08-06 00:54:42      1570.0    1591.0  \n",
       "2496 2019-08-06 01:02:54 2019-08-06 01:29:52      1554.0    1591.0  \n",
       "2497 2019-08-06 01:41:53 2019-08-06 01:53:50      1571.0    1589.0  \n",
       "2498 2019-08-06 02:03:49 2019-08-06 02:25:31      1591.0    1594.0  \n",
       "2499 2019-08-06 02:40:25 2019-08-06 03:00:28      1569.0    1603.0  \n",
       "\n",
       "[2433 rows x 9 columns]"
      ]
     },
     "execution_count": 67,
     "metadata": {},
     "output_type": "execute_result"
    }
   ],
   "source": [
    "date_arc_temp = data_arc_tr.merge(data_temp_tr, on='key') # смерджим таблицы\n",
    "date_arc_temp = date_arc_temp.query('min_time != max_time') # удаляем строки, где совпадает время начала и окончания замера\n",
    "date_arc_temp = date_arc_temp.query('start_temp != end_temp') # удаляем строки, где совпадает температура начала и окончания замера\n",
    "date_arc_temp"
   ]
  },
  {
   "cell_type": "code",
   "execution_count": 68,
   "id": "d09c748c",
   "metadata": {},
   "outputs": [],
   "source": [
    "date_arc_temp = date_arc_temp.drop(['min_start_time', 'max_end_time', 'min_time', 'max_time'], axis=1)"
   ]
  },
  {
   "cell_type": "code",
   "execution_count": 69,
   "id": "7aebf830",
   "metadata": {},
   "outputs": [
    {
     "data": {
      "text/html": [
       "<div>\n",
       "<style scoped>\n",
       "    .dataframe tbody tr th:only-of-type {\n",
       "        vertical-align: middle;\n",
       "    }\n",
       "\n",
       "    .dataframe tbody tr th {\n",
       "        vertical-align: top;\n",
       "    }\n",
       "\n",
       "    .dataframe thead th {\n",
       "        text-align: right;\n",
       "    }\n",
       "</style>\n",
       "<table border=\"1\" class=\"dataframe\">\n",
       "  <thead>\n",
       "    <tr style=\"text-align: right;\">\n",
       "      <th></th>\n",
       "      <th>active</th>\n",
       "      <th>reactive</th>\n",
       "      <th>time_diff</th>\n",
       "      <th>start_temp</th>\n",
       "      <th>end_temp</th>\n",
       "    </tr>\n",
       "    <tr>\n",
       "      <th>key</th>\n",
       "      <th></th>\n",
       "      <th></th>\n",
       "      <th></th>\n",
       "      <th></th>\n",
       "      <th></th>\n",
       "    </tr>\n",
       "  </thead>\n",
       "  <tbody>\n",
       "    <tr>\n",
       "      <th>1</th>\n",
       "      <td>4.878147</td>\n",
       "      <td>3.183241</td>\n",
       "      <td>1098</td>\n",
       "      <td>1571.0</td>\n",
       "      <td>1613.0</td>\n",
       "    </tr>\n",
       "    <tr>\n",
       "      <th>2</th>\n",
       "      <td>3.052598</td>\n",
       "      <td>1.998112</td>\n",
       "      <td>811</td>\n",
       "      <td>1581.0</td>\n",
       "      <td>1602.0</td>\n",
       "    </tr>\n",
       "    <tr>\n",
       "      <th>3</th>\n",
       "      <td>2.525882</td>\n",
       "      <td>1.599076</td>\n",
       "      <td>655</td>\n",
       "      <td>1596.0</td>\n",
       "      <td>1599.0</td>\n",
       "    </tr>\n",
       "    <tr>\n",
       "      <th>4</th>\n",
       "      <td>3.209250</td>\n",
       "      <td>2.060298</td>\n",
       "      <td>741</td>\n",
       "      <td>1601.0</td>\n",
       "      <td>1625.0</td>\n",
       "    </tr>\n",
       "    <tr>\n",
       "      <th>5</th>\n",
       "      <td>3.347173</td>\n",
       "      <td>2.252643</td>\n",
       "      <td>869</td>\n",
       "      <td>1576.0</td>\n",
       "      <td>1602.0</td>\n",
       "    </tr>\n",
       "    <tr>\n",
       "      <th>...</th>\n",
       "      <td>...</td>\n",
       "      <td>...</td>\n",
       "      <td>...</td>\n",
       "      <td>...</td>\n",
       "      <td>...</td>\n",
       "    </tr>\n",
       "    <tr>\n",
       "      <th>2495</th>\n",
       "      <td>3.210690</td>\n",
       "      <td>2.360777</td>\n",
       "      <td>723</td>\n",
       "      <td>1570.0</td>\n",
       "      <td>1591.0</td>\n",
       "    </tr>\n",
       "    <tr>\n",
       "      <th>2496</th>\n",
       "      <td>4.203064</td>\n",
       "      <td>2.810185</td>\n",
       "      <td>940</td>\n",
       "      <td>1554.0</td>\n",
       "      <td>1591.0</td>\n",
       "    </tr>\n",
       "    <tr>\n",
       "      <th>2497</th>\n",
       "      <td>2.212379</td>\n",
       "      <td>1.851269</td>\n",
       "      <td>569</td>\n",
       "      <td>1571.0</td>\n",
       "      <td>1589.0</td>\n",
       "    </tr>\n",
       "    <tr>\n",
       "      <th>2498</th>\n",
       "      <td>3.408725</td>\n",
       "      <td>2.355428</td>\n",
       "      <td>750</td>\n",
       "      <td>1591.0</td>\n",
       "      <td>1594.0</td>\n",
       "    </tr>\n",
       "    <tr>\n",
       "      <th>2499</th>\n",
       "      <td>4.098431</td>\n",
       "      <td>2.777865</td>\n",
       "      <td>883</td>\n",
       "      <td>1569.0</td>\n",
       "      <td>1603.0</td>\n",
       "    </tr>\n",
       "  </tbody>\n",
       "</table>\n",
       "<p>2433 rows × 5 columns</p>\n",
       "</div>"
      ],
      "text/plain": [
       "        active  reactive  time_diff  start_temp  end_temp\n",
       "key                                                      \n",
       "1     4.878147  3.183241       1098      1571.0    1613.0\n",
       "2     3.052598  1.998112        811      1581.0    1602.0\n",
       "3     2.525882  1.599076        655      1596.0    1599.0\n",
       "4     3.209250  2.060298        741      1601.0    1625.0\n",
       "5     3.347173  2.252643        869      1576.0    1602.0\n",
       "...        ...       ...        ...         ...       ...\n",
       "2495  3.210690  2.360777        723      1570.0    1591.0\n",
       "2496  4.203064  2.810185        940      1554.0    1591.0\n",
       "2497  2.212379  1.851269        569      1571.0    1589.0\n",
       "2498  3.408725  2.355428        750      1591.0    1594.0\n",
       "2499  4.098431  2.777865        883      1569.0    1603.0\n",
       "\n",
       "[2433 rows x 5 columns]"
      ]
     },
     "execution_count": 69,
     "metadata": {},
     "output_type": "execute_result"
    }
   ],
   "source": [
    "date_arc_temp"
   ]
  },
  {
   "cell_type": "markdown",
   "id": "75c651a2",
   "metadata": {},
   "source": [
    "Теперь можно присоединить остальные таблицы."
   ]
  },
  {
   "cell_type": "code",
   "execution_count": 70,
   "id": "b46fb8fa",
   "metadata": {},
   "outputs": [
    {
     "data": {
      "text/html": [
       "<div>\n",
       "<style scoped>\n",
       "    .dataframe tbody tr th:only-of-type {\n",
       "        vertical-align: middle;\n",
       "    }\n",
       "\n",
       "    .dataframe tbody tr th {\n",
       "        vertical-align: top;\n",
       "    }\n",
       "\n",
       "    .dataframe thead th {\n",
       "        text-align: right;\n",
       "    }\n",
       "</style>\n",
       "<table border=\"1\" class=\"dataframe\">\n",
       "  <thead>\n",
       "    <tr style=\"text-align: right;\">\n",
       "      <th></th>\n",
       "      <th>key</th>\n",
       "      <th>active</th>\n",
       "      <th>reactive</th>\n",
       "      <th>time_diff</th>\n",
       "      <th>start_temp</th>\n",
       "      <th>end_temp</th>\n",
       "      <th>bulk_1</th>\n",
       "      <th>bulk_2</th>\n",
       "      <th>bulk_3</th>\n",
       "      <th>bulk_4</th>\n",
       "      <th>...</th>\n",
       "      <th>gas_1</th>\n",
       "      <th>wire_1</th>\n",
       "      <th>wire_2</th>\n",
       "      <th>wire_3</th>\n",
       "      <th>wire_4</th>\n",
       "      <th>wire_5</th>\n",
       "      <th>wire_6</th>\n",
       "      <th>wire_7</th>\n",
       "      <th>wire_8</th>\n",
       "      <th>wire_9</th>\n",
       "    </tr>\n",
       "  </thead>\n",
       "  <tbody>\n",
       "    <tr>\n",
       "      <th>0</th>\n",
       "      <td>1</td>\n",
       "      <td>4.878147</td>\n",
       "      <td>3.183241</td>\n",
       "      <td>1098</td>\n",
       "      <td>1571.0</td>\n",
       "      <td>1613.0</td>\n",
       "      <td>NaN</td>\n",
       "      <td>NaN</td>\n",
       "      <td>NaN</td>\n",
       "      <td>43.0</td>\n",
       "      <td>...</td>\n",
       "      <td>29.749986</td>\n",
       "      <td>60.059998</td>\n",
       "      <td>NaN</td>\n",
       "      <td>NaN</td>\n",
       "      <td>NaN</td>\n",
       "      <td>NaN</td>\n",
       "      <td>NaN</td>\n",
       "      <td>NaN</td>\n",
       "      <td>NaN</td>\n",
       "      <td>NaN</td>\n",
       "    </tr>\n",
       "    <tr>\n",
       "      <th>1</th>\n",
       "      <td>2</td>\n",
       "      <td>3.052598</td>\n",
       "      <td>1.998112</td>\n",
       "      <td>811</td>\n",
       "      <td>1581.0</td>\n",
       "      <td>1602.0</td>\n",
       "      <td>NaN</td>\n",
       "      <td>NaN</td>\n",
       "      <td>NaN</td>\n",
       "      <td>73.0</td>\n",
       "      <td>...</td>\n",
       "      <td>12.555561</td>\n",
       "      <td>96.052315</td>\n",
       "      <td>NaN</td>\n",
       "      <td>NaN</td>\n",
       "      <td>NaN</td>\n",
       "      <td>NaN</td>\n",
       "      <td>NaN</td>\n",
       "      <td>NaN</td>\n",
       "      <td>NaN</td>\n",
       "      <td>NaN</td>\n",
       "    </tr>\n",
       "    <tr>\n",
       "      <th>2</th>\n",
       "      <td>3</td>\n",
       "      <td>2.525882</td>\n",
       "      <td>1.599076</td>\n",
       "      <td>655</td>\n",
       "      <td>1596.0</td>\n",
       "      <td>1599.0</td>\n",
       "      <td>NaN</td>\n",
       "      <td>NaN</td>\n",
       "      <td>NaN</td>\n",
       "      <td>34.0</td>\n",
       "      <td>...</td>\n",
       "      <td>28.554793</td>\n",
       "      <td>91.160157</td>\n",
       "      <td>NaN</td>\n",
       "      <td>NaN</td>\n",
       "      <td>NaN</td>\n",
       "      <td>NaN</td>\n",
       "      <td>NaN</td>\n",
       "      <td>NaN</td>\n",
       "      <td>NaN</td>\n",
       "      <td>NaN</td>\n",
       "    </tr>\n",
       "    <tr>\n",
       "      <th>3</th>\n",
       "      <td>4</td>\n",
       "      <td>3.209250</td>\n",
       "      <td>2.060298</td>\n",
       "      <td>741</td>\n",
       "      <td>1601.0</td>\n",
       "      <td>1625.0</td>\n",
       "      <td>NaN</td>\n",
       "      <td>NaN</td>\n",
       "      <td>NaN</td>\n",
       "      <td>81.0</td>\n",
       "      <td>...</td>\n",
       "      <td>18.841219</td>\n",
       "      <td>89.063515</td>\n",
       "      <td>NaN</td>\n",
       "      <td>NaN</td>\n",
       "      <td>NaN</td>\n",
       "      <td>NaN</td>\n",
       "      <td>NaN</td>\n",
       "      <td>NaN</td>\n",
       "      <td>NaN</td>\n",
       "      <td>NaN</td>\n",
       "    </tr>\n",
       "    <tr>\n",
       "      <th>4</th>\n",
       "      <td>5</td>\n",
       "      <td>3.347173</td>\n",
       "      <td>2.252643</td>\n",
       "      <td>869</td>\n",
       "      <td>1576.0</td>\n",
       "      <td>1602.0</td>\n",
       "      <td>NaN</td>\n",
       "      <td>NaN</td>\n",
       "      <td>NaN</td>\n",
       "      <td>78.0</td>\n",
       "      <td>...</td>\n",
       "      <td>5.413692</td>\n",
       "      <td>89.238236</td>\n",
       "      <td>9.11456</td>\n",
       "      <td>NaN</td>\n",
       "      <td>NaN</td>\n",
       "      <td>NaN</td>\n",
       "      <td>NaN</td>\n",
       "      <td>NaN</td>\n",
       "      <td>NaN</td>\n",
       "      <td>NaN</td>\n",
       "    </tr>\n",
       "    <tr>\n",
       "      <th>...</th>\n",
       "      <td>...</td>\n",
       "      <td>...</td>\n",
       "      <td>...</td>\n",
       "      <td>...</td>\n",
       "      <td>...</td>\n",
       "      <td>...</td>\n",
       "      <td>...</td>\n",
       "      <td>...</td>\n",
       "      <td>...</td>\n",
       "      <td>...</td>\n",
       "      <td>...</td>\n",
       "      <td>...</td>\n",
       "      <td>...</td>\n",
       "      <td>...</td>\n",
       "      <td>...</td>\n",
       "      <td>...</td>\n",
       "      <td>...</td>\n",
       "      <td>...</td>\n",
       "      <td>...</td>\n",
       "      <td>...</td>\n",
       "      <td>...</td>\n",
       "    </tr>\n",
       "    <tr>\n",
       "      <th>2288</th>\n",
       "      <td>2495</td>\n",
       "      <td>3.210690</td>\n",
       "      <td>2.360777</td>\n",
       "      <td>723</td>\n",
       "      <td>1570.0</td>\n",
       "      <td>1591.0</td>\n",
       "      <td>NaN</td>\n",
       "      <td>NaN</td>\n",
       "      <td>21.0</td>\n",
       "      <td>NaN</td>\n",
       "      <td>...</td>\n",
       "      <td>7.125735</td>\n",
       "      <td>89.150879</td>\n",
       "      <td>NaN</td>\n",
       "      <td>NaN</td>\n",
       "      <td>NaN</td>\n",
       "      <td>NaN</td>\n",
       "      <td>NaN</td>\n",
       "      <td>NaN</td>\n",
       "      <td>NaN</td>\n",
       "      <td>NaN</td>\n",
       "    </tr>\n",
       "    <tr>\n",
       "      <th>2289</th>\n",
       "      <td>2496</td>\n",
       "      <td>4.203064</td>\n",
       "      <td>2.810185</td>\n",
       "      <td>940</td>\n",
       "      <td>1554.0</td>\n",
       "      <td>1591.0</td>\n",
       "      <td>NaN</td>\n",
       "      <td>NaN</td>\n",
       "      <td>NaN</td>\n",
       "      <td>63.0</td>\n",
       "      <td>...</td>\n",
       "      <td>9.412616</td>\n",
       "      <td>114.179527</td>\n",
       "      <td>NaN</td>\n",
       "      <td>NaN</td>\n",
       "      <td>NaN</td>\n",
       "      <td>NaN</td>\n",
       "      <td>NaN</td>\n",
       "      <td>NaN</td>\n",
       "      <td>NaN</td>\n",
       "      <td>NaN</td>\n",
       "    </tr>\n",
       "    <tr>\n",
       "      <th>2290</th>\n",
       "      <td>2497</td>\n",
       "      <td>2.212379</td>\n",
       "      <td>1.851269</td>\n",
       "      <td>569</td>\n",
       "      <td>1571.0</td>\n",
       "      <td>1589.0</td>\n",
       "      <td>NaN</td>\n",
       "      <td>NaN</td>\n",
       "      <td>NaN</td>\n",
       "      <td>85.0</td>\n",
       "      <td>...</td>\n",
       "      <td>6.271699</td>\n",
       "      <td>94.086723</td>\n",
       "      <td>9.04800</td>\n",
       "      <td>NaN</td>\n",
       "      <td>NaN</td>\n",
       "      <td>NaN</td>\n",
       "      <td>NaN</td>\n",
       "      <td>NaN</td>\n",
       "      <td>NaN</td>\n",
       "      <td>NaN</td>\n",
       "    </tr>\n",
       "    <tr>\n",
       "      <th>2291</th>\n",
       "      <td>2498</td>\n",
       "      <td>3.408725</td>\n",
       "      <td>2.355428</td>\n",
       "      <td>750</td>\n",
       "      <td>1591.0</td>\n",
       "      <td>1594.0</td>\n",
       "      <td>NaN</td>\n",
       "      <td>NaN</td>\n",
       "      <td>90.0</td>\n",
       "      <td>NaN</td>\n",
       "      <td>...</td>\n",
       "      <td>14.953657</td>\n",
       "      <td>118.110717</td>\n",
       "      <td>NaN</td>\n",
       "      <td>NaN</td>\n",
       "      <td>NaN</td>\n",
       "      <td>NaN</td>\n",
       "      <td>NaN</td>\n",
       "      <td>NaN</td>\n",
       "      <td>NaN</td>\n",
       "      <td>NaN</td>\n",
       "    </tr>\n",
       "    <tr>\n",
       "      <th>2292</th>\n",
       "      <td>2499</td>\n",
       "      <td>4.098431</td>\n",
       "      <td>2.777865</td>\n",
       "      <td>883</td>\n",
       "      <td>1569.0</td>\n",
       "      <td>1603.0</td>\n",
       "      <td>NaN</td>\n",
       "      <td>NaN</td>\n",
       "      <td>47.0</td>\n",
       "      <td>NaN</td>\n",
       "      <td>...</td>\n",
       "      <td>11.336151</td>\n",
       "      <td>110.160958</td>\n",
       "      <td>50.00528</td>\n",
       "      <td>NaN</td>\n",
       "      <td>NaN</td>\n",
       "      <td>NaN</td>\n",
       "      <td>NaN</td>\n",
       "      <td>NaN</td>\n",
       "      <td>NaN</td>\n",
       "      <td>NaN</td>\n",
       "    </tr>\n",
       "  </tbody>\n",
       "</table>\n",
       "<p>2293 rows × 31 columns</p>\n",
       "</div>"
      ],
      "text/plain": [
       "       key    active  reactive  time_diff  start_temp  end_temp  bulk_1  \\\n",
       "0        1  4.878147  3.183241       1098      1571.0    1613.0     NaN   \n",
       "1        2  3.052598  1.998112        811      1581.0    1602.0     NaN   \n",
       "2        3  2.525882  1.599076        655      1596.0    1599.0     NaN   \n",
       "3        4  3.209250  2.060298        741      1601.0    1625.0     NaN   \n",
       "4        5  3.347173  2.252643        869      1576.0    1602.0     NaN   \n",
       "...    ...       ...       ...        ...         ...       ...     ...   \n",
       "2288  2495  3.210690  2.360777        723      1570.0    1591.0     NaN   \n",
       "2289  2496  4.203064  2.810185        940      1554.0    1591.0     NaN   \n",
       "2290  2497  2.212379  1.851269        569      1571.0    1589.0     NaN   \n",
       "2291  2498  3.408725  2.355428        750      1591.0    1594.0     NaN   \n",
       "2292  2499  4.098431  2.777865        883      1569.0    1603.0     NaN   \n",
       "\n",
       "      bulk_2  bulk_3  bulk_4  ...      gas_1      wire_1    wire_2  wire_3  \\\n",
       "0        NaN     NaN    43.0  ...  29.749986   60.059998       NaN     NaN   \n",
       "1        NaN     NaN    73.0  ...  12.555561   96.052315       NaN     NaN   \n",
       "2        NaN     NaN    34.0  ...  28.554793   91.160157       NaN     NaN   \n",
       "3        NaN     NaN    81.0  ...  18.841219   89.063515       NaN     NaN   \n",
       "4        NaN     NaN    78.0  ...   5.413692   89.238236   9.11456     NaN   \n",
       "...      ...     ...     ...  ...        ...         ...       ...     ...   \n",
       "2288     NaN    21.0     NaN  ...   7.125735   89.150879       NaN     NaN   \n",
       "2289     NaN     NaN    63.0  ...   9.412616  114.179527       NaN     NaN   \n",
       "2290     NaN     NaN    85.0  ...   6.271699   94.086723   9.04800     NaN   \n",
       "2291     NaN    90.0     NaN  ...  14.953657  118.110717       NaN     NaN   \n",
       "2292     NaN    47.0     NaN  ...  11.336151  110.160958  50.00528     NaN   \n",
       "\n",
       "      wire_4  wire_5  wire_6  wire_7  wire_8  wire_9  \n",
       "0        NaN     NaN     NaN     NaN     NaN     NaN  \n",
       "1        NaN     NaN     NaN     NaN     NaN     NaN  \n",
       "2        NaN     NaN     NaN     NaN     NaN     NaN  \n",
       "3        NaN     NaN     NaN     NaN     NaN     NaN  \n",
       "4        NaN     NaN     NaN     NaN     NaN     NaN  \n",
       "...      ...     ...     ...     ...     ...     ...  \n",
       "2288     NaN     NaN     NaN     NaN     NaN     NaN  \n",
       "2289     NaN     NaN     NaN     NaN     NaN     NaN  \n",
       "2290     NaN     NaN     NaN     NaN     NaN     NaN  \n",
       "2291     NaN     NaN     NaN     NaN     NaN     NaN  \n",
       "2292     NaN     NaN     NaN     NaN     NaN     NaN  \n",
       "\n",
       "[2293 rows x 31 columns]"
      ]
     },
     "execution_count": 70,
     "metadata": {},
     "output_type": "execute_result"
    }
   ],
   "source": [
    "data_common = date_arc_temp.merge(data_bulk, on='key')\n",
    "data_common = data_common.merge(data_gas, on='key')\n",
    "data_common = data_common.merge(data_wire, on='key')\n",
    "\n",
    "data_common"
   ]
  },
  {
   "cell_type": "markdown",
   "id": "2c52fe98",
   "metadata": {},
   "source": [
    "Взглянем на объединенную таблицу."
   ]
  },
  {
   "cell_type": "code",
   "execution_count": 71,
   "id": "d9575c03",
   "metadata": {},
   "outputs": [
    {
     "name": "stdout",
     "output_type": "stream",
     "text": [
      "Общая информация по dataframe:\n",
      "\n",
      "<class 'pandas.core.frame.DataFrame'>\n",
      "Int64Index: 2293 entries, 0 to 2292\n",
      "Data columns (total 31 columns):\n",
      " #   Column      Non-Null Count  Dtype  \n",
      "---  ------      --------------  -----  \n",
      " 0   key         2293 non-null   int64  \n",
      " 1   active      2293 non-null   float64\n",
      " 2   reactive    2293 non-null   float64\n",
      " 3   time_diff   2293 non-null   int64  \n",
      " 4   start_temp  2293 non-null   float64\n",
      " 5   end_temp    2293 non-null   float64\n",
      " 6   bulk_1      197 non-null    float64\n",
      " 7   bulk_2      13 non-null     float64\n",
      " 8   bulk_3      950 non-null    float64\n",
      " 9   bulk_4      796 non-null    float64\n",
      " 10  bulk_5      53 non-null     float64\n",
      " 11  bulk_6      432 non-null    float64\n",
      " 12  bulk_7      13 non-null     float64\n",
      " 13  bulk_8      1 non-null      float64\n",
      " 14  bulk_9      13 non-null     float64\n",
      " 15  bulk_10     142 non-null    float64\n",
      " 16  bulk_11     126 non-null    float64\n",
      " 17  bulk_12     1785 non-null   float64\n",
      " 18  bulk_13     14 non-null     float64\n",
      " 19  bulk_14     2036 non-null   float64\n",
      " 20  bulk_15     1673 non-null   float64\n",
      " 21  gas_1       2293 non-null   float64\n",
      " 22  wire_1      2270 non-null   float64\n",
      " 23  wire_2      798 non-null    float64\n",
      " 24  wire_3      37 non-null     float64\n",
      " 25  wire_4      12 non-null     float64\n",
      " 26  wire_5      0 non-null      float64\n",
      " 27  wire_6      45 non-null     float64\n",
      " 28  wire_7      4 non-null      float64\n",
      " 29  wire_8      13 non-null     float64\n",
      " 30  wire_9      24 non-null     float64\n",
      "dtypes: float64(29), int64(2)\n",
      "memory usage: 573.2 KB\n",
      "\n",
      "Статистическая информация:\n",
      "\n"
     ]
    },
    {
     "data": {
      "text/html": [
       "<div>\n",
       "<style scoped>\n",
       "    .dataframe tbody tr th:only-of-type {\n",
       "        vertical-align: middle;\n",
       "    }\n",
       "\n",
       "    .dataframe tbody tr th {\n",
       "        vertical-align: top;\n",
       "    }\n",
       "\n",
       "    .dataframe thead th {\n",
       "        text-align: right;\n",
       "    }\n",
       "</style>\n",
       "<table border=\"1\" class=\"dataframe\">\n",
       "  <thead>\n",
       "    <tr style=\"text-align: right;\">\n",
       "      <th></th>\n",
       "      <th>count</th>\n",
       "      <th>mean</th>\n",
       "      <th>std</th>\n",
       "      <th>min</th>\n",
       "      <th>25%</th>\n",
       "      <th>50%</th>\n",
       "      <th>75%</th>\n",
       "      <th>max</th>\n",
       "    </tr>\n",
       "  </thead>\n",
       "  <tbody>\n",
       "    <tr>\n",
       "      <th>key</th>\n",
       "      <td>2293.0</td>\n",
       "      <td>1249.383777</td>\n",
       "      <td>715.286078</td>\n",
       "      <td>1.000000</td>\n",
       "      <td>627.000000</td>\n",
       "      <td>1251.000000</td>\n",
       "      <td>1865.000000</td>\n",
       "      <td>2499.000000</td>\n",
       "    </tr>\n",
       "    <tr>\n",
       "      <th>active</th>\n",
       "      <td>2293.0</td>\n",
       "      <td>3.159618</td>\n",
       "      <td>1.427323</td>\n",
       "      <td>0.186226</td>\n",
       "      <td>2.190623</td>\n",
       "      <td>3.034115</td>\n",
       "      <td>3.928126</td>\n",
       "      <td>17.496497</td>\n",
       "    </tr>\n",
       "    <tr>\n",
       "      <th>reactive</th>\n",
       "      <td>2293.0</td>\n",
       "      <td>2.355581</td>\n",
       "      <td>1.083146</td>\n",
       "      <td>0.158247</td>\n",
       "      <td>1.628309</td>\n",
       "      <td>2.240437</td>\n",
       "      <td>2.924655</td>\n",
       "      <td>12.587990</td>\n",
       "    </tr>\n",
       "    <tr>\n",
       "      <th>time_diff</th>\n",
       "      <td>2293.0</td>\n",
       "      <td>809.085478</td>\n",
       "      <td>341.310743</td>\n",
       "      <td>57.000000</td>\n",
       "      <td>585.000000</td>\n",
       "      <td>780.000000</td>\n",
       "      <td>995.000000</td>\n",
       "      <td>4189.000000</td>\n",
       "    </tr>\n",
       "    <tr>\n",
       "      <th>start_temp</th>\n",
       "      <td>2293.0</td>\n",
       "      <td>1586.618404</td>\n",
       "      <td>28.457503</td>\n",
       "      <td>1191.000000</td>\n",
       "      <td>1571.000000</td>\n",
       "      <td>1586.000000</td>\n",
       "      <td>1603.000000</td>\n",
       "      <td>1660.000000</td>\n",
       "    </tr>\n",
       "    <tr>\n",
       "      <th>end_temp</th>\n",
       "      <td>2293.0</td>\n",
       "      <td>1593.369385</td>\n",
       "      <td>11.179055</td>\n",
       "      <td>1541.000000</td>\n",
       "      <td>1587.000000</td>\n",
       "      <td>1593.000000</td>\n",
       "      <td>1598.000000</td>\n",
       "      <td>1653.000000</td>\n",
       "    </tr>\n",
       "    <tr>\n",
       "      <th>bulk_1</th>\n",
       "      <td>197.0</td>\n",
       "      <td>40.015228</td>\n",
       "      <td>18.286963</td>\n",
       "      <td>10.000000</td>\n",
       "      <td>27.000000</td>\n",
       "      <td>31.000000</td>\n",
       "      <td>46.000000</td>\n",
       "      <td>185.000000</td>\n",
       "    </tr>\n",
       "    <tr>\n",
       "      <th>bulk_2</th>\n",
       "      <td>13.0</td>\n",
       "      <td>254.846154</td>\n",
       "      <td>25.973853</td>\n",
       "      <td>228.000000</td>\n",
       "      <td>242.000000</td>\n",
       "      <td>248.000000</td>\n",
       "      <td>258.000000</td>\n",
       "      <td>325.000000</td>\n",
       "    </tr>\n",
       "    <tr>\n",
       "      <th>bulk_3</th>\n",
       "      <td>950.0</td>\n",
       "      <td>115.003158</td>\n",
       "      <td>77.646961</td>\n",
       "      <td>6.000000</td>\n",
       "      <td>57.250000</td>\n",
       "      <td>96.500000</td>\n",
       "      <td>152.750000</td>\n",
       "      <td>454.000000</td>\n",
       "    </tr>\n",
       "    <tr>\n",
       "      <th>bulk_4</th>\n",
       "      <td>796.0</td>\n",
       "      <td>107.056533</td>\n",
       "      <td>49.243669</td>\n",
       "      <td>13.000000</td>\n",
       "      <td>73.000000</td>\n",
       "      <td>105.000000</td>\n",
       "      <td>137.000000</td>\n",
       "      <td>281.000000</td>\n",
       "    </tr>\n",
       "    <tr>\n",
       "      <th>bulk_5</th>\n",
       "      <td>53.0</td>\n",
       "      <td>116.018868</td>\n",
       "      <td>95.189182</td>\n",
       "      <td>11.000000</td>\n",
       "      <td>70.000000</td>\n",
       "      <td>88.000000</td>\n",
       "      <td>148.000000</td>\n",
       "      <td>603.000000</td>\n",
       "    </tr>\n",
       "    <tr>\n",
       "      <th>bulk_6</th>\n",
       "      <td>432.0</td>\n",
       "      <td>119.828704</td>\n",
       "      <td>71.003306</td>\n",
       "      <td>17.000000</td>\n",
       "      <td>72.000000</td>\n",
       "      <td>100.500000</td>\n",
       "      <td>157.000000</td>\n",
       "      <td>503.000000</td>\n",
       "    </tr>\n",
       "    <tr>\n",
       "      <th>bulk_7</th>\n",
       "      <td>13.0</td>\n",
       "      <td>359.153846</td>\n",
       "      <td>208.804472</td>\n",
       "      <td>75.000000</td>\n",
       "      <td>178.000000</td>\n",
       "      <td>392.000000</td>\n",
       "      <td>507.000000</td>\n",
       "      <td>772.000000</td>\n",
       "    </tr>\n",
       "    <tr>\n",
       "      <th>bulk_8</th>\n",
       "      <td>1.0</td>\n",
       "      <td>49.000000</td>\n",
       "      <td>NaN</td>\n",
       "      <td>49.000000</td>\n",
       "      <td>49.000000</td>\n",
       "      <td>49.000000</td>\n",
       "      <td>49.000000</td>\n",
       "      <td>49.000000</td>\n",
       "    </tr>\n",
       "    <tr>\n",
       "      <th>bulk_9</th>\n",
       "      <td>13.0</td>\n",
       "      <td>79.692308</td>\n",
       "      <td>25.795299</td>\n",
       "      <td>63.000000</td>\n",
       "      <td>66.000000</td>\n",
       "      <td>68.000000</td>\n",
       "      <td>71.000000</td>\n",
       "      <td>147.000000</td>\n",
       "    </tr>\n",
       "    <tr>\n",
       "      <th>bulk_10</th>\n",
       "      <td>142.0</td>\n",
       "      <td>82.091549</td>\n",
       "      <td>27.781545</td>\n",
       "      <td>24.000000</td>\n",
       "      <td>58.000000</td>\n",
       "      <td>85.000000</td>\n",
       "      <td>103.750000</td>\n",
       "      <td>159.000000</td>\n",
       "    </tr>\n",
       "    <tr>\n",
       "      <th>bulk_11</th>\n",
       "      <td>126.0</td>\n",
       "      <td>75.484127</td>\n",
       "      <td>60.468667</td>\n",
       "      <td>8.000000</td>\n",
       "      <td>24.250000</td>\n",
       "      <td>58.000000</td>\n",
       "      <td>105.500000</td>\n",
       "      <td>313.000000</td>\n",
       "    </tr>\n",
       "    <tr>\n",
       "      <th>bulk_12</th>\n",
       "      <td>1785.0</td>\n",
       "      <td>268.089636</td>\n",
       "      <td>125.840599</td>\n",
       "      <td>53.000000</td>\n",
       "      <td>204.000000</td>\n",
       "      <td>208.000000</td>\n",
       "      <td>360.000000</td>\n",
       "      <td>1849.000000</td>\n",
       "    </tr>\n",
       "    <tr>\n",
       "      <th>bulk_13</th>\n",
       "      <td>14.0</td>\n",
       "      <td>177.571429</td>\n",
       "      <td>50.344527</td>\n",
       "      <td>151.000000</td>\n",
       "      <td>153.250000</td>\n",
       "      <td>154.500000</td>\n",
       "      <td>158.500000</td>\n",
       "      <td>305.000000</td>\n",
       "    </tr>\n",
       "    <tr>\n",
       "      <th>bulk_14</th>\n",
       "      <td>2036.0</td>\n",
       "      <td>173.531434</td>\n",
       "      <td>64.167368</td>\n",
       "      <td>29.000000</td>\n",
       "      <td>123.000000</td>\n",
       "      <td>153.000000</td>\n",
       "      <td>208.000000</td>\n",
       "      <td>636.000000</td>\n",
       "    </tr>\n",
       "    <tr>\n",
       "      <th>bulk_15</th>\n",
       "      <td>1673.0</td>\n",
       "      <td>164.655708</td>\n",
       "      <td>50.055733</td>\n",
       "      <td>1.000000</td>\n",
       "      <td>105.000000</td>\n",
       "      <td>200.000000</td>\n",
       "      <td>205.000000</td>\n",
       "      <td>405.000000</td>\n",
       "    </tr>\n",
       "    <tr>\n",
       "      <th>gas_1</th>\n",
       "      <td>2293.0</td>\n",
       "      <td>11.398265</td>\n",
       "      <td>6.400106</td>\n",
       "      <td>0.008399</td>\n",
       "      <td>7.303306</td>\n",
       "      <td>10.108007</td>\n",
       "      <td>14.221584</td>\n",
       "      <td>77.995040</td>\n",
       "    </tr>\n",
       "    <tr>\n",
       "      <th>wire_1</th>\n",
       "      <td>2270.0</td>\n",
       "      <td>103.474608</td>\n",
       "      <td>42.620130</td>\n",
       "      <td>1.918800</td>\n",
       "      <td>75.042236</td>\n",
       "      <td>101.977196</td>\n",
       "      <td>128.220310</td>\n",
       "      <td>330.314424</td>\n",
       "    </tr>\n",
       "    <tr>\n",
       "      <th>wire_2</th>\n",
       "      <td>798.0</td>\n",
       "      <td>50.891068</td>\n",
       "      <td>39.929525</td>\n",
       "      <td>0.030160</td>\n",
       "      <td>20.207199</td>\n",
       "      <td>40.112801</td>\n",
       "      <td>70.152420</td>\n",
       "      <td>282.780152</td>\n",
       "    </tr>\n",
       "    <tr>\n",
       "      <th>wire_3</th>\n",
       "      <td>37.0</td>\n",
       "      <td>203.617045</td>\n",
       "      <td>92.506397</td>\n",
       "      <td>0.960960</td>\n",
       "      <td>94.990898</td>\n",
       "      <td>240.240005</td>\n",
       "      <td>277.092834</td>\n",
       "      <td>385.008668</td>\n",
       "    </tr>\n",
       "    <tr>\n",
       "      <th>wire_4</th>\n",
       "      <td>12.0</td>\n",
       "      <td>59.496235</td>\n",
       "      <td>30.804638</td>\n",
       "      <td>24.148801</td>\n",
       "      <td>38.347402</td>\n",
       "      <td>49.661561</td>\n",
       "      <td>84.755579</td>\n",
       "      <td>113.231044</td>\n",
       "    </tr>\n",
       "    <tr>\n",
       "      <th>wire_5</th>\n",
       "      <td>0.0</td>\n",
       "      <td>NaN</td>\n",
       "      <td>NaN</td>\n",
       "      <td>NaN</td>\n",
       "      <td>NaN</td>\n",
       "      <td>NaN</td>\n",
       "      <td>NaN</td>\n",
       "      <td>NaN</td>\n",
       "    </tr>\n",
       "    <tr>\n",
       "      <th>wire_6</th>\n",
       "      <td>45.0</td>\n",
       "      <td>50.659374</td>\n",
       "      <td>37.743040</td>\n",
       "      <td>0.137280</td>\n",
       "      <td>25.053600</td>\n",
       "      <td>40.085762</td>\n",
       "      <td>65.036400</td>\n",
       "      <td>180.454575</td>\n",
       "    </tr>\n",
       "    <tr>\n",
       "      <th>wire_7</th>\n",
       "      <td>4.0</td>\n",
       "      <td>3.703414</td>\n",
       "      <td>3.818433</td>\n",
       "      <td>0.234208</td>\n",
       "      <td>0.849004</td>\n",
       "      <td>3.044704</td>\n",
       "      <td>5.899114</td>\n",
       "      <td>8.490040</td>\n",
       "    </tr>\n",
       "    <tr>\n",
       "      <th>wire_8</th>\n",
       "      <td>13.0</td>\n",
       "      <td>55.772561</td>\n",
       "      <td>20.235591</td>\n",
       "      <td>45.076721</td>\n",
       "      <td>46.002319</td>\n",
       "      <td>46.187439</td>\n",
       "      <td>46.279999</td>\n",
       "      <td>102.762401</td>\n",
       "    </tr>\n",
       "    <tr>\n",
       "      <th>wire_9</th>\n",
       "      <td>24.0</td>\n",
       "      <td>30.773167</td>\n",
       "      <td>15.210141</td>\n",
       "      <td>4.622800</td>\n",
       "      <td>20.802601</td>\n",
       "      <td>30.066399</td>\n",
       "      <td>40.495001</td>\n",
       "      <td>62.025600</td>\n",
       "    </tr>\n",
       "  </tbody>\n",
       "</table>\n",
       "</div>"
      ],
      "text/plain": [
       "             count         mean         std          min          25%  \\\n",
       "key         2293.0  1249.383777  715.286078     1.000000   627.000000   \n",
       "active      2293.0     3.159618    1.427323     0.186226     2.190623   \n",
       "reactive    2293.0     2.355581    1.083146     0.158247     1.628309   \n",
       "time_diff   2293.0   809.085478  341.310743    57.000000   585.000000   \n",
       "start_temp  2293.0  1586.618404   28.457503  1191.000000  1571.000000   \n",
       "end_temp    2293.0  1593.369385   11.179055  1541.000000  1587.000000   \n",
       "bulk_1       197.0    40.015228   18.286963    10.000000    27.000000   \n",
       "bulk_2        13.0   254.846154   25.973853   228.000000   242.000000   \n",
       "bulk_3       950.0   115.003158   77.646961     6.000000    57.250000   \n",
       "bulk_4       796.0   107.056533   49.243669    13.000000    73.000000   \n",
       "bulk_5        53.0   116.018868   95.189182    11.000000    70.000000   \n",
       "bulk_6       432.0   119.828704   71.003306    17.000000    72.000000   \n",
       "bulk_7        13.0   359.153846  208.804472    75.000000   178.000000   \n",
       "bulk_8         1.0    49.000000         NaN    49.000000    49.000000   \n",
       "bulk_9        13.0    79.692308   25.795299    63.000000    66.000000   \n",
       "bulk_10      142.0    82.091549   27.781545    24.000000    58.000000   \n",
       "bulk_11      126.0    75.484127   60.468667     8.000000    24.250000   \n",
       "bulk_12     1785.0   268.089636  125.840599    53.000000   204.000000   \n",
       "bulk_13       14.0   177.571429   50.344527   151.000000   153.250000   \n",
       "bulk_14     2036.0   173.531434   64.167368    29.000000   123.000000   \n",
       "bulk_15     1673.0   164.655708   50.055733     1.000000   105.000000   \n",
       "gas_1       2293.0    11.398265    6.400106     0.008399     7.303306   \n",
       "wire_1      2270.0   103.474608   42.620130     1.918800    75.042236   \n",
       "wire_2       798.0    50.891068   39.929525     0.030160    20.207199   \n",
       "wire_3        37.0   203.617045   92.506397     0.960960    94.990898   \n",
       "wire_4        12.0    59.496235   30.804638    24.148801    38.347402   \n",
       "wire_5         0.0          NaN         NaN          NaN          NaN   \n",
       "wire_6        45.0    50.659374   37.743040     0.137280    25.053600   \n",
       "wire_7         4.0     3.703414    3.818433     0.234208     0.849004   \n",
       "wire_8        13.0    55.772561   20.235591    45.076721    46.002319   \n",
       "wire_9        24.0    30.773167   15.210141     4.622800    20.802601   \n",
       "\n",
       "                    50%          75%          max  \n",
       "key         1251.000000  1865.000000  2499.000000  \n",
       "active         3.034115     3.928126    17.496497  \n",
       "reactive       2.240437     2.924655    12.587990  \n",
       "time_diff    780.000000   995.000000  4189.000000  \n",
       "start_temp  1586.000000  1603.000000  1660.000000  \n",
       "end_temp    1593.000000  1598.000000  1653.000000  \n",
       "bulk_1        31.000000    46.000000   185.000000  \n",
       "bulk_2       248.000000   258.000000   325.000000  \n",
       "bulk_3        96.500000   152.750000   454.000000  \n",
       "bulk_4       105.000000   137.000000   281.000000  \n",
       "bulk_5        88.000000   148.000000   603.000000  \n",
       "bulk_6       100.500000   157.000000   503.000000  \n",
       "bulk_7       392.000000   507.000000   772.000000  \n",
       "bulk_8        49.000000    49.000000    49.000000  \n",
       "bulk_9        68.000000    71.000000   147.000000  \n",
       "bulk_10       85.000000   103.750000   159.000000  \n",
       "bulk_11       58.000000   105.500000   313.000000  \n",
       "bulk_12      208.000000   360.000000  1849.000000  \n",
       "bulk_13      154.500000   158.500000   305.000000  \n",
       "bulk_14      153.000000   208.000000   636.000000  \n",
       "bulk_15      200.000000   205.000000   405.000000  \n",
       "gas_1         10.108007    14.221584    77.995040  \n",
       "wire_1       101.977196   128.220310   330.314424  \n",
       "wire_2        40.112801    70.152420   282.780152  \n",
       "wire_3       240.240005   277.092834   385.008668  \n",
       "wire_4        49.661561    84.755579   113.231044  \n",
       "wire_5              NaN          NaN          NaN  \n",
       "wire_6        40.085762    65.036400   180.454575  \n",
       "wire_7         3.044704     5.899114     8.490040  \n",
       "wire_8        46.187439    46.279999   102.762401  \n",
       "wire_9        30.066399    40.495001    62.025600  "
      ]
     },
     "metadata": {},
     "output_type": "display_data"
    }
   ],
   "source": [
    "info_dataframe(data_common)"
   ]
  },
  {
   "cell_type": "markdown",
   "id": "045e26da",
   "metadata": {},
   "source": [
    "Колонка wire_5 теперь осталась пустой, удалим ее."
   ]
  },
  {
   "cell_type": "code",
   "execution_count": 72,
   "id": "7198fb37",
   "metadata": {},
   "outputs": [],
   "source": [
    "data_common = data_common.drop(['wire_5'], axis=1)"
   ]
  },
  {
   "cell_type": "code",
   "execution_count": 73,
   "id": "64a0197c",
   "metadata": {},
   "outputs": [
    {
     "data": {
      "text/html": [
       "<style type=\"text/css\">\n",
       "#T_68475_row0_col0, #T_68475_row1_col0, #T_68475_row2_col0, #T_68475_row3_col0, #T_68475_row4_col0, #T_68475_row5_col0, #T_68475_row21_col0 {\n",
       "  background-color: #3b4cc0;\n",
       "  color: #f1f1f1;\n",
       "}\n",
       "#T_68475_row6_col0 {\n",
       "  background-color: #d44e41;\n",
       "  color: #f1f1f1;\n",
       "}\n",
       "#T_68475_row7_col0, #T_68475_row12_col0, #T_68475_row14_col0, #T_68475_row18_col0, #T_68475_row25_col0, #T_68475_row28_col0, #T_68475_row29_col0 {\n",
       "  background-color: #b70d28;\n",
       "  color: #f1f1f1;\n",
       "}\n",
       "#T_68475_row8_col0 {\n",
       "  background-color: #f1cdba;\n",
       "  color: #000000;\n",
       "}\n",
       "#T_68475_row9_col0, #T_68475_row23_col0 {\n",
       "  background-color: #f6bda2;\n",
       "  color: #000000;\n",
       "}\n",
       "#T_68475_row10_col0, #T_68475_row24_col0, #T_68475_row26_col0 {\n",
       "  background-color: #bb1b2c;\n",
       "  color: #f1f1f1;\n",
       "}\n",
       "#T_68475_row11_col0 {\n",
       "  background-color: #ec7f63;\n",
       "  color: #f1f1f1;\n",
       "}\n",
       "#T_68475_row13_col0, #T_68475_row27_col0 {\n",
       "  background-color: #b40426;\n",
       "  color: #f1f1f1;\n",
       "}\n",
       "#T_68475_row15_col0 {\n",
       "  background-color: #ca3b37;\n",
       "  color: #f1f1f1;\n",
       "}\n",
       "#T_68475_row16_col0 {\n",
       "  background-color: #c53334;\n",
       "  color: #f1f1f1;\n",
       "}\n",
       "#T_68475_row17_col0 {\n",
       "  background-color: #82a6fb;\n",
       "  color: #f1f1f1;\n",
       "}\n",
       "#T_68475_row19_col0 {\n",
       "  background-color: #5d7ce6;\n",
       "  color: #f1f1f1;\n",
       "}\n",
       "#T_68475_row20_col0 {\n",
       "  background-color: #94b6ff;\n",
       "  color: #000000;\n",
       "}\n",
       "#T_68475_row22_col0 {\n",
       "  background-color: #3d50c3;\n",
       "  color: #f1f1f1;\n",
       "}\n",
       "</style>\n",
       "<table id=\"T_68475\">\n",
       "  <thead>\n",
       "    <tr>\n",
       "      <th class=\"blank level0\" >&nbsp;</th>\n",
       "      <th id=\"T_68475_level0_col0\" class=\"col_heading level0 col0\" >0</th>\n",
       "    </tr>\n",
       "  </thead>\n",
       "  <tbody>\n",
       "    <tr>\n",
       "      <th id=\"T_68475_level0_row0\" class=\"row_heading level0 row0\" >key</th>\n",
       "      <td id=\"T_68475_row0_col0\" class=\"data row0 col0\" >0.000000</td>\n",
       "    </tr>\n",
       "    <tr>\n",
       "      <th id=\"T_68475_level0_row1\" class=\"row_heading level0 row1\" >active</th>\n",
       "      <td id=\"T_68475_row1_col0\" class=\"data row1 col0\" >0.000000</td>\n",
       "    </tr>\n",
       "    <tr>\n",
       "      <th id=\"T_68475_level0_row2\" class=\"row_heading level0 row2\" >reactive</th>\n",
       "      <td id=\"T_68475_row2_col0\" class=\"data row2 col0\" >0.000000</td>\n",
       "    </tr>\n",
       "    <tr>\n",
       "      <th id=\"T_68475_level0_row3\" class=\"row_heading level0 row3\" >time_diff</th>\n",
       "      <td id=\"T_68475_row3_col0\" class=\"data row3 col0\" >0.000000</td>\n",
       "    </tr>\n",
       "    <tr>\n",
       "      <th id=\"T_68475_level0_row4\" class=\"row_heading level0 row4\" >start_temp</th>\n",
       "      <td id=\"T_68475_row4_col0\" class=\"data row4 col0\" >0.000000</td>\n",
       "    </tr>\n",
       "    <tr>\n",
       "      <th id=\"T_68475_level0_row5\" class=\"row_heading level0 row5\" >end_temp</th>\n",
       "      <td id=\"T_68475_row5_col0\" class=\"data row5 col0\" >0.000000</td>\n",
       "    </tr>\n",
       "    <tr>\n",
       "      <th id=\"T_68475_level0_row6\" class=\"row_heading level0 row6\" >bulk_1</th>\n",
       "      <td id=\"T_68475_row6_col0\" class=\"data row6 col0\" >91.000000</td>\n",
       "    </tr>\n",
       "    <tr>\n",
       "      <th id=\"T_68475_level0_row7\" class=\"row_heading level0 row7\" >bulk_2</th>\n",
       "      <td id=\"T_68475_row7_col0\" class=\"data row7 col0\" >99.000000</td>\n",
       "    </tr>\n",
       "    <tr>\n",
       "      <th id=\"T_68475_level0_row8\" class=\"row_heading level0 row8\" >bulk_3</th>\n",
       "      <td id=\"T_68475_row8_col0\" class=\"data row8 col0\" >59.000000</td>\n",
       "    </tr>\n",
       "    <tr>\n",
       "      <th id=\"T_68475_level0_row9\" class=\"row_heading level0 row9\" >bulk_4</th>\n",
       "      <td id=\"T_68475_row9_col0\" class=\"data row9 col0\" >65.000000</td>\n",
       "    </tr>\n",
       "    <tr>\n",
       "      <th id=\"T_68475_level0_row10\" class=\"row_heading level0 row10\" >bulk_5</th>\n",
       "      <td id=\"T_68475_row10_col0\" class=\"data row10 col0\" >98.000000</td>\n",
       "    </tr>\n",
       "    <tr>\n",
       "      <th id=\"T_68475_level0_row11\" class=\"row_heading level0 row11\" >bulk_6</th>\n",
       "      <td id=\"T_68475_row11_col0\" class=\"data row11 col0\" >81.000000</td>\n",
       "    </tr>\n",
       "    <tr>\n",
       "      <th id=\"T_68475_level0_row12\" class=\"row_heading level0 row12\" >bulk_7</th>\n",
       "      <td id=\"T_68475_row12_col0\" class=\"data row12 col0\" >99.000000</td>\n",
       "    </tr>\n",
       "    <tr>\n",
       "      <th id=\"T_68475_level0_row13\" class=\"row_heading level0 row13\" >bulk_8</th>\n",
       "      <td id=\"T_68475_row13_col0\" class=\"data row13 col0\" >100.000000</td>\n",
       "    </tr>\n",
       "    <tr>\n",
       "      <th id=\"T_68475_level0_row14\" class=\"row_heading level0 row14\" >bulk_9</th>\n",
       "      <td id=\"T_68475_row14_col0\" class=\"data row14 col0\" >99.000000</td>\n",
       "    </tr>\n",
       "    <tr>\n",
       "      <th id=\"T_68475_level0_row15\" class=\"row_heading level0 row15\" >bulk_10</th>\n",
       "      <td id=\"T_68475_row15_col0\" class=\"data row15 col0\" >94.000000</td>\n",
       "    </tr>\n",
       "    <tr>\n",
       "      <th id=\"T_68475_level0_row16\" class=\"row_heading level0 row16\" >bulk_11</th>\n",
       "      <td id=\"T_68475_row16_col0\" class=\"data row16 col0\" >95.000000</td>\n",
       "    </tr>\n",
       "    <tr>\n",
       "      <th id=\"T_68475_level0_row17\" class=\"row_heading level0 row17\" >bulk_12</th>\n",
       "      <td id=\"T_68475_row17_col0\" class=\"data row17 col0\" >22.000000</td>\n",
       "    </tr>\n",
       "    <tr>\n",
       "      <th id=\"T_68475_level0_row18\" class=\"row_heading level0 row18\" >bulk_13</th>\n",
       "      <td id=\"T_68475_row18_col0\" class=\"data row18 col0\" >99.000000</td>\n",
       "    </tr>\n",
       "    <tr>\n",
       "      <th id=\"T_68475_level0_row19\" class=\"row_heading level0 row19\" >bulk_14</th>\n",
       "      <td id=\"T_68475_row19_col0\" class=\"data row19 col0\" >11.000000</td>\n",
       "    </tr>\n",
       "    <tr>\n",
       "      <th id=\"T_68475_level0_row20\" class=\"row_heading level0 row20\" >bulk_15</th>\n",
       "      <td id=\"T_68475_row20_col0\" class=\"data row20 col0\" >27.000000</td>\n",
       "    </tr>\n",
       "    <tr>\n",
       "      <th id=\"T_68475_level0_row21\" class=\"row_heading level0 row21\" >gas_1</th>\n",
       "      <td id=\"T_68475_row21_col0\" class=\"data row21 col0\" >0.000000</td>\n",
       "    </tr>\n",
       "    <tr>\n",
       "      <th id=\"T_68475_level0_row22\" class=\"row_heading level0 row22\" >wire_1</th>\n",
       "      <td id=\"T_68475_row22_col0\" class=\"data row22 col0\" >1.000000</td>\n",
       "    </tr>\n",
       "    <tr>\n",
       "      <th id=\"T_68475_level0_row23\" class=\"row_heading level0 row23\" >wire_2</th>\n",
       "      <td id=\"T_68475_row23_col0\" class=\"data row23 col0\" >65.000000</td>\n",
       "    </tr>\n",
       "    <tr>\n",
       "      <th id=\"T_68475_level0_row24\" class=\"row_heading level0 row24\" >wire_3</th>\n",
       "      <td id=\"T_68475_row24_col0\" class=\"data row24 col0\" >98.000000</td>\n",
       "    </tr>\n",
       "    <tr>\n",
       "      <th id=\"T_68475_level0_row25\" class=\"row_heading level0 row25\" >wire_4</th>\n",
       "      <td id=\"T_68475_row25_col0\" class=\"data row25 col0\" >99.000000</td>\n",
       "    </tr>\n",
       "    <tr>\n",
       "      <th id=\"T_68475_level0_row26\" class=\"row_heading level0 row26\" >wire_6</th>\n",
       "      <td id=\"T_68475_row26_col0\" class=\"data row26 col0\" >98.000000</td>\n",
       "    </tr>\n",
       "    <tr>\n",
       "      <th id=\"T_68475_level0_row27\" class=\"row_heading level0 row27\" >wire_7</th>\n",
       "      <td id=\"T_68475_row27_col0\" class=\"data row27 col0\" >100.000000</td>\n",
       "    </tr>\n",
       "    <tr>\n",
       "      <th id=\"T_68475_level0_row28\" class=\"row_heading level0 row28\" >wire_8</th>\n",
       "      <td id=\"T_68475_row28_col0\" class=\"data row28 col0\" >99.000000</td>\n",
       "    </tr>\n",
       "    <tr>\n",
       "      <th id=\"T_68475_level0_row29\" class=\"row_heading level0 row29\" >wire_9</th>\n",
       "      <td id=\"T_68475_row29_col0\" class=\"data row29 col0\" >99.000000</td>\n",
       "    </tr>\n",
       "  </tbody>\n",
       "</table>\n"
      ],
      "text/plain": [
       "<pandas.io.formats.style.Styler at 0x1fa63d2df10>"
      ]
     },
     "execution_count": 73,
     "metadata": {},
     "output_type": "execute_result"
    }
   ],
   "source": [
    "pd.DataFrame(round(data_common.isna().mean()*100,)).style.background_gradient('coolwarm')"
   ]
  },
  {
   "cell_type": "markdown",
   "id": "f417041e",
   "metadata": {},
   "source": [
    "Проверим, коррелируют ли признаки между собой. Сильная корреляция независимых признаков (мультиколлениарность) может стать причиной переобучения линейных моделей."
   ]
  },
  {
   "cell_type": "code",
   "execution_count": 74,
   "id": "5645d4f1",
   "metadata": {},
   "outputs": [
    {
     "data": {
      "image/png": "[encoded data removed]",
      "text/plain": [
       "<Figure size 1440x1440 with 1 Axes>"
      ]
     },
     "metadata": {
      "needs_background": "light"
     },
     "output_type": "display_data"
    }
   ],
   "source": [
    "data_corr = data_common.corr()\n",
    "\n",
    "fig, ax = plt.subplots(figsize=(20,20))\n",
    "ax.set_xticks(np.arange(len(data_corr.index)))\n",
    "ax.set_yticks(np.arange(len(data_corr.index)))\n",
    "\n",
    "ax.set_xticklabels(data_corr.index)\n",
    "ax.set_yticklabels(data_corr.index)\n",
    "\n",
    "plt.setp(ax.get_xticklabels(), rotation=45, ha=\"right\",\n",
    "         rotation_mode=\"anchor\")\n",
    "\n",
    "data = data_corr.values\n",
    "\n",
    "for i in range(len(data_corr.index)):\n",
    "    for j in range(len(data_corr.index)):\n",
    "        text = ax.text(j, i, '{:.2}'.format(data[i, j]),\n",
    "                       ha=\"center\", va=\"center\", color=\"w\")\n",
    "        \n",
    "im = ax.imshow(data_corr.corr(), cmap='Greens')\n"
   ]
  },
  {
   "cell_type": "markdown",
   "id": "1ab48311",
   "metadata": {},
   "source": [
    "Из heatmap видна сильная корреляция между активной и реактивной мощностью, а также между мощностями и временем нагрева электродуг. Оставим для модели только признак с активной мощностью.\n",
    "\n",
    "Также есть сильная корреляция между признаками:\n",
    "- wire_9 и bulk_6\n",
    "- wire_8 и bulk_12.\n",
    "- bulk_9 и bulk_12.\n",
    "На грани допустимого корреляция между признаками wire_8 и bulk_9. Оба столбца содержат большое количество незаполненных значений. Удалим столбец bulk_9.\n",
    "Удалим признак wire_9, в нем к тому же очень мало заполненных значений. \n",
    "\n",
    "С целевым признаком сильных корреляций нет."
   ]
  },
  {
   "cell_type": "code",
   "execution_count": 75,
   "id": "9bcdd0cd",
   "metadata": {},
   "outputs": [],
   "source": [
    "data_common = data_common.drop(['reactive', 'time_diff', 'wire_9', 'bulk_9', 'bulk_12'], axis=1)"
   ]
  },
  {
   "cell_type": "markdown",
   "id": "749edae4",
   "metadata": {},
   "source": [
    "Отсутствующие значения заменим нулями."
   ]
  },
  {
   "cell_type": "code",
   "execution_count": 76,
   "id": "6ad5d07e",
   "metadata": {},
   "outputs": [],
   "source": [
    "data_common = data_common.fillna(0)"
   ]
  },
  {
   "cell_type": "markdown",
   "id": "07654e9e",
   "metadata": {},
   "source": [
    "### Выводы по анализу данных"
   ]
  },
  {
   "cell_type": "markdown",
   "id": "b3b7032e",
   "metadata": {},
   "source": [
    "1. Данные были преобразованы для анализа последней температуры замеры: сгруппированы данные в таблицах с информацией по нагреву электродов и с результатами измерений температуры.\n",
    "\n",
    "2. Были удалены некорректные данные: \n",
    "- строки, где времена измерения температуры и времени нагрева дуги не совпадали\n",
    "- строки с одним замером\n",
    "- строки, отсутствующие в других наборах.\n",
    "\n",
    "3. Была проанализирована корреляция между признаками, сильно коррелирующие признаки были удалены.\n",
    "\n",
    "4. Отсутсвующие значения заменены нулями."
   ]
  },
  {
   "cell_type": "markdown",
   "id": "347e0133",
   "metadata": {},
   "source": [
    "# Подготовка данных и обучение моделей"
   ]
  },
  {
   "cell_type": "markdown",
   "id": "bb40eea8",
   "metadata": {},
   "source": [
    "Разделим данные на признаки и целовой признак."
   ]
  },
  {
   "cell_type": "code",
   "execution_count": 77,
   "id": "0aab9d21",
   "metadata": {},
   "outputs": [],
   "source": [
    "features = data_common.drop(['end_temp'], axis = 1)\n",
    "target = data_common['end_temp']"
   ]
  },
  {
   "cell_type": "markdown",
   "id": "bb831191",
   "metadata": {},
   "source": [
    "Подготовим выборки для обучения."
   ]
  },
  {
   "cell_type": "code",
   "execution_count": 78,
   "id": "2a1355ca",
   "metadata": {},
   "outputs": [],
   "source": [
    "features_train, features_test = train_test_split(features, test_size=0.25, random_state=270323)\n",
    "target_train, target_test = train_test_split(target, test_size=0.25, random_state=270323)"
   ]
  },
  {
   "cell_type": "code",
   "execution_count": 79,
   "id": "79269cac",
   "metadata": {},
   "outputs": [],
   "source": [
    "numeric_columns = ['active', 'start_temp', 'bulk_1', 'bulk_2', 'bulk_3', 'bulk_4',\n",
    "       'bulk_5', 'bulk_6', 'bulk_7', 'bulk_8', 'bulk_10', 'bulk_11', 'bulk_13',\n",
    "       'bulk_14', 'bulk_15', 'gas_1', 'wire_1', 'wire_2', 'wire_3', 'wire_4',\n",
    "       'wire_6', 'wire_7', 'wire_8']"
   ]
  },
  {
   "cell_type": "markdown",
   "id": "ef20f589",
   "metadata": {},
   "source": [
    "Удалим аномалии из обучающей выборки, тестовую не изменяем. Модель должна быть протестирована и успешно работать и на данных с аномалиями."
   ]
  },
  {
   "cell_type": "code",
   "execution_count": 81,
   "id": "f6a4fa8f",
   "metadata": {},
   "outputs": [
    {
     "name": "stdout",
     "output_type": "stream",
     "text": [
      "Количество аномалий: 25\n"
     ]
    }
   ],
   "source": [
    "from sklearn.ensemble import IsolationForest\n",
    "\n",
    "isolation_forest = IsolationForest(n_estimators=100)\n",
    "estimator = isolation_forest.fit_predict(features_train[numeric_columns])\n",
    "\n",
    "outliers = list(filter(lambda x: x == -1, estimator))\n",
    "print(\"Количество аномалий:\", len(outliers))"
   ]
  },
  {
   "cell_type": "code",
   "execution_count": 82,
   "id": "0b1b6799",
   "metadata": {},
   "outputs": [
    {
     "name": "stdout",
     "output_type": "stream",
     "text": [
      "Процент аномалий: 1.45\n"
     ]
    }
   ],
   "source": [
    "print(\"Процент аномалий:\", round(len(outliers) / features_train.shape[0] * 100, 2))"
   ]
  },
  {
   "cell_type": "code",
   "execution_count": 83,
   "id": "9c2e9ab4",
   "metadata": {},
   "outputs": [],
   "source": [
    "features_train['is_outlier'] =  estimator == -1\n",
    "features_train = features_train[features_train['is_outlier'] == False] \n",
    "target_train = target_train[features_train.index] \n",
    "\n",
    "features_train = features_train.drop(['is_outlier'], axis=1)"
   ]
  },
  {
   "cell_type": "markdown",
   "id": "0d69d58c",
   "metadata": {},
   "source": [
    "Масштабируем признаки для линейных моделей."
   ]
  },
  {
   "cell_type": "code",
   "execution_count": 86,
   "id": "e2938165",
   "metadata": {},
   "outputs": [],
   "source": [
    "features_train_not_scaled = features_train.copy()\n",
    "features_test_not_scaled = features_test.copy()\n",
    "\n",
    "scaler = StandardScaler()\n",
    "scaler.fit(features_train[numeric_columns])\n",
    "features_train[numeric_columns] = scaler.transform(features_train[numeric_columns])\n",
    "features_test[numeric_columns] = scaler.transform(features_test[numeric_columns])"
   ]
  },
  {
   "cell_type": "markdown",
   "id": "42359250",
   "metadata": {},
   "source": [
    "Обучим несколько моделей:\n",
    "1. LinearRegression\n",
    "2. Ridge\n",
    "3. Lasso\n",
    "4. LightGBM\n",
    "\n",
    "И сравним результаты с dummy моделью."
   ]
  },
  {
   "cell_type": "markdown",
   "id": "a7d592b2",
   "metadata": {},
   "source": [
    "### LinearRegression"
   ]
  },
  {
   "cell_type": "code",
   "execution_count": 87,
   "id": "1ceae18e",
   "metadata": {},
   "outputs": [
    {
     "name": "stdout",
     "output_type": "stream",
     "text": [
      "Время расчета: 41.28 ms / 0.04 sec\n",
      "Значение mae для модели линейной регрессии: 6.25\n",
      "CPU times: total: 31.2 ms\n",
      "Wall time: 41.3 ms\n"
     ]
    }
   ],
   "source": [
    "%%time\n",
    "model_lr = LinearRegression()\n",
    "\n",
    "start_time_lr = time.time()\n",
    "\n",
    "scores = cross_val_score(model_lr, features_train, target_train, cv=5, scoring='neg_mean_absolute_error')\n",
    "end_time_lr = time.time()\n",
    "time_lr = end_time_lr - start_time_lr\n",
    "\n",
    "scores_mean = pd.Series(scores).mean()\n",
    "\n",
    "print('Время расчета:', round(time_lr * 1000, 2), 'ms /', round(time_lr, 2), 'sec')\n",
    "print('Значение mae для модели линейной регрессии:', -round(scores_mean, 2))"
   ]
  },
  {
   "cell_type": "code",
   "execution_count": 88,
   "id": "a10f7bd7",
   "metadata": {},
   "outputs": [
    {
     "name": "stdout",
     "output_type": "stream",
     "text": [
      "MAE 6.25 удовлетворяет требуемому показателю, скорость обучения очень маленькая.\n"
     ]
    }
   ],
   "source": [
    "print(f\"MAE {- round(scores_mean, 2)} удовлетворяет требуемому показателю, скорость обучения очень маленькая.\")"
   ]
  },
  {
   "cell_type": "markdown",
   "id": "e679c631",
   "metadata": {},
   "source": [
    "### Ridge"
   ]
  },
  {
   "cell_type": "code",
   "execution_count": 89,
   "id": "a7a5d7a3",
   "metadata": {},
   "outputs": [
    {
     "name": "stdout",
     "output_type": "stream",
     "text": [
      "Время расчета: 4675.17 ms / 4.68 sec\n",
      "CPU times: total: 93.8 ms\n",
      "Wall time: 4.68 s\n"
     ]
    }
   ],
   "source": [
    "%%time\n",
    "\n",
    "regressor = Ridge(random_state=270323)\n",
    "\n",
    "param_grid = {\n",
    "              #'alpha': np.arange(1, 100, 10)\n",
    "              'alpha': 10.0 ** np.arange(-5, 6)\n",
    "              }\n",
    "\n",
    "# инициализируем GridSearchCV\n",
    "grid_search_ridge = GridSearchCV(estimator = regressor, \n",
    "                           param_grid = param_grid, \n",
    "                           cv = 3,\n",
    "                           n_jobs = -1, \n",
    "                           verbose = 0, \n",
    "                           scoring = 'neg_mean_absolute_error',\n",
    "                          )\n",
    "start_time_ridge = time.time()\n",
    "grid_search_ridge.fit(features_train, target_train)\n",
    "\n",
    "end_time_ridge = time.time()\n",
    "time_ridge = end_time_ridge - start_time_ridge\n",
    "\n",
    "print('Время расчета:', round(time_ridge * 1000, 2), 'ms /', round(time_ridge, 2), 'sec')"
   ]
  },
  {
   "cell_type": "code",
   "execution_count": 90,
   "id": "5882928f",
   "metadata": {},
   "outputs": [
    {
     "data": {
      "text/plain": [
       "{'alpha': 1e-05}"
      ]
     },
     "execution_count": 90,
     "metadata": {},
     "output_type": "execute_result"
    }
   ],
   "source": [
    "grid_search_ridge.best_params_"
   ]
  },
  {
   "cell_type": "code",
   "execution_count": 91,
   "id": "02f0199b",
   "metadata": {},
   "outputs": [
    {
     "name": "stdout",
     "output_type": "stream",
     "text": [
      "Значение mae для модели Ridge: 6.26\n"
     ]
    }
   ],
   "source": [
    "mae_ridge = - grid_search_ridge.best_score_\n",
    "print('Значение mae для модели Ridge:', round(mae_ridge, 2))"
   ]
  },
  {
   "cell_type": "code",
   "execution_count": 92,
   "id": "2f0a7f02",
   "metadata": {},
   "outputs": [
    {
     "name": "stdout",
     "output_type": "stream",
     "text": [
      "MAE 6.26 удовлетворяет требуемому показателю, скорость обучения небольшая, но время обучения выше.\n"
     ]
    }
   ],
   "source": [
    "print(f\"MAE {round(mae_ridge, 2)} удовлетворяет требуемому показателю, скорость обучения небольшая, но время обучения выше.\")"
   ]
  },
  {
   "cell_type": "markdown",
   "id": "44fdd44f",
   "metadata": {},
   "source": [
    "### Lasso"
   ]
  },
  {
   "cell_type": "code",
   "execution_count": 93,
   "id": "1f17c6ea",
   "metadata": {},
   "outputs": [
    {
     "name": "stdout",
     "output_type": "stream",
     "text": [
      "Время расчета: 183.24 ms / 0.18 sec\n",
      "CPU times: total: 109 ms\n",
      "Wall time: 183 ms\n"
     ]
    }
   ],
   "source": [
    "%%time\n",
    "\n",
    "regressor = Lasso(random_state=270323)\n",
    "\n",
    "param_grid = {\n",
    "              #'alpha': np.arange(1, 100, 10)\n",
    "              'alpha': 10.0 ** np.arange(-5, 6)\n",
    "             }\n",
    "\n",
    "# инициализируем GridSearchCV\n",
    "grid_search_lasso = GridSearchCV(estimator = regressor, \n",
    "                           param_grid = param_grid, \n",
    "                           cv = 3,\n",
    "                           n_jobs = -1, \n",
    "                           verbose = 0, \n",
    "                           scoring = 'neg_mean_absolute_error',\n",
    "                          )\n",
    "start_time_lasso = time.time()\n",
    "grid_search_lasso.fit(features_train, target_train)\n",
    "\n",
    "end_time_lasso = time.time()\n",
    "time_lasso = end_time_lasso - start_time_lasso\n",
    "\n",
    "print('Время расчета:', round(time_lasso * 1000, 2), 'ms /', round(time_lasso, 2), 'sec')"
   ]
  },
  {
   "cell_type": "code",
   "execution_count": 94,
   "id": "5259a002",
   "metadata": {},
   "outputs": [
    {
     "data": {
      "text/plain": [
       "{'alpha': 0.1}"
      ]
     },
     "execution_count": 94,
     "metadata": {},
     "output_type": "execute_result"
    }
   ],
   "source": [
    "grid_search_lasso.best_params_"
   ]
  },
  {
   "cell_type": "code",
   "execution_count": 95,
   "id": "cc7bb39c",
   "metadata": {},
   "outputs": [
    {
     "name": "stdout",
     "output_type": "stream",
     "text": [
      "Значение mae для модели Ridge: 6.25\n"
     ]
    }
   ],
   "source": [
    "mae_lasso = - grid_search_lasso.best_score_\n",
    "print('Значение mae для модели Ridge:', round(mae_lasso, 2))"
   ]
  },
  {
   "cell_type": "code",
   "execution_count": 96,
   "id": "0ce10e0a",
   "metadata": {},
   "outputs": [
    {
     "name": "stdout",
     "output_type": "stream",
     "text": [
      "MAE 6.25 удовлетворяет требуемому показателю, скорость обучения сопоставима с линейной регрессией, MAE чуть лучше чем у линейной регрессии.\n"
     ]
    }
   ],
   "source": [
    "print(f\"MAE {round(mae_lasso, 2)} удовлетворяет требуемому показателю, скорость обучения сопоставима с линейной регрессией, MAE чуть лучше чем у линейной регрессии.\")"
   ]
  },
  {
   "cell_type": "markdown",
   "id": "5e24394f",
   "metadata": {},
   "source": [
    "### LightGBM"
   ]
  },
  {
   "cell_type": "code",
   "execution_count": 97,
   "id": "1d324d0a",
   "metadata": {},
   "outputs": [
    {
     "name": "stdout",
     "output_type": "stream",
     "text": [
      "Время расчета: 42146.12 ms / 42.15 sec\n",
      "CPU times: total: 1.42 s\n",
      "Wall time: 42.2 s\n"
     ]
    }
   ],
   "source": [
    "%%time\n",
    "\n",
    "param_grid = {'learning_rate': [0.1, 0.3, 0.5, 0.7],\n",
    "              'max_depth': [15, 20, 30],\n",
    "              'num_leaves':[20, 50, 100]\n",
    "             }\n",
    "\n",
    "lgbm = lgb.LGBMRegressor(n_jobs = 8, random_state=270323)\n",
    "\n",
    "# инициализируем GridSearchCV\n",
    "grid_search_lb = GridSearchCV(estimator = lgbm, \n",
    "                           param_grid = param_grid, \n",
    "                           cv = 5,\n",
    "                           n_jobs = -1, \n",
    "                           verbose = 0, \n",
    "                           scoring = 'neg_mean_absolute_error',\n",
    "                           )\n",
    "start_time_lb = time.time()\n",
    "grid_search_lb.fit(features_train_not_scaled, target_train)\n",
    "\n",
    "end_time_lb = time.time()\n",
    "time_lb = end_time_lb - start_time_lb\n",
    "\n",
    "print('Время расчета:', round(time_lb * 1000, 2), 'ms /', round(time_lb, 2), 'sec')"
   ]
  },
  {
   "cell_type": "code",
   "execution_count": 98,
   "id": "f222c08a",
   "metadata": {},
   "outputs": [
    {
     "data": {
      "text/plain": [
       "{'learning_rate': 0.1, 'max_depth': 20, 'num_leaves': 20}"
      ]
     },
     "execution_count": 98,
     "metadata": {},
     "output_type": "execute_result"
    }
   ],
   "source": [
    "grid_search_lb.best_params_"
   ]
  },
  {
   "cell_type": "code",
   "execution_count": 99,
   "id": "8d4bf3c2",
   "metadata": {},
   "outputs": [
    {
     "name": "stdout",
     "output_type": "stream",
     "text": [
      "Значение mae для модели LightGBM: 5.67\n"
     ]
    }
   ],
   "source": [
    "mae_lb = - grid_search_lb.best_score_\n",
    "print('Значение mae для модели LightGBM:', round(mae_lb, 2))"
   ]
  },
  {
   "cell_type": "code",
   "execution_count": 101,
   "id": "cd81ce3b",
   "metadata": {},
   "outputs": [
    {
     "name": "stdout",
     "output_type": "stream",
     "text": [
      "MAE 5.67 - самый лучший показатель, скорость обучения значительно выше всех рассмотренных выше моделей.\n"
     ]
    }
   ],
   "source": [
    "print(f\"MAE {round(mae_lb, 2)} - самый лучший показатель, скорость обучения значительно выше всех рассмотренных выше моделей.\")"
   ]
  },
  {
   "cell_type": "markdown",
   "id": "9baee1ca",
   "metadata": {},
   "source": [
    "Проверим, что DummyRegressor не дает лучшего результата, чем рассмотренные модели."
   ]
  },
  {
   "cell_type": "code",
   "execution_count": 102,
   "id": "ada8c79f",
   "metadata": {},
   "outputs": [
    {
     "name": "stdout",
     "output_type": "stream",
     "text": [
      "Значение MAE для dummy модели: 8.15\n"
     ]
    }
   ],
   "source": [
    "baseline = DummyRegressor(strategy='mean').fit(features_train, target_train)\n",
    "predictions_baseline = baseline.predict(features_test)\n",
    "dummy_mae = mean_absolute_error(predictions_baseline, target_test)\n",
    " \n",
    "print('Значение MAE для dummy модели:', round(dummy_mae, 2))"
   ]
  },
  {
   "cell_type": "markdown",
   "id": "85900b31",
   "metadata": {},
   "source": [
    "Dummy модель показывает самую плохую MAE: она выше порогового значения и значений метрик всех рассмотренных моделей."
   ]
  },
  {
   "cell_type": "markdown",
   "id": "4cddfbc2",
   "metadata": {},
   "source": [
    "**Выводы**\n",
    "\n",
    "Лучшая метрика получена с использованием модели LightGBM. Но у нее и самое большое время обучения. MAE всех моделей лучше константной модели. "
   ]
  },
  {
   "cell_type": "markdown",
   "id": "8acdfa7b",
   "metadata": {},
   "source": [
    "# Тестирование модели"
   ]
  },
  {
   "cell_type": "markdown",
   "id": "63c383ae",
   "metadata": {},
   "source": [
    "Посчитаем MAE на тестовых данных."
   ]
  },
  {
   "cell_type": "code",
   "execution_count": 103,
   "id": "8af35d61",
   "metadata": {},
   "outputs": [
    {
     "data": {
      "text/plain": [
       "5.919355029788721"
      ]
     },
     "execution_count": 103,
     "metadata": {},
     "output_type": "execute_result"
    }
   ],
   "source": [
    "#КОД ТИМЛИДА\n",
    "model = lgb.LGBMRegressor(learning_rate=0.1, max_depth=15, num_leaves=20, random_state=270323)\n",
    "model.fit(features_train_not_scaled, target_train)\n",
    "predictions = model.predict(features_test_not_scaled)\n",
    "mean_absolute_error(predictions, target_test)"
   ]
  },
  {
   "cell_type": "code",
   "execution_count": 104,
   "id": "7d7ca10c",
   "metadata": {},
   "outputs": [],
   "source": [
    "predictions = grid_search_lb.best_estimator_.predict(features_test_not_scaled)\n",
    "mae_lb_test = mean_absolute_error(predictions, target_test)"
   ]
  },
  {
   "cell_type": "code",
   "execution_count": 105,
   "id": "89a28aee",
   "metadata": {},
   "outputs": [
    {
     "data": {
      "text/plain": [
       "5.92"
      ]
     },
     "execution_count": 105,
     "metadata": {},
     "output_type": "execute_result"
    }
   ],
   "source": [
    "round(mae_lb_test, 2)"
   ]
  },
  {
   "cell_type": "markdown",
   "id": "cbb35397",
   "metadata": {},
   "source": [
    "**Выводы**\n",
    "\n",
    "Метрика хоть и стала хуже, но по-прежнему меньше порогового значения. Ухудшение метрики может быть связано с наличием аномалий в тестовых данных, а, значит, модель успешно с ними справляется."
   ]
  },
  {
   "cell_type": "markdown",
   "id": "af772e7f",
   "metadata": {},
   "source": [
    "# Итоговый вывод"
   ]
  },
  {
   "cell_type": "markdown",
   "id": "cd783b21",
   "metadata": {},
   "source": [
    "Чтобы оптимизировать производственные расходы, металлургический комбинат ООО «Так закаляем сталь» решил уменьшить потребление электроэнергии на этапе обработки стали.\n",
    "\n",
    "Необходимо построить модель, которая предскажет температуру стали.\n",
    "\n",
    "В нашем распоряжении были данные, полученные из разных источников:\n",
    "\n",
    "- `data_arc.csv` — данные об электродах;\n",
    "- `data_bulk.csv` — данные о подаче сыпучих материалов (объём);\n",
    "- `data_bulk_time.csv` *—* данные о подаче сыпучих материалов (время);\n",
    "- `data_gas.csv` — данные о продувке сплава газом;\n",
    "- `data_temp.csv` — результаты измерения температуры;\n",
    "- `data_wire.csv` — данные о проволочных материалах (объём);\n",
    "- `data_wire_time.csv` — данные о проволочных материалах (время).\n",
    "\n",
    "Во всех файлах столбец `key` содержит номер партии. В файлах может быть несколько строк с одинаковым значением `key`: они соответствуют разным итерациям обработки.\n",
    "\n",
    "*Особенности данных и ключевые этапы обработки:*\n",
    "\n",
    "1. Датафреймы содержат данные по разному количеству партий: возможно часть партий прошла не весь технологический процесс или часть данных утеряна. При подготовке данных будут учтены данные по партиям с полными данными.\n",
    "\n",
    "2. По датам соединить датафреймы не представляется возможным: в каких-то случаях замер происходил до засыпания/добавления материалов, в каких-то после. Датафреймы будут соединены по ключу key, т.е. по партии.\n",
    "\n",
    "3. Данные по мощностям, температуре и продувке газом распределены нормально со смещениями. Данные по некоторым материалам также распределены нормально, по остальным не так много данных.\n",
    "\n",
    "3. В данных есть выбросы, незаполненные значения, отрицательные значения. Строки с пустым замером температуры удалены: данные по температуре остались по всем партиям. Отрицательное значение по реактивной мощности будет удалено. Обучающая выборка была очищена от выбросов.\n",
    "\n",
    "4. В некоторых таблицах на партию приходится одна строка, в некоторых несколько (данные о нагреве электродами и данные о замерах).\n",
    "\n",
    "5. Данные о времени засыпания/добавления материалов не использовались, поскольку регресионные модели не работают с датами. Генерация новых признаков на основе этих данных не обоснована.\n",
    "\n",
    "6. Целевой признак - температура последнего измерения. Данные в таблицах с информацией по нагреву электродов и с результатами измерений температуры были сгруппированы и объединены с таблицами о подаче материалов и продувке газом.\n",
    "\n",
    "7. Были удалены некорректные данные:\n",
    "- строки с одним замером\n",
    "- строки, отсутствующие в других наборах.\n",
    "8. Сильно коррелирующие признаки были удалены из итогового набора: реактивная мощность, столбец с проволочными материалами 'wire_9', столбцы с сыпучими материалами: 'bulk_9', 'bulk_12'.\n",
    "\n",
    "9. Отсутсвующие значения заменены нулями.\n",
    "\n",
    "Обработанные данные разделены на обучающую и тестовую выборки. Обучены следующие модели:\n",
    "* LinearRegression\n",
    "* Ridge\n",
    "* Lasso\n",
    "* LightGBM\n",
    "\n",
    "Для линейных моделей признаки были смаштабированы.\n",
    "\n",
    "Лучший результат показала модель LightGBM с гиперпараметрами: learning_rate=0.1, max_depth=15, num_leaves=20.\n",
    "MAE лучшей модели 5.67, линейные модели показали MAE на уровне 6.25-6.26, зато они работают намного быстрее.\n",
    "\n",
    "На тестовых данных метрика равна 5.92."
   ]
  }
 ],
 "metadata": {
  "ExecuteTimeLog": [
   {
    "duration": 139,
    "start_time": "2023-04-04T11:22:44.913Z"
   },
   {
    "duration": 2705,
    "start_time": "2023-04-04T11:22:50.999Z"
   },
   {
    "duration": 0,
    "start_time": "2023-04-04T11:22:53.707Z"
   },
   {
    "duration": 0,
    "start_time": "2023-04-04T11:22:53.708Z"
   },
   {
    "duration": 0,
    "start_time": "2023-04-04T11:22:53.710Z"
   },
   {
    "duration": 0,
    "start_time": "2023-04-04T11:22:53.711Z"
   },
   {
    "duration": 0,
    "start_time": "2023-04-04T11:22:53.713Z"
   },
   {
    "duration": 0,
    "start_time": "2023-04-04T11:22:53.714Z"
   },
   {
    "duration": 0,
    "start_time": "2023-04-04T11:22:53.715Z"
   },
   {
    "duration": 0,
    "start_time": "2023-04-04T11:22:53.769Z"
   },
   {
    "duration": 0,
    "start_time": "2023-04-04T11:22:53.770Z"
   },
   {
    "duration": 0,
    "start_time": "2023-04-04T11:22:53.771Z"
   },
   {
    "duration": 0,
    "start_time": "2023-04-04T11:22:53.772Z"
   },
   {
    "duration": 0,
    "start_time": "2023-04-04T11:22:53.773Z"
   },
   {
    "duration": 0,
    "start_time": "2023-04-04T11:22:53.775Z"
   },
   {
    "duration": 0,
    "start_time": "2023-04-04T11:22:53.776Z"
   },
   {
    "duration": 0,
    "start_time": "2023-04-04T11:22:53.777Z"
   },
   {
    "duration": 0,
    "start_time": "2023-04-04T11:22:53.778Z"
   },
   {
    "duration": 0,
    "start_time": "2023-04-04T11:22:53.779Z"
   },
   {
    "duration": 0,
    "start_time": "2023-04-04T11:22:53.780Z"
   },
   {
    "duration": 0,
    "start_time": "2023-04-04T11:22:53.781Z"
   },
   {
    "duration": 0,
    "start_time": "2023-04-04T11:22:53.782Z"
   },
   {
    "duration": 0,
    "start_time": "2023-04-04T11:22:53.784Z"
   },
   {
    "duration": 0,
    "start_time": "2023-04-04T11:22:53.784Z"
   },
   {
    "duration": 0,
    "start_time": "2023-04-04T11:22:53.787Z"
   },
   {
    "duration": 0,
    "start_time": "2023-04-04T11:22:53.788Z"
   },
   {
    "duration": 0,
    "start_time": "2023-04-04T11:22:53.789Z"
   },
   {
    "duration": 0,
    "start_time": "2023-04-04T11:22:53.790Z"
   },
   {
    "duration": 0,
    "start_time": "2023-04-04T11:22:53.792Z"
   },
   {
    "duration": 0,
    "start_time": "2023-04-04T11:22:53.793Z"
   },
   {
    "duration": 0,
    "start_time": "2023-04-04T11:22:53.794Z"
   },
   {
    "duration": 0,
    "start_time": "2023-04-04T11:22:53.795Z"
   },
   {
    "duration": 0,
    "start_time": "2023-04-04T11:22:53.796Z"
   },
   {
    "duration": 0,
    "start_time": "2023-04-04T11:22:53.797Z"
   },
   {
    "duration": 0,
    "start_time": "2023-04-04T11:22:53.869Z"
   },
   {
    "duration": 0,
    "start_time": "2023-04-04T11:22:53.870Z"
   },
   {
    "duration": 0,
    "start_time": "2023-04-04T11:22:53.871Z"
   },
   {
    "duration": 0,
    "start_time": "2023-04-04T11:22:53.872Z"
   },
   {
    "duration": 0,
    "start_time": "2023-04-04T11:22:53.873Z"
   },
   {
    "duration": 0,
    "start_time": "2023-04-04T11:22:53.874Z"
   },
   {
    "duration": 0,
    "start_time": "2023-04-04T11:22:53.875Z"
   },
   {
    "duration": 0,
    "start_time": "2023-04-04T11:22:53.877Z"
   },
   {
    "duration": 0,
    "start_time": "2023-04-04T11:22:53.878Z"
   },
   {
    "duration": 0,
    "start_time": "2023-04-04T11:22:53.879Z"
   },
   {
    "duration": 0,
    "start_time": "2023-04-04T11:22:53.880Z"
   },
   {
    "duration": 0,
    "start_time": "2023-04-04T11:22:53.880Z"
   },
   {
    "duration": 0,
    "start_time": "2023-04-04T11:22:53.881Z"
   },
   {
    "duration": 0,
    "start_time": "2023-04-04T11:22:53.882Z"
   },
   {
    "duration": 0,
    "start_time": "2023-04-04T11:22:53.883Z"
   },
   {
    "duration": 0,
    "start_time": "2023-04-04T11:22:53.884Z"
   },
   {
    "duration": 0,
    "start_time": "2023-04-04T11:22:53.885Z"
   },
   {
    "duration": 0,
    "start_time": "2023-04-04T11:22:53.886Z"
   },
   {
    "duration": 0,
    "start_time": "2023-04-04T11:22:53.887Z"
   },
   {
    "duration": 0,
    "start_time": "2023-04-04T11:22:53.888Z"
   },
   {
    "duration": 0,
    "start_time": "2023-04-04T11:22:53.889Z"
   },
   {
    "duration": 0,
    "start_time": "2023-04-04T11:22:53.891Z"
   },
   {
    "duration": 161,
    "start_time": "2023-04-04T11:23:27.135Z"
   },
   {
    "duration": 5,
    "start_time": "2023-04-04T11:23:44.330Z"
   },
   {
    "duration": 32,
    "start_time": "2023-04-04T11:23:44.336Z"
   },
   {
    "duration": 3,
    "start_time": "2023-04-04T11:23:44.370Z"
   },
   {
    "duration": 105,
    "start_time": "2023-04-04T11:23:44.375Z"
   },
   {
    "duration": 27,
    "start_time": "2023-04-04T11:23:44.482Z"
   },
   {
    "duration": 4,
    "start_time": "2023-04-04T11:23:44.569Z"
   },
   {
    "duration": 16,
    "start_time": "2023-04-04T11:23:44.575Z"
   },
   {
    "duration": 20,
    "start_time": "2023-04-04T11:23:44.593Z"
   },
   {
    "duration": 62,
    "start_time": "2023-04-04T11:23:44.614Z"
   },
   {
    "duration": 9,
    "start_time": "2023-04-04T11:23:44.678Z"
   },
   {
    "duration": 526,
    "start_time": "2023-04-04T11:23:44.688Z"
   },
   {
    "duration": 635,
    "start_time": "2023-04-04T11:23:45.268Z"
   },
   {
    "duration": 85,
    "start_time": "2023-04-04T11:23:45.905Z"
   },
   {
    "duration": 6,
    "start_time": "2023-04-04T11:23:45.993Z"
   },
   {
    "duration": 174,
    "start_time": "2023-04-04T11:23:46.000Z"
   },
   {
    "duration": 4,
    "start_time": "2023-04-04T11:23:46.176Z"
   },
   {
    "duration": 15,
    "start_time": "2023-04-04T11:23:46.182Z"
   },
   {
    "duration": 70,
    "start_time": "2023-04-04T11:23:46.199Z"
   },
   {
    "duration": 4437,
    "start_time": "2023-04-04T11:23:46.271Z"
   },
   {
    "duration": 74,
    "start_time": "2023-04-04T11:23:50.710Z"
   },
   {
    "duration": 5,
    "start_time": "2023-04-04T11:23:50.786Z"
   },
   {
    "duration": 91,
    "start_time": "2023-04-04T11:23:50.792Z"
   },
   {
    "duration": 37,
    "start_time": "2023-04-04T11:23:50.885Z"
   },
   {
    "duration": 20,
    "start_time": "2023-04-04T11:23:50.969Z"
   },
   {
    "duration": 3,
    "start_time": "2023-04-04T11:23:50.990Z"
   },
   {
    "duration": 10,
    "start_time": "2023-04-04T11:23:50.994Z"
   },
   {
    "duration": 499,
    "start_time": "2023-04-04T11:23:51.005Z"
   },
   {
    "duration": 79,
    "start_time": "2023-04-04T11:23:51.505Z"
   },
   {
    "duration": 4,
    "start_time": "2023-04-04T11:23:51.585Z"
   },
   {
    "duration": 88,
    "start_time": "2023-04-04T11:23:51.590Z"
   },
   {
    "duration": 4,
    "start_time": "2023-04-04T11:23:51.680Z"
   },
   {
    "duration": 14,
    "start_time": "2023-04-04T11:23:51.686Z"
   },
   {
    "duration": 8,
    "start_time": "2023-04-04T11:23:51.701Z"
   },
   {
    "duration": 69,
    "start_time": "2023-04-04T11:23:51.710Z"
   },
   {
    "duration": 14,
    "start_time": "2023-04-04T11:23:51.781Z"
   },
   {
    "duration": 487,
    "start_time": "2023-04-04T11:23:51.797Z"
   },
   {
    "duration": 83,
    "start_time": "2023-04-04T11:23:52.286Z"
   },
   {
    "duration": 5,
    "start_time": "2023-04-04T11:23:52.372Z"
   },
   {
    "duration": 102,
    "start_time": "2023-04-04T11:23:52.379Z"
   },
   {
    "duration": 4,
    "start_time": "2023-04-04T11:23:52.482Z"
   },
   {
    "duration": 7,
    "start_time": "2023-04-04T11:23:52.490Z"
   },
   {
    "duration": 390,
    "start_time": "2023-04-04T11:23:52.498Z"
   },
   {
    "duration": 301,
    "start_time": "2023-04-04T11:23:52.891Z"
   },
   {
    "duration": 705,
    "start_time": "2023-04-04T11:23:53.193Z"
   },
   {
    "duration": 371,
    "start_time": "2023-04-04T11:23:53.900Z"
   },
   {
    "duration": 215,
    "start_time": "2023-04-04T11:23:54.273Z"
   },
   {
    "duration": 281,
    "start_time": "2023-04-04T11:23:54.490Z"
   },
   {
    "duration": 238,
    "start_time": "2023-04-04T11:23:54.773Z"
   },
   {
    "duration": 271,
    "start_time": "2023-04-04T11:23:55.013Z"
   },
   {
    "duration": 204,
    "start_time": "2023-04-04T11:23:55.286Z"
   },
   {
    "duration": 85,
    "start_time": "2023-04-04T11:23:55.491Z"
   },
   {
    "duration": 5,
    "start_time": "2023-04-04T11:23:55.578Z"
   },
   {
    "duration": 21,
    "start_time": "2023-04-04T11:23:55.585Z"
   },
   {
    "duration": 4,
    "start_time": "2023-04-04T11:23:55.608Z"
   },
   {
    "duration": 60,
    "start_time": "2023-04-04T11:23:55.613Z"
   },
   {
    "duration": 13,
    "start_time": "2023-04-04T11:24:18.034Z"
   },
   {
    "duration": 12,
    "start_time": "2023-04-04T11:24:18.340Z"
   },
   {
    "duration": 126,
    "start_time": "2023-04-04T11:24:21.233Z"
   },
   {
    "duration": 20,
    "start_time": "2023-04-04T11:24:26.089Z"
   },
   {
    "duration": 14,
    "start_time": "2023-04-04T11:24:27.207Z"
   },
   {
    "duration": 10,
    "start_time": "2023-04-04T11:24:29.461Z"
   },
   {
    "duration": 13,
    "start_time": "2023-04-04T11:24:33.663Z"
   },
   {
    "duration": 5,
    "start_time": "2023-04-04T11:24:37.344Z"
   },
   {
    "duration": 48,
    "start_time": "2023-04-04T11:24:37.820Z"
   },
   {
    "duration": 19,
    "start_time": "2023-04-04T11:24:38.307Z"
   },
   {
    "duration": 18,
    "start_time": "2023-04-04T11:24:40.098Z"
   },
   {
    "duration": 30,
    "start_time": "2023-04-04T11:24:50.792Z"
   },
   {
    "duration": 5,
    "start_time": "2023-04-04T11:24:51.105Z"
   },
   {
    "duration": 11,
    "start_time": "2023-04-04T11:24:53.091Z"
   },
   {
    "duration": 31,
    "start_time": "2023-04-04T11:24:57.794Z"
   },
   {
    "duration": 118,
    "start_time": "2023-04-04T11:25:05.094Z"
   },
   {
    "duration": 11,
    "start_time": "2023-04-04T11:25:15.989Z"
   },
   {
    "duration": 8,
    "start_time": "2023-04-04T11:25:20.593Z"
   },
   {
    "duration": 13,
    "start_time": "2023-04-04T11:25:25.728Z"
   },
   {
    "duration": 16,
    "start_time": "2023-04-04T11:25:29.304Z"
   },
   {
    "duration": 20,
    "start_time": "2023-04-04T11:25:36.194Z"
   },
   {
    "duration": 4,
    "start_time": "2023-04-04T11:26:50.297Z"
   },
   {
    "duration": 8,
    "start_time": "2023-04-04T11:26:50.303Z"
   },
   {
    "duration": 7,
    "start_time": "2023-04-04T11:26:50.312Z"
   },
   {
    "duration": 82,
    "start_time": "2023-04-04T11:26:50.321Z"
   },
   {
    "duration": 92,
    "start_time": "2023-04-04T11:26:50.406Z"
   },
   {
    "duration": 3,
    "start_time": "2023-04-04T11:26:50.500Z"
   },
   {
    "duration": 73,
    "start_time": "2023-04-04T11:26:50.505Z"
   },
   {
    "duration": 4,
    "start_time": "2023-04-04T11:26:50.580Z"
   },
   {
    "duration": 16,
    "start_time": "2023-04-04T11:26:50.585Z"
   },
   {
    "duration": 69,
    "start_time": "2023-04-04T11:26:50.603Z"
   },
   {
    "duration": 434,
    "start_time": "2023-04-04T11:26:50.674Z"
   },
   {
    "duration": 698,
    "start_time": "2023-04-04T11:26:51.110Z"
   },
   {
    "duration": 74,
    "start_time": "2023-04-04T11:26:51.810Z"
   },
   {
    "duration": 5,
    "start_time": "2023-04-04T11:26:51.887Z"
   },
   {
    "duration": 174,
    "start_time": "2023-04-04T11:26:51.893Z"
   },
   {
    "duration": 5,
    "start_time": "2023-04-04T11:26:52.070Z"
   },
   {
    "duration": 14,
    "start_time": "2023-04-04T11:26:52.076Z"
   },
   {
    "duration": 6,
    "start_time": "2023-04-04T11:26:52.092Z"
   },
   {
    "duration": 5493,
    "start_time": "2023-04-04T11:26:52.100Z"
   },
   {
    "duration": 104,
    "start_time": "2023-04-04T11:26:57.594Z"
   },
   {
    "duration": 71,
    "start_time": "2023-04-04T11:26:57.700Z"
   },
   {
    "duration": 97,
    "start_time": "2023-04-04T11:26:57.773Z"
   },
   {
    "duration": 38,
    "start_time": "2023-04-04T11:26:57.871Z"
   },
   {
    "duration": 76,
    "start_time": "2023-04-04T11:26:57.911Z"
   },
   {
    "duration": 4,
    "start_time": "2023-04-04T11:26:57.988Z"
   },
   {
    "duration": 5,
    "start_time": "2023-04-04T11:26:57.994Z"
   },
   {
    "duration": 510,
    "start_time": "2023-04-04T11:26:58.001Z"
   },
   {
    "duration": 79,
    "start_time": "2023-04-04T11:26:58.513Z"
   },
   {
    "duration": 3,
    "start_time": "2023-04-04T11:26:58.594Z"
   },
   {
    "duration": 81,
    "start_time": "2023-04-04T11:26:58.599Z"
   },
   {
    "duration": 3,
    "start_time": "2023-04-04T11:26:58.682Z"
   },
   {
    "duration": 12,
    "start_time": "2023-04-04T11:26:58.687Z"
   },
   {
    "duration": 67,
    "start_time": "2023-04-04T11:26:58.701Z"
   },
   {
    "duration": 6,
    "start_time": "2023-04-04T11:26:58.771Z"
   },
   {
    "duration": 33,
    "start_time": "2023-04-04T11:26:58.779Z"
   },
   {
    "duration": 489,
    "start_time": "2023-04-04T11:26:58.813Z"
   },
   {
    "duration": 77,
    "start_time": "2023-04-04T11:26:59.304Z"
   },
   {
    "duration": 5,
    "start_time": "2023-04-04T11:26:59.383Z"
   },
   {
    "duration": 101,
    "start_time": "2023-04-04T11:26:59.390Z"
   },
   {
    "duration": 5,
    "start_time": "2023-04-04T11:26:59.492Z"
   },
   {
    "duration": 66,
    "start_time": "2023-04-04T11:26:59.502Z"
   },
   {
    "duration": 336,
    "start_time": "2023-04-04T11:26:59.571Z"
   },
   {
    "duration": 670,
    "start_time": "2023-04-04T11:26:59.909Z"
   },
   {
    "duration": 299,
    "start_time": "2023-04-04T11:27:00.581Z"
   },
   {
    "duration": 387,
    "start_time": "2023-04-04T11:27:00.882Z"
   },
   {
    "duration": 217,
    "start_time": "2023-04-04T11:27:01.270Z"
   },
   {
    "duration": 286,
    "start_time": "2023-04-04T11:27:01.489Z"
   },
   {
    "duration": 306,
    "start_time": "2023-04-04T11:27:01.778Z"
   },
   {
    "duration": 221,
    "start_time": "2023-04-04T11:27:02.086Z"
   },
   {
    "duration": 271,
    "start_time": "2023-04-04T11:27:02.309Z"
   },
   {
    "duration": 89,
    "start_time": "2023-04-04T11:27:02.582Z"
   },
   {
    "duration": 6,
    "start_time": "2023-04-04T11:27:02.674Z"
   },
   {
    "duration": 23,
    "start_time": "2023-04-04T11:27:02.681Z"
   },
   {
    "duration": 66,
    "start_time": "2023-04-04T11:27:02.705Z"
   },
   {
    "duration": 24,
    "start_time": "2023-04-04T11:27:02.773Z"
   },
   {
    "duration": 72,
    "start_time": "2023-04-04T11:27:02.799Z"
   },
   {
    "duration": 10,
    "start_time": "2023-04-04T11:27:02.873Z"
   },
   {
    "duration": 285,
    "start_time": "2023-04-04T11:27:02.884Z"
   },
   {
    "duration": 21,
    "start_time": "2023-04-04T11:27:03.170Z"
   },
   {
    "duration": 13,
    "start_time": "2023-04-04T11:27:03.193Z"
   },
   {
    "duration": 8,
    "start_time": "2023-04-04T11:27:03.268Z"
   },
   {
    "duration": 10,
    "start_time": "2023-04-04T11:27:03.277Z"
   },
   {
    "duration": 16,
    "start_time": "2023-04-04T11:27:03.288Z"
   },
   {
    "duration": 77,
    "start_time": "2023-04-04T11:27:03.305Z"
   },
   {
    "duration": 17,
    "start_time": "2023-04-04T11:27:03.384Z"
   },
   {
    "duration": 68,
    "start_time": "2023-04-04T11:27:03.402Z"
   },
   {
    "duration": 22,
    "start_time": "2023-04-04T11:27:03.471Z"
   },
   {
    "duration": 4,
    "start_time": "2023-04-04T11:27:03.495Z"
   },
   {
    "duration": 69,
    "start_time": "2023-04-04T11:27:03.500Z"
   },
   {
    "duration": 33,
    "start_time": "2023-04-04T11:27:03.571Z"
   },
   {
    "duration": 193,
    "start_time": "2023-04-04T11:27:03.606Z"
   },
   {
    "duration": 4,
    "start_time": "2023-04-04T11:27:03.801Z"
   },
   {
    "duration": 164,
    "start_time": "2023-04-04T11:27:03.807Z"
   },
   {
    "duration": 8572,
    "start_time": "2023-04-04T11:27:21.302Z"
   },
   {
    "duration": 5,
    "start_time": "2023-04-04T11:27:38.100Z"
   },
   {
    "duration": 4,
    "start_time": "2023-04-04T11:27:38.993Z"
   },
   {
    "duration": 53,
    "start_time": "2023-04-04T11:29:15.520Z"
   },
   {
    "duration": 3,
    "start_time": "2023-04-04T11:29:19.409Z"
   },
   {
    "duration": 6,
    "start_time": "2023-04-04T11:29:20.738Z"
   },
   {
    "duration": 3,
    "start_time": "2023-04-04T11:30:07.556Z"
   },
   {
    "duration": 357,
    "start_time": "2023-04-04T11:30:13.217Z"
   },
   {
    "duration": 5,
    "start_time": "2023-04-04T11:30:42.738Z"
   },
   {
    "duration": 4,
    "start_time": "2023-04-04T11:30:52.817Z"
   },
   {
    "duration": 4,
    "start_time": "2023-04-04T11:31:20.384Z"
   },
   {
    "duration": 48,
    "start_time": "2023-04-04T11:31:56.449Z"
   },
   {
    "duration": 5,
    "start_time": "2023-04-04T11:32:00.515Z"
   },
   {
    "duration": 33,
    "start_time": "2023-04-04T11:32:02.256Z"
   },
   {
    "duration": 105,
    "start_time": "2023-04-04T11:32:20.754Z"
   },
   {
    "duration": 1293,
    "start_time": "2023-04-05T12:16:18.246Z"
   },
   {
    "duration": 4,
    "start_time": "2023-04-05T12:16:19.541Z"
   },
   {
    "duration": 26,
    "start_time": "2023-04-05T12:16:19.547Z"
   },
   {
    "duration": 112,
    "start_time": "2023-04-05T12:16:19.575Z"
   },
   {
    "duration": 35,
    "start_time": "2023-04-05T12:16:19.688Z"
   },
   {
    "duration": 12,
    "start_time": "2023-04-05T12:16:19.725Z"
   },
   {
    "duration": 58,
    "start_time": "2023-04-05T12:16:19.739Z"
   },
   {
    "duration": 11,
    "start_time": "2023-04-05T12:16:19.799Z"
   },
   {
    "duration": 42,
    "start_time": "2023-04-05T12:16:19.811Z"
   },
   {
    "duration": 49,
    "start_time": "2023-04-05T12:16:19.856Z"
   },
   {
    "duration": 329,
    "start_time": "2023-04-05T12:16:19.908Z"
   },
   {
    "duration": 261,
    "start_time": "2023-04-05T12:16:20.239Z"
   },
   {
    "duration": 34,
    "start_time": "2023-04-05T12:16:20.502Z"
   },
   {
    "duration": 5,
    "start_time": "2023-04-05T12:16:20.538Z"
   },
   {
    "duration": 75,
    "start_time": "2023-04-05T12:16:20.545Z"
   },
   {
    "duration": 4,
    "start_time": "2023-04-05T12:16:20.622Z"
   },
   {
    "duration": 22,
    "start_time": "2023-04-05T12:16:20.627Z"
   },
   {
    "duration": 6,
    "start_time": "2023-04-05T12:16:20.650Z"
   },
   {
    "duration": 2750,
    "start_time": "2023-04-05T12:16:20.658Z"
   },
   {
    "duration": 55,
    "start_time": "2023-04-05T12:16:23.410Z"
   },
   {
    "duration": 5,
    "start_time": "2023-04-05T12:16:23.467Z"
   },
   {
    "duration": 28,
    "start_time": "2023-04-05T12:16:23.474Z"
   },
   {
    "duration": 40,
    "start_time": "2023-04-05T12:16:23.504Z"
   },
   {
    "duration": 25,
    "start_time": "2023-04-05T12:16:23.546Z"
   },
   {
    "duration": 4,
    "start_time": "2023-04-05T12:16:23.572Z"
   },
   {
    "duration": 9,
    "start_time": "2023-04-05T12:16:23.577Z"
   },
   {
    "duration": 255,
    "start_time": "2023-04-05T12:16:23.587Z"
   },
   {
    "duration": 32,
    "start_time": "2023-04-05T12:16:23.845Z"
   },
   {
    "duration": 4,
    "start_time": "2023-04-05T12:16:23.879Z"
   },
   {
    "duration": 39,
    "start_time": "2023-04-05T12:16:23.885Z"
   },
   {
    "duration": 5,
    "start_time": "2023-04-05T12:16:23.925Z"
   },
   {
    "duration": 14,
    "start_time": "2023-04-05T12:16:23.932Z"
   },
   {
    "duration": 7,
    "start_time": "2023-04-05T12:16:23.948Z"
   },
   {
    "duration": 8,
    "start_time": "2023-04-05T12:16:23.957Z"
   },
   {
    "duration": 12,
    "start_time": "2023-04-05T12:16:23.966Z"
   },
   {
    "duration": 277,
    "start_time": "2023-04-05T12:16:23.980Z"
   },
   {
    "duration": 28,
    "start_time": "2023-04-05T12:16:24.259Z"
   },
   {
    "duration": 6,
    "start_time": "2023-04-05T12:16:24.288Z"
   },
   {
    "duration": 51,
    "start_time": "2023-04-05T12:16:24.295Z"
   },
   {
    "duration": 5,
    "start_time": "2023-04-05T12:16:24.348Z"
   },
   {
    "duration": 7,
    "start_time": "2023-04-05T12:16:24.354Z"
   },
   {
    "duration": 188,
    "start_time": "2023-04-05T12:16:24.363Z"
   },
   {
    "duration": 132,
    "start_time": "2023-04-05T12:16:24.553Z"
   },
   {
    "duration": 165,
    "start_time": "2023-04-05T12:16:24.686Z"
   },
   {
    "duration": 371,
    "start_time": "2023-04-05T12:16:24.852Z"
   },
   {
    "duration": 124,
    "start_time": "2023-04-05T12:16:25.224Z"
   },
   {
    "duration": 145,
    "start_time": "2023-04-05T12:16:25.350Z"
   },
   {
    "duration": 150,
    "start_time": "2023-04-05T12:16:25.496Z"
   },
   {
    "duration": 132,
    "start_time": "2023-04-05T12:16:25.648Z"
   },
   {
    "duration": 108,
    "start_time": "2023-04-05T12:16:25.781Z"
   },
   {
    "duration": 47,
    "start_time": "2023-04-05T12:16:25.891Z"
   },
   {
    "duration": 6,
    "start_time": "2023-04-05T12:16:25.940Z"
   },
   {
    "duration": 36,
    "start_time": "2023-04-05T12:16:25.948Z"
   },
   {
    "duration": 4,
    "start_time": "2023-04-05T12:16:25.986Z"
   },
   {
    "duration": 7,
    "start_time": "2023-04-05T12:16:25.992Z"
   },
   {
    "duration": 19,
    "start_time": "2023-04-05T12:16:26.001Z"
   },
   {
    "duration": 17,
    "start_time": "2023-04-05T12:16:26.021Z"
   },
   {
    "duration": 145,
    "start_time": "2023-04-05T12:16:26.040Z"
   },
   {
    "duration": 31,
    "start_time": "2023-04-05T12:16:26.187Z"
   },
   {
    "duration": 15,
    "start_time": "2023-04-05T12:16:26.220Z"
   },
   {
    "duration": 26,
    "start_time": "2023-04-05T12:16:26.236Z"
   },
   {
    "duration": 19,
    "start_time": "2023-04-05T12:16:26.263Z"
   },
   {
    "duration": 28,
    "start_time": "2023-04-05T12:16:26.284Z"
   },
   {
    "duration": 38,
    "start_time": "2023-04-05T12:16:26.314Z"
   },
   {
    "duration": 19,
    "start_time": "2023-04-05T12:16:26.354Z"
   },
   {
    "duration": 19,
    "start_time": "2023-04-05T12:16:26.374Z"
   },
   {
    "duration": 45,
    "start_time": "2023-04-05T12:16:26.395Z"
   },
   {
    "duration": 4,
    "start_time": "2023-04-05T12:16:26.441Z"
   },
   {
    "duration": 47,
    "start_time": "2023-04-05T12:16:26.447Z"
   },
   {
    "duration": 58,
    "start_time": "2023-04-05T12:16:26.495Z"
   },
   {
    "duration": 85,
    "start_time": "2023-04-05T12:16:26.554Z"
   },
   {
    "duration": 3,
    "start_time": "2023-04-05T12:16:26.641Z"
   },
   {
    "duration": 52,
    "start_time": "2023-04-05T12:16:26.645Z"
   },
   {
    "duration": 4540,
    "start_time": "2023-04-05T12:16:26.699Z"
   },
   {
    "duration": 4,
    "start_time": "2023-04-05T12:16:31.240Z"
   },
   {
    "duration": 101,
    "start_time": "2023-04-05T12:16:31.246Z"
   },
   {
    "duration": 36,
    "start_time": "2023-04-05T12:16:31.349Z"
   },
   {
    "duration": 35,
    "start_time": "2023-04-05T12:16:31.387Z"
   },
   {
    "duration": 41,
    "start_time": "2023-04-05T12:16:41.922Z"
   },
   {
    "duration": 4,
    "start_time": "2023-04-05T12:16:45.346Z"
   },
   {
    "duration": 2,
    "start_time": "2023-04-05T12:16:47.522Z"
   },
   {
    "duration": 226,
    "start_time": "2023-04-05T12:16:47.730Z"
   },
   {
    "duration": 4,
    "start_time": "2023-04-05T12:16:47.958Z"
   },
   {
    "duration": 7,
    "start_time": "2023-04-05T12:16:51.810Z"
   },
   {
    "duration": 3,
    "start_time": "2023-04-05T12:16:52.119Z"
   },
   {
    "duration": 2,
    "start_time": "2023-04-05T12:16:52.402Z"
   },
   {
    "duration": 46,
    "start_time": "2023-04-05T12:17:04.834Z"
   },
   {
    "duration": 189,
    "start_time": "2023-04-05T12:18:00.643Z"
   },
   {
    "duration": 5,
    "start_time": "2023-04-05T12:18:06.718Z"
   },
   {
    "duration": 36,
    "start_time": "2023-04-05T12:18:06.725Z"
   },
   {
    "duration": 18,
    "start_time": "2023-04-05T12:18:06.762Z"
   },
   {
    "duration": 75,
    "start_time": "2023-04-05T12:18:06.782Z"
   },
   {
    "duration": 31,
    "start_time": "2023-04-05T12:18:06.859Z"
   },
   {
    "duration": 26,
    "start_time": "2023-04-05T12:18:06.892Z"
   },
   {
    "duration": 22,
    "start_time": "2023-04-05T12:18:06.920Z"
   },
   {
    "duration": 6,
    "start_time": "2023-04-05T12:18:06.944Z"
   },
   {
    "duration": 20,
    "start_time": "2023-04-05T12:18:06.951Z"
   },
   {
    "duration": 21,
    "start_time": "2023-04-05T12:18:06.973Z"
   },
   {
    "duration": 279,
    "start_time": "2023-04-05T12:18:06.996Z"
   },
   {
    "duration": 262,
    "start_time": "2023-04-05T12:18:07.277Z"
   },
   {
    "duration": 36,
    "start_time": "2023-04-05T12:18:07.541Z"
   },
   {
    "duration": 6,
    "start_time": "2023-04-05T12:18:07.581Z"
   },
   {
    "duration": 72,
    "start_time": "2023-04-05T12:18:07.589Z"
   },
   {
    "duration": 4,
    "start_time": "2023-04-05T12:18:07.662Z"
   },
   {
    "duration": 21,
    "start_time": "2023-04-05T12:18:07.668Z"
   },
   {
    "duration": 11,
    "start_time": "2023-04-05T12:18:07.691Z"
   },
   {
    "duration": 2751,
    "start_time": "2023-04-05T12:18:07.704Z"
   },
   {
    "duration": 56,
    "start_time": "2023-04-05T12:18:10.457Z"
   },
   {
    "duration": 6,
    "start_time": "2023-04-05T12:18:10.515Z"
   },
   {
    "duration": 40,
    "start_time": "2023-04-05T12:18:10.523Z"
   },
   {
    "duration": 47,
    "start_time": "2023-04-05T12:18:10.565Z"
   },
   {
    "duration": 27,
    "start_time": "2023-04-05T12:18:10.613Z"
   },
   {
    "duration": 4,
    "start_time": "2023-04-05T12:18:10.641Z"
   },
   {
    "duration": 23,
    "start_time": "2023-04-05T12:18:10.646Z"
   },
   {
    "duration": 277,
    "start_time": "2023-04-05T12:18:10.671Z"
   },
   {
    "duration": 32,
    "start_time": "2023-04-05T12:18:10.950Z"
   },
   {
    "duration": 3,
    "start_time": "2023-04-05T12:18:10.984Z"
   },
   {
    "duration": 44,
    "start_time": "2023-04-05T12:18:10.989Z"
   },
   {
    "duration": 6,
    "start_time": "2023-04-05T12:18:11.035Z"
   },
   {
    "duration": 27,
    "start_time": "2023-04-05T12:18:11.042Z"
   },
   {
    "duration": 7,
    "start_time": "2023-04-05T12:18:11.071Z"
   },
   {
    "duration": 13,
    "start_time": "2023-04-05T12:18:11.080Z"
   },
   {
    "duration": 13,
    "start_time": "2023-04-05T12:18:11.095Z"
   },
   {
    "duration": 275,
    "start_time": "2023-04-05T12:18:11.118Z"
   },
   {
    "duration": 29,
    "start_time": "2023-04-05T12:18:11.395Z"
   },
   {
    "duration": 6,
    "start_time": "2023-04-05T12:18:11.426Z"
   },
   {
    "duration": 52,
    "start_time": "2023-04-05T12:18:11.433Z"
   },
   {
    "duration": 5,
    "start_time": "2023-04-05T12:18:11.487Z"
   },
   {
    "duration": 22,
    "start_time": "2023-04-05T12:18:11.496Z"
   },
   {
    "duration": 182,
    "start_time": "2023-04-05T12:18:11.520Z"
   },
   {
    "duration": 149,
    "start_time": "2023-04-05T12:18:11.703Z"
   },
   {
    "duration": 193,
    "start_time": "2023-04-05T12:18:11.854Z"
   },
   {
    "duration": 425,
    "start_time": "2023-04-05T12:18:12.049Z"
   },
   {
    "duration": 188,
    "start_time": "2023-04-05T12:18:12.477Z"
   },
   {
    "duration": 185,
    "start_time": "2023-04-05T12:18:12.667Z"
   },
   {
    "duration": 174,
    "start_time": "2023-04-05T12:18:12.853Z"
   },
   {
    "duration": 150,
    "start_time": "2023-04-05T12:18:13.029Z"
   },
   {
    "duration": 122,
    "start_time": "2023-04-05T12:18:13.181Z"
   },
   {
    "duration": 53,
    "start_time": "2023-04-05T12:18:13.304Z"
   },
   {
    "duration": 7,
    "start_time": "2023-04-05T12:18:13.359Z"
   },
   {
    "duration": 46,
    "start_time": "2023-04-05T12:18:13.368Z"
   },
   {
    "duration": 14,
    "start_time": "2023-04-05T12:18:13.415Z"
   },
   {
    "duration": 16,
    "start_time": "2023-04-05T12:18:13.430Z"
   },
   {
    "duration": 23,
    "start_time": "2023-04-05T12:18:13.448Z"
   },
   {
    "duration": 38,
    "start_time": "2023-04-05T12:18:13.473Z"
   },
   {
    "duration": 178,
    "start_time": "2023-04-05T12:18:13.513Z"
   },
   {
    "duration": 31,
    "start_time": "2023-04-05T12:18:13.692Z"
   },
   {
    "duration": 19,
    "start_time": "2023-04-05T12:18:13.724Z"
   },
   {
    "duration": 8,
    "start_time": "2023-04-05T12:18:13.745Z"
   },
   {
    "duration": 22,
    "start_time": "2023-04-05T12:18:13.755Z"
   },
   {
    "duration": 12,
    "start_time": "2023-04-05T12:18:13.778Z"
   },
   {
    "duration": 42,
    "start_time": "2023-04-05T12:18:13.792Z"
   },
   {
    "duration": 23,
    "start_time": "2023-04-05T12:18:13.836Z"
   },
   {
    "duration": 15,
    "start_time": "2023-04-05T12:18:13.861Z"
   },
   {
    "duration": 48,
    "start_time": "2023-04-05T12:18:13.878Z"
   },
   {
    "duration": 4,
    "start_time": "2023-04-05T12:18:13.927Z"
   },
   {
    "duration": 39,
    "start_time": "2023-04-05T12:18:13.932Z"
   },
   {
    "duration": 61,
    "start_time": "2023-04-05T12:18:13.972Z"
   },
   {
    "duration": 104,
    "start_time": "2023-04-05T12:18:14.035Z"
   },
   {
    "duration": 4,
    "start_time": "2023-04-05T12:18:14.141Z"
   },
   {
    "duration": 33,
    "start_time": "2023-04-05T12:18:14.147Z"
   },
   {
    "duration": 5016,
    "start_time": "2023-04-05T12:18:14.182Z"
   },
   {
    "duration": 6,
    "start_time": "2023-04-05T12:18:19.200Z"
   },
   {
    "duration": 30,
    "start_time": "2023-04-05T12:18:19.218Z"
   },
   {
    "duration": 18,
    "start_time": "2023-04-05T12:18:19.250Z"
   },
   {
    "duration": 16,
    "start_time": "2023-04-05T12:18:19.270Z"
   },
   {
    "duration": 15,
    "start_time": "2023-04-05T12:18:19.288Z"
   },
   {
    "duration": 19,
    "start_time": "2023-04-05T12:18:19.305Z"
   },
   {
    "duration": 252,
    "start_time": "2023-04-05T12:18:19.326Z"
   },
   {
    "duration": 4,
    "start_time": "2023-04-05T12:18:19.580Z"
   },
   {
    "duration": 49,
    "start_time": "2023-04-05T12:18:19.585Z"
   },
   {
    "duration": 29,
    "start_time": "2023-04-05T12:18:19.635Z"
   },
   {
    "duration": 30,
    "start_time": "2023-04-05T12:18:19.666Z"
   },
   {
    "duration": 44,
    "start_time": "2023-04-05T12:18:19.698Z"
   },
   {
    "duration": 286,
    "start_time": "2023-04-05T12:18:19.743Z"
   },
   {
    "duration": 136,
    "start_time": "2023-04-05T12:19:57.159Z"
   },
   {
    "duration": 4036,
    "start_time": "2023-04-05T12:20:06.691Z"
   },
   {
    "duration": 3825,
    "start_time": "2023-04-05T12:20:19.698Z"
   },
   {
    "duration": 4405,
    "start_time": "2023-04-05T12:20:37.020Z"
   },
   {
    "duration": 4172,
    "start_time": "2023-04-05T12:21:26.659Z"
   },
   {
    "duration": 3863,
    "start_time": "2023-04-05T12:21:33.762Z"
   },
   {
    "duration": 908,
    "start_time": "2023-04-05T12:22:23.010Z"
   },
   {
    "duration": 625,
    "start_time": "2023-04-05T12:22:29.106Z"
   },
   {
    "duration": 1135,
    "start_time": "2023-04-05T12:24:00.790Z"
   },
   {
    "duration": 1813,
    "start_time": "2023-04-06T08:33:24.374Z"
   },
   {
    "duration": 4,
    "start_time": "2023-04-06T08:33:26.189Z"
   },
   {
    "duration": 5,
    "start_time": "2023-04-06T08:33:26.194Z"
   },
   {
    "duration": 80,
    "start_time": "2023-04-06T08:33:26.201Z"
   },
   {
    "duration": 28,
    "start_time": "2023-04-06T08:33:26.283Z"
   },
   {
    "duration": 3,
    "start_time": "2023-04-06T08:33:26.313Z"
   },
   {
    "duration": 16,
    "start_time": "2023-04-06T08:33:26.318Z"
   },
   {
    "duration": 5,
    "start_time": "2023-04-06T08:33:26.350Z"
   },
   {
    "duration": 31,
    "start_time": "2023-04-06T08:33:26.357Z"
   },
   {
    "duration": 15,
    "start_time": "2023-04-06T08:33:26.389Z"
   },
   {
    "duration": 291,
    "start_time": "2023-04-06T08:33:26.405Z"
   },
   {
    "duration": 331,
    "start_time": "2023-04-06T08:33:26.698Z"
   },
   {
    "duration": 49,
    "start_time": "2023-04-06T08:33:27.031Z"
   },
   {
    "duration": 7,
    "start_time": "2023-04-06T08:33:27.084Z"
   },
   {
    "duration": 76,
    "start_time": "2023-04-06T08:33:27.092Z"
   },
   {
    "duration": 6,
    "start_time": "2023-04-06T08:33:27.171Z"
   },
   {
    "duration": 9,
    "start_time": "2023-04-06T08:33:27.179Z"
   },
   {
    "duration": 7,
    "start_time": "2023-04-06T08:33:27.190Z"
   },
   {
    "duration": 2469,
    "start_time": "2023-04-06T08:33:27.199Z"
   },
   {
    "duration": 75,
    "start_time": "2023-04-06T08:33:29.669Z"
   },
   {
    "duration": 7,
    "start_time": "2023-04-06T08:33:29.746Z"
   },
   {
    "duration": 37,
    "start_time": "2023-04-06T08:33:29.755Z"
   },
   {
    "duration": 63,
    "start_time": "2023-04-06T08:33:29.794Z"
   },
   {
    "duration": 29,
    "start_time": "2023-04-06T08:33:29.860Z"
   },
   {
    "duration": 5,
    "start_time": "2023-04-06T08:33:29.891Z"
   },
   {
    "duration": 22,
    "start_time": "2023-04-06T08:33:29.898Z"
   },
   {
    "duration": 295,
    "start_time": "2023-04-06T08:33:29.921Z"
   },
   {
    "duration": 31,
    "start_time": "2023-04-06T08:33:30.217Z"
   },
   {
    "duration": 5,
    "start_time": "2023-04-06T08:33:30.251Z"
   },
   {
    "duration": 42,
    "start_time": "2023-04-06T08:33:30.259Z"
   },
   {
    "duration": 5,
    "start_time": "2023-04-06T08:33:30.302Z"
   },
   {
    "duration": 35,
    "start_time": "2023-04-06T08:33:30.308Z"
   },
   {
    "duration": 23,
    "start_time": "2023-04-06T08:33:30.345Z"
   },
   {
    "duration": 27,
    "start_time": "2023-04-06T08:33:30.370Z"
   },
   {
    "duration": 34,
    "start_time": "2023-04-06T08:33:30.399Z"
   },
   {
    "duration": 284,
    "start_time": "2023-04-06T08:33:30.434Z"
   },
   {
    "duration": 73,
    "start_time": "2023-04-06T08:33:30.720Z"
   },
   {
    "duration": 5,
    "start_time": "2023-04-06T08:33:30.794Z"
   },
   {
    "duration": 69,
    "start_time": "2023-04-06T08:33:30.800Z"
   },
   {
    "duration": 25,
    "start_time": "2023-04-06T08:33:30.871Z"
   },
   {
    "duration": 22,
    "start_time": "2023-04-06T08:33:30.903Z"
   },
   {
    "duration": 250,
    "start_time": "2023-04-06T08:33:30.926Z"
   },
   {
    "duration": 331,
    "start_time": "2023-04-06T08:33:31.178Z"
   },
   {
    "duration": 178,
    "start_time": "2023-04-06T08:33:31.511Z"
   },
   {
    "duration": 189,
    "start_time": "2023-04-06T08:33:31.691Z"
   },
   {
    "duration": 163,
    "start_time": "2023-04-06T08:33:31.882Z"
   },
   {
    "duration": 154,
    "start_time": "2023-04-06T08:33:32.046Z"
   },
   {
    "duration": 185,
    "start_time": "2023-04-06T08:33:32.203Z"
   },
   {
    "duration": 143,
    "start_time": "2023-04-06T08:33:32.391Z"
   },
   {
    "duration": 130,
    "start_time": "2023-04-06T08:33:32.536Z"
   },
   {
    "duration": 52,
    "start_time": "2023-04-06T08:33:32.668Z"
   },
   {
    "duration": 6,
    "start_time": "2023-04-06T08:33:32.721Z"
   },
   {
    "duration": 39,
    "start_time": "2023-04-06T08:33:32.728Z"
   },
   {
    "duration": 5,
    "start_time": "2023-04-06T08:33:32.771Z"
   },
   {
    "duration": 13,
    "start_time": "2023-04-06T08:33:32.777Z"
   },
   {
    "duration": 22,
    "start_time": "2023-04-06T08:33:32.791Z"
   },
   {
    "duration": 28,
    "start_time": "2023-04-06T08:33:32.815Z"
   },
   {
    "duration": 157,
    "start_time": "2023-04-06T08:33:32.850Z"
   },
   {
    "duration": 49,
    "start_time": "2023-04-06T08:33:33.009Z"
   },
   {
    "duration": 29,
    "start_time": "2023-04-06T08:33:33.060Z"
   },
   {
    "duration": 8,
    "start_time": "2023-04-06T08:33:33.091Z"
   },
   {
    "duration": 24,
    "start_time": "2023-04-06T08:33:33.101Z"
   },
   {
    "duration": 7,
    "start_time": "2023-04-06T08:33:33.127Z"
   },
   {
    "duration": 42,
    "start_time": "2023-04-06T08:33:33.136Z"
   },
   {
    "duration": 22,
    "start_time": "2023-04-06T08:33:33.179Z"
   },
   {
    "duration": 24,
    "start_time": "2023-04-06T08:33:33.203Z"
   },
   {
    "duration": 34,
    "start_time": "2023-04-06T08:33:33.248Z"
   },
   {
    "duration": 3,
    "start_time": "2023-04-06T08:33:33.284Z"
   },
   {
    "duration": 18,
    "start_time": "2023-04-06T08:33:33.289Z"
   },
   {
    "duration": 61,
    "start_time": "2023-04-06T08:33:33.309Z"
   },
   {
    "duration": 105,
    "start_time": "2023-04-06T08:33:33.371Z"
   },
   {
    "duration": 3,
    "start_time": "2023-04-06T08:33:33.478Z"
   },
   {
    "duration": 54,
    "start_time": "2023-04-06T08:33:33.483Z"
   },
   {
    "duration": 4633,
    "start_time": "2023-04-06T08:33:33.538Z"
   },
   {
    "duration": 6,
    "start_time": "2023-04-06T08:33:38.172Z"
   },
   {
    "duration": 15,
    "start_time": "2023-04-06T08:33:38.179Z"
   },
   {
    "duration": 12,
    "start_time": "2023-04-06T08:33:38.195Z"
   },
   {
    "duration": 8,
    "start_time": "2023-04-06T08:33:38.209Z"
   },
   {
    "duration": 4,
    "start_time": "2023-04-06T08:33:38.219Z"
   },
   {
    "duration": 9,
    "start_time": "2023-04-06T08:33:38.224Z"
   },
   {
    "duration": 279,
    "start_time": "2023-04-06T08:33:38.234Z"
   },
   {
    "duration": 3,
    "start_time": "2023-04-06T08:33:38.515Z"
   },
   {
    "duration": 18,
    "start_time": "2023-04-06T08:33:38.520Z"
   },
   {
    "duration": 37,
    "start_time": "2023-04-06T08:33:38.539Z"
   },
   {
    "duration": 19,
    "start_time": "2023-04-06T08:33:38.578Z"
   },
   {
    "duration": 24,
    "start_time": "2023-04-06T08:33:38.598Z"
   },
   {
    "duration": 331,
    "start_time": "2023-04-06T08:33:38.624Z"
   },
   {
    "duration": 18,
    "start_time": "2023-04-06T08:33:38.957Z"
   },
   {
    "duration": 1077671,
    "start_time": "2023-04-06T08:33:58.310Z"
   },
   {
    "duration": 0,
    "start_time": "2023-04-06T08:51:55.984Z"
   },
   {
    "duration": 0,
    "start_time": "2023-04-06T08:51:55.986Z"
   },
   {
    "duration": 0,
    "start_time": "2023-04-06T08:51:55.987Z"
   },
   {
    "duration": 0,
    "start_time": "2023-04-06T08:51:55.989Z"
   },
   {
    "duration": 0,
    "start_time": "2023-04-06T08:51:56.050Z"
   },
   {
    "duration": 5,
    "start_time": "2023-04-06T08:52:02.672Z"
   },
   {
    "duration": 756638,
    "start_time": "2023-04-06T08:52:05.019Z"
   },
   {
    "duration": 191,
    "start_time": "2023-04-07T08:35:16.661Z"
   }
  ],
  "kernelspec": {
   "display_name": "Python 3 (ipykernel)",
   "language": "python",
   "name": "python3"
  },
  "language_info": {
   "codemirror_mode": {
    "name": "ipython",
    "version": 3
   },
   "file_extension": ".py",
   "mimetype": "text/x-python",
   "name": "python",
   "nbconvert_exporter": "python",
   "pygments_lexer": "ipython3",
   "version": "3.9.12"
  },
  "toc": {
   "base_numbering": 1,
   "nav_menu": {},
   "number_sections": true,
   "sideBar": true,
   "skip_h1_title": true,
   "title_cell": "Table of Contents",
   "title_sidebar": "Contents",
   "toc_cell": false,
   "toc_position": {},
   "toc_section_display": true,
   "toc_window_display": false
  }
 },
 "nbformat": 4,
 "nbformat_minor": 5
}
